{
 "cells": [
  {
   "cell_type": "code",
   "execution_count": null,
   "id": "d22db203",
   "metadata": {
    "attributes": {
     "classes": [
      "@eval"
     ],
     "id": ""
    }
   },
   "outputs": [],
   "source": [
    "io = IOBuffer()\n",
    "release = isempty(VERSION.prerelease)\n",
    "v = \"$(VERSION.major).$(VERSION.minor)\"\n",
    "!release && (v = v*\"-$(first(VERSION.prerelease))\")\n",
    "print(io, \"\"\"\n",
    "    # Julia $(v) Documentation\n",
    "\n",
    "    Welcome to the documentation for Julia $(v).\n",
    "\n",
    "    \"\"\")\n",
    "if !release\n",
    "    print(io,\"\"\"\n",
    "        !!! warning \"Work in progress!\"\n",
    "            This documentation is for an unreleased, in-development, version of Julia.\n",
    "        \"\"\")\n",
    "end\n",
    "import Markdown\n",
    "Markdown.parse(String(take!(io)))"
   ]
  },
  {
   "cell_type": "markdown",
   "id": "8386c5a5",
   "metadata": {},
   "source": [
    "请阅读 [release notes](NEWS.md) 以了解自上次发行以来发生了什么变化。"
   ]
  },
  {
   "cell_type": "code",
   "execution_count": null,
   "id": "8a581e42",
   "metadata": {
    "attributes": {
     "classes": [
      "@eval"
     ],
     "id": ""
    }
   },
   "outputs": [],
   "source": [
    "release = isempty(VERSION.prerelease)\n",
    "file = release ? \"julia-$(VERSION).pdf\" :\n",
    "       \"julia-$(VERSION.major).$(VERSION.minor).$(VERSION.patch)-$(first(VERSION.prerelease)).pdf\"\n",
    "url = \"https://raw.githubusercontent.com/JuliaLang/docs.julialang.org/assets/$(file)\"\n",
    "import Markdown\n",
    "Markdown.parse(\"\"\"\n",
    "!!! note\n",
    "    The documentation is also available in PDF format: [$file]($url).\n",
    "\"\"\")"
   ]
  },
  {
   "cell_type": "markdown",
   "id": "fa2b447b",
   "metadata": {},
   "source": [
    "### [简介](@id man-introduction)\n",
    "\n",
    "科学计算对性能一直有着最高的需求，但目前各领域的专家却大量使用较慢的动态语言来开展他们的日常工作。 偏爱动态语言有很多很好的理由，因此我们不会舍弃动态的特性。 幸运的是，现代编程语言设计与编译器技术可以大大消除性能折衷（trade-off），并提供有足够生产力的单一环境进行原型设计，而且能高效地部署性能密集型应用程序。 Julia 语言在这其中扮演了这样一个角色：它是一门灵活的动态语言，适合用于科学计算和数值计算，并且性能可与传统的静态类型语言媲美。\n",
    "\n",
    "由于 Julia 的编译器和其它语言比如 Python 或 R 的解释器有所不同，一开始你可能发现 Julia 的性能并不是很突出。 如果你觉得速度有点慢，我们强烈建议在尝试其他功能前，先读一读文档中的[提高性能的窍门](@ref man-performance-tips)部分。 一旦你理解了 Julia 的运作方式后，写出和 C 一样快的代码就是小菜一碟。\n",
    "\n",
    "Julia features optional typing, multiple dispatch, and good performance, achieved using type inference\n",
    "and [just-in-time (JIT) compilation](https://en.wikipedia.org/wiki/Just-in-time_compilation),\n",
    "implemented using [LLVM](https://en.wikipedia.org/wiki/Low_Level_Virtual_Machine). It is multi-paradigm,\n",
    "combining features of imperative, functional, and object-oriented programming. Julia provides\n",
    "ease and expressiveness for high-level numerical computing, in the same way as languages such\n",
    "as R, MATLAB, and Python, but also supports general programming. To achieve this, Julia builds\n",
    "upon the lineage of mathematical programming languages, but also borrows much from popular dynamic\n",
    "languages, including [Lisp](https://en.wikipedia.org/wiki/Lisp_(programming_language)), [Perl](https://en.wikipedia.org/wiki/Perl_(programming_language)),\n",
    "[Python](https://en.wikipedia.org/wiki/Python_(programming_language)), [Lua](https://en.wikipedia.org/wiki/Lua_(programming_language)),\n",
    "and [Ruby](https://en.wikipedia.org/wiki/Ruby_(programming_language)).\n",
    "\n",
    "Julia 与传统动态语言最重要的区别是：\n",
    "\n",
    "  * The core language imposes very little; Julia Base and the standard library are written in Julia itself, including\n",
    "    primitive operations like integer arithmetic\n",
    "  * A rich language of types for constructing and describing objects, that can also optionally be\n",
    "    used to make type declarations\n",
    "  * The ability to define function behavior across many combinations of argument types via [multiple dispatch](https://en.wikipedia.org/wiki/Multiple_dispatch)\n",
    "  * Automatic generation of efficient, specialized code for different argument types\n",
    "  * Good performance, approaching that of statically-compiled languages like C\n",
    "\n",
    "Although one sometimes speaks of dynamic languages as being \"typeless\", they are definitely not:\n",
    "every object, whether primitive or user-defined, has a type. The lack of type declarations in\n",
    "most dynamic languages, however, means that one cannot instruct the compiler about the types of\n",
    "values, and often cannot explicitly talk about types at all. In static languages, on the other\n",
    "hand, while one can -- and usually must -- annotate types for the compiler, types exist only at\n",
    "compile time and cannot be manipulated or expressed at run time. In Julia, types are themselves\n",
    "run-time objects, and can also be used to convey information to the compiler.\n",
    "\n",
    "While the casual programmer need not explicitly use types or multiple dispatch, they are the core\n",
    "unifying features of Julia: functions are defined on different combinations of argument types,\n",
    "and applied by dispatching to the most specific matching definition. This model is a good fit\n",
    "for mathematical programming, where it is unnatural for the first argument to \"own\" an operation\n",
    "as in traditional object-oriented dispatch. Operators are just functions with special notation\n",
    "-- to extend addition to new user-defined data types, you define new methods for the `+` function.\n",
    "Existing code then seamlessly applies to the new data types.\n",
    "\n",
    "Partly because of run-time type inference (augmented by optional type annotations), and partly\n",
    "because of a strong focus on performance from the inception of the project, Julia's computational\n",
    "efficiency exceeds that of other dynamic languages, and even rivals that of statically-compiled\n",
    "languages. For large scale numerical problems, speed always has been, continues to be, and probably\n",
    "always will be crucial: the amount of data being processed has easily kept pace with Moore's Law\n",
    "over the past decades.\n",
    "\n",
    "Julia aims to create an unprecedented combination of ease-of-use, power, and efficiency in a single\n",
    "language. In addition to the above, some advantages of Julia over comparable systems include:\n",
    "\n",
    "  * Free and open source ([MIT licensed](https://github.com/JuliaLang/julia/blob/master/LICENSE.md))\n",
    "  * User-defined types are as fast and compact as built-ins\n",
    "  * No need to vectorize code for performance; devectorized code is fast\n",
    "  * Designed for parallelism and distributed computation\n",
    "  * Lightweight \"green\" threading ([coroutines](https://en.wikipedia.org/wiki/Coroutine))\n",
    "  * Unobtrusive yet powerful type system\n",
    "  * Elegant and extensible conversions and promotions for numeric and other types\n",
    "  * Efficient support for [Unicode](https://en.wikipedia.org/wiki/Unicode), including but not limited\n",
    "    to [UTF-8](https://en.wikipedia.org/wiki/UTF-8)\n",
    "  * Call C functions directly (no wrappers or special APIs needed)\n",
    "  * Powerful shell-like capabilities for managing other processes\n",
    "  * Lisp-like macros and other metaprogramming facilities"
   ]
  }
 ],
 "metadata": {},
 "nbformat": 4,
 "nbformat_minor": 5
}
