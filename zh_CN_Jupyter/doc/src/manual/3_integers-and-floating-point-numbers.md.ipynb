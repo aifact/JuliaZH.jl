{
 "cells": [
  {
   "cell_type": "markdown",
   "id": "53bd9fe1",
   "metadata": {},
   "source": [
    "# 整数和浮点数\n",
    "\n",
    "整数和浮点值是算术和计算的基础。这些数值的内置表示被称作原始数值类型（numeric primitive），且整数和浮点数在代码中作为立即数时称作数值字面量（numeric literal）。例如，`1` 是个整型字面量，`1.0` 是个浮点型字面量，它们在内存中作为对象的二进制表示就是原始数值类型。\n",
    "\n",
    "Julia 提供了很丰富的原始数值类型，并基于它们定义了一整套算术操作，还提供按位运算符以及一些标准数学函数。这些函数能够直接映射到现代计算机原生支持的数值类型及运算上，因此 Julia 可以充分地利用运算资源。此外，Julia 还为[任意精度算术](@ref)提供了软件支持，对于无法使用原生硬件表示的数值类型，Julia 也能够高效地处理其数值运算。当然，这需要相对的牺牲一些性能。\n",
    "\n",
    "以下是 Julia 的原始数值类型：\n",
    "\n",
    "  * **整数类型：**\n",
    "\n",
    "| 类型              | 带符号？ | 比特数 | 最小值 | 最大值 |\n",
    "|:----------------- |:------- |:-------------- |:-------------- |:------------- |\n",
    "| [`Int8`](@ref)    | ✓       | 8              | -2^7           | 2^7 - 1       |\n",
    "| [`UInt8`](@ref)   |         | 8              | 0              | 2^8 - 1       |\n",
    "| [`Int16`](@ref)   | ✓       | 16             | -2^15          | 2^15 - 1      |\n",
    "| [`UInt16`](@ref)  |         | 16             | 0              | 2^16 - 1      |\n",
    "| [`Int32`](@ref)   | ✓       | 32             | -2^31          | 2^31 - 1      |\n",
    "| [`UInt32`](@ref)  |         | 32             | 0              | 2^32 - 1      |\n",
    "| [`Int64`](@ref)   | ✓       | 64             | -2^63          | 2^63 - 1      |\n",
    "| [`UInt64`](@ref)  |         | 64             | 0              | 2^64 - 1      |\n",
    "| [`Int128`](@ref)  | ✓       | 128            | -2^127         | 2^127 - 1     |\n",
    "| [`UInt128`](@ref) |         | 128            | 0              | 2^128 - 1     |\n",
    "| [`Bool`](@ref)    | N/A     | 8              | `false` (0)    | `true` (1)    |\n",
    "\n",
    "  * **浮点类型:**\n",
    "\n",
    "| 类型              | 精度                                                                      | 比特数 |\n",
    "|:----------------- |:------------------------------------------------------------------------------ |:-------------- |\n",
    "| [`Float16`](@ref) | [半精度](https://en.wikipedia.org/wiki/Half-precision_floating-point_format)     | 16             |\n",
    "| [`Float32`](@ref) | [单精度](https://en.wikipedia.org/wiki/Single_precision_floating-point_format) | 32             |\n",
    "| [`Float64`](@ref) | [双精度](https://en.wikipedia.org/wiki/Double_precision_floating-point_format) | 64             |\n",
    "\n",
    "此外，对[复数和有理数](@ref)的完整支持是在这些原始数据类型之上建立起来的。多亏了 Julia 有一个很灵活的、用户可扩展的[类型提升系统](@ref conversion-and-promotion)，所有的数值类型都无需显式转换就可以很自然地相互进行运算。\n",
    "\n",
    "## 整数\n",
    "\n",
    "整数字面量以标准形式表示："
   ]
  },
  {
   "cell_type": "code",
   "execution_count": null,
   "id": "cb43871e",
   "metadata": {},
   "outputs": [],
   "source": [
    "1"
   ]
  },
  {
   "cell_type": "code",
   "execution_count": null,
   "id": "099e61d8",
   "metadata": {},
   "outputs": [],
   "source": [
    "1234"
   ]
  },
  {
   "cell_type": "markdown",
   "id": "90bbf937",
   "metadata": {},
   "source": [
    "整型字面量的默认类型取决于目标系统是 32 位还是 64 位架构："
   ]
  },
  {
   "cell_type": "code",
   "execution_count": null,
   "id": "95b37a66",
   "metadata": {},
   "outputs": [],
   "source": [
    "# 64 位系统：\n",
    "typeof(1)\n"
   ]
  },
  {
   "cell_type": "code",
   "execution_count": null,
   "id": "357573a2",
   "metadata": {
    "attributes": {
     "classes": [
      "julia-repl"
     ],
     "id": ""
    }
   },
   "outputs": [],
   "source": [
    "# 32 位系统：\n",
    "julia> typeof(1)\n",
    "Int32\n",
    "\n",
    "# 64 位系统：\n",
    "julia> typeof(1)\n",
    "Int64"
   ]
  },
  {
   "cell_type": "markdown",
   "id": "b16f2c9e",
   "metadata": {},
   "source": [
    "Julia 的内置变量 [`Sys.WORD_SIZE`](@ref) 表明了目标系统是 32 位还是 64 位架构："
   ]
  },
  {
   "cell_type": "code",
   "execution_count": null,
   "id": "f81a0c4f",
   "metadata": {
    "attributes": {
     "classes": [
      "julia-repl"
     ],
     "id": ""
    }
   },
   "outputs": [],
   "source": [
    "# 32 位系统：\n",
    "julia> Sys.WORD_SIZE\n",
    "32\n",
    "\n",
    "# 64 位系统：\n",
    "julia> Sys.WORD_SIZE\n",
    "64"
   ]
  },
  {
   "cell_type": "code",
   "execution_count": null,
   "id": "583584ef",
   "metadata": {},
   "outputs": [],
   "source": [
    "Sys.WORD_SIZE"
   ]
  },
  {
   "cell_type": "markdown",
   "id": "801a60b8",
   "metadata": {},
   "source": [
    "Julia 也定义了 `Int` 与 `UInt` 类型，它们分别是系统有符号和无符号的原生整数类型的别名。"
   ]
  },
  {
   "cell_type": "code",
   "execution_count": null,
   "id": "5fa72d8a",
   "metadata": {
    "attributes": {
     "classes": [
      "julia-repl"
     ],
     "id": ""
    }
   },
   "outputs": [],
   "source": [
    "# 32 位系统：\n",
    "julia> Int\n",
    "Int32\n",
    "julia> UInt\n",
    "UInt32\n",
    "\n",
    "# 64 位系统：\n",
    "julia> Int\n",
    "Int64\n",
    "julia> UInt\n",
    "UInt64"
   ]
  },
  {
   "cell_type": "code",
   "execution_count": null,
   "id": "f6248ce6",
   "metadata": {},
   "outputs": [],
   "source": [
    "Int"
   ]
  },
  {
   "cell_type": "code",
   "execution_count": null,
   "id": "fcaf90e5",
   "metadata": {},
   "outputs": [],
   "source": [
    "UInt"
   ]
  },
  {
   "cell_type": "markdown",
   "id": "14c43b28",
   "metadata": {},
   "source": [
    "那些超过 32 位表示范围的大整数，如果能用 64 位表示，那么无论是什么系统都会用 64 位表示："
   ]
  },
  {
   "cell_type": "code",
   "execution_count": null,
   "id": "ed6f37b9",
   "metadata": {},
   "outputs": [],
   "source": [
    "# 32 位或 64 位系统：\n",
    "typeof(3000000000)"
   ]
  },
  {
   "cell_type": "markdown",
   "id": "1c06c876",
   "metadata": {},
   "source": [
    "无符号整数会通过 `0x` 前缀以及十六进制数 `0-9a-f` 来输入和输出（输入也可以使用大写的 `A-F`）。无符号值的位数取决于十六进制数字使用的数量："
   ]
  },
  {
   "cell_type": "code",
   "execution_count": null,
   "id": "431c31c3",
   "metadata": {},
   "outputs": [],
   "source": [
    "x = 0x1"
   ]
  },
  {
   "cell_type": "code",
   "execution_count": null,
   "id": "baf2ed91",
   "metadata": {},
   "outputs": [],
   "source": [
    "typeof(x)"
   ]
  },
  {
   "cell_type": "code",
   "execution_count": null,
   "id": "cfb86e41",
   "metadata": {},
   "outputs": [],
   "source": [
    "x = 0x123"
   ]
  },
  {
   "cell_type": "code",
   "execution_count": null,
   "id": "e111f520",
   "metadata": {},
   "outputs": [],
   "source": [
    "typeof(x)"
   ]
  },
  {
   "cell_type": "code",
   "execution_count": null,
   "id": "bd3e477d",
   "metadata": {},
   "outputs": [],
   "source": [
    "x = 0x1234567"
   ]
  },
  {
   "cell_type": "code",
   "execution_count": null,
   "id": "ccf47e53",
   "metadata": {},
   "outputs": [],
   "source": [
    "typeof(x)"
   ]
  },
  {
   "cell_type": "code",
   "execution_count": null,
   "id": "8ac45084",
   "metadata": {},
   "outputs": [],
   "source": [
    "x = 0x123456789abcdef"
   ]
  },
  {
   "cell_type": "code",
   "execution_count": null,
   "id": "7b1c3a45",
   "metadata": {},
   "outputs": [],
   "source": [
    "typeof(x)"
   ]
  },
  {
   "cell_type": "code",
   "execution_count": null,
   "id": "20ea028a",
   "metadata": {},
   "outputs": [],
   "source": [
    "x = 0x111122223333444455556666777788880x11112222333344445555666677778888"
   ]
  },
  {
   "cell_type": "code",
   "execution_count": null,
   "id": "115e13e7",
   "metadata": {},
   "outputs": [],
   "source": [
    "typeof(x)"
   ]
  },
  {
   "cell_type": "markdown",
   "id": "885c839e",
   "metadata": {},
   "source": [
    "采用这种做法是因为，当人们使用无符号十六进制字面量表示整数值的时候，通常会用它们来表示一个固定的数值字节序列，而不仅仅是个整数值。\n",
    "\n",
    "二进制和八进制字面量也是支持的："
   ]
  },
  {
   "cell_type": "code",
   "execution_count": null,
   "id": "b8631216",
   "metadata": {},
   "outputs": [],
   "source": [
    "x = 0b10"
   ]
  },
  {
   "cell_type": "code",
   "execution_count": null,
   "id": "585690e9",
   "metadata": {},
   "outputs": [],
   "source": [
    "typeof(x)"
   ]
  },
  {
   "cell_type": "code",
   "execution_count": null,
   "id": "48f5c0d0",
   "metadata": {},
   "outputs": [],
   "source": [
    "x = 0o010"
   ]
  },
  {
   "cell_type": "code",
   "execution_count": null,
   "id": "dc72b01e",
   "metadata": {},
   "outputs": [],
   "source": [
    "typeof(x)"
   ]
  },
  {
   "cell_type": "code",
   "execution_count": null,
   "id": "acb1d88a",
   "metadata": {},
   "outputs": [],
   "source": [
    "x = 0x000000000000000011112222333344440x00000000000000001111222233334444"
   ]
  },
  {
   "cell_type": "code",
   "execution_count": null,
   "id": "5560ef95",
   "metadata": {},
   "outputs": [],
   "source": [
    "typeof(x)"
   ]
  },
  {
   "cell_type": "markdown",
   "id": "21a783f6",
   "metadata": {},
   "source": [
    "二进制、八进制和十六进制的字面量都会产生无符号的整数类型。当字面量不是开头全是 0 时，它们二进制数据项的位数会是最少需要的位数。当开头都是 `0` 时，位数取决于一个字面量需要的最少位数，这里的字面量指的是一个有着同样长度但开头都为 `1` 的数。这样用户就可以控制位数了。那些无法使用 `UInt128` 类型存储下的值无法写成这样的字面量。\n",
    "\n",
    "二进制、八进制和十六进制的字面量前面加一个负号 `-`，这样可以产生一个和原字面量有着同样位数而值为原数的补码的数（二补数）："
   ]
  },
  {
   "cell_type": "code",
   "execution_count": null,
   "id": "6d2d8c72",
   "metadata": {},
   "outputs": [],
   "source": [
    "-0x2"
   ]
  },
  {
   "cell_type": "code",
   "execution_count": null,
   "id": "978248e9",
   "metadata": {},
   "outputs": [],
   "source": [
    "-0x0002"
   ]
  },
  {
   "cell_type": "markdown",
   "id": "3abdbfe1",
   "metadata": {},
   "source": [
    "整型等原始数值类型的最小和最大可表示的值可用 [`typemin`](@ref) 和 [`typemax`](@ref) 函数得到："
   ]
  },
  {
   "cell_type": "code",
   "execution_count": null,
   "id": "857bae3e",
   "metadata": {},
   "outputs": [],
   "source": [
    "(typemin(Int32), typemax(Int32))"
   ]
  },
  {
   "cell_type": "markdown",
   "id": "36f5888c",
   "metadata": {},
   "source": [
    "🤦‍♂️学习写法"
   ]
  },
  {
   "cell_type": "code",
   "execution_count": null,
   "id": "ad0bece4",
   "metadata": {},
   "outputs": [],
   "source": [
    "for T in [Int8,Int16,Int32,Int64,Int128,UInt8,UInt16,UInt32,UInt64,UInt128]\n",
    "    println(\"$(lpad(T,7)): [$(typemin(T)),$(typemax(T))]\")\n",
    "end"
   ]
  },
  {
   "cell_type": "markdown",
   "id": "051f5bea",
   "metadata": {},
   "source": [
    "[`typemin`](@ref) 和 [`typemax`](@ref) 返回的值的类型总与所给参数的类型相同。（上面的表达式用了一些目前还没有介绍的功能，包括 [for 循环](@ref man-loops)、[字符串](@ref man-strings)和[字符串插值](@ref string-interpolation)，但这对于已有一些编程经验的用户应该是很容易理解的。）\n",
    "\n",
    "### 溢出行为\n",
    "\n",
    "在 Julia 里，超出一个类型可表示的最大值会导致环绕 (wraparound) 行为："
   ]
  },
  {
   "cell_type": "code",
   "execution_count": null,
   "id": "4aaf8214",
   "metadata": {},
   "outputs": [],
   "source": [
    "x = typemax(Int64)"
   ]
  },
  {
   "cell_type": "code",
   "execution_count": null,
   "id": "3f6cb00b",
   "metadata": {},
   "outputs": [],
   "source": [
    "x + 1"
   ]
  },
  {
   "cell_type": "markdown",
   "id": "643d9c6a",
   "metadata": {},
   "source": [
    "🤦‍♂️没明白"
   ]
  },
  {
   "cell_type": "code",
   "execution_count": null,
   "id": "e13b5250",
   "metadata": {},
   "outputs": [],
   "source": [
    "x + 1 == typemin(Int64)"
   ]
  },
  {
   "cell_type": "markdown",
   "id": "4c5957dc",
   "metadata": {},
   "source": [
    "因此，Julia 的整数算术实际上是[模算数](https://en.wikipedia.org/wiki/Modular_arithmetic)的一种形式，它反映了现代计算机实现底层算术的特点。在可能有溢出产生的程序中，对最值边界出现循环进行显式检查是必要的。否则，推荐使用[任意精度算术](@ref Arbitrary-Precision-Arithmetic)中的 [`BigInt`](@ref) 类型作为替代。\n",
    "\n",
    "下面是溢出行为的一个例子以及如何解决溢出："
   ]
  },
  {
   "cell_type": "code",
   "execution_count": null,
   "id": "f832bd11",
   "metadata": {},
   "outputs": [],
   "source": [
    "10^19"
   ]
  },
  {
   "cell_type": "code",
   "execution_count": null,
   "id": "048679cd",
   "metadata": {},
   "outputs": [],
   "source": [
    "big(10)^19"
   ]
  },
  {
   "cell_type": "markdown",
   "id": "c9caa74f",
   "metadata": {},
   "source": [
    "### 除法错误\n",
    "\n",
    "`div` 函数的整数除法有两种异常情况：除以零，以及使用 -1 去除最小的负数（[`typemin`](@ref)）。\n",
    "这两种情况都会抛出一个 [`DivideError`](@ref) 错误。\n",
    "`rem` 取余函数和 `mod` 取模函数在除零时抛出 [`DivideError`](@ref) 错误。\n",
    "\n",
    "## 浮点数\n",
    "\n",
    "浮点数字面量以标准格式表示，必要时可使用[E-表示法](https://en.wikipedia.org/wiki/Scientific_notation#E_notation)。"
   ]
  },
  {
   "cell_type": "code",
   "execution_count": null,
   "id": "055aa908",
   "metadata": {
    "attributes": {
     "classes": [
      "jldoctest"
     ],
     "id": ""
    }
   },
   "outputs": [],
   "source": [
    "1.0"
   ]
  },
  {
   "cell_type": "code",
   "execution_count": null,
   "id": "778f4226",
   "metadata": {
    "attributes": {
     "classes": [
      "jldoctest"
     ],
     "id": ""
    }
   },
   "outputs": [],
   "source": [
    "1.0"
   ]
  },
  {
   "cell_type": "code",
   "execution_count": null,
   "id": "a625c361",
   "metadata": {
    "attributes": {
     "classes": [
      "jldoctest"
     ],
     "id": ""
    }
   },
   "outputs": [],
   "source": [
    "1."
   ]
  },
  {
   "cell_type": "code",
   "execution_count": null,
   "id": "29ad34c0",
   "metadata": {
    "attributes": {
     "classes": [
      "jldoctest"
     ],
     "id": ""
    }
   },
   "outputs": [],
   "source": [
    "0.5"
   ]
  },
  {
   "cell_type": "code",
   "execution_count": null,
   "id": "0a9688a6",
   "metadata": {
    "attributes": {
     "classes": [
      "jldoctest"
     ],
     "id": ""
    }
   },
   "outputs": [],
   "source": [
    " .5"
   ]
  },
  {
   "cell_type": "code",
   "execution_count": null,
   "id": "efcdb86d",
   "metadata": {
    "attributes": {
     "classes": [
      "jldoctest"
     ],
     "id": ""
    }
   },
   "outputs": [],
   "source": [
    "-1.23"
   ]
  },
  {
   "cell_type": "code",
   "execution_count": null,
   "id": "285d5b8c",
   "metadata": {
    "attributes": {
     "classes": [
      "jldoctest"
     ],
     "id": ""
    }
   },
   "outputs": [],
   "source": [
    "1e10"
   ]
  },
  {
   "cell_type": "code",
   "execution_count": null,
   "id": "5ac96dc5",
   "metadata": {
    "attributes": {
     "classes": [
      "jldoctest"
     ],
     "id": ""
    }
   },
   "outputs": [],
   "source": [
    "2.5e-4"
   ]
  },
  {
   "cell_type": "markdown",
   "id": "a06d47ad",
   "metadata": {},
   "source": [
    "上面的结果都是 [`Float64`](@ref) 类型的值。使用 `f` 替代 `e` 可以得到 [`Float32`](@ref) 类型的字面量："
   ]
  },
  {
   "cell_type": "code",
   "execution_count": 1,
   "id": "579ddc1e",
   "metadata": {
    "attributes": {
     "classes": [
      "jldoctest"
     ],
     "id": ""
    }
   },
   "outputs": [
    {
     "data": {
      "text/plain": [
       "0.5f0"
      ]
     },
     "execution_count": 1,
     "metadata": {},
     "output_type": "execute_result"
    }
   ],
   "source": [
    "x = 0.5f0"
   ]
  },
  {
   "cell_type": "code",
   "execution_count": 2,
   "id": "caf868ce",
   "metadata": {
    "attributes": {
     "classes": [
      "jldoctest"
     ],
     "id": ""
    }
   },
   "outputs": [
    {
     "data": {
      "text/plain": [
       "Float32"
      ]
     },
     "execution_count": 2,
     "metadata": {},
     "output_type": "execute_result"
    }
   ],
   "source": [
    "typeof(x)"
   ]
  },
  {
   "cell_type": "code",
   "execution_count": null,
   "id": "7f204b43",
   "metadata": {
    "attributes": {
     "classes": [
      "jldoctest"
     ],
     "id": ""
    }
   },
   "outputs": [],
   "source": [
    "2.5f-4\n"
   ]
  },
  {
   "cell_type": "markdown",
   "id": "f7b9e09b",
   "metadata": {},
   "source": [
    "数值可以很容易地转换为 [`Float32`](@ref) 类型："
   ]
  },
  {
   "cell_type": "code",
   "execution_count": null,
   "id": "5da035a9",
   "metadata": {
    "attributes": {
     "classes": [
      "jldoctest"
     ],
     "id": ""
    }
   },
   "outputs": [],
   "source": [
    "x = Float32(-1.5)"
   ]
  },
  {
   "cell_type": "code",
   "execution_count": null,
   "id": "29082b83",
   "metadata": {
    "attributes": {
     "classes": [
      "jldoctest"
     ],
     "id": ""
    }
   },
   "outputs": [],
   "source": [
    "typeof(x)"
   ]
  },
  {
   "cell_type": "markdown",
   "id": "781bda07",
   "metadata": {},
   "source": [
    "也存在十六进制的浮点数字面量，但只适用于 [`Float64`](@ref) 类型的值。一般使用 `p` 前缀及以 2 为底的指数来表示："
   ]
  },
  {
   "cell_type": "code",
   "execution_count": null,
   "id": "e32e01a2",
   "metadata": {
    "attributes": {
     "classes": [
      "jldoctest"
     ],
     "id": ""
    }
   },
   "outputs": [],
   "source": [
    "0x1p0"
   ]
  },
  {
   "cell_type": "code",
   "execution_count": null,
   "id": "17af500a",
   "metadata": {
    "attributes": {
     "classes": [
      "jldoctest"
     ],
     "id": ""
    }
   },
   "outputs": [],
   "source": [
    "0x1.8p3"
   ]
  },
  {
   "cell_type": "code",
   "execution_count": null,
   "id": "c657a81c",
   "metadata": {
    "attributes": {
     "classes": [
      "jldoctest"
     ],
     "id": ""
    }
   },
   "outputs": [],
   "source": [
    "x = 0x.4p-1"
   ]
  },
  {
   "cell_type": "code",
   "execution_count": null,
   "id": "ab18536d",
   "metadata": {
    "attributes": {
     "classes": [
      "jldoctest"
     ],
     "id": ""
    }
   },
   "outputs": [],
   "source": [
    "typeof(x)"
   ]
  },
  {
   "cell_type": "markdown",
   "id": "f1ae350f",
   "metadata": {},
   "source": [
    "Julia 也支持半精度浮点数（[`Float16`](@ref)），但它们是使用 [`Float32`](@ref) 进行软件模拟实现的。"
   ]
  },
  {
   "cell_type": "code",
   "execution_count": null,
   "id": "69ff7a8a",
   "metadata": {
    "attributes": {
     "classes": [
      "jldoctest"
     ],
     "id": ""
    }
   },
   "outputs": [],
   "source": [
    "sizeof(Float16(4.))"
   ]
  },
  {
   "cell_type": "code",
   "execution_count": 3,
   "id": "0ece8e8c",
   "metadata": {
    "attributes": {
     "classes": [
      "jldoctest"
     ],
     "id": ""
    }
   },
   "outputs": [
    {
     "data": {
      "text/plain": [
       "Float16(8.0)"
      ]
     },
     "execution_count": 3,
     "metadata": {},
     "output_type": "execute_result"
    }
   ],
   "source": [
    "2*Float16(4.)"
   ]
  },
  {
   "cell_type": "markdown",
   "id": "c86a1b37",
   "metadata": {},
   "source": [
    "下划线 `_` 可用作数字分隔符："
   ]
  },
  {
   "cell_type": "code",
   "execution_count": 4,
   "id": "f693ad31",
   "metadata": {
    "attributes": {
     "classes": [
      "jldoctest"
     ],
     "id": ""
    }
   },
   "outputs": [
    {
     "data": {
      "text/plain": [
       "(10000, 5.0e-9, 0xdeadbeef, 0xb2)"
      ]
     },
     "execution_count": 4,
     "metadata": {},
     "output_type": "execute_result"
    }
   ],
   "source": [
    "10_000, 0.000_000_005, 0xdead_beef, 0b1011_0010"
   ]
  },
  {
   "cell_type": "markdown",
   "id": "3e9c657e",
   "metadata": {},
   "source": [
    "### 浮点数中的零\n",
    "\n",
    "浮点数有[两种零](https://en.wikipedia.org/wiki/Signed_zero)，正零和负零。它们相互相等但有着不同的二进制表示，可以使用 [`bitstring`](@ref) 函数来查看："
   ]
  },
  {
   "cell_type": "code",
   "execution_count": null,
   "id": "7d26062a",
   "metadata": {
    "attributes": {
     "classes": [
      "jldoctest"
     ],
     "id": ""
    }
   },
   "outputs": [],
   "source": [
    "0.0 == -0.0"
   ]
  },
  {
   "cell_type": "code",
   "execution_count": null,
   "id": "2db4b03d",
   "metadata": {
    "attributes": {
     "classes": [
      "jldoctest"
     ],
     "id": ""
    }
   },
   "outputs": [],
   "source": [
    "bitstring(0.0)"
   ]
  },
  {
   "cell_type": "code",
   "execution_count": null,
   "id": "47c31af6",
   "metadata": {
    "attributes": {
     "classes": [
      "jldoctest"
     ],
     "id": ""
    }
   },
   "outputs": [],
   "source": [
    "bitstring(-0.0)"
   ]
  },
  {
   "cell_type": "markdown",
   "id": "b2b508ae",
   "metadata": {},
   "source": [
    "### 特殊的浮点值\n",
    "\n",
    "有三种特定的标准浮点值不和实数轴上任何一点对应：\n",
    "\n",
    "| `Float16` | `Float32` | `Float64` | 名称              | 描述                                                     |\n",
    "|:--------- |:--------- |:--------- |:----------------- |:--------------------------------------------------------------- |\n",
    "| `Inf16`   | `Inf32`   | `Inf`     | 正无穷 | 一个大于所有有限浮点数的数           |\n",
    "| `-Inf16`  | `-Inf32`  | `-Inf`    | 负无穷 | 一个小于所有有限浮点数的数              |\n",
    "| `NaN16`   | `NaN32`   | `NaN`     | 不是数（Not a Number）      | 一个不和任何浮点值（包括自己）相等（`==`）的值 |\n",
    "\n",
    "\n",
    "对于这些非有限浮点值相互之间以及关于其它浮点值的顺序的更多讨论，请参见[数值比较](@ref)。根据 [IEEE 754 标准](https://en.wikipedia.org/wiki/IEEE_754-2008)，这些浮点值是某些算术运算的结果："
   ]
  },
  {
   "cell_type": "code",
   "execution_count": null,
   "id": "5ba76dfe",
   "metadata": {
    "attributes": {
     "classes": [
      "jldoctest"
     ],
     "id": ""
    }
   },
   "outputs": [],
   "source": [
    "1/Inf"
   ]
  },
  {
   "cell_type": "code",
   "execution_count": null,
   "id": "2e4839db",
   "metadata": {
    "attributes": {
     "classes": [
      "jldoctest"
     ],
     "id": ""
    }
   },
   "outputs": [],
   "source": [
    "1/0"
   ]
  },
  {
   "cell_type": "code",
   "execution_count": null,
   "id": "c2d93253",
   "metadata": {
    "attributes": {
     "classes": [
      "jldoctest"
     ],
     "id": ""
    }
   },
   "outputs": [],
   "source": [
    "-5/0"
   ]
  },
  {
   "cell_type": "code",
   "execution_count": null,
   "id": "256b558b",
   "metadata": {
    "attributes": {
     "classes": [
      "jldoctest"
     ],
     "id": ""
    }
   },
   "outputs": [],
   "source": [
    "-Inf"
   ]
  },
  {
   "cell_type": "code",
   "execution_count": null,
   "id": "6f9e3dea",
   "metadata": {
    "attributes": {
     "classes": [
      "jldoctest"
     ],
     "id": ""
    }
   },
   "outputs": [],
   "source": [
    "0.000001/0"
   ]
  },
  {
   "cell_type": "code",
   "execution_count": null,
   "id": "46c9c0d9",
   "metadata": {
    "attributes": {
     "classes": [
      "jldoctest"
     ],
     "id": ""
    }
   },
   "outputs": [],
   "source": [
    "0/0"
   ]
  },
  {
   "cell_type": "code",
   "execution_count": null,
   "id": "14e2631b",
   "metadata": {
    "attributes": {
     "classes": [
      "jldoctest"
     ],
     "id": ""
    }
   },
   "outputs": [],
   "source": [
    "500 + Inf"
   ]
  },
  {
   "cell_type": "code",
   "execution_count": null,
   "id": "0539bc79",
   "metadata": {
    "attributes": {
     "classes": [
      "jldoctest"
     ],
     "id": ""
    }
   },
   "outputs": [],
   "source": [
    "500 - Inf\n",
    "#-Inf"
   ]
  },
  {
   "cell_type": "code",
   "execution_count": null,
   "id": "202b8a69",
   "metadata": {
    "attributes": {
     "classes": [
      "jldoctest"
     ],
     "id": ""
    }
   },
   "outputs": [],
   "source": [
    "Inf + Inf\n",
    "#Inf"
   ]
  },
  {
   "cell_type": "code",
   "execution_count": null,
   "id": "0d1f5962",
   "metadata": {
    "attributes": {
     "classes": [
      "jldoctest"
     ],
     "id": ""
    }
   },
   "outputs": [],
   "source": [
    "Inf - Inf\n",
    "#NaN"
   ]
  },
  {
   "cell_type": "code",
   "execution_count": null,
   "id": "0c7831a6",
   "metadata": {
    "attributes": {
     "classes": [
      "jldoctest"
     ],
     "id": ""
    }
   },
   "outputs": [],
   "source": [
    "Inf * Inf\n",
    "#Inf"
   ]
  },
  {
   "cell_type": "code",
   "execution_count": null,
   "id": "155f760a",
   "metadata": {
    "attributes": {
     "classes": [
      "jldoctest"
     ],
     "id": ""
    }
   },
   "outputs": [],
   "source": [
    "Inf / Inf\n",
    "#NaN"
   ]
  },
  {
   "cell_type": "code",
   "execution_count": null,
   "id": "e05daf2c",
   "metadata": {
    "attributes": {
     "classes": [
      "jldoctest"
     ],
     "id": ""
    }
   },
   "outputs": [],
   "source": [
    "0 * Inf\n",
    "#NaN"
   ]
  },
  {
   "cell_type": "code",
   "execution_count": null,
   "id": "0024fb7e",
   "metadata": {
    "attributes": {
     "classes": [
      "jldoctest"
     ],
     "id": ""
    }
   },
   "outputs": [],
   "source": [
    "NaN == NaN\n",
    "false"
   ]
  },
  {
   "cell_type": "code",
   "execution_count": null,
   "id": "086f99c2",
   "metadata": {
    "attributes": {
     "classes": [
      "jldoctest"
     ],
     "id": ""
    }
   },
   "outputs": [],
   "source": [
    "NaN != NaN\n",
    "#true"
   ]
  },
  {
   "cell_type": "code",
   "execution_count": null,
   "id": "822802ed",
   "metadata": {
    "attributes": {
     "classes": [
      "jldoctest"
     ],
     "id": ""
    }
   },
   "outputs": [],
   "source": [
    "NaN < NaN\n",
    "#false"
   ]
  },
  {
   "cell_type": "code",
   "execution_count": null,
   "id": "c43308a9",
   "metadata": {
    "attributes": {
     "classes": [
      "jldoctest"
     ],
     "id": ""
    }
   },
   "outputs": [],
   "source": [
    "NaN > NaN\n",
    "#false"
   ]
  },
  {
   "cell_type": "markdown",
   "id": "685c043b",
   "metadata": {},
   "source": [
    "[`typemin`](@ref) 和 [`typemax`](@ref) 函数同样适用于浮点类型："
   ]
  },
  {
   "cell_type": "code",
   "execution_count": null,
   "id": "0e01d086",
   "metadata": {
    "attributes": {
     "classes": [
      "jldoctest"
     ],
     "id": ""
    }
   },
   "outputs": [],
   "source": [
    "(typemin(Float16),typemax(Float16))\n",
    "#(-Inf16, Inf16)"
   ]
  },
  {
   "cell_type": "code",
   "execution_count": null,
   "id": "c8d636b4",
   "metadata": {
    "attributes": {
     "classes": [
      "jldoctest"
     ],
     "id": ""
    }
   },
   "outputs": [],
   "source": [
    "(typemin(Float32),typemax(Float32))\n",
    "#(-Inf32, Inf32)"
   ]
  },
  {
   "cell_type": "code",
   "execution_count": null,
   "id": "1779f329",
   "metadata": {
    "attributes": {
     "classes": [
      "jldoctest"
     ],
     "id": ""
    }
   },
   "outputs": [],
   "source": [
    "(typemin(Float64),typemax(Float64))\n",
    "#(-Inf, Inf)"
   ]
  },
  {
   "cell_type": "markdown",
   "id": "849f911a",
   "metadata": {},
   "source": [
    "### 机器精度\n",
    "\n",
    "大多数实数都无法用浮点数准确地表示，因此有必要知道两个相邻可表示的浮点数间的距离。它通常被叫做[机器精度](https://en.wikipedia.org/wiki/Machine_epsilon)。\n",
    "\n",
    "Julia 提供了 [`eps`](@ref) 函数，它可以给出 `1.0` 与下一个 Julia 能表示的浮点数之间的差值："
   ]
  },
  {
   "cell_type": "code",
   "execution_count": 5,
   "id": "9c9ab8b6",
   "metadata": {
    "attributes": {
     "classes": [
      "jldoctest"
     ],
     "id": ""
    }
   },
   "outputs": [
    {
     "data": {
      "text/plain": [
       "1.1920929f-7"
      ]
     },
     "execution_count": 5,
     "metadata": {},
     "output_type": "execute_result"
    }
   ],
   "source": [
    "eps(Float32)"
   ]
  },
  {
   "cell_type": "code",
   "execution_count": null,
   "id": "d224c0f1",
   "metadata": {
    "attributes": {
     "classes": [
      "jldoctest"
     ],
     "id": ""
    }
   },
   "outputs": [],
   "source": [
    "eps(Float64)"
   ]
  },
  {
   "cell_type": "code",
   "execution_count": null,
   "id": "5e09d281",
   "metadata": {
    "attributes": {
     "classes": [
      "jldoctest"
     ],
     "id": ""
    }
   },
   "outputs": [],
   "source": [
    "eps() # 与 eps(Float64) 相同"
   ]
  },
  {
   "cell_type": "markdown",
   "id": "071d0d27",
   "metadata": {},
   "source": [
    "这些值分别是 [`Float32`](@ref) 中的 `2.0^-23` 和 [`Float64`](@ref) 中的 `2.0^-52`。[`eps`](@ref) 函数也可以接受一个浮点值作为参数，然后给出这个值与下一个可表示的浮点数值之间的绝对差。也就是说，`eps(x)` 产生一个和 `x` 类型相同的值，并且  `x + eps(x)` 恰好是比 `x` 更大的下一个可表示的浮点值："
   ]
  },
  {
   "cell_type": "code",
   "execution_count": null,
   "id": "30e04b94",
   "metadata": {
    "attributes": {
     "classes": [
      "jldoctest"
     ],
     "id": ""
    }
   },
   "outputs": [],
   "source": [
    "eps(1.0)"
   ]
  },
  {
   "cell_type": "code",
   "execution_count": null,
   "id": "7c8624ab",
   "metadata": {
    "attributes": {
     "classes": [
      "jldoctest"
     ],
     "id": ""
    }
   },
   "outputs": [],
   "source": [
    "eps(1000.)\n",
    "#1.1368683772161603e-13"
   ]
  },
  {
   "cell_type": "code",
   "execution_count": null,
   "id": "fdec41b0",
   "metadata": {
    "attributes": {
     "classes": [
      "jldoctest"
     ],
     "id": ""
    }
   },
   "outputs": [],
   "source": [
    "eps(1e-27)\n",
    "#1.793662034335766e-43"
   ]
  },
  {
   "cell_type": "code",
   "execution_count": null,
   "id": "bbb60444",
   "metadata": {
    "attributes": {
     "classes": [
      "jldoctest"
     ],
     "id": ""
    }
   },
   "outputs": [],
   "source": [
    "eps(0.0)\n",
    "#5.0e-324"
   ]
  },
  {
   "cell_type": "markdown",
   "id": "9381633b",
   "metadata": {},
   "source": [
    "两个相邻可表示的浮点数之间的距离并不是常数，数值越小，间距越小，数值越大，间距越大。换句话说，可表示的浮点数在实数轴上的零点附近最稠密，并沿着远离零点的方向以指数型的速度变得越来越稀疏。根据定义，`eps(1.0)` 与 `eps(Float64)` 相等，因为 `1.0` 是个 64 位浮点值。\n",
    "\n",
    "Julia 也提供了 [`nextfloat`](@ref) 和 [`prevfloat`](@ref) 两个函数分别返回基于参数的下一个更大或更小的可表示的浮点数："
   ]
  },
  {
   "cell_type": "code",
   "execution_count": 18,
   "id": "46c7418e",
   "metadata": {
    "attributes": {
     "classes": [
      "jldoctest"
     ],
     "id": ""
    }
   },
   "outputs": [
    {
     "data": {
      "text/plain": [
       "1.25f0"
      ]
     },
     "execution_count": 18,
     "metadata": {},
     "output_type": "execute_result"
    }
   ],
   "source": [
    "x = 1.25f0\n",
    "#1.25f0"
   ]
  },
  {
   "cell_type": "code",
   "execution_count": null,
   "id": "b9b9d8c4",
   "metadata": {
    "attributes": {
     "classes": [
      "jldoctest"
     ],
     "id": ""
    }
   },
   "outputs": [],
   "source": [
    "nextfloat(x)\n",
    "#1.2500001f0"
   ]
  },
  {
   "cell_type": "code",
   "execution_count": null,
   "id": "b1dea49e",
   "metadata": {
    "attributes": {
     "classes": [
      "jldoctest"
     ],
     "id": ""
    }
   },
   "outputs": [],
   "source": [
    "prevfloat(x)\n",
    "#1.2499999f0"
   ]
  },
  {
   "cell_type": "code",
   "execution_count": null,
   "id": "da2eb3c0",
   "metadata": {
    "attributes": {
     "classes": [
      "jldoctest"
     ],
     "id": ""
    }
   },
   "outputs": [],
   "source": [
    "bitstring(prevfloat(x))\n",
    "#\"00111111100111111111111111111111\""
   ]
  },
  {
   "cell_type": "code",
   "execution_count": null,
   "id": "7d2f38b6",
   "metadata": {
    "attributes": {
     "classes": [
      "jldoctest"
     ],
     "id": ""
    }
   },
   "outputs": [],
   "source": [
    "bitstring(x)\n",
    "#\"00111111101000000000000000000000\""
   ]
  },
  {
   "cell_type": "code",
   "execution_count": 19,
   "id": "c69bd489",
   "metadata": {
    "attributes": {
     "classes": [
      "jldoctest"
     ],
     "id": ""
    }
   },
   "outputs": [
    {
     "data": {
      "text/plain": [
       "\"00111111101000000000000000000001\""
      ]
     },
     "execution_count": 19,
     "metadata": {},
     "output_type": "execute_result"
    }
   ],
   "source": [
    "bitstring(nextfloat(x))\n",
    "#\"00111111101000000000000000000001\""
   ]
  },
  {
   "cell_type": "markdown",
   "id": "64bbf603",
   "metadata": {},
   "source": [
    "这个例子体现了一般原则，即相邻可表示的浮点数也有着相邻的二进制整数表示。\n",
    "\n",
    "### 舍入模式\n",
    "\n",
    "一个数如果没有精确的浮点表示，就必须被舍入到一个合适的可表示的值。然而，如果想的话，可以根据舍入模式改变舍入的方式，如 [IEEE 754 标准](https://en.wikipedia.org/wiki/IEEE_754-2008) 所述。 \n",
    "\n",
    "Julia 所使用的默认模式总是 [`RoundNearest`](@ref)，指舍入到最接近的可表示的值，这个被舍入的值会使用尽量少的有效位数。\n",
    "\n",
    "### 背景知识与参考文献\n",
    "\n",
    "浮点算术带来了很多微妙之处，它们可能对于那些不熟悉底层实现细节的用户会是很出人意料的。然而，这些微妙之处在大部分科学计算的书籍中以及以下的参考资料中都有详细介绍:\n",
    "\n",
    "  * 浮点数算术的权威指南是 [IEEE 754-2008 标准](https://standards.ieee.org/standard/754-2008.html)；\n",
    "    然而这篇标准在网上无法免费获得。\n",
    "  * 关于浮点数是如何表示的，想要一个简单而明白的介绍的话，可以看 John D. Cook 的[文章](https://www.johndcook.com/blog/2009/04/06/anatomy-of-a-floating-point-number/)以及他关于从这种表示与实数理想的抽象化的差别中产生的一些问题的[介绍](https://www.johndcook.com/blog/2009/04/06/numbers-are-a-leaky-abstraction/)"
   ]
  },
  {
   "cell_type": "code",
   "execution_count": null,
   "id": "c27f3c59",
   "metadata": {},
   "outputs": [],
   "source": [
    "\n",
    "  * 同样推荐 Bruce Dawson 的[一系列关于浮点数的博客文章](https://randomascii.wordpress.com/2012/05/20/thats-not-normalthe-performance-of-odd-floats)。\n",
    "  * 想要一个对浮点数和使用浮点数计算时产生的数值精度问题的极好的、有深度的讨论，可以参见 David Goldberg 的文章 [What Every Computer Scientist Should Know About Floating-Point Arithmetic](http://citeseerx.ist.psu.edu/viewdoc/download?doi=10.1.1.22.6768&rep=rep1&type=pdf)。"
   ]
  },
  {
   "cell_type": "markdown",
   "id": "0b8dfcdb",
   "metadata": {},
   "source": [
    "* 更多延伸文档，包括浮点数的历史、基础理论、问题以及数值计算中很多其它主题的讨论，可以参见 [William Kahan](https://en.wikipedia.org/wiki/William_Kahan) 的[写作集](https://people.eecs.berkeley.edu/~wkahan/)。他以“浮点数之父”闻名。特别感兴趣的话可以看 [An Interview with the Old Man of Floating-Point](https://people.eecs.berkeley.edu/~wkahan/ieee754status/754story.html)。"
   ]
  },
  {
   "cell_type": "markdown",
   "id": "4f390b4d",
   "metadata": {},
   "source": [
    "## [任意精度算术](@id Arbitrary-Precision-Arithmetic)\n",
    "\n",
    "为了允许使用任意精度的整数与浮点数，Julia 分别包装了 [GNU Multiple Precision Arithmetic Library (GMP)](https://gmplib.org) 以及 [GNU MPFR Library](https://www.mpfr.org)。Julia 中的 [`BigInt`](@ref) 与 [`BigFloat`](@ref) 两种类型分别提供了任意精度的整数和浮点数。\n",
    "\n",
    "可以使用构造函数从原始数据类型创建任意精度的整数和浮点数，或是使用[字符串字面量](@ref non-standard-string-literals) [`@big_str`](@ref)、[`parse`](@ref)函数从 `AbstractString` 类型来创建。当创建的整型字面量过大而无法被其它内置的整数类型表示时，也会被输入为 `BigInt` 类型。注意到 Julia 的`Base`中并没有无符号的任意精度的整型（`BigInt`在多数情况下已经够用了），（除十进制外）也可以使用十六进制、八进制、二进制的字面量。\n",
    "\n",
    "得益于 Julia 的[类型提升和类型转换机制](@ref conversion-and-promotion)，一旦被创建，它们就可以像其它数值类型一样参与算术运算。"
   ]
  },
  {
   "cell_type": "code",
   "execution_count": null,
   "id": "2ad69f8f",
   "metadata": {
    "attributes": {
     "classes": [
      "jldoctest"
     ],
     "id": ""
    }
   },
   "outputs": [],
   "source": [
    "BigInt(typemax(Int64)) + 1"
   ]
  },
  {
   "cell_type": "code",
   "execution_count": null,
   "id": "816f9dcf",
   "metadata": {
    "attributes": {
     "classes": [
      "jldoctest"
     ],
     "id": ""
    }
   },
   "outputs": [],
   "source": [
    "big\"123456789012345678901234567890\" + 1\n",
    "#123456789012345678901234567891"
   ]
  },
  {
   "cell_type": "code",
   "execution_count": null,
   "id": "b19a0cb9",
   "metadata": {
    "attributes": {
     "classes": [
      "jldoctest"
     ],
     "id": ""
    }
   },
   "outputs": [],
   "source": [
    "parse(BigInt, \"123456789012345678901234567890\") + 1\n",
    "#123456789012345678901234567891"
   ]
  },
  {
   "cell_type": "code",
   "execution_count": null,
   "id": "cbc74916",
   "metadata": {
    "attributes": {
     "classes": [
      "jldoctest"
     ],
     "id": ""
    }
   },
   "outputs": [],
   "source": [
    "string(big\"2\"^200, base=16)\n",
    "#100000000000000000000000000000000000000000000000000\""
   ]
  },
  {
   "cell_type": "code",
   "execution_count": null,
   "id": "7d334f30",
   "metadata": {
    "attributes": {
     "classes": [
      "jldoctest"
     ],
     "id": ""
    }
   },
   "outputs": [],
   "source": [
    "0x100000000000000000000000000000000-1 == typemax(UInt128)\n",
    "#true"
   ]
  },
  {
   "cell_type": "code",
   "execution_count": null,
   "id": "bce1a9b0",
   "metadata": {
    "attributes": {
     "classes": [
      "jldoctest"
     ],
     "id": ""
    }
   },
   "outputs": [],
   "source": [
    "0x000000000000000000000000000000000\n",
    "#0"
   ]
  },
  {
   "cell_type": "code",
   "execution_count": null,
   "id": "63d2ee8c",
   "metadata": {
    "attributes": {
     "classes": [
      "jldoctest"
     ],
     "id": ""
    }
   },
   "outputs": [],
   "source": [
    "typeof(ans)\n",
    "#BigInt"
   ]
  },
  {
   "cell_type": "code",
   "execution_count": null,
   "id": "ce4146f9",
   "metadata": {
    "attributes": {
     "classes": [
      "jldoctest"
     ],
     "id": ""
    }
   },
   "outputs": [],
   "source": [
    "big\"1.23456789012345678901\"\n",
    "#1.234567890123456789010000000000000000000000000000000000000000000000000000000004"
   ]
  },
  {
   "cell_type": "code",
   "execution_count": null,
   "id": "ce0b6c59",
   "metadata": {
    "attributes": {
     "classes": [
      "jldoctest"
     ],
     "id": ""
    }
   },
   "outputs": [],
   "source": [
    "parse(BigFloat, \"1.23456789012345678901\")\n",
    "#1.234567890123456789010000000000000000000000000000000000000000000000000000000004"
   ]
  },
  {
   "cell_type": "code",
   "execution_count": null,
   "id": "c62b3283",
   "metadata": {
    "attributes": {
     "classes": [
      "jldoctest"
     ],
     "id": ""
    }
   },
   "outputs": [],
   "source": [
    "BigFloat(2.0^66) / 3\n",
    "#2.459565876494606882133333333333333333333333333333333333333333333333333333333344e+19"
   ]
  },
  {
   "cell_type": "code",
   "execution_count": null,
   "id": "e3a48cc3",
   "metadata": {
    "attributes": {
     "classes": [
      "jldoctest"
     ],
     "id": ""
    }
   },
   "outputs": [],
   "source": [
    "factorial(BigInt(40))\n",
    "#815915283247897734345611269596115894272000000000"
   ]
  },
  {
   "cell_type": "markdown",
   "id": "09a3b790",
   "metadata": {},
   "source": [
    "然而，上面的原始类型与 [`BigInt`](@ref)/[`BigFloat`](@ref) 之间的类型提升并不是自动的，需要明确地指定："
   ]
  },
  {
   "cell_type": "code",
   "execution_count": null,
   "id": "602fce13",
   "metadata": {
    "attributes": {
     "classes": [
      "jldoctest"
     ],
     "id": ""
    }
   },
   "outputs": [],
   "source": [
    "x = typemin(Int64)\n",
    "#-9223372036854775808"
   ]
  },
  {
   "cell_type": "code",
   "execution_count": null,
   "id": "dd3f7c9d",
   "metadata": {
    "attributes": {
     "classes": [
      "jldoctest"
     ],
     "id": ""
    }
   },
   "outputs": [],
   "source": [
    "x = x - 1\n",
    "#9223372036854775807"
   ]
  },
  {
   "cell_type": "code",
   "execution_count": null,
   "id": "ff86d6d9",
   "metadata": {
    "attributes": {
     "classes": [
      "jldoctest"
     ],
     "id": ""
    }
   },
   "outputs": [],
   "source": [
    "typeof(x)\n",
    "#Int64"
   ]
  },
  {
   "cell_type": "code",
   "execution_count": null,
   "id": "0a939130",
   "metadata": {
    "attributes": {
     "classes": [
      "jldoctest"
     ],
     "id": ""
    }
   },
   "outputs": [],
   "source": [
    "y = BigInt(typemin(Int64))\n",
    "#-9223372036854775808"
   ]
  },
  {
   "cell_type": "code",
   "execution_count": null,
   "id": "4a560007",
   "metadata": {
    "attributes": {
     "classes": [
      "jldoctest"
     ],
     "id": ""
    }
   },
   "outputs": [],
   "source": [
    "y = y - 1\n",
    "#-9223372036854775809"
   ]
  },
  {
   "cell_type": "code",
   "execution_count": null,
   "id": "69c85cbd",
   "metadata": {
    "attributes": {
     "classes": [
      "jldoctest"
     ],
     "id": ""
    }
   },
   "outputs": [],
   "source": [
    "typeof(y)\n",
    "#BigInt"
   ]
  },
  {
   "cell_type": "markdown",
   "id": "b79d88c4",
   "metadata": {},
   "source": [
    "[`BigFloat`](@ref) 的默认精度（有效数字的位数）和舍入模式可以通过调用 [`setprecision`](@ref) 和 [`setrounding`](@ref) 来全局地改变，所有之后的计算都会根据这些改变进行。还有一种方法，可以使用同样的函数以及 `do`-block 来只在运行一个特定代码块时改变精度和舍入模式："
   ]
  },
  {
   "cell_type": "code",
   "execution_count": null,
   "id": "6e1a22d6",
   "metadata": {
    "attributes": {
     "classes": [
      "jldoctest"
     ],
     "id": ""
    }
   },
   "outputs": [],
   "source": [
    "setrounding(BigFloat, RoundUp) do\n",
    "           BigFloat(1) + parse(BigFloat, \"0.1\")\n",
    "       end\n",
    "#1.100000000000000000000000000000000000000000000000000000000000000000000000000003"
   ]
  },
  {
   "cell_type": "code",
   "execution_count": null,
   "id": "d15a6f39",
   "metadata": {
    "attributes": {
     "classes": [
      "jldoctest"
     ],
     "id": ""
    }
   },
   "outputs": [],
   "source": [
    "setrounding(BigFloat, RoundDown) do\n",
    "           BigFloat(1) + parse(BigFloat, \"0.1\")\n",
    "       end\n",
    "#1.099999999999999999999999999999999999999999999999999999999999999999999999999986"
   ]
  },
  {
   "cell_type": "code",
   "execution_count": 16,
   "id": "2dfd4f8c",
   "metadata": {
    "attributes": {
     "classes": [
      "jldoctest"
     ],
     "id": ""
    }
   },
   "outputs": [
    {
     "data": {
      "text/plain": [
       "1.1000000000004"
      ]
     },
     "execution_count": 16,
     "metadata": {},
     "output_type": "execute_result"
    }
   ],
   "source": [
    "setprecision(40) do\n",
    "           BigFloat(1) + parse(BigFloat, \"0.1\")\n",
    "       end\n",
    "#1.1000000000004"
   ]
  },
  {
   "cell_type": "markdown",
   "id": "489fc25b",
   "metadata": {},
   "source": [
    "## [数值字面量系数](@id man-numeric-literal-coefficients)\n",
    "\n",
    "为了让常见的数值公式和表达式更清楚，Julia 允许变量直接跟在一个数值字面量后，暗指乘法。这可以让写多项式变得很清楚："
   ]
  },
  {
   "cell_type": "code",
   "execution_count": 8,
   "id": "1da33a1d",
   "metadata": {},
   "outputs": [
    {
     "data": {
      "text/plain": [
       "3"
      ]
     },
     "execution_count": 8,
     "metadata": {},
     "output_type": "execute_result"
    }
   ],
   "source": [
    "x = 3"
   ]
  },
  {
   "cell_type": "code",
   "execution_count": 9,
   "id": "7a54a2d7",
   "metadata": {},
   "outputs": [
    {
     "data": {
      "text/plain": [
       "10"
      ]
     },
     "execution_count": 9,
     "metadata": {},
     "output_type": "execute_result"
    }
   ],
   "source": [
    "2x^2 - 3x + 1"
   ]
  },
  {
   "cell_type": "code",
   "execution_count": 10,
   "id": "931317f6",
   "metadata": {},
   "outputs": [
    {
     "data": {
      "text/plain": [
       "13.0"
      ]
     },
     "execution_count": 10,
     "metadata": {},
     "output_type": "execute_result"
    }
   ],
   "source": [
    "1.5x^2 - .5x + 1"
   ]
  },
  {
   "cell_type": "markdown",
   "id": "cc160f6d",
   "metadata": {},
   "source": [
    "也会让写指数函数变得更加优雅："
   ]
  },
  {
   "cell_type": "code",
   "execution_count": 11,
   "id": "d1d25da5",
   "metadata": {},
   "outputs": [
    {
     "data": {
      "text/plain": [
       "64"
      ]
     },
     "execution_count": 11,
     "metadata": {},
     "output_type": "execute_result"
    }
   ],
   "source": [
    "2^2x"
   ]
  },
  {
   "cell_type": "markdown",
   "id": "f58c06cd",
   "metadata": {},
   "source": [
    "数值字面量系数的优先级跟一元运算符相同，比如说取相反数。所以 `2^3x` 会被解析成 `2^(3x)`，而 `2x^3` 会被解析成 `2*(x^3)`。\n",
    "\n",
    "数值字面量也能作为被括号表达式的系数："
   ]
  },
  {
   "cell_type": "code",
   "execution_count": 13,
   "id": "d270a64f",
   "metadata": {},
   "outputs": [
    {
     "data": {
      "text/plain": [
       "3"
      ]
     },
     "execution_count": 13,
     "metadata": {},
     "output_type": "execute_result"
    }
   ],
   "source": [
    "2(x-1)^2 - 3(x-1) + 1"
   ]
  },
  {
   "cell_type": "markdown",
   "id": "096d65c4",
   "metadata": {},
   "source": [
    "!!! note\n",
    "    用于隐式乘法的数值字面量系数的优先级高于其它的二元运算符，例如乘法（`*`）和除法（`/`、`\\` 以及 `//`）。这意味着，比如说，`1 / 2im` 等于 `-0.5im` 以及 `6 // 2(2+1)` 等于 `1 // 1`。\n",
    "\n",
    "此外，括号表达式可以被用作变量的系数，暗指表达式与变量相乘："
   ]
  },
  {
   "cell_type": "code",
   "execution_count": 15,
   "id": "593bee0a",
   "metadata": {},
   "outputs": [
    {
     "data": {
      "text/plain": [
       "6"
      ]
     },
     "execution_count": 15,
     "metadata": {},
     "output_type": "execute_result"
    }
   ],
   "source": [
    "(x-1)x"
   ]
  },
  {
   "cell_type": "markdown",
   "id": "11052c0a",
   "metadata": {},
   "source": [
    "但是，无论是把两个括号表达式并列，还是把变量放在括号表达式之前，都不会被用作暗指乘法："
   ]
  },
  {
   "cell_type": "code",
   "execution_count": 14,
   "id": "bb9d9c37",
   "metadata": {},
   "outputs": [
    {
     "ename": "LoadError",
     "evalue": "MethodError: objects of type Int64 are not callable\nMaybe you forgot to use an operator such as \u001b[36m*, ^, %, / etc. \u001b[39m?",
     "output_type": "error",
     "traceback": [
      "MethodError: objects of type Int64 are not callable\nMaybe you forgot to use an operator such as \u001b[36m*, ^, %, / etc. \u001b[39m?",
      "",
      "Stacktrace:",
      " [1] top-level scope",
      "   @ In[14]:1",
      " [2] eval",
      "   @ .\\boot.jl:373 [inlined]",
      " [3] include_string(mapexpr::typeof(REPL.softscope), mod::Module, code::String, filename::String)",
      "   @ Base .\\loading.jl:1196"
     ]
    }
   ],
   "source": [
    "(x-1)(x+1)"
   ]
  },
  {
   "cell_type": "code",
   "execution_count": null,
   "id": "5037a2b8",
   "metadata": {},
   "outputs": [],
   "source": [
    "x(x+1)"
   ]
  },
  {
   "cell_type": "markdown",
   "id": "02eb9144",
   "metadata": {},
   "source": [
    "这两种表达式都会被解释成函数调用：所有不是数值字面量的表达式，后面紧跟一个括号，就会被解释成使用括号内的值来调用函数（更多关于函数的信息请参见[函数](@ref)）。因此，在这两种情况中，都会因为左边的值并不是函数而产生错误。\n",
    "\n",
    "上述的语法糖显著地降低了在写普通数学公式时的视觉干扰。注意数值字面量系数和后面用来相乘的标识符或括号表达式之间不能有空格。\n",
    "\n",
    "### 语法冲突\n",
    "\n",
    "并列的字面量系数语法可能和两种数值字面量语法产生冲突：十六进制、八进制、二进制整数字面量以及浮点字面量的工程表示法。下面是几种会产生语法冲突的情况：\n",
    "\n",
    "  * 十六进制整数字面量 `0xff` 可能被解释成数值字面量 `0` 乘以变量 `xff`。类似的，像 `0o777` 或`0b01001010` 使用八进制或二进制表示法也会形成冲突。\n",
    "  * 浮点字面量表达式 `1e10` 可以被解释成数值字面量 `1` 乘以变量 `e10`，与之等价的 `E`-表示法也存在类似的情况。\n",
    "  * 32-bit 的浮点数字面量 `1.5f22` 被解释成数值字面量 `1.5` 乘以变量 `f22`。\n",
    "\n",
    "在这些所有的情况中，歧义都优先解释为数值字面量：\n",
    "\n",
    "  * `0x` /`0o`/`0b` 开头的表达式总是十六进制/八进制/二进制字面量。\n",
    "  * 数值开头跟着 `e` 和 `E` 的表达式总是浮点字面量。\n",
    "  * 数值开头跟着 `f` 的表达式总是 32-bit 浮点字面量。\n",
    "\n",
    "由于历史原因 `E` 和 `e` 在数值字面量上是等价的，与之不同的是，`F` 只是一个行为和 `f` 不同的字母。因此开头为 `F` 的表达式将会被\n",
    "解析为一个数值字面量乘以一个变量，例如 `1.5F22`等价于 `1.5 * F22`。\n",
    "\n",
    "## 零和一的字面量\n",
    "\n",
    "Julia 提供了 0 和 1 的字面量函数，可以返回特定类型或所给变量的类型。\n",
    "\n",
    "| 函数          | 描述                                      |\n",
    "|:----------------- |:------------------------------------------------ |\n",
    "| [`zero(x)`](@ref) | `x` 类型或变量 `x` 的类型的零字面量 |\n",
    "| [`one(x)`](@ref)  | `x` 类型或变量 `x` 的类型的一字面量 |\n",
    "\n",
    "这些函数在[数值比较](@ref)中可以用来避免不必要的[类型转换](@ref conversion-and-promotion)带来的开销。\n",
    "\n",
    "例如："
   ]
  },
  {
   "cell_type": "code",
   "execution_count": null,
   "id": "ce9a77f7",
   "metadata": {
    "attributes": {
     "classes": [
      "jldoctest"
     ],
     "id": ""
    }
   },
   "outputs": [],
   "source": [
    "zero(Float32)\n",
    "#0.0f0"
   ]
  },
  {
   "cell_type": "code",
   "execution_count": null,
   "id": "5cc78794",
   "metadata": {
    "attributes": {
     "classes": [
      "jldoctest"
     ],
     "id": ""
    }
   },
   "outputs": [],
   "source": [
    "zero(1.0)\n",
    "#0.0"
   ]
  },
  {
   "cell_type": "code",
   "execution_count": null,
   "id": "02b4c17b",
   "metadata": {
    "attributes": {
     "classes": [
      "jldoctest"
     ],
     "id": ""
    }
   },
   "outputs": [],
   "source": [
    "one(Int32)\n",
    "#1"
   ]
  },
  {
   "cell_type": "code",
   "execution_count": null,
   "id": "86c70031",
   "metadata": {
    "attributes": {
     "classes": [
      "jldoctest"
     ],
     "id": ""
    }
   },
   "outputs": [],
   "source": [
    "one(BigFloat)\n",
    "#1.0"
   ]
  }
 ],
 "metadata": {
  "kernelspec": {
   "display_name": "Julia 1.7.0",
   "language": "julia",
   "name": "julia-1.7"
  },
  "language_info": {
   "file_extension": ".jl",
   "mimetype": "application/julia",
   "name": "julia",
   "version": "1.7.0"
  }
 },
 "nbformat": 4,
 "nbformat_minor": 5
}
