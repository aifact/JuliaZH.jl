{
 "cells": [
  {
   "cell_type": "markdown",
   "id": "c263fb92",
   "metadata": {},
   "source": [
    "# [Unicode 输入表](@id Unicode-Input)\n",
    "\n",
    "在 Julia REPL 或其它编辑器中，可以像输入 LaTeX 符号一样，用 tab 补全下表列出的 Unicode 字符。在 REPL 中，可以先按 `?` 进入帮助模式，然后将 Unicode 字符复制粘贴进去，一般在文档开头就会写输入方式。\n",
    "\n",
    "!!! warning"
   ]
  },
  {
   "cell_type": "code",
   "execution_count": null,
   "id": "5c8656e0",
   "metadata": {},
   "outputs": [],
   "source": [
    "此表第二列可能会缺失一些字符，对某些字符的显示效果也可能会与在 Julia REPL 中不一致。如果发生了这种状况，强烈建议用户检查一下浏览器或 REPL 的字体设置，目前已知很多字体都有显示问题。"
   ]
  },
  {
   "cell_type": "code",
   "execution_count": null,
   "id": "c49a6aa6",
   "metadata": {
    "attributes": {
     "classes": [
      "@eval"
     ],
     "id": ""
    }
   },
   "outputs": [],
   "source": [
    "#\n",
    "# Generate a table containing all LaTeX and Emoji tab completions available in the REPL.\n",
    "#\n",
    "import REPL, Markdown\n",
    "const NBSP = '\\u00A0'\n",
    "\n",
    "function tab_completions(symbols...)\n",
    "    completions = Dict{String, Vector{String}}()\n",
    "    for each in symbols, (k, v) in each\n",
    "        completions[v] = push!(get!(completions, v, String[]), k)\n",
    "    end\n",
    "    return completions\n",
    "end\n",
    "\n",
    "function unicode_data()\n",
    "    file = normpath(Sys.BINDIR, \"..\", \"UnicodeData.txt\")\n",
    "    names = Dict{UInt32, String}()\n",
    "    open(file) do unidata\n",
    "        for line in readlines(unidata)\n",
    "            id, name, desc = split(line, \";\")[[1, 2, 11]]\n",
    "            codepoint = parse(UInt32, \"0x$id\")\n",
    "            names[codepoint] = titlecase(lowercase(\n",
    "                name == \"\" ? desc : desc == \"\" ? name : \"$name / $desc\"))\n",
    "        end\n",
    "    end\n",
    "    return names\n",
    "end\n",
    "\n",
    "# Surround combining characters with no-break spaces (i.e '\\u00A0'). Follows the same format\n",
    "# for how unicode is displayed on the unicode.org website:\n",
    "# http://unicode.org/cldr/utility/character.jsp?a=0300\n",
    "function fix_combining_chars(char)\n",
    "    cat = Base.Unicode.category_code(char)\n",
    "    return cat == 6 || cat == 8 ? \"$NBSP$char$NBSP\" : \"$char\"\n",
    "end\n",
    "\n",
    "\n",
    "function table_entries(completions, unicode_dict)\n",
    "    entries = [[\n",
    "        \"Code point(s)\", \"Character(s)\",\n",
    "        \"Tab completion sequence(s)\", \"Unicode name(s)\"\n",
    "    ]]\n",
    "    for (chars, inputs) in sort!(collect(completions), by = first)\n",
    "        code_points, unicode_names, characters = String[], String[], String[]\n",
    "        for char in chars\n",
    "            push!(code_points, \"U+$(uppercase(string(UInt32(char), base = 16, pad = 5)))\")\n",
    "            push!(unicode_names, get(unicode_dict, UInt32(char), \"(No Unicode name)\"))\n",
    "            push!(characters, isempty(characters) ? fix_combining_chars(char) : \"$char\")\n",
    "        end\n",
    "        push!(entries, [\n",
    "            join(code_points, \" + \"), join(characters),\n",
    "            join(inputs, \", \"), join(unicode_names, \" + \")\n",
    "        ])\n",
    "    end\n",
    "    return Markdown.Table(entries, [:l, :l, :l, :l])\n",
    "end\n",
    "\n",
    "table_entries(\n",
    "    tab_completions(\n",
    "        REPL.REPLCompletions.latex_symbols,\n",
    "        REPL.REPLCompletions.emoji_symbols\n",
    "    ),\n",
    "    unicode_data()\n",
    ")"
   ]
  }
 ],
 "metadata": {},
 "nbformat": 4,
 "nbformat_minor": 5
}
