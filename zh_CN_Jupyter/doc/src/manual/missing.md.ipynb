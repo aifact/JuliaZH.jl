{
 "cells": [
  {
   "cell_type": "markdown",
   "id": "6dace0e5",
   "metadata": {},
   "source": [
    "# [缺失值](@id missing)\n",
    "\n",
    "Julia 支持表示统计意义上的缺失值，即某个变量在观察中没有可用值，但在理论上存在有效值的情况。缺失值由 [`missing`](@ref) 对象表示，该对象是 [`Missing`](@ref) 类型的唯一实例。`missing` 等价于 [SQL 中的 `NULL`](https://en.wikipedia.org/wiki/NULL_(SQL)) 以及 [R 中的 `NA`](https://cran.r-project.org/doc/manuals/r-release/R-lang.html#NA-handling)，并在大多数情况下表现得与它们一样。\n",
    "\n",
    "## 缺失值的传播\n",
    "\n",
    "`missing`  值会自动在标准数学运算符和函数中*传播*。对于这类函数，其某个运算对象的值的不确定性会导致其结果的不确定性。在应用中，上述情形意味着若在数学操作中包括 `missing`  值，其结果也常常返回 `missing` 值。"
   ]
  },
  {
   "cell_type": "code",
   "execution_count": null,
   "id": "1a3284ae",
   "metadata": {
    "attributes": {
     "classes": [
      "jldoctest"
     ],
     "id": ""
    }
   },
   "outputs": [],
   "source": [
    "julia> missing + 1\n",
    "missing\n",
    "\n",
    "julia> \"a\" * missing\n",
    "missing\n",
    "\n",
    "julia> abs(missing)\n",
    "missing"
   ]
  },
  {
   "cell_type": "markdown",
   "id": "efe3cf19",
   "metadata": {},
   "source": [
    "由于`missing` 是 Julia 中的正常对象，此传播规则仅在可实现该对象的函数中应用。这可通过定义包含 `Missing` 类的实参的特定方法，或是简单地让函数可接受此类实参，并将该它们传入已具备传播规则的函数（如标准数学运算符）中实现。在包中定义新传播规则时，应考虑缺失值的传播是否具有实际意义，并在传播有意义时定义合适的方法。在某个不包含接受 `Missing` 类实参方法的函数中传递缺失值，则抛出 [`MethodError`](@ref)的报错，正如其它类型一样。\n",
    "\n",
    "若希望函数不传播缺失值，可将其按照 [Missings.jl](https://github.com/JuliaData/Missings.jl) 库中的 `passmissing` 函数封装起来。例如，将 `f(x)` 封装为 `passmissing(f)(x)`。\n",
    "\n",
    "## 相等和比较运算符\n",
    "\n",
    "标准相等和比较运算符遵循上面给出的传播规则：如果任何操作数是 `missing`，那么结果是 `missing`。这是一些例子"
   ]
  },
  {
   "cell_type": "code",
   "execution_count": null,
   "id": "a0e44ac1",
   "metadata": {
    "attributes": {
     "classes": [
      "jldoctest"
     ],
     "id": ""
    }
   },
   "outputs": [],
   "source": [
    "julia> missing == 1\n",
    "missing\n",
    "\n",
    "julia> missing == missing\n",
    "missing\n",
    "\n",
    "julia> missing < 1\n",
    "missing\n",
    "\n",
    "julia> 2 >= missing\n",
    "missing"
   ]
  },
  {
   "cell_type": "markdown",
   "id": "de58dda8",
   "metadata": {},
   "source": [
    "特别要注意，`missing == missing` 返回 `missing`，所以 `==` 不能用于测试值是否为缺失值。要测试 `x` 是否为 `missing`，请用 [`ismissing(x)`](@ref)。\n",
    "\n",
    "特殊的比较运算符 [`isequal`](@ref) 和 [`===`](@ref) 是传播规则的例外：它们总返回一个 `Bool` 值，即使存在 `missing` 值，并认为 `missing` 与 `missing` 相等且其与任何其它值不同。因此，它们可用于测试某个值是否为 `missing`。"
   ]
  },
  {
   "cell_type": "code",
   "execution_count": null,
   "id": "114dd4b4",
   "metadata": {
    "attributes": {
     "classes": [
      "jldoctest"
     ],
     "id": ""
    }
   },
   "outputs": [],
   "source": [
    "julia> missing === 1\n",
    "false\n",
    "\n",
    "julia> isequal(missing, 1)\n",
    "false\n",
    "\n",
    "julia> missing === missing\n",
    "true\n",
    "\n",
    "julia> isequal(missing, missing)\n",
    "true"
   ]
  },
  {
   "cell_type": "markdown",
   "id": "5195b8a8",
   "metadata": {},
   "source": [
    "[`isless`](@ref) 运算符是另一个例外：`missing` 被认为比任何其它值大。此运算符被用于 [`sort`](@ref)，因此 `missing` 值被放置在所有其它值之后。"
   ]
  },
  {
   "cell_type": "code",
   "execution_count": null,
   "id": "84ca0299",
   "metadata": {
    "attributes": {
     "classes": [
      "jldoctest"
     ],
     "id": ""
    }
   },
   "outputs": [],
   "source": [
    "julia> isless(1, missing)\n",
    "true\n",
    "\n",
    "julia> isless(missing, Inf)\n",
    "false\n",
    "\n",
    "julia> isless(missing, missing)\n",
    "false"
   ]
  },
  {
   "cell_type": "markdown",
   "id": "8e9da7c6",
   "metadata": {},
   "source": [
    "## 逻辑运算符\n",
    "\n",
    "逻辑（或布尔）运算符 [`|`](@ref)、[`&`](@ref) 和 [`xor`](@ref) 是另一种特殊情况，因为它们只有在逻辑上是必需的时传递 `missing` 值。对于这些运算符来说，结果是否不确定取决于具体操作，其遵循[*三值逻辑*](https://en.wikipedia.org/wiki/Three-valued_logic)的既定规则，这些规则也由 SQL 中的 `NULL` 以及 R 中的 `NA` 实现。这个抽象的定义实际上对应于一系列相对自然的行为，这最好通过具体的例子来解释。\n",
    "\n",
    "让我们用逻辑「或」运算符 [`|`](@ref) 来说明这个原理。按照布尔逻辑的规则，如果其中一个操作数是 `true`，则另一个操作数对结果没影响，结果总是 `true`。"
   ]
  },
  {
   "cell_type": "code",
   "execution_count": null,
   "id": "245ca060",
   "metadata": {
    "attributes": {
     "classes": [
      "jldoctest"
     ],
     "id": ""
    }
   },
   "outputs": [],
   "source": [
    "julia> true | true\n",
    "true\n",
    "\n",
    "julia> true | false\n",
    "true\n",
    "\n",
    "julia> false | true\n",
    "true"
   ]
  },
  {
   "cell_type": "markdown",
   "id": "d725f939",
   "metadata": {},
   "source": [
    "基于观察，我们可以得出结论，如果其中一个操作数是 `true` 而另一个是 `missing`，我们知道结果为 `true`，尽管另一个参数的实际值存在不确定性。如果我们能观察到第二个操作数的实际值，那么它只能是 `true` 或 `false`，在两种情况下结果都是 `true`。因此，在这种特殊情况下，值的缺失不会传播"
   ]
  },
  {
   "cell_type": "code",
   "execution_count": null,
   "id": "331671fc",
   "metadata": {
    "attributes": {
     "classes": [
      "jldoctest"
     ],
     "id": ""
    }
   },
   "outputs": [],
   "source": [
    "julia> true | missing\n",
    "true\n",
    "\n",
    "julia> missing | true\n",
    "true"
   ]
  },
  {
   "cell_type": "markdown",
   "id": "234fdd0c",
   "metadata": {},
   "source": [
    "相反地，如果其中一个操作数是 `false`，结果可能是 `true` 或 `false`，这取决于另一个操作数的值。因此，如果一个操作数是 `missing`，那么结果也是 `missing`。"
   ]
  },
  {
   "cell_type": "code",
   "execution_count": null,
   "id": "ab19db85",
   "metadata": {
    "attributes": {
     "classes": [
      "jldoctest"
     ],
     "id": ""
    }
   },
   "outputs": [],
   "source": [
    "julia> false | true\n",
    "true\n",
    "\n",
    "julia> true | false\n",
    "true\n",
    "\n",
    "julia> false | false\n",
    "false\n",
    "\n",
    "julia> false | missing\n",
    "missing\n",
    "\n",
    "julia> missing | false\n",
    "missing"
   ]
  },
  {
   "cell_type": "markdown",
   "id": "94e9132f",
   "metadata": {},
   "source": [
    "逻辑「且」运算符 [`&`](@ref) 的行为与 `|` 运算符相似，区别在于当其中一个操作数为 `false` 时，值的缺失不会传播。例如，当第一个操作数是 `false` 时"
   ]
  },
  {
   "cell_type": "code",
   "execution_count": null,
   "id": "16092bd9",
   "metadata": {
    "attributes": {
     "classes": [
      "jldoctest"
     ],
     "id": ""
    }
   },
   "outputs": [],
   "source": [
    "julia> false & false\n",
    "false\n",
    "\n",
    "julia> false & true\n",
    "false\n",
    "\n",
    "julia> false & missing\n",
    "false"
   ]
  },
  {
   "cell_type": "markdown",
   "id": "e2eb79ef",
   "metadata": {},
   "source": [
    "另一方面，当其中一个操作数为 `true` 时，值的缺失会传播，例如，当第一个操作数是 `true` 时"
   ]
  },
  {
   "cell_type": "code",
   "execution_count": null,
   "id": "95d03f78",
   "metadata": {
    "attributes": {
     "classes": [
      "jldoctest"
     ],
     "id": ""
    }
   },
   "outputs": [],
   "source": [
    "julia> true & true\n",
    "true\n",
    "\n",
    "julia> true & false\n",
    "false\n",
    "\n",
    "julia> true & missing\n",
    "missing"
   ]
  },
  {
   "cell_type": "markdown",
   "id": "b51a85bf",
   "metadata": {},
   "source": [
    "最后，逻辑「异或」运算符 [`xor`](@ref) 总传播 `missing` 值，因为两个操作数都总是对结果产生影响。还要注意，否定运算符 [`!`](@ref) 在操作数是 `missing` 时返回 `missing`，这就像其它一元运算符。\n",
    "\n",
    "## 流程控制和短路运算符\n",
    "\n",
    "流程控制操作符，包括 [`if`](@ref)、[`while`](@ref) 和[三元运算符](@ref man-conditional-evaluation) `x ? y : z`，不允许缺失值。这是因为如果我们能够观察实际值，它是 `true` 还是 `false` 是不确定的，这意味着我们不知道程序应该如何运行。一旦在以下上下文中遇到 `missing` 值，就会抛出 [`TypeError`](@ref)"
   ]
  },
  {
   "cell_type": "code",
   "execution_count": null,
   "id": "eb21740f",
   "metadata": {
    "attributes": {
     "classes": [
      "jldoctest"
     ],
     "id": ""
    }
   },
   "outputs": [],
   "source": [
    "julia> if missing\n",
    "           println(\"here\")\n",
    "       end\n",
    "ERROR: TypeError: non-boolean (Missing) used in boolean context"
   ]
  },
  {
   "cell_type": "markdown",
   "id": "8883be57",
   "metadata": {},
   "source": [
    "出于同样的原因，并与上面给出的逻辑运算符相反，短路布尔运算符 [`&&`](@ref) 和 [`||`](@ref) 在当前操作数的值决定下一个操作数是否求值时不允许 `missing` 值。例如"
   ]
  },
  {
   "cell_type": "code",
   "execution_count": null,
   "id": "3405da13",
   "metadata": {
    "attributes": {
     "classes": [
      "jldoctest"
     ],
     "id": ""
    }
   },
   "outputs": [],
   "source": [
    "julia> missing || false\n",
    "ERROR: TypeError: non-boolean (Missing) used in boolean context\n",
    "\n",
    "julia> missing && false\n",
    "ERROR: TypeError: non-boolean (Missing) used in boolean context\n",
    "\n",
    "julia> true && missing && false\n",
    "ERROR: TypeError: non-boolean (Missing) used in boolean context"
   ]
  },
  {
   "cell_type": "markdown",
   "id": "f826b07e",
   "metadata": {},
   "source": [
    "另一方面，如果无需 `missing` 值即可确定结果，则不会引发错误。代码在对 `missing` 操作数求值前短路，以及 `missing` 是最后一个操作数都是这种情况。"
   ]
  },
  {
   "cell_type": "code",
   "execution_count": null,
   "id": "828ca625",
   "metadata": {
    "attributes": {
     "classes": [
      "jldoctest"
     ],
     "id": ""
    }
   },
   "outputs": [],
   "source": [
    "julia> true && missing\n",
    "missing\n",
    "\n",
    "julia> false && missing\n",
    "false"
   ]
  },
  {
   "cell_type": "markdown",
   "id": "0881f0fe",
   "metadata": {},
   "source": [
    "## 包含缺失值的数组\n",
    "\n",
    "包含缺失值的数组的创建就像其它数组"
   ]
  },
  {
   "cell_type": "code",
   "execution_count": null,
   "id": "c40c5dba",
   "metadata": {
    "attributes": {
     "classes": [
      "jldoctest"
     ],
     "id": ""
    }
   },
   "outputs": [],
   "source": [
    "julia> [1, missing]\n",
    "2-element Vector{Union{Missing, Int64}}:\n",
    " 1\n",
    "  missing"
   ]
  },
  {
   "cell_type": "markdown",
   "id": "2d2152aa",
   "metadata": {},
   "source": [
    "如此示例所示，此类数组的元素类型为 `Union{Missing, T}`，其中 `T` 为非缺失值的类型。这简单地反映了以下事实：数组条目可以具有类型 `T`（此处为 `Int64`）或类型 `Missing`。此类数组使用高效的内存存储，其等价于一个 `Array{T}` 和一个 `Array{UInt8}` 的组合，前者保存实际值，后者表示条目类型（即它是 `Missing` 还是 `T`）。\n",
    "\n",
    "允许缺失值的数组可以使用标准语法构造。使用 `Array{Union{Missing, T}}(missing, dims)` 来创建填充缺失值的数组："
   ]
  },
  {
   "cell_type": "code",
   "execution_count": null,
   "id": "f9c3da93",
   "metadata": {
    "attributes": {
     "classes": [
      "jldoctest"
     ],
     "id": ""
    }
   },
   "outputs": [],
   "source": [
    "julia> Array{Union{Missing, String}}(missing, 2, 3)\n",
    "2×3 Matrix{Union{Missing, String}}:\n",
    " missing  missing  missing\n",
    " missing  missing  missing"
   ]
  },
  {
   "cell_type": "markdown",
   "id": "acbfb04c",
   "metadata": {},
   "source": [
    "!!! note\n",
    "    使用 `undef` 或 `similar` 目前可能会给出一个填充有 `missing` 的数组，但这不是获得这样一个数组的正确方法。 请使用如上所示的 `missing` 构造函数。\n",
    "\n",
    "允许但不包含 `missing` 值的数组可使用 [`convert`](@ref) 转换回不允许缺失值的数组。如果该数组包含 `missing` 值，在类型转换时会抛出 `MethodError`"
   ]
  },
  {
   "cell_type": "code",
   "execution_count": null,
   "id": "ecd9b95c",
   "metadata": {
    "attributes": {
     "classes": [
      "jldoctest"
     ],
     "id": ""
    }
   },
   "outputs": [],
   "source": [
    "julia> x = Union{Missing, String}[\"a\", \"b\"]\n",
    "2-element Vector{Union{Missing, String}}:\n",
    " \"a\"\n",
    " \"b\"\n",
    "\n",
    "julia> convert(Array{String}, x)\n",
    "2-element Vector{String}:\n",
    " \"a\"\n",
    " \"b\"\n",
    "\n",
    "julia> y = Union{Missing, String}[missing, \"b\"]\n",
    "2-element Vector{Union{Missing, String}}:\n",
    " missing\n",
    " \"b\"\n",
    "\n",
    "julia> convert(Array{String}, y)\n",
    "ERROR: MethodError: Cannot `convert` an object of type Missing to an object of type String"
   ]
  },
  {
   "cell_type": "markdown",
   "id": "527fa378",
   "metadata": {},
   "source": [
    "## 跳过缺失值\n",
    "\n",
    "由于 `missing` 会随着标准数学运算符传播，归约函数会在调用的数组包含缺失值时返回 `missing`"
   ]
  },
  {
   "cell_type": "code",
   "execution_count": null,
   "id": "b7b971b0",
   "metadata": {
    "attributes": {
     "classes": [
      "jldoctest"
     ],
     "id": ""
    }
   },
   "outputs": [],
   "source": [
    "julia> sum([1, missing])\n",
    "missing"
   ]
  },
  {
   "cell_type": "markdown",
   "id": "b7fe6f08",
   "metadata": {},
   "source": [
    "在这种情况下，使用 [`skipmissing`](@ref) 即可跳过缺失值"
   ]
  },
  {
   "cell_type": "code",
   "execution_count": null,
   "id": "0cbc39c3",
   "metadata": {
    "attributes": {
     "classes": [
      "jldoctest"
     ],
     "id": ""
    }
   },
   "outputs": [],
   "source": [
    "julia> sum(skipmissing([1, missing]))\n",
    "1"
   ]
  },
  {
   "cell_type": "markdown",
   "id": "95b6e5d8",
   "metadata": {},
   "source": [
    "此函数方便地返回一个可高效滤除 `missing` 值的迭代器。因此，它可应用于所有支持迭代器的函数"
   ]
  },
  {
   "cell_type": "code",
   "execution_count": null,
   "id": "9e96721a",
   "metadata": {
    "attributes": {
     "": "",
     "classes": [],
     "id": ""
    }
   },
   "outputs": [],
   "source": [
    "julia> x = skipmissing([3, missing, 2, 1])\n",
    "skipmissing(Union{Missing, Int64}[3, missing, 2, 1])\n",
    "\n",
    "julia> maximum(x)\n",
    "3\n",
    "\n",
    "julia> mean(x)\n",
    "2.0\n",
    "\n",
    "julia> mapreduce(sqrt, +, x)\n",
    "4.146264369941973\n"
   ]
  },
  {
   "cell_type": "markdown",
   "id": "3ebd5101",
   "metadata": {},
   "source": [
    "通过在某数组中调用 `skipmissing` 生成的对象能以其在所属数组中的位置进行索引。对应缺失值的指标并不有效，若尝试使用之会丢出报错（它们在 `keys` 和 `eachindex` 中同样是被跳过的）。"
   ]
  },
  {
   "cell_type": "code",
   "execution_count": null,
   "id": "13438d53",
   "metadata": {},
   "outputs": [],
   "source": [
    "julia> x[1]\n",
    "3\n",
    "\n",
    "julia> x[2]\n",
    "ERROR: MissingException: the value at index (2,) is missing\n",
    "[...]"
   ]
  },
  {
   "cell_type": "markdown",
   "id": "c0b8a809",
   "metadata": {},
   "source": [
    "这允许对索引进行操作的函数与`skipmissing`结合使用。搜索和查找函数尤其如此，它们返回对`skipmissing` 函数返回的对象有效的索引，这些索引也是*在父数组中*匹配条目的索引。"
   ]
  },
  {
   "cell_type": "code",
   "execution_count": null,
   "id": "380554cc",
   "metadata": {},
   "outputs": [],
   "source": [
    "julia> findall(==(1), x)\n",
    "1-element Vector{Int64}:\n",
    " 4\n",
    "\n",
    "julia> findfirst(!iszero, x)\n",
    "1\n",
    "\n",
    "julia> argmax(x)\n",
    "1"
   ]
  },
  {
   "cell_type": "markdown",
   "id": "e1957dea",
   "metadata": {},
   "source": [
    "使用 [`collect`](@ref) 提取非 `missing` 值并将它们存储在一个数组里"
   ]
  },
  {
   "cell_type": "code",
   "execution_count": null,
   "id": "b3a2e85f",
   "metadata": {},
   "outputs": [],
   "source": [
    "julia> collect(x)\n",
    "3-element Vector{Int64}:\n",
    " 3\n",
    " 2\n",
    " 1"
   ]
  },
  {
   "cell_type": "markdown",
   "id": "d91b564a",
   "metadata": {},
   "source": [
    "## 数组上的逻辑运算\n",
    "\n",
    "上面描述的逻辑运算符的三值逻辑也适用于针对数组的函数。因此，使用 [`==`](@ref) 运算符的数组相等性测试中，若在未知 `missing` 条目实际值时无法确定结果，就返回 `missing`。在实际应用中意味着，在待比较数组中所有非缺失值都相等，且某个或全部数组包含缺失值（也许在不同位置）时会返回 `missing`。"
   ]
  },
  {
   "cell_type": "code",
   "execution_count": null,
   "id": "756a0383",
   "metadata": {
    "attributes": {
     "classes": [
      "jldoctest"
     ],
     "id": ""
    }
   },
   "outputs": [],
   "source": [
    "julia> [1, missing] == [2, missing]\n",
    "false\n",
    "\n",
    "julia> [1, missing] == [1, missing]\n",
    "missing\n",
    "\n",
    "julia> [1, 2, missing] == [1, missing, 2]\n",
    "missing"
   ]
  },
  {
   "cell_type": "markdown",
   "id": "8a29fe16",
   "metadata": {},
   "source": [
    "对于单个值，[`isequal`](@ref) 会将 `missing` 值视为与其它 `missing` 值相等但与非缺失值不同。"
   ]
  },
  {
   "cell_type": "code",
   "execution_count": null,
   "id": "7733b8c7",
   "metadata": {
    "attributes": {
     "classes": [
      "jldoctest"
     ],
     "id": ""
    }
   },
   "outputs": [],
   "source": [
    "julia> isequal([1, missing], [1, missing])\n",
    "true\n",
    "\n",
    "julia> isequal([1, 2, missing], [1, missing, 2])\n",
    "false"
   ]
  },
  {
   "cell_type": "markdown",
   "id": "42646577",
   "metadata": {},
   "source": [
    "函数 [`any`](@ref) 和 [`all`](@ref) 遵循三值逻辑的规则，会在结果无法被确定时返回 `missing`。"
   ]
  },
  {
   "cell_type": "code",
   "execution_count": null,
   "id": "7b7c1574",
   "metadata": {
    "attributes": {
     "classes": [
      "jldoctest"
     ],
     "id": ""
    }
   },
   "outputs": [],
   "source": [
    "julia> all([true, missing])\n",
    "missing\n",
    "\n",
    "julia> all([false, missing])\n",
    "false\n",
    "\n",
    "julia> any([true, missing])\n",
    "true\n",
    "\n",
    "julia> any([false, missing])\n",
    "missing"
   ]
  }
 ],
 "metadata": {},
 "nbformat": 4,
 "nbformat_minor": 5
}
