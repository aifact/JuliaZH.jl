{
 "cells": [
  {
   "cell_type": "markdown",
   "id": "b4063534",
   "metadata": {},
   "source": [
    "# 栈跟踪\n",
    "\n",
    "`StackTraces` 模块提供了简单的栈跟踪功能，这些栈跟踪信息既可读又易于编程使用。\n",
    "\n",
    "## 查看栈跟踪\n",
    "\n",
    "获取栈跟踪信息的主要函数是 [`stacktrace`](@ref)："
   ]
  },
  {
   "cell_type": "code",
   "execution_count": null,
   "id": "916c8a27",
   "metadata": {
    "attributes": {
     "classes": [
      "julia-repl"
     ],
     "id": ""
    }
   },
   "outputs": [],
   "source": [
    "6-element Array{Base.StackTraces.StackFrame,1}:\n",
    " top-level scope\n",
    " eval at boot.jl:317 [inlined]\n",
    " eval(::Module, ::Expr) at REPL.jl:5\n",
    " eval_user_input(::Any, ::REPL.REPLBackend) at REPL.jl:85\n",
    " macro expansion at REPL.jl:116 [inlined]\n",
    " (::getfield(REPL, Symbol(\"##28#29\")){REPL.REPLBackend})() at event.jl:92"
   ]
  },
  {
   "cell_type": "markdown",
   "id": "ea1a4b09",
   "metadata": {},
   "source": [
    "调用 [`stacktrace()`](@ref) 会返回一个 [`StackTraces.StackFrame`](@ref) 数组。为了使用方便，可以用 [`StackTraces.StackTrace`](@ref) 来代替 `Vector{StackFrame}`。下面例子中 `[...]` 的意思是这部分输出的内容可能会根据代码的实际执行情况而定。"
   ]
  },
  {
   "cell_type": "code",
   "execution_count": null,
   "id": "b7537410",
   "metadata": {
    "attributes": {
     "classes": [
      "julia-repl"
     ],
     "id": ""
    }
   },
   "outputs": [],
   "source": [
    "julia> example() = stacktrace()\n",
    "example (generic function with 1 method)\n",
    "\n",
    "julia> example()\n",
    "7-element Array{Base.StackTraces.StackFrame,1}:\n",
    " example() at REPL[1]:1\n",
    " top-level scope\n",
    " eval at boot.jl:317 [inlined]\n",
    "[...]\n",
    "\n",
    "julia> @noinline child() = stacktrace()\n",
    "child (generic function with 1 method)\n",
    "\n",
    "julia> @noinline parent() = child()\n",
    "parent (generic function with 1 method)\n",
    "\n",
    "julia> grandparent() = parent()\n",
    "grandparent (generic function with 1 method)\n",
    "\n",
    "julia> grandparent()\n",
    "9-element Array{Base.StackTraces.StackFrame,1}:\n",
    " child() at REPL[3]:1\n",
    " parent() at REPL[4]:1\n",
    " grandparent() at REPL[5]:1\n",
    "[...]"
   ]
  },
  {
   "cell_type": "markdown",
   "id": "333b8647",
   "metadata": {},
   "source": [
    "注意，在调用 [`stacktrace()`](@ref) 的时，通常会出现 `eval at boot.jl` 这帧。\n",
    "当从 REPL 里调用 [`stacktrace()`](@ref) 的时候，还会显示 `REPL.jl` 里的一些额外帧，就像下面一样："
   ]
  },
  {
   "cell_type": "code",
   "execution_count": null,
   "id": "1418b077",
   "metadata": {
    "attributes": {
     "classes": [
      "julia-repl"
     ],
     "id": ""
    }
   },
   "outputs": [],
   "source": [
    "julia> example() = stacktrace()\n",
    "example (generic function with 1 method)\n",
    "\n",
    "julia> example()\n",
    "7-element Array{Base.StackTraces.StackFrame,1}:\n",
    " example() at REPL[1]:1\n",
    " top-level scope\n",
    " eval at boot.jl:317 [inlined]\n",
    " eval(::Module, ::Expr) at REPL.jl:5\n",
    " eval_user_input(::Any, ::REPL.REPLBackend) at REPL.jl:85\n",
    " macro expansion at REPL.jl:116 [inlined]\n",
    " (::getfield(REPL, Symbol(\"##28#29\")){REPL.REPLBackend})() at event.jl:92"
   ]
  },
  {
   "cell_type": "markdown",
   "id": "16892e60",
   "metadata": {},
   "source": [
    "## 抽取有用信息\n",
    "\n",
    "每个 [`StackTraces.StackFrame`](@ref) 都会包含函数名，文件名，代码行数，lambda 信息，一个用于确认此帧是否被内联的标帜，一个用于确认函数是否为 C 函数的标帜（在默认的情况下 C 函数不会出现在栈跟踪信息中）以及一个用整数表示的指针，它是由 [`backtrace`](@ref) 返回的："
   ]
  },
  {
   "cell_type": "code",
   "execution_count": null,
   "id": "5cadb035",
   "metadata": {
    "attributes": {
     "classes": [
      "julia-repl"
     ],
     "id": ""
    }
   },
   "outputs": [],
   "source": [
    "julia> frame = stacktrace()[3]\n",
    "eval(::Module, ::Expr) at REPL.jl:5\n",
    "\n",
    "julia> frame.func\n",
    ":eval\n",
    "\n",
    "julia> frame.file\n",
    "Symbol(\"~/julia/usr/share/julia/stdlib/v0.7/REPL/src/REPL.jl\")\n",
    "\n",
    "julia> frame.line\n",
    "5\n",
    "\n",
    "julia> frame.linfo\n",
    "MethodInstance for eval(::Module, ::Expr)\n",
    "\n",
    "julia> frame.inlined\n",
    "false\n",
    "\n",
    "julia> frame.from_c\n",
    "false\n",
    "\n",
    "julia> frame.pointer\n",
    "0x00007f92d6293171"
   ]
  },
  {
   "cell_type": "markdown",
   "id": "2eb629f3",
   "metadata": {},
   "source": [
    "这使得我们可以通过编程的方式将栈跟踪信息用于打印日志，处理错误以及其它更多用途。\n",
    "\n",
    "## 错误处理\n",
    "\n",
    "能够轻松地获取当前调用栈的状态信息在许多场景下都很有用，但最直接的应用是错误处理和调试。"
   ]
  },
  {
   "cell_type": "code",
   "execution_count": null,
   "id": "bc0bc66e",
   "metadata": {
    "attributes": {
     "classes": [
      "julia-repl"
     ],
     "id": ""
    }
   },
   "outputs": [],
   "source": [
    "julia> @noinline bad_function() = undeclared_variable\n",
    "bad_function (generic function with 1 method)\n",
    "\n",
    "julia> @noinline example() = try\n",
    "           bad_function()\n",
    "       catch\n",
    "           stacktrace()\n",
    "       end\n",
    "example (generic function with 1 method)\n",
    "\n",
    "julia> example()\n",
    "7-element Array{Base.StackTraces.StackFrame,1}:\n",
    " example() at REPL[2]:4\n",
    " top-level scope\n",
    " eval at boot.jl:317 [inlined]\n",
    "[...]"
   ]
  },
  {
   "cell_type": "markdown",
   "id": "5aea4e98",
   "metadata": {},
   "source": [
    "你可能已经注意到了，上述例子中第一个栈帧指向了[`stacktrace`](@ref)被调用的第 4 行，而不是 *bad_function* 被调用的第 2 行，且完全没有出现 `bad_function` 的栈帧。这是也是可以理解的，因为 [`stacktrace`](@ref) 是在 *catch* 的上下文中被调用的。虽然在这个例子中很容易查找到错误的真正源头，但在复杂的情况下查找错误源并不是一件容易的事。\n",
    "\n",
    "为了补救，我们可以将 [`catch_backtrace`](@ref) 的输出传递给 [`stacktrace`](@ref)。[`catch_backtrace`](@ref) 会返回最近发生异常的上下文中的栈信息，而不是返回当前上下文中的调用栈信息。"
   ]
  },
  {
   "cell_type": "code",
   "execution_count": null,
   "id": "2d830d37",
   "metadata": {
    "attributes": {
     "classes": [
      "julia-repl"
     ],
     "id": ""
    }
   },
   "outputs": [],
   "source": [
    "julia> @noinline bad_function() = undeclared_variable\n",
    "bad_function (generic function with 1 method)\n",
    "\n",
    "julia> @noinline example() = try\n",
    "           bad_function()\n",
    "       catch\n",
    "           stacktrace(catch_backtrace())\n",
    "       end\n",
    "example (generic function with 1 method)\n",
    "\n",
    "julia> example()\n",
    "8-element Array{Base.StackTraces.StackFrame,1}:\n",
    " bad_function() at REPL[1]:1\n",
    " example() at REPL[2]:2\n",
    "[...]"
   ]
  },
  {
   "cell_type": "markdown",
   "id": "c9fe3433",
   "metadata": {},
   "source": [
    "可以看到，现在栈跟踪会显示正确的行号以及之前缺失的栈帧。"
   ]
  },
  {
   "cell_type": "code",
   "execution_count": null,
   "id": "89324fdf",
   "metadata": {
    "attributes": {
     "classes": [
      "julia-repl"
     ],
     "id": ""
    }
   },
   "outputs": [],
   "source": [
    "julia> @noinline child() = error(\"Whoops!\")\n",
    "child (generic function with 1 method)\n",
    "\n",
    "julia> @noinline parent() = child()\n",
    "parent (generic function with 1 method)\n",
    "\n",
    "julia> @noinline function grandparent()\n",
    "           try\n",
    "               parent()\n",
    "           catch err\n",
    "               println(\"ERROR: \", err.msg)\n",
    "               stacktrace(catch_backtrace())\n",
    "           end\n",
    "       end\n",
    "grandparent (generic function with 1 method)\n",
    "\n",
    "julia> grandparent()\n",
    "ERROR: Whoops!\n",
    "10-element Array{Base.StackTraces.StackFrame,1}:\n",
    " error at error.jl:33 [inlined]\n",
    " child() at REPL[1]:1\n",
    " parent() at REPL[2]:1\n",
    " grandparent() at REPL[3]:3\n",
    "[...]"
   ]
  },
  {
   "cell_type": "markdown",
   "id": "82bb7e47",
   "metadata": {},
   "source": [
    "## 异常栈与[`current_exceptions`](@ref)\n",
    "\n",
    "!!! compat \"Julia 1.1\"\n",
    "    异常栈需要 Julia 1.1 及以上版本。\n",
    "\n",
    "在处理一个异常时，后续的异常同样可能被抛出。观察这些异常对定位问题的源头极有帮助。Julia runtime 支持将每个异常发生后推入一个内部的*异常栈*。当代码正常退出一个`catch`语句，可认为所有被推入栈中的异常在相应的`try`语句中被成功处理并已从栈中移除。\n",
    "\n",
    "存放当前异常的栈可通过测试函数 [`current_exceptions`](@ref) 获取，例如"
   ]
  },
  {
   "cell_type": "code",
   "execution_count": null,
   "id": "4a09e081",
   "metadata": {
    "attributes": {
     "classes": [
      "julia-repl"
     ],
     "id": ""
    }
   },
   "outputs": [],
   "source": [
    "julia> try\n",
    "           error(\"(A) The root cause\")\n",
    "       catch\n",
    "           try\n",
    "               error(\"(B) An exception while handling the exception\")\n",
    "           catch\n",
    "               for (exc, bt) in current_exceptions()\n",
    "                   showerror(stdout, exc, bt)\n",
    "                   println(stdout)\n",
    "               end\n",
    "           end\n",
    "       end\n",
    "(A) The root cause\n",
    "Stacktrace:\n",
    " [1] error(::String) at error.jl:33\n",
    " [2] top-level scope at REPL[7]:2\n",
    " [3] eval(::Module, ::Any) at boot.jl:319\n",
    " [4] eval_user_input(::Any, ::REPL.REPLBackend) at REPL.jl:85\n",
    " [5] macro expansion at REPL.jl:117 [inlined]\n",
    " [6] (::getfield(REPL, Symbol(\"##26#27\")){REPL.REPLBackend})() at task.jl:259\n",
    "(B) An exception while handling the exception\n",
    "Stacktrace:\n",
    " [1] error(::String) at error.jl:33\n",
    " [2] top-level scope at REPL[7]:5\n",
    " [3] eval(::Module, ::Any) at boot.jl:319\n",
    " [4] eval_user_input(::Any, ::REPL.REPLBackend) at REPL.jl:85\n",
    " [5] macro expansion at REPL.jl:117 [inlined]\n",
    " [6] (::getfield(REPL, Symbol(\"##26#27\")){REPL.REPLBackend})() at task.jl:259"
   ]
  },
  {
   "cell_type": "markdown",
   "id": "1b44f642",
   "metadata": {},
   "source": [
    "在本例中，根源异常（A）排在栈头，其后放置着延伸异常（B)。 在正常退出（例如，不抛出新异常）两个 catch 块后，所有异常都被移除出栈，无法访问。\n",
    "\n",
    "异常栈被存放于发生异常的 `Task` 处。当某个任务失败，出现意料外的异常时，`current_exceptions(task)` 可被用于观察该任务的异常栈。\n",
    "\n",
    "## [`stacktrace`](@ref) 与 [`backtrace`](@ref) 的比较\n",
    "\n",
    "调用 [`backtrace`](@ref) 会返回一个 `Union{Ptr{Nothing}, Base.InterpreterIP}` 的数组，可以将其传给 [`stacktrace`](@ref) 函数进行转化："
   ]
  },
  {
   "cell_type": "code",
   "execution_count": null,
   "id": "3ebc20c9",
   "metadata": {
    "attributes": {
     "classes": [
      "julia-repl"
     ],
     "id": ""
    }
   },
   "outputs": [],
   "source": [
    "julia> trace = backtrace()\n",
    "18-element Array{Union{Ptr{Nothing}, Base.InterpreterIP},1}:\n",
    " Ptr{Nothing} @0x00007fd8734c6209\n",
    " Ptr{Nothing} @0x00007fd87362b342\n",
    " Ptr{Nothing} @0x00007fd87362c136\n",
    " Ptr{Nothing} @0x00007fd87362c986\n",
    " Ptr{Nothing} @0x00007fd87362d089\n",
    " Base.InterpreterIP(CodeInfo(:(begin\n",
    "      Core.SSAValue(0) = backtrace()\n",
    "      trace = Core.SSAValue(0)\n",
    "      return Core.SSAValue(0)\n",
    "  end)), 0x0000000000000000)\n",
    " Ptr{Nothing} @0x00007fd87362e4cf\n",
    "[...]\n",
    "\n",
    "julia> stacktrace(trace)\n",
    "6-element Array{Base.StackTraces.StackFrame,1}:\n",
    " top-level scope\n",
    " eval at boot.jl:317 [inlined]\n",
    " eval(::Module, ::Expr) at REPL.jl:5\n",
    " eval_user_input(::Any, ::REPL.REPLBackend) at REPL.jl:85\n",
    " macro expansion at REPL.jl:116 [inlined]\n",
    " (::getfield(REPL, Symbol(\"##28#29\")){REPL.REPLBackend})() at event.jl:92"
   ]
  },
  {
   "cell_type": "markdown",
   "id": "2b90c0f8",
   "metadata": {},
   "source": [
    "需要注意的是，[`backtrace`](@ref) 返回的向量有 18 个元素，而 [`stacktrace`](@ref) 返回的向量只包含6 个元素。这是因为 [`stacktrace`](@ref) 在默认情况下会移除所有底层 C 函数的栈信息。如果你想显示 C 函数调用的栈帧，可以这样做："
   ]
  },
  {
   "cell_type": "code",
   "execution_count": null,
   "id": "28693424",
   "metadata": {
    "attributes": {
     "classes": [
      "julia-repl"
     ],
     "id": ""
    }
   },
   "outputs": [],
   "source": [
    "julia> stacktrace(trace, true)\n",
    "21-element Array{Base.StackTraces.StackFrame,1}:\n",
    " jl_apply_generic at gf.c:2167\n",
    " do_call at interpreter.c:324\n",
    " eval_value at interpreter.c:416\n",
    " eval_body at interpreter.c:559\n",
    " jl_interpret_toplevel_thunk_callback at interpreter.c:798\n",
    " top-level scope\n",
    " jl_interpret_toplevel_thunk at interpreter.c:807\n",
    " jl_toplevel_eval_flex at toplevel.c:856\n",
    " jl_toplevel_eval_in at builtins.c:624\n",
    " eval at boot.jl:317 [inlined]\n",
    " eval(::Module, ::Expr) at REPL.jl:5\n",
    " jl_apply_generic at gf.c:2167\n",
    " eval_user_input(::Any, ::REPL.REPLBackend) at REPL.jl:85\n",
    " jl_apply_generic at gf.c:2167\n",
    " macro expansion at REPL.jl:116 [inlined]\n",
    " (::getfield(REPL, Symbol(\"##28#29\")){REPL.REPLBackend})() at event.jl:92\n",
    " jl_fptr_trampoline at gf.c:1838\n",
    " jl_apply_generic at gf.c:2167\n",
    " jl_apply at julia.h:1540 [inlined]\n",
    " start_task at task.c:268\n",
    " ip:0xffffffffffffffff"
   ]
  },
  {
   "cell_type": "markdown",
   "id": "b0135ec5",
   "metadata": {},
   "source": [
    "[`backtrace`](@ref) 返回的单个指针可以通过 [`StackTraces.lookup`](@ref) 来转化成一组 [`StackTraces.StackFrame`](@ref)："
   ]
  },
  {
   "cell_type": "code",
   "execution_count": null,
   "id": "561b827e",
   "metadata": {
    "attributes": {
     "classes": [
      "julia-repl"
     ],
     "id": ""
    }
   },
   "outputs": [],
   "source": [
    "julia> pointer = backtrace()[1];\n",
    "\n",
    "julia> frame = StackTraces.lookup(pointer)\n",
    "1-element Array{Base.StackTraces.StackFrame,1}:\n",
    " jl_apply_generic at gf.c:2167\n",
    "\n",
    "julia> println(\"The top frame is from $(frame[1].func)!\")\n",
    "The top frame is from jl_apply_generic!"
   ]
  }
 ],
 "metadata": {},
 "nbformat": 4,
 "nbformat_minor": 5
}
