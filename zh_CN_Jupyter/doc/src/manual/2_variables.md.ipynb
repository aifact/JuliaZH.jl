{
 "cells": [
  {
   "cell_type": "markdown",
   "metadata": {},
   "source": [
    "# [变量](@id man-variables)\n",
    "\n",
    "Julia 语言中，变量是与某个值相关联（或绑定）的名字。你可以用它来保存一个值（例如某些计算得到的结果），供之后的代码使用。例如："
   ]
  },
  {
   "cell_type": "code",
   "execution_count": 1,
   "id": "8c82bf54",
   "metadata": {},
   "outputs": [
    {
     "data": {
      "text/plain": [
       "10"
      ]
     },
     "metadata": {},
     "output_type": "display_data"
    }
   ],
   "source": [
    "# 将 10 赋值给变量 x\n",
    "x = 10"
   ]
  },
  {
   "cell_type": "code",
   "execution_count": 3,
   "id": "8f1cd6c8",
   "metadata": {},
   "outputs": [
    {
     "data": {
      "text/plain": [
       "11"
      ]
     },
     "metadata": {},
     "output_type": "display_data"
    }
   ],
   "source": [
    "# 使用 x 的值做计算\n",
    "x + 1"
   ]
  },
  {
   "cell_type": "code",
   "execution_count": 4,
   "id": "5658ede4",
   "metadata": {},
   "outputs": [
    {
     "data": {
      "text/plain": [
       "2"
      ]
     },
     "metadata": {},
     "output_type": "display_data"
    }
   ],
   "source": [
    "# 重新给 x 赋值\n",
    "x = 1 + 1"
   ]
  },
  {
   "cell_type": "code",
   "execution_count": 5,
   "id": "bd0efb44",
   "metadata": {},
   "outputs": [
    {
     "data": {
      "text/plain": [
       "\"Hello World!\""
      ]
     },
     "metadata": {},
     "output_type": "display_data"
    }
   ],
   "source": [
    "# 也可以给 x 赋其它类型的值, 比如字符串文本\n",
    "x = \"Hello World!\""
   ]
  },
  {
   "cell_type": "markdown",
   "id": "5b1d1d78",
   "metadata": {},
   "source": [
    "Julia 提供了非常灵活的变量命名策略。变量名是大小写敏感的，且不包含语义，意思是说，Julia 不会根据变量的名字来区别对待它们。（译者注：Julia **不会**自动将全大写的变量识别为常量，也**不会**将有特定前后缀的变量自动识别为某种特定类型的变量，即不会根据变量名字，自动判断变量的任何属性。）"
   ]
  },
  {
   "cell_type": "code",
   "execution_count": 6,
   "id": "9b576633",
   "metadata": {},
   "outputs": [
    {
     "data": {
      "text/plain": [
       "1.0"
      ]
     },
     "metadata": {},
     "output_type": "display_data"
    }
   ],
   "source": [
    "x = 1.0"
   ]
  },
  {
   "cell_type": "code",
   "execution_count": 7,
   "id": "135a6ee9",
   "metadata": {},
   "outputs": [
    {
     "data": {
      "text/plain": [
       "-3"
      ]
     },
     "metadata": {},
     "output_type": "display_data"
    }
   ],
   "source": [
    "y = -3"
   ]
  },
  {
   "cell_type": "code",
   "execution_count": 8,
   "id": "3eb039db",
   "metadata": {},
   "outputs": [
    {
     "data": {
      "text/plain": [
       "\"My string\""
      ]
     },
     "metadata": {},
     "output_type": "display_data"
    }
   ],
   "source": [
    "Z = \"My string\""
   ]
  },
  {
   "cell_type": "code",
   "execution_count": 9,
   "id": "1755a676",
   "metadata": {},
   "outputs": [
    {
     "data": {
      "text/plain": [
       "\"Hello world!\""
      ]
     },
     "metadata": {},
     "output_type": "display_data"
    }
   ],
   "source": [
    "customary_phrase = \"Hello world!\""
   ]
  },
  {
   "cell_type": "code",
   "execution_count": 10,
   "id": "94b1bf3f",
   "metadata": {},
   "outputs": [
    {
     "data": {
      "text/plain": [
       "\"人人生而自由，在尊严和权利上一律平等。\""
      ]
     },
     "metadata": {},
     "output_type": "display_data"
    }
   ],
   "source": [
    "UniversalDeclarationOfHumanRightsStart = \"人人生而自由，在尊严和权利上一律平等。\""
   ]
  },
  {
   "cell_type": "markdown",
   "id": "2a310a19",
   "metadata": {},
   "source": [
    "你还可以使用 UTF-8 编码的 Unicode 字符作为变量名："
   ]
  },
  {
   "cell_type": "code",
   "execution_count": 13,
   "id": "7c556587",
   "metadata": {},
   "outputs": [
    {
     "data": {
      "text/plain": [
       "1.0e-5"
      ]
     },
     "metadata": {},
     "output_type": "display_data"
    }
   ],
   "source": [
    "δ = 0.00001"
   ]
  },
  {
   "cell_type": "code",
   "execution_count": 14,
   "id": "09437312",
   "metadata": {},
   "outputs": [
    {
     "data": {
      "text/plain": [
       "\"Hello\""
      ]
     },
     "metadata": {},
     "output_type": "display_data"
    }
   ],
   "source": [
    "안녕하세요 = \"Hello\""
   ]
  },
  {
   "cell_type": "markdown",
   "id": "c64ed453",
   "metadata": {},
   "source": [
    "在 Julia REPL 和一些其它 Julia 的编辑器中，很多 Unicode 数学符号可以使用反斜杠加 LaTeX 符号接 tab 健打出。例如： 变量名 `δ` 可以通过 `\\delta`-*tab* 来输入，甚至可以用 `\\alpha`-*tab*-`\\hat`-*tab*-`\\^(2)`-*tab*来输入 `α̂⁽²⁾` 这种复杂的变量名。（如果你在某个地方发现了一个不知道怎么输入的符号，比如在别人的代码里，输入`?` 接着复制那个符号，REPL的帮助功能会告诉你输入方法。）\n",
    "\n",
    "如果有需要的话，Julia 甚至允许你重定义内置常量和函数。（这样做可能引发潜在的混淆，所以并不推荐）"
   ]
  },
  {
   "cell_type": "code",
   "execution_count": 1,
   "id": "aea86cc7",
   "metadata": {},
   "outputs": [
    {
     "data": {
      "text/plain": [
       "3"
      ]
     },
     "metadata": {},
     "output_type": "display_data"
    }
   ],
   "source": [
    "pi = 3"
   ]
  },
  {
   "cell_type": "code",
   "execution_count": 2,
   "id": "f7f3cfc3",
   "metadata": {},
   "outputs": [
    {
     "data": {
      "text/plain": [
       "3"
      ]
     },
     "metadata": {},
     "output_type": "display_data"
    }
   ],
   "source": [
    "pi"
   ]
  },
  {
   "cell_type": "code",
   "execution_count": 7,
   "id": "bcb56606",
   "metadata": {},
   "outputs": [
    {
     "ename": "ErrorException",
     "evalue": "cannot assign a value to variable Base.sqrt from module Main",
     "output_type": "error",
     "traceback": [
      "cannot assign a value to variable Base.sqrt from module Main\n",
      "\n",
      "Stacktrace:\n",
      "  [1] top-level scope\n",
      "    @ e:\\workspace\\programming\\github\\aifact\\julia\\zh_CN\\doc\\src\\manual\\variables.md.2.ipynb:1\n",
      "  [2] eval\n",
      "    @ .\\boot.jl:360 [inlined]\n",
      "  [3] include_string(mapexpr::typeof(REPL.softscope), mod::Module, code::String, filename::String)\n",
      "    @ Base .\\loading.jl:1116\n",
      "  [4] #invokelatest#2\n",
      "    @ .\\essentials.jl:708 [inlined]\n",
      "  [5] invokelatest\n",
      "    @ .\\essentials.jl:706 [inlined]\n",
      "  [6] (::VSCodeServer.var\"#146#147\"{VSCodeServer.NotebookRunCellArguments, String})()\n",
      "    @ VSCodeServer c:\\Users\\CZYcom\\.vscode-insiders\\extensions\\julialang.language-julia-1.5.6\\scripts\\packages\\VSCodeServer\\src\\serve_notebook.jl:18\n",
      "  [7] withpath(f::VSCodeServer.var\"#146#147\"{VSCodeServer.NotebookRunCellArguments, String}, path::String)\n",
      "    @ VSCodeServer c:\\Users\\CZYcom\\.vscode-insiders\\extensions\\julialang.language-julia-1.5.6\\scripts\\packages\\VSCodeServer\\src\\repl.jl:185\n",
      "  [8] notebook_runcell_request(conn::VSCodeServer.JSONRPC.JSONRPCEndpoint{Base.PipeEndpoint, Base.PipeEndpoint}, params::VSCodeServer.NotebookRunCellArguments)\n",
      "    @ VSCodeServer c:\\Users\\CZYcom\\.vscode-insiders\\extensions\\julialang.language-julia-1.5.6\\scripts\\packages\\VSCodeServer\\src\\serve_notebook.jl:14\n",
      "  [9] dispatch_msg(x::VSCodeServer.JSONRPC.JSONRPCEndpoint{Base.PipeEndpoint, Base.PipeEndpoint}, dispatcher::VSCodeServer.JSONRPC.MsgDispatcher, msg::Dict{String, Any})\n",
      "    @ VSCodeServer.JSONRPC c:\\Users\\CZYcom\\.vscode-insiders\\extensions\\julialang.language-julia-1.5.6\\scripts\\packages\\JSONRPC\\src\\typed.jl:67\n",
      " [10] serve_notebook(pipename::String; crashreporting_pipename::String)\n",
      "    @ VSCodeServer c:\\Users\\CZYcom\\.vscode-insiders\\extensions\\julialang.language-julia-1.5.6\\scripts\\packages\\VSCodeServer\\src\\serve_notebook.jl:94\n",
      " [11] top-level scope\n",
      "    @ c:\\Users\\CZYcom\\.vscode-insiders\\extensions\\julialang.language-julia-1.5.6\\scripts\\notebook\\notebook.jl:12\n",
      " [12] include(mod::Module, _path::String)\n",
      "    @ Base .\\Base.jl:384\n",
      " [13] exec_options(opts::Base.JLOptions)\n",
      "    @ Base .\\client.jl:285\n",
      " [14] _start()\n",
      "    @ Base .\\client.jl:485"
     ]
    }
   ],
   "source": [
    "sqrt = 4"
   ]
  },
  {
   "cell_type": "markdown",
   "id": "ca1a6061",
   "metadata": {},
   "source": [
    "🤦‍♂️✦学习者注：如何检查当前常量的值，如何恢复常量的值"
   ]
  },
  {
   "cell_type": "markdown",
   "id": "bb7fc0d4",
   "metadata": {},
   "source": [
    "然而，如果你试图重定义一个已经在使用中的内置常量或函数，Julia 会报错："
   ]
  },
  {
   "cell_type": "code",
   "execution_count": 4,
   "id": "3d5132dd",
   "metadata": {},
   "outputs": [
    {
     "data": {
      "text/plain": [
       "3"
      ]
     },
     "metadata": {},
     "output_type": "display_data"
    }
   ],
   "source": [
    "pi"
   ]
  },
  {
   "cell_type": "code",
   "execution_count": 16,
   "id": "d940cf1f",
   "metadata": {},
   "outputs": [
    {
     "data": {
      "text/plain": [
       "π = 3.1415926535897..."
      ]
     },
     "metadata": {},
     "output_type": "display_data"
    }
   ],
   "source": [
    "#🤦‍♂️\n",
    "pi = π"
   ]
  },
  {
   "cell_type": "code",
   "execution_count": 11,
   "id": "b8d583a4",
   "metadata": {},
   "outputs": [
    {
     "data": {
      "text/plain": [
       "π = 3.1415926535897..."
      ]
     },
     "metadata": {},
     "output_type": "display_data"
    }
   ],
   "source": [
    "pi"
   ]
  },
  {
   "cell_type": "code",
   "execution_count": 6,
   "id": "6df37e8b",
   "metadata": {},
   "outputs": [
    {
     "data": {
      "text/plain": [
       "3"
      ]
     },
     "metadata": {},
     "output_type": "display_data"
    }
   ],
   "source": [
    "pi = 3"
   ]
  },
  {
   "cell_type": "markdown",
   "id": "a243e577",
   "metadata": {},
   "source": [
    "🤦‍♂️由于上一次已经对常量赋值了，使用 pi = π 仍然是赋值，因此即使使用后，赋值，也未出现如下报错\n",
    "julia> pi = 3\n",
    "ERROR: cannot assign a value to variable MathConstants.pi from module Main\n",
    "重启Julia就可以恢复原始状态"
   ]
  },
  {
   "cell_type": "code",
   "execution_count": null,
   "id": "0baeeabe",
   "metadata": {
    "attributes": {
     "classes": [
      "jldoctest"
     ],
     "id": ""
    }
   },
   "outputs": [],
   "source": [
    "julia> pi\n",
    "π = 3.1415926535897...\n",
    "\n",
    "julia> pi = 3\n",
    "ERROR: cannot assign a value to variable MathConstants.pi from module Main\n",
    "\n",
    "julia> sqrt(100)\n",
    "10.0\n",
    "\n",
    "julia> sqrt = 4\n",
    "ERROR: cannot assign a value to variable Base.sqrt from module Main"
   ]
  },
  {
   "cell_type": "code",
   "execution_count": 14,
   "id": "f9d0452e",
   "metadata": {},
   "outputs": [
    {
     "data": {
      "text/plain": [
       "4"
      ]
     },
     "metadata": {},
     "output_type": "display_data"
    }
   ],
   "source": [
    "#🤦‍♂️sqrt 在上一次已经赋值为4，所以无法进行sqrt(100)运算"
   ]
  },
  {
   "cell_type": "code",
   "execution_count": 5,
   "id": "b2ece5cd",
   "metadata": {},
   "outputs": [
    {
     "data": {
      "text/plain": [
       "10.0"
      ]
     },
     "metadata": {},
     "output_type": "display_data"
    }
   ],
   "source": [
    "sqrt(100)"
   ]
  },
  {
   "cell_type": "code",
   "execution_count": 8,
   "id": "98d9788b",
   "metadata": {},
   "outputs": [
    {
     "ename": "ErrorException",
     "evalue": "cannot assign a value to variable Base.sqrt from module Main",
     "output_type": "error",
     "traceback": [
      "cannot assign a value to variable Base.sqrt from module Main\n",
      "\n",
      "Stacktrace:\n",
      "  [1] top-level scope\n",
      "    @ e:\\workspace\\programming\\github\\aifact\\julia\\zh_CN\\doc\\src\\manual\\variables.md.2.ipynb:1\n",
      "  [2] eval\n",
      "    @ .\\boot.jl:360 [inlined]\n",
      "  [3] include_string(mapexpr::typeof(REPL.softscope), mod::Module, code::String, filename::String)\n",
      "    @ Base .\\loading.jl:1116\n",
      "  [4] #invokelatest#2\n",
      "    @ .\\essentials.jl:708 [inlined]\n",
      "  [5] invokelatest\n",
      "    @ .\\essentials.jl:706 [inlined]\n",
      "  [6] (::VSCodeServer.var\"#146#147\"{VSCodeServer.NotebookRunCellArguments, String})()\n",
      "    @ VSCodeServer c:\\Users\\CZYcom\\.vscode-insiders\\extensions\\julialang.language-julia-1.5.6\\scripts\\packages\\VSCodeServer\\src\\serve_notebook.jl:18\n",
      "  [7] withpath(f::VSCodeServer.var\"#146#147\"{VSCodeServer.NotebookRunCellArguments, String}, path::String)\n",
      "    @ VSCodeServer c:\\Users\\CZYcom\\.vscode-insiders\\extensions\\julialang.language-julia-1.5.6\\scripts\\packages\\VSCodeServer\\src\\repl.jl:185\n",
      "  [8] notebook_runcell_request(conn::VSCodeServer.JSONRPC.JSONRPCEndpoint{Base.PipeEndpoint, Base.PipeEndpoint}, params::VSCodeServer.NotebookRunCellArguments)\n",
      "    @ VSCodeServer c:\\Users\\CZYcom\\.vscode-insiders\\extensions\\julialang.language-julia-1.5.6\\scripts\\packages\\VSCodeServer\\src\\serve_notebook.jl:14\n",
      "  [9] dispatch_msg(x::VSCodeServer.JSONRPC.JSONRPCEndpoint{Base.PipeEndpoint, Base.PipeEndpoint}, dispatcher::VSCodeServer.JSONRPC.MsgDispatcher, msg::Dict{String, Any})\n",
      "    @ VSCodeServer.JSONRPC c:\\Users\\CZYcom\\.vscode-insiders\\extensions\\julialang.language-julia-1.5.6\\scripts\\packages\\JSONRPC\\src\\typed.jl:67\n",
      " [10] serve_notebook(pipename::String; crashreporting_pipename::String)\n",
      "    @ VSCodeServer c:\\Users\\CZYcom\\.vscode-insiders\\extensions\\julialang.language-julia-1.5.6\\scripts\\packages\\VSCodeServer\\src\\serve_notebook.jl:94\n",
      " [11] top-level scope\n",
      "    @ c:\\Users\\CZYcom\\.vscode-insiders\\extensions\\julialang.language-julia-1.5.6\\scripts\\notebook\\notebook.jl:12\n",
      " [12] include(mod::Module, _path::String)\n",
      "    @ Base .\\Base.jl:384\n",
      " [13] exec_options(opts::Base.JLOptions)\n",
      "    @ Base .\\client.jl:285\n",
      " [14] _start()\n",
      "    @ Base .\\client.jl:485"
     ]
    }
   ],
   "source": [
    "sqrt = 4"
   ]
  },
  {
   "cell_type": "markdown",
   "id": "58f1dfbb",
   "metadata": {},
   "source": [
    "🤦‍♂️ 无法显示报错信息，重装vscode insider可能和版本有关，还是用python版本的jupyter notebook\n",
    "\n",
    "参考https://zhuanlan.zhihu.com/p/42812662\n",
    "\n",
    "C:\\Program Files\\Python310\\Scripts\\jupyter.exe（刚安装的，未升级到最新）\n",
    "\n",
    "https://github.com/Microsoft/vscode-jupyter/issues/3936  （已修复，更新vscode就可以）\n",
    "不显示是vscode-jupyter插件的问题\n",
    "\n",
    "升级\n",
    "pip install --upgrade jupyter\n",
    "\n",
    "添加环境变量：\n",
    "\n",
    "C:\\Users\\CZYcom\\AppData\\Roaming\\Python\\Python310\\Scripts\n",
    "\n",
    "sqrt = 4\n",
    "sqrt(100)\n",
    "报错：\n",
    "Error loading preloads:\n",
    "Failed to fetch dynamically imported module: https://file+.vscode-resource.vscode-webview.net/c%3A/Users/CZYcom/.vscode-insiders/extensions/ms-toolsai.jupyter-2022.1.1001586661/out/datascience-ui/errorRenderer/errorRenderer.js"
   ]
  },
  {
   "cell_type": "markdown",
   "id": "46fb031f",
   "metadata": {},
   "source": [
    "## [合法的变量名](@id man-allowed-variable-names)\n",
    "\n",
    "变量名字必须以\n",
    "英文字母（A-Z 或 a-z）、\n",
    "下划线\n",
    "编码大于 00A0 的 Unicode 字符的一个子集开头。\n",
    "\n",
    "具体来说指的是，\n",
    "[Unicode字符分类](http://www.fileformat.info/info/unicode/category/index.htm)中的\n",
    "Lu/Ll/Lt/Lm/Lo/Nl（字母）、\n",
    "Sc/So（货币和其他符号）\n",
    "以及一些其它像字母的符号（例如 Sm 类别数学符号中的一部分）。\n",
    "\n",
    "变量名的非首字符还允许使用\n",
    "惊叹号 `!`、\n",
    "数字（包括 0-9 和其他 Nd/No 类别中的 Unicode 字符）\n",
    "以及其它 Unicode 字符：变音符号\n",
    "其他修改标记（Mn/Mc/Me/Sk 类别）、\n",
    "标点和连接符（Pc 类别）、\n",
    "引号和少许其他字符。\n",
    "\n",
    "😖\n",
    "像 `+` 这样的运算符也是合法的标识符，但是它们会被特别地解析。\n",
    "在一些上下文中，运算符可以像变量一样使用，比如 `(+)` 表示加函数，语句 `(+) = f`会把它重新赋值。\n",
    "\n",
    "大部分 Unicode 中缀运算符（Sm 类别），像 `⊕`，会被解析成真正的中缀运算符，并且支持用户自定义方法\n",
    "（举个例子，你可以使用语句 `const ⊗ = kron `将 `⊗` 定义为中缀的 Kronecker 积）。\n",
    "\n",
    "运算符也可以使用修改标记、引号和上标/下标进行加缀，例如 `+̂ₐ″` 被解析成一个与 `+` 具有相同优先级的中缀运算符。\n",
    "\n",
    "以下标/上标字母结尾的运算符与后续变量名之间需要一个空格。\n",
    "举个例子，如果 `+ᵃ` 是一个运算符，那么 `+ᵃx` 应该被写为`+ᵃ x`，以区分表达式 `+ ᵃx` ，其中 `ᵃx` 是变量名。\n",
    "\n",
    "\n",
    "一类特定的变量名是只包含下划线的变量名。这些标识符只能赋值，不能用于给其他变量赋值。严格来说，它们只能用作[左值](https://en.wikipedia.org/wiki/Value_(computer_science)#lrvalue) 而不能作[右值](https://en.wikipedia.org/wiki/R-value):"
   ]
  },
  {
   "cell_type": "code",
   "execution_count": 9,
   "id": "7087b6b4",
   "metadata": {},
   "outputs": [
    {
     "data": {
      "text/plain": [
       "(2, 2)"
      ]
     },
     "metadata": {},
     "output_type": "display_data"
    }
   ],
   "source": [
    "x, ___ = size([2 2; 1 1])"
   ]
  },
  {
   "cell_type": "code",
   "execution_count": 10,
   "id": "a644f550",
   "metadata": {},
   "outputs": [
    {
     "ename": "ErrorException",
     "evalue": "syntax: all-underscore identifier used as rvalue",
     "output_type": "error",
     "traceback": [
      "syntax: all-underscore identifier used as rvalue\n",
      "\n",
      "Stacktrace:\n",
      "  [1] top-level scope\n",
      "    @ e:\\workspace\\programming\\github\\aifact\\julia\\zh_CN\\doc\\src\\manual\\variables.md.2.ipynb:1\n",
      "  [2] eval\n",
      "    @ .\\boot.jl:360 [inlined]\n",
      "  [3] include_string(mapexpr::typeof(REPL.softscope), mod::Module, code::String, filename::String)\n",
      "    @ Base .\\loading.jl:1116\n",
      "  [4] #invokelatest#2\n",
      "    @ .\\essentials.jl:708 [inlined]\n",
      "  [5] invokelatest\n",
      "    @ .\\essentials.jl:706 [inlined]\n",
      "  [6] (::VSCodeServer.var\"#146#147\"{VSCodeServer.NotebookRunCellArguments, String})()\n",
      "    @ VSCodeServer c:\\Users\\CZYcom\\.vscode-insiders\\extensions\\julialang.language-julia-1.5.6\\scripts\\packages\\VSCodeServer\\src\\serve_notebook.jl:18\n",
      "  [7] withpath(f::VSCodeServer.var\"#146#147\"{VSCodeServer.NotebookRunCellArguments, String}, path::String)\n",
      "    @ VSCodeServer c:\\Users\\CZYcom\\.vscode-insiders\\extensions\\julialang.language-julia-1.5.6\\scripts\\packages\\VSCodeServer\\src\\repl.jl:185\n",
      "  [8] notebook_runcell_request(conn::VSCodeServer.JSONRPC.JSONRPCEndpoint{Base.PipeEndpoint, Base.PipeEndpoint}, params::VSCodeServer.NotebookRunCellArguments)\n",
      "    @ VSCodeServer c:\\Users\\CZYcom\\.vscode-insiders\\extensions\\julialang.language-julia-1.5.6\\scripts\\packages\\VSCodeServer\\src\\serve_notebook.jl:14\n",
      "  [9] dispatch_msg(x::VSCodeServer.JSONRPC.JSONRPCEndpoint{Base.PipeEndpoint, Base.PipeEndpoint}, dispatcher::VSCodeServer.JSONRPC.MsgDispatcher, msg::Dict{String, Any})\n",
      "    @ VSCodeServer.JSONRPC c:\\Users\\CZYcom\\.vscode-insiders\\extensions\\julialang.language-julia-1.5.6\\scripts\\packages\\JSONRPC\\src\\typed.jl:67\n",
      " [10] serve_notebook(pipename::String; crashreporting_pipename::String)\n",
      "    @ VSCodeServer c:\\Users\\CZYcom\\.vscode-insiders\\extensions\\julialang.language-julia-1.5.6\\scripts\\packages\\VSCodeServer\\src\\serve_notebook.jl:94\n",
      " [11] top-level scope\n",
      "    @ c:\\Users\\CZYcom\\.vscode-insiders\\extensions\\julialang.language-julia-1.5.6\\scripts\\notebook\\notebook.jl:12\n",
      " [12] include(mod::Module, _path::String)\n",
      "    @ Base .\\Base.jl:384\n",
      " [13] exec_options(opts::Base.JLOptions)\n",
      "    @ Base .\\client.jl:285\n",
      " [14] _start()\n",
      "    @ Base .\\client.jl:485"
     ]
    }
   ],
   "source": [
    "y = ___"
   ]
  },
  {
   "cell_type": "markdown",
   "id": "00e5e4fe",
   "metadata": {},
   "source": [
    "唯一明确禁止的变量名称是内置[关键字](@ref Keywords)的名称："
   ]
  },
  {
   "cell_type": "markdown",
   "id": "247202c1",
   "metadata": {},
   "source": [
    "📑见"
   ]
  },
  {
   "cell_type": "code",
   "execution_count": 14,
   "id": "b88f4cbf",
   "metadata": {},
   "outputs": [
    {
     "ename": "ErrorException",
     "evalue": "syntax: unexpected \"else\"",
     "output_type": "error",
     "traceback": [
      "syntax: unexpected \"else\"\n",
      "\n",
      "Stacktrace:\n",
      "  [1] top-level scope\n",
      "    @ e:\\workspace\\programming\\github\\aifact\\julia\\zh_CN\\doc\\src\\manual\\variables.md.2.ipynb:1\n",
      "  [2] eval\n",
      "    @ .\\boot.jl:360 [inlined]\n",
      "  [3] include_string(mapexpr::typeof(REPL.softscope), mod::Module, code::String, filename::String)\n",
      "    @ Base .\\loading.jl:1116\n",
      "  [4] #invokelatest#2\n",
      "    @ .\\essentials.jl:708 [inlined]\n",
      "  [5] invokelatest\n",
      "    @ .\\essentials.jl:706 [inlined]\n",
      "  [6] (::VSCodeServer.var\"#146#147\"{VSCodeServer.NotebookRunCellArguments, String})()\n",
      "    @ VSCodeServer c:\\Users\\CZYcom\\.vscode-insiders\\extensions\\julialang.language-julia-1.5.6\\scripts\\packages\\VSCodeServer\\src\\serve_notebook.jl:18\n",
      "  [7] withpath(f::VSCodeServer.var\"#146#147\"{VSCodeServer.NotebookRunCellArguments, String}, path::String)\n",
      "    @ VSCodeServer c:\\Users\\CZYcom\\.vscode-insiders\\extensions\\julialang.language-julia-1.5.6\\scripts\\packages\\VSCodeServer\\src\\repl.jl:185\n",
      "  [8] notebook_runcell_request(conn::VSCodeServer.JSONRPC.JSONRPCEndpoint{Base.PipeEndpoint, Base.PipeEndpoint}, params::VSCodeServer.NotebookRunCellArguments)\n",
      "    @ VSCodeServer c:\\Users\\CZYcom\\.vscode-insiders\\extensions\\julialang.language-julia-1.5.6\\scripts\\packages\\VSCodeServer\\src\\serve_notebook.jl:14\n",
      "  [9] dispatch_msg(x::VSCodeServer.JSONRPC.JSONRPCEndpoint{Base.PipeEndpoint, Base.PipeEndpoint}, dispatcher::VSCodeServer.JSONRPC.MsgDispatcher, msg::Dict{String, Any})\n",
      "    @ VSCodeServer.JSONRPC c:\\Users\\CZYcom\\.vscode-insiders\\extensions\\julialang.language-julia-1.5.6\\scripts\\packages\\JSONRPC\\src\\typed.jl:67\n",
      " [10] serve_notebook(pipename::String; crashreporting_pipename::String)\n",
      "    @ VSCodeServer c:\\Users\\CZYcom\\.vscode-insiders\\extensions\\julialang.language-julia-1.5.6\\scripts\\packages\\VSCodeServer\\src\\serve_notebook.jl:94\n",
      " [11] top-level scope\n",
      "    @ c:\\Users\\CZYcom\\.vscode-insiders\\extensions\\julialang.language-julia-1.5.6\\scripts\\notebook\\notebook.jl:12\n",
      " [12] include(mod::Module, _path::String)\n",
      "    @ Base .\\Base.jl:384\n",
      " [13] exec_options(opts::Base.JLOptions)\n",
      "    @ Base .\\client.jl:285\n",
      " [14] _start()\n",
      "    @ Base .\\client.jl:485"
     ]
    }
   ],
   "source": [
    "else = false"
   ]
  },
  {
   "cell_type": "code",
   "execution_count": 12,
   "id": "ef1dc72f",
   "metadata": {},
   "outputs": [
    {
     "ename": "ErrorException",
     "evalue": "syntax: unexpected \"=\"",
     "output_type": "error",
     "traceback": [
      "syntax: unexpected \"=\"\n",
      "\n",
      "Stacktrace:\n",
      "  [1] top-level scope\n",
      "    @ e:\\workspace\\programming\\github\\aifact\\julia\\zh_CN\\doc\\src\\manual\\variables.md.2.ipynb:1\n",
      "  [2] eval\n",
      "    @ .\\boot.jl:360 [inlined]\n",
      "  [3] include_string(mapexpr::typeof(REPL.softscope), mod::Module, code::String, filename::String)\n",
      "    @ Base .\\loading.jl:1116\n",
      "  [4] #invokelatest#2\n",
      "    @ .\\essentials.jl:708 [inlined]\n",
      "  [5] invokelatest\n",
      "    @ .\\essentials.jl:706 [inlined]\n",
      "  [6] (::VSCodeServer.var\"#146#147\"{VSCodeServer.NotebookRunCellArguments, String})()\n",
      "    @ VSCodeServer c:\\Users\\CZYcom\\.vscode-insiders\\extensions\\julialang.language-julia-1.5.6\\scripts\\packages\\VSCodeServer\\src\\serve_notebook.jl:18\n",
      "  [7] withpath(f::VSCodeServer.var\"#146#147\"{VSCodeServer.NotebookRunCellArguments, String}, path::String)\n",
      "    @ VSCodeServer c:\\Users\\CZYcom\\.vscode-insiders\\extensions\\julialang.language-julia-1.5.6\\scripts\\packages\\VSCodeServer\\src\\repl.jl:185\n",
      "  [8] notebook_runcell_request(conn::VSCodeServer.JSONRPC.JSONRPCEndpoint{Base.PipeEndpoint, Base.PipeEndpoint}, params::VSCodeServer.NotebookRunCellArguments)\n",
      "    @ VSCodeServer c:\\Users\\CZYcom\\.vscode-insiders\\extensions\\julialang.language-julia-1.5.6\\scripts\\packages\\VSCodeServer\\src\\serve_notebook.jl:14\n",
      "  [9] dispatch_msg(x::VSCodeServer.JSONRPC.JSONRPCEndpoint{Base.PipeEndpoint, Base.PipeEndpoint}, dispatcher::VSCodeServer.JSONRPC.MsgDispatcher, msg::Dict{String, Any})\n",
      "    @ VSCodeServer.JSONRPC c:\\Users\\CZYcom\\.vscode-insiders\\extensions\\julialang.language-julia-1.5.6\\scripts\\packages\\JSONRPC\\src\\typed.jl:67\n",
      " [10] serve_notebook(pipename::String; crashreporting_pipename::String)\n",
      "    @ VSCodeServer c:\\Users\\CZYcom\\.vscode-insiders\\extensions\\julialang.language-julia-1.5.6\\scripts\\packages\\VSCodeServer\\src\\serve_notebook.jl:94\n",
      " [11] top-level scope\n",
      "    @ c:\\Users\\CZYcom\\.vscode-insiders\\extensions\\julialang.language-julia-1.5.6\\scripts\\notebook\\notebook.jl:12\n",
      " [12] include(mod::Module, _path::String)\n",
      "    @ Base .\\Base.jl:384\n",
      " [13] exec_options(opts::Base.JLOptions)\n",
      "    @ Base .\\client.jl:285\n",
      " [14] _start()\n",
      "    @ Base .\\client.jl:485"
     ]
    }
   ],
   "source": [
    "try = \"No\""
   ]
  },
  {
   "cell_type": "markdown",
   "id": "ec5ab74b",
   "metadata": {},
   "source": [
    "某些 Unicode 字符被认为是等效的标识符。\n",
    "\n",
    "不同的输入 Unicode 组合字符的方法（例如：重音）被视为等价的（Julia 标识符采用 [NFC](http://www.macchiato.com/unicode/nfc-faq) 标准）。\n",
    "\n",
    "Julia 还加入了一些非标准的等价字符，用于在视觉上相似且易于通过某些输入法输入的字符。\n",
    "\n",
    "Unicode 字符 `ɛ` (U+025B: Latin small letter open e) 和 `µ` (U+00B5: micro sign) 被视为等同于相应的希腊字母。\n",
    "\n",
    "点 `·` (U+00B7) 和希腊字符[间断](https://en.wikipedia.org/wiki/Interpunct) `·` (U+0387) 都被当作数学上的点积运算符 `⋅` (U+22C5)。\n",
    "\n",
    "减号 `−` (U+2212) 与连接号 `-` (U+002D) 也被视作相同的符号。\n",
    "\n",
    "## 命名规范\n",
    "\n",
    "虽然 Julia 语言对合法名字的限制非常少，但是遵循以下这些命名规范是非常有用的：\n",
    "\n",
    "  * 变量的名字采用小写。\n",
    "  * 使用下划线（`'_'`）来分隔名字中的单词，但是不鼓励使用下划线，除非在不使用下划线时名字会非常难读。\n",
    "  * 类型 (`Type`) 和模块（`Module`）的名字使用大写字母开头，并且用大写字母，而不是用下划线分隔单词。\n",
    "  * 函数（`function`）和宏（`macro`）的名字使用小写，不使用下划线。\n",
    "  * 会对输入参数进行更改的函数要使用 `!` 结尾。这些函数有时叫做“mutating” 或 “in-place” 函数，因为它们在被调用后会修改他们的输入参数的内容而不仅仅只是返回一个值。\n",
    "\n",
    "关于命名规范的更多信息，可查看[代码风格指南](@ref)。"
   ]
  }
 ],
 "metadata": {
  "kernelspec": {
   "display_name": "Julia 1.6.4",
   "language": "julia",
   "name": "julia-1.6"
  },
  "language_info": {
   "file_extension": ".jl",
   "mimetype": "application/julia",
   "name": "julia",
   "version": "1.6.4"
  }
 },
 "nbformat": 4,
 "nbformat_minor": 5
}
