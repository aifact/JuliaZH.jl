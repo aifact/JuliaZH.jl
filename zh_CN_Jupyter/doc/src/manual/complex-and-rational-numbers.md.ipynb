{
 "cells": [
  {
   "cell_type": "markdown",
   "id": "9940ad89",
   "metadata": {},
   "source": [
    "# 复数和有理数\n",
    "\n",
    "Julia 语言包含了预定义的复数和有理数类型，并且支持它们的各种标准[数学运算和初等函数](@ref)。由于也定义了复数与分数的[类型转换与类型提升](@ref conversion-and-promotion)，因此对预定义数值类型（无论是原始的还是复合的）的任意组合进行的操作都会表现得如预期的一样。\n",
    "\n",
    "## 复数\n",
    "\n",
    "全局常量 [`im`](@ref) 被绑定到复数 *i*，表示 -1 的主平方根。（不应使用数学家习惯的 `i` 或工程师习惯的 `j` 来表示此全局常量，因为它们是非常常用的索引变量名。）由于 Julia 允许数值字面量作为[数值字面量系数](@ref man-numeric-literal-coefficients)，这种绑定就足以为复数提供很方便的语法，类似于传统的数学记法："
   ]
  },
  {
   "cell_type": "code",
   "execution_count": null,
   "id": "185841b9",
   "metadata": {
    "attributes": {
     "classes": [
      "jldoctest"
     ],
     "id": ""
    }
   },
   "outputs": [],
   "source": [
    "julia> 1+2im\n",
    "1 + 2im"
   ]
  },
  {
   "cell_type": "markdown",
   "id": "2132f5c7",
   "metadata": {},
   "source": [
    "你可以对复数进行各种标准算术操作："
   ]
  },
  {
   "cell_type": "code",
   "execution_count": null,
   "id": "d1ef3bdd",
   "metadata": {
    "attributes": {
     "classes": [
      "jldoctest"
     ],
     "id": ""
    }
   },
   "outputs": [],
   "source": [
    "julia> (1 + 2im)*(2 - 3im)\n",
    "8 + 1im\n",
    "\n",
    "julia> (1 + 2im)/(1 - 2im)\n",
    "-0.6 + 0.8im\n",
    "\n",
    "julia> (1 + 2im) + (1 - 2im)\n",
    "2 + 0im\n",
    "\n",
    "julia> (-3 + 2im) - (5 - 1im)\n",
    "-8 + 3im\n",
    "\n",
    "julia> (-1 + 2im)^2\n",
    "-3 - 4im\n",
    "\n",
    "julia> (-1 + 2im)^2.5\n",
    "2.729624464784009 - 6.9606644595719im\n",
    "\n",
    "julia> (-1 + 2im)^(1 + 1im)\n",
    "-0.27910381075826657 + 0.08708053414102428im\n",
    "\n",
    "julia> 3(2 - 5im)\n",
    "6 - 15im\n",
    "\n",
    "julia> 3(2 - 5im)^2\n",
    "-63 - 60im\n",
    "\n",
    "julia> 3(2 - 5im)^-1.0\n",
    "0.20689655172413796 + 0.5172413793103449im"
   ]
  },
  {
   "cell_type": "markdown",
   "id": "7927f6c0",
   "metadata": {},
   "source": [
    "类型提升机制也确保你可以使用不同类型的操作数的组合："
   ]
  },
  {
   "cell_type": "code",
   "execution_count": null,
   "id": "84b34070",
   "metadata": {
    "attributes": {
     "classes": [
      "jldoctest"
     ],
     "id": ""
    }
   },
   "outputs": [],
   "source": [
    "julia> 2(1 - 1im)\n",
    "2 - 2im\n",
    "\n",
    "julia> (2 + 3im) - 1\n",
    "1 + 3im\n",
    "\n",
    "julia> (1 + 2im) + 0.5\n",
    "1.5 + 2.0im\n",
    "\n",
    "julia> (2 + 3im) - 0.5im\n",
    "2.0 + 2.5im\n",
    "\n",
    "julia> 0.75(1 + 2im)\n",
    "0.75 + 1.5im\n",
    "\n",
    "julia> (2 + 3im) / 2\n",
    "1.0 + 1.5im\n",
    "\n",
    "julia> (1 - 3im) / (2 + 2im)\n",
    "-0.5 - 1.0im\n",
    "\n",
    "julia> 2im^2\n",
    "-2 + 0im\n",
    "\n",
    "julia> 1 + 3/4im\n",
    "1.0 - 0.75im"
   ]
  },
  {
   "cell_type": "markdown",
   "id": "38dc5d7a",
   "metadata": {},
   "source": [
    "注意 `3/4im == 3/(4*im) == -(3/4*im)`，因为系数比除法的优先级更高。\n",
    "\n",
    "Julia 提供了一些操作复数的标准函数："
   ]
  },
  {
   "cell_type": "code",
   "execution_count": null,
   "id": "933f9671",
   "metadata": {
    "attributes": {
     "classes": [
      "jldoctest"
     ],
     "id": ""
    }
   },
   "outputs": [],
   "source": [
    "julia> z = 1 + 2im\n",
    "1 + 2im\n",
    "\n",
    "julia> real(1 + 2im) # z 的实部\n",
    "1\n",
    "\n",
    "julia> imag(1 + 2im) # z 的虚部\n",
    "2\n",
    "\n",
    "julia> conj(1 + 2im) # z 的复共轭\n",
    "1 - 2im\n",
    "\n",
    "julia> abs(1 + 2im) # z 的绝对值\n",
    "2.23606797749979\n",
    "\n",
    "julia> abs2(1 + 2im) # 取平方后的绝对值\n",
    "5\n",
    "\n",
    "julia> angle(1 + 2im) # 以弧度为单位的相位角\n",
    "1.1071487177940904"
   ]
  },
  {
   "cell_type": "markdown",
   "id": "29179678",
   "metadata": {},
   "source": [
    "按照惯例，复数的绝对值（[`abs`](@ref)）是从零点到它的距离。[`abs2`](@ref) 给出绝对值的平方，作用于复数上时非常有用，因为它避免了取平方根。[`angle`](@ref) 返回以弧度为单位的相位角（也被称为辐角函数）。所有其它的[初等函数](@ref)在复数上也都有完整的定义："
   ]
  },
  {
   "cell_type": "code",
   "execution_count": null,
   "id": "eb83a590",
   "metadata": {
    "attributes": {
     "classes": [
      "jldoctest"
     ],
     "id": ""
    }
   },
   "outputs": [],
   "source": [
    "julia> sqrt(1im)\n",
    "0.7071067811865476 + 0.7071067811865475im\n",
    "\n",
    "julia> sqrt(1 + 2im)\n",
    "1.272019649514069 + 0.7861513777574233im\n",
    "\n",
    "julia> cos(1 + 2im)\n",
    "2.0327230070196656 - 3.0518977991517997im\n",
    "\n",
    "julia> exp(1 + 2im)\n",
    "-1.1312043837568135 + 2.4717266720048188im\n",
    "\n",
    "julia> sinh(1 + 2im)\n",
    "-0.4890562590412937 + 1.4031192506220405im"
   ]
  },
  {
   "cell_type": "markdown",
   "id": "c46f2ad0",
   "metadata": {},
   "source": [
    "注意数学函数通常应用于实数就返回实数值，应用于复数就返回复数值。例如，当 [`sqrt`](@ref) 应用于 `-1` 与 `-1 + 0im` 会有不同的表现，虽然 `-1 == -1 + 0im`："
   ]
  },
  {
   "cell_type": "code",
   "execution_count": null,
   "id": "c3c2b143",
   "metadata": {
    "attributes": {
     "classes": [
      "jldoctest"
     ],
     "id": ""
    }
   },
   "outputs": [],
   "source": [
    "julia> sqrt(-1)\n",
    "ERROR: DomainError with -1.0:\n",
    "sqrt will only return a complex result if called with a complex argument. Try sqrt(Complex(x)).\n",
    "Stacktrace:\n",
    "[...]\n",
    "\n",
    "julia> sqrt(-1 + 0im)\n",
    "0.0 + 1.0im"
   ]
  },
  {
   "cell_type": "markdown",
   "id": "baa4992d",
   "metadata": {},
   "source": [
    "从变量构建复数时，[文本型数值系数记法](@ref man-numeric-literal-coefficients)不再适用。相反地，乘法必须显式地写出："
   ]
  },
  {
   "cell_type": "code",
   "execution_count": null,
   "id": "4ee9136c",
   "metadata": {
    "attributes": {
     "classes": [
      "jldoctest"
     ],
     "id": ""
    }
   },
   "outputs": [],
   "source": [
    "julia> a = 1; b = 2; a + b*im\n",
    "1 + 2im"
   ]
  },
  {
   "cell_type": "markdown",
   "id": "18c072a1",
   "metadata": {},
   "source": [
    "然而，我们**并不**推荐这样做，而应改为使用更高效的 [`complex`](@ref) 函数直接通过实部与虚部构建一个复数值："
   ]
  },
  {
   "cell_type": "code",
   "execution_count": null,
   "id": "dfca2516",
   "metadata": {
    "attributes": {
     "classes": [
      "jldoctest"
     ],
     "id": ""
    }
   },
   "outputs": [],
   "source": [
    "julia> a = 1; b = 2; complex(a, b)\n",
    "1 + 2im"
   ]
  },
  {
   "cell_type": "markdown",
   "id": "74e97073",
   "metadata": {},
   "source": [
    "这种构建避免了乘法和加法操作。\n",
    "\n",
    "[`Inf`](@ref) 和 [`NaN`](@ref) 可能出现在复数的实部和虚部，正如[特殊的浮点值](@ref)章节所描述的："
   ]
  },
  {
   "cell_type": "code",
   "execution_count": null,
   "id": "6a026ab2",
   "metadata": {
    "attributes": {
     "classes": [
      "jldoctest"
     ],
     "id": ""
    }
   },
   "outputs": [],
   "source": [
    "julia> 1 + Inf*im\n",
    "1.0 + Inf*im\n",
    "\n",
    "julia> 1 + NaN*im\n",
    "1.0 + NaN*im"
   ]
  },
  {
   "cell_type": "markdown",
   "id": "f4d14307",
   "metadata": {},
   "source": [
    "## 有理数\n",
    "\n",
    "Julia 有一个用于表示整数精确比值的分数类型。分数通过 [`//`](@ref) 运算符构建："
   ]
  },
  {
   "cell_type": "code",
   "execution_count": null,
   "id": "e00f3428",
   "metadata": {
    "attributes": {
     "classes": [
      "jldoctest"
     ],
     "id": ""
    }
   },
   "outputs": [],
   "source": [
    "julia> 2//3\n",
    "2//3"
   ]
  },
  {
   "cell_type": "markdown",
   "id": "ef7a0d7d",
   "metadata": {},
   "source": [
    "如果一个分数的分子和分母含有公因子，它们会被约分到最简形式且分母非负："
   ]
  },
  {
   "cell_type": "code",
   "execution_count": null,
   "id": "1a6d6d22",
   "metadata": {
    "attributes": {
     "classes": [
      "jldoctest"
     ],
     "id": ""
    }
   },
   "outputs": [],
   "source": [
    "julia> 6//9\n",
    "2//3\n",
    "\n",
    "julia> -4//8\n",
    "-1//2\n",
    "\n",
    "julia> 5//-15\n",
    "-1//3\n",
    "\n",
    "julia> -4//-12\n",
    "1//3"
   ]
  },
  {
   "cell_type": "markdown",
   "id": "381d391e",
   "metadata": {},
   "source": [
    "整数比值的这种标准化形式是唯一的，所以分数值的相等性可由校验分子与分母都相等来测试。分数值的标准化分子和分母可以使用 [`numerator`](@ref) 和 [`denominator`](@ref) 函数得到："
   ]
  },
  {
   "cell_type": "code",
   "execution_count": null,
   "id": "39e9e047",
   "metadata": {
    "attributes": {
     "classes": [
      "jldoctest"
     ],
     "id": ""
    }
   },
   "outputs": [],
   "source": [
    "julia> numerator(2//3)\n",
    "2\n",
    "\n",
    "julia> denominator(2//3)\n",
    "3"
   ]
  },
  {
   "cell_type": "markdown",
   "id": "ac0b0d9d",
   "metadata": {},
   "source": [
    "分子和分母的直接比较通常是不必要的，因为标准算术和比较操作对分数值也有定义："
   ]
  },
  {
   "cell_type": "code",
   "execution_count": null,
   "id": "c6e85b54",
   "metadata": {
    "attributes": {
     "classes": [
      "jldoctest"
     ],
     "id": ""
    }
   },
   "outputs": [],
   "source": [
    "julia> 2//3 == 6//9\n",
    "true\n",
    "\n",
    "julia> 2//3 == 9//27\n",
    "false\n",
    "\n",
    "julia> 3//7 < 1//2\n",
    "true\n",
    "\n",
    "julia> 3//4 > 2//3\n",
    "true\n",
    "\n",
    "julia> 2//4 + 1//6\n",
    "2//3\n",
    "\n",
    "julia> 5//12 - 1//4\n",
    "1//6\n",
    "\n",
    "julia> 5//8 * 3//12\n",
    "5//32\n",
    "\n",
    "julia> 6//5 / 10//7\n",
    "21//25"
   ]
  },
  {
   "cell_type": "markdown",
   "id": "a40c76d4",
   "metadata": {},
   "source": [
    "分数可以很容易地转换成浮点数："
   ]
  },
  {
   "cell_type": "code",
   "execution_count": null,
   "id": "52ab98a1",
   "metadata": {
    "attributes": {
     "classes": [
      "jldoctest"
     ],
     "id": ""
    }
   },
   "outputs": [],
   "source": [
    "julia> float(3//4)\n",
    "0.75"
   ]
  },
  {
   "cell_type": "markdown",
   "id": "f8eb7623",
   "metadata": {},
   "source": [
    "对任意整数值 `a` 和 `b`（除了 `a == 0` 且 `b == 0` 时），从分数到浮点数的转换遵从以下的一致性："
   ]
  },
  {
   "cell_type": "code",
   "execution_count": null,
   "id": "ff022347",
   "metadata": {
    "attributes": {
     "classes": [
      "jldoctest"
     ],
     "id": ""
    }
   },
   "outputs": [],
   "source": [
    "julia> a = 1; b = 2;\n",
    "\n",
    "julia> isequal(float(a//b), a/b)\n",
    "true"
   ]
  },
  {
   "cell_type": "markdown",
   "id": "c40b5909",
   "metadata": {},
   "source": [
    "Julia接受构建无穷分数值："
   ]
  },
  {
   "cell_type": "code",
   "execution_count": null,
   "id": "5eccc7e4",
   "metadata": {
    "attributes": {
     "classes": [
      "jldoctest"
     ],
     "id": ""
    }
   },
   "outputs": [],
   "source": [
    "julia> 5//0\n",
    "1//0\n",
    "\n",
    "julia> x = -3//0\n",
    "-1//0\n",
    "\n",
    "julia> typeof(x)\n",
    "Rational{Int64}"
   ]
  },
  {
   "cell_type": "markdown",
   "id": "f6e641d2",
   "metadata": {},
   "source": [
    "但不接受试图构建一个 [`NaN`](@ref) 分数值："
   ]
  },
  {
   "cell_type": "code",
   "execution_count": null,
   "id": "a80e09c7",
   "metadata": {
    "attributes": {
     "classes": [
      "jldoctest"
     ],
     "id": ""
    }
   },
   "outputs": [],
   "source": [
    "julia> 0//0\n",
    "ERROR: ArgumentError: invalid rational: zero(Int64)//zero(Int64)\n",
    "Stacktrace:\n",
    "[...]"
   ]
  },
  {
   "cell_type": "markdown",
   "id": "a488ce55",
   "metadata": {},
   "source": [
    "像往常一样，类型提升系统使得分数可以轻松地同其它数值类型进行交互："
   ]
  },
  {
   "cell_type": "code",
   "execution_count": null,
   "id": "7f7e57c8",
   "metadata": {
    "attributes": {
     "classes": [
      "jldoctest"
     ],
     "id": ""
    }
   },
   "outputs": [],
   "source": [
    "julia> 3//5 + 1\n",
    "8//5\n",
    "\n",
    "julia> 3//5 - 0.5\n",
    "0.09999999999999998\n",
    "\n",
    "julia> 2//7 * (1 + 2im)\n",
    "2//7 + 4//7*im\n",
    "\n",
    "julia> 2//7 * (1.5 + 2im)\n",
    "0.42857142857142855 + 0.5714285714285714im\n",
    "\n",
    "julia> 3//2 / (1 + 2im)\n",
    "3//10 - 3//5*im\n",
    "\n",
    "julia> 1//2 + 2im\n",
    "1//2 + 2//1*im\n",
    "\n",
    "julia> 1 + 2//3im\n",
    "1//1 - 2//3*im\n",
    "\n",
    "julia> 0.5 == 1//2\n",
    "true\n",
    "\n",
    "julia> 0.33 == 1//3\n",
    "false\n",
    "\n",
    "julia> 0.33 < 1//3\n",
    "true\n",
    "\n",
    "julia> 1//3 - 0.33\n",
    "0.0033333333333332993"
   ]
  }
 ],
 "metadata": {},
 "nbformat": 4,
 "nbformat_minor": 5
}
