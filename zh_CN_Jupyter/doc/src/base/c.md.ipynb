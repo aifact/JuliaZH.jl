{
 "cells": [
  {
   "cell_type": "markdown",
   "id": "95219104",
   "metadata": {},
   "source": [
    "# C 接口"
   ]
  },
  {
   "cell_type": "code",
   "execution_count": null,
   "id": "323df996",
   "metadata": {
    "attributes": {
     "classes": [
      "@docs"
     ],
     "id": ""
    }
   },
   "outputs": [],
   "source": [
    "@ccall\n",
    "ccall\n",
    "Core.Intrinsics.cglobal\n",
    "Base.@cfunction\n",
    "Base.CFunction\n",
    "Base.unsafe_convert\n",
    "Base.cconvert\n",
    "Base.unsafe_load\n",
    "Base.unsafe_store!\n",
    "Base.unsafe_copyto!{T}(::Ptr{T}, ::Ptr{T}, ::Any)\n",
    "Base.unsafe_copyto!{T}(::Array{T}, ::Any, ::Array{T}, ::Any, ::Any)\n",
    "Base.copyto!\n",
    "Base.pointer\n",
    "Base.unsafe_wrap{T,N}(::Union{Type{Array},Type{Array{T}},Type{Array{T,N}}}, ::Ptr{T}, ::NTuple{N,Int})\n",
    "Base.pointer_from_objref\n",
    "Base.unsafe_pointer_to_objref\n",
    "Base.disable_sigint\n",
    "Base.reenable_sigint\n",
    "Base.exit_on_sigint\n",
    "Base.systemerror\n",
    "Base.windowserror\n",
    "Core.Ptr\n",
    "Core.Ref\n",
    "Base.isassigned(::Base.RefValue)\n",
    "Base.Cchar\n",
    "Base.Cuchar\n",
    "Base.Cshort\n",
    "Base.Cstring\n",
    "Base.Cushort\n",
    "Base.Cint\n",
    "Base.Cuint\n",
    "Base.Clong\n",
    "Base.Culong\n",
    "Base.Clonglong\n",
    "Base.Culonglong\n",
    "Base.Cintmax_t\n",
    "Base.Cuintmax_t\n",
    "Base.Csize_t\n",
    "Base.Cssize_t\n",
    "Base.Cptrdiff_t\n",
    "Base.Cwchar_t\n",
    "Base.Cwstring\n",
    "Base.Cfloat\n",
    "Base.Cdouble"
   ]
  },
  {
   "cell_type": "markdown",
   "id": "4cf15f5a",
   "metadata": {},
   "source": [
    "# LLVM 接口"
   ]
  },
  {
   "cell_type": "code",
   "execution_count": null,
   "id": "ef988262",
   "metadata": {
    "attributes": {
     "classes": [
      "@docs"
     ],
     "id": ""
    }
   },
   "outputs": [],
   "source": [
    "Core.Intrinsics.llvmcall"
   ]
  }
 ],
 "metadata": {},
 "nbformat": 4,
 "nbformat_minor": 5
}
