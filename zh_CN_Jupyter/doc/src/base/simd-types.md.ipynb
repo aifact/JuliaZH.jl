{
 "cells": [
  {
   "cell_type": "markdown",
   "id": "b879bba1",
   "metadata": {},
   "source": [
    "# SIMD 支持\n",
    "\n",
    "`VecElement{T}` 类型是为了构建 SIMD 运算符的库。实际使用中要求使用 `llvmcall`。类型按下文定义："
   ]
  },
  {
   "cell_type": "code",
   "execution_count": null,
   "id": "b7aaaecb",
   "metadata": {
    "attributes": {
     "classes": [
      "julia"
     ],
     "id": ""
    }
   },
   "outputs": [],
   "source": [
    "struct VecElement{T}\n",
    "    value::T\n",
    "end"
   ]
  },
  {
   "cell_type": "markdown",
   "id": "47a0d793",
   "metadata": {},
   "source": [
    "It has a special compilation rule: a homogeneous tuple of `VecElement{T}` maps to an LLVM `vector`\n",
    "type when `T` is a primitive bits type.\n",
    "\n",
    "使用 `-O3` 参数时，编译器 *可能* 自动为这样的元组向量化运算符。\n",
    "例如接下来的程序，使用 `julia -O3` 编译，在x86系统中会生成两个 SIMD 附加指令（`addps`）："
   ]
  },
  {
   "cell_type": "code",
   "execution_count": null,
   "id": "6e50da16",
   "metadata": {
    "attributes": {
     "classes": [
      "julia"
     ],
     "id": ""
    }
   },
   "outputs": [],
   "source": [
    "const m128 = NTuple{4,VecElement{Float32}}\n",
    "\n",
    "function add(a::m128, b::m128)\n",
    "    (VecElement(a[1].value+b[1].value),\n",
    "     VecElement(a[2].value+b[2].value),\n",
    "     VecElement(a[3].value+b[3].value),\n",
    "     VecElement(a[4].value+b[4].value))\n",
    "end\n",
    "\n",
    "triple(c::m128) = add(add(c,c),c)\n",
    "\n",
    "code_native(triple,(m128,))"
   ]
  },
  {
   "cell_type": "markdown",
   "id": "655f14d9",
   "metadata": {},
   "source": [
    "然而，因为无法依靠自动向量化，以后将主要通过使用基于 `llvmcall` 的库来提供 SIMD 支持。"
   ]
  }
 ],
 "metadata": {},
 "nbformat": 4,
 "nbformat_minor": 5
}
