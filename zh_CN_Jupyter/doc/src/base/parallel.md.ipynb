{
 "cells": [
  {
   "cell_type": "markdown",
   "id": "8a9a793b",
   "metadata": {},
   "source": [
    "# Tasks"
   ]
  },
  {
   "cell_type": "code",
   "execution_count": null,
   "id": "72ba80a2",
   "metadata": {
    "attributes": {
     "classes": [
      "@docs"
     ],
     "id": ""
    }
   },
   "outputs": [],
   "source": [
    "Core.Task\n",
    "Base.@task\n",
    "Base.@async\n",
    "Base.asyncmap\n",
    "Base.asyncmap!\n",
    "Base.current_task\n",
    "Base.istaskdone\n",
    "Base.istaskstarted\n",
    "Base.istaskfailed\n",
    "Base.task_local_storage(::Any)\n",
    "Base.task_local_storage(::Any, ::Any)\n",
    "Base.task_local_storage(::Function, ::Any, ::Any)"
   ]
  },
  {
   "cell_type": "markdown",
   "id": "309ca2a5",
   "metadata": {},
   "source": [
    "## Scheduling"
   ]
  },
  {
   "cell_type": "code",
   "execution_count": null,
   "id": "3be77852",
   "metadata": {
    "attributes": {
     "classes": [
      "@docs"
     ],
     "id": ""
    }
   },
   "outputs": [],
   "source": [
    "Base.yield\n",
    "Base.yieldto\n",
    "Base.sleep\n",
    "Base.schedule"
   ]
  },
  {
   "cell_type": "markdown",
   "id": "39c9677a",
   "metadata": {},
   "source": [
    "## [Synchronization](@id lib-task-sync)"
   ]
  },
  {
   "cell_type": "code",
   "execution_count": null,
   "id": "4c378794",
   "metadata": {
    "attributes": {
     "classes": [
      "@docs"
     ],
     "id": ""
    }
   },
   "outputs": [],
   "source": [
    "Base.errormonitor\n",
    "Base.@sync\n",
    "Base.wait\n",
    "Base.fetch(t::Task)\n",
    "Base.timedwait\n",
    "\n",
    "Base.Condition\n",
    "Base.notify\n",
    "\n",
    "Base.Semaphore\n",
    "Base.acquire\n",
    "Base.release\n",
    "\n",
    "Base.AbstractLock\n",
    "Base.lock\n",
    "Base.unlock\n",
    "Base.trylock\n",
    "Base.islocked\n",
    "Base.ReentrantLock"
   ]
  },
  {
   "cell_type": "markdown",
   "id": "d08ca870",
   "metadata": {},
   "source": [
    "## Channels"
   ]
  },
  {
   "cell_type": "code",
   "execution_count": null,
   "id": "29c9c758",
   "metadata": {
    "attributes": {
     "classes": [
      "@docs"
     ],
     "id": ""
    }
   },
   "outputs": [],
   "source": [
    "Base.Channel\n",
    "Base.Channel(::Function)\n",
    "Base.put!(::Channel, ::Any)\n",
    "Base.take!(::Channel)\n",
    "Base.isready(::Channel)\n",
    "Base.fetch(::Channel)\n",
    "Base.close(::Channel)\n",
    "Base.bind(c::Channel, task::Task)"
   ]
  }
 ],
 "metadata": {},
 "nbformat": 4,
 "nbformat_minor": 5
}
