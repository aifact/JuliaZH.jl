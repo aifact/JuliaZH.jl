{
 "cells": [
  {
   "cell_type": "markdown",
   "id": "3af3c3af",
   "metadata": {},
   "source": [
    "# C 标准库"
   ]
  },
  {
   "cell_type": "code",
   "execution_count": null,
   "id": "be7ee231",
   "metadata": {
    "attributes": {
     "classes": [
      "@docs"
     ],
     "id": ""
    }
   },
   "outputs": [],
   "source": [
    "Base.Libc.malloc\n",
    "Base.Libc.calloc\n",
    "Base.Libc.realloc\n",
    "Base.Libc.free\n",
    "Base.Libc.errno\n",
    "Base.Libc.strerror\n",
    "Base.Libc.GetLastError\n",
    "Base.Libc.FormatMessage\n",
    "Base.Libc.time(::Base.Libc.TmStruct)\n",
    "Base.Libc.strftime\n",
    "Base.Libc.strptime\n",
    "Base.Libc.TmStruct\n",
    "Base.Libc.flush_cstdio\n",
    "Base.Libc.systemsleep"
   ]
  }
 ],
 "metadata": {},
 "nbformat": 4,
 "nbformat_minor": 5
}
