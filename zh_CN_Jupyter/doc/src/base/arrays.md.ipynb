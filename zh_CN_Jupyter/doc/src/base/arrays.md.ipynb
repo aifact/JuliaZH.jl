{
 "cells": [
  {
   "cell_type": "markdown",
   "id": "84aec3c7",
   "metadata": {},
   "source": [
    "# [数组](@id lib-arrays)\n",
    "\n",
    "## 构造函数与类型"
   ]
  },
  {
   "cell_type": "code",
   "execution_count": null,
   "id": "a625bd91",
   "metadata": {
    "attributes": {
     "classes": [
      "@docs"
     ],
     "id": ""
    }
   },
   "outputs": [],
   "source": [
    "Core.AbstractArray\n",
    "Base.AbstractVector\n",
    "Base.AbstractMatrix\n",
    "Base.AbstractVecOrMat\n",
    "Core.Array\n",
    "Core.Array(::UndefInitializer, ::Any)\n",
    "Core.Array(::Nothing, ::Any)\n",
    "Core.Array(::Missing, ::Any)\n",
    "Core.UndefInitializer\n",
    "Core.undef\n",
    "Base.Vector\n",
    "Base.Vector(::UndefInitializer, ::Any)\n",
    "Base.Vector(::Nothing, ::Any)\n",
    "Base.Vector(::Missing, ::Any)\n",
    "Base.Matrix\n",
    "Base.Matrix(::UndefInitializer, ::Any, ::Any)\n",
    "Base.Matrix(::Nothing, ::Any, ::Any)\n",
    "Base.Matrix(::Missing, ::Any, ::Any)\n",
    "Base.VecOrMat\n",
    "Core.DenseArray\n",
    "Base.DenseVector\n",
    "Base.DenseMatrix\n",
    "Base.DenseVecOrMat\n",
    "Base.StridedArray\n",
    "Base.StridedVector\n",
    "Base.StridedMatrix\n",
    "Base.StridedVecOrMat\n",
    "Base.getindex(::Type, ::Any...)\n",
    "Base.zeros\n",
    "Base.ones\n",
    "Base.BitArray\n",
    "Base.BitArray(::UndefInitializer, ::Integer...)\n",
    "Base.BitArray(::Any)\n",
    "Base.trues\n",
    "Base.falses\n",
    "Base.fill\n",
    "Base.fill!\n",
    "Base.empty\n",
    "Base.similar"
   ]
  },
  {
   "cell_type": "markdown",
   "id": "965f8168",
   "metadata": {},
   "source": [
    "## 基础函数"
   ]
  },
  {
   "cell_type": "code",
   "execution_count": null,
   "id": "6c320ce3",
   "metadata": {
    "attributes": {
     "classes": [
      "@docs"
     ],
     "id": ""
    }
   },
   "outputs": [],
   "source": [
    "Base.ndims\n",
    "Base.size\n",
    "Base.axes(::Any)\n",
    "Base.axes(::AbstractArray, ::Any)\n",
    "Base.length(::AbstractArray)\n",
    "Base.keys(::AbstractArray)\n",
    "Base.eachindex\n",
    "Base.IndexStyle\n",
    "Base.IndexLinear\n",
    "Base.IndexCartesian\n",
    "Base.conj!\n",
    "Base.stride\n",
    "Base.strides"
   ]
  },
  {
   "cell_type": "markdown",
   "id": "cc4a876c",
   "metadata": {},
   "source": [
    "## 广播与矢量化\n",
    "\n",
    "也可参照 [dot syntax for vectorizing functions](@ref man-vectorized)；\n",
    "例如，`f.(args...)` 隐式调用 `broadcast(f, args...)`。\n",
    "与其依赖如 `sin` 函数的“已矢量化”方法，你应该使用 `sin.(a)` 来使用`broadcast`来矢量化。"
   ]
  },
  {
   "cell_type": "code",
   "execution_count": null,
   "id": "8510149e",
   "metadata": {
    "attributes": {
     "classes": [
      "@docs"
     ],
     "id": ""
    }
   },
   "outputs": [],
   "source": [
    "Base.broadcast\n",
    "Base.Broadcast.broadcast!\n",
    "Base.@__dot__"
   ]
  },
  {
   "cell_type": "markdown",
   "id": "79f88d04",
   "metadata": {},
   "source": [
    "自定义类型的广播，请参照"
   ]
  },
  {
   "cell_type": "code",
   "execution_count": null,
   "id": "fa5a5b7e",
   "metadata": {
    "attributes": {
     "classes": [
      "@docs"
     ],
     "id": ""
    }
   },
   "outputs": [],
   "source": [
    "Base.BroadcastStyle\n",
    "Base.Broadcast.AbstractArrayStyle\n",
    "Base.Broadcast.ArrayStyle\n",
    "Base.Broadcast.DefaultArrayStyle\n",
    "Base.Broadcast.broadcastable\n",
    "Base.Broadcast.combine_axes\n",
    "Base.Broadcast.combine_styles\n",
    "Base.Broadcast.result_style"
   ]
  },
  {
   "cell_type": "markdown",
   "id": "eda577fd",
   "metadata": {},
   "source": [
    "## 索引与赋值"
   ]
  },
  {
   "cell_type": "code",
   "execution_count": null,
   "id": "c315f9d0",
   "metadata": {
    "attributes": {
     "classes": [
      "@docs"
     ],
     "id": ""
    }
   },
   "outputs": [],
   "source": [
    "Base.getindex(::AbstractArray, ::Any...)\n",
    "Base.setindex!(::AbstractArray, ::Any, ::Any...)\n",
    "Base.copyto!(::AbstractArray, ::CartesianIndices, ::AbstractArray, ::CartesianIndices)\n",
    "Base.copy!\n",
    "Base.isassigned\n",
    "Base.Colon\n",
    "Base.CartesianIndex\n",
    "Base.CartesianIndices\n",
    "Base.Dims\n",
    "Base.LinearIndices\n",
    "Base.to_indices\n",
    "Base.checkbounds\n",
    "Base.checkindex\n",
    "Base.elsize"
   ]
  },
  {
   "cell_type": "markdown",
   "id": "4b6b7e37",
   "metadata": {},
   "source": [
    "## Views (SubArrays 以及其它 view 类型)\n",
    "\n",
    "“视图”是一种表现和数组相似的数据结构（它是 `AbstractArray` 的子类型），但是它的底层数据实际上是另一个数组的一部分。\n",
    "\n",
    "例如，`x` 是一个数组，`v = @view x[1:10]`，则 `v` 表现得就像一个含有 10 个元素的数组，但是它的数据实际上是访问 `x` 的前 10 个元素。对视图的写入，如 `v[3] = 2`，直接写入了底层的数组 `x` （这里是修改 `x[3]`）。\n",
    "\n",
    "在 Julia 中，像 `x[1:10]` 这样的切片操作会创建一个副本。`@view x[1:10]` 将它变成创建一个视图。\n",
    "`@views`  宏可以用于整个代码块（如 `@views function foo() .... end` 或 `@views begin ... end`）来将整个代码块中的切片操作变为使用视图。\n",
    "如[性能建议](@ref man-performance-views)所描述的，有时候使用数据的副本更快，而有时候使用视图会更快。"
   ]
  },
  {
   "cell_type": "code",
   "execution_count": null,
   "id": "a6a36b44",
   "metadata": {
    "attributes": {
     "classes": [
      "@docs"
     ],
     "id": ""
    }
   },
   "outputs": [],
   "source": [
    "Base.view\n",
    "Base.@view\n",
    "Base.@views\n",
    "Base.parent\n",
    "Base.parentindices\n",
    "Base.selectdim\n",
    "Base.reinterpret\n",
    "Base.reshape\n",
    "Base.dropdims\n",
    "Base.vec\n",
    "Base.SubArray"
   ]
  },
  {
   "cell_type": "markdown",
   "id": "0c3d0e9b",
   "metadata": {},
   "source": [
    "## 拼接与排列"
   ]
  },
  {
   "cell_type": "code",
   "execution_count": null,
   "id": "b2e0c276",
   "metadata": {
    "attributes": {
     "classes": [
      "@docs"
     ],
     "id": ""
    }
   },
   "outputs": [],
   "source": [
    "Base.cat\n",
    "Base.vcat\n",
    "Base.hcat\n",
    "Base.hvcat\n",
    "Base.hvncat\n",
    "Base.vect\n",
    "Base.circshift\n",
    "Base.circshift!\n",
    "Base.circcopy!\n",
    "Base.findall(::Any)\n",
    "Base.findall(::Function, ::Any)\n",
    "Base.findfirst(::Any)\n",
    "Base.findfirst(::Function, ::Any)\n",
    "Base.findlast(::Any)\n",
    "Base.findlast(::Function, ::Any)\n",
    "Base.findnext(::Any, ::Integer)\n",
    "Base.findnext(::Function, ::Any, ::Integer)\n",
    "Base.findprev(::Any, ::Integer)\n",
    "Base.findprev(::Function, ::Any, ::Integer)\n",
    "Base.permutedims\n",
    "Base.permutedims!\n",
    "Base.PermutedDimsArray\n",
    "Base.promote_shape"
   ]
  },
  {
   "cell_type": "markdown",
   "id": "efcc8b8a",
   "metadata": {},
   "source": [
    "## 数组函数"
   ]
  },
  {
   "cell_type": "code",
   "execution_count": null,
   "id": "ca3c255d",
   "metadata": {
    "attributes": {
     "classes": [
      "@docs"
     ],
     "id": ""
    }
   },
   "outputs": [],
   "source": [
    "Base.accumulate\n",
    "Base.accumulate!\n",
    "Base.cumprod\n",
    "Base.cumprod!\n",
    "Base.cumsum\n",
    "Base.cumsum!\n",
    "Base.diff\n",
    "Base.repeat\n",
    "Base.rot180\n",
    "Base.rotl90\n",
    "Base.rotr90\n",
    "Base.mapslices\n",
    "Base.eachrow\n",
    "Base.eachcol\n",
    "Base.eachslice"
   ]
  },
  {
   "cell_type": "markdown",
   "id": "0d4d5c7b",
   "metadata": {},
   "source": [
    "## 组合学"
   ]
  },
  {
   "cell_type": "code",
   "execution_count": null,
   "id": "6c3c9f76",
   "metadata": {
    "attributes": {
     "classes": [
      "@docs"
     ],
     "id": ""
    }
   },
   "outputs": [],
   "source": [
    "Base.invperm\n",
    "Base.isperm\n",
    "Base.permute!(::Any, ::AbstractVector)\n",
    "Base.invpermute!\n",
    "Base.reverse(::AbstractVector; kwargs...)\n",
    "Base.reverseind\n",
    "Base.reverse!"
   ]
  }
 ],
 "metadata": {},
 "nbformat": 4,
 "nbformat_minor": 5
}
