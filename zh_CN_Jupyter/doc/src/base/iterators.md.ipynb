{
 "cells": [
  {
   "cell_type": "markdown",
   "id": "8ff43fd3",
   "metadata": {},
   "source": [
    "# 迭代相关"
   ]
  },
  {
   "cell_type": "code",
   "execution_count": null,
   "id": "2a52b2dd",
   "metadata": {
    "attributes": {
     "classes": [
      "@docs"
     ],
     "id": ""
    }
   },
   "outputs": [],
   "source": [
    "Base.Iterators.Stateful\n",
    "Base.Iterators.zip\n",
    "Base.Iterators.enumerate\n",
    "Base.Iterators.rest\n",
    "Base.Iterators.countfrom\n",
    "Base.Iterators.take\n",
    "Base.Iterators.takewhile\n",
    "Base.Iterators.drop\n",
    "Base.Iterators.dropwhile\n",
    "Base.Iterators.cycle\n",
    "Base.Iterators.repeated\n",
    "Base.Iterators.product\n",
    "Base.Iterators.flatten\n",
    "Base.Iterators.partition\n",
    "Base.Iterators.map\n",
    "Base.Iterators.filter\n",
    "Base.Iterators.accumulate\n",
    "Base.Iterators.reverse\n",
    "Base.Iterators.only\n",
    "Base.Iterators.peel"
   ]
  }
 ],
 "metadata": {},
 "nbformat": 4,
 "nbformat_minor": 5
}
