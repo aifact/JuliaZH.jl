{
 "cells": [
  {
   "cell_type": "markdown",
   "id": "a8ee2fa0",
   "metadata": {},
   "source": [
    "# 排序及相关函数\n",
    "\n",
    "Julia 拥有为数众多的灵活的 API，用于对已经排序的值数组进行排序和交互。默认情况下，Julia 会选择合理的算法并按标准升序进行排序："
   ]
  },
  {
   "cell_type": "code",
   "execution_count": null,
   "id": "e5746ef6",
   "metadata": {
    "attributes": {
     "classes": [
      "jldoctest"
     ],
     "id": ""
    }
   },
   "outputs": [],
   "source": [
    "julia> sort([2,3,1])\n",
    "3-element Vector{Int64}:\n",
    " 1\n",
    " 2\n",
    " 3"
   ]
  },
  {
   "cell_type": "markdown",
   "id": "2b1f2236",
   "metadata": {},
   "source": [
    "你同样可以轻松实现逆序排序："
   ]
  },
  {
   "cell_type": "code",
   "execution_count": null,
   "id": "b2f56528",
   "metadata": {
    "attributes": {
     "classes": [
      "jldoctest"
     ],
     "id": ""
    }
   },
   "outputs": [],
   "source": [
    "julia> sort([2,3,1], rev=true)\n",
    "3-element Vector{Int64}:\n",
    " 3\n",
    " 2\n",
    " 1"
   ]
  },
  {
   "cell_type": "markdown",
   "id": "d417fc50",
   "metadata": {},
   "source": [
    "对数组进行 in-place 排序时，要使用 `!` 版的排序函数："
   ]
  },
  {
   "cell_type": "code",
   "execution_count": null,
   "id": "8c0e4893",
   "metadata": {
    "attributes": {
     "classes": [
      "jldoctest"
     ],
     "id": ""
    }
   },
   "outputs": [],
   "source": [
    "julia> a = [2,3,1];\n",
    "\n",
    "julia> sort!(a);\n",
    "\n",
    "julia> a\n",
    "3-element Vector{Int64}:\n",
    " 1\n",
    " 2\n",
    " 3"
   ]
  },
  {
   "cell_type": "markdown",
   "id": "7bd1cb0e",
   "metadata": {},
   "source": [
    "你可以计算用于排列的索引，而不是直接对数组进行排序："
   ]
  },
  {
   "cell_type": "code",
   "execution_count": null,
   "id": "5f918d07",
   "metadata": {
    "attributes": {
     "classes": [
      "julia-repl"
     ],
     "id": ""
    }
   },
   "outputs": [],
   "source": [
    "julia> v = randn(5)\n",
    "5-element Array{Float64,1}:\n",
    "  0.297288\n",
    "  0.382396\n",
    " -0.597634\n",
    " -0.0104452\n",
    " -0.839027\n",
    "\n",
    "julia> p = sortperm(v)\n",
    "5-element Array{Int64,1}:\n",
    " 5\n",
    " 3\n",
    " 4\n",
    " 1\n",
    " 2\n",
    "\n",
    "julia> v[p]\n",
    "5-element Array{Float64,1}:\n",
    " -0.839027\n",
    " -0.597634\n",
    " -0.0104452\n",
    "  0.297288\n",
    "  0.382396"
   ]
  },
  {
   "cell_type": "markdown",
   "id": "2a2f6916",
   "metadata": {},
   "source": [
    "数组可以根据对其值任意的转换结果来进行排序；"
   ]
  },
  {
   "cell_type": "code",
   "execution_count": null,
   "id": "fb9ae008",
   "metadata": {
    "attributes": {
     "classes": [
      "julia-repl"
     ],
     "id": ""
    }
   },
   "outputs": [],
   "source": [
    "julia> sort(v, by=abs)\n",
    "5-element Array{Float64,1}:\n",
    " -0.0104452\n",
    "  0.297288\n",
    "  0.382396\n",
    " -0.597634\n",
    " -0.839027"
   ]
  },
  {
   "cell_type": "markdown",
   "id": "fb7b5e42",
   "metadata": {},
   "source": [
    "或者通过转换来进行逆序排序"
   ]
  },
  {
   "cell_type": "code",
   "execution_count": null,
   "id": "395bd5be",
   "metadata": {
    "attributes": {
     "classes": [
      "julia-repl"
     ],
     "id": ""
    }
   },
   "outputs": [],
   "source": [
    "julia> sort(v, by=abs, rev=true)\n",
    "5-element Array{Float64,1}:\n",
    " -0.839027\n",
    " -0.597634\n",
    "  0.382396\n",
    "  0.297288\n",
    " -0.0104452"
   ]
  },
  {
   "cell_type": "markdown",
   "id": "200e0753",
   "metadata": {},
   "source": [
    "如有必要，可以选择排序算法："
   ]
  },
  {
   "cell_type": "code",
   "execution_count": null,
   "id": "299d3716",
   "metadata": {
    "attributes": {
     "classes": [
      "julia-repl"
     ],
     "id": ""
    }
   },
   "outputs": [],
   "source": [
    "julia> sort(v, alg=InsertionSort)\n",
    "5-element Array{Float64,1}:\n",
    " -0.839027\n",
    " -0.597634\n",
    " -0.0104452\n",
    "  0.297288\n",
    "  0.382396"
   ]
  },
  {
   "cell_type": "markdown",
   "id": "349556c0",
   "metadata": {},
   "source": [
    "所有与排序和顺序相关的函数依赖于“小于”关系，该关系定义了要操纵的值的总顺序。默认情况下会调用 `isless` 函数，但可以通过 `lt` 关键字指定关系。\n",
    "\n",
    "## 排序函数"
   ]
  },
  {
   "cell_type": "code",
   "execution_count": null,
   "id": "046c5777",
   "metadata": {
    "attributes": {
     "classes": [
      "@docs"
     ],
     "id": ""
    }
   },
   "outputs": [],
   "source": [
    "Base.sort!\n",
    "Base.sort\n",
    "Base.sortperm\n",
    "Base.InsertionSort\n",
    "Base.MergeSort\n",
    "Base.QuickSort\n",
    "Base.PartialQuickSort\n",
    "Base.Sort.sortperm!\n",
    "Base.Sort.sortslices"
   ]
  },
  {
   "cell_type": "markdown",
   "id": "8a336cd9",
   "metadata": {},
   "source": [
    "## 排列顺序相关的函数"
   ]
  },
  {
   "cell_type": "code",
   "execution_count": null,
   "id": "f773ff2a",
   "metadata": {
    "attributes": {
     "classes": [
      "@docs"
     ],
     "id": ""
    }
   },
   "outputs": [],
   "source": [
    "Base.issorted\n",
    "Base.Sort.searchsorted\n",
    "Base.Sort.searchsortedfirst\n",
    "Base.Sort.searchsortedlast\n",
    "Base.Sort.insorted\n",
    "Base.Sort.partialsort!\n",
    "Base.Sort.partialsort\n",
    "Base.Sort.partialsortperm\n",
    "Base.Sort.partialsortperm!"
   ]
  },
  {
   "cell_type": "markdown",
   "id": "38c02ca5",
   "metadata": {},
   "source": [
    "## 排序算法\n",
    "\n",
    "目前，Julia Base 中有四种可用的排序算法：\n",
    "\n",
    "  * [`InsertionSort`](@ref)\n",
    "  * [`QuickSort`](@ref)\n",
    "  * [`PartialQuickSort(k)`](@ref)\n",
    "  * [`MergeSort`](@ref)\n",
    "\n",
    "`InsertionSort` 是一个在 `QuickSort` 中使用的时间复杂度为 O(n^2) 的稳定的排序算法，它通常在 `n` 比较小的时候才具有较高的效率。\n",
    "\n",
    "`QuickSort` 是一个内置并且非常快，但是不稳定的时间复杂度为 O(n log n）的排序算法，例如即使数组两个元素相等的，它们排序之后的顺序也可能和在原数组中顺序不一致。`QuickSort` 是内置的包括整数和浮点数在内的数字值的默认排序算法。\n",
    "\n",
    "`PartialQuickSort(k)` 类似于 `QuickSort`，但是如果 `k` 是一个整数，输出数组只排序到索引 `k`，如果 `k` 是 `OrdinalRange`，则输出数组排在 `k` 范围内。 例如："
   ]
  },
  {
   "cell_type": "code",
   "execution_count": null,
   "id": "7c83a3e9",
   "metadata": {
    "attributes": {
     "classes": [
      "julia"
     ],
     "id": ""
    }
   },
   "outputs": [],
   "source": [
    "x = rand(1:500, 100)\n",
    "k = 50\n",
    "k2 = 50:100\n",
    "s = sort(x; alg=QuickSort)\n",
    "ps = sort(x; alg=PartialQuickSort(k))\n",
    "qs = sort(x; alg=PartialQuickSort(k2))\n",
    "map(issorted, (s, ps, qs))             # => (true, false, false)\n",
    "map(x->issorted(x[1:k]), (s, ps, qs))  # => (true, true, false)\n",
    "map(x->issorted(x[k2]), (s, ps, qs))   # => (true, false, true)\n",
    "s[1:k] == ps[1:k]                      # => true\n",
    "s[k2] == qs[k2]                        # => true"
   ]
  },
  {
   "cell_type": "markdown",
   "id": "3dc50cf1",
   "metadata": {},
   "source": [
    "`MergeSort` 是一个时间复杂度为 O(n log n) 的稳定但是非 in-place 的算法，它需要一个大小为输入数组一般的临时数组——同时也不像 `QuickSort` 一样快。`MergeSort` 是非数值型数据的默认排序算法。\n",
    "\n",
    "默认排序算法的选择是基于它们的快速稳定，或者 *appear* 之类的。对于数值类型，实际上选择了 `QuickSort`，因为在这种情况下，它更快，与稳定排序没有区别(除非数组以某种方式记录了突变)\n",
    "\n",
    "Julia选择默认排序算法的机制是通过 `Base.Sort.defalg` 来实现的，其允许将特定算法注册为特定数组的所有排序函数中的默认值。例如，这有两个默认算法 [`sort.jl`](https://github.com/JuliaLang/julia/blob/master/base/sort.jl):"
   ]
  },
  {
   "cell_type": "code",
   "execution_count": null,
   "id": "427a21d4",
   "metadata": {
    "attributes": {
     "classes": [
      "julia"
     ],
     "id": ""
    }
   },
   "outputs": [],
   "source": [
    "defalg(v::AbstractArray) = MergeSort\n",
    "defalg(v::AbstractArray{<:Number}) = QuickSort"
   ]
  },
  {
   "cell_type": "markdown",
   "id": "d16389ed",
   "metadata": {},
   "source": [
    "对于数值型数组，选择非稳定的默认排序算法的原则是稳定的排序算法没有必要的（例如：但两个值相比较时相等且不可区分时）。\n",
    "\n",
    "## Alternate orderings\n",
    "\n",
    "By default, `sort` and related functions use [`isless`](@ref) to compare two\n",
    "elements in order to determine which should come first. The\n",
    "[`Base.Order.Ordering`](@ref) abstract type provides a mechanism for defining\n",
    "alternate orderings on the same set of elements. Instances of `Ordering` define\n",
    "a [total order](https://en.wikipedia.org/wiki/Total_order) on a set of elements,\n",
    "so that for any elements `a`, `b`, `c` the following hold:\n",
    "\n",
    "* Exactly one of the following is true: `a` is less than `b`, `b` is less than\n",
    "  `a`, or `a` and `b` are equal (according to [`isequal`](@ref)).\n",
    "* The relation is transitive - if `a` is less than `b` and `b` is less than `c`\n",
    "  then `a` is less than `c`.\n",
    "\n",
    "The [`Base.Order.lt`](@ref) function works as a generalization of `isless` to\n",
    "test whether `a` is less than `b` according to a given order."
   ]
  },
  {
   "cell_type": "code",
   "execution_count": null,
   "id": "975f0504",
   "metadata": {
    "attributes": {
     "classes": [
      "@docs"
     ],
     "id": ""
    }
   },
   "outputs": [],
   "source": [
    "Base.Order.Ordering\n",
    "Base.Order.lt\n",
    "Base.Order.ord\n",
    "Base.Order.Forward\n",
    "Base.Order.ReverseOrdering\n",
    "Base.Order.Reverse\n",
    "Base.Order.By\n",
    "Base.Order.Lt\n",
    "Base.Order.Perm"
   ]
  }
 ],
 "metadata": {},
 "nbformat": 4,
 "nbformat_minor": 5
}
