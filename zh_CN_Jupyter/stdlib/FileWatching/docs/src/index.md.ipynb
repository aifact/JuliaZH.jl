{
 "cells": [
  {
   "cell_type": "markdown",
   "id": "05dc6d0b",
   "metadata": {},
   "source": [
    "# 文件相关事件"
   ]
  },
  {
   "cell_type": "code",
   "execution_count": null,
   "id": "709b8805",
   "metadata": {
    "attributes": {
     "classes": [
      "@docs"
     ],
     "id": ""
    }
   },
   "outputs": [],
   "source": [
    "FileWatching.poll_fd\n",
    "FileWatching.poll_file\n",
    "FileWatching.watch_file\n",
    "FileWatching.watch_folder\n",
    "FileWatching.unwatch_folder"
   ]
  }
 ],
 "metadata": {},
 "nbformat": 4,
 "nbformat_minor": 5
}
