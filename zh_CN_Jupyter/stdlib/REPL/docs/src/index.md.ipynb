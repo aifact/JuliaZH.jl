{
 "cells": [
  {
   "cell_type": "markdown",
   "id": "3c70ecd9",
   "metadata": {},
   "source": [
    "# Julia REPL\n",
    "\n",
    "Julia 附带了一个全功能的交互式命令行 REPL（read-eval-print loop），其内置于 `julia` 可执行文件中。它除了允许快速简便地执行 Julia 语句外，还具有可搜索的历史记录，tab 补全，许多有用的按键绑定以及专用的 help 和 shell 模式。只需不附带任何参数地调用 `julia` 或双击可执行文件即可启动 REPL："
   ]
  },
  {
   "cell_type": "code",
   "execution_count": null,
   "id": "e679cedd",
   "metadata": {
    "attributes": {
     "classes": [
      "@eval"
     ],
     "id": ""
    }
   },
   "outputs": [],
   "source": [
    "io = IOBuffer()\n",
    "Base.banner(io)\n",
    "banner = String(take!(io))\n",
    "import Markdown\n",
    "Markdown.parse(\"```\\n\\$ julia\\n\\n$(banner)\\njulia>\\n```\")"
   ]
  },
  {
   "cell_type": "markdown",
   "id": "ae92e2a4",
   "metadata": {},
   "source": [
    "要退出交互式会话，在空白行上键入 `^D`——control 键和 `d` 键，或者先键入 `quit()`，然后键入 return 或 enter 键。REPL 用横幅和 `julia>` 提示符欢迎你。\n",
    "\n",
    "## 不同的提示符模式\n",
    "\n",
    "### Julian 模式\n",
    "\n",
    "The REPL has five main modes of operation. The first and most common is the Julian prompt. It\n",
    "is the default mode of operation; each new line initially starts with `julia>`. It is here that\n",
    "you can enter Julia expressions. Hitting return or enter after a complete expression has been\n",
    "entered will evaluate the entry and show the result of the last expression."
   ]
  },
  {
   "cell_type": "code",
   "execution_count": null,
   "id": "b6751b64",
   "metadata": {
    "attributes": {
     "classes": [
      "jldoctest"
     ],
     "id": ""
    }
   },
   "outputs": [],
   "source": [
    "julia> string(1 + 2)\n",
    "\"3\""
   ]
  },
  {
   "cell_type": "markdown",
   "id": "116970b1",
   "metadata": {},
   "source": [
    "交互式运行有许多独特的实用功能。除了显示结果外，REPL 还将结果绑定到变量 `ans` 上。一行的尾随分号可用作禁止显示结果的标志。"
   ]
  },
  {
   "cell_type": "code",
   "execution_count": null,
   "id": "aa1df39c",
   "metadata": {
    "attributes": {
     "classes": [
      "jldoctest"
     ],
     "id": ""
    }
   },
   "outputs": [],
   "source": [
    "julia> string(3 * 4);\n",
    "\n",
    "julia> ans\n",
    "\"12\""
   ]
  },
  {
   "cell_type": "markdown",
   "id": "1208cc7a",
   "metadata": {},
   "source": [
    "In Julia mode, the REPL supports something called *prompt pasting*. This activates when pasting\n",
    "text that starts with `julia> ` into the REPL. In that case, only expressions starting with\n",
    "`julia> ` are parsed, others are removed. This makes it possible to paste a chunk of code\n",
    "that has been copied from a REPL session without having to scrub away prompts and outputs. This\n",
    "feature is enabled by default but can be disabled or enabled at will with `REPL.enable_promptpaste(::Bool)`.\n",
    "If it is enabled, you can try it out by pasting the code block above this paragraph straight into\n",
    "the REPL. This feature does not work on the standard Windows command prompt due to its limitation\n",
    "at detecting when a paste occurs.\n",
    "\n",
    "Objects are printed at the REPL using the [`show`](@ref) function with a specific [`IOContext`](@ref).\n",
    "In particular, the `:limit` attribute is set to `true`.\n",
    "Other attributes can receive in certain `show` methods a default value if it's not already set,\n",
    "like `:compact`.\n",
    "It's possible, as an experimental feature, to specify the attributes used by the REPL via the\n",
    "`Base.active_repl.options.iocontext` dictionary (associating values to attributes). For example:"
   ]
  },
  {
   "cell_type": "code",
   "execution_count": null,
   "id": "ed35b11a",
   "metadata": {
    "attributes": {
     "classes": [
      "julia-repl"
     ],
     "id": ""
    }
   },
   "outputs": [],
   "source": [
    "julia> rand(2, 2)\n",
    "2×2 Array{Float64,2}:\n",
    " 0.8833    0.329197\n",
    " 0.719708  0.59114\n",
    "\n",
    "julia> show(IOContext(stdout, :compact => false), \"text/plain\", rand(2, 2))\n",
    " 0.43540323669187075  0.15759787870609387\n",
    " 0.2540832269192739   0.4597637838786053\n",
    "julia> Base.active_repl.options.iocontext[:compact] = false;\n",
    "\n",
    "julia> rand(2, 2)\n",
    "2×2 Array{Float64,2}:\n",
    " 0.2083967319174056  0.13330606013126012\n",
    " 0.6244375177790158  0.9777957560761545"
   ]
  },
  {
   "cell_type": "markdown",
   "id": "58a321d0",
   "metadata": {},
   "source": [
    "In order to define automatically the values of this dictionary at startup time, one can use the\n",
    "[`atreplinit`](@ref) function in the `~/.julia/config/startup.jl` file, for example:"
   ]
  },
  {
   "cell_type": "code",
   "execution_count": null,
   "id": "c8d2cedb",
   "metadata": {
    "attributes": {
     "classes": [
      "julia"
     ],
     "id": ""
    }
   },
   "outputs": [],
   "source": [
    "atreplinit() do repl\n",
    "    repl.options.iocontext[:compact] = false\n",
    "end"
   ]
  },
  {
   "cell_type": "markdown",
   "id": "9d535639",
   "metadata": {},
   "source": [
    "### 帮助模式\n",
    "\n",
    "When the cursor is at the beginning of the line, the prompt can be changed to a help mode by typing\n",
    "`?`. Julia will attempt to print help or documentation for anything entered in help mode:"
   ]
  },
  {
   "cell_type": "code",
   "execution_count": null,
   "id": "a3a328f0",
   "metadata": {
    "attributes": {
     "classes": [
      "julia-repl"
     ],
     "id": ""
    }
   },
   "outputs": [],
   "source": [
    "julia> ? # upon typing ?, the prompt changes (in place) to: help?>\n",
    "\n",
    "help?> string\n",
    "search: string String Cstring Cwstring RevString randstring bytestring SubString\n",
    "\n",
    "  string(xs...)\n",
    "\n",
    "  Create a string from any values using the print function."
   ]
  },
  {
   "cell_type": "markdown",
   "id": "c4b4195d",
   "metadata": {},
   "source": [
    "Macros, types and variables can also be queried:"
   ]
  },
  {
   "cell_type": "code",
   "execution_count": null,
   "id": "c3bd6a63",
   "metadata": {},
   "outputs": [],
   "source": [
    "help?> @time\n",
    "  @time\n",
    "\n",
    "  A macro to execute an expression, printing the time it took to execute, the number of allocations,\n",
    "  and the total number of bytes its execution caused to be allocated, before returning the value of the\n",
    "  expression.\n",
    "\n",
    "  See also @timev, @timed, @elapsed, and @allocated.\n",
    "\n",
    "help?> Int32\n",
    "search: Int32 UInt32\n",
    "\n",
    "  Int32 <: Signed\n",
    "\n",
    "  32-bit signed integer type."
   ]
  },
  {
   "cell_type": "markdown",
   "id": "51a12bac",
   "metadata": {},
   "source": [
    "A string or regex literal searches all docstrings using [`apropos`](@ref):"
   ]
  },
  {
   "cell_type": "code",
   "execution_count": null,
   "id": "ca2a21f1",
   "metadata": {},
   "outputs": [],
   "source": [
    "help?> \"aprop\"\n",
    "REPL.stripmd\n",
    "Base.Docs.apropos\n",
    "\n",
    "help?> r\"ap..p\"\n",
    "Base.:∘\n",
    "Base.shell_escape_posixly\n",
    "Distributed.CachingPool\n",
    "REPL.stripmd\n",
    "Base.Docs.apropos"
   ]
  },
  {
   "cell_type": "markdown",
   "id": "0676c025",
   "metadata": {},
   "source": [
    "Help mode can be exited by pressing backspace at the beginning of the line.\n",
    "\n",
    "### [Shell mode](@id man-shell-mode)\n",
    "\n",
    "Just as help mode is useful for quick access to documentation, another common task is to use the\n",
    "system shell to execute system commands. Just as `?` entered help mode when at the beginning\n",
    "of the line, a semicolon (`;`) will enter the shell mode. And it can be exited by pressing backspace\n",
    "at the beginning of the line."
   ]
  },
  {
   "cell_type": "code",
   "execution_count": null,
   "id": "1583230a",
   "metadata": {
    "attributes": {
     "classes": [
      "julia-repl"
     ],
     "id": ""
    }
   },
   "outputs": [],
   "source": [
    "julia> ; # upon typing ;, the prompt changes (in place) to: shell>\n",
    "\n",
    "shell> echo hello\n",
    "hello"
   ]
  },
  {
   "cell_type": "markdown",
   "id": "88dbdda4",
   "metadata": {},
   "source": [
    "!!! note\n",
    "    For Windows users, Julia's shell mode does not expose windows shell commands.\n",
    "    Hence, this will fail:"
   ]
  },
  {
   "cell_type": "code",
   "execution_count": null,
   "id": "cad36938",
   "metadata": {
    "attributes": {
     "classes": [
      "julia-repl"
     ],
     "id": ""
    }
   },
   "outputs": [],
   "source": [
    "julia> ; # upon typing ;, the prompt changes (in place) to: shell>\n",
    "\n",
    "shell> dir\n",
    "ERROR: IOError: could not spawn `dir`: no such file or directory (ENOENT)\n",
    "Stacktrace!\n",
    "......."
   ]
  },
  {
   "cell_type": "markdown",
   "id": "56ea72f9",
   "metadata": {},
   "source": [
    "However, you can get access to `PowerShell` like this:"
   ]
  },
  {
   "cell_type": "code",
   "execution_count": null,
   "id": "185f3050",
   "metadata": {
    "attributes": {
     "classes": [
      "julia-repl"
     ],
     "id": ""
    }
   },
   "outputs": [],
   "source": [
    "julia> ; # upon typing ;, the prompt changes (in place) to: shell>\n",
    "\n",
    "shell> powershell\n",
    "Windows PowerShell\n",
    "Copyright (C) Microsoft Corporation. All rights reserved.\n",
    "PS C:\\Users\\elm>"
   ]
  },
  {
   "cell_type": "markdown",
   "id": "2c6ecea6",
   "metadata": {},
   "source": [
    "... and to `cmd.exe` like that (see the `dir` command):"
   ]
  },
  {
   "cell_type": "code",
   "execution_count": null,
   "id": "271c5107",
   "metadata": {
    "attributes": {
     "classes": [
      "julia-repl"
     ],
     "id": ""
    }
   },
   "outputs": [],
   "source": [
    "julia> ; # upon typing ;, the prompt changes (in place) to: shell>\n",
    "\n",
    "shell> cmd\n",
    "Microsoft Windows [version 10.0.17763.973]\n",
    "(c) 2018 Microsoft Corporation. All rights reserved.\n",
    "C:\\Users\\elm>dir\n",
    " Volume in drive C has no label\n",
    " Volume Serial Number is 1643-0CD7\n",
    "  Directory of C:\\Users\\elm\n",
    "\n",
    "29/01/2020  22:15    <DIR>          .\n",
    "29/01/2020  22:15    <DIR>          ..\n",
    "02/02/2020  08:06    <DIR>          .atom"
   ]
  },
  {
   "cell_type": "markdown",
   "id": "d0c2652a",
   "metadata": {},
   "source": [
    "### Pkg mode\n",
    "\n",
    "The Package manager mode accepts specialized commands for loading and updating packages. It is entered\n",
    "by pressing the `]` key at the Julian REPL prompt and exited by pressing CTRL-C or pressing the backspace key\n",
    "at the beginning of the line. The prompt for this mode is `pkg>`. It supports its own help-mode, which is\n",
    "entered by pressing `?` at the beginning  of the line of the `pkg>` prompt. The Package manager mode is\n",
    "documented in the Pkg manual, available at [https://julialang.github.io/Pkg.jl/v1/](https://julialang.github.io/Pkg.jl/v1/).\n",
    "\n",
    "### Search modes\n",
    "\n",
    "In all of the above modes, the executed lines get saved to a history file, which can be searched.\n",
    " To initiate an incremental search through the previous history, type `^R` -- the control key\n",
    "together with the `r` key. The prompt will change to ```(reverse-i-search)`':```, and as you\n",
    "type the search query will appear in the quotes. The most recent result that matches the query\n",
    "will dynamically update to the right of the colon as more is typed. To find an older result using\n",
    "the same query, simply type `^R` again.\n",
    "\n",
    "Just as `^R` is a reverse search, `^S` is a forward search, with the prompt ```(i-search)`':```.\n",
    " The two may be used in conjunction with each other to move through the previous or next matching\n",
    "results, respectively.\n",
    "\n",
    "## Key bindings\n",
    "\n",
    "The Julia REPL makes great use of key bindings. Several control-key bindings were already introduced\n",
    "above (`^D` to exit, `^R` and `^S` for searching), but there are many more. In addition to the\n",
    "control-key, there are also meta-key bindings. These vary more by platform, but most terminals\n",
    "default to using alt- or option- held down with a key to send the meta-key (or can be configured\n",
    "to do so), or pressing Esc and then the key.\n",
    "\n",
    "| Keybinding          | Description                                                                                                |\n",
    "|:------------------- |:---------------------------------------------------------------------------------------------------------- |\n",
    "| **Program control** |                                                                                                            |\n",
    "| `^D`                | Exit (when buffer is empty)                                                                                |\n",
    "| `^C`                | Interrupt or cancel                                                                                        |\n",
    "| `^L`                | Clear console screen                                                                                       |\n",
    "| Return/Enter, `^J`  | New line, executing if it is complete                                                                      |\n",
    "| meta-Return/Enter   | Insert new line without executing it                                                                       |\n",
    "| `?` or `;`          | Enter help or shell mode (when at start of a line)                                                         |\n",
    "| `^R`, `^S`          | Incremental history search, described above                                                                |\n",
    "| **Cursor movement** |                                                                                                            |\n",
    "| Right arrow, `^F`   | Move right one character                                                                                   |\n",
    "| Left arrow, `^B`    | Move left one character                                                                                    |\n",
    "| ctrl-Right, `meta-F`| Move right one word                                                                                        |\n",
    "| ctrl-Left, `meta-B` | Move left one word                                                                                         |\n",
    "| Home, `^A`          | Move to beginning of line                                                                                  |\n",
    "| End, `^E`           | Move to end of line                                                                                        |\n",
    "| Up arrow, `^P`      | Move up one line (or change to the previous history entry that matches the text before the cursor)         |\n",
    "| Down arrow, `^N`    | Move down one line (or change to the next history entry that matches the text before the cursor)           |\n",
    "| Shift-Arrow Key     | Move cursor according to the direction of the Arrow key, while activating the region (\"shift selection\")   |\n",
    "| Page-up, `meta-P`   | Change to the previous history entry                                                                       |\n",
    "| Page-down, `meta-N` | Change to the next history entry                                                                           |\n",
    "| `meta-<`            | Change to the first history entry (of the current session if it is before the current position in history) |\n",
    "| `meta->`            | Change to the last history entry                                                                           |\n",
    "| `^-Space`           | Set the \"mark\" in the editing region (and de-activate the region if it's active)                           |\n",
    "| `^-Space ^-Space`   | Set the \"mark\" in the editing region and make the region \"active\", i.e. highlighted                        |\n",
    "| `^G`                | De-activate the region (i.e. make it not highlighted)                                                      |\n",
    "| `^X^X`              | Exchange the current position with the mark                                                                |\n",
    "| **Editing**         |                                                                                                            |\n",
    "| Backspace, `^H`     | Delete the previous character, or the whole region when it's active                                        |\n",
    "| Delete, `^D`        | Forward delete one character (when buffer has text)                                                        |\n",
    "| meta-Backspace      | Delete the previous word                                                                                   |\n",
    "| `meta-d`            | Forward delete the next word                                                                               |\n",
    "| `^W`                | Delete previous text up to the nearest whitespace                                                          |\n",
    "| `meta-w`            | Copy the current region in the kill ring                                                                   |\n",
    "| `meta-W`            | \"Kill\" the current region, placing the text in the kill ring                                               |\n",
    "| `^K`                | \"Kill\" to end of line, placing the text in the kill ring                                                   |\n",
    "| `^Y`                | \"Yank\" insert the text from the kill ring                                                                  |\n",
    "| `meta-y`            | Replace a previously yanked text with an older entry from the kill ring                                    |\n",
    "| `^T`                | Transpose the characters about the cursor                                                                  |\n",
    "| `meta-Up arrow`     | Transpose current line with line above                                                                     |\n",
    "| `meta-Down arrow`   | Transpose current line with line below                                                                     |\n",
    "| `meta-u`            | Change the next word to uppercase                                                                          |\n",
    "| `meta-c`            | Change the next word to titlecase                                                                          |\n",
    "| `meta-l`            | Change the next word to lowercase                                                                          |\n",
    "| `^/`, `^_`          | Undo previous editing action                                                                               |\n",
    "| `^Q`                | Write a number in REPL and press `^Q` to open editor at corresponding stackframe or method                 |\n",
    "| `meta-Left Arrow`   | indent the current line on the left                                                                        |\n",
    "| `meta-Right Arrow`  | indent the current line on the right                                                                       |\n",
    "| `meta-.`            | insert last word from previous history entry                                                               |\n",
    "\n",
    "### Customizing keybindings\n",
    "\n",
    "Julia's REPL keybindings may be fully customized to a user's preferences by passing a dictionary\n",
    "to `REPL.setup_interface`. The keys of this dictionary may be characters or strings. The key\n",
    "`'*'` refers to the default action. Control plus character `x` bindings are indicated with `\"^x\"`.\n",
    "Meta plus `x` can be written `\"\\\\M-x\"` or `\"\\ex\"`, and Control plus `x` can be written\n",
    "`\"\\\\C-x\"` or `\"^x\"`.\n",
    "The values of the custom keymap must be `nothing` (indicating\n",
    "that the input should be ignored) or functions that accept the signature\n",
    "`(PromptState, AbstractREPL, Char)`.\n",
    "The `REPL.setup_interface` function must be called before the REPL is initialized, by registering\n",
    "the operation with [`atreplinit`](@ref) . For example, to bind the up and down arrow keys to move through\n",
    "history without prefix search, one could put the following code in `~/.julia/config/startup.jl`:"
   ]
  },
  {
   "cell_type": "code",
   "execution_count": null,
   "id": "269765e3",
   "metadata": {
    "attributes": {
     "classes": [
      "julia"
     ],
     "id": ""
    }
   },
   "outputs": [],
   "source": [
    "import REPL\n",
    "import REPL.LineEdit\n",
    "\n",
    "const mykeys = Dict{Any,Any}(\n",
    "    # Up Arrow\n",
    "    \"\\e[A\" => (s,o...)->(LineEdit.edit_move_up(s) || LineEdit.history_prev(s, LineEdit.mode(s).hist)),\n",
    "    # Down Arrow\n",
    "    \"\\e[B\" => (s,o...)->(LineEdit.edit_move_down(s) || LineEdit.history_next(s, LineEdit.mode(s).hist))\n",
    ")\n",
    "\n",
    "function customize_keys(repl)\n",
    "    repl.interface = REPL.setup_interface(repl; extra_repl_keymap = mykeys)\n",
    "end\n",
    "\n",
    "atreplinit(customize_keys)"
   ]
  },
  {
   "cell_type": "markdown",
   "id": "f5d7fa10",
   "metadata": {},
   "source": [
    "Users should refer to `LineEdit.jl` to discover the available actions on key input.\n",
    "\n",
    "## Tab completion\n",
    "\n",
    "In both the Julian and help modes of the REPL, one can enter the first few characters of a function\n",
    "or type and then press the tab key to get a list all matches:"
   ]
  },
  {
   "cell_type": "code",
   "execution_count": null,
   "id": "29213281",
   "metadata": {
    "attributes": {
     "classes": [
      "julia-repl"
     ],
     "id": ""
    }
   },
   "outputs": [],
   "source": [
    "julia> stri[TAB]\n",
    "stride     strides     string      strip\n",
    "\n",
    "julia> Stri[TAB]\n",
    "StridedArray    StridedMatrix    StridedVecOrMat  StridedVector    String"
   ]
  },
  {
   "cell_type": "markdown",
   "id": "c0fc6816",
   "metadata": {},
   "source": [
    "The tab key can also be used to substitute LaTeX math symbols with their Unicode equivalents,\n",
    "and get a list of LaTeX matches as well:"
   ]
  },
  {
   "cell_type": "code",
   "execution_count": null,
   "id": "42687412",
   "metadata": {
    "attributes": {
     "classes": [
      "julia-repl"
     ],
     "id": ""
    }
   },
   "outputs": [],
   "source": [
    "julia> \\pi[TAB]\n",
    "julia> π\n",
    "π = 3.1415926535897...\n",
    "\n",
    "julia> e\\_1[TAB] = [1,0]\n",
    "julia> e₁ = [1,0]\n",
    "2-element Array{Int64,1}:\n",
    " 1\n",
    " 0\n",
    "\n",
    "julia> e\\^1[TAB] = [1 0]\n",
    "julia> e¹ = [1 0]\n",
    "1×2 Array{Int64,2}:\n",
    " 1  0\n",
    "\n",
    "julia> \\sqrt[TAB]2     # √ is equivalent to the sqrt function\n",
    "julia> √2\n",
    "1.4142135623730951\n",
    "\n",
    "julia> \\hbar[TAB](h) = h / 2\\pi[TAB]\n",
    "julia> ħ(h) = h / 2π\n",
    "ħ (generic function with 1 method)\n",
    "\n",
    "julia> \\h[TAB]\n",
    "\\hat              \\hermitconjmatrix  \\hkswarow          \\hrectangle\n",
    "\\hatapprox        \\hexagon           \\hookleftarrow     \\hrectangleblack\n",
    "\\hbar             \\hexagonblack      \\hookrightarrow    \\hslash\n",
    "\\heartsuit        \\hksearow          \\house             \\hspace\n",
    "\n",
    "julia> α=\"\\alpha[TAB]\"   # LaTeX completion also works in strings\n",
    "julia> α=\"α\""
   ]
  },
  {
   "cell_type": "markdown",
   "id": "5dd3c45e",
   "metadata": {},
   "source": [
    "A full list of tab-completions can be found in the [Unicode Input](@ref) section of the manual.\n",
    "\n",
    "Completion of paths works for strings and julia's shell mode:"
   ]
  },
  {
   "cell_type": "code",
   "execution_count": null,
   "id": "985fbaec",
   "metadata": {
    "attributes": {
     "classes": [
      "julia-repl"
     ],
     "id": ""
    }
   },
   "outputs": [],
   "source": [
    "julia> path=\"/[TAB]\"\n",
    ".dockerenv  .juliabox/   boot/        etc/         lib/         media/       opt/         root/        sbin/        sys/         usr/\n",
    ".dockerinit bin/         dev/         home/        lib64/       mnt/         proc/        run/         srv/         tmp/         var/\n",
    "shell> /[TAB]\n",
    ".dockerenv  .juliabox/   boot/        etc/         lib/         media/       opt/         root/        sbin/        sys/         usr/\n",
    ".dockerinit bin/         dev/         home/        lib64/       mnt/         proc/        run/         srv/         tmp/         var/"
   ]
  },
  {
   "cell_type": "markdown",
   "id": "f622ea45",
   "metadata": {},
   "source": [
    "Tab completion can help with investigation of the available methods matching the input arguments:"
   ]
  },
  {
   "cell_type": "code",
   "execution_count": null,
   "id": "6ecc9644",
   "metadata": {
    "attributes": {
     "classes": [
      "julia-repl"
     ],
     "id": ""
    }
   },
   "outputs": [],
   "source": [
    "julia> max([TAB] # All methods are displayed, not shown here due to size of the list\n",
    "\n",
    "julia> max([1, 2], [TAB] # All methods where `Vector{Int}` matches as first argument\n",
    "max(x, y) in Base at operators.jl:215\n",
    "max(a, b, c, xs...) in Base at operators.jl:281\n",
    "\n",
    "julia> max([1, 2], max(1, 2), [TAB] # All methods matching the arguments.\n",
    "max(x, y) in Base at operators.jl:215\n",
    "max(a, b, c, xs...) in Base at operators.jl:281"
   ]
  },
  {
   "cell_type": "markdown",
   "id": "f35af0fa",
   "metadata": {},
   "source": [
    "Keywords are also displayed in the suggested methods after `;`, see below line where `limit`\n",
    "and `keepempty` are keyword arguments:"
   ]
  },
  {
   "cell_type": "code",
   "execution_count": null,
   "id": "d1b8a2f2",
   "metadata": {
    "attributes": {
     "classes": [
      "julia-repl"
     ],
     "id": ""
    }
   },
   "outputs": [],
   "source": [
    "julia> split(\"1 1 1\", [TAB]\n",
    "split(str::AbstractString; limit, keepempty) in Base at strings/util.jl:302\n",
    "split(str::T, splitter; limit, keepempty) where T<:AbstractString in Base at strings/util.jl:277"
   ]
  },
  {
   "cell_type": "markdown",
   "id": "4a2fa8b2",
   "metadata": {},
   "source": [
    "The completion of the methods uses type inference and can therefore see if the arguments match\n",
    "even if the arguments are output from functions. The function needs to be type stable for the\n",
    "completion to be able to remove non-matching methods.\n",
    "\n",
    "Tab completion can also help completing fields:"
   ]
  },
  {
   "cell_type": "code",
   "execution_count": null,
   "id": "9d1cad33",
   "metadata": {
    "attributes": {
     "classes": [
      "julia-repl"
     ],
     "id": ""
    }
   },
   "outputs": [],
   "source": [
    "julia> import UUIDs\n",
    "\n",
    "julia> UUIDs.uuid[TAB]\n",
    "uuid1        uuid4         uuid_version"
   ]
  },
  {
   "cell_type": "markdown",
   "id": "c4922a4e",
   "metadata": {},
   "source": [
    "Fields for output from functions can also be completed:"
   ]
  },
  {
   "cell_type": "code",
   "execution_count": null,
   "id": "b723ef34",
   "metadata": {
    "attributes": {
     "classes": [
      "julia-repl"
     ],
     "id": ""
    }
   },
   "outputs": [],
   "source": [
    "julia> split(\"\",\"\")[1].[TAB]\n",
    "lastindex  offset  string"
   ]
  },
  {
   "cell_type": "markdown",
   "id": "6cff8534",
   "metadata": {},
   "source": [
    "The completion of fields for output from functions uses type inference, and it can only suggest\n",
    "fields if the function is type stable.\n",
    "\n",
    "Dictionary keys can also be tab completed:"
   ]
  },
  {
   "cell_type": "code",
   "execution_count": null,
   "id": "f18b1dbe",
   "metadata": {
    "attributes": {
     "classes": [
      "julia-repl"
     ],
     "id": ""
    }
   },
   "outputs": [],
   "source": [
    "julia> foo = Dict(\"qwer1\"=>1, \"qwer2\"=>2, \"asdf\"=>3)\n",
    "Dict{String,Int64} with 3 entries:\n",
    "  \"qwer2\" => 2\n",
    "  \"asdf\"  => 3\n",
    "  \"qwer1\" => 1\n",
    "\n",
    "julia> foo[\"q[TAB]\n",
    "\n",
    "\"qwer1\" \"qwer2\"\n",
    "julia> foo[\"qwer"
   ]
  },
  {
   "cell_type": "markdown",
   "id": "f5ea5c49",
   "metadata": {},
   "source": [
    "## Customizing Colors\n",
    "\n",
    "The colors used by Julia and the REPL can be customized, as well. To change the\n",
    "color of the Julia prompt you can add something like the following to your\n",
    "`~/.julia/config/startup.jl` file, which is to be placed inside your home directory:"
   ]
  },
  {
   "cell_type": "code",
   "execution_count": null,
   "id": "f16fb168",
   "metadata": {
    "attributes": {
     "classes": [
      "julia"
     ],
     "id": ""
    }
   },
   "outputs": [],
   "source": [
    "function customize_colors(repl)\n",
    "    repl.prompt_color = Base.text_colors[:cyan]\n",
    "end\n",
    "\n",
    "atreplinit(customize_colors)"
   ]
  },
  {
   "cell_type": "markdown",
   "id": "323e3caa",
   "metadata": {},
   "source": [
    "The available color keys can be seen by typing `Base.text_colors` in the help mode of the REPL.\n",
    "In addition, the integers 0 to 255 can be used as color keys for terminals\n",
    "with 256 color support.\n",
    "\n",
    "You can also change the colors for the help and shell prompts and\n",
    "input and answer text by setting the appropriate field of `repl` in the `customize_colors` function\n",
    "above (respectively, `help_color`, `shell_color`, `input_color`, and `answer_color`). For the\n",
    "latter two, be sure that the `envcolors` field is also set to false.\n",
    "\n",
    "It is also possible to apply boldface formatting by using\n",
    "`Base.text_colors[:bold]` as a color. For instance, to print answers in\n",
    "boldface font, one can use the following as a `~/.julia/config/startup.jl`:"
   ]
  },
  {
   "cell_type": "code",
   "execution_count": null,
   "id": "12459ab9",
   "metadata": {
    "attributes": {
     "classes": [
      "julia"
     ],
     "id": ""
    }
   },
   "outputs": [],
   "source": [
    "function customize_colors(repl)\n",
    "    repl.envcolors = false\n",
    "    repl.answer_color = Base.text_colors[:bold]\n",
    "end\n",
    "\n",
    "atreplinit(customize_colors)"
   ]
  },
  {
   "cell_type": "markdown",
   "id": "6e13de9b",
   "metadata": {},
   "source": [
    "You can also customize the color used to render warning and informational messages by\n",
    "setting the appropriate environment variables. For instance, to render error, warning, and informational\n",
    "messages respectively in magenta, yellow, and cyan you can add the following to your\n",
    "`~/.julia/config/startup.jl` file:"
   ]
  },
  {
   "cell_type": "code",
   "execution_count": null,
   "id": "464c8ac6",
   "metadata": {
    "attributes": {
     "classes": [
      "julia"
     ],
     "id": ""
    }
   },
   "outputs": [],
   "source": [
    "ENV[\"JULIA_ERROR_COLOR\"] = :magenta\n",
    "ENV[\"JULIA_WARN_COLOR\"] = :yellow\n",
    "ENV[\"JULIA_INFO_COLOR\"] = :cyan"
   ]
  },
  {
   "cell_type": "markdown",
   "id": "0b65e38e",
   "metadata": {},
   "source": [
    "## TerminalMenus\n",
    "\n",
    "TerminalMenus is a submodule of the Julia REPL and enables small, low-profile interactive menus in the terminal.\n",
    "\n",
    "### Examples"
   ]
  },
  {
   "cell_type": "code",
   "execution_count": null,
   "id": "b3b78fb6",
   "metadata": {
    "attributes": {
     "classes": [
      "julia"
     ],
     "id": ""
    }
   },
   "outputs": [],
   "source": [
    "import REPL\n",
    "using REPL.TerminalMenus\n",
    "\n",
    "options = [\"apple\", \"orange\", \"grape\", \"strawberry\",\n",
    "            \"blueberry\", \"peach\", \"lemon\", \"lime\"]\n"
   ]
  },
  {
   "cell_type": "markdown",
   "id": "785d0580",
   "metadata": {},
   "source": [
    "#### RadioMenu\n",
    "\n",
    "The RadioMenu allows the user to select one option from the list. The `request`\n",
    "function displays the interactive menu and returns the index of the selected\n",
    "choice. If a user presses 'q' or `ctrl-c`, `request` will return a `-1`."
   ]
  },
  {
   "cell_type": "code",
   "execution_count": null,
   "id": "795f6770",
   "metadata": {
    "attributes": {
     "classes": [
      "julia"
     ],
     "id": ""
    }
   },
   "outputs": [],
   "source": [
    "# `pagesize` is the number of items to be displayed at a time.\n",
    "#  The UI will scroll if the number of options is greater\n",
    "#   than the `pagesize`\n",
    "menu = RadioMenu(options, pagesize=4)\n",
    "\n",
    "# `request` displays the menu and returns the index after the\n",
    "#   user has selected a choice\n",
    "choice = request(\"Choose your favorite fruit:\", menu)\n",
    "\n",
    "if choice != -1\n",
    "    println(\"Your favorite fruit is \", options[choice], \"!\")\n",
    "else\n",
    "    println(\"Menu canceled.\")\n",
    "end\n"
   ]
  },
  {
   "cell_type": "markdown",
   "id": "acda596e",
   "metadata": {},
   "source": [
    "Output:"
   ]
  },
  {
   "cell_type": "code",
   "execution_count": null,
   "id": "a38c30a2",
   "metadata": {},
   "outputs": [],
   "source": [
    "Choose your favorite fruit:\n",
    "^  grape\n",
    "   strawberry\n",
    " > blueberry\n",
    "v  peach\n",
    "Your favorite fruit is blueberry!"
   ]
  },
  {
   "cell_type": "markdown",
   "id": "d8873edf",
   "metadata": {},
   "source": [
    "#### MultiSelectMenu\n",
    "\n",
    "The MultiSelectMenu allows users to select many choices from a list."
   ]
  },
  {
   "cell_type": "code",
   "execution_count": null,
   "id": "10023343",
   "metadata": {
    "attributes": {
     "classes": [
      "julia"
     ],
     "id": ""
    }
   },
   "outputs": [],
   "source": [
    "# here we use the default `pagesize` 10\n",
    "menu = MultiSelectMenu(options)\n",
    "\n",
    "# `request` returns a `Set` of selected indices\n",
    "# if the menu us canceled (ctrl-c or q), return an empty set\n",
    "choices = request(\"Select the fruits you like:\", menu)\n",
    "\n",
    "if length(choices) > 0\n",
    "    println(\"You like the following fruits:\")\n",
    "    for i in choices\n",
    "        println(\"  - \", options[i])\n",
    "    end\n",
    "else\n",
    "    println(\"Menu canceled.\")\n",
    "end"
   ]
  },
  {
   "cell_type": "markdown",
   "id": "6265b463",
   "metadata": {},
   "source": [
    "Output:"
   ]
  },
  {
   "cell_type": "code",
   "execution_count": null,
   "id": "4bf3b79c",
   "metadata": {},
   "outputs": [],
   "source": [
    "Select the fruits you like:\n",
    "[press: d=done, a=all, n=none]\n",
    "   [ ] apple\n",
    " > [X] orange\n",
    "   [X] grape\n",
    "   [ ] strawberry\n",
    "   [ ] blueberry\n",
    "   [X] peach\n",
    "   [ ] lemon\n",
    "   [ ] lime\n",
    "You like the following fruits:\n",
    "  - orange\n",
    "  - grape\n",
    "  - peach"
   ]
  },
  {
   "cell_type": "markdown",
   "id": "4cad0349",
   "metadata": {},
   "source": [
    "### Customization / Configuration\n",
    "\n",
    "#### ConfiguredMenu subtypes\n",
    "\n",
    "Starting with Julia 1.6, the recommended way to configure menus is via the constructor.\n",
    "For instance, the default multiple-selection menu"
   ]
  },
  {
   "cell_type": "code",
   "execution_count": null,
   "id": "52a3417e",
   "metadata": {},
   "outputs": [],
   "source": [
    "julia> menu = MultiSelectMenu(options, pagesize=5);\n",
    "\n",
    "julia> request(menu) # ASCII is used by default\n",
    "[press: d=done, a=all, n=none]\n",
    "   [ ] apple\n",
    "   [X] orange\n",
    "   [ ] grape\n",
    " > [X] strawberry\n",
    "v  [ ] blueberry"
   ]
  },
  {
   "cell_type": "markdown",
   "id": "9783791e",
   "metadata": {},
   "source": [
    "can instead be rendered with Unicode selection and navigation characters with"
   ]
  },
  {
   "cell_type": "code",
   "execution_count": null,
   "id": "2e1f32b7",
   "metadata": {
    "attributes": {
     "classes": [
      "julia"
     ],
     "id": ""
    }
   },
   "outputs": [],
   "source": [
    "julia> menu = MultiSelectMenu(options, pagesize=5, charset=:unicode);\n",
    "\n",
    "julia> request(menu)\n",
    "[press: d=done, a=all, n=none]\n",
    "   ⬚ apple\n",
    "   ✓ orange\n",
    "   ⬚ grape\n",
    " → ✓ strawberry\n",
    "↓  ⬚ blueberry"
   ]
  },
  {
   "cell_type": "markdown",
   "id": "693106aa",
   "metadata": {},
   "source": [
    "More fine-grained configuration is also possible:"
   ]
  },
  {
   "cell_type": "code",
   "execution_count": null,
   "id": "8147f90c",
   "metadata": {
    "attributes": {
     "classes": [
      "julia"
     ],
     "id": ""
    }
   },
   "outputs": [],
   "source": [
    "julia> menu = MultiSelectMenu(options, pagesize=5, charset=:unicode, checked=\"YEP!\", unchecked=\"NOPE\", cursor='⧐');\n",
    "\n",
    "julia> request(menu)\n",
    "julia> request(menu)\n",
    "[press: d=done, a=all, n=none]\n",
    "   NOPE apple\n",
    "   YEP! orange\n",
    "   NOPE grape\n",
    " ⧐ YEP! strawberry\n",
    "↓  NOPE blueberry"
   ]
  },
  {
   "cell_type": "markdown",
   "id": "1cc7ffb4",
   "metadata": {},
   "source": [
    "Aside from the overall `charset` option, for `RadioMenu` the configurable options are:\n",
    "\n",
    " - `cursor::Char='>'|'→'`: character to use for cursor\n",
    " - `up_arrow::Char='^'|'↑'`: character to use for up arrow\n",
    " - `down_arrow::Char='v'|'↓'`: character to use for down arrow\n",
    " - `updown_arrow::Char='I'|'↕'`: character to use for up/down arrow in one-line page\n",
    " - `scroll_wrap::Bool=false`: optionally wrap-around at the beginning/end of a menu\n",
    " - `ctrl_c_interrupt::Bool=true`: If `false`, return empty on ^C, if `true` throw InterruptException() on ^C\n",
    "\n",
    "`MultiSelectMenu` adds:\n",
    "\n",
    " - `checked::String=\"[X]\"|\"✓\"`: string to use for checked\n",
    " - `unchecked::String=\"[ ]\"|\"⬚\")`: string to use for unchecked\n",
    "\n",
    "You can create new menu types of your own.\n",
    "Types that are derived from `TerminalMenus.ConfiguredMenu` configure the menu options at construction time.\n",
    "\n",
    "#### Legacy interface\n",
    "\n",
    "Prior to Julia 1.6, and still supported throughout Julia 1.x, one can also configure menus by calling\n",
    "`TerminalMenus.config()`.\n",
    "\n",
    "## References\n",
    "\n",
    "### REPL"
   ]
  },
  {
   "cell_type": "code",
   "execution_count": null,
   "id": "e721e417",
   "metadata": {
    "attributes": {
     "classes": [
      "@docs"
     ],
     "id": ""
    }
   },
   "outputs": [],
   "source": [
    "Base.atreplinit"
   ]
  },
  {
   "cell_type": "markdown",
   "id": "c348e7c4",
   "metadata": {},
   "source": [
    "### TerminalMenus\n",
    "\n",
    "#### Configuration"
   ]
  },
  {
   "cell_type": "code",
   "execution_count": null,
   "id": "30c4df0a",
   "metadata": {
    "attributes": {
     "classes": [
      "@docs"
     ],
     "id": ""
    }
   },
   "outputs": [],
   "source": [
    "REPL.TerminalMenus.Config\n",
    "REPL.TerminalMenus.MultiSelectConfig\n",
    "REPL.TerminalMenus.config"
   ]
  },
  {
   "cell_type": "markdown",
   "id": "8c70f3be",
   "metadata": {},
   "source": [
    "#### User interaction"
   ]
  },
  {
   "cell_type": "code",
   "execution_count": null,
   "id": "76b8ba83",
   "metadata": {
    "attributes": {
     "classes": [
      "@docs"
     ],
     "id": ""
    }
   },
   "outputs": [],
   "source": [
    "REPL.TerminalMenus.request"
   ]
  },
  {
   "cell_type": "markdown",
   "id": "5fc9150c",
   "metadata": {},
   "source": [
    "#### AbstractMenu extension interface\n",
    "\n",
    "Any subtype of `AbstractMenu` must be mutable, and must contain the fields `pagesize::Int` and\n",
    "`pageoffset::Int`.\n",
    "Any subtype must also implement the following functions:"
   ]
  },
  {
   "cell_type": "code",
   "execution_count": null,
   "id": "bb6c20e8",
   "metadata": {
    "attributes": {
     "classes": [
      "@docs"
     ],
     "id": ""
    }
   },
   "outputs": [],
   "source": [
    "REPL.TerminalMenus.pick\n",
    "REPL.TerminalMenus.cancel\n",
    "REPL.TerminalMenus.writeline"
   ]
  },
  {
   "cell_type": "markdown",
   "id": "90f08992",
   "metadata": {},
   "source": [
    "It must also implement either `options` or `numoptions`:"
   ]
  },
  {
   "cell_type": "code",
   "execution_count": null,
   "id": "002ac87e",
   "metadata": {
    "attributes": {
     "classes": [
      "@docs"
     ],
     "id": ""
    }
   },
   "outputs": [],
   "source": [
    "REPL.TerminalMenus.options\n",
    "REPL.TerminalMenus.numoptions"
   ]
  },
  {
   "cell_type": "markdown",
   "id": "cc978dc7",
   "metadata": {},
   "source": [
    "If the subtype does not have a field named `selected`, it must also implement"
   ]
  },
  {
   "cell_type": "code",
   "execution_count": null,
   "id": "13839445",
   "metadata": {
    "attributes": {
     "classes": [
      "@docs"
     ],
     "id": ""
    }
   },
   "outputs": [],
   "source": [
    "REPL.TerminalMenus.selected"
   ]
  },
  {
   "cell_type": "markdown",
   "id": "ea2530ed",
   "metadata": {},
   "source": [
    "The following are optional but can allow additional customization:"
   ]
  },
  {
   "cell_type": "code",
   "execution_count": null,
   "id": "b6487f9e",
   "metadata": {
    "attributes": {
     "classes": [
      "@docs"
     ],
     "id": ""
    }
   },
   "outputs": [],
   "source": [
    "REPL.TerminalMenus.header\n",
    "REPL.TerminalMenus.keypress"
   ]
  }
 ],
 "metadata": {},
 "nbformat": 4,
 "nbformat_minor": 5
}
