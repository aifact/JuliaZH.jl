{
 "cells": [
  {
   "cell_type": "markdown",
   "id": "97923a7b",
   "metadata": {},
   "source": [
    "# 序列化"
   ]
  },
  {
   "cell_type": "code",
   "execution_count": null,
   "id": "9b857305",
   "metadata": {
    "attributes": {
     "classes": [
      "@docs"
     ],
     "id": ""
    }
   },
   "outputs": [],
   "source": [
    "Serialization.serialize\n",
    "Serialization.deserialize\n",
    "Serialization.writeheader"
   ]
  }
 ],
 "metadata": {},
 "nbformat": 4,
 "nbformat_minor": 5
}
