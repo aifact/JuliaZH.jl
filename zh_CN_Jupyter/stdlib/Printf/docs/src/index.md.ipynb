{
 "cells": [
  {
   "cell_type": "markdown",
   "id": "22d1c12d",
   "metadata": {},
   "source": [
    "# [Printf](@id man-printf)"
   ]
  },
  {
   "cell_type": "code",
   "execution_count": null,
   "id": "c7032d43",
   "metadata": {
    "attributes": {
     "classes": [
      "@docs"
     ],
     "id": ""
    }
   },
   "outputs": [],
   "source": [
    "Printf.@printf\n",
    "Printf.@sprintf"
   ]
  }
 ],
 "metadata": {},
 "nbformat": 4,
 "nbformat_minor": 5
}
