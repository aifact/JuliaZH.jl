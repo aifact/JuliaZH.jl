{
 "cells": [
  {
   "cell_type": "markdown",
   "id": "c6d17740",
   "metadata": {},
   "source": [
    "# 中文文档\n",
    "\n",
    "这里是手册等文字部分的文档源文件，所有文档内容都在 `src` 目录下。目前主要结构是：\n",
    "\n",
    "- `assets`：素材，logo等\n",
    "- `base`：Base中的文档自动生成脚本 （需要通过doc string替换来实现翻译）\n",
    "- `juliacn`： JuliaZH的开发文档\n",
    "- `manual`：手册\n",
    "\n",
    "如果复制新的文件夹进来请保持master分支的目录结构与julia源代码的master分支中的doc目录一致。"
   ]
  }
 ],
 "metadata": {},
 "nbformat": 4,
 "nbformat_minor": 5
}
