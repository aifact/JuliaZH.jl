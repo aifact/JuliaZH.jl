{
 "cells": [
  {
   "cell_type": "markdown",
   "id": "20270882",
   "metadata": {},
   "source": [
    "# 中文文档\n",
    "\n",
    "这里是手册等文字部分的文档源文件，所有文档内容都在 `src` 目录下。目前主要结构是：\n",
    "\n",
    "- `assets`：素材，logo等\n",
    "- `base`：Base中的文档自动生成脚本 （需要通过doc string替换来实现翻译）\n",
    "- `juliacn`： JuliaZH的开发文档\n",
    "- `manual`：手册\n",
    "\n",
    "如果复制新的文件夹进来请保持master分支的目录结构与julia源代码的master分支中的doc目录一致。\n",
    "\n",
    "## 本地编译 PDF\n",
    "\n",
    "首先你需要安装 [latexmk](https://mg.readthedocs.io/latexmk.html) 和相应平台的 LaTeX 编译器XeLaTeX。之后确认已安装 CTex 套装。然后在这个package的根目录下，在命令行中运行"
   ]
  },
  {
   "cell_type": "code",
   "execution_count": null,
   "id": "9e7d314d",
   "metadata": {
    "attributes": {
     "classes": [
      "sh"
     ],
     "id": ""
    }
   },
   "outputs": [],
   "source": [
    "julia --project=doc doc/make.jl pdf"
   ]
  },
  {
   "cell_type": "markdown",
   "id": "701868cd",
   "metadata": {},
   "source": [
    "或者，如果你已经安装了docker，可以执行"
   ]
  },
  {
   "cell_type": "code",
   "execution_count": null,
   "id": "f045128a",
   "metadata": {
    "attributes": {
     "classes": [
      "sh"
     ],
     "id": ""
    }
   },
   "outputs": [],
   "source": [
    "julia --project=doc/ doc/make.jl pdf texplatform=docker"
   ]
  },
  {
   "cell_type": "markdown",
   "id": "aa135e5c",
   "metadata": {},
   "source": [
    "就会在 `doc/build` 中获得 `Julia中文文档.pdf` 文件。\n",
    "\n",
    "## 镜像 CI\n",
    "\n",
    "在 `gh-pages` 与 `pdf` 分支上均存在 `.github/workflows/deploy.yml` 来将改动推送到\n",
    "国内的镜像服务器上. 它们由 `master` 或者 `release-*` 分支的 Documenter CI 来更新并触发。"
   ]
  }
 ],
 "metadata": {},
 "nbformat": 4,
 "nbformat_minor": 5
}
