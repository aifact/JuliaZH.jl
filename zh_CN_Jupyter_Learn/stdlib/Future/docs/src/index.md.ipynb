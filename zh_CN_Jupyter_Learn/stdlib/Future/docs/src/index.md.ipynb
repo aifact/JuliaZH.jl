{
 "cells": [
  {
   "cell_type": "markdown",
   "id": "5b4d58eb",
   "metadata": {},
   "source": [
    "# Future\n",
    "\n",
    "The `Future` module implements future behavior of already existing functions,\n",
    "which will replace the current version in a future release of Julia."
   ]
  },
  {
   "cell_type": "code",
   "execution_count": null,
   "id": "1b97132e",
   "metadata": {
    "attributes": {
     "classes": [
      "@docs"
     ],
     "id": ""
    }
   },
   "outputs": [],
   "source": [
    "Future.copy!\n",
    "Future.randjump"
   ]
  }
 ],
 "metadata": {},
 "nbformat": 4,
 "nbformat_minor": 5
}
