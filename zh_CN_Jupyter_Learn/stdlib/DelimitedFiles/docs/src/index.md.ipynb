{
 "cells": [
  {
   "cell_type": "markdown",
   "id": "47c67c94",
   "metadata": {},
   "source": [
    "# 分隔符文件"
   ]
  },
  {
   "cell_type": "code",
   "execution_count": null,
   "id": "de7fbfb7",
   "metadata": {
    "attributes": {
     "classes": [
      "@docs"
     ],
     "id": ""
    }
   },
   "outputs": [],
   "source": [
    "DelimitedFiles.readdlm(::Any, ::AbstractChar, ::Type, ::AbstractChar)\n",
    "DelimitedFiles.readdlm(::Any, ::AbstractChar, ::AbstractChar)\n",
    "DelimitedFiles.readdlm(::Any, ::AbstractChar, ::Type)\n",
    "DelimitedFiles.readdlm(::Any, ::AbstractChar)\n",
    "DelimitedFiles.readdlm(::Any, ::Type)\n",
    "DelimitedFiles.readdlm(::Any)\n",
    "DelimitedFiles.writedlm"
   ]
  }
 ],
 "metadata": {},
 "nbformat": 4,
 "nbformat_minor": 5
}
