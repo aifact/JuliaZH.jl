{
 "cells": [
  {
   "cell_type": "markdown",
   "id": "228a18ee",
   "metadata": {},
   "source": [
    "# TOML\n",
    "\n",
    "TOML.jl is a Julia standard library for parsing and writing [TOML\n",
    "v1.0](https://toml.io/en/) files.\n",
    "\n",
    "## Parsing TOML data"
   ]
  },
  {
   "cell_type": "code",
   "execution_count": null,
   "id": "3b2862b9",
   "metadata": {
    "attributes": {
     "classes": [
      "jldoctest"
     ],
     "id": ""
    }
   },
   "outputs": [],
   "source": [
    "julia> using TOML\n",
    "\n",
    "julia> data = \"\"\"\n",
    "           [database]\n",
    "           server = \"192.168.1.1\"\n",
    "           ports = [ 8001, 8001, 8002 ]\n",
    "       \"\"\";\n",
    "\n",
    "julia> TOML.parse(data)\n",
    "Dict{String, Any} with 1 entry:\n",
    "  \"database\" => Dict{String, Any}(\"server\"=>\"192.168.1.1\", \"ports\"=>[8001, 8001…"
   ]
  },
  {
   "cell_type": "markdown",
   "id": "c0c4f0d7",
   "metadata": {},
   "source": [
    "To parse a file, use [`TOML.parsefile`](@ref). If the file has a syntax error,\n",
    "an exception is thrown:"
   ]
  },
  {
   "cell_type": "code",
   "execution_count": null,
   "id": "28b64a12",
   "metadata": {
    "attributes": {
     "classes": [
      "jldoctest"
     ],
     "id": ""
    }
   },
   "outputs": [],
   "source": [
    "julia> using TOML\n",
    "\n",
    "julia> TOML.parse(\"\"\"\n",
    "           value = 0.0.0\n",
    "       \"\"\")\n",
    "ERROR: TOML Parser error:\n",
    "none:1:16 error: failed to parse value\n",
    "      value = 0.0.0\n",
    "                 ^\n",
    "[...]"
   ]
  },
  {
   "cell_type": "markdown",
   "id": "61daf82e",
   "metadata": {},
   "source": [
    "There are other versions of the parse functions ([`TOML.tryparse`](@ref)\n",
    "and [`TOML.tryparsefile`]) that instead of throwing exceptions on parser error\n",
    "returns a [`TOML.ParserError`](@ref) with information:"
   ]
  },
  {
   "cell_type": "code",
   "execution_count": null,
   "id": "840ed566",
   "metadata": {
    "attributes": {
     "classes": [
      "jldoctest"
     ],
     "id": ""
    }
   },
   "outputs": [],
   "source": [
    "julia> using TOML\n",
    "\n",
    "julia> err = TOML.tryparse(\"\"\"\n",
    "           value = 0.0.0\n",
    "       \"\"\");\n",
    "\n",
    "julia> err.type\n",
    "ErrGenericValueError::ErrorType = 14\n",
    "\n",
    "julia> err.line\n",
    "1\n",
    "\n",
    "julia> err.column\n",
    "16"
   ]
  },
  {
   "cell_type": "markdown",
   "id": "d9e5cab9",
   "metadata": {},
   "source": [
    "## Exporting data to TOML file\n",
    "\n",
    "The [`TOML.print`](@ref) function is used to print (or serialize) data into TOML\n",
    "format."
   ]
  },
  {
   "cell_type": "code",
   "execution_count": null,
   "id": "22fab867",
   "metadata": {
    "attributes": {
     "classes": [
      "jldoctest"
     ],
     "id": ""
    }
   },
   "outputs": [],
   "source": [
    "julia> using TOML\n",
    "\n",
    "julia> data = Dict(\n",
    "          \"names\" => [\"Julia\", \"Julio\"],\n",
    "          \"age\" => [10, 20],\n",
    "       );\n",
    "\n",
    "julia> TOML.print(data)\n",
    "names = [\"Julia\", \"Julio\"]\n",
    "age = [10, 20]\n",
    "\n",
    "julia> fname = tempname();\n",
    "\n",
    "julia> open(fname, \"w\") do io\n",
    "           TOML.print(io, data)\n",
    "       end\n",
    "\n",
    "julia> TOML.parsefile(fname)\n",
    "Dict{String, Any} with 2 entries:\n",
    "  \"names\" => [\"Julia\", \"Julio\"]\n",
    "  \"age\"   => [10, 20]"
   ]
  },
  {
   "cell_type": "markdown",
   "id": "4419e10f",
   "metadata": {},
   "source": [
    "Keys can be sorted according to some value"
   ]
  },
  {
   "cell_type": "code",
   "execution_count": null,
   "id": "6529efa6",
   "metadata": {
    "attributes": {
     "classes": [
      "jldoctest"
     ],
     "id": ""
    }
   },
   "outputs": [],
   "source": [
    "julia> using TOML\n",
    "\n",
    "julia> TOML.print(Dict(\n",
    "       \"abc\"  => 1,\n",
    "       \"ab\"   => 2,\n",
    "       \"abcd\" => 3,\n",
    "       ); sorted=true, by=length)\n",
    "ab = 2\n",
    "abc = 1\n",
    "abcd = 3"
   ]
  },
  {
   "cell_type": "markdown",
   "id": "86e6dfaa",
   "metadata": {},
   "source": [
    "For custom structs, pass a function that converts the struct to a supported\n",
    "type"
   ]
  },
  {
   "cell_type": "code",
   "execution_count": null,
   "id": "6690c48f",
   "metadata": {
    "attributes": {
     "classes": [
      "jldoctest"
     ],
     "id": ""
    }
   },
   "outputs": [],
   "source": [
    "julia> using TOML\n",
    "\n",
    "julia> struct MyStruct\n",
    "           a::Int\n",
    "           b::String\n",
    "       end\n",
    "\n",
    "julia> TOML.print(Dict(\"foo\" => MyStruct(5, \"bar\"))) do x\n",
    "           x isa MyStruct && return [x.a, x.b]\n",
    "           error(\"unhandled type $(typeof(x))\")\n",
    "       end\n",
    "foo = [5, \"bar\"]"
   ]
  },
  {
   "cell_type": "markdown",
   "id": "2288ef33",
   "metadata": {},
   "source": [
    "## References"
   ]
  },
  {
   "cell_type": "code",
   "execution_count": null,
   "id": "53ed4467",
   "metadata": {
    "attributes": {
     "classes": [
      "@docs"
     ],
     "id": ""
    }
   },
   "outputs": [],
   "source": [
    "TOML.parse\n",
    "TOML.parsefile\n",
    "TOML.tryparse\n",
    "TOML.tryparsefile\n",
    "TOML.print\n",
    "TOML.Parser\n",
    "TOML.ParserError"
   ]
  }
 ],
 "metadata": {},
 "nbformat": 4,
 "nbformat_minor": 5
}
