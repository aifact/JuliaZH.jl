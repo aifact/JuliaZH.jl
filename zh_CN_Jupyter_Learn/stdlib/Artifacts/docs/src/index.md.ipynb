{
 "cells": [
  {
   "cell_type": "markdown",
   "id": "86d9df22",
   "metadata": {},
   "source": [
    "# Artifacts"
   ]
  },
  {
   "cell_type": "code",
   "execution_count": null,
   "id": "3e7e1d96",
   "metadata": {
    "attributes": {
     "classes": [
      "@meta"
     ],
     "id": ""
    }
   },
   "outputs": [],
   "source": [
    "DocTestSetup = :(using Artifacts)"
   ]
  },
  {
   "cell_type": "markdown",
   "id": "03eeb778",
   "metadata": {},
   "source": [
    "Starting with Julia 1.6, the artifacts support has moved from `Pkg.jl` to Julia itself.\n",
    "Until proper documentation can be added here, you can learn more about artifacts in the\n",
    "`Pkg.jl` manual at <https://julialang.github.io/Pkg.jl/v1/artifacts/>.\n",
    "\n",
    "!!! compat \"Julia 1.6\"\n",
    "    Julia's artifacts API requires at least Julia 1.6. In Julia\n",
    "    versions 1.3 to 1.5, you can use `Pkg.Artifacts` instead."
   ]
  },
  {
   "cell_type": "code",
   "execution_count": null,
   "id": "b12a2fed",
   "metadata": {
    "attributes": {
     "classes": [
      "@docs"
     ],
     "id": ""
    }
   },
   "outputs": [],
   "source": [
    "Artifacts.artifact_meta\n",
    "Artifacts.artifact_hash\n",
    "Artifacts.find_artifacts_toml\n",
    "Artifacts.@artifact_str"
   ]
  }
 ],
 "metadata": {},
 "nbformat": 4,
 "nbformat_minor": 5
}
