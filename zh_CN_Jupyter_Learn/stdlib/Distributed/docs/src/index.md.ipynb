{
 "cells": [
  {
   "cell_type": "markdown",
   "id": "354b3be0",
   "metadata": {},
   "source": [
    "# [Distributed Computing](@id man-distributed)"
   ]
  },
  {
   "cell_type": "code",
   "execution_count": null,
   "id": "93a099e5",
   "metadata": {
    "attributes": {
     "classes": [
      "@docs"
     ],
     "id": ""
    }
   },
   "outputs": [],
   "source": [
    "Distributed.addprocs\n",
    "Distributed.nprocs\n",
    "Distributed.nworkers\n",
    "Distributed.procs()\n",
    "Distributed.procs(::Integer)\n",
    "Distributed.workers\n",
    "Distributed.rmprocs\n",
    "Distributed.interrupt\n",
    "Distributed.myid\n",
    "Distributed.pmap\n",
    "Distributed.RemoteException\n",
    "Distributed.Future\n",
    "Distributed.RemoteChannel\n",
    "Distributed.fetch(::Distributed.Future)\n",
    "Distributed.fetch(::RemoteChannel)\n",
    "Distributed.remotecall(::Any, ::Integer, ::Any...)\n",
    "Distributed.remotecall_wait(::Any, ::Integer, ::Any...)\n",
    "Distributed.remotecall_fetch(::Any, ::Integer, ::Any...)\n",
    "Distributed.remote_do(::Any, ::Integer, ::Any...)\n",
    "Distributed.put!(::RemoteChannel, ::Any...)\n",
    "Distributed.put!(::Distributed.Future, ::Any)\n",
    "Distributed.take!(::RemoteChannel, ::Any...)\n",
    "Distributed.isready(::RemoteChannel, ::Any...)\n",
    "Distributed.isready(::Distributed.Future)\n",
    "Distributed.AbstractWorkerPool\n",
    "Distributed.WorkerPool\n",
    "Distributed.CachingPool\n",
    "Distributed.default_worker_pool\n",
    "Distributed.clear!(::CachingPool)\n",
    "Distributed.remote\n",
    "Distributed.remotecall(::Any, ::AbstractWorkerPool, ::Any...)\n",
    "Distributed.remotecall_wait(::Any, ::AbstractWorkerPool, ::Any...)\n",
    "Distributed.remotecall_fetch(::Any, ::AbstractWorkerPool, ::Any...)\n",
    "Distributed.remote_do(::Any, ::AbstractWorkerPool, ::Any...)\n",
    "Distributed.@spawnat\n",
    "Distributed.@fetch\n",
    "Distributed.@fetchfrom\n",
    "Distributed.@distributed\n",
    "Distributed.@everywhere\n",
    "Distributed.clear!(::Any, ::Any; ::Any)\n",
    "Distributed.remoteref_id\n",
    "Distributed.channel_from_id\n",
    "Distributed.worker_id_from_socket\n",
    "Distributed.cluster_cookie()\n",
    "Distributed.cluster_cookie(::Any)"
   ]
  },
  {
   "cell_type": "markdown",
   "id": "4fdc1f6e",
   "metadata": {},
   "source": [
    "## Cluster Manager Interface\n",
    "\n",
    "This interface provides a mechanism to launch and manage Julia workers on different cluster environments.\n",
    "There are two types of managers present in Base: `LocalManager`, for launching additional workers on the\n",
    "same host, and `SSHManager`, for launching on remote hosts via `ssh`. TCP/IP sockets are used to connect\n",
    "and transport messages between processes. It is possible for Cluster Managers to provide a different transport."
   ]
  },
  {
   "cell_type": "code",
   "execution_count": null,
   "id": "6999bdf3",
   "metadata": {
    "attributes": {
     "classes": [
      "@docs"
     ],
     "id": ""
    }
   },
   "outputs": [],
   "source": [
    "Distributed.ClusterManager\n",
    "Distributed.WorkerConfig\n",
    "Distributed.launch\n",
    "Distributed.manage\n",
    "Distributed.kill(::ClusterManager, ::Int, ::WorkerConfig)\n",
    "Distributed.connect(::ClusterManager, ::Int, ::WorkerConfig)\n",
    "Distributed.init_worker\n",
    "Distributed.start_worker\n",
    "Distributed.process_messages\n",
    "Distributed.default_addprocs_params"
   ]
  }
 ],
 "metadata": {},
 "nbformat": 4,
 "nbformat_minor": 5
}
