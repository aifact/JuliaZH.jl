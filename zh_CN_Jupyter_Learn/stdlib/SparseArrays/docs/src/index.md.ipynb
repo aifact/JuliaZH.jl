{
 "cells": [
  {
   "cell_type": "markdown",
   "id": "f7e0b965",
   "metadata": {},
   "source": [
    "# 稀疏数组"
   ]
  },
  {
   "cell_type": "code",
   "execution_count": null,
   "id": "9cff6446",
   "metadata": {
    "attributes": {
     "classes": [
      "@meta"
     ],
     "id": ""
    }
   },
   "outputs": [],
   "source": [
    "DocTestSetup = :(using SparseArrays, LinearAlgebra)"
   ]
  },
  {
   "cell_type": "markdown",
   "id": "ae796787",
   "metadata": {},
   "source": [
    "Julia 在 `SparseArrays` 标准库模块中提供了对稀疏向量和[稀疏矩阵](https://en.wikipedia.org/wiki/Sparse_matrix)的支持。与稠密数组相比，包含足够多零值的稀疏数组在以特殊的数据结构存储时可以节省大量的空间和运算时间。\n",
    "\n",
    "## [压缩稀疏列（CSC）稀疏矩阵存储](@id man-csc)\n",
    "\n",
    "在 Julia 中，稀疏矩阵是按照[压缩稀疏列（CSC）格式](https://en.wikipedia.org/wiki/Sparse_matrix#Compressed_sparse_column_.28CSC_or_CCS.29)存储的。Julia 稀疏矩阵具有 [`SparseMatrixCSC{Tv,Ti}`](@ref) 类型，其中 `Tv` 是存储值的类型，`Ti` 是存储列指针和行索引的整型类型。`SparseMatrixCSC` 的内部表示如下所示："
   ]
  },
  {
   "cell_type": "code",
   "execution_count": null,
   "id": "70ae44de",
   "metadata": {
    "attributes": {
     "classes": [
      "julia"
     ],
     "id": ""
    }
   },
   "outputs": [],
   "source": [
    "struct SparseMatrixCSC{Tv,Ti<:Integer} <: AbstractSparseMatrixCSC{Tv,Ti}\n",
    "    m::Int                  # Number of rows\n",
    "    n::Int                  # Number of columns\n",
    "    colptr::Vector{Ti}      # Column j is in colptr[j]:(colptr[j+1]-1)\n",
    "    rowval::Vector{Ti}      # Row indices of stored values\n",
    "    nzval::Vector{Tv}       # Stored values, typically nonzeros\n",
    "end"
   ]
  },
  {
   "cell_type": "markdown",
   "id": "127cd774",
   "metadata": {},
   "source": [
    "压缩稀疏列存储格式使得访问稀疏矩阵的列元素非常简单快速，而访问稀疏矩阵的行会非常缓慢。在 CSC 稀疏矩阵中执行类似插入新元素的操作也会非常慢。这是由于在稀疏矩阵中插入新元素时，在插入点之后的所有元素都要向后移动一位。\n",
    "\n",
    "All operations on sparse matrices are carefully implemented to exploit the CSC data structure\n",
    "for performance, and to avoid expensive operations.\n",
    "\n",
    "如果你有来自不同应用或库的 CSC 格式数据，并且想要将它导入 Julia，确保使用基于 1 的索引。每个列中的行索引都要是有序的。如果你的 `SparseMatrixCSC` 对象包含无序的行索引，一个快速将它们排序的方法是做一次二重转置。\n",
    "\n",
    "In some applications, it is convenient to store explicit zero values in a `SparseMatrixCSC`. These\n",
    "*are* accepted by functions in `Base` (but there is no guarantee that they will be preserved in\n",
    "mutating operations). Such explicitly stored zeros are treated as structural nonzeros by many\n",
    "routines. The [`nnz`](@ref) function returns the number of elements explicitly stored in the\n",
    "sparse data structure, including non-structural zeros. In order to count the exact number of\n",
    "numerical nonzeros, use [`count(!iszero, x)`](@ref), which inspects every stored element of a sparse\n",
    "matrix. [`dropzeros`](@ref), and the in-place [`dropzeros!`](@ref), can be used to\n",
    "remove stored zeros from the sparse matrix."
   ]
  },
  {
   "cell_type": "code",
   "execution_count": null,
   "id": "2ae64df6",
   "metadata": {
    "attributes": {
     "classes": [
      "jldoctest"
     ],
     "id": ""
    }
   },
   "outputs": [],
   "source": [
    "julia> A = sparse([1, 1, 2, 3], [1, 3, 2, 3], [0, 1, 2, 0])\n",
    "3×3 SparseMatrixCSC{Int64, Int64} with 4 stored entries:\n",
    " 0  ⋅  1\n",
    " ⋅  2  ⋅\n",
    " ⋅  ⋅  0\n",
    "\n",
    "julia> dropzeros(A)\n",
    "3×3 SparseMatrixCSC{Int64, Int64} with 2 stored entries:\n",
    " ⋅  ⋅  1\n",
    " ⋅  2  ⋅\n",
    " ⋅  ⋅  ⋅"
   ]
  },
  {
   "cell_type": "markdown",
   "id": "3b0ae1c0",
   "metadata": {},
   "source": [
    "## 稀疏向量储存\n",
    "\n",
    "Sparse vectors are stored in a close analog to compressed sparse column format for sparse\n",
    "matrices. In Julia, sparse vectors have the type [`SparseVector{Tv,Ti}`](@ref) where `Tv`\n",
    "is the type of the stored values and `Ti` the integer type for the indices. The internal\n",
    "representation is as follows:"
   ]
  },
  {
   "cell_type": "code",
   "execution_count": null,
   "id": "73d4aff9",
   "metadata": {
    "attributes": {
     "classes": [
      "julia"
     ],
     "id": ""
    }
   },
   "outputs": [],
   "source": [
    "struct SparseVector{Tv,Ti<:Integer} <: AbstractSparseVector{Tv,Ti}\n",
    "    n::Int              # Length of the sparse vector\n",
    "    nzind::Vector{Ti}   # Indices of stored values\n",
    "    nzval::Vector{Tv}   # Stored values, typically nonzeros\n",
    "end"
   ]
  },
  {
   "cell_type": "markdown",
   "id": "94428580",
   "metadata": {},
   "source": [
    "对于 [`SparseMatrixCSC`](@ref)， `SparseVector` 类型也能包含显示存储的，零值。（见 [稀疏矩阵存储](@ref man-csc)。）\n",
    "\n",
    "## 稀疏向量与矩阵构造函数\n",
    "\n",
    "创建一个稀疏矩阵的最简单的方法是使用一个与 Julia 提供的用来处理稠密矩阵的[`zeros`](@ref) 等价的函数。要产生一个稀疏矩阵，你可以用同样的名字加上 `sp` 前缀："
   ]
  },
  {
   "cell_type": "code",
   "execution_count": null,
   "id": "9ac66b1a",
   "metadata": {
    "attributes": {
     "classes": [
      "jldoctest"
     ],
     "id": ""
    }
   },
   "outputs": [],
   "source": [
    "julia> spzeros(3)\n",
    "3-element SparseVector{Float64, Int64} with 0 stored entries"
   ]
  },
  {
   "cell_type": "markdown",
   "id": "23e934e7",
   "metadata": {},
   "source": [
    "[`sparse`](@ref) 函数通常是一个构建稀疏矩阵的便捷方法。例如，要构建一个稀疏矩阵，我们可以输入一个列索引向量 `I`，一个行索引向量 `J`，一个储存值的向量 `V`（这也叫作 [COO（坐标） 格式](https://en.wikipedia.org/wiki/Sparse_matrix#Coordinate_list_.28COO.29)）。\n",
    "然后 `sparse(I,J,V)` 创建一个满足 `S[I[k], J[k]] = V[k]` 的稀疏矩阵。等价的稀疏向量构建函数是 [`sparsevec`](@ref)，它接受（行）索引向量 `I` 和储存值的向量 `V` 并创建一个满足 `R[I[k]] = V[k]` 的向量 `R`。"
   ]
  },
  {
   "cell_type": "code",
   "execution_count": null,
   "id": "47cc3864",
   "metadata": {},
   "outputs": [],
   "source": [
    "julia> I = [1, 4, 3, 5]; J = [4, 7, 18, 9]; V = [1, 2, -5, 3];\n",
    "\n",
    "julia> S = sparse(I,J,V)\n",
    "5×18 SparseMatrixCSC{Int64, Int64} with 4 stored entries:\n",
    "⠀⠈⠀⡀⠀⠀⠀⠀⠠\n",
    "⠀⠀⠀⠀⠁⠀⠀⠀⠀\n",
    "\n",
    "julia> R = sparsevec(I,V)\n",
    "5-element SparseVector{Int64, Int64} with 4 stored entries:\n",
    "  [1]  =  1\n",
    "  [3]  =  -5\n",
    "  [4]  =  2\n",
    "  [5]  =  3"
   ]
  },
  {
   "cell_type": "markdown",
   "id": "2967d35c",
   "metadata": {},
   "source": [
    "The inverse of the [`sparse`](@ref) and [`sparsevec`](@ref) functions is\n",
    "[`findnz`](@ref), which retrieves the inputs used to create the sparse array.\n",
    "[`findall(!iszero, x)`](@ref) returns the cartesian indices of non-zero entries in `x`\n",
    "(including stored entries equal to zero)."
   ]
  },
  {
   "cell_type": "code",
   "execution_count": null,
   "id": "8b112e1c",
   "metadata": {},
   "outputs": [],
   "source": [
    "julia> findnz(S)\n",
    "([1, 4, 5, 3], [4, 7, 9, 18], [1, 2, 3, -5])\n",
    "\n",
    "julia> findall(!iszero, S)\n",
    "4-element Vector{CartesianIndex{2}}:\n",
    " CartesianIndex(1, 4)\n",
    " CartesianIndex(4, 7)\n",
    " CartesianIndex(5, 9)\n",
    " CartesianIndex(3, 18)\n",
    "\n",
    "julia> findnz(R)\n",
    "([1, 3, 4, 5], [1, -5, 2, 3])\n",
    "\n",
    "julia> findall(!iszero, R)\n",
    "4-element Vector{Int64}:\n",
    " 1\n",
    " 3\n",
    " 4\n",
    " 5"
   ]
  },
  {
   "cell_type": "markdown",
   "id": "2ce9e112",
   "metadata": {},
   "source": [
    "另一个创建稀疏数组的方法是使用  [`sparse`](@ref) 函数将一个稠密数组转化为稀疏数组："
   ]
  },
  {
   "cell_type": "code",
   "execution_count": null,
   "id": "17622fe1",
   "metadata": {
    "attributes": {
     "classes": [
      "jldoctest"
     ],
     "id": ""
    }
   },
   "outputs": [],
   "source": [
    "julia> sparse(Matrix(1.0I, 5, 5))\n",
    "5×5 SparseMatrixCSC{Float64, Int64} with 5 stored entries:\n",
    " 1.0   ⋅    ⋅    ⋅    ⋅\n",
    "  ⋅   1.0   ⋅    ⋅    ⋅\n",
    "  ⋅    ⋅   1.0   ⋅    ⋅\n",
    "  ⋅    ⋅    ⋅   1.0   ⋅\n",
    "  ⋅    ⋅    ⋅    ⋅   1.0\n",
    "\n",
    "julia> sparse([1.0, 0.0, 1.0])\n",
    "3-element SparseVector{Float64, Int64} with 2 stored entries:\n",
    "  [1]  =  1.0\n",
    "  [3]  =  1.0"
   ]
  },
  {
   "cell_type": "markdown",
   "id": "758e18fe",
   "metadata": {},
   "source": [
    "You can go in the other direction using the [`Array`](@ref) constructor. The [`issparse`](@ref)\n",
    "function can be used to query if a matrix is sparse."
   ]
  },
  {
   "cell_type": "code",
   "execution_count": null,
   "id": "acb8dd3b",
   "metadata": {
    "attributes": {
     "classes": [
      "jldoctest"
     ],
     "id": ""
    }
   },
   "outputs": [],
   "source": [
    "julia> issparse(spzeros(5))\n",
    "true"
   ]
  },
  {
   "cell_type": "markdown",
   "id": "1b08ffc8",
   "metadata": {},
   "source": [
    "## 稀疏矩阵的操作\n",
    "\n",
    "Arithmetic operations on sparse matrices also work as they do on dense matrices. Indexing of,\n",
    "assignment into, and concatenation of sparse matrices work in the same way as dense matrices.\n",
    "Indexing operations, especially assignment, are expensive, when carried out one element at a time.\n",
    "In many cases it may be better to convert the sparse matrix into `(I,J,V)` format using [`findnz`](@ref),\n",
    "manipulate the values or the structure in the dense vectors `(I,J,V)`, and then reconstruct\n",
    "the sparse matrix.\n",
    "\n",
    "## Correspondence of dense and sparse methods\n",
    "\n",
    "The following table gives a correspondence between built-in methods on sparse matrices and their\n",
    "corresponding methods on dense matrix types. In general, methods that generate sparse matrices\n",
    "differ from their dense counterparts in that the resulting matrix follows the same sparsity pattern\n",
    "as a given sparse matrix `S`, or that the resulting sparse matrix has density `d`, i.e. each matrix\n",
    "element has a probability `d` of being non-zero.\n",
    "\n",
    "Details can be found in the [Sparse Vectors and Matrices](@ref stdlib-sparse-arrays)\n",
    "section of the standard library reference.\n",
    "\n",
    "| 构造函数                     | 密度                  | 说明                                                                                                                                                           |\n",
    "|:-------------------------- |:---------------------- |:--------------------------------------------------------------------------------------------------------------------------------------------------------------------- |\n",
    "| [`spzeros(m,n)`](@ref)     | [`zeros(m,n)`](@ref)   | Creates a *m*-by-*n* matrix of zeros. ([`spzeros(m,n)`](@ref) is empty.)                                                                                              |\n",
    "| [`sparse(I,n,n)`](@ref)  | [`Matrix(I,n,n)`](@ref)| Creates a *n*-by-*n* identity matrix.                                                                                                                                 |\n",
    "| [`sparse(A)`](@ref)        | [`Array(S)`](@ref)   | Interconverts between dense and sparse formats.                                                                                                                       |\n",
    "| [`sprand(m,n,d)`](@ref)    | [`rand(m,n)`](@ref)    | Creates a *m*-by-*n* random matrix (of density *d*) with iid non-zero elements distributed uniformly on the half-open interval ``[0, 1)``.                            |\n",
    "| [`sprandn(m,n,d)`](@ref)   | [`randn(m,n)`](@ref)   | Creates a *m*-by-*n* random matrix (of density *d*) with iid non-zero elements distributed according to the standard normal (Gaussian) distribution.                  |\n",
    "| [`sprandn(rng,m,n,d)`](@ref) | [`randn(rng,m,n)`](@ref) | Creates a *m*-by-*n* random matrix (of density *d*) with iid non-zero elements generated with the `rng` random number generator                                   |\n",
    "\n",
    "# [Sparse Arrays](@id stdlib-sparse-arrays)"
   ]
  },
  {
   "cell_type": "code",
   "execution_count": null,
   "id": "fc555081",
   "metadata": {
    "attributes": {
     "classes": [
      "@docs"
     ],
     "id": ""
    }
   },
   "outputs": [],
   "source": [
    "SparseArrays.AbstractSparseArray\n",
    "SparseArrays.AbstractSparseVector\n",
    "SparseArrays.AbstractSparseMatrix\n",
    "SparseArrays.SparseVector\n",
    "SparseArrays.SparseMatrixCSC\n",
    "SparseArrays.sparse\n",
    "SparseArrays.sparsevec\n",
    "SparseArrays.issparse\n",
    "SparseArrays.nnz\n",
    "SparseArrays.findnz\n",
    "SparseArrays.spzeros\n",
    "SparseArrays.spdiagm\n",
    "SparseArrays.blockdiag\n",
    "SparseArrays.sprand\n",
    "SparseArrays.sprandn\n",
    "SparseArrays.nonzeros\n",
    "SparseArrays.rowvals\n",
    "SparseArrays.nzrange\n",
    "SparseArrays.droptol!\n",
    "SparseArrays.dropzeros!\n",
    "SparseArrays.dropzeros\n",
    "SparseArrays.permute\n",
    "permute!{Tv, Ti, Tp <: Integer, Tq <: Integer}(::SparseMatrixCSC{Tv,Ti}, ::SparseMatrixCSC{Tv,Ti}, ::AbstractArray{Tp,1}, ::AbstractArray{Tq,1})"
   ]
  },
  {
   "cell_type": "code",
   "execution_count": null,
   "id": "8fd4c7bf",
   "metadata": {
    "attributes": {
     "classes": [
      "@meta"
     ],
     "id": ""
    }
   },
   "outputs": [],
   "source": [
    "DocTestSetup = nothing"
   ]
  }
 ],
 "metadata": {},
 "nbformat": 4,
 "nbformat_minor": 5
}
