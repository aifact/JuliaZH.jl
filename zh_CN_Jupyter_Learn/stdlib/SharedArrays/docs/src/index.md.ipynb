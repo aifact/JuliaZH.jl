{
 "cells": [
  {
   "cell_type": "markdown",
   "id": "bce9b6ff",
   "metadata": {},
   "source": [
    "# 共享数组"
   ]
  },
  {
   "cell_type": "code",
   "execution_count": null,
   "id": "72676b24",
   "metadata": {
    "attributes": {
     "classes": [
      "@docs"
     ],
     "id": ""
    }
   },
   "outputs": [],
   "source": [
    "SharedArrays.SharedArray\n",
    "SharedArrays.SharedVector\n",
    "SharedArrays.SharedMatrix\n",
    "SharedArrays.procs(::SharedArray)\n",
    "SharedArrays.sdata\n",
    "SharedArrays.indexpids\n",
    "SharedArrays.localindices"
   ]
  }
 ],
 "metadata": {},
 "nbformat": 4,
 "nbformat_minor": 5
}
