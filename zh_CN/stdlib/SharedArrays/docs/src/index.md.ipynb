{
 "cells": [
  {
   "cell_type": "markdown",
   "id": "734fb754",
   "metadata": {},
   "source": [
    "# 共享数组"
   ]
  },
  {
   "cell_type": "code",
   "execution_count": null,
   "id": "d2abdad6",
   "metadata": {
    "attributes": {
     "classes": [
      "@docs"
     ],
     "id": ""
    }
   },
   "outputs": [],
   "source": [
    "SharedArrays.SharedArray\n",
    "SharedArrays.SharedVector\n",
    "SharedArrays.SharedMatrix\n",
    "SharedArrays.procs(::SharedArray)\n",
    "SharedArrays.sdata\n",
    "SharedArrays.indexpids\n",
    "SharedArrays.localindices"
   ]
  }
 ],
 "metadata": {},
 "nbformat": 4,
 "nbformat_minor": 5
}
