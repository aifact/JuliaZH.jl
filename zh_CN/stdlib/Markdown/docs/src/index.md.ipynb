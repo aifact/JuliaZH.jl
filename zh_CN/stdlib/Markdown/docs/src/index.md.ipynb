{
 "cells": [
  {
   "cell_type": "markdown",
   "id": "832d1977",
   "metadata": {},
   "source": [
    "# [Markdown](@id markdown_stdlib)\n",
    "\n",
    "This section describes Julia's markdown syntax, which is enabled by the\n",
    "Markdown standard library. The following Markdown elements are supported:\n",
    "\n",
    "## Inline elements\n",
    "\n",
    "Here \"inline\" refers to elements that can be found within blocks of text, i.e. paragraphs. These\n",
    "include the following elements.\n",
    "\n",
    "### Bold\n",
    "\n",
    "Surround words with two asterisks, `**`, to display the enclosed text in boldface."
   ]
  },
  {
   "cell_type": "code",
   "execution_count": null,
   "id": "cbbffc8d",
   "metadata": {},
   "outputs": [],
   "source": [
    "A paragraph containing a **bold** word."
   ]
  },
  {
   "cell_type": "markdown",
   "id": "542ec88b",
   "metadata": {},
   "source": [
    "### Italics\n",
    "\n",
    "Surround words with one asterisk, `*`, to display the enclosed text in italics."
   ]
  },
  {
   "cell_type": "code",
   "execution_count": null,
   "id": "c761cf1a",
   "metadata": {},
   "outputs": [],
   "source": [
    "A paragraph containing an *italicized* word."
   ]
  },
  {
   "cell_type": "markdown",
   "id": "06f7d30e",
   "metadata": {},
   "source": [
    "### Literals\n",
    "\n",
    "Surround text that should be displayed exactly as written with single backticks, ``` ` ``` ."
   ]
  },
  {
   "cell_type": "code",
   "execution_count": null,
   "id": "61cfe392",
   "metadata": {},
   "outputs": [],
   "source": [
    "A paragraph containing a `literal` word."
   ]
  },
  {
   "cell_type": "markdown",
   "id": "e46045d9",
   "metadata": {},
   "source": [
    "Literals should be used when writing text that refers to names of variables, functions, or other\n",
    "parts of a Julia program.\n",
    "\n",
    "!!! tip\n",
    "    To include a backtick character within literal text use three backticks rather than one to enclose\n",
    "    the text."
   ]
  },
  {
   "cell_type": "code",
   "execution_count": null,
   "id": "663bacf3",
   "metadata": {},
   "outputs": [],
   "source": [
    "```\n",
    "A paragraph containing ``` `backtick` characters ```.\n",
    "```\n",
    "\n",
    "By extension any odd number of backticks may be used to enclose a lesser number of backticks."
   ]
  },
  {
   "cell_type": "markdown",
   "id": "5b38914d",
   "metadata": {},
   "source": [
    "### ``\\LaTeX``\n",
    "\n",
    "Surround text that should be displayed as mathematics using ``\\LaTeX`` syntax with double backticks,"
   ]
  },
  {
   "cell_type": "markdown",
   "id": "6fc631f0",
   "metadata": {},
   "source": [
    "A paragraph containing some ``\\LaTeX`` markup."
   ]
  },
  {
   "cell_type": "code",
   "execution_count": null,
   "id": "f306344f",
   "metadata": {},
   "outputs": [],
   "source": [
    "\n",
    "!!! tip\n",
    "    As with literals in the previous section, if literal backticks need to be written within double\n",
    "    backticks use an even number greater than two. Note that if a single literal backtick needs to\n",
    "    be included within ``\\LaTeX`` markup then two enclosing backticks is sufficient.\n",
    "\n",
    "!!! note\n",
    "    The `\\` character should be escaped appropriately if the text is embedded in a Julia source code,\n",
    "    for example, ``` \"``\\\\LaTeX`` syntax in a docstring.\" ```, since it is interpreted as a string\n",
    "    literal. Alternatively, in order to avoid escaping, it is possible to use the `raw` string macro\n",
    "    together with the `@doc` macro:\n",
    "    ```\n",
    "    @doc raw\"``\\LaTeX`` syntax in a docstring.\" functionname\n",
    "    ```\n",
    "\n",
    "### Links\n",
    "\n",
    "Links to either external or internal targets can be written using the following syntax, where\n",
    "the text enclosed in square brackets, `[ ]`, is the name of the link and the text enclosed in\n",
    "parentheses, `( )`, is the URL.\n"
   ]
  },
  {
   "cell_type": "markdown",
   "id": "e65cdcf5",
   "metadata": {},
   "source": [
    "A paragraph containing a link to [Julia](http://www.julialang.org)."
   ]
  },
  {
   "cell_type": "code",
   "execution_count": null,
   "id": "e7a2030d",
   "metadata": {},
   "outputs": [],
   "source": [
    "\n",
    "It's also possible to add cross-references to other documented functions/methods/variables within\n",
    "the Julia documentation itself. For example:\n",
    "\n",
    "```julia\n",
    "\"\"\"\n",
    "    tryparse(type, str; base)\n",
    "\n",
    "Like [`parse`](@ref), but returns either a value of the requested type,\n",
    "or [`nothing`](@ref) if the string does not contain a valid number.\n",
    "\"\"\""
   ]
  },
  {
   "cell_type": "markdown",
   "id": "30a6e6bd",
   "metadata": {},
   "source": [
    "This will create a link in the generated docs to the [`parse`](@ref) documentation\n",
    "(which has more information about what this function actually does), and to the\n",
    "[`nothing`](@ref) documentation. It's good to include cross references to mutating/non-mutating\n",
    "versions of a function, or to highlight a difference between two similar-seeming functions.\n",
    "\n",
    "!!! note\n",
    "    The above cross referencing is *not* a Markdown feature, and relies on\n",
    "    [Documenter.jl](https://github.com/JuliaDocs/Documenter.jl), which is\n",
    "    used to build base Julia's documentation.\n",
    "\n",
    "### Footnote references\n",
    "\n",
    "Named and numbered footnote references can be written using the following syntax. A footnote name\n",
    "must be a single alphanumeric word containing no punctuation."
   ]
  },
  {
   "cell_type": "code",
   "execution_count": null,
   "id": "6c6c775c",
   "metadata": {},
   "outputs": [],
   "source": [
    "A paragraph containing a numbered footnote [^1] and a named one [^named]."
   ]
  },
  {
   "cell_type": "markdown",
   "id": "60643cf6",
   "metadata": {},
   "source": [
    "!!! note\n",
    "    The text associated with a footnote can be written anywhere within the same page as the footnote\n",
    "    reference. The syntax used to define the footnote text is discussed in the [Footnotes](@ref) section\n",
    "    below.\n",
    "\n",
    "## Toplevel elements\n",
    "\n",
    "The following elements can be written either at the \"toplevel\" of a document or within another\n",
    "\"toplevel\" element.\n",
    "\n",
    "### Paragraphs\n",
    "\n",
    "A paragraph is a block of plain text, possibly containing any number of inline elements defined\n",
    "in the [Inline elements](@ref) section above, with one or more blank lines above and below it."
   ]
  },
  {
   "cell_type": "code",
   "execution_count": null,
   "id": "9db65947",
   "metadata": {},
   "outputs": [],
   "source": [
    "This is a paragraph.\n",
    "\n",
    "And this is *another* paragraph containing some emphasized text.\n",
    "A new line, but still part of the same paragraph."
   ]
  },
  {
   "cell_type": "markdown",
   "id": "df0cb67f",
   "metadata": {},
   "source": [
    "### Headers\n",
    "\n",
    "A document can be split up into different sections using headers. Headers use the following syntax:"
   ]
  },
  {
   "cell_type": "code",
   "execution_count": null,
   "id": "1ad27b92",
   "metadata": {
    "attributes": {
     "classes": [
      "julia"
     ],
     "id": ""
    }
   },
   "outputs": [],
   "source": [
    "# Level One\n",
    "## Level Two\n",
    "### Level Three\n",
    "#### Level Four\n",
    "##### Level Five\n",
    "###### Level Six"
   ]
  },
  {
   "cell_type": "markdown",
   "id": "eca761e2",
   "metadata": {},
   "source": [
    "A header line can contain any inline syntax in the same way as a paragraph can.\n",
    "\n",
    "!!! tip\n",
    "    Try to avoid using too many levels of header within a single document. A heavily nested document\n",
    "    may be indicative of a need to restructure it or split it into several pages covering separate\n",
    "    topics.\n",
    "\n",
    "### Code blocks\n",
    "\n",
    "Source code can be displayed as a literal block using an indent of four spaces as shown in the\n",
    "following example."
   ]
  },
  {
   "cell_type": "code",
   "execution_count": null,
   "id": "a55227f8",
   "metadata": {},
   "outputs": [],
   "source": [
    "This is a paragraph.\n",
    "\n",
    "    function func(x)\n",
    "        # ...\n",
    "    end\n",
    "\n",
    "Another paragraph."
   ]
  },
  {
   "cell_type": "markdown",
   "id": "39491590",
   "metadata": {},
   "source": [
    "Additionally, code blocks can be enclosed using triple backticks with an optional \"language\" to\n",
    "specify how a block of code should be highlighted."
   ]
  },
  {
   "cell_type": "code",
   "execution_count": null,
   "id": "f3713dca",
   "metadata": {},
   "outputs": [],
   "source": [
    "A code block without a \"language\":\n",
    "\n",
    "```\n",
    "function func(x)\n",
    "    # ...\n",
    "end\n",
    "```\n",
    "\n",
    "and another one with the \"language\" specified as `julia`:\n",
    "\n",
    "```julia\n",
    "function func(x)\n",
    "    # ...\n",
    "end\n",
    "```"
   ]
  },
  {
   "cell_type": "markdown",
   "id": "3a9dbc6c",
   "metadata": {},
   "source": [
    "!!! note\n",
    "    \"Fenced\" code blocks, as shown in the last example, should be preferred over indented code blocks\n",
    "    since there is no way to specify what language an indented code block is written in.\n",
    "\n",
    "### Block quotes\n",
    "\n",
    "Text from external sources, such as quotations from books or websites, can be quoted using `>`\n",
    "characters prepended to each line of the quote as follows."
   ]
  },
  {
   "cell_type": "code",
   "execution_count": null,
   "id": "ca08ef6e",
   "metadata": {},
   "outputs": [],
   "source": [
    "Here's a quote:\n",
    "\n",
    "> Julia is a high-level, high-performance dynamic programming language for\n",
    "> technical computing, with syntax that is familiar to users of other\n",
    "> technical computing environments."
   ]
  },
  {
   "cell_type": "markdown",
   "id": "b46958e9",
   "metadata": {},
   "source": [
    "Note that a single space must appear after the `>` character on each line. Quoted blocks may themselves\n",
    "contain other toplevel or inline elements.\n",
    "\n",
    "### Images\n",
    "\n",
    "The syntax for images is similar to the link syntax mentioned above. Prepending a `!` character\n",
    "to a link will display an image from the specified URL rather than a link to it."
   ]
  },
  {
   "cell_type": "code",
   "execution_count": null,
   "id": "ce739a21",
   "metadata": {
    "attributes": {
     "classes": [
      "julia"
     ],
     "id": ""
    }
   },
   "outputs": [],
   "source": [
    "![alternative text](link/to/image.png)"
   ]
  },
  {
   "cell_type": "markdown",
   "id": "9dd5761d",
   "metadata": {},
   "source": [
    "### Lists\n",
    "\n",
    "Unordered lists can be written by prepending each item in a list with either `*`, `+`, or `-`."
   ]
  },
  {
   "cell_type": "code",
   "execution_count": null,
   "id": "44cb3d80",
   "metadata": {},
   "outputs": [],
   "source": [
    "A list of items:\n",
    "\n",
    "  * item one\n",
    "  * item two\n",
    "  * item three"
   ]
  },
  {
   "cell_type": "markdown",
   "id": "2a54ca5e",
   "metadata": {},
   "source": [
    "Note the two spaces before each `*` and the single space after each one.\n",
    "\n",
    "Lists can contain other nested toplevel elements such as lists, code blocks, or quoteblocks. A\n",
    "blank line should be left between each list item when including any toplevel elements within a\n",
    "list."
   ]
  },
  {
   "cell_type": "code",
   "execution_count": null,
   "id": "dc21f7ee",
   "metadata": {},
   "outputs": [],
   "source": [
    "Another list:\n",
    "\n",
    "  * item one\n",
    "\n",
    "  * item two\n",
    "\n",
    "    ```\n",
    "    f(x) = x\n",
    "    ```\n",
    "\n",
    "  * And a sublist:\n",
    "\n",
    "      + sub-item one\n",
    "      + sub-item two"
   ]
  },
  {
   "cell_type": "markdown",
   "id": "5f8f641f",
   "metadata": {},
   "source": [
    "!!! note\n",
    "    The contents of each item in the list must line up with the first line of the item. In the above\n",
    "    example the fenced code block must be indented by four spaces to align with the `i` in `item two`.\n",
    "\n",
    "Ordered lists are written by replacing the \"bullet\" character, either `*`, `+`, or `-`, with a\n",
    "positive integer followed by either `.` or `)`."
   ]
  },
  {
   "cell_type": "code",
   "execution_count": null,
   "id": "475fb321",
   "metadata": {},
   "outputs": [],
   "source": [
    "Two ordered lists:\n",
    "\n",
    " 1. item one\n",
    " 2. item two\n",
    " 3. item three\n",
    "\n",
    " 5) item five\n",
    " 6) item six\n",
    " 7) item seven"
   ]
  },
  {
   "cell_type": "markdown",
   "id": "e4d2700e",
   "metadata": {},
   "source": [
    "An ordered list may start from a number other than one, as in the second list of the above example,\n",
    "where it is numbered from five. As with unordered lists, ordered lists can contain nested toplevel\n",
    "elements.\n",
    "\n",
    "### Display equations\n",
    "\n",
    "Large ``\\LaTeX`` equations that do not fit inline within a paragraph may be written as display\n",
    "equations using a fenced code block with the \"language\" `math` as in the example below."
   ]
  },
  {
   "cell_type": "code",
   "execution_count": null,
   "id": "ff3900e5",
   "metadata": {
    "attributes": {
     "classes": [
      "julia"
     ],
     "id": ""
    }
   },
   "outputs": [],
   "source": [
    "```math\n",
    "f(a) = \\frac{1}{2\\pi}\\int_{0}^{2\\pi} (\\alpha+R\\cos(\\theta))d\\theta\n",
    "```"
   ]
  },
  {
   "cell_type": "markdown",
   "id": "459c4ec5",
   "metadata": {},
   "source": [
    "### Footnotes\n",
    "\n",
    "This syntax is paired with the inline syntax for [Footnote references](@ref). Make sure to read\n",
    "that section as well.\n",
    "\n",
    "Footnote text is defined using the following syntax, which is similar to footnote reference syntax,\n",
    "aside from the `:` character that is appended to the footnote label."
   ]
  },
  {
   "cell_type": "code",
   "execution_count": null,
   "id": "0f574f7a",
   "metadata": {},
   "outputs": [],
   "source": [
    "[^1]: Numbered footnote text.\n",
    "\n",
    "[^note]:\n",
    "\n",
    "    Named footnote text containing several toplevel elements.\n",
    "\n",
    "      * item one\n",
    "      * item two\n",
    "      * item three\n",
    "\n",
    "    ```julia\n",
    "    function func(x)\n",
    "        # ...\n",
    "    end\n",
    "    ```"
   ]
  },
  {
   "cell_type": "markdown",
   "id": "7ff5329d",
   "metadata": {},
   "source": [
    "!!! note\n",
    "    No checks are done during parsing to make sure that all footnote references have matching footnotes.\n",
    "\n",
    "### Horizontal rules\n",
    "\n",
    "The equivalent of an `<hr>` HTML tag can be achieved using three hyphens (`---`).\n",
    "For example:"
   ]
  },
  {
   "cell_type": "code",
   "execution_count": null,
   "id": "2f538547",
   "metadata": {},
   "outputs": [],
   "source": [
    "Text above the line.\n",
    "\n",
    "---\n",
    "\n",
    "And text below the line."
   ]
  },
  {
   "cell_type": "markdown",
   "id": "93a99fca",
   "metadata": {},
   "source": [
    "### Tables\n",
    "\n",
    "Basic tables can be written using the syntax described below. Note that markdown tables have limited\n",
    "features and cannot contain nested toplevel elements unlike other elements discussed above –\n",
    "only inline elements are allowed. Tables must always contain a header row with column names. Cells\n",
    "cannot span multiple rows or columns of the table."
   ]
  },
  {
   "cell_type": "code",
   "execution_count": null,
   "id": "b1ee79f7",
   "metadata": {},
   "outputs": [],
   "source": [
    "| Column One | Column Two | Column Three |\n",
    "|:---------- | ---------- |:------------:|\n",
    "| Row `1`    | Column `2` |              |\n",
    "| *Row* 2    | **Row** 2  | Column ``3`` |"
   ]
  },
  {
   "cell_type": "markdown",
   "id": "4fe90d54",
   "metadata": {},
   "source": [
    "!!! note\n",
    "    As illustrated in the above example each column of `|` characters must be aligned vertically."
   ]
  },
  {
   "cell_type": "code",
   "execution_count": null,
   "id": "6ee4250f",
   "metadata": {},
   "outputs": [],
   "source": [
    "A `:` character on either end of a column's header separator (the row containing `-` characters)\n",
    "specifies whether the row is left-aligned, right-aligned, or (when `:` appears on both ends) center-aligned.\n",
    "Providing no `:` characters will default to right-aligning the column."
   ]
  },
  {
   "cell_type": "markdown",
   "id": "dcc7b1b7",
   "metadata": {},
   "source": [
    "### Admonitions\n",
    "\n",
    "Specially formatted blocks, known as admonitions, can be used to highlight particular remarks.\n",
    "They can be defined using the following `!!!` syntax:"
   ]
  },
  {
   "cell_type": "code",
   "execution_count": null,
   "id": "fc069551",
   "metadata": {},
   "outputs": [],
   "source": [
    "!!! note\n",
    "\n",
    "    This is the content of the note.\n",
    "\n",
    "!!! warning \"Beware!\"\n",
    "\n",
    "    And this is another one.\n",
    "\n",
    "    This warning admonition has a custom title: `\"Beware!\"`."
   ]
  },
  {
   "cell_type": "markdown",
   "id": "fb323509",
   "metadata": {},
   "source": [
    "The type of the admonition can be any word made up of only lowercase Latin characters (a-z), but some types produce special styling,\n",
    "namely (in order of decreasing severity): `danger`, `warning`, `info`, `note`, and `tip`.\n",
    "\n",
    "A custom title for the box can be provided as a string (in double quotes) after the admonition type.\n",
    "For that standard types (`danger`, `warning`... etc_, if no title text is specified after the\n",
    "admonition type, then the type title used will be the type of the block.\n",
    "E.g. `\"Note\"` in the case of the `note` admonition.\n",
    "\n",
    "If you would like to define your own block, for example a `terminology`  block\n",
    "used like so:"
   ]
  },
  {
   "cell_type": "code",
   "execution_count": null,
   "id": "d2b1d661",
   "metadata": {},
   "outputs": [],
   "source": [
    "!!! terminology \"julia vs Julia\"\n",
    "    Strictly speaking, Julia refers to the language,\n",
    "    and julia the standard implementation."
   ]
  },
  {
   "cell_type": "markdown",
   "id": "d690d60d",
   "metadata": {},
   "source": [
    "Admonitions, like most other toplevel elements, can contain other toplevel elements.\n",
    "\n",
    "## Markdown Syntax Extensions\n",
    "\n",
    "Julia's markdown supports interpolation in a very similar way to basic string literals, with the\n",
    "difference that it will store the object itself in the Markdown tree (as opposed to converting\n",
    "it to a string). When the Markdown content is rendered the usual `show` methods will be called,\n",
    "and these can be overridden as usual. This design allows the Markdown to be extended with arbitrarily\n",
    "complex features (such as references) without cluttering the basic syntax.\n",
    "\n",
    "In principle, the Markdown parser itself can also be arbitrarily extended by packages, or an entirely\n",
    "custom flavour of Markdown can be used, but this should generally be unnecessary."
   ]
  }
 ],
 "metadata": {},
 "nbformat": 4,
 "nbformat_minor": 5
}
