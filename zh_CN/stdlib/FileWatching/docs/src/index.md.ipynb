{
 "cells": [
  {
   "cell_type": "markdown",
   "id": "452f171c",
   "metadata": {},
   "source": [
    "# 文件相关事件"
   ]
  },
  {
   "cell_type": "code",
   "execution_count": null,
   "id": "e3461b47",
   "metadata": {
    "attributes": {
     "classes": [
      "@docs"
     ],
     "id": ""
    }
   },
   "outputs": [],
   "source": [
    "FileWatching.poll_fd\n",
    "FileWatching.poll_file\n",
    "FileWatching.watch_file\n",
    "FileWatching.watch_folder\n",
    "FileWatching.unwatch_folder"
   ]
  }
 ],
 "metadata": {},
 "nbformat": 4,
 "nbformat_minor": 5
}
