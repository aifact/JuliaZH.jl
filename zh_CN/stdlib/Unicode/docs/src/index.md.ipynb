{
 "cells": [
  {
   "cell_type": "markdown",
   "id": "e9051d42",
   "metadata": {},
   "source": [
    "# Unicode"
   ]
  },
  {
   "cell_type": "code",
   "execution_count": null,
   "id": "775c5410",
   "metadata": {
    "attributes": {
     "classes": [
      "@docs"
     ],
     "id": ""
    }
   },
   "outputs": [],
   "source": [
    "Unicode.isassigned\n",
    "Unicode.normalize\n",
    "Unicode.graphemes"
   ]
  }
 ],
 "metadata": {},
 "nbformat": 4,
 "nbformat_minor": 5
}
