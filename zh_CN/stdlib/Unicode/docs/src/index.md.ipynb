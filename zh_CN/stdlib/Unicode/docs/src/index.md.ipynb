{
 "cells": [
  {
   "cell_type": "markdown",
   "id": "4f620b43",
   "metadata": {},
   "source": [
    "# Unicode"
   ]
  },
  {
   "cell_type": "code",
   "execution_count": null,
   "id": "bf1bcdc6",
   "metadata": {
    "attributes": {
     "classes": [
      "@docs"
     ],
     "id": ""
    }
   },
   "outputs": [],
   "source": [
    "Unicode.isassigned\n",
    "Unicode.normalize\n",
    "Unicode.graphemes"
   ]
  }
 ],
 "metadata": {},
 "nbformat": 4,
 "nbformat_minor": 5
}
