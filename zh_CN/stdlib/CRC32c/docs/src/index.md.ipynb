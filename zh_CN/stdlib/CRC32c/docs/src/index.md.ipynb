{
 "cells": [
  {
   "cell_type": "markdown",
   "id": "0ad9c791",
   "metadata": {},
   "source": [
    "# CRC32c"
   ]
  },
  {
   "cell_type": "code",
   "execution_count": null,
   "id": "f2ffeec5",
   "metadata": {
    "attributes": {
     "classes": [
      "@docs"
     ],
     "id": ""
    }
   },
   "outputs": [],
   "source": [
    "CRC32c.crc32c\n",
    "CRC32c.crc32c(::IO, ::Integer, ::UInt32)"
   ]
  }
 ],
 "metadata": {},
 "nbformat": 4,
 "nbformat_minor": 5
}
