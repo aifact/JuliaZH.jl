{
 "cells": [
  {
   "cell_type": "markdown",
   "id": "2cb33856",
   "metadata": {},
   "source": [
    "# CRC32c"
   ]
  },
  {
   "cell_type": "code",
   "execution_count": null,
   "id": "68f8b889",
   "metadata": {
    "attributes": {
     "classes": [
      "@docs"
     ],
     "id": ""
    }
   },
   "outputs": [],
   "source": [
    "CRC32c.crc32c\n",
    "CRC32c.crc32c(::IO, ::Integer, ::UInt32)"
   ]
  }
 ],
 "metadata": {},
 "nbformat": 4,
 "nbformat_minor": 5
}
