{
 "cells": [
  {
   "cell_type": "markdown",
   "id": "c0081d68",
   "metadata": {},
   "source": [
    "# 线性代数"
   ]
  },
  {
   "cell_type": "code",
   "execution_count": null,
   "id": "237e801c",
   "metadata": {
    "attributes": {
     "classes": [
      "@meta"
     ],
     "id": ""
    }
   },
   "outputs": [],
   "source": [
    "DocTestSetup = :(using LinearAlgebra)"
   ]
  },
  {
   "cell_type": "markdown",
   "id": "c1172205",
   "metadata": {},
   "source": [
    "In addition to (and as part of) its support for multi-dimensional arrays, Julia provides native implementations\n",
    "of many common and useful linear algebra operations which can be loaded with `using LinearAlgebra`. Basic operations, such as [`tr`](@ref), [`det`](@ref),\n",
    "and [`inv`](@ref) are all supported:"
   ]
  },
  {
   "cell_type": "code",
   "execution_count": null,
   "id": "2e60fde6",
   "metadata": {
    "attributes": {
     "classes": [
      "jldoctest"
     ],
     "id": ""
    }
   },
   "outputs": [],
   "source": [
    "julia> A = [1 2 3; 4 1 6; 7 8 1]\n",
    "3×3 Array{Int64,2}:\n",
    " 1  2  3\n",
    " 4  1  6\n",
    " 7  8  1\n",
    "\n",
    "julia> tr(A)\n",
    "3\n",
    "\n",
    "julia> det(A)\n",
    "104.0\n",
    "\n",
    "julia> inv(A)\n",
    "3×3 Array{Float64,2}:\n",
    " -0.451923   0.211538    0.0865385\n",
    "  0.365385  -0.192308    0.0576923\n",
    "  0.240385   0.0576923  -0.0673077"
   ]
  },
  {
   "cell_type": "markdown",
   "id": "b647bcac",
   "metadata": {},
   "source": [
    "还有其它实用的运算，比如寻找特征值或特征向量："
   ]
  },
  {
   "cell_type": "code",
   "execution_count": null,
   "id": "e3931743",
   "metadata": {
    "attributes": {
     "classes": [
      "jldoctest"
     ],
     "id": ""
    }
   },
   "outputs": [],
   "source": [
    "julia> A = [-4. -17.; 2. 2.]\n",
    "2×2 Array{Float64,2}:\n",
    " -4.0  -17.0\n",
    "  2.0    2.0\n",
    "\n",
    "julia> eigvals(A)\n",
    "2-element Array{Complex{Float64},1}:\n",
    " -1.0 - 5.0im\n",
    " -1.0 + 5.0im\n",
    "\n",
    "julia> eigvecs(A)\n",
    "2×2 Array{Complex{Float64},2}:\n",
    "  0.945905-0.0im        0.945905+0.0im\n",
    " -0.166924+0.278207im  -0.166924-0.278207im"
   ]
  },
  {
   "cell_type": "markdown",
   "id": "950a6e90",
   "metadata": {},
   "source": [
    "此外，Julia 提供了多种[矩阵分解](@ref man-linalg-factorizations)，它们可用于加快问题的求解，比如线性求解或矩阵或矩阵求幂，这通过将矩阵预先分解成更适合问题的形式（出于性能或内存上的原因）。有关的更多信息，请参阅文档 [`factorize`](@ref)。举个例子："
   ]
  },
  {
   "cell_type": "code",
   "execution_count": null,
   "id": "b8056f59",
   "metadata": {
    "attributes": {
     "classes": [
      "jldoctest"
     ],
     "id": ""
    }
   },
   "outputs": [],
   "source": [
    "julia> A = [1.5 2 -4; 3 -1 -6; -10 2.3 4]\n",
    "3×3 Array{Float64,2}:\n",
    "   1.5   2.0  -4.0\n",
    "   3.0  -1.0  -6.0\n",
    " -10.0   2.3   4.0\n",
    "\n",
    "julia> factorize(A)\n",
    "LU{Float64,Array{Float64,2}}\n",
    "L factor:\n",
    "3×3 Array{Float64,2}:\n",
    "  1.0    0.0       0.0\n",
    " -0.15   1.0       0.0\n",
    " -0.3   -0.132196  1.0\n",
    "U factor:\n",
    "3×3 Array{Float64,2}:\n",
    " -10.0  2.3     4.0\n",
    "   0.0  2.345  -3.4\n",
    "   0.0  0.0    -5.24947"
   ]
  },
  {
   "cell_type": "markdown",
   "id": "d2e32a92",
   "metadata": {},
   "source": [
    "因为 `A` 不是埃尔米特、对称、三角、三对角或双对角矩阵，LU 分解也许是我们能做的最好分解。与之相比："
   ]
  },
  {
   "cell_type": "code",
   "execution_count": null,
   "id": "bffe00e3",
   "metadata": {
    "attributes": {
     "classes": [
      "jldoctest"
     ],
     "id": ""
    }
   },
   "outputs": [],
   "source": [
    "julia> B = [1.5 2 -4; 2 -1 -3; -4 -3 5]\n",
    "3×3 Array{Float64,2}:\n",
    "  1.5   2.0  -4.0\n",
    "  2.0  -1.0  -3.0\n",
    " -4.0  -3.0   5.0\n",
    "\n",
    "julia> factorize(B)\n",
    "BunchKaufman{Float64,Array{Float64,2}}\n",
    "D factor:\n",
    "3×3 Tridiagonal{Float64,Array{Float64,1}}:\n",
    " -1.64286   0.0   ⋅\n",
    "  0.0      -2.8  0.0\n",
    "   ⋅        0.0  5.0\n",
    "U factor:\n",
    "3×3 UnitUpperTriangular{Float64,Array{Float64,2}}:\n",
    " 1.0  0.142857  -0.8\n",
    "  ⋅   1.0       -0.6\n",
    "  ⋅    ⋅         1.0\n",
    "permutation:\n",
    "3-element Array{Int64,1}:\n",
    " 1\n",
    " 2\n",
    " 3"
   ]
  },
  {
   "cell_type": "markdown",
   "id": "05e8147d",
   "metadata": {},
   "source": [
    "在这里，Julia 能够发现 `B` 确实是对称矩阵，并且使用一种更适当的分解。针对一个具有某些属性的矩阵，比如一个对称或三对角矩阵，往往有可能写出更高效的代码。Julia 提供了一些特殊的类型好让你可以根据矩阵所具有的属性「标记」它们。例如："
   ]
  },
  {
   "cell_type": "code",
   "execution_count": null,
   "id": "6fb1fd42",
   "metadata": {
    "attributes": {
     "classes": [
      "jldoctest"
     ],
     "id": ""
    }
   },
   "outputs": [],
   "source": [
    "julia> B = [1.5 2 -4; 2 -1 -3; -4 -3 5]\n",
    "3×3 Array{Float64,2}:\n",
    "  1.5   2.0  -4.0\n",
    "  2.0  -1.0  -3.0\n",
    " -4.0  -3.0   5.0\n",
    "\n",
    "julia> sB = Symmetric(B)\n",
    "3×3 Symmetric{Float64,Array{Float64,2}}:\n",
    "  1.5   2.0  -4.0\n",
    "  2.0  -1.0  -3.0\n",
    " -4.0  -3.0   5.0"
   ]
  },
  {
   "cell_type": "markdown",
   "id": "be103d56",
   "metadata": {},
   "source": [
    "`sB` 已经被标记成（实）对称矩阵，所以对于之后可能在它上面执行的操作，例如特征因子化或矩阵-向量乘积，只引用矩阵的一半可以提高效率。举个例子："
   ]
  },
  {
   "cell_type": "code",
   "execution_count": null,
   "id": "074d2978",
   "metadata": {
    "attributes": {
     "classes": [
      "jldoctest"
     ],
     "id": ""
    }
   },
   "outputs": [],
   "source": [
    "julia> B = [1.5 2 -4; 2 -1 -3; -4 -3 5]\n",
    "3×3 Array{Float64,2}:\n",
    "  1.5   2.0  -4.0\n",
    "  2.0  -1.0  -3.0\n",
    " -4.0  -3.0   5.0\n",
    "\n",
    "julia> sB = Symmetric(B)\n",
    "3×3 Symmetric{Float64,Array{Float64,2}}:\n",
    "  1.5   2.0  -4.0\n",
    "  2.0  -1.0  -3.0\n",
    " -4.0  -3.0   5.0\n",
    "\n",
    "julia> x = [1; 2; 3]\n",
    "3-element Array{Int64,1}:\n",
    " 1\n",
    " 2\n",
    " 3\n",
    "\n",
    "julia> sB\\x\n",
    "3-element Array{Float64,1}:\n",
    " -1.7391304347826084\n",
    " -1.1086956521739126\n",
    " -1.4565217391304346"
   ]
  },
  {
   "cell_type": "markdown",
   "id": "e05dd353",
   "metadata": {},
   "source": [
    "`\\` 运算在这里执行线性求解。左除运算符相当强大，很容易写出紧凑、可读的代码，它足够灵活，可以求解各种线性方程组。\n",
    "\n",
    "## 特殊矩阵\n",
    "\n",
    "[具有特殊对称性和结构的矩阵](http://www2.imm.dtu.dk/pubdb/views/publication_details.php?id=3274)经常在线性代数中出现并且与各种矩阵分解相关。Julia 具有丰富的特殊矩阵类型，可以快速计算专门为特定矩阵类型开发的专用例程。\n",
    "\n",
    "下表总结了在 Julia 中已经实现的特殊矩阵类型，以及为它们提供各种优化方法的钩子在 LAPACK 中是否可用。\n",
    "\n",
    "| 类型                          | 描述                                                                                   |\n",
    "|:----------------------------- |:--------------------------------------------------------------------------------------------- |\n",
    "| [`Symmetric`](@ref)           | [对称矩阵](https://en.wikipedia.org/wiki/Symmetric_matrix)                            |\n",
    "| [`Hermitian`](@ref)           | [埃尔米特矩阵](https://en.wikipedia.org/wiki/Hermitian_matrix)                            |\n",
    "| [`UpperTriangular`](@ref)     | 上[三角矩阵](https://en.wikipedia.org/wiki/Triangular_matrix)                    |\n",
    "| [`UnitUpperTriangular`](@ref) | Upper [triangular matrix](https://en.wikipedia.org/wiki/Triangular_matrix) with unit diagonal |\n",
    "| [`LowerTriangular`](@ref)     | Lower [triangular matrix](https://en.wikipedia.org/wiki/Triangular_matrix)                    |     |\n",
    "| [`UnitLowerTriangular`](@ref) | Lower [triangular matrix](https://en.wikipedia.org/wiki/Triangular_matrix) with unit diagonal |\n",
    "| [`UpperHessenberg`](@ref)     | Upper [Hessenberg matrix](https://en.wikipedia.org/wiki/Hessenberg_matrix)\n",
    "| [`Tridiagonal`](@ref)         | [Tridiagonal matrix](https://en.wikipedia.org/wiki/Tridiagonal_matrix)                        |\n",
    "| [`SymTridiagonal`](@ref)      | Symmetric tridiagonal matrix                                                                  |\n",
    "| [`Bidiagonal`](@ref)          | Upper/lower [bidiagonal matrix](https://en.wikipedia.org/wiki/Bidiagonal_matrix)              |\n",
    "| [`Diagonal`](@ref)            | [Diagonal matrix](https://en.wikipedia.org/wiki/Diagonal_matrix)                              |\n",
    "| [`UniformScaling`](@ref)      | [Uniform scaling operator](https://en.wikipedia.org/wiki/Uniform_scaling)                     |\n",
    "\n",
    "### Elementary operations\n",
    "\n",
    "| Matrix type                   | `+` | `-` | `*` | `\\` | Other functions with optimized methods                      |\n",
    "|:----------------------------- |:--- |:--- |:--- |:--- |:----------------------------------------------------------- |\n",
    "| [`Symmetric`](@ref)           |     |     |     | MV  | [`inv`](@ref), [`sqrt`](@ref), [`exp`](@ref)                |\n",
    "| [`Hermitian`](@ref)           |     |     |     | MV  | [`inv`](@ref), [`sqrt`](@ref), [`exp`](@ref)                |\n",
    "| [`UpperTriangular`](@ref)     |     |     | MV  | MV  | [`inv`](@ref), [`det`](@ref)                                |\n",
    "| [`UnitUpperTriangular`](@ref) |     |     | MV  | MV  | [`inv`](@ref), [`det`](@ref)                                |\n",
    "| [`LowerTriangular`](@ref)     |     |     | MV  | MV  | [`inv`](@ref), [`det`](@ref)                                |\n",
    "| [`UnitLowerTriangular`](@ref) |     |     | MV  | MV  | [`inv`](@ref), [`det`](@ref)                                |\n",
    "| [`UpperHessenberg`](@ref)     |     |     |     | MM  | [`inv`](@ref), [`det`](@ref)                                |\n",
    "| [`SymTridiagonal`](@ref)      | M   | M   | MS  | MV  | [`eigmax`](@ref), [`eigmin`](@ref)                          |\n",
    "| [`Tridiagonal`](@ref)         | M   | M   | MS  | MV  |                                                             |\n",
    "| [`Bidiagonal`](@ref)          | M   | M   | MS  | MV  |                                                             |\n",
    "| [`Diagonal`](@ref)            | M   | M   | MV  | MV  | [`inv`](@ref), [`det`](@ref), [`logdet`](@ref), [`/`](@ref) |\n",
    "| [`UniformScaling`](@ref)      | M   | M   | MVS | MVS | [`/`](@ref)                                                 |\n",
    "\n",
    "Legend:\n",
    "\n",
    "| Key        | Description                                                   |\n",
    "|:---------- |:------------------------------------------------------------- |\n",
    "| M (matrix) | An optimized method for matrix-matrix operations is available |\n",
    "| V (vector) | An optimized method for matrix-vector operations is available |\n",
    "| S (scalar) | An optimized method for matrix-scalar operations is available |\n",
    "\n",
    "### Matrix factorizations\n",
    "\n",
    "| Matrix type                   | LAPACK | [`eigen`](@ref) | [`eigvals`](@ref) | [`eigvecs`](@ref) | [`svd`](@ref) | [`svdvals`](@ref) |\n",
    "|:----------------------------- |:------ |:------------- |:----------------- |:----------------- |:------------- |:----------------- |\n",
    "| [`Symmetric`](@ref)           | SY     |               | ARI               |                   |               |                   |\n",
    "| [`Hermitian`](@ref)           | HE     |               | ARI               |                   |               |                   |\n",
    "| [`UpperTriangular`](@ref)     | TR     | A             | A                 | A                 |               |                   |\n",
    "| [`UnitUpperTriangular`](@ref) | TR     | A             | A                 | A                 |               |                   |\n",
    "| [`LowerTriangular`](@ref)     | TR     | A             | A                 | A                 |               |                   |\n",
    "| [`UnitLowerTriangular`](@ref) | TR     | A             | A                 | A                 |               |                   |\n",
    "| [`SymTridiagonal`](@ref)      | ST     | A             | ARI               | AV                |               |                   |\n",
    "| [`Tridiagonal`](@ref)         | GT     |               |                   |                   |               |                   |\n",
    "| [`Bidiagonal`](@ref)          | BD     |               |                   |                   | A             | A                 |\n",
    "| [`Diagonal`](@ref)            | DI     |               | A                 |                   |               |                   |\n",
    "\n",
    "Legend:\n",
    "\n",
    "| Key          | Description                                                                                                                     | Example              |\n",
    "|:------------ |:------------------------------------------------------------------------------------------------------------------------------- |:-------------------- |\n",
    "| A (all)      | An optimized method to find all the characteristic values and/or vectors is available                                           | e.g. `eigvals(M)`    |\n",
    "| R (range)    | An optimized method to find the `il`th through the `ih`th characteristic values are available                                   | `eigvals(M, il, ih)` |\n",
    "| I (interval) | An optimized method to find the characteristic values in the interval [`vl`, `vh`] is available                                 | `eigvals(M, vl, vh)` |\n",
    "| V (vectors)  | An optimized method to find the characteristic vectors corresponding to the characteristic values `x=[x1, x2,...]` is available | `eigvecs(M, x)`      |\n",
    "\n",
    "### The uniform scaling operator\n",
    "\n",
    "A [`UniformScaling`](@ref) operator represents a scalar times the identity operator, `λ*I`. The identity\n",
    "operator `I` is defined as a constant and is an instance of `UniformScaling`. The size of these\n",
    "operators are generic and match the other matrix in the binary operations [`+`](@ref), [`-`](@ref),\n",
    "[`*`](@ref) and [`\\`](@ref). For `A+I` and `A-I` this means that `A` must be square. Multiplication\n",
    "with the identity operator `I` is a noop (except for checking that the scaling factor is one)\n",
    "and therefore almost without overhead.\n",
    "\n",
    "To see the `UniformScaling` operator in action:"
   ]
  },
  {
   "cell_type": "code",
   "execution_count": null,
   "id": "bf1d9baf",
   "metadata": {
    "attributes": {
     "classes": [
      "jldoctest"
     ],
     "id": ""
    }
   },
   "outputs": [],
   "source": [
    "julia> U = UniformScaling(2);\n",
    "\n",
    "julia> a = [1 2; 3 4]\n",
    "2×2 Array{Int64,2}:\n",
    " 1  2\n",
    " 3  4\n",
    "\n",
    "julia> a + U\n",
    "2×2 Array{Int64,2}:\n",
    " 3  2\n",
    " 3  6\n",
    "\n",
    "julia> a * U\n",
    "2×2 Array{Int64,2}:\n",
    " 2  4\n",
    " 6  8\n",
    "\n",
    "julia> [a U]\n",
    "2×4 Array{Int64,2}:\n",
    " 1  2  2  0\n",
    " 3  4  0  2\n",
    "\n",
    "julia> b = [1 2 3; 4 5 6]\n",
    "2×3 Array{Int64,2}:\n",
    " 1  2  3\n",
    " 4  5  6\n",
    "\n",
    "julia> b - U\n",
    "ERROR: DimensionMismatch(\"matrix is not square: dimensions are (2, 3)\")\n",
    "Stacktrace:\n",
    "[...]"
   ]
  },
  {
   "cell_type": "markdown",
   "id": "8495e299",
   "metadata": {},
   "source": [
    "If you need to solve many systems of the form `(A+μI)x = b` for the same `A` and different `μ`, it might be beneficial\n",
    "to first compute the Hessenberg factorization `F` of `A` via the [`hessenberg`](@ref) function.\n",
    "Given `F`, Julia employs an efficient algorithm for `(F+μ*I) \\ b` (equivalent to `(A+μ*I)x \\ b`) and related\n",
    "operations like determinants.\n",
    "\n",
    "\n",
    "## [Matrix factorizations](@id man-linalg-factorizations)\n",
    "\n",
    "[Matrix factorizations (a.k.a. matrix decompositions)](https://en.wikipedia.org/wiki/Matrix_decomposition)\n",
    "compute the factorization of a matrix into a product of matrices, and are one of the central concepts\n",
    "in linear algebra.\n",
    "\n",
    "The following table summarizes the types of matrix factorizations that have been implemented in\n",
    "Julia. Details of their associated methods can be found in the [Standard functions](@ref) section\n",
    "of the Linear Algebra documentation.\n",
    "\n",
    "| Type               | Description                                                                                                    |\n",
    "|:------------------ |:-------------------------------------------------------------------------------------------------------------- |\n",
    "| `BunchKaufman`     | Bunch-Kaufman factorization                                                                                    |\n",
    "| `Cholesky`         | [Cholesky factorization](https://en.wikipedia.org/wiki/Cholesky_decomposition)                                 |\n",
    "| `CholeskyPivoted`  | [Pivoted](https://en.wikipedia.org/wiki/Pivot_element) Cholesky factorization                                  |\n",
    "| `LDLt`             | [LDL(T) factorization](https://en.wikipedia.org/wiki/Cholesky_decomposition#LDL_decomposition)                 |\n",
    "| `LU`               | [LU factorization](https://en.wikipedia.org/wiki/LU_decomposition)                                             |\n",
    "| `QR`               | [QR factorization](https://en.wikipedia.org/wiki/QR_decomposition)                                             |\n",
    "| `QRCompactWY`      | Compact WY form of the QR factorization                                                                        |\n",
    "| `QRPivoted`        | Pivoted [QR factorization](https://en.wikipedia.org/wiki/QR_decomposition)                                     |\n",
    "| `LQ`               | [QR factorization](https://en.wikipedia.org/wiki/QR_decomposition) of `transpose(A)`                           |\n",
    "| `Hessenberg`       | [Hessenberg decomposition](http://mathworld.wolfram.com/HessenbergDecomposition.html)                          |\n",
    "| `Eigen`            | [Spectral decomposition](https://en.wikipedia.org/wiki/Eigendecomposition_of_a_matrix)                         |\n",
    "| `GeneralizedEigen` | [Generalized spectral decomposition](https://en.wikipedia.org/wiki/Eigendecomposition_of_a_matrix#Generalized_eigenvalue_problem)                            |\n",
    "| `SVD`              | [Singular value decomposition](https://en.wikipedia.org/wiki/Singular_value_decomposition)                     |\n",
    "| `GeneralizedSVD`   | [Generalized SVD](https://en.wikipedia.org/wiki/Generalized_singular_value_decomposition#Higher_order_version) |\n",
    "| `Schur`            | [Schur decomposition](https://en.wikipedia.org/wiki/Schur_decomposition)                                       |\n",
    "| `GeneralizedSchur` | [Generalized Schur decomposition](https://en.wikipedia.org/wiki/Schur_decomposition#Generalized_Schur_decomposition) |\n",
    "\n",
    "\n",
    "\n",
    "## Standard functions\n",
    "\n",
    "Linear algebra functions in Julia are largely implemented by calling functions from [LAPACK](http://www.netlib.org/lapack/).\n",
    " Sparse factorizations call functions from [SuiteSparse](http://faculty.cse.tamu.edu/davis/suitesparse.html)."
   ]
  },
  {
   "cell_type": "code",
   "execution_count": null,
   "id": "9033817c",
   "metadata": {
    "attributes": {
     "classes": [
      "@docs"
     ],
     "id": ""
    }
   },
   "outputs": [],
   "source": [
    "Base.:*(::AbstractMatrix, ::AbstractMatrix)\n",
    "Base.:\\(::AbstractMatrix, ::AbstractVecOrMat)\n",
    "LinearAlgebra.SingularException\n",
    "LinearAlgebra.PosDefException\n",
    "LinearAlgebra.ZeroPivotException\n",
    "LinearAlgebra.dot\n",
    "LinearAlgebra.cross\n",
    "LinearAlgebra.factorize\n",
    "LinearAlgebra.Diagonal\n",
    "LinearAlgebra.Bidiagonal\n",
    "LinearAlgebra.SymTridiagonal\n",
    "LinearAlgebra.Tridiagonal\n",
    "LinearAlgebra.Symmetric\n",
    "LinearAlgebra.Hermitian\n",
    "LinearAlgebra.LowerTriangular\n",
    "LinearAlgebra.UpperTriangular\n",
    "LinearAlgebra.UnitLowerTriangular\n",
    "LinearAlgebra.UnitUpperTriangular\n",
    "LinearAlgebra.UpperHessenberg\n",
    "LinearAlgebra.UniformScaling\n",
    "LinearAlgebra.I\n",
    "LinearAlgebra.Factorization\n",
    "LinearAlgebra.LU\n",
    "LinearAlgebra.lu\n",
    "LinearAlgebra.lu!\n",
    "LinearAlgebra.Cholesky\n",
    "LinearAlgebra.CholeskyPivoted\n",
    "LinearAlgebra.cholesky\n",
    "LinearAlgebra.cholesky!\n",
    "LinearAlgebra.lowrankupdate\n",
    "LinearAlgebra.lowrankdowndate\n",
    "LinearAlgebra.lowrankupdate!\n",
    "LinearAlgebra.lowrankdowndate!\n",
    "LinearAlgebra.LDLt\n",
    "LinearAlgebra.ldlt\n",
    "LinearAlgebra.ldlt!\n",
    "LinearAlgebra.QR\n",
    "LinearAlgebra.QRCompactWY\n",
    "LinearAlgebra.QRPivoted\n",
    "LinearAlgebra.qr\n",
    "LinearAlgebra.qr!\n",
    "LinearAlgebra.LQ\n",
    "LinearAlgebra.lq\n",
    "LinearAlgebra.lq!\n",
    "LinearAlgebra.BunchKaufman\n",
    "LinearAlgebra.bunchkaufman\n",
    "LinearAlgebra.bunchkaufman!\n",
    "LinearAlgebra.Eigen\n",
    "LinearAlgebra.GeneralizedEigen\n",
    "LinearAlgebra.eigvals\n",
    "LinearAlgebra.eigvals!\n",
    "LinearAlgebra.eigmax\n",
    "LinearAlgebra.eigmin\n",
    "LinearAlgebra.eigvecs\n",
    "LinearAlgebra.eigen\n",
    "LinearAlgebra.eigen!\n",
    "LinearAlgebra.Hessenberg\n",
    "LinearAlgebra.hessenberg\n",
    "LinearAlgebra.hessenberg!\n",
    "LinearAlgebra.Schur\n",
    "LinearAlgebra.GeneralizedSchur\n",
    "LinearAlgebra.schur\n",
    "LinearAlgebra.schur!\n",
    "LinearAlgebra.ordschur\n",
    "LinearAlgebra.ordschur!\n",
    "LinearAlgebra.SVD\n",
    "LinearAlgebra.GeneralizedSVD\n",
    "LinearAlgebra.svd\n",
    "LinearAlgebra.svd!\n",
    "LinearAlgebra.svdvals\n",
    "LinearAlgebra.svdvals!\n",
    "LinearAlgebra.Givens\n",
    "LinearAlgebra.givens\n",
    "LinearAlgebra.triu\n",
    "LinearAlgebra.triu!\n",
    "LinearAlgebra.tril\n",
    "LinearAlgebra.tril!\n",
    "LinearAlgebra.diagind\n",
    "LinearAlgebra.diag\n",
    "LinearAlgebra.diagm\n",
    "LinearAlgebra.rank\n",
    "LinearAlgebra.norm\n",
    "LinearAlgebra.opnorm\n",
    "LinearAlgebra.normalize!\n",
    "LinearAlgebra.normalize\n",
    "LinearAlgebra.cond\n",
    "LinearAlgebra.condskeel\n",
    "LinearAlgebra.tr\n",
    "LinearAlgebra.det\n",
    "LinearAlgebra.logdet\n",
    "LinearAlgebra.logabsdet\n",
    "Base.inv(::AbstractMatrix)\n",
    "LinearAlgebra.pinv\n",
    "LinearAlgebra.nullspace\n",
    "Base.kron\n",
    "LinearAlgebra.exp(::StridedMatrix{<:LinearAlgebra.BlasFloat})\n",
    "Base.:^(::AbstractMatrix, ::Number)\n",
    "Base.:^(::Number, ::AbstractMatrix)\n",
    "LinearAlgebra.log(::StridedMatrix)\n",
    "LinearAlgebra.sqrt(::StridedMatrix{<:Real})\n",
    "LinearAlgebra.cos(::StridedMatrix{<:Real})\n",
    "LinearAlgebra.sin(::StridedMatrix{<:Real})\n",
    "LinearAlgebra.sincos(::StridedMatrix{<:Real})\n",
    "LinearAlgebra.tan(::StridedMatrix{<:Real})\n",
    "LinearAlgebra.sec(::StridedMatrix)\n",
    "LinearAlgebra.csc(::StridedMatrix)\n",
    "LinearAlgebra.cot(::StridedMatrix)\n",
    "LinearAlgebra.cosh(::StridedMatrix)\n",
    "LinearAlgebra.sinh(::StridedMatrix)\n",
    "LinearAlgebra.tanh(::StridedMatrix)\n",
    "LinearAlgebra.sech(::StridedMatrix)\n",
    "LinearAlgebra.csch(::StridedMatrix)\n",
    "LinearAlgebra.coth(::StridedMatrix)\n",
    "LinearAlgebra.acos(::StridedMatrix)\n",
    "LinearAlgebra.asin(::StridedMatrix)\n",
    "LinearAlgebra.atan(::StridedMatrix)\n",
    "LinearAlgebra.asec(::StridedMatrix)\n",
    "LinearAlgebra.acsc(::StridedMatrix)\n",
    "LinearAlgebra.acot(::StridedMatrix)\n",
    "LinearAlgebra.acosh(::StridedMatrix)\n",
    "LinearAlgebra.asinh(::StridedMatrix)\n",
    "LinearAlgebra.atanh(::StridedMatrix)\n",
    "LinearAlgebra.asech(::StridedMatrix)\n",
    "LinearAlgebra.acsch(::StridedMatrix)\n",
    "LinearAlgebra.acoth(::StridedMatrix)\n",
    "LinearAlgebra.lyap\n",
    "LinearAlgebra.sylvester\n",
    "LinearAlgebra.issuccess\n",
    "LinearAlgebra.issymmetric\n",
    "LinearAlgebra.isposdef\n",
    "LinearAlgebra.isposdef!\n",
    "LinearAlgebra.istril\n",
    "LinearAlgebra.istriu\n",
    "LinearAlgebra.isdiag\n",
    "LinearAlgebra.ishermitian\n",
    "Base.transpose\n",
    "LinearAlgebra.transpose!\n",
    "LinearAlgebra.Transpose\n",
    "Base.adjoint\n",
    "LinearAlgebra.adjoint!\n",
    "LinearAlgebra.Adjoint\n",
    "Base.copy(::Union{Transpose,Adjoint})\n",
    "LinearAlgebra.stride1\n",
    "LinearAlgebra.checksquare\n",
    "LinearAlgebra.peakflops"
   ]
  },
  {
   "cell_type": "markdown",
   "id": "f246ec41",
   "metadata": {},
   "source": [
    "## Low-level matrix operations\n",
    "\n",
    "In many cases there are in-place versions of matrix operations that allow you to supply\n",
    "a pre-allocated output vector or matrix.  This is useful when optimizing critical code in order\n",
    "to avoid the overhead of repeated allocations. These in-place operations are suffixed with `!`\n",
    "below (e.g. `mul!`) according to the usual Julia convention."
   ]
  },
  {
   "cell_type": "code",
   "execution_count": null,
   "id": "145612f9",
   "metadata": {
    "attributes": {
     "classes": [
      "@docs"
     ],
     "id": ""
    }
   },
   "outputs": [],
   "source": [
    "LinearAlgebra.mul!\n",
    "LinearAlgebra.lmul!\n",
    "LinearAlgebra.rmul!\n",
    "LinearAlgebra.ldiv!\n",
    "LinearAlgebra.rdiv!"
   ]
  },
  {
   "cell_type": "markdown",
   "id": "e33aed95",
   "metadata": {},
   "source": [
    "## BLAS functions\n",
    "\n",
    "In Julia (as in much of scientific computation), dense linear-algebra operations are based on\n",
    "the [LAPACK library](http://www.netlib.org/lapack/), which in turn is built on top of basic linear-algebra\n",
    "building-blocks known as the [BLAS](http://www.netlib.org/blas/). There are highly optimized\n",
    "implementations of BLAS available for every computer architecture, and sometimes in high-performance\n",
    "linear algebra routines it is useful to call the BLAS functions directly.\n",
    "\n",
    "`LinearAlgebra.BLAS` provides wrappers for some of the BLAS functions. Those BLAS functions\n",
    "that overwrite one of the input arrays have names ending in `'!'`.  Usually, a BLAS function has\n",
    "four methods defined, for [`Float64`](@ref), [`Float32`](@ref), `ComplexF64`, and `ComplexF32` arrays.\n",
    "\n",
    "### [BLAS character arguments](@id stdlib-blas-chars)\n",
    "Many BLAS functions accept arguments that determine whether to transpose an argument (`trans`),\n",
    "which triangle of a matrix to reference (`uplo` or `ul`),\n",
    "whether the diagonal of a triangular matrix can be assumed to\n",
    "be all ones (`dA`) or which side of a matrix multiplication\n",
    "the input argument belongs on (`side`). The possibilities are:\n",
    "\n",
    "#### [Multiplication order](@id stdlib-blas-side)\n",
    "| `side` | Meaning                                                             |\n",
    "|:-------|:--------------------------------------------------------------------|\n",
    "| `'L'`  | The argument goes on the *left* side of a matrix-matrix operation.  |\n",
    "| `'R'`  | The argument goes on the *right* side of a matrix-matrix operation. |\n",
    "\n",
    "#### [Triangle referencing](@id stdlib-blas-uplo)\n",
    "| `uplo`/`ul` | Meaning                                               |\n",
    "|:------------|:------------------------------------------------------|\n",
    "| `'U'`       | Only the *upper* triangle of the matrix will be used. |\n",
    "| `'L'`       | Only the *lower* triangle of the matrix will be used. |\n",
    "\n",
    "#### [Transposition operation](@id stdlib-blas-trans)\n",
    "| `trans`/`tX` | Meaning                                                 |\n",
    "|:-------------|:--------------------------------------------------------|\n",
    "| `'N'`        | The input matrix `X` is not transposed or conjugated.   |\n",
    "| `'T'`        | The input matrix `X` will be transposed.                |\n",
    "| `'C'`        | The input matrix `X` will be conjugated and transposed. |\n",
    "\n",
    "#### [Unit diagonal](@id stdlib-blas-diag)\n",
    "| `diag`/`dX` | Meaning                                                   |\n",
    "|:------------|:----------------------------------------------------------|\n",
    "| `'N'`       | The diagonal values of the matrix `X` will be read.       |\n",
    "| `'U'`       | The diagonal of the matrix `X` is assumed to be all ones. |"
   ]
  },
  {
   "cell_type": "code",
   "execution_count": null,
   "id": "48539598",
   "metadata": {
    "attributes": {
     "classes": [
      "@docs"
     ],
     "id": ""
    }
   },
   "outputs": [],
   "source": [
    "LinearAlgebra.BLAS\n",
    "LinearAlgebra.BLAS.dot\n",
    "LinearAlgebra.BLAS.dotu\n",
    "LinearAlgebra.BLAS.dotc\n",
    "LinearAlgebra.BLAS.blascopy!\n",
    "LinearAlgebra.BLAS.nrm2\n",
    "LinearAlgebra.BLAS.asum\n",
    "LinearAlgebra.axpy!\n",
    "LinearAlgebra.axpby!\n",
    "LinearAlgebra.BLAS.scal!\n",
    "LinearAlgebra.BLAS.scal\n",
    "LinearAlgebra.BLAS.iamax\n",
    "LinearAlgebra.BLAS.ger!\n",
    "LinearAlgebra.BLAS.syr!\n",
    "LinearAlgebra.BLAS.syrk!\n",
    "LinearAlgebra.BLAS.syrk\n",
    "LinearAlgebra.BLAS.syr2k!\n",
    "LinearAlgebra.BLAS.syr2k\n",
    "LinearAlgebra.BLAS.her!\n",
    "LinearAlgebra.BLAS.herk!\n",
    "LinearAlgebra.BLAS.herk\n",
    "LinearAlgebra.BLAS.her2k!\n",
    "LinearAlgebra.BLAS.her2k\n",
    "LinearAlgebra.BLAS.gbmv!\n",
    "LinearAlgebra.BLAS.gbmv\n",
    "LinearAlgebra.BLAS.sbmv!\n",
    "LinearAlgebra.BLAS.sbmv(::Any, ::Any, ::Any, ::Any, ::Any)\n",
    "LinearAlgebra.BLAS.sbmv(::Any, ::Any, ::Any, ::Any)\n",
    "LinearAlgebra.BLAS.gemm!\n",
    "LinearAlgebra.BLAS.gemm(::Any, ::Any, ::Any, ::Any, ::Any)\n",
    "LinearAlgebra.BLAS.gemm(::Any, ::Any, ::Any, ::Any)\n",
    "LinearAlgebra.BLAS.gemv!\n",
    "LinearAlgebra.BLAS.gemv(::Any, ::Any, ::Any, ::Any)\n",
    "LinearAlgebra.BLAS.gemv(::Any, ::Any, ::Any)\n",
    "LinearAlgebra.BLAS.symm!\n",
    "LinearAlgebra.BLAS.symm(::Any, ::Any, ::Any, ::Any, ::Any)\n",
    "LinearAlgebra.BLAS.symm(::Any, ::Any, ::Any, ::Any)\n",
    "LinearAlgebra.BLAS.symv!\n",
    "LinearAlgebra.BLAS.symv(::Any, ::Any, ::Any, ::Any)\n",
    "LinearAlgebra.BLAS.symv(::Any, ::Any, ::Any)\n",
    "LinearAlgebra.BLAS.hemm!\n",
    "LinearAlgebra.BLAS.hemm(::Any, ::Any, ::Any, ::Any, ::Any)\n",
    "LinearAlgebra.BLAS.hemm(::Any, ::Any, ::Any, ::Any)\n",
    "LinearAlgebra.BLAS.hemv!\n",
    "LinearAlgebra.BLAS.hemv(::Any, ::Any, ::Any, ::Any)\n",
    "LinearAlgebra.BLAS.hemv(::Any, ::Any, ::Any)\n",
    "LinearAlgebra.BLAS.trmm!\n",
    "LinearAlgebra.BLAS.trmm\n",
    "LinearAlgebra.BLAS.trsm!\n",
    "LinearAlgebra.BLAS.trsm\n",
    "LinearAlgebra.BLAS.trmv!\n",
    "LinearAlgebra.BLAS.trmv\n",
    "LinearAlgebra.BLAS.trsv!\n",
    "LinearAlgebra.BLAS.trsv\n",
    "LinearAlgebra.BLAS.set_num_threads"
   ]
  },
  {
   "cell_type": "markdown",
   "id": "27c6f736",
   "metadata": {},
   "source": [
    "## LAPACK functions\n",
    "\n",
    "`LinearAlgebra.LAPACK` provides wrappers for some of the LAPACK functions for linear algebra.\n",
    " Those functions that overwrite one of the input arrays have names ending in `'!'`.\n",
    "\n",
    "Usually a function has 4 methods defined, one each for [`Float64`](@ref), [`Float32`](@ref),\n",
    "`ComplexF64` and `ComplexF32` arrays.\n",
    "\n",
    "Note that the LAPACK API provided by Julia can and will change in the future. Since this API is\n",
    "not user-facing, there is no commitment to support/deprecate this specific set of functions in\n",
    "future releases."
   ]
  },
  {
   "cell_type": "code",
   "execution_count": null,
   "id": "c0a5f6ac",
   "metadata": {
    "attributes": {
     "classes": [
      "@docs"
     ],
     "id": ""
    }
   },
   "outputs": [],
   "source": [
    "LinearAlgebra.LAPACK\n",
    "LinearAlgebra.LAPACK.gbtrf!\n",
    "LinearAlgebra.LAPACK.gbtrs!\n",
    "LinearAlgebra.LAPACK.gebal!\n",
    "LinearAlgebra.LAPACK.gebak!\n",
    "LinearAlgebra.LAPACK.gebrd!\n",
    "LinearAlgebra.LAPACK.gelqf!\n",
    "LinearAlgebra.LAPACK.geqlf!\n",
    "LinearAlgebra.LAPACK.geqrf!\n",
    "LinearAlgebra.LAPACK.geqp3!\n",
    "LinearAlgebra.LAPACK.gerqf!\n",
    "LinearAlgebra.LAPACK.geqrt!\n",
    "LinearAlgebra.LAPACK.geqrt3!\n",
    "LinearAlgebra.LAPACK.getrf!\n",
    "LinearAlgebra.LAPACK.tzrzf!\n",
    "LinearAlgebra.LAPACK.ormrz!\n",
    "LinearAlgebra.LAPACK.gels!\n",
    "LinearAlgebra.LAPACK.gesv!\n",
    "LinearAlgebra.LAPACK.getrs!\n",
    "LinearAlgebra.LAPACK.getri!\n",
    "LinearAlgebra.LAPACK.gesvx!\n",
    "LinearAlgebra.LAPACK.gelsd!\n",
    "LinearAlgebra.LAPACK.gelsy!\n",
    "LinearAlgebra.LAPACK.gglse!\n",
    "LinearAlgebra.LAPACK.geev!\n",
    "LinearAlgebra.LAPACK.gesdd!\n",
    "LinearAlgebra.LAPACK.gesvd!\n",
    "LinearAlgebra.LAPACK.ggsvd!\n",
    "LinearAlgebra.LAPACK.ggsvd3!\n",
    "LinearAlgebra.LAPACK.geevx!\n",
    "LinearAlgebra.LAPACK.ggev!\n",
    "LinearAlgebra.LAPACK.gtsv!\n",
    "LinearAlgebra.LAPACK.gttrf!\n",
    "LinearAlgebra.LAPACK.gttrs!\n",
    "LinearAlgebra.LAPACK.orglq!\n",
    "LinearAlgebra.LAPACK.orgqr!\n",
    "LinearAlgebra.LAPACK.orgql!\n",
    "LinearAlgebra.LAPACK.orgrq!\n",
    "LinearAlgebra.LAPACK.ormlq!\n",
    "LinearAlgebra.LAPACK.ormqr!\n",
    "LinearAlgebra.LAPACK.ormql!\n",
    "LinearAlgebra.LAPACK.ormrq!\n",
    "LinearAlgebra.LAPACK.gemqrt!\n",
    "LinearAlgebra.LAPACK.posv!\n",
    "LinearAlgebra.LAPACK.potrf!\n",
    "LinearAlgebra.LAPACK.potri!\n",
    "LinearAlgebra.LAPACK.potrs!\n",
    "LinearAlgebra.LAPACK.pstrf!\n",
    "LinearAlgebra.LAPACK.ptsv!\n",
    "LinearAlgebra.LAPACK.pttrf!\n",
    "LinearAlgebra.LAPACK.pttrs!\n",
    "LinearAlgebra.LAPACK.trtri!\n",
    "LinearAlgebra.LAPACK.trtrs!\n",
    "LinearAlgebra.LAPACK.trcon!\n",
    "LinearAlgebra.LAPACK.trevc!\n",
    "LinearAlgebra.LAPACK.trrfs!\n",
    "LinearAlgebra.LAPACK.stev!\n",
    "LinearAlgebra.LAPACK.stebz!\n",
    "LinearAlgebra.LAPACK.stegr!\n",
    "LinearAlgebra.LAPACK.stein!\n",
    "LinearAlgebra.LAPACK.syconv!\n",
    "LinearAlgebra.LAPACK.sysv!\n",
    "LinearAlgebra.LAPACK.sytrf!\n",
    "LinearAlgebra.LAPACK.sytri!\n",
    "LinearAlgebra.LAPACK.sytrs!\n",
    "LinearAlgebra.LAPACK.hesv!\n",
    "LinearAlgebra.LAPACK.hetrf!\n",
    "LinearAlgebra.LAPACK.hetri!\n",
    "LinearAlgebra.LAPACK.hetrs!\n",
    "LinearAlgebra.LAPACK.syev!\n",
    "LinearAlgebra.LAPACK.syevr!\n",
    "LinearAlgebra.LAPACK.sygvd!\n",
    "LinearAlgebra.LAPACK.bdsqr!\n",
    "LinearAlgebra.LAPACK.bdsdc!\n",
    "LinearAlgebra.LAPACK.gecon!\n",
    "LinearAlgebra.LAPACK.gehrd!\n",
    "LinearAlgebra.LAPACK.orghr!\n",
    "LinearAlgebra.LAPACK.gees!\n",
    "LinearAlgebra.LAPACK.gges!\n",
    "LinearAlgebra.LAPACK.trexc!\n",
    "LinearAlgebra.LAPACK.trsen!\n",
    "LinearAlgebra.LAPACK.tgsen!\n",
    "LinearAlgebra.LAPACK.trsyl!"
   ]
  },
  {
   "cell_type": "code",
   "execution_count": null,
   "id": "3bf75ddb",
   "metadata": {
    "attributes": {
     "classes": [
      "@meta"
     ],
     "id": ""
    }
   },
   "outputs": [],
   "source": [
    "DocTestSetup = nothing"
   ]
  }
 ],
 "metadata": {},
 "nbformat": 4,
 "nbformat_minor": 5
}
