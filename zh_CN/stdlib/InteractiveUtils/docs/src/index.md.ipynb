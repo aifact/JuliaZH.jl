{
 "cells": [
  {
   "cell_type": "markdown",
   "id": "fe5280af",
   "metadata": {},
   "source": [
    "# 交互式组件"
   ]
  },
  {
   "cell_type": "code",
   "execution_count": null,
   "id": "41c4f19f",
   "metadata": {
    "attributes": {
     "classes": [
      "@docs"
     ],
     "id": ""
    }
   },
   "outputs": [],
   "source": [
    "InteractiveUtils.apropos\n",
    "InteractiveUtils.varinfo\n",
    "InteractiveUtils.versioninfo\n",
    "InteractiveUtils.methodswith\n",
    "InteractiveUtils.subtypes\n",
    "InteractiveUtils.supertypes\n",
    "InteractiveUtils.edit(::AbstractString, ::Integer)\n",
    "InteractiveUtils.edit(::Any)\n",
    "InteractiveUtils.@edit\n",
    "InteractiveUtils.define_editor\n",
    "InteractiveUtils.less(::AbstractString)\n",
    "InteractiveUtils.less(::Any)\n",
    "InteractiveUtils.@less\n",
    "InteractiveUtils.@which\n",
    "InteractiveUtils.@functionloc\n",
    "InteractiveUtils.@code_lowered\n",
    "InteractiveUtils.@code_typed\n",
    "InteractiveUtils.code_warntype\n",
    "InteractiveUtils.@code_warntype\n",
    "InteractiveUtils.code_llvm\n",
    "InteractiveUtils.@code_llvm\n",
    "InteractiveUtils.code_native\n",
    "InteractiveUtils.@code_native\n",
    "InteractiveUtils.clipboard"
   ]
  }
 ],
 "metadata": {},
 "nbformat": 4,
 "nbformat_minor": 5
}
