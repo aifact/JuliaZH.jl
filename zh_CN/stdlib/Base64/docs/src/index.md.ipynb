{
 "cells": [
  {
   "cell_type": "markdown",
   "id": "4b9f87ee",
   "metadata": {},
   "source": [
    "# Base64"
   ]
  },
  {
   "cell_type": "code",
   "execution_count": null,
   "id": "f34564a5",
   "metadata": {
    "attributes": {
     "classes": [
      "@docs"
     ],
     "id": ""
    }
   },
   "outputs": [],
   "source": [
    "Base64.Base64\n",
    "Base64.Base64EncodePipe\n",
    "Base64.base64encode\n",
    "Base64.Base64DecodePipe\n",
    "Base64.base64decode\n",
    "Base64.stringmime"
   ]
  }
 ],
 "metadata": {},
 "nbformat": 4,
 "nbformat_minor": 5
}
