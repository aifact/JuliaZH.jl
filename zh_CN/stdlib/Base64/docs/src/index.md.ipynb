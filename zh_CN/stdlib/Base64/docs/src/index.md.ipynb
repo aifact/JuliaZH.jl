{
 "cells": [
  {
   "cell_type": "markdown",
   "id": "c2926c5d",
   "metadata": {},
   "source": [
    "# Base64"
   ]
  },
  {
   "cell_type": "code",
   "execution_count": null,
   "id": "cf8e06e7",
   "metadata": {
    "attributes": {
     "classes": [
      "@docs"
     ],
     "id": ""
    }
   },
   "outputs": [],
   "source": [
    "Base64.Base64\n",
    "Base64.Base64EncodePipe\n",
    "Base64.base64encode\n",
    "Base64.Base64DecodePipe\n",
    "Base64.base64decode\n",
    "Base64.stringmime"
   ]
  }
 ],
 "metadata": {},
 "nbformat": 4,
 "nbformat_minor": 5
}
