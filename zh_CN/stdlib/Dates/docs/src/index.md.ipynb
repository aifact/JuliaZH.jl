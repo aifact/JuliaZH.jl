{
 "cells": [
  {
   "cell_type": "markdown",
   "id": "d601ba1f",
   "metadata": {},
   "source": [
    "# 日期"
   ]
  },
  {
   "cell_type": "code",
   "execution_count": null,
   "id": "d9a4edf3",
   "metadata": {
    "attributes": {
     "classes": [
      "@meta"
     ],
     "id": ""
    }
   },
   "outputs": [],
   "source": [
    "DocTestSetup = :(using Dates)"
   ]
  },
  {
   "cell_type": "markdown",
   "id": "6cc11a9d",
   "metadata": {},
   "source": [
    "`Dates` 模块提供了两种类型来处理日期：[`Date`](@ref) 和 [`DateTime`](@ref)，分别精确到日和毫秒；两者都是抽象类型 [`TimeType`](@ref) 的子类型。区分类型的动机很简单：不必处理更高精度所带来的复杂性时，一些操作在代码和思维推理上都更加简单。例如，由于 [`Date`](@ref) 类型仅精确到日（即没有时、分或秒），因此避免了时区、夏令时和闰秒等不必要的通常考虑。\n",
    "\n",
    "Both [`Date`](@ref) and [`DateTime`](@ref) are basically immutable [`Int64`](@ref) wrappers.\n",
    "The single `instant` field of either type is actually a `UTInstant{P}` type, which\n",
    "represents a continuously increasing machine timeline based on the UT second [^1]. The\n",
    "[`DateTime`](@ref) type is not aware of time zones (*naive*, in Python parlance),\n",
    "analogous to a *LocalDateTime* in Java 8. Additional time zone functionality\n",
    "can be added through the [TimeZones.jl package](https://github.com/JuliaTime/TimeZones.jl/), which\n",
    "compiles the [IANA time zone database](http://www.iana.org/time-zones). Both [`Date`](@ref) and\n",
    "[`DateTime`](@ref) are based on the [ISO 8601](https://en.wikipedia.org/wiki/ISO_8601) standard, which follows the proleptic Gregorian calendar.\n",
    "One note is that the ISO 8601 standard is particular about BC/BCE dates. In general, the last\n",
    "day of the BC/BCE era, 1-12-31 BC/BCE, was followed by 1-1-1 AD/CE, thus no year zero exists.\n",
    "The ISO standard, however, states that 1 BC/BCE is year zero, so `0000-12-31` is the day before\n",
    "`0001-01-01`, and year `-0001` (yes, negative one for the year) is 2 BC/BCE, year `-0002` is 3\n",
    "BC/BCE, etc.\n",
    "\n",
    "[^1]:\n",
    "    The notion of the UT second is actually quite fundamental. There are basically two different notions\n",
    "    of time generally accepted, one based on the physical rotation of the earth (one full rotation\n",
    "    = 1 day), the other based on the SI second (a fixed, constant value). These are radically different!\n",
    "    Think about it, a \"UT second\", as defined relative to the rotation of the earth, may have a different\n",
    "    absolute length depending on the day! Anyway, the fact that [`Date`](@ref) and [`DateTime`](@ref)\n",
    "    are based on UT seconds is a simplifying, yet honest assumption so that things like leap seconds\n",
    "    and all their complexity can be avoided. This basis of time is formally called [UT](https://en.wikipedia.org/wiki/Universal_Time)\n",
    "    or UT1. Basing types on the UT second basically means that every minute has 60 seconds and every\n",
    "    day has 24 hours and leads to more natural calculations when working with calendar dates.\n",
    "\n",
    "## 构造函数\n",
    "\n",
    "[`Date`](@ref) 和 [`DateTime`](@ref) 类型可以通过整数或 [`Period`](@ref) 类型，解析，或调整器来构造（稍后会详细介绍）："
   ]
  },
  {
   "cell_type": "code",
   "execution_count": null,
   "id": "8c3bd0a1",
   "metadata": {
    "attributes": {
     "classes": [
      "jldoctest"
     ],
     "id": ""
    }
   },
   "outputs": [],
   "source": [
    "julia> DateTime(2013)\n",
    "2013-01-01T00:00:00\n",
    "\n",
    "julia> DateTime(2013,7)\n",
    "2013-07-01T00:00:00\n",
    "\n",
    "julia> DateTime(2013,7,1)\n",
    "2013-07-01T00:00:00\n",
    "\n",
    "julia> DateTime(2013,7,1,12)\n",
    "2013-07-01T12:00:00\n",
    "\n",
    "julia> DateTime(2013,7,1,12,30)\n",
    "2013-07-01T12:30:00\n",
    "\n",
    "julia> DateTime(2013,7,1,12,30,59)\n",
    "2013-07-01T12:30:59\n",
    "\n",
    "julia> DateTime(2013,7,1,12,30,59,1)\n",
    "2013-07-01T12:30:59.001\n",
    "\n",
    "julia> Date(2013)\n",
    "2013-01-01\n",
    "\n",
    "julia> Date(2013,7)\n",
    "2013-07-01\n",
    "\n",
    "julia> Date(2013,7,1)\n",
    "2013-07-01\n",
    "\n",
    "julia> Date(Dates.Year(2013),Dates.Month(7),Dates.Day(1))\n",
    "2013-07-01\n",
    "\n",
    "julia> Date(Dates.Month(7),Dates.Year(2013))\n",
    "2013-07-01"
   ]
  },
  {
   "cell_type": "markdown",
   "id": "2937b206",
   "metadata": {},
   "source": [
    "[`Date`](@ref) or [`DateTime`](@ref) parsing is accomplished by the use of format strings. Format\n",
    "strings work by the notion of defining *delimited* or *fixed-width* \"slots\" that contain a period\n",
    "to parse and passing the text to parse and format string to a [`Date`](@ref) or [`DateTime`](@ref)\n",
    "constructor, of the form `Date(\"2015-01-01\",\"y-m-d\")` or `DateTime(\"20150101\",\"yyyymmdd\")`.\n",
    "\n",
    "Delimited slots are marked by specifying the delimiter the parser should expect between two subsequent\n",
    "periods; so `\"y-m-d\"` lets the parser know that between the first and second slots in a date string\n",
    "like `\"2014-07-16\"`, it should find the `-` character. The `y`, `m`, and `d` characters let the\n",
    "parser know which periods to parse in each slot.\n",
    "\n",
    "Fixed-width slots are specified by repeating the period character the number of times corresponding\n",
    "to the width with no delimiter between characters. So `\"yyyymmdd\"` would correspond to a date\n",
    "string like `\"20140716\"`. The parser distinguishes a fixed-width slot by the absence of a delimiter,\n",
    "noting the transition `\"yyyymm\"` from one period character to the next.\n",
    "\n",
    "Support for text-form month parsing is also supported through the `u` and `U` characters, for\n",
    "abbreviated and full-length month names, respectively. By default, only English month names are\n",
    "supported, so `u` corresponds to \"Jan\", \"Feb\", \"Mar\", etc. And `U` corresponds to \"January\", \"February\",\n",
    "\"March\", etc. Similar to other name=>value mapping functions [`dayname`](@ref) and [`monthname`](@ref),\n",
    "custom locales can be loaded by passing in the `locale=>Dict{String,Int}` mapping to the `MONTHTOVALUEABBR`\n",
    "and `MONTHTOVALUE` dicts for abbreviated and full-name month names, respectively.\n",
    "\n",
    "One note on parsing performance: using the `Date(date_string,format_string)` function is fine\n",
    "if only called a few times. If there are many similarly formatted date strings to parse however,\n",
    "it is much more efficient to first create a [`Dates.DateFormat`](@ref), and pass it instead of\n",
    "a raw format string."
   ]
  },
  {
   "cell_type": "code",
   "execution_count": null,
   "id": "fed40486",
   "metadata": {
    "attributes": {
     "classes": [
      "jldoctest"
     ],
     "id": ""
    }
   },
   "outputs": [],
   "source": [
    "julia> df = DateFormat(\"y-m-d\");\n",
    "\n",
    "julia> dt = Date(\"2015-01-01\",df)\n",
    "2015-01-01\n",
    "\n",
    "julia> dt2 = Date(\"2015-01-02\",df)\n",
    "2015-01-02"
   ]
  },
  {
   "cell_type": "markdown",
   "id": "c0bf4036",
   "metadata": {},
   "source": [
    "You can also use the `dateformat\"\"` string macro. This macro creates the `DateFormat` object once when the macro is expanded and uses the same `DateFormat` object even if a code snippet is run multiple times."
   ]
  },
  {
   "cell_type": "code",
   "execution_count": null,
   "id": "a57638b0",
   "metadata": {
    "attributes": {
     "classes": [
      "jldoctest"
     ],
     "id": ""
    }
   },
   "outputs": [],
   "source": [
    "julia> for i = 1:10^5\n",
    "           Date(\"2015-01-01\", dateformat\"y-m-d\")\n",
    "       end"
   ]
  },
  {
   "cell_type": "markdown",
   "id": "57a24c7f",
   "metadata": {},
   "source": [
    "A full suite of parsing and formatting tests and examples is available in [`stdlib/Dates/test/io.jl`](https://github.com/JuliaLang/julia/blob/master/stdlib/Dates/test/io.jl).\n",
    "\n",
    "## 持续时间/比较\n",
    "\n",
    "Finding the length of time between two [`Date`](@ref) or [`DateTime`](@ref) is straightforward\n",
    "given their underlying representation as `UTInstant{Day}` and `UTInstant{Millisecond}`, respectively.\n",
    "The difference between [`Date`](@ref) is returned in the number of [`Day`](@ref), and [`DateTime`](@ref)\n",
    "in the number of [`Millisecond`](@ref). Similarly, comparing [`TimeType`](@ref) is a simple matter\n",
    "of comparing the underlying machine instants (which in turn compares the internal [`Int64`](@ref) values)."
   ]
  },
  {
   "cell_type": "code",
   "execution_count": null,
   "id": "cdb9dc49",
   "metadata": {
    "attributes": {
     "classes": [
      "jldoctest"
     ],
     "id": ""
    }
   },
   "outputs": [],
   "source": [
    "julia> dt = Date(2012,2,29)\n",
    "2012-02-29\n",
    "\n",
    "julia> dt2 = Date(2000,2,1)\n",
    "2000-02-01\n",
    "\n",
    "julia> dump(dt)\n",
    "Date\n",
    "  instant: Dates.UTInstant{Day}\n",
    "    periods: Day\n",
    "      value: Int64 734562\n",
    "\n",
    "julia> dump(dt2)\n",
    "Date\n",
    "  instant: Dates.UTInstant{Day}\n",
    "    periods: Day\n",
    "      value: Int64 730151\n",
    "\n",
    "julia> dt > dt2\n",
    "true\n",
    "\n",
    "julia> dt != dt2\n",
    "true\n",
    "\n",
    "julia> dt + dt2\n",
    "ERROR: MethodError: no method matching +(::Date, ::Date)\n",
    "[...]\n",
    "\n",
    "julia> dt * dt2\n",
    "ERROR: MethodError: no method matching *(::Date, ::Date)\n",
    "[...]\n",
    "\n",
    "julia> dt / dt2\n",
    "ERROR: MethodError: no method matching /(::Date, ::Date)\n",
    "\n",
    "julia> dt - dt2\n",
    "4411 days\n",
    "\n",
    "julia> dt2 - dt\n",
    "-4411 days\n",
    "\n",
    "julia> dt = DateTime(2012,2,29)\n",
    "2012-02-29T00:00:00\n",
    "\n",
    "julia> dt2 = DateTime(2000,2,1)\n",
    "2000-02-01T00:00:00\n",
    "\n",
    "julia> dt - dt2\n",
    "381110400000 milliseconds"
   ]
  },
  {
   "cell_type": "markdown",
   "id": "dcb5b895",
   "metadata": {},
   "source": [
    "## 访问函数\n",
    "\n",
    "Because the [`Date`](@ref) and [`DateTime`](@ref) types are stored as single [`Int64`](@ref) values, date\n",
    "parts or fields can be retrieved through accessor functions. The lowercase accessors return the\n",
    "field as an integer:"
   ]
  },
  {
   "cell_type": "code",
   "execution_count": null,
   "id": "063dfcb8",
   "metadata": {},
   "outputs": [],
   "source": [
    "julia> t = Date(2014, 1, 31)\n",
    "2014-01-31\n",
    "\n",
    "julia> Dates.year(t)\n",
    "2014\n",
    "\n",
    "julia> Dates.month(t)\n",
    "1\n",
    "\n",
    "julia> Dates.week(t)\n",
    "5\n",
    "\n",
    "julia> Dates.day(t)\n",
    "31"
   ]
  },
  {
   "cell_type": "markdown",
   "id": "2d369d37",
   "metadata": {},
   "source": [
    "当首字母大写时会返回对应 [`Period`](@ref) 类型的相同值："
   ]
  },
  {
   "cell_type": "code",
   "execution_count": null,
   "id": "9a6a9f18",
   "metadata": {},
   "outputs": [],
   "source": [
    "julia> Dates.Year(t)\n",
    "2014 years\n",
    "\n",
    "julia> Dates.Day(t)\n",
    "31 days"
   ]
  },
  {
   "cell_type": "markdown",
   "id": "45d3ce69",
   "metadata": {},
   "source": [
    "Compound methods are provided, as they provide a measure of efficiency if multiple fields are\n",
    "needed at the same time:"
   ]
  },
  {
   "cell_type": "code",
   "execution_count": null,
   "id": "4d24fbab",
   "metadata": {},
   "outputs": [],
   "source": [
    "julia> Dates.yearmonth(t)\n",
    "(2014, 1)\n",
    "\n",
    "julia> Dates.monthday(t)\n",
    "(1, 31)\n",
    "\n",
    "julia> Dates.yearmonthday(t)\n",
    "(2014, 1, 31)"
   ]
  },
  {
   "cell_type": "markdown",
   "id": "756be7c1",
   "metadata": {},
   "source": [
    "One may also access the underlying `UTInstant` or integer value:"
   ]
  },
  {
   "cell_type": "code",
   "execution_count": null,
   "id": "311b3276",
   "metadata": {},
   "outputs": [],
   "source": [
    "julia> dump(t)\n",
    "Date\n",
    "  instant: Dates.UTInstant{Day}\n",
    "    periods: Day\n",
    "      value: Int64 735264\n",
    "\n",
    "julia> t.instant\n",
    "Dates.UTInstant{Day}(Day(735264))\n",
    "\n",
    "julia> Dates.value(t)\n",
    "735264"
   ]
  },
  {
   "cell_type": "markdown",
   "id": "7ec5a9cf",
   "metadata": {},
   "source": [
    "## 查询函数\n",
    "\n",
    "Query functions provide calendrical information about a [`TimeType`](@ref). They include information\n",
    "about the day of the week:"
   ]
  },
  {
   "cell_type": "code",
   "execution_count": null,
   "id": "1f381e48",
   "metadata": {},
   "outputs": [],
   "source": [
    "julia> t = Date(2014, 1, 31)\n",
    "2014-01-31\n",
    "\n",
    "julia> Dates.dayofweek(t)\n",
    "5\n",
    "\n",
    "julia> Dates.dayname(t)\n",
    "\"Friday\"\n",
    "\n",
    "julia> Dates.dayofweekofmonth(t) # 5th Friday of January\n",
    "5"
   ]
  },
  {
   "cell_type": "markdown",
   "id": "34f864db",
   "metadata": {},
   "source": [
    "一年中的月份："
   ]
  },
  {
   "cell_type": "code",
   "execution_count": null,
   "id": "460d4e95",
   "metadata": {},
   "outputs": [],
   "source": [
    "julia> Dates.monthname(t)\n",
    "\"January\"\n",
    "\n",
    "julia> Dates.daysinmonth(t)\n",
    "31"
   ]
  },
  {
   "cell_type": "markdown",
   "id": "cc62c154",
   "metadata": {},
   "source": [
    "As well as information about the [`TimeType`](@ref)'s year and quarter:"
   ]
  },
  {
   "cell_type": "code",
   "execution_count": null,
   "id": "6cf5061b",
   "metadata": {},
   "outputs": [],
   "source": [
    "julia> Dates.isleapyear(t)\n",
    "false\n",
    "\n",
    "julia> Dates.dayofyear(t)\n",
    "31\n",
    "\n",
    "julia> Dates.quarterofyear(t)\n",
    "1\n",
    "\n",
    "julia> Dates.dayofquarter(t)\n",
    "31"
   ]
  },
  {
   "cell_type": "markdown",
   "id": "55981eae",
   "metadata": {},
   "source": [
    "The [`dayname`](@ref) and [`monthname`](@ref) methods can also take an optional `locale` keyword\n",
    "that can be used to return the name of the day or month of the year for other languages/locales.\n",
    "There are also versions of these functions returning the abbreviated names, namely\n",
    "[`dayabbr`](@ref) and [`monthabbr`](@ref).\n",
    "First the mapping is loaded into the `LOCALES` variable:"
   ]
  },
  {
   "cell_type": "code",
   "execution_count": null,
   "id": "5b44c1d0",
   "metadata": {},
   "outputs": [],
   "source": [
    "julia> french_months = [\"janvier\", \"février\", \"mars\", \"avril\", \"mai\", \"juin\",\n",
    "                        \"juillet\", \"août\", \"septembre\", \"octobre\", \"novembre\", \"décembre\"];\n",
    "\n",
    "julia> french_monts_abbrev = [\"janv\",\"févr\",\"mars\",\"avril\",\"mai\",\"juin\",\n",
    "                              \"juil\",\"août\",\"sept\",\"oct\",\"nov\",\"déc\"];\n",
    "\n",
    "julia> french_days = [\"lundi\",\"mardi\",\"mercredi\",\"jeudi\",\"vendredi\",\"samedi\",\"dimanche\"];\n",
    "\n",
    "julia> Dates.LOCALES[\"french\"] = Dates.DateLocale(french_months, french_monts_abbrev, french_days, [\"\"]);"
   ]
  },
  {
   "cell_type": "markdown",
   "id": "085ae9a8",
   "metadata": {},
   "source": [
    "The above mentioned functions can then be used to perform the queries:"
   ]
  },
  {
   "cell_type": "code",
   "execution_count": null,
   "id": "04e8a939",
   "metadata": {},
   "outputs": [],
   "source": [
    "julia> Dates.dayname(t;locale=\"french\")\n",
    "\"vendredi\"\n",
    "\n",
    "julia> Dates.monthname(t;locale=\"french\")\n",
    "\"janvier\"\n",
    "\n",
    "julia> Dates.monthabbr(t;locale=\"french\")\n",
    "\"janv\""
   ]
  },
  {
   "cell_type": "markdown",
   "id": "e70191a4",
   "metadata": {},
   "source": [
    "自从缩写版本的 `days` 函数不加载之后，试图访问函数 `dayabbr` 将导致一个错误。"
   ]
  },
  {
   "cell_type": "code",
   "execution_count": null,
   "id": "f3445cbd",
   "metadata": {},
   "outputs": [],
   "source": [
    "julia> Dates.dayabbr(t;locale=\"french\")\n",
    "ERROR: BoundsError: attempt to access 1-element Array{String,1} at index [5]\n",
    "Stacktrace:\n",
    "[...]"
   ]
  },
  {
   "cell_type": "markdown",
   "id": "7f7cfb3c",
   "metadata": {},
   "source": [
    "## TimeType 时间运算\n",
    "\n",
    "It's good practice when using any language/date framework to be familiar with how date-period\n",
    "arithmetic is handled as there are some [tricky issues](https://codeblog.jonskeet.uk/2010/12/01/the-joys-of-date-time-arithmetic/)\n",
    "to deal with (though much less so for day-precision types).\n",
    "\n",
    "The `Dates` module approach tries to follow the simple principle of trying to change as\n",
    "little as possible when doing [`Period`](@ref) arithmetic. This approach is also often known as\n",
    "*calendrical* arithmetic or what you would probably guess if someone were to ask you the same\n",
    "calculation in a conversation. Why all the fuss about this? Let's take a classic example: add\n",
    "1 month to January 31st, 2014. What's the answer? Javascript will say [March 3](https://markhneedham.com/blog/2009/01/07/javascript-add-a-month-to-a-date/)\n",
    "(assumes 31 days). PHP says [March 2](https://stackoverflow.com/questions/5760262/php-adding-months-to-a-date-while-not-exceeding-the-last-day-of-the-month)\n",
    "(assumes 30 days). The fact is, there is no right answer. In the `Dates` module, it gives\n",
    "the result of February 28th. How does it figure that out? I like to think of the classic 7-7-7\n",
    "gambling game in casinos.\n",
    "\n",
    "Now just imagine that instead of 7-7-7, the slots are Year-Month-Day, or in our example, 2014-01-31.\n",
    "When you ask to add 1 month to this date, the month slot is incremented, so now we have 2014-02-31.\n",
    "Then the day number is checked if it is greater than the last valid day of the new month; if it\n",
    "is (as in the case above), the day number is adjusted down to the last valid day (28). What are\n",
    "the ramifications with this approach? Go ahead and add another month to our date, `2014-02-28 + Month(1) == 2014-03-28`.\n",
    "What? Were you expecting the last day of March? Nope, sorry, remember the 7-7-7 slots. As few\n",
    "slots as possible are going to change, so we first increment the month slot by 1, 2014-03-28,\n",
    "and boom, we're done because that's a valid date. On the other hand, if we were to add 2 months\n",
    "to our original date, 2014-01-31, then we end up with 2014-03-31, as expected. The other ramification\n",
    "of this approach is a loss in associativity when a specific ordering is forced (i.e. adding things\n",
    "in different orders results in different outcomes). For example:"
   ]
  },
  {
   "cell_type": "code",
   "execution_count": null,
   "id": "b46381ef",
   "metadata": {
    "attributes": {
     "classes": [
      "jldoctest"
     ],
     "id": ""
    }
   },
   "outputs": [],
   "source": [
    "julia> (Date(2014,1,29)+Dates.Day(1)) + Dates.Month(1)\n",
    "2014-02-28\n",
    "\n",
    "julia> (Date(2014,1,29)+Dates.Month(1)) + Dates.Day(1)\n",
    "2014-03-01"
   ]
  },
  {
   "cell_type": "markdown",
   "id": "f7f62adb",
   "metadata": {},
   "source": [
    "What's going on there? In the first line, we're adding 1 day to January 29th, which results in\n",
    "2014-01-30; then we add 1 month, so we get 2014-02-30, which then adjusts down to 2014-02-28.\n",
    "In the second example, we add 1 month *first*, where we get 2014-02-29, which adjusts down to\n",
    "2014-02-28, and *then* add 1 day, which results in 2014-03-01. One design principle that helps\n",
    "in this case is that, in the presence of multiple Periods, the operations will be ordered by the\n",
    "Periods' *types*, not their value or positional order; this means `Year` will always be added\n",
    "first, then `Month`, then `Week`, etc. Hence the following *does* result in associativity and\n",
    "Just Works:"
   ]
  },
  {
   "cell_type": "code",
   "execution_count": null,
   "id": "82479fc5",
   "metadata": {
    "attributes": {
     "classes": [
      "jldoctest"
     ],
     "id": ""
    }
   },
   "outputs": [],
   "source": [
    "julia> Date(2014,1,29) + Dates.Day(1) + Dates.Month(1)\n",
    "2014-03-01\n",
    "\n",
    "julia> Date(2014,1,29) + Dates.Month(1) + Dates.Day(1)\n",
    "2014-03-01"
   ]
  },
  {
   "cell_type": "markdown",
   "id": "54870bc4",
   "metadata": {},
   "source": [
    "Tricky? Perhaps. What is an innocent `Dates` user to do? The bottom line is to be aware\n",
    "that explicitly forcing a certain associativity, when dealing with months, may lead to some unexpected\n",
    "results, but otherwise, everything should work as expected. Thankfully, that's pretty much the\n",
    "extent of the odd cases in date-period arithmetic when dealing with time in UT (avoiding the \"joys\"\n",
    "of dealing with daylight savings, leap seconds, etc.).\n",
    "\n",
    "另外，所有时间运算都可以与范围一起使用："
   ]
  },
  {
   "cell_type": "code",
   "execution_count": null,
   "id": "191c561f",
   "metadata": {
    "attributes": {
     "classes": [
      "jldoctest"
     ],
     "id": ""
    }
   },
   "outputs": [],
   "source": [
    "julia> dr = Date(2014,1,29):Day(1):Date(2014,2,3)\n",
    "Date(\"2014-01-29\"):Day(1):Date(\"2014-02-03\")\n",
    "\n",
    "julia> collect(dr)\n",
    "6-element Array{Date,1}:\n",
    " 2014-01-29\n",
    " 2014-01-30\n",
    " 2014-01-31\n",
    " 2014-02-01\n",
    " 2014-02-02\n",
    " 2014-02-03\n",
    "\n",
    "julia> dr = Date(2014,1,29):Dates.Month(1):Date(2014,07,29)\n",
    "Date(\"2014-01-29\"):Month(1):Date(\"2014-07-29\")\n",
    "\n",
    "julia> collect(dr)\n",
    "7-element Array{Date,1}:\n",
    " 2014-01-29\n",
    " 2014-02-28\n",
    " 2014-03-29\n",
    " 2014-04-29\n",
    " 2014-05-29\n",
    " 2014-06-29\n",
    " 2014-07-29"
   ]
  },
  {
   "cell_type": "markdown",
   "id": "b3df5dab",
   "metadata": {},
   "source": [
    "## 调整器函数\n",
    "\n",
    "As convenient as date-period arithmetic is, often the kinds of calculations needed on dates\n",
    "take on a *calendrical* or *temporal* nature rather than a fixed number of periods. Holidays are\n",
    "a perfect example; most follow rules such as \"Memorial Day = Last Monday of May\", or \"Thanksgiving\n",
    "= 4th Thursday of November\". These kinds of temporal expressions deal with rules relative to the\n",
    "calendar, like first or last of the month, next Tuesday, or the first and third Wednesdays, etc.\n",
    "\n",
    "The `Dates` module provides the *adjuster* API through several convenient methods that\n",
    "aid in simply and succinctly expressing temporal rules. The first group of adjuster methods deal\n",
    "with the first and last of weeks, months, quarters, and years. They each take a single [`TimeType`](@ref)\n",
    "as input and return or *adjust to* the first or last of the desired period relative to the input."
   ]
  },
  {
   "cell_type": "code",
   "execution_count": null,
   "id": "c0372994",
   "metadata": {
    "attributes": {
     "classes": [
      "jldoctest"
     ],
     "id": ""
    }
   },
   "outputs": [],
   "source": [
    "julia> Dates.firstdayofweek(Date(2014,7,16)) # Adjusts the input to the Monday of the input's week\n",
    "2014-07-14\n",
    "\n",
    "julia> Dates.lastdayofmonth(Date(2014,7,16)) # Adjusts to the last day of the input's month\n",
    "2014-07-31\n",
    "\n",
    "julia> Dates.lastdayofquarter(Date(2014,7,16)) # Adjusts to the last day of the input's quarter\n",
    "2014-09-30"
   ]
  },
  {
   "cell_type": "markdown",
   "id": "8b61e0d8",
   "metadata": {},
   "source": [
    "The next two higher-order methods, [`tonext`](@ref), and [`toprev`](@ref), generalize working\n",
    "with temporal expressions by taking a `DateFunction` as first argument, along with a starting\n",
    "[`TimeType`](@ref). A `DateFunction` is just a function, usually anonymous, that takes a single\n",
    "[`TimeType`](@ref) as input and returns a [`Bool`](@ref), `true` indicating a satisfied\n",
    "adjustment criterion.\n",
    "For example:"
   ]
  },
  {
   "cell_type": "code",
   "execution_count": null,
   "id": "726d59d5",
   "metadata": {
    "attributes": {
     "classes": [
      "jldoctest"
     ],
     "id": ""
    }
   },
   "outputs": [],
   "source": [
    "julia> istuesday = x->Dates.dayofweek(x) == Dates.Tuesday; # 当 x 是周二时返回 true\n",
    "\n",
    "julia> Dates.tonext(istuesday, Date(2014,7,13)) # 2014-07-13 是周日\n",
    "2014-07-15\n",
    "\n",
    "julia> Dates.tonext(Date(2014,7,13), Dates.Tuesday) # 星期调整的便捷方法\n",
    "2014-07-15"
   ]
  },
  {
   "cell_type": "markdown",
   "id": "00396ce0",
   "metadata": {},
   "source": [
    "This is useful with the do-block syntax for more complex temporal expressions:"
   ]
  },
  {
   "cell_type": "code",
   "execution_count": null,
   "id": "5aed3f35",
   "metadata": {
    "attributes": {
     "classes": [
      "jldoctest"
     ],
     "id": ""
    }
   },
   "outputs": [],
   "source": [
    "julia> Dates.tonext(Date(2014,7,13)) do x\n",
    "           # 在十一月的第四个星期四——感恩节那天返回 true\n",
    "           Dates.dayofweek(x) == Dates.Thursday &&\n",
    "           Dates.dayofweekofmonth(x) == 4 &&\n",
    "           Dates.month(x) == Dates.November\n",
    "       end\n",
    "2014-11-27"
   ]
  },
  {
   "cell_type": "markdown",
   "id": "cc4bbbbd",
   "metadata": {},
   "source": [
    "The [`Base.filter`](@ref) method can be used to obtain all valid dates/moments in a specified\n",
    "range:"
   ]
  },
  {
   "cell_type": "code",
   "execution_count": null,
   "id": "b9007295",
   "metadata": {
    "attributes": {
     "classes": [
      "jldoctest"
     ],
     "id": ""
    }
   },
   "outputs": [],
   "source": [
    "# Pittsburgh street cleaning; Every 2nd Tuesday from April to November\n",
    "# Date range from January 1st, 2014 to January 1st, 2015\n",
    "julia> dr = Dates.Date(2014):Day(1):Dates.Date(2015);\n",
    "\n",
    "julia> filter(dr) do x\n",
    "           Dates.dayofweek(x) == Dates.Tue &&\n",
    "           Dates.April <= Dates.month(x) <= Dates.Nov &&\n",
    "           Dates.dayofweekofmonth(x) == 2\n",
    "       end\n",
    "8-element Array{Date,1}:\n",
    " 2014-04-08\n",
    " 2014-05-13\n",
    " 2014-06-10\n",
    " 2014-07-08\n",
    " 2014-08-12\n",
    " 2014-09-09\n",
    " 2014-10-14\n",
    " 2014-11-11"
   ]
  },
  {
   "cell_type": "markdown",
   "id": "e60ab3cc",
   "metadata": {},
   "source": [
    "Additional examples and tests are available in [`stdlib/Dates/test/adjusters.jl`](https://github.com/JuliaLang/julia/blob/master/stdlib/Dates/test/adjusters.jl).\n",
    "\n",
    "## 时间段类型\n",
    "\n",
    "Periods are a human view of discrete, sometimes irregular durations of time. Consider 1 month;\n",
    "it could represent, in days, a value of 28, 29, 30, or 31 depending on the year and month context.\n",
    "Or a year could represent 365 or 366 days in the case of a leap year. [`Period`](@ref) types are\n",
    "simple [`Int64`](@ref) wrappers and are constructed by wrapping any `Int64` convertible type, i.e. `Year(1)`\n",
    "or `Month(3.0)`. Arithmetic between [`Period`](@ref) of the same type behave like integers, and\n",
    "limited `Period-Real` arithmetic is available.  You can extract the underlying integer with\n",
    "[`Dates.value`](@ref)."
   ]
  },
  {
   "cell_type": "code",
   "execution_count": null,
   "id": "753062f0",
   "metadata": {
    "attributes": {
     "classes": [
      "jldoctest"
     ],
     "id": ""
    }
   },
   "outputs": [],
   "source": [
    "julia> y1 = Dates.Year(1)\n",
    "1 year\n",
    "\n",
    "julia> y2 = Dates.Year(2)\n",
    "2 years\n",
    "\n",
    "julia> y3 = Dates.Year(10)\n",
    "10 years\n",
    "\n",
    "julia> y1 + y2\n",
    "3 years\n",
    "\n",
    "julia> div(y3,y2)\n",
    "5\n",
    "\n",
    "julia> y3 - y2\n",
    "8 years\n",
    "\n",
    "julia> y3 % y2\n",
    "0 years\n",
    "\n",
    "julia> div(y3,3) # mirrors integer division\n",
    "3 years\n",
    "\n",
    "julia> Dates.value(Dates.Millisecond(10))\n",
    "10"
   ]
  },
  {
   "cell_type": "markdown",
   "id": "4ea46d9a",
   "metadata": {},
   "source": [
    "## 取整\n",
    "\n",
    "[`Date`](@ref) and [`DateTime`](@ref) values can be rounded to a specified resolution (e.g., 1\n",
    "month or 15 minutes) with [`floor`](@ref), [`ceil`](@ref), or [`round`](@ref):"
   ]
  },
  {
   "cell_type": "code",
   "execution_count": null,
   "id": "b424a264",
   "metadata": {
    "attributes": {
     "classes": [
      "jldoctest"
     ],
     "id": ""
    }
   },
   "outputs": [],
   "source": [
    "julia> floor(Date(1985, 8, 16), Dates.Month)\n",
    "1985-08-01\n",
    "\n",
    "julia> ceil(DateTime(2013, 2, 13, 0, 31, 20), Dates.Minute(15))\n",
    "2013-02-13T00:45:00\n",
    "\n",
    "julia> round(DateTime(2016, 8, 6, 20, 15), Dates.Day)\n",
    "2016-08-07T00:00:00"
   ]
  },
  {
   "cell_type": "markdown",
   "id": "b7dc0cfd",
   "metadata": {},
   "source": [
    "Unlike the numeric [`round`](@ref) method, which breaks ties toward the even number by default,\n",
    "the [`TimeType`](@ref)[`round`](@ref) method uses the `RoundNearestTiesUp` rounding mode. (It's\n",
    "difficult to guess what breaking ties to nearest \"even\" [`TimeType`](@ref) would entail.) Further\n",
    "details on the available `RoundingMode` s can be found in the [API reference](@ref stdlib-dates-api).\n",
    "\n",
    "Rounding should generally behave as expected, but there are a few cases in which the expected\n",
    "behaviour is not obvious.\n",
    "\n",
    "### Rounding Epoch\n",
    "\n",
    "In many cases, the resolution specified for rounding (e.g., `Dates.Second(30)`) divides evenly\n",
    "into the next largest period (in this case, `Dates.Minute(1)`). But rounding behaviour in cases\n",
    "in which this is not true may lead to confusion. What is the expected result of rounding a [`DateTime`](@ref)\n",
    "to the nearest 10 hours?"
   ]
  },
  {
   "cell_type": "code",
   "execution_count": null,
   "id": "79ef07c0",
   "metadata": {
    "attributes": {
     "classes": [
      "jldoctest"
     ],
     "id": ""
    }
   },
   "outputs": [],
   "source": [
    "julia> round(DateTime(2016, 7, 17, 11, 55), Dates.Hour(10))\n",
    "2016-07-17T12:00:00"
   ]
  },
  {
   "cell_type": "markdown",
   "id": "0664e601",
   "metadata": {},
   "source": [
    "That may seem confusing, given that the hour (12) is not divisible by 10. The reason that `2016-07-17T12:00:00`\n",
    "was chosen is that it is 17,676,660 hours after `0000-01-01T00:00:00`, and 17,676,660 is divisible\n",
    "by 10.\n",
    "\n",
    "As Julia [`Date`](@ref) and [`DateTime`](@ref) values are represented according to the ISO 8601\n",
    "standard, `0000-01-01T00:00:00` was chosen as base (or \"rounding epoch\") from which to begin the\n",
    "count of days (and milliseconds) used in rounding calculations. (Note that this differs slightly\n",
    "from Julia's internal representation of [`Date`](@ref) s using Rata Die notation; but since the\n",
    "ISO 8601 standard is most visible to the end user, `0000-01-01T00:00:00` was chosen as the rounding\n",
    "epoch instead of the `0000-12-31T00:00:00` used internally to minimize confusion.)\n",
    "\n",
    "The only exception to the use of `0000-01-01T00:00:00` as the rounding epoch is when rounding\n",
    "to weeks. Rounding to the nearest week will always return a Monday (the first day of the week\n",
    "as specified by ISO 8601). For this reason, we use `0000-01-03T00:00:00` (the first day of the\n",
    "first week of year 0000, as defined by ISO 8601) as the base when rounding to a number of weeks.\n",
    "\n",
    "Here is a related case in which the expected behaviour is not necessarily obvious: What happens\n",
    "when we round to the nearest `P(2)`, where `P` is a [`Period`](@ref) type? In some cases (specifically,\n",
    "when `P <: Dates.TimePeriod`) the answer is clear:"
   ]
  },
  {
   "cell_type": "code",
   "execution_count": null,
   "id": "9604c0b8",
   "metadata": {
    "attributes": {
     "classes": [
      "jldoctest"
     ],
     "id": ""
    }
   },
   "outputs": [],
   "source": [
    "julia> round(DateTime(2016, 7, 17, 8, 55, 30), Dates.Hour(2))\n",
    "2016-07-17T08:00:00\n",
    "\n",
    "julia> round(DateTime(2016, 7, 17, 8, 55, 30), Dates.Minute(2))\n",
    "2016-07-17T08:56:00"
   ]
  },
  {
   "cell_type": "markdown",
   "id": "852fe344",
   "metadata": {},
   "source": [
    "This seems obvious, because two of each of these periods still divides evenly into the next larger\n",
    "order period. But in the case of two months (which still divides evenly into one year), the answer\n",
    "may be surprising:"
   ]
  },
  {
   "cell_type": "code",
   "execution_count": null,
   "id": "74a9856f",
   "metadata": {
    "attributes": {
     "classes": [
      "jldoctest"
     ],
     "id": ""
    }
   },
   "outputs": [],
   "source": [
    "julia> round(DateTime(2016, 7, 17, 8, 55, 30), Dates.Month(2))\n",
    "2016-07-01T00:00:00"
   ]
  },
  {
   "cell_type": "markdown",
   "id": "7702719f",
   "metadata": {},
   "source": [
    "Why round to the first day in July, even though it is month 7 (an odd number)? The key is that\n",
    "months are 1-indexed (the first month is assigned 1), unlike hours, minutes, seconds, and milliseconds\n",
    "(the first of which are assigned 0).\n",
    "\n",
    "This means that rounding a [`DateTime`](@ref) to an even multiple of seconds, minutes, hours,\n",
    "or years (because the ISO 8601 specification includes a year zero) will result in a [`DateTime`](@ref)\n",
    "with an even value in that field, while rounding a [`DateTime`](@ref) to an even multiple of months\n",
    "will result in the months field having an odd value. Because both months and years may contain\n",
    "an irregular number of days, whether rounding to an even number of days will result in an even\n",
    "value in the days field is uncertain.\n",
    "\n",
    "See the [API reference](@ref stdlib-dates-api) for additional information\n",
    "on methods exported from the `Dates` module.\n",
    "\n",
    "# [API reference](@id stdlib-dates-api)\n",
    "\n",
    "## 日期和时间类型"
   ]
  },
  {
   "cell_type": "code",
   "execution_count": null,
   "id": "4e947f03",
   "metadata": {
    "attributes": {
     "classes": [
      "@docs"
     ],
     "id": ""
    }
   },
   "outputs": [],
   "source": [
    "Dates.Period\n",
    "Dates.CompoundPeriod\n",
    "Dates.Instant\n",
    "Dates.UTInstant\n",
    "Dates.TimeType\n",
    "Dates.DateTime\n",
    "Dates.Date\n",
    "Dates.Time"
   ]
  },
  {
   "cell_type": "markdown",
   "id": "75f9e002",
   "metadata": {},
   "source": [
    "## 日期函数"
   ]
  },
  {
   "cell_type": "code",
   "execution_count": null,
   "id": "eb9a635c",
   "metadata": {
    "attributes": {
     "classes": [
      "@docs"
     ],
     "id": ""
    }
   },
   "outputs": [],
   "source": [
    "Dates.DateTime(::Int64, ::Int64, ::Int64, ::Int64, ::Int64, ::Int64, ::Int64)\n",
    "Dates.DateTime(::Dates.Period)\n",
    "Dates.DateTime(::Function, ::Any...)\n",
    "Dates.DateTime(::Dates.TimeType)\n",
    "Dates.DateTime(::AbstractString, ::AbstractString)\n",
    "Dates.format(::Dates.TimeType, ::AbstractString)\n",
    "Dates.DateFormat\n",
    "Dates.@dateformat_str\n",
    "Dates.DateTime(::AbstractString, ::Dates.DateFormat)\n",
    "Dates.Date(::Int64, ::Int64, ::Int64)\n",
    "Dates.Date(::Dates.Period)\n",
    "Dates.Date(::Function, ::Any, ::Any, ::Any)\n",
    "Dates.Date(::Dates.TimeType)\n",
    "Dates.Date(::AbstractString, ::AbstractString)\n",
    "Dates.Date(::AbstractString, ::Dates.DateFormat)\n",
    "Dates.Time(::Int64::Int64, ::Int64, ::Int64, ::Int64, ::Int64)\n",
    "Dates.Time(::Dates.TimePeriod)\n",
    "Dates.Time(::Function, ::Any...)\n",
    "Dates.Time(::Dates.DateTime)\n",
    "Dates.now()\n",
    "Dates.now(::Type{Dates.UTC})\n",
    "Base.eps"
   ]
  },
  {
   "cell_type": "markdown",
   "id": "c7cd2209",
   "metadata": {},
   "source": [
    "### Accessor Functions"
   ]
  },
  {
   "cell_type": "code",
   "execution_count": null,
   "id": "fcfa7b20",
   "metadata": {
    "attributes": {
     "classes": [
      "@docs"
     ],
     "id": ""
    }
   },
   "outputs": [],
   "source": [
    "Dates.year\n",
    "Dates.month\n",
    "Dates.week\n",
    "Dates.day\n",
    "Dates.hour\n",
    "Dates.minute\n",
    "Dates.second\n",
    "Dates.millisecond\n",
    "Dates.microsecond\n",
    "Dates.nanosecond\n",
    "Dates.Year(::Dates.TimeType)\n",
    "Dates.Month(::Dates.TimeType)\n",
    "Dates.Week(::Dates.TimeType)\n",
    "Dates.Day(::Dates.TimeType)\n",
    "Dates.Hour(::DateTime)\n",
    "Dates.Minute(::DateTime)\n",
    "Dates.Second(::DateTime)\n",
    "Dates.Millisecond(::DateTime)\n",
    "Dates.Microsecond(::Dates.Time)\n",
    "Dates.Nanosecond(::Dates.Time)\n",
    "Dates.yearmonth\n",
    "Dates.monthday\n",
    "Dates.yearmonthday"
   ]
  },
  {
   "cell_type": "markdown",
   "id": "6f018f4f",
   "metadata": {},
   "source": [
    "### Query Functions"
   ]
  },
  {
   "cell_type": "code",
   "execution_count": null,
   "id": "3d195bc4",
   "metadata": {
    "attributes": {
     "classes": [
      "@docs"
     ],
     "id": ""
    }
   },
   "outputs": [],
   "source": [
    "Dates.dayname\n",
    "Dates.dayabbr\n",
    "Dates.dayofweek\n",
    "Dates.dayofmonth\n",
    "Dates.dayofweekofmonth\n",
    "Dates.daysofweekinmonth\n",
    "Dates.monthname\n",
    "Dates.monthabbr\n",
    "Dates.daysinmonth\n",
    "Dates.isleapyear\n",
    "Dates.dayofyear\n",
    "Dates.daysinyear\n",
    "Dates.quarterofyear\n",
    "Dates.dayofquarter"
   ]
  },
  {
   "cell_type": "markdown",
   "id": "a2180a7b",
   "metadata": {},
   "source": [
    "### Adjuster Functions"
   ]
  },
  {
   "cell_type": "code",
   "execution_count": null,
   "id": "6e8ec300",
   "metadata": {
    "attributes": {
     "classes": [
      "@docs"
     ],
     "id": ""
    }
   },
   "outputs": [],
   "source": [
    "Base.trunc(::Dates.TimeType, ::Type{Dates.Period})\n",
    "Dates.firstdayofweek\n",
    "Dates.lastdayofweek\n",
    "Dates.firstdayofmonth\n",
    "Dates.lastdayofmonth\n",
    "Dates.firstdayofyear\n",
    "Dates.lastdayofyear\n",
    "Dates.firstdayofquarter\n",
    "Dates.lastdayofquarter\n",
    "Dates.tonext(::Dates.TimeType, ::Int)\n",
    "Dates.toprev(::Dates.TimeType, ::Int)\n",
    "Dates.tofirst\n",
    "Dates.tolast\n",
    "Dates.tonext(::Function, ::Dates.TimeType)\n",
    "Dates.toprev(::Function, ::Dates.TimeType)"
   ]
  },
  {
   "cell_type": "markdown",
   "id": "7bf6a563",
   "metadata": {},
   "source": [
    "### Periods"
   ]
  },
  {
   "cell_type": "code",
   "execution_count": null,
   "id": "ece48b02",
   "metadata": {
    "attributes": {
     "classes": [
      "@docs"
     ],
     "id": ""
    }
   },
   "outputs": [],
   "source": [
    "Dates.Period(::Any)\n",
    "Dates.CompoundPeriod(::Vector{<:Dates.Period})\n",
    "Dates.value\n",
    "Dates.default"
   ]
  },
  {
   "cell_type": "markdown",
   "id": "dfe62a15",
   "metadata": {},
   "source": [
    "### 取整函数\n",
    "\n",
    "`Date` and `DateTime` values can be rounded to a specified resolution (e.g., 1 month or 15 minutes)\n",
    "with `floor`, `ceil`, or `round`."
   ]
  },
  {
   "cell_type": "code",
   "execution_count": null,
   "id": "0e953532",
   "metadata": {
    "attributes": {
     "classes": [
      "@docs"
     ],
     "id": ""
    }
   },
   "outputs": [],
   "source": [
    "Base.floor(::Dates.TimeType, ::Dates.Period)\n",
    "Base.ceil(::Dates.TimeType, ::Dates.Period)\n",
    "Base.round(::Dates.TimeType, ::Dates.Period, ::RoundingMode{:NearestTiesUp})"
   ]
  },
  {
   "cell_type": "markdown",
   "id": "22639bc1",
   "metadata": {},
   "source": [
    "Most `Period` values can also be rounded to a specified resolution:"
   ]
  },
  {
   "cell_type": "code",
   "execution_count": null,
   "id": "be261636",
   "metadata": {
    "attributes": {
     "classes": [
      "@docs"
     ],
     "id": ""
    }
   },
   "outputs": [],
   "source": [
    "Base.floor(::Dates.ConvertiblePeriod, ::T) where T <: Dates.ConvertiblePeriod\n",
    "Base.ceil(::Dates.ConvertiblePeriod, ::Dates.ConvertiblePeriod)\n",
    "Base.round(::Dates.ConvertiblePeriod, ::Dates.ConvertiblePeriod, ::RoundingMode{:NearestTiesUp})"
   ]
  },
  {
   "cell_type": "markdown",
   "id": "ae25efea",
   "metadata": {},
   "source": [
    "The following functions are not exported:"
   ]
  },
  {
   "cell_type": "code",
   "execution_count": null,
   "id": "8e3c5555",
   "metadata": {
    "attributes": {
     "classes": [
      "@docs"
     ],
     "id": ""
    }
   },
   "outputs": [],
   "source": [
    "Dates.floorceil\n",
    "Dates.epochdays2date\n",
    "Dates.epochms2datetime\n",
    "Dates.date2epochdays\n",
    "Dates.datetime2epochms"
   ]
  },
  {
   "cell_type": "markdown",
   "id": "db751aad",
   "metadata": {},
   "source": [
    "### 转换函数"
   ]
  },
  {
   "cell_type": "code",
   "execution_count": null,
   "id": "706be7e1",
   "metadata": {
    "attributes": {
     "classes": [
      "@docs"
     ],
     "id": ""
    }
   },
   "outputs": [],
   "source": [
    "Dates.today\n",
    "Dates.unix2datetime\n",
    "Dates.datetime2unix\n",
    "Dates.julian2datetime\n",
    "Dates.datetime2julian\n",
    "Dates.rata2datetime\n",
    "Dates.datetime2rata"
   ]
  },
  {
   "cell_type": "markdown",
   "id": "a97e326e",
   "metadata": {},
   "source": [
    "### 常量\n",
    "\n",
    "Days of the Week:\n",
    "\n",
    "| Variable    | Abbr. | Value (Int) |\n",
    "|:----------- |:----- |:----------- |\n",
    "| `Monday`    | `Mon` | 1           |\n",
    "| `Tuesday`   | `Tue` | 2           |\n",
    "| `Wednesday` | `Wed` | 3           |\n",
    "| `Thursday`  | `Thu` | 4           |\n",
    "| `Friday`    | `Fri` | 5           |\n",
    "| `Saturday`  | `Sat` | 6           |\n",
    "| `Sunday`    | `Sun` | 7           |\n",
    "\n",
    "Months of the Year:\n",
    "\n",
    "| Variable    | Abbr. | Value (Int) |\n",
    "|:----------- |:----- |:----------- |\n",
    "| `January`   | `Jan` | 1           |\n",
    "| `February`  | `Feb` | 2           |\n",
    "| `March`     | `Mar` | 3           |\n",
    "| `April`     | `Apr` | 4           |\n",
    "| `May`       | `May` | 5           |\n",
    "| `June`      | `Jun` | 6           |\n",
    "| `July`      | `Jul` | 7           |\n",
    "| `August`    | `Aug` | 8           |\n",
    "| `September` | `Sep` | 9           |\n",
    "| `October`   | `Oct` | 10          |\n",
    "| `November`  | `Nov` | 11          |\n",
    "| `December`  | `Dec` | 12          |"
   ]
  },
  {
   "cell_type": "code",
   "execution_count": null,
   "id": "b257c392",
   "metadata": {
    "attributes": {
     "classes": [
      "@meta"
     ],
     "id": ""
    }
   },
   "outputs": [],
   "source": [
    "DocTestSetup = nothing"
   ]
  }
 ],
 "metadata": {},
 "nbformat": 4,
 "nbformat_minor": 5
}
