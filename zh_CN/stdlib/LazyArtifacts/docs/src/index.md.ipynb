{
 "cells": [
  {
   "cell_type": "markdown",
   "id": "40e4af44",
   "metadata": {},
   "source": [
    "# Lazy Artifacts"
   ]
  },
  {
   "cell_type": "code",
   "execution_count": null,
   "id": "10503c15",
   "metadata": {
    "attributes": {
     "classes": [
      "@meta"
     ],
     "id": ""
    }
   },
   "outputs": [],
   "source": [
    "DocTestSetup = :(using LazyArtifacts)"
   ]
  },
  {
   "cell_type": "markdown",
   "id": "497bb1f0",
   "metadata": {},
   "source": [
    "In order for a package to download artifacts lazily, `LazyArtifacts` must be\n",
    "explicitly listed as a dependency of that package.\n",
    "\n",
    "For further information on artifacts, see [Artifacts](@ref)."
   ]
  }
 ],
 "metadata": {},
 "nbformat": 4,
 "nbformat_minor": 5
}
