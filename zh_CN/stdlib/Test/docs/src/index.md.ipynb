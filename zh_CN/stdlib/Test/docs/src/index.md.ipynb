{
 "cells": [
  {
   "cell_type": "markdown",
   "id": "0a8bd1d3",
   "metadata": {},
   "source": [
    "# 单元测试"
   ]
  },
  {
   "cell_type": "code",
   "execution_count": null,
   "id": "158a97ee",
   "metadata": {
    "attributes": {
     "classes": [
      "@meta"
     ],
     "id": ""
    }
   },
   "outputs": [],
   "source": [
    "DocTestSetup = :(using Test)"
   ]
  },
  {
   "cell_type": "markdown",
   "id": "4d916e9b",
   "metadata": {},
   "source": [
    "## 测试 Julia Base 库\n",
    "\n",
    "Julia is under rapid development and has an extensive test suite to verify functionality across\n",
    "multiple platforms. If you build Julia from source, you can run this test suite with `make test`.\n",
    "In a binary install, you can run the test suite using `Base.runtests()`."
   ]
  },
  {
   "cell_type": "code",
   "execution_count": null,
   "id": "9fc9e218",
   "metadata": {
    "attributes": {
     "classes": [
      "@docs"
     ],
     "id": ""
    }
   },
   "outputs": [],
   "source": [
    "Base.runtests"
   ]
  },
  {
   "cell_type": "markdown",
   "id": "cd4d2f67",
   "metadata": {},
   "source": [
    "## 基本的单元测试\n",
    "\n",
    "The `Test` module provides simple *unit testing* functionality. Unit testing is a way to\n",
    "see if your code is correct by checking that the results are what you expect. It can be helpful\n",
    "to ensure your code still works after you make changes, and can be used when developing as a way\n",
    "of specifying the behaviors your code should have when complete.\n",
    "\n",
    "Simple unit testing can be performed with the `@test` and `@test_throws` macros:"
   ]
  },
  {
   "cell_type": "code",
   "execution_count": null,
   "id": "82df7611",
   "metadata": {
    "attributes": {
     "classes": [
      "@docs"
     ],
     "id": ""
    }
   },
   "outputs": [],
   "source": [
    "Test.@test\n",
    "Test.@test_throws"
   ]
  },
  {
   "cell_type": "markdown",
   "id": "58ecb451",
   "metadata": {},
   "source": [
    "For example, suppose we want to check our new function `foo(x)` works as expected:"
   ]
  },
  {
   "cell_type": "code",
   "execution_count": null,
   "id": "b2d5e934",
   "metadata": {},
   "outputs": [],
   "source": [
    "julia> using Test\n",
    "\n",
    "julia> foo(x) = length(x)^2\n",
    "foo (generic function with 1 method)"
   ]
  },
  {
   "cell_type": "markdown",
   "id": "e524d9e5",
   "metadata": {},
   "source": [
    "如果条件为真，则返回 `Pass`："
   ]
  },
  {
   "cell_type": "code",
   "execution_count": null,
   "id": "67ed9b6b",
   "metadata": {},
   "outputs": [],
   "source": [
    "julia> @test foo(\"bar\") == 9\n",
    "Test Passed\n",
    "\n",
    "julia> @test foo(\"fizz\") >= 10\n",
    "Test Passed"
   ]
  },
  {
   "cell_type": "markdown",
   "id": "8e92ea71",
   "metadata": {},
   "source": [
    "如果条件为假，则返回 `Fail` 并抛出异常。"
   ]
  },
  {
   "cell_type": "code",
   "execution_count": null,
   "id": "eb8a5ab8",
   "metadata": {},
   "outputs": [],
   "source": [
    "julia> @test foo(\"f\") == 20\n",
    "Test Failed at none:1\n",
    "  Expression: foo(\"f\") == 20\n",
    "   Evaluated: 1 == 20\n",
    "ERROR: There was an error during testing"
   ]
  },
  {
   "cell_type": "markdown",
   "id": "7236da9c",
   "metadata": {},
   "source": [
    "If the condition could not be evaluated because an exception was thrown, which occurs in this\n",
    "case because `length` is not defined for symbols, an `Error` object is returned and an exception\n",
    "is thrown:"
   ]
  },
  {
   "cell_type": "code",
   "execution_count": null,
   "id": "6581d005",
   "metadata": {
    "attributes": {
     "classes": [
      "julia-repl"
     ],
     "id": ""
    }
   },
   "outputs": [],
   "source": [
    "julia> @test foo(:cat) == 1\n",
    "Error During Test\n",
    "  Test threw an exception of type MethodError\n",
    "  Expression: foo(:cat) == 1\n",
    "  MethodError: no method matching length(::Symbol)\n",
    "  Closest candidates are:\n",
    "    length(::SimpleVector) at essentials.jl:256\n",
    "    length(::Base.MethodList) at reflection.jl:521\n",
    "    length(::MethodTable) at reflection.jl:597\n",
    "    ...\n",
    "  Stacktrace:\n",
    "  [...]\n",
    "ERROR: There was an error during testing"
   ]
  },
  {
   "cell_type": "markdown",
   "id": "5d226ace",
   "metadata": {},
   "source": [
    "If we expect that evaluating an expression *should* throw an exception, then we can use `@test_throws`\n",
    "to check that this occurs:"
   ]
  },
  {
   "cell_type": "code",
   "execution_count": null,
   "id": "c17d3fdf",
   "metadata": {},
   "outputs": [],
   "source": [
    "julia> @test_throws MethodError foo(:cat)\n",
    "Test Passed\n",
    "      Thrown: MethodError"
   ]
  },
  {
   "cell_type": "markdown",
   "id": "da8c3218",
   "metadata": {},
   "source": [
    "## Working with Test Sets\n",
    "\n",
    "Typically a large number of tests are used to make sure functions work correctly over a range\n",
    "of inputs. In the event a test fails, the default behavior is to throw an exception immediately.\n",
    "However, it is normally preferable to run the rest of the tests first to get a better picture\n",
    "of how many errors there are in the code being tested.\n",
    "\n",
    "The `@testset` macro can be used to group tests into *sets*. All the tests in a test set will\n",
    "be run, and at the end of the test set a summary will be printed. If any of the tests failed,\n",
    "or could not be evaluated due to an error, the test set will then throw a `TestSetException`."
   ]
  },
  {
   "cell_type": "code",
   "execution_count": null,
   "id": "34077be3",
   "metadata": {
    "attributes": {
     "classes": [
      "@docs"
     ],
     "id": ""
    }
   },
   "outputs": [],
   "source": [
    "Test.@testset"
   ]
  },
  {
   "cell_type": "markdown",
   "id": "c5048380",
   "metadata": {},
   "source": [
    "We can put our tests for the `foo(x)` function in a test set:"
   ]
  },
  {
   "cell_type": "code",
   "execution_count": null,
   "id": "b58e4b74",
   "metadata": {},
   "outputs": [],
   "source": [
    "julia> @testset \"Foo Tests\" begin\n",
    "           @test foo(\"a\")   == 1\n",
    "           @test foo(\"ab\")  == 4\n",
    "           @test foo(\"abc\") == 9\n",
    "       end;\n",
    "Test Summary: | Pass  Total\n",
    "Foo Tests     |    3      3"
   ]
  },
  {
   "cell_type": "markdown",
   "id": "20ba2e5e",
   "metadata": {},
   "source": [
    "测试集可以嵌套："
   ]
  },
  {
   "cell_type": "code",
   "execution_count": null,
   "id": "e42a626d",
   "metadata": {},
   "outputs": [],
   "source": [
    "julia> @testset \"Foo Tests\" begin\n",
    "           @testset \"Animals\" begin\n",
    "               @test foo(\"cat\") == 9\n",
    "               @test foo(\"dog\") == foo(\"cat\")\n",
    "           end\n",
    "           @testset \"Arrays $i\" for i in 1:3\n",
    "               @test foo(zeros(i)) == i^2\n",
    "               @test foo(fill(1.0, i)) == i^2\n",
    "           end\n",
    "       end;\n",
    "Test Summary: | Pass  Total\n",
    "Foo Tests     |    8      8"
   ]
  },
  {
   "cell_type": "markdown",
   "id": "9dd9c714",
   "metadata": {},
   "source": [
    "In the event that a nested test set has no failures, as happened here, it will be hidden in the\n",
    "summary. If we do have a test failure, only the details for the failed test sets will be shown:"
   ]
  },
  {
   "cell_type": "code",
   "execution_count": null,
   "id": "a789947f",
   "metadata": {
    "attributes": {
     "classes": [
      "julia-repl"
     ],
     "id": ""
    }
   },
   "outputs": [],
   "source": [
    "julia> @testset \"Foo Tests\" begin\n",
    "           @testset \"Animals\" begin\n",
    "               @testset \"Felines\" begin\n",
    "                   @test foo(\"cat\") == 9\n",
    "               end\n",
    "               @testset \"Canines\" begin\n",
    "                   @test foo(\"dog\") == 9\n",
    "               end\n",
    "           end\n",
    "           @testset \"Arrays\" begin\n",
    "               @test foo(zeros(2)) == 4\n",
    "               @test foo(fill(1.0, 4)) == 15\n",
    "           end\n",
    "       end\n",
    "\n",
    "Arrays: Test Failed\n",
    "  Expression: foo(fill(1.0, 4)) == 15\n",
    "   Evaluated: 16 == 15\n",
    "[...]\n",
    "Test Summary: | Pass  Fail  Total\n",
    "Foo Tests     |    3     1      4\n",
    "  Animals     |    2            2\n",
    "  Arrays      |    1     1      2\n",
    "ERROR: Some tests did not pass: 3 passed, 1 failed, 0 errored, 0 broken."
   ]
  },
  {
   "cell_type": "markdown",
   "id": "72e86a42",
   "metadata": {},
   "source": [
    "## 其他测试宏\n",
    "\n",
    "As calculations on floating-point values can be imprecise, you can perform approximate equality\n",
    "checks using either `@test a ≈ b` (where `≈`, typed via tab completion of `\\approx`, is the\n",
    "[`isapprox`](@ref) function) or use [`isapprox`](@ref) directly."
   ]
  },
  {
   "cell_type": "code",
   "execution_count": null,
   "id": "54c3cdf2",
   "metadata": {
    "attributes": {
     "classes": [
      "jldoctest"
     ],
     "id": ""
    }
   },
   "outputs": [],
   "source": [
    "julia> @test 1 ≈ 0.999999999\n",
    "Test Passed\n",
    "\n",
    "julia> @test 1 ≈ 0.999999\n",
    "Test Failed at none:1\n",
    "  Expression: 1 ≈ 0.999999\n",
    "   Evaluated: 1 ≈ 0.999999\n",
    "ERROR: There was an error during testing"
   ]
  },
  {
   "cell_type": "code",
   "execution_count": null,
   "id": "1d39e16e",
   "metadata": {
    "attributes": {
     "classes": [
      "@docs"
     ],
     "id": ""
    }
   },
   "outputs": [],
   "source": [
    "Test.@inferred\n",
    "Test.@test_logs\n",
    "Test.@test_deprecated\n",
    "Test.@test_warn\n",
    "Test.@test_nowarn"
   ]
  },
  {
   "cell_type": "markdown",
   "id": "646e423c",
   "metadata": {},
   "source": [
    "## 损坏的测试\n",
    "\n",
    "If a test fails consistently it can be changed to use the `@test_broken` macro. This will denote\n",
    "the test as `Broken` if the test continues to fail and alerts the user via an `Error` if the test\n",
    "succeeds."
   ]
  },
  {
   "cell_type": "code",
   "execution_count": null,
   "id": "e6eb8b92",
   "metadata": {
    "attributes": {
     "classes": [
      "@docs"
     ],
     "id": ""
    }
   },
   "outputs": [],
   "source": [
    "Test.@test_broken"
   ]
  },
  {
   "cell_type": "markdown",
   "id": "2a3e4ceb",
   "metadata": {},
   "source": [
    "`@test_skip` is also available to skip a test without evaluation, but counting the skipped test\n",
    "in the test set reporting. The test will not run but gives a `Broken` `Result`."
   ]
  },
  {
   "cell_type": "code",
   "execution_count": null,
   "id": "db70320a",
   "metadata": {
    "attributes": {
     "classes": [
      "@docs"
     ],
     "id": ""
    }
   },
   "outputs": [],
   "source": [
    "Test.@test_skip"
   ]
  },
  {
   "cell_type": "markdown",
   "id": "c312982c",
   "metadata": {},
   "source": [
    "## 自定义 `AbstractTestSet` 类型\n",
    "\n",
    "Packages can create their own `AbstractTestSet` subtypes by implementing the `record` and `finish`\n",
    "methods. The subtype should have a one-argument constructor taking a description string, with\n",
    "any options passed in as keyword arguments."
   ]
  },
  {
   "cell_type": "code",
   "execution_count": null,
   "id": "ecdf0f63",
   "metadata": {
    "attributes": {
     "classes": [
      "@docs"
     ],
     "id": ""
    }
   },
   "outputs": [],
   "source": [
    "Test.record\n",
    "Test.finish"
   ]
  },
  {
   "cell_type": "markdown",
   "id": "3cd070b3",
   "metadata": {},
   "source": [
    "`Test` takes responsibility for maintaining a stack of nested testsets as they are executed,\n",
    "but any result accumulation is the responsibility of the `AbstractTestSet` subtype. You can access\n",
    "this stack with the `get_testset` and `get_testset_depth` methods. Note that these functions are\n",
    "not exported."
   ]
  },
  {
   "cell_type": "code",
   "execution_count": null,
   "id": "3f2a23f6",
   "metadata": {
    "attributes": {
     "classes": [
      "@docs"
     ],
     "id": ""
    }
   },
   "outputs": [],
   "source": [
    "Test.get_testset\n",
    "Test.get_testset_depth"
   ]
  },
  {
   "cell_type": "markdown",
   "id": "89881ecf",
   "metadata": {},
   "source": [
    "`Test` also makes sure that nested `@testset` invocations use the same `AbstractTestSet`\n",
    "subtype as their parent unless it is set explicitly. It does not propagate any properties of the\n",
    "testset. Option inheritance behavior can be implemented by packages using the stack infrastructure\n",
    "that `Test` provides.\n",
    "\n",
    "定义一个基本的 `AbstractTestSet` 子类："
   ]
  },
  {
   "cell_type": "code",
   "execution_count": null,
   "id": "72eb7a18",
   "metadata": {
    "attributes": {
     "classes": [
      "julia"
     ],
     "id": ""
    }
   },
   "outputs": [],
   "source": [
    "import Test: Test, record, finish\n",
    "using Test: AbstractTestSet, Result, Pass, Fail, Error\n",
    "using Test: get_testset_depth, get_testset\n",
    "struct CustomTestSet <: Test.AbstractTestSet\n",
    "    description::AbstractString\n",
    "    foo::Int\n",
    "    results::Vector\n",
    "    # constructor takes a description string and options keyword arguments\n",
    "    CustomTestSet(desc; foo=1) = new(desc, foo, [])\n",
    "end\n",
    "\n",
    "record(ts::CustomTestSet, child::AbstractTestSet) = push!(ts.results, child)\n",
    "record(ts::CustomTestSet, res::Result) = push!(ts.results, res)\n",
    "function finish(ts::CustomTestSet)\n",
    "    # just record if we're not the top-level parent\n",
    "    if get_testset_depth() > 0\n",
    "        record(get_testset(), ts)\n",
    "    end\n",
    "    ts\n",
    "end"
   ]
  },
  {
   "cell_type": "markdown",
   "id": "077328ee",
   "metadata": {},
   "source": [
    "使用测试集："
   ]
  },
  {
   "cell_type": "code",
   "execution_count": null,
   "id": "e37e46ef",
   "metadata": {
    "attributes": {
     "classes": [
      "julia"
     ],
     "id": ""
    }
   },
   "outputs": [],
   "source": [
    "@testset CustomTestSet foo=4 \"custom testset inner 2\" begin\n",
    "    # this testset should inherit the type, but not the argument.\n",
    "    @testset \"custom testset inner\" begin\n",
    "        @test true\n",
    "    end\n",
    "end"
   ]
  },
  {
   "cell_type": "code",
   "execution_count": null,
   "id": "fb3652ba",
   "metadata": {
    "attributes": {
     "classes": [
      "@meta"
     ],
     "id": ""
    }
   },
   "outputs": [],
   "source": [
    "DocTestSetup = nothing"
   ]
  }
 ],
 "metadata": {},
 "nbformat": 4,
 "nbformat_minor": 5
}
