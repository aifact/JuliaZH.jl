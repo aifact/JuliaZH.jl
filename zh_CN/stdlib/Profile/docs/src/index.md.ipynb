{
 "cells": [
  {
   "cell_type": "markdown",
   "id": "23fafed3",
   "metadata": {},
   "source": [
    "# [性能分析](@id lib-profiling)"
   ]
  },
  {
   "cell_type": "code",
   "execution_count": null,
   "id": "b7564c10",
   "metadata": {
    "attributes": {
     "classes": [
      "@docs"
     ],
     "id": ""
    }
   },
   "outputs": [],
   "source": [
    "Profile.@profile"
   ]
  },
  {
   "cell_type": "markdown",
   "id": "0d8703f1",
   "metadata": {},
   "source": [
    "`Profile` 里的方法均未导出，需要通过 `Profile.print()` 的方式调用。"
   ]
  },
  {
   "cell_type": "code",
   "execution_count": null,
   "id": "92f35087",
   "metadata": {
    "attributes": {
     "classes": [
      "@docs"
     ],
     "id": ""
    }
   },
   "outputs": [],
   "source": [
    "Profile.clear\n",
    "Profile.print\n",
    "Profile.init\n",
    "Profile.fetch\n",
    "Profile.retrieve\n",
    "Profile.callers\n",
    "Profile.clear_malloc_data"
   ]
  }
 ],
 "metadata": {},
 "nbformat": 4,
 "nbformat_minor": 5
}
