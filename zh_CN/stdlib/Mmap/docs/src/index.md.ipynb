{
 "cells": [
  {
   "cell_type": "markdown",
   "id": "431c3f2f",
   "metadata": {},
   "source": [
    "# 内存映射 I/O"
   ]
  },
  {
   "cell_type": "code",
   "execution_count": null,
   "id": "a879c269",
   "metadata": {
    "attributes": {
     "classes": [
      "@docs"
     ],
     "id": ""
    }
   },
   "outputs": [],
   "source": [
    "Mmap.Anonymous\n",
    "Mmap.mmap\n",
    "Mmap.sync!"
   ]
  }
 ],
 "metadata": {},
 "nbformat": 4,
 "nbformat_minor": 5
}
