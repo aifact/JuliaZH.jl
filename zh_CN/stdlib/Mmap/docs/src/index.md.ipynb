{
 "cells": [
  {
   "cell_type": "markdown",
   "id": "0456d058",
   "metadata": {},
   "source": [
    "# 内存映射 I/O"
   ]
  },
  {
   "cell_type": "code",
   "execution_count": null,
   "id": "da5c0c2c",
   "metadata": {
    "attributes": {
     "classes": [
      "@docs"
     ],
     "id": ""
    }
   },
   "outputs": [],
   "source": [
    "Mmap.Anonymous\n",
    "Mmap.mmap\n",
    "Mmap.sync!"
   ]
  }
 ],
 "metadata": {},
 "nbformat": 4,
 "nbformat_minor": 5
}
