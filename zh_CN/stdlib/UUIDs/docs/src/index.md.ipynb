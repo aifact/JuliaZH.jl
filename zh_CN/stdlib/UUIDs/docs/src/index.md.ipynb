{
 "cells": [
  {
   "cell_type": "markdown",
   "id": "1c15d2d6",
   "metadata": {},
   "source": [
    "# UUIDs"
   ]
  },
  {
   "cell_type": "code",
   "execution_count": null,
   "id": "2bf3f710",
   "metadata": {
    "attributes": {
     "classes": [
      "@docs"
     ],
     "id": ""
    }
   },
   "outputs": [],
   "source": [
    "UUIDs.uuid1\n",
    "UUIDs.uuid4\n",
    "UUIDs.uuid5\n",
    "UUIDs.uuid_version"
   ]
  }
 ],
 "metadata": {},
 "nbformat": 4,
 "nbformat_minor": 5
}
