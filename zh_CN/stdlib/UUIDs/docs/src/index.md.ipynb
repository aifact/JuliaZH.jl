{
 "cells": [
  {
   "cell_type": "markdown",
   "id": "d710128a",
   "metadata": {},
   "source": [
    "# UUIDs"
   ]
  },
  {
   "cell_type": "code",
   "execution_count": null,
   "id": "c87b87b9",
   "metadata": {
    "attributes": {
     "classes": [
      "@docs"
     ],
     "id": ""
    }
   },
   "outputs": [],
   "source": [
    "UUIDs.uuid1\n",
    "UUIDs.uuid4\n",
    "UUIDs.uuid5\n",
    "UUIDs.uuid_version"
   ]
  }
 ],
 "metadata": {},
 "nbformat": 4,
 "nbformat_minor": 5
}
