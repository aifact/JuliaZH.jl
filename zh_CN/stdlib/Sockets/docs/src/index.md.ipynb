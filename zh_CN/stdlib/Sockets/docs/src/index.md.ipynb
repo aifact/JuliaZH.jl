{
 "cells": [
  {
   "cell_type": "markdown",
   "id": "5c4898d9",
   "metadata": {},
   "source": [
    "# 套接字"
   ]
  },
  {
   "cell_type": "code",
   "execution_count": null,
   "id": "8c6dc8b6",
   "metadata": {
    "attributes": {
     "classes": [
      "@docs"
     ],
     "id": ""
    }
   },
   "outputs": [],
   "source": [
    "Sockets.Sockets\n",
    "Sockets.connect(::TCPSocket, ::Integer)\n",
    "Sockets.connect(::AbstractString)\n",
    "Sockets.listen(::Any)\n",
    "Sockets.listen(::AbstractString)\n",
    "Sockets.getaddrinfo\n",
    "Sockets.getipaddr\n",
    "Sockets.getipaddrs\n",
    "Sockets.islinklocaladdr\n",
    "Sockets.getalladdrinfo\n",
    "Sockets.DNSError\n",
    "Sockets.getnameinfo\n",
    "Sockets.getsockname\n",
    "Sockets.getpeername\n",
    "Sockets.IPAddr\n",
    "Sockets.IPv4\n",
    "Sockets.IPv6\n",
    "Sockets.@ip_str\n",
    "Sockets.TCPSocket\n",
    "Sockets.UDPSocket\n",
    "Sockets.accept\n",
    "Sockets.listenany\n",
    "Sockets.bind\n",
    "Sockets.send\n",
    "Sockets.recv\n",
    "Sockets.recvfrom\n",
    "Sockets.setopt\n",
    "Sockets.nagle\n",
    "Sockets.quickack"
   ]
  }
 ],
 "metadata": {},
 "nbformat": 4,
 "nbformat_minor": 5
}
