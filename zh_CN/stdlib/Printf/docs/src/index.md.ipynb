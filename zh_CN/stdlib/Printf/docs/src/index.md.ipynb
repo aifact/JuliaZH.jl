{
 "cells": [
  {
   "cell_type": "markdown",
   "id": "158efce6",
   "metadata": {},
   "source": [
    "# Printf"
   ]
  },
  {
   "cell_type": "code",
   "execution_count": null,
   "id": "e0a008d2",
   "metadata": {
    "attributes": {
     "classes": [
      "@docs"
     ],
     "id": ""
    }
   },
   "outputs": [],
   "source": [
    "Printf.@printf\n",
    "Printf.@sprintf"
   ]
  }
 ],
 "metadata": {},
 "nbformat": 4,
 "nbformat_minor": 5
}
