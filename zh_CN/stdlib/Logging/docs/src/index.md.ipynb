{
 "cells": [
  {
   "cell_type": "markdown",
   "id": "7d752955",
   "metadata": {},
   "source": [
    "# 日志记录\n",
    "\n",
    "The [`Logging`](@ref Logging.Logging) module provides a way to record the history and progress of a\n",
    "computation as a log of events.  Events are created by inserting a logging\n",
    "statement into the source code, for example:"
   ]
  },
  {
   "cell_type": "code",
   "execution_count": null,
   "id": "54f8049e",
   "metadata": {
    "attributes": {
     "classes": [
      "julia"
     ],
     "id": ""
    }
   },
   "outputs": [],
   "source": [
    "@warn \"Abandon printf debugging, all ye who enter here!\"\n",
    "┌ Warning: Abandon printf debugging, all ye who enter here!\n",
    "└ @ Main REPL[1]:1"
   ]
  },
  {
   "cell_type": "markdown",
   "id": "5dec6c5d",
   "metadata": {},
   "source": [
    "The system provides several advantages over peppering your source code with\n",
    "calls to `println()`.  First, it allows you to control the visibility and\n",
    "presentation of messages without editing the source code.  For example, in\n",
    "contrast to the `@warn` above"
   ]
  },
  {
   "cell_type": "code",
   "execution_count": null,
   "id": "6d43d474",
   "metadata": {
    "attributes": {
     "classes": [
      "julia"
     ],
     "id": ""
    }
   },
   "outputs": [],
   "source": [
    "@debug \"The sum of some values $(sum(rand(100)))\""
   ]
  },
  {
   "cell_type": "markdown",
   "id": "d668a713",
   "metadata": {},
   "source": [
    "will produce no output by default.  Furthermore, it's very cheap to leave debug\n",
    "statements like this in the source code because the system avoids evaluating\n",
    "the message if it would later be ignored.  In this case `sum(rand(100))` and\n",
    "the associated string processing will never be executed unless debug logging is\n",
    "enabled.\n",
    "\n",
    "Second, the logging tools allow you to attach arbitrary data to each event as a\n",
    "set of key--value pairs. This allows you to capture local variables and other\n",
    "program state for later analysis. For example, to attach the local array\n",
    "variable `A` and the sum of a vector `v` as the key `s` you can use"
   ]
  },
  {
   "cell_type": "code",
   "execution_count": null,
   "id": "aa93ef81",
   "metadata": {
    "attributes": {
     "classes": [
      "jldoctest"
     ],
     "id": ""
    }
   },
   "outputs": [],
   "source": [
    "A = ones(Int, 4, 4)\n",
    "v = ones(100)\n",
    "@info \"Some variables\"  A  s=sum(v)\n",
    "\n",
    "# 输出：\n",
    "┌ Info: Some variables\n",
    "│   A =\n",
    "│    4×4 Array{Int64,2}:\n",
    "│     1  1  1  1\n",
    "│     1  1  1  1\n",
    "│     1  1  1  1\n",
    "│     1  1  1  1\n",
    "└   s = 100.0"
   ]
  },
  {
   "cell_type": "markdown",
   "id": "47032705",
   "metadata": {},
   "source": [
    "All of the logging macros `@debug`, `@info`, `@warn` and `@error` share common\n",
    "features that are described in detail in the documentation for the more\n",
    "general macro [`@logmsg`](@ref).\n",
    "\n",
    "## 日志事件结构\n",
    "\n",
    "Each event generates several pieces of data, some provided by the user and some\n",
    "automatically extracted. Let's examine the user-defined data first:\n",
    "\n",
    "* The *log level* is a broad category for the message that is used for early\n",
    "  filtering. There are several standard levels of type [`LogLevel`](@ref);\n",
    "  user-defined levels are also possible.\n",
    "  Each is distinct in purpose:\n",
    "  - `Debug` is information intended for the developer of the program.\n",
    "  These events are disabled by default.\n",
    "  - `Info` is for general information to the user.\n",
    "  Think of it as an alternative to using `println` directly.\n",
    "  - `Warn` means something is wrong and action is likely required\n",
    "  but that for now the program is still working.\n",
    "  - `Error` means something is wrong and it is unlikely to be recovered,\n",
    "  at least by this part of the code.\n",
    "  Often this log-level is unneeded as throwing an exception can convey\n",
    "  all the required information.\n",
    "\n",
    "* The *message*  is an object describing the event. By convention\n",
    "  `AbstractString`s passed as messages are assumed to be in markdown format.\n",
    "  Other types will be displayed using `print(io, obj)` or `string(obj)` for\n",
    "  text-based output and possibly `show(io,mime,obj)` for other multimedia\n",
    "  displays used in the installed logger.\n",
    "* Optional *key--value pairs* allow arbitrary data to be attached to each event.\n",
    "  Some keys have conventional meaning that can affect the way an event is\n",
    "  interpreted (see [`@logmsg`](@ref)).\n",
    "\n",
    "The system also generates some standard information for each event:\n",
    "\n",
    "* The `module` in which the logging macro was expanded.\n",
    "* The `file` and `line` where the logging macro occurs in the source code.\n",
    "* A message `id` that is a unique, fixed identifier for the *source code\n",
    "  statement* where the logging macro appears. This identifier is designed to be\n",
    "  fairly stable even if the source code of the file changes, as long as the\n",
    "  logging statement itself remains the same.\n",
    "* A `group` for the event, which is set to the base name of the file by default,\n",
    "  without extension.  This can be used to group messages into categories more\n",
    "  finely than the log level (for example, all deprecation warnings have group\n",
    "  `:depwarn`), or into logical groupings across or within modules.\n",
    "\n",
    "Notice that some useful information such as the event time is not included by\n",
    "default. This is because such information can be expensive to extract and is\n",
    "also *dynamically* available to the current logger. It's simple to define a\n",
    "[custom logger](@ref AbstractLogger-interface) to augment event data with the\n",
    "time, backtrace, values of global variables and other useful information as\n",
    "required.\n",
    "\n",
    "\n",
    "## Processing log events\n",
    "\n",
    "As you can see in the examples, logging statements make no mention of\n",
    "where log events go or how they are processed. This is a key design feature\n",
    "that makes the system composable and natural for concurrent use. It does this\n",
    "by separating two different concerns:\n",
    "\n",
    "* *Creating* log events is the concern of the module author who needs to\n",
    "  decide where events are triggered and which information to include.\n",
    "* *Processing* of log events — that is, display, filtering, aggregation and\n",
    "  recording — is the concern of the application author who needs to bring\n",
    "  multiple modules together into a cooperating application.\n",
    "\n",
    "### Loggers\n",
    "\n",
    "Processing of events is performed by a *logger*, which is the first piece of\n",
    "user configurable code to see the event. All loggers must be subtypes of\n",
    "[`AbstractLogger`](@ref).\n",
    "\n",
    "When an event is triggered, the appropriate logger is found by looking for a\n",
    "task-local logger with the global logger as fallback.  The idea here is that\n",
    "the application code knows how log events should be processed and exists\n",
    "somewhere at the top of the call stack. So we should look up through the call\n",
    "stack to discover the logger — that is, the logger should be *dynamically\n",
    "scoped*. (This is a point of contrast with logging frameworks where the\n",
    "logger is *lexically scoped*; provided explicitly by the module author or as a\n",
    "simple global variable. In such a system it's awkward to control logging while\n",
    "composing functionality from multiple modules.)\n",
    "\n",
    "The global logger may be set with [`global_logger`](@ref), and task-local\n",
    "loggers controlled using [`with_logger`](@ref).  Newly spawned tasks inherit\n",
    "the logger of the parent task.\n",
    "\n",
    "There are three logger types provided by the library.  [`ConsoleLogger`](@ref)\n",
    "is the default logger you see when starting the REPL.  It displays events in a\n",
    "readable text format and tries to give simple but user friendly control over\n",
    "formatting and filtering.  [`NullLogger`](@ref) is a convenient way to drop all\n",
    "messages where necessary; it is the logging equivalent of the [`devnull`](@ref)\n",
    "stream.  [`SimpleLogger`](@ref) is a very simplistic text formatting logger,\n",
    "mainly useful for debugging the logging system itself.\n",
    "\n",
    "Custom loggers should come with overloads for the functions described in the\n",
    "[reference section](@ref AbstractLogger-interface).\n",
    "\n",
    "### Early filtering and message handling\n",
    "\n",
    "When an event occurs, a few steps of early filtering occur to avoid generating\n",
    "messages that will be discarded:\n",
    "\n",
    "1. The message log level is checked against a global minimum level (set via\n",
    "   [`disable_logging`](@ref)).  This is a crude but extremely cheap global\n",
    "   setting.\n",
    "2. The current logger state is looked up and the message level checked against the\n",
    "   logger's cached minimum level, as found by calling [`Logging.min_enabled_level`](@ref).\n",
    "   This behavior can be overridden via environment variables (more on this later).\n",
    "3. The [`Logging.shouldlog`](@ref) function is called with the current logger, taking\n",
    "   some minimal information (level, module, group, id) which can be computed\n",
    "   statically.  Most usefully, `shouldlog` is passed an event `id` which can be\n",
    "   used to discard events early based on a cached predicate.\n",
    "\n",
    "If all these checks pass, the message and key--value pairs are evaluated in full\n",
    "and passed to the current logger via the [`Logging.handle_message`](@ref) function.\n",
    "`handle_message()` may perform additional filtering as required and display the\n",
    "event to the screen, save it to a file, etc.\n",
    "\n",
    "Exceptions that occur while generating the log event are captured and logged\n",
    "by default.  This prevents individual broken events from crashing the\n",
    "application, which is helpful when enabling little-used debug events in a\n",
    "production system.  This behavior can be customized per logger type by\n",
    "extending [`Logging.catch_exceptions`](@ref).\n",
    "\n",
    "## Testing log events\n",
    "\n",
    "Log events are a side effect of running normal code, but you might find\n",
    "yourself wanting to test particular informational messages and warnings. The\n",
    "`Test` module provides a [`@test_logs`](@ref) macro that can be used to\n",
    "pattern match against the log event stream.\n",
    "\n",
    "## Environment variables\n",
    "\n",
    "Message filtering can be influenced through the `JULIA_DEBUG` environment\n",
    "variable, and serves as an easy way to enable debug logging for a file or\n",
    "module. For example, loading julia with `JULIA_DEBUG=loading` will activate\n",
    "`@debug` log messages in `loading.jl`:"
   ]
  },
  {
   "cell_type": "code",
   "execution_count": null,
   "id": "1aaa7d41",
   "metadata": {},
   "outputs": [],
   "source": [
    "$ JULIA_DEBUG=loading julia -e 'using OhMyREPL'\n",
    "┌ Debug: Rejecting cache file /home/user/.julia/compiled/v0.7/OhMyREPL.ji due to it containing an invalid cache header\n",
    "└ @ Base loading.jl:1328\n",
    "[ Info: Recompiling stale cache file /home/user/.julia/compiled/v0.7/OhMyREPL.ji for module OhMyREPL\n",
    "┌ Debug: Rejecting cache file /home/user/.julia/compiled/v0.7/Tokenize.ji due to it containing an invalid cache header\n",
    "└ @ Base loading.jl:1328\n",
    "..."
   ]
  },
  {
   "cell_type": "markdown",
   "id": "7e6ece72",
   "metadata": {},
   "source": [
    "Similarly, the environment variable can be used to enable debug logging of\n",
    "modules, such as `Pkg`, or module roots (see [`Base.moduleroot`](@ref)). To\n",
    "enable all debug logging, use the special value `all`.\n",
    "\n",
    "To turn debug logging on from the REPL, set `ENV[\"JULIA_DEBUG\"]` to the\n",
    "name of the module of interest. Functions defined in the REPL belong to\n",
    "module `Main`; logging for them can be enabled like this:"
   ]
  },
  {
   "cell_type": "code",
   "execution_count": null,
   "id": "b5be0d27",
   "metadata": {
    "attributes": {
     "classes": [
      "julia-repl"
     ],
     "id": ""
    }
   },
   "outputs": [],
   "source": [
    "julia> foo() = @debug \"foo\"\n",
    "foo (generic function with 1 method)\n",
    "\n",
    "julia> foo()\n",
    "\n",
    "julia> ENV[\"JULIA_DEBUG\"] = Main\n",
    "Main\n",
    "\n",
    "julia> foo()\n",
    "┌ Debug: foo\n",
    "└ @ Main REPL[1]:1\n"
   ]
  },
  {
   "cell_type": "markdown",
   "id": "9bd72a13",
   "metadata": {},
   "source": [
    "## Writing log events to a file\n",
    "\n",
    "Sometimes it can be useful to write log events to a file. Here is an example\n",
    "of how to use a task-local and global logger to write information to a text\n",
    "file:"
   ]
  },
  {
   "cell_type": "code",
   "execution_count": null,
   "id": "0cf70ea9",
   "metadata": {
    "attributes": {
     "classes": [
      "julia-repl"
     ],
     "id": ""
    }
   },
   "outputs": [],
   "source": [
    "# Load the logging module\n",
    "julia> using Logging\n",
    "\n",
    "# Open a textfile for writing\n",
    "julia> io = open(\"log.txt\", \"w+\")\n",
    "IOStream(<file log.txt>)\n",
    "\n",
    "# Create a simple logger\n",
    "julia> logger = SimpleLogger(io)\n",
    "SimpleLogger(IOStream(<file log.txt>), Info, Dict{Any,Int64}())\n",
    "\n",
    "# Log a task-specific message\n",
    "julia> with_logger(logger) do\n",
    "           @info(\"a context specific log message\")\n",
    "       end\n",
    "\n",
    "# Write all buffered messages to the file\n",
    "julia> flush(io)\n",
    "\n",
    "# Set the global logger to logger\n",
    "julia> global_logger(logger)\n",
    "SimpleLogger(IOStream(<file log.txt>), Info, Dict{Any,Int64}())\n",
    "\n",
    "# This message will now also be written to the file\n",
    "julia> @info(\"a global log message\")\n",
    "\n",
    "# Close the file\n",
    "julia> close(io)"
   ]
  },
  {
   "cell_type": "markdown",
   "id": "1defbf81",
   "metadata": {},
   "source": [
    "## Reference\n",
    "\n",
    "### Logging module"
   ]
  },
  {
   "cell_type": "code",
   "execution_count": null,
   "id": "815b6c9c",
   "metadata": {
    "attributes": {
     "classes": [
      "@docs"
     ],
     "id": ""
    }
   },
   "outputs": [],
   "source": [
    "Logging.Logging"
   ]
  },
  {
   "cell_type": "markdown",
   "id": "fb22ea44",
   "metadata": {},
   "source": [
    "### Creating events"
   ]
  },
  {
   "cell_type": "code",
   "execution_count": null,
   "id": "68301dfb",
   "metadata": {
    "attributes": {
     "classes": [
      "@docs"
     ],
     "id": ""
    }
   },
   "outputs": [],
   "source": [
    "Logging.@logmsg\n",
    "Logging.LogLevel"
   ]
  },
  {
   "cell_type": "markdown",
   "id": "5978b18e",
   "metadata": {},
   "source": [
    "### [Processing events with AbstractLogger](@id AbstractLogger-interface)\n",
    "\n",
    "Event processing is controlled by overriding functions associated with\n",
    "`AbstractLogger`:\n",
    "\n",
    "| Methods to implement                |                        | Brief description                        |\n",
    "|:----------------------------------- |:---------------------- |:---------------------------------------- |\n",
    "| [`Logging.handle_message`](@ref)    |                        | Handle a log event                       |\n",
    "| [`Logging.shouldlog`](@ref)         |                        | Early filtering of events                |\n",
    "| [`Logging.min_enabled_level`](@ref) |                        | Lower bound for log level of accepted events |\n",
    "| **Optional methods**                | **Default definition** | **Brief description**                    |\n",
    "| [`Logging.catch_exceptions`](@ref)  | `true`                 | Catch exceptions during event evaluation |"
   ]
  },
  {
   "cell_type": "code",
   "execution_count": null,
   "id": "ae492825",
   "metadata": {
    "attributes": {
     "classes": [
      "@docs"
     ],
     "id": ""
    }
   },
   "outputs": [],
   "source": [
    "Logging.AbstractLogger\n",
    "Logging.handle_message\n",
    "Logging.shouldlog\n",
    "Logging.min_enabled_level\n",
    "Logging.catch_exceptions\n",
    "Logging.disable_logging"
   ]
  },
  {
   "cell_type": "markdown",
   "id": "94459aef",
   "metadata": {},
   "source": [
    "### Using Loggers\n",
    "\n",
    "Logger installation and inspection:"
   ]
  },
  {
   "cell_type": "code",
   "execution_count": null,
   "id": "ad5b2914",
   "metadata": {
    "attributes": {
     "classes": [
      "@docs"
     ],
     "id": ""
    }
   },
   "outputs": [],
   "source": [
    "Logging.global_logger\n",
    "Logging.with_logger\n",
    "Logging.current_logger"
   ]
  },
  {
   "cell_type": "markdown",
   "id": "5f3664f9",
   "metadata": {},
   "source": [
    "Loggers that are supplied with the system:"
   ]
  },
  {
   "cell_type": "code",
   "execution_count": null,
   "id": "5bbe8387",
   "metadata": {
    "attributes": {
     "classes": [
      "@docs"
     ],
     "id": ""
    }
   },
   "outputs": [],
   "source": [
    "Logging.NullLogger\n",
    "Logging.ConsoleLogger\n",
    "Logging.SimpleLogger"
   ]
  }
 ],
 "metadata": {},
 "nbformat": 4,
 "nbformat_minor": 5
}
