{
 "cells": [
  {
   "cell_type": "markdown",
   "id": "a092e105",
   "metadata": {},
   "source": [
    "# 分隔符文件"
   ]
  },
  {
   "cell_type": "code",
   "execution_count": null,
   "id": "7285a761",
   "metadata": {
    "attributes": {
     "classes": [
      "@docs"
     ],
     "id": ""
    }
   },
   "outputs": [],
   "source": [
    "DelimitedFiles.readdlm(::Any, ::AbstractChar, ::Type, ::AbstractChar)\n",
    "DelimitedFiles.readdlm(::Any, ::AbstractChar, ::AbstractChar)\n",
    "DelimitedFiles.readdlm(::Any, ::AbstractChar, ::Type)\n",
    "DelimitedFiles.readdlm(::Any, ::AbstractChar)\n",
    "DelimitedFiles.readdlm(::Any, ::Type)\n",
    "DelimitedFiles.readdlm(::Any)\n",
    "DelimitedFiles.writedlm"
   ]
  }
 ],
 "metadata": {},
 "nbformat": 4,
 "nbformat_minor": 5
}
