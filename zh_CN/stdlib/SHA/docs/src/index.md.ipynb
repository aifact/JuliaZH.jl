{
 "cells": [
  {
   "cell_type": "markdown",
   "id": "0824d0a8",
   "metadata": {},
   "source": [
    "# SHA\n",
    "\n",
    "\n",
    "用法非常直接："
   ]
  },
  {
   "cell_type": "code",
   "execution_count": null,
   "id": "2c553a71",
   "metadata": {
    "attributes": {
     "classes": [
      "julia"
     ],
     "id": ""
    }
   },
   "outputs": [],
   "source": [
    "julia> using SHA\n",
    "\n",
    "julia> bytes2hex(sha256(\"test\"))\n",
    "\"9f86d081884c7d659a2feaa0c55ad015a3bf4f1b2b0b822cd15d6c15b0f00a08\""
   ]
  },
  {
   "cell_type": "markdown",
   "id": "d5f2e2d3",
   "metadata": {},
   "source": [
    "Each exported function (at the time of this writing, SHA-1, SHA-2 224, 256, 384 and 512, and SHA-3 224, 256, 384 and 512 functions are implemented) takes in either an `AbstractVector{UInt8}`, an `AbstractString` or an `IO` object.  This makes it trivial to checksum a file:"
   ]
  },
  {
   "cell_type": "code",
   "execution_count": null,
   "id": "d7f26727",
   "metadata": {
    "attributes": {
     "classes": [
      "julia"
     ],
     "id": ""
    }
   },
   "outputs": [],
   "source": [
    "shell> cat /tmp/test.txt\n",
    "test\n",
    "julia> using SHA\n",
    "\n",
    "julia> open(\"/tmp/test.txt\") do f\n",
    "           sha2_256(f)\n",
    "       end\n",
    "32-element Array{UInt8,1}:\n",
    " 0x9f\n",
    " 0x86\n",
    " 0xd0\n",
    " 0x81\n",
    " 0x88\n",
    " 0x4c\n",
    " 0x7d\n",
    " 0x65\n",
    "    ⋮\n",
    " 0x5d\n",
    " 0x6c\n",
    " 0x15\n",
    " 0xb0\n",
    " 0xf0\n",
    " 0x0a\n",
    " 0x08"
   ]
  },
  {
   "cell_type": "markdown",
   "id": "9adb794b",
   "metadata": {},
   "source": [
    "Due to the colloquial usage of `sha256` to refer to `sha2_256`, convenience functions are provided, mapping `shaxxx()` function calls to `sha2_xxx()`.  For SHA-3, no such colloquialisms exist and the user must use the full `sha3_xxx()` names.\n",
    "\n",
    "`shaxxx()` takes `AbstractString` and array-like objects (`NTuple` and `Array`) with elements of type `UInt8`.\n",
    "\n",
    "To create a hash from multiple items the `SHAX_XXX_CTX()` types can be used to create a stateful hash object that\n",
    "is updated with `update!` and finalized with `digest!`"
   ]
  },
  {
   "cell_type": "code",
   "execution_count": null,
   "id": "6f0b7944",
   "metadata": {
    "attributes": {
     "classes": [
      "julia"
     ],
     "id": ""
    }
   },
   "outputs": [],
   "source": [
    "julia> ctx = SHA2_256_CTX()\n",
    "SHA2 256-bit hash state\n",
    "\n",
    "julia> update!(ctx, b\"some data\")\n",
    "0x0000000000000009\n",
    "\n",
    "julia> update!(ctx, b\"some more data\")\n",
    "0x0000000000000017\n",
    "\n",
    "julia> digest!(ctx)\n",
    "32-element Vector{UInt8}:\n",
    " 0xbe\n",
    " 0xcf\n",
    " 0x23\n",
    " 0xda\n",
    " 0xaf\n",
    " 0x02\n",
    "    ⋮\n",
    " 0x25\n",
    " 0x52\n",
    " 0x19\n",
    " 0xa0\n",
    " 0x8b\n",
    " 0xc5"
   ]
  },
  {
   "cell_type": "markdown",
   "id": "3755d037",
   "metadata": {},
   "source": [
    "Note that, at the time of this writing, the SHA3 code is not optimized, and as such is roughly an order of magnitude slower than SHA2."
   ]
  }
 ],
 "metadata": {},
 "nbformat": 4,
 "nbformat_minor": 5
}
