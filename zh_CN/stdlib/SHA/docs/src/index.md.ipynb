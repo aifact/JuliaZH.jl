{
 "cells": [
  {
   "cell_type": "markdown",
   "id": "90b30ec1",
   "metadata": {},
   "source": [
    "# SHA\n",
    "\n",
    "\n",
    "用法非常直接："
   ]
  },
  {
   "cell_type": "code",
   "execution_count": null,
   "id": "65e49770",
   "metadata": {
    "attributes": {
     "classes": [
      "julia"
     ],
     "id": ""
    }
   },
   "outputs": [],
   "source": [
    "julia> using SHA\n",
    "\n",
    "julia> bytes2hex(sha256(\"test\"))\n",
    "\"9f86d081884c7d659a2feaa0c55ad015a3bf4f1b2b0b822cd15d6c15b0f00a08\""
   ]
  },
  {
   "cell_type": "markdown",
   "id": "e9616c59",
   "metadata": {},
   "source": [
    "每个导出函数（SHA-1, SHA-2 224, 256, 384, 512, 以及 SHA-3 224, 256, 384, 512 函数在本文撰写时都已实现）都可以接受 `Array{UInt8}`, `ByteString` 或 `IO` 对象。这使计算文件校验和变得轻而易举："
   ]
  },
  {
   "cell_type": "code",
   "execution_count": null,
   "id": "836b151c",
   "metadata": {
    "attributes": {
     "classes": [
      "julia"
     ],
     "id": ""
    }
   },
   "outputs": [],
   "source": [
    "shell> cat /tmp/test.txt\n",
    "test\n",
    "julia> using SHA\n",
    "\n",
    "julia> open(\"/tmp/test.txt\") do f\n",
    "           sha2_256(f)\n",
    "       end\n",
    "32-element Array{UInt8,1}:\n",
    " 0x9f\n",
    " 0x86\n",
    " 0xd0\n",
    " 0x81\n",
    " 0x88\n",
    " 0x4c\n",
    " 0x7d\n",
    " 0x65\n",
    "    ⋮\n",
    " 0x5d\n",
    " 0x6c\n",
    " 0x15\n",
    " 0xb0\n",
    " 0xf0\n",
    " 0x0a\n",
    " 0x08"
   ]
  },
  {
   "cell_type": "markdown",
   "id": "a7a09615",
   "metadata": {},
   "source": [
    "注意 `/tmp/text.txt` 文件结尾缺少换行符。Julia 会自动在 `julia>` 提示符前插入换行符。\n",
    "\n",
    "由于 `sha256` 通常指的是 `sha2_256`，因此提供了函数名简写，将 `shaxxx()` 函数调用映射到 `sha2_xxx()`。SHA-3 不存在这样的俗称，用户必须使用完整的函数名 `sha3_xxx()`。\n",
    "\n",
    "`shaxxx()` 接受 `UInt8` 类型的 `AbstractString` 和类数组对象（`NTuple` 和 `Array`）。\n",
    "\n",
    "请注意，在本文撰写时，SHA-3 代码还未进行优化，因此会比 SHA-2 慢大约一个数量级。"
   ]
  }
 ],
 "metadata": {},
 "nbformat": 4,
 "nbformat_minor": 5
}
