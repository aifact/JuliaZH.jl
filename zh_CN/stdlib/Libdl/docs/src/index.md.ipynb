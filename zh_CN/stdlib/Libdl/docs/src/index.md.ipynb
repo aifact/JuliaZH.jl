{
 "cells": [
  {
   "cell_type": "markdown",
   "id": "708f4fc3",
   "metadata": {},
   "source": [
    "# 动态链接器"
   ]
  },
  {
   "cell_type": "code",
   "execution_count": null,
   "id": "72a82d0b",
   "metadata": {
    "attributes": {
     "classes": [
      "@docs"
     ],
     "id": ""
    }
   },
   "outputs": [],
   "source": [
    "Libdl.dlopen\n",
    "Libdl.dlopen_e\n",
    "Libdl.RTLD_NOW\n",
    "Libdl.dlsym\n",
    "Libdl.dlsym_e\n",
    "Libdl.dlclose\n",
    "Libdl.dlext\n",
    "Libdl.dllist\n",
    "Libdl.dlpath\n",
    "Libdl.find_library\n",
    "Libdl.DL_LOAD_PATH"
   ]
  }
 ],
 "metadata": {},
 "nbformat": 4,
 "nbformat_minor": 5
}
