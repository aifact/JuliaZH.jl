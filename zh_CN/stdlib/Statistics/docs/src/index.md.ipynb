{
 "cells": [
  {
   "cell_type": "markdown",
   "id": "962ffb30",
   "metadata": {},
   "source": [
    "# 统计"
   ]
  },
  {
   "cell_type": "code",
   "execution_count": null,
   "id": "77930d9b",
   "metadata": {
    "attributes": {
     "classes": [
      "@meta"
     ],
     "id": ""
    }
   },
   "outputs": [],
   "source": [
    "DocTestSetup = :(using Statistics)"
   ]
  },
  {
   "cell_type": "markdown",
   "id": "3b140a4c",
   "metadata": {},
   "source": [
    "统计模块包含了基本的统计函数。"
   ]
  },
  {
   "cell_type": "code",
   "execution_count": null,
   "id": "ab3a95fd",
   "metadata": {
    "attributes": {
     "classes": [
      "@docs"
     ],
     "id": ""
    }
   },
   "outputs": [],
   "source": [
    "Statistics.std\n",
    "Statistics.stdm\n",
    "Statistics.var\n",
    "Statistics.varm\n",
    "Statistics.cor\n",
    "Statistics.cov\n",
    "Statistics.mean!\n",
    "Statistics.mean\n",
    "Statistics.median!\n",
    "Statistics.median\n",
    "Statistics.middle\n",
    "Statistics.quantile!\n",
    "Statistics.quantile"
   ]
  },
  {
   "cell_type": "code",
   "execution_count": null,
   "id": "7e42935f",
   "metadata": {
    "attributes": {
     "classes": [
      "@meta"
     ],
     "id": ""
    }
   },
   "outputs": [],
   "source": [
    "DocTestSetup = nothing"
   ]
  }
 ],
 "metadata": {},
 "nbformat": 4,
 "nbformat_minor": 5
}
