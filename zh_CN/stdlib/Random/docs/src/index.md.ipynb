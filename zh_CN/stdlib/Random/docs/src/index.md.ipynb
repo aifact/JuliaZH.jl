{
 "cells": [
  {
   "cell_type": "markdown",
   "id": "11782624",
   "metadata": {},
   "source": [
    "# 随机数"
   ]
  },
  {
   "cell_type": "code",
   "execution_count": null,
   "id": "6e9e8d2b",
   "metadata": {
    "attributes": {
     "classes": [
      "@meta"
     ],
     "id": ""
    }
   },
   "outputs": [],
   "source": [
    "DocTestSetup = :(using Random)"
   ]
  },
  {
   "cell_type": "markdown",
   "id": "83e454cd",
   "metadata": {},
   "source": [
    "Random number generation in Julia uses the [Mersenne Twister library](http://www.math.sci.hiroshima-u.ac.jp/~m-mat/MT/SFMT/#dSFMT)\n",
    "via `MersenneTwister` objects. Julia has a global RNG, which is used by default. Other RNG types\n",
    "can be plugged in by inheriting the `AbstractRNG` type; they can then be used to have multiple\n",
    "streams of random numbers. Besides `MersenneTwister`, Julia also provides the `RandomDevice` RNG\n",
    "type, which is a wrapper over the OS provided entropy.\n",
    "\n",
    "大部分与随机数生成相关的函数都接受一个可选的 `AbstractRNG` 对象作为第一个参数，如果不指定则使用全局默认的。此外，某些函数还接受一个可选的维度参数 `dims...` (可以是元组）来生成随机数组。\n",
    "\n",
    "一个 `MersenneTwister` 或 `RandomDevice` RNG 能够生成如下类型的随机数：\n",
    "[`Float16`](@ref), [`Float32`](@ref), [`Float64`](@ref), [`BigFloat`](@ref), [`Bool`](@ref),\n",
    "[`Int8`](@ref), [`UInt8`](@ref), [`Int16`](@ref), [`UInt16`](@ref), [`Int32`](@ref),\n",
    "[`UInt32`](@ref), [`Int64`](@ref), [`UInt64`](@ref), [`Int128`](@ref), [`UInt128`](@ref),\n",
    "[`BigInt`](@ref) （或者这些类型的复数）。\n",
    "随机浮点数在 ``[0, 1)`` 区间均匀生成。由于 `BigInt` 代表无界的整数，必须要指定区间（如 `rand(big.(1:6))`）。\n",
    "\n",
    "另外，正态和指数分布是针对某些 `AbstractFloat` 和 `Complex` 类型，详细内容见 [`randn`](@ref) 和 [`randexp`](@ref)。\n",
    "\n",
    "!!! warn\n",
    "    Because the precise way in which random numbers are generated is considered an implementation detail, bug fixes and speed improvements may change the stream of numbers that are generated after a version change. Relying on a specific seed or generated stream of numbers during unit testing is thus discouraged - consider testing properties of the methods in question instead.\n",
    "\n",
    "## Random numbers module"
   ]
  },
  {
   "cell_type": "code",
   "execution_count": null,
   "id": "57df5cc5",
   "metadata": {
    "attributes": {
     "classes": [
      "@docs"
     ],
     "id": ""
    }
   },
   "outputs": [],
   "source": [
    "Random.Random"
   ]
  },
  {
   "cell_type": "markdown",
   "id": "fd43203c",
   "metadata": {},
   "source": [
    "## Random generation functions"
   ]
  },
  {
   "cell_type": "code",
   "execution_count": null,
   "id": "9304abe1",
   "metadata": {
    "attributes": {
     "classes": [
      "@docs"
     ],
     "id": ""
    }
   },
   "outputs": [],
   "source": [
    "Random.rand\n",
    "Random.rand!\n",
    "Random.bitrand\n",
    "Random.randn\n",
    "Random.randn!\n",
    "Random.randexp\n",
    "Random.randexp!\n",
    "Random.randstring"
   ]
  },
  {
   "cell_type": "markdown",
   "id": "5f619803",
   "metadata": {},
   "source": [
    "## Subsequences, permutations and shuffling"
   ]
  },
  {
   "cell_type": "code",
   "execution_count": null,
   "id": "22446745",
   "metadata": {
    "attributes": {
     "classes": [
      "@docs"
     ],
     "id": ""
    }
   },
   "outputs": [],
   "source": [
    "Random.randsubseq\n",
    "Random.randsubseq!\n",
    "Random.randperm\n",
    "Random.randperm!\n",
    "Random.randcycle\n",
    "Random.randcycle!\n",
    "Random.shuffle\n",
    "Random.shuffle!"
   ]
  },
  {
   "cell_type": "markdown",
   "id": "52eb5b7f",
   "metadata": {},
   "source": [
    "## Generators (creation and seeding)"
   ]
  },
  {
   "cell_type": "code",
   "execution_count": null,
   "id": "75b1fce0",
   "metadata": {
    "attributes": {
     "classes": [
      "@docs"
     ],
     "id": ""
    }
   },
   "outputs": [],
   "source": [
    "Random.seed!\n",
    "Random.AbstractRNG\n",
    "Random.MersenneTwister\n",
    "Random.RandomDevice"
   ]
  },
  {
   "cell_type": "markdown",
   "id": "0fb5263f",
   "metadata": {},
   "source": [
    "## Hooking into the `Random` API\n",
    "\n",
    "There are two mostly orthogonal ways to extend `Random` functionalities:\n",
    "1) generating random values of custom types\n",
    "2) creating new generators\n",
    "\n",
    "The API for 1) is quite functional, but is relatively recent so it may still have to evolve in subsequent releases of the `Random` module.\n",
    "For example, it's typically sufficient to implement one `rand` method in order to have all other usual methods work automatically.\n",
    "\n",
    "The API for 2) is still rudimentary, and may require more work than strictly necessary from the implementor,\n",
    "in order to support usual types of generated values.\n",
    "\n",
    "### Generating random values of custom types\n",
    "\n",
    "Generating random values for some distributions may involve various trade-offs. *Pre-computed* values, such as an [alias table](https://en.wikipedia.org/wiki/Alias_method) for discrete distributions, or [“squeezing” functions](https://en.wikipedia.org/wiki/Rejection_sampling) for univariate distributions, can speed up sampling considerably. How much information should be pre-computed can depend on the number of values we plan to draw from a distribution. Also, some random number generators can have certain properties that various algorithms may want to exploit.\n",
    "\n",
    "The `Random` module defines a customizable framework for obtaining random values that can address these issues. Each invocation of `rand` generates a *sampler* which can be customized with the above trade-offs in mind, by adding methods to `Sampler`, which in turn can dispatch on the random number generator, the object that characterizes the distribution, and a suggestion for the number of repetitions. Currently, for the latter, `Val{1}` (for a single sample) and `Val{Inf}` (for an arbitrary number) are used, with `Random.Repetition` an alias for both.\n",
    "\n",
    "The object returned by `Sampler` is then used to generate the random values. When implementing the random generation interface for a value `X` that can be sampled from, the implementor should define the method"
   ]
  },
  {
   "cell_type": "code",
   "execution_count": null,
   "id": "b3e582c6",
   "metadata": {
    "attributes": {
     "classes": [
      "julia"
     ],
     "id": ""
    }
   },
   "outputs": [],
   "source": [
    "rand(rng, sampler)"
   ]
  },
  {
   "cell_type": "markdown",
   "id": "a9fd5474",
   "metadata": {},
   "source": [
    "for the particular `sampler` returned by `Sampler(rng, X, repetition)`.\n",
    "\n",
    "Samplers can be arbitrary values that implement `rand(rng, sampler)`, but for most applications the following predefined samplers may be sufficient:\n",
    "\n",
    "1. `SamplerType{T}()` can be used for implementing samplers that draw from type `T` (e.g. `rand(Int)`). This is the default returned by `Sampler` for *types*.\n",
    "\n",
    "2. `SamplerTrivial(self)` is a simple wrapper for `self`, which can be accessed with `[]`. This is the recommended sampler when no pre-computed information is needed (e.g. `rand(1:3)`), and is the default returned by `Sampler` for *values*.\n",
    "\n",
    "3. `SamplerSimple(self, data)` also contains the additional `data` field, which can be used to store arbitrary pre-computed values, which should be computed in a *custom method* of `Sampler`.\n",
    "\n",
    "We provide examples for each of these. We assume here that the choice of algorithm is independent of the RNG, so we use `AbstractRNG` in our signatures."
   ]
  },
  {
   "cell_type": "code",
   "execution_count": null,
   "id": "f6c701b6",
   "metadata": {
    "attributes": {
     "classes": [
      "@docs"
     ],
     "id": ""
    }
   },
   "outputs": [],
   "source": [
    "Random.Sampler\n",
    "Random.SamplerType\n",
    "Random.SamplerTrivial\n",
    "Random.SamplerSimple"
   ]
  },
  {
   "cell_type": "markdown",
   "id": "53a4d74f",
   "metadata": {},
   "source": [
    "Decoupling pre-computation from actually generating the values is part of the API, and is also available to the user. As an example, assume that `rand(rng, 1:20)` has to be called repeatedly in a loop: the way to take advantage of this decoupling is as follows:"
   ]
  },
  {
   "cell_type": "code",
   "execution_count": null,
   "id": "0f508b3f",
   "metadata": {
    "attributes": {
     "classes": [
      "julia"
     ],
     "id": ""
    }
   },
   "outputs": [],
   "source": [
    "rng = MersenneTwister()\n",
    "sp = Random.Sampler(rng, 1:20) # or Random.Sampler(MersenneTwister, 1:20)\n",
    "for x in X\n",
    "    n = rand(rng, sp) # similar to n = rand(rng, 1:20)\n",
    "    # use n\n",
    "end"
   ]
  },
  {
   "cell_type": "markdown",
   "id": "de55770d",
   "metadata": {},
   "source": [
    "This is the mechanism that is also used in the standard library, e.g. by the default implementation of random array generation (like in `rand(1:20, 10)`).\n",
    "\n",
    "#### Generating values from a type\n",
    "\n",
    "Given a type `T`, it's currently assumed that if `rand(T)` is defined, an object of type `T` will be produced. `SamplerType` is the *default sampler for types*. In order to define random generation of values of type `T`, the `rand(rng::AbstractRNG, ::Random.SamplerType{T})` method should be defined, and should return values what `rand(rng, T)` is expected to return.\n",
    "\n",
    "Let's take the following example: we implement a `Die` type, with a variable number `n` of sides, numbered from `1` to `n`. We want `rand(Die)` to produce a `Die` with a random number of up to 20 sides (and at least 4):"
   ]
  },
  {
   "cell_type": "code",
   "execution_count": null,
   "id": "23cf2e8f",
   "metadata": {},
   "outputs": [],
   "source": [
    "struct Die\n",
    "    nsides::Int # number of sides\n",
    "end\n",
    "\n",
    "Random.rand(rng::AbstractRNG, ::Random.SamplerType{Die}) = Die(rand(rng, 4:20))\n",
    "\n",
    "# output\n"
   ]
  },
  {
   "cell_type": "markdown",
   "id": "51d32e9e",
   "metadata": {},
   "source": [
    "Scalar and array methods for `Die` now work as expected:"
   ]
  },
  {
   "cell_type": "code",
   "execution_count": null,
   "id": "70fae06d",
   "metadata": {
    "attributes": {
     "": "",
     "classes": [],
     "id": ""
    }
   },
   "outputs": [],
   "source": [
    "julia> rand(Die)\n",
    "Die(10)\n",
    "\n",
    "julia> rand(MersenneTwister(0), Die)\n",
    "Die(16)\n",
    "\n",
    "julia> rand(Die, 3)\n",
    "3-element Array{Die,1}:\n",
    " Die(5)\n",
    " Die(20)\n",
    " Die(9)\n",
    "\n",
    "julia> a = Vector{Die}(undef, 3); rand!(a)\n",
    "3-element Array{Die,1}:\n",
    " Die(11)\n",
    " Die(20)\n",
    " Die(10)"
   ]
  },
  {
   "cell_type": "markdown",
   "id": "bf2a78dc",
   "metadata": {},
   "source": [
    "#### A simple sampler without pre-computed data\n",
    "\n",
    "Here we define a sampler for a collection. If no pre-computed data is required, it can be implemented with a `SamplerTrivial` sampler, which is in fact the *default fallback for values*.\n",
    "\n",
    "In order to define random generation out of objects of type `S`, the following method should be defined: `rand(rng::AbstractRNG, sp::Random.SamplerTrivial{S})`. Here, `sp` simply wraps an object of type `S`, which can be accessed via `sp[]`. Continuing the `Die` example, we want now to define `rand(d::Die)` to produce an `Int` corresponding to one of `d`'s sides:"
   ]
  },
  {
   "cell_type": "code",
   "execution_count": null,
   "id": "21f04d60",
   "metadata": {
    "attributes": {
     "": "",
     "classes": [],
     "id": ""
    }
   },
   "outputs": [],
   "source": [
    "julia> Random.rand(rng::AbstractRNG, d::Random.SamplerTrivial{Die}) = rand(rng, 1:d[].nsides);\n",
    "\n",
    "julia> rand(Die(4))\n",
    "2\n",
    "\n",
    "julia> rand(Die(4), 3)\n",
    "3-element Array{Any,1}:\n",
    " 1\n",
    " 4\n",
    " 2"
   ]
  },
  {
   "cell_type": "markdown",
   "id": "454a1d38",
   "metadata": {},
   "source": [
    "Given a collection type `S`, it's currently assumed that if `rand(::S)` is defined, an object of type `eltype(S)` will be produced. In the last example, a `Vector{Any}` is produced; the reason is that `eltype(Die) == Any`. The remedy is to define `Base.eltype(::Type{Die}) = Int`.\n",
    "\n",
    "#### Generating values for an `AbstractFloat` type\n",
    "\n",
    "`AbstractFloat` types are special-cased, because by default random values are not produced in the whole type domain, but rather in `[0,1)`. The following method should be implemented for `T <: AbstractFloat`: `Random.rand(::AbstractRNG, ::Random.SamplerTrivial{Random.CloseOpen01{T}})`\n",
    "\n",
    "#### An optimized sampler with pre-computed data\n",
    "\n",
    "Consider a discrete distribution, where numbers `1:n` are drawn with given probabilities that sum to one. When many values are needed from this distribution, the fastest method is using an [alias table](https://en.wikipedia.org/wiki/Alias_method). We don't provide the algorithm for building such a table here, but suppose it is available in `make_alias_table(probabilities)` instead, and `draw_number(rng, alias_table)` can be used to draw a random number from it.\n",
    "\n",
    "Suppose that the distribution is described by"
   ]
  },
  {
   "cell_type": "code",
   "execution_count": null,
   "id": "03d8f716",
   "metadata": {
    "attributes": {
     "classes": [
      "julia"
     ],
     "id": ""
    }
   },
   "outputs": [],
   "source": [
    "struct DiscreteDistribution{V <: AbstractVector}\n",
    "    probabilities::V\n",
    "end"
   ]
  },
  {
   "cell_type": "markdown",
   "id": "fd9fd413",
   "metadata": {},
   "source": [
    "and that we *always* want to build an alias table, regardless of the number of values needed (we learn how to customize this below). The methods"
   ]
  },
  {
   "cell_type": "code",
   "execution_count": null,
   "id": "f46dcaec",
   "metadata": {
    "attributes": {
     "classes": [
      "julia"
     ],
     "id": ""
    }
   },
   "outputs": [],
   "source": [
    "Random.eltype(::Type{<:DiscreteDistribution}) = Int\n",
    "\n",
    "function Random.Sampler(::Type{<:AbstractRNG}, distribution::DiscreteDistribution, ::Repetition)\n",
    "    SamplerSimple(disribution, make_alias_table(distribution.probabilities))\n",
    "end"
   ]
  },
  {
   "cell_type": "markdown",
   "id": "173ace7b",
   "metadata": {},
   "source": [
    "should be defined to return a sampler with pre-computed data, then"
   ]
  },
  {
   "cell_type": "code",
   "execution_count": null,
   "id": "466a6073",
   "metadata": {
    "attributes": {
     "classes": [
      "julia"
     ],
     "id": ""
    }
   },
   "outputs": [],
   "source": [
    "function rand(rng::AbstractRNG, sp::SamplerSimple{<:DiscreteDistribution})\n",
    "    draw_number(rng, sp.data)\n",
    "end"
   ]
  },
  {
   "cell_type": "markdown",
   "id": "76bff127",
   "metadata": {},
   "source": [
    "will be used to draw the values.\n",
    "\n",
    "#### Custom sampler types\n",
    "\n",
    "The `SamplerSimple` type is sufficient for most use cases with precomputed data. However, in order to demonstrate how to use custom sampler types, here we implement something similar to `SamplerSimple`.\n",
    "\n",
    "Going back to our `Die` example: `rand(::Die)` uses random generation from a range, so there is an opportunity for this optimization. We call our custom sampler `SamplerDie`."
   ]
  },
  {
   "cell_type": "code",
   "execution_count": null,
   "id": "60de5f65",
   "metadata": {
    "attributes": {
     "classes": [
      "julia"
     ],
     "id": ""
    }
   },
   "outputs": [],
   "source": [
    "import Random: Sampler, rand\n",
    "\n",
    "struct SamplerDie <: Sampler{Int} # generates values of type Int\n",
    "    die::Die\n",
    "    sp::Sampler{Int} # this is an abstract type, so this could be improved\n",
    "end\n",
    "\n",
    "Sampler(RNG::Type{<:AbstractRNG}, die::Die, r::Random.Repetition) =\n",
    "    SamplerDie(die, Sampler(RNG, 1:die.nsides, r))\n",
    "# the `r` parameter will be explained later on\n",
    "\n",
    "rand(rng::AbstractRNG, sp::SamplerDie) = rand(rng, sp.sp)"
   ]
  },
  {
   "cell_type": "markdown",
   "id": "b734be5e",
   "metadata": {},
   "source": [
    "It's now possible to get a sampler with `sp = Sampler(rng, die)`, and use `sp` instead of `die` in any `rand` call involving `rng`. In the simplistic example above, `die` doesn't need to be stored in `SamplerDie` but this is often the case in practice.\n",
    "\n",
    "Of course, this pattern is so frequent that the helper type used above, namely `Random.SamplerSimple`, is available,\n",
    "saving us the definition of `SamplerDie`: we could have implemented our decoupling with:"
   ]
  },
  {
   "cell_type": "code",
   "execution_count": null,
   "id": "0da5eb5e",
   "metadata": {
    "attributes": {
     "classes": [
      "julia"
     ],
     "id": ""
    }
   },
   "outputs": [],
   "source": [
    "Sampler(RNG::Type{<:AbstractRNG}, die::Die, r::Random.Repetition) =\n",
    "    SamplerSimple(die, Sampler(RNG, 1:die.nsides, r))\n",
    "\n",
    "rand(rng::AbstractRNG, sp::SamplerSimple{Die}) = rand(rng, sp.data)"
   ]
  },
  {
   "cell_type": "markdown",
   "id": "dd93577f",
   "metadata": {},
   "source": [
    "Here, `sp.data` refers to the second parameter in the call to the `SamplerSimple` constructor\n",
    "(in this case equal to `Sampler(rng, 1:die.nsides, r)`), while the `Die` object can be accessed\n",
    "via `sp[]`.\n",
    "\n",
    "Like `SamplerDie`, any custom sampler must be a subtype of `Sampler{T}` where `T` is the type\n",
    "of the generated values. Note that `SamplerSimple(x, data) isa Sampler{eltype(x)}`,\n",
    "so this constrains what the first argument to `SamplerSimple` can be\n",
    "(it's recommended to use `SamplerSimple` like in the `Die` example, where\n",
    "`x` is simply forwarded while defining a `Sampler` method).\n",
    "Similarly, `SamplerTrivial(x) isa Sampler{eltype(x)}`.\n",
    "\n",
    "Another helper type is currently available for other cases, `Random.SamplerTag`, but is\n",
    "considered as internal API, and can break at any time without proper deprecations.\n",
    "\n",
    "\n",
    "#### Using distinct algorithms for scalar or array generation\n",
    "\n",
    "In some cases, whether one wants to generate only a handful of values or a large number of values\n",
    "will have an impact on the choice of algorithm. This is handled with the third parameter of the\n",
    "`Sampler` constructor. Let's assume we defined two helper types for `Die`, say `SamplerDie1`\n",
    "which should be used to generate only few random values, and `SamplerDieMany` for many values.\n",
    "We can use those types as follows:"
   ]
  },
  {
   "cell_type": "code",
   "execution_count": null,
   "id": "030c7315",
   "metadata": {
    "attributes": {
     "classes": [
      "julia"
     ],
     "id": ""
    }
   },
   "outputs": [],
   "source": [
    "Sampler(RNG::Type{<:AbstractRNG}, die::Die, ::Val{1}) = SamplerDie1(...)\n",
    "Sampler(RNG::Type{<:AbstractRNG}, die::Die, ::Val{Inf}) = SamplerDieMany(...)"
   ]
  },
  {
   "cell_type": "markdown",
   "id": "06503ce7",
   "metadata": {},
   "source": [
    "Of course, `rand` must also be defined on those types (i.e. `rand(::AbstractRNG, ::SamplerDie1)` and `rand(::AbstractRNG, ::SamplerDieMany)`). Note that, as usual, `SamplerTrivial` and `SamplerSimple` can be used if custom types are not necessary.\n",
    "\n",
    "Note: `Sampler(rng, x)` is simply a shorthand for `Sampler(rng, x, Val(Inf))`, and\n",
    "`Random.Repetition` is an alias for `Union{Val{1}, Val{Inf}}`.\n",
    "\n",
    "\n",
    "### Creating new generators\n",
    "\n",
    "The API is not clearly defined yet, but as a rule of thumb:\n",
    "1) any `rand` method producing \"basic\" types (`isbitstype` integer and floating types in `Base`)\n",
    "   should be defined for this specific RNG, if they are needed;\n",
    "2) other documented `rand` methods accepting an `AbstractRNG` should work out of the box,\n",
    "   (provided the methods from 1) what are relied on are implemented),\n",
    "   but can of course be specialized for this RNG if there is room for optimization;\n",
    "3) `copy` for pseudo-RNGs should return an independent copy that generates the exact same random sequence as the\n",
    "   original from that point when called in the same way. When this is not feasible (e.g. hardware-based RNGs),\n",
    "   `copy` must not be implemented.\n",
    "\n",
    "Concerning 1), a `rand` method may happen to work automatically, but it's not officially\n",
    "supported and may break without warnings in a subsequent release.\n",
    "\n",
    "To define a new `rand` method for an hypothetical `MyRNG` generator, and a value specification `s`\n",
    "(e.g. `s == Int`, or `s == 1:10`) of type `S==typeof(s)` or `S==Type{s}` if `s` is a type,\n",
    "the same two methods as we saw before must be defined:\n",
    "\n",
    "1) `Sampler(::Type{MyRNG}, ::S, ::Repetition)`, which returns an object of type say `SamplerS`\n",
    "2) `rand(rng::MyRNG, sp::SamplerS)`\n",
    "\n",
    "It can happen that `Sampler(rng::AbstractRNG, ::S, ::Repetition)` is\n",
    "already defined in the `Random` module. It would then be possible to\n",
    "skip step 1) in practice (if one wants to specialize generation for\n",
    "this particular RNG type), but the corresponding `SamplerS` type is\n",
    "considered as internal detail, and may be changed without warning.\n",
    "\n",
    "\n",
    "#### Specializing array generation\n",
    "\n",
    "In some cases, for a given RNG type, generating an array of random\n",
    "values can be more efficient with a specialized method than by merely\n",
    "using the decoupling technique explained before. This is for example\n",
    "the case for `MersenneTwister`, which natively writes random values in\n",
    "an array.\n",
    "\n",
    "To implement this specialization for `MyRNG`\n",
    "and for a specification `s`, producing elements of type `S`,\n",
    "the following method can be defined:\n",
    "`rand!(rng::MyRNG, a::AbstractArray{S}, ::SamplerS)`,\n",
    "where `SamplerS` is the type of the sampler returned by `Sampler(MyRNG, s, Val(Inf))`.\n",
    "Instead of `AbstractArray`, it's possible to implement the functionality only for a subtype, e.g. `Array{S}`.\n",
    "The non-mutating array method of `rand` will automatically call this specialization internally."
   ]
  },
  {
   "cell_type": "code",
   "execution_count": null,
   "id": "edcba885",
   "metadata": {
    "attributes": {
     "classes": [
      "@meta"
     ],
     "id": ""
    }
   },
   "outputs": [],
   "source": [
    "DocTestSetup = nothing"
   ]
  },
  {
   "cell_type": "markdown",
   "id": "1abdc814",
   "metadata": {},
   "source": [
    "# Reproducibility\n",
    "\n",
    "By using an RNG parameter initialized with a given seed, you can reproduce the same pseudorandom number sequence when running your program multiple times.  However, a minor release of Julia (e.g. 1.3 to 1.4) *may change* the sequence of pseudorandom numbers generated from a specific seed.  (Even if the sequence produced by a low-level function like [`rand`](@ref) does not change, the output of higher-level functions like [`randsubseq`](@ref) may change due to algorithm updates.)   Rationale: guaranteeing that pseudorandom streams never change prohibits many algorithmic improvements.\n",
    "\n",
    "If you need to guarantee exact reproducibility of random data, it is advisable to simply *save the data* (e.g. as a supplementary attachment in a scientific publication).  (You can also, of course, specify a\n",
    "particular Julia version and package manifest, especially if you require bit reproducibility.)\n",
    "\n",
    "Software tests that rely on *specific* \"random\" data should also generally save the data or embed it into the test code.  On the other hand, tests that should pass for *most* random data (e.g. testing `A \\ (A*x) ≈ x` for a random matrix `A = randn(n,n)`) can use an RNG with a fixed seed to ensure that simply running the test many times does not encounter a failure due to very improbable data (e.g. an extremely ill-conditioned matrix).\n",
    "\n",
    "The statistical *distribution* from which random samples are drawn *is* guaranteed to be the same across any minor Julia releases."
   ]
  }
 ],
 "metadata": {},
 "nbformat": 4,
 "nbformat_minor": 5
}
