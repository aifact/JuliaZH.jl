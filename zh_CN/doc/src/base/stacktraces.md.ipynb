{
 "cells": [
  {
   "cell_type": "markdown",
   "id": "14ea1843",
   "metadata": {},
   "source": [
    "# 堆栈跟踪"
   ]
  },
  {
   "cell_type": "code",
   "execution_count": null,
   "id": "461ad4ad",
   "metadata": {
    "attributes": {
     "classes": [
      "@docs"
     ],
     "id": ""
    }
   },
   "outputs": [],
   "source": [
    "Base.StackTraces.StackFrame\n",
    "Base.StackTraces.StackTrace\n",
    "Base.StackTraces.stacktrace"
   ]
  },
  {
   "cell_type": "markdown",
   "id": "ba84da1d",
   "metadata": {},
   "source": [
    "`Base.StackTraces` 中以下方法和类型不会被导出，需要显式调用，例如 `StackTraces.lookup(ptr)`。"
   ]
  },
  {
   "cell_type": "code",
   "execution_count": null,
   "id": "f1accff9",
   "metadata": {
    "attributes": {
     "classes": [
      "@docs"
     ],
     "id": ""
    }
   },
   "outputs": [],
   "source": [
    "Base.StackTraces.lookup\n",
    "Base.StackTraces.remove_frames!"
   ]
  }
 ],
 "metadata": {},
 "nbformat": 4,
 "nbformat_minor": 5
}
