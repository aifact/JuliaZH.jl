{
 "cells": [
  {
   "cell_type": "markdown",
   "id": "38ed1825",
   "metadata": {},
   "source": [
    "# 堆栈跟踪"
   ]
  },
  {
   "cell_type": "code",
   "execution_count": null,
   "id": "8231a675",
   "metadata": {
    "attributes": {
     "classes": [
      "@docs"
     ],
     "id": ""
    }
   },
   "outputs": [],
   "source": [
    "Base.StackTraces.StackFrame\n",
    "Base.StackTraces.StackTrace\n",
    "Base.StackTraces.stacktrace"
   ]
  },
  {
   "cell_type": "markdown",
   "id": "0e81e78c",
   "metadata": {},
   "source": [
    "`Base.StackTraces` 中以下方法和类型不会被导出，需要显式调用，例如 `StackTraces.lookup(ptr)`。"
   ]
  },
  {
   "cell_type": "code",
   "execution_count": null,
   "id": "96e813a6",
   "metadata": {
    "attributes": {
     "classes": [
      "@docs"
     ],
     "id": ""
    }
   },
   "outputs": [],
   "source": [
    "Base.StackTraces.lookup\n",
    "Base.StackTraces.remove_frames!"
   ]
  }
 ],
 "metadata": {},
 "nbformat": 4,
 "nbformat_minor": 5
}
