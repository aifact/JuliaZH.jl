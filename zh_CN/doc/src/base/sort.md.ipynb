{
 "cells": [
  {
   "cell_type": "markdown",
   "id": "1f9a09a6",
   "metadata": {},
   "source": [
    "# 排序及相关函数\n",
    "\n",
    "Julia 拥有为数众多的灵活的 API，用于对已经排序的值数组进行排序和交互。默认情况下，Julia 会选择合理的算法并按标准升序进行排序："
   ]
  },
  {
   "cell_type": "code",
   "execution_count": null,
   "id": "6a8b4d71",
   "metadata": {
    "attributes": {
     "classes": [
      "jldoctest"
     ],
     "id": ""
    }
   },
   "outputs": [],
   "source": [
    "julia> sort([2,3,1])\n",
    "3-element Array{Int64,1}:\n",
    " 1\n",
    " 2\n",
    " 3"
   ]
  },
  {
   "cell_type": "markdown",
   "id": "a22839bd",
   "metadata": {},
   "source": [
    "你同样可以轻松实现逆序排序："
   ]
  },
  {
   "cell_type": "code",
   "execution_count": null,
   "id": "18e1c00b",
   "metadata": {
    "attributes": {
     "classes": [
      "jldoctest"
     ],
     "id": ""
    }
   },
   "outputs": [],
   "source": [
    "julia> sort([2,3,1], rev=true)\n",
    "3-element Array{Int64,1}:\n",
    " 3\n",
    " 2\n",
    " 1"
   ]
  },
  {
   "cell_type": "markdown",
   "id": "b21d281a",
   "metadata": {},
   "source": [
    "对数组进行 in-place 排序时，要使用 `!` 版的排序函数："
   ]
  },
  {
   "cell_type": "code",
   "execution_count": null,
   "id": "fd235f36",
   "metadata": {
    "attributes": {
     "classes": [
      "jldoctest"
     ],
     "id": ""
    }
   },
   "outputs": [],
   "source": [
    "julia> a = [2,3,1];\n",
    "\n",
    "julia> sort!(a);\n",
    "\n",
    "julia> a\n",
    "3-element Array{Int64,1}:\n",
    " 1\n",
    " 2\n",
    " 3"
   ]
  },
  {
   "cell_type": "markdown",
   "id": "2ecc3fb3",
   "metadata": {},
   "source": [
    "你可以计算用于排列的索引，而不是直接对数组进行排序："
   ]
  },
  {
   "cell_type": "code",
   "execution_count": null,
   "id": "753d0806",
   "metadata": {
    "attributes": {
     "classes": [
      "julia-repl"
     ],
     "id": ""
    }
   },
   "outputs": [],
   "source": [
    "julia> v = randn(5)\n",
    "5-element Array{Float64,1}:\n",
    "  0.297288\n",
    "  0.382396\n",
    " -0.597634\n",
    " -0.0104452\n",
    " -0.839027\n",
    "\n",
    "julia> p = sortperm(v)\n",
    "5-element Array{Int64,1}:\n",
    " 5\n",
    " 3\n",
    " 4\n",
    " 1\n",
    " 2\n",
    "\n",
    "julia> v[p]\n",
    "5-element Array{Float64,1}:\n",
    " -0.839027\n",
    " -0.597634\n",
    " -0.0104452\n",
    "  0.297288\n",
    "  0.382396"
   ]
  },
  {
   "cell_type": "markdown",
   "id": "493de5ec",
   "metadata": {},
   "source": [
    "数组可以根据对其值任意的转换结果来进行排序；"
   ]
  },
  {
   "cell_type": "code",
   "execution_count": null,
   "id": "fe79673c",
   "metadata": {
    "attributes": {
     "classes": [
      "julia-repl"
     ],
     "id": ""
    }
   },
   "outputs": [],
   "source": [
    "julia> sort(v, by=abs)\n",
    "5-element Array{Float64,1}:\n",
    " -0.0104452\n",
    "  0.297288\n",
    "  0.382396\n",
    " -0.597634\n",
    " -0.839027"
   ]
  },
  {
   "cell_type": "markdown",
   "id": "8b0f7936",
   "metadata": {},
   "source": [
    "或者通过转换来进行逆序排序"
   ]
  },
  {
   "cell_type": "code",
   "execution_count": null,
   "id": "9f8c8270",
   "metadata": {
    "attributes": {
     "classes": [
      "julia-repl"
     ],
     "id": ""
    }
   },
   "outputs": [],
   "source": [
    "julia> sort(v, by=abs, rev=true)\n",
    "5-element Array{Float64,1}:\n",
    " -0.839027\n",
    " -0.597634\n",
    "  0.382396\n",
    "  0.297288\n",
    " -0.0104452"
   ]
  },
  {
   "cell_type": "markdown",
   "id": "b110851a",
   "metadata": {},
   "source": [
    "如有必要，可以选择排序算法："
   ]
  },
  {
   "cell_type": "code",
   "execution_count": null,
   "id": "8fd0fb90",
   "metadata": {
    "attributes": {
     "classes": [
      "julia-repl"
     ],
     "id": ""
    }
   },
   "outputs": [],
   "source": [
    "julia> sort(v, alg=InsertionSort)\n",
    "5-element Array{Float64,1}:\n",
    " -0.839027\n",
    " -0.597634\n",
    " -0.0104452\n",
    "  0.297288\n",
    "  0.382396"
   ]
  },
  {
   "cell_type": "markdown",
   "id": "ce71237d",
   "metadata": {},
   "source": [
    "所有与排序和顺序相关的函数依赖于“小于”关系，该关系定义了要操纵的值的总顺序。默认情况下会调用 `isless` 函数，但可以通过 `lt` 关键字指定关系。\n",
    "\n",
    "## 排序函数"
   ]
  },
  {
   "cell_type": "code",
   "execution_count": null,
   "id": "ac186458",
   "metadata": {
    "attributes": {
     "classes": [
      "@docs"
     ],
     "id": ""
    }
   },
   "outputs": [],
   "source": [
    "Base.sort!\n",
    "Base.sort\n",
    "Base.sortperm\n",
    "Base.InsertionSort\n",
    "Base.MergeSort\n",
    "Base.QuickSort\n",
    "Base.PartialQuickSort\n",
    "Base.Sort.sortperm!\n",
    "Base.Sort.sortslices"
   ]
  },
  {
   "cell_type": "markdown",
   "id": "96c3e016",
   "metadata": {},
   "source": [
    "## 排列顺序相关的函数"
   ]
  },
  {
   "cell_type": "code",
   "execution_count": null,
   "id": "a630512c",
   "metadata": {
    "attributes": {
     "classes": [
      "@docs"
     ],
     "id": ""
    }
   },
   "outputs": [],
   "source": [
    "Base.issorted\n",
    "Base.Sort.searchsorted\n",
    "Base.Sort.searchsortedfirst\n",
    "Base.Sort.searchsortedlast\n",
    "Base.Sort.partialsort!\n",
    "Base.Sort.partialsort\n",
    "Base.Sort.partialsortperm\n",
    "Base.Sort.partialsortperm!"
   ]
  },
  {
   "cell_type": "markdown",
   "id": "00719939",
   "metadata": {},
   "source": [
    "## 排序算法\n",
    "\n",
    "目前，Julia Base 中有四种可用的排序算法：\n",
    "\n",
    "  * [`InsertionSort`](@ref)\n",
    "  * [`QuickSort`](@ref)\n",
    "  * [`PartialQuickSort(k)`](@ref)\n",
    "  * [`MergeSort`](@ref)\n",
    "\n",
    "`InsertionSort` 是一个在 `QuickSort` 中使用的时间复杂度为 O(n^2) 的稳定的排序算法，它通常在 `n` 比较小的时候才具有较高的效率。\n",
    "\n",
    "`QuickSort` 是一个内置并且非常快，但是不稳定的时间复杂度为 O(n log n）的排序算法，例如即使数组两个元素相等的，它们排序之后的顺序也可能和在原数组中顺序不一致。`QuickSort` 是内置的包括整数和浮点数在内的数字值的默认排序算法。\n",
    "\n",
    "`PartialQuickSort(k)` 类似于 `QuickSort`，但是如果 `k` 是一个整数，输出数组只排序到索引 `k`，如果 `k` 是 `OrdinalRange`，则输出数组排在 `k` 范围内。 例如："
   ]
  },
  {
   "cell_type": "code",
   "execution_count": null,
   "id": "7da38f3d",
   "metadata": {
    "attributes": {
     "classes": [
      "julia"
     ],
     "id": ""
    }
   },
   "outputs": [],
   "source": [
    "x = rand(1:500, 100)\n",
    "k = 50\n",
    "k2 = 50:100\n",
    "s = sort(x; alg=QuickSort)\n",
    "ps = sort(x; alg=PartialQuickSort(k))\n",
    "qs = sort(x; alg=PartialQuickSort(k2))\n",
    "map(issorted, (s, ps, qs))             # => (true, false, false)\n",
    "map(x->issorted(x[1:k]), (s, ps, qs))  # => (true, true, false)\n",
    "map(x->issorted(x[k2]), (s, ps, qs))   # => (true, false, true)\n",
    "s[1:k] == ps[1:k]                      # => true\n",
    "s[k2] == qs[k2]                        # => true"
   ]
  },
  {
   "cell_type": "markdown",
   "id": "6cfa49d2",
   "metadata": {},
   "source": [
    "`MergeSort` 是一个时间复杂度为 O(n log n) 的稳定但是非 in-place 的算法，它需要一个大小为输入数组一般的临时数组——同时也不像 `QuickSort` 一样快。`MergeSort` 是非数值型数据的默认排序算法。\n",
    "\n",
    "默认排序算法的选择是基于它们的快速稳定，或者 *appear* 之类的。对于数值类型，实际上选择了 `QuickSort`，因为在这种情况下，它更快，与稳定排序没有区别(除非数组以某种方式记录了突变)\n",
    "\n",
    "Julia选择默认排序算法的机制是通过 `Base.Sort.defalg` 来实现的，其允许将特定算法注册为特定数组的所有排序函数中的默认值。例如，这有两个默认算法 [`sort.jl`](https://github.com/JuliaLang/julia/blob/master/base/sort.jl):"
   ]
  },
  {
   "cell_type": "code",
   "execution_count": null,
   "id": "da254984",
   "metadata": {
    "attributes": {
     "classes": [
      "julia"
     ],
     "id": ""
    }
   },
   "outputs": [],
   "source": [
    "defalg(v::AbstractArray) = MergeSort\n",
    "defalg(v::AbstractArray{<:Number}) = QuickSort"
   ]
  },
  {
   "cell_type": "markdown",
   "id": "9d6f179a",
   "metadata": {},
   "source": [
    "对于数值型数组，选择非稳定的默认排序算法的原则是稳定的排序算法没有必要的（例如：但两个值相比较时相等且不可区分时）。"
   ]
  }
 ],
 "metadata": {},
 "nbformat": 4,
 "nbformat_minor": 5
}
