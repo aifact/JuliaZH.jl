{
 "cells": [
  {
   "cell_type": "markdown",
   "id": "6eb47350",
   "metadata": {},
   "source": [
    "# Tasks"
   ]
  },
  {
   "cell_type": "code",
   "execution_count": null,
   "id": "45dee8be",
   "metadata": {
    "attributes": {
     "classes": [
      "@docs"
     ],
     "id": ""
    }
   },
   "outputs": [],
   "source": [
    "Core.Task\n",
    "Base.@task\n",
    "Base.@async\n",
    "Base.asyncmap\n",
    "Base.asyncmap!\n",
    "Base.current_task\n",
    "Base.istaskdone\n",
    "Base.istaskstarted\n",
    "Base.istaskfailed\n",
    "Base.task_local_storage(::Any)\n",
    "Base.task_local_storage(::Any, ::Any)\n",
    "Base.task_local_storage(::Function, ::Any, ::Any)"
   ]
  },
  {
   "cell_type": "markdown",
   "id": "a4780788",
   "metadata": {},
   "source": [
    "## Scheduling"
   ]
  },
  {
   "cell_type": "code",
   "execution_count": null,
   "id": "4ee00075",
   "metadata": {
    "attributes": {
     "classes": [
      "@docs"
     ],
     "id": ""
    }
   },
   "outputs": [],
   "source": [
    "Base.yield\n",
    "Base.yieldto\n",
    "Base.sleep\n",
    "Base.schedule"
   ]
  },
  {
   "cell_type": "markdown",
   "id": "a8e356bf",
   "metadata": {},
   "source": [
    "## [Synchronization](@id lib-task-sync)"
   ]
  },
  {
   "cell_type": "code",
   "execution_count": null,
   "id": "2940612c",
   "metadata": {
    "attributes": {
     "classes": [
      "@docs"
     ],
     "id": ""
    }
   },
   "outputs": [],
   "source": [
    "Base.@sync\n",
    "Base.wait\n",
    "Base.fetch(t::Task)\n",
    "Base.timedwait\n",
    "\n",
    "Base.Condition\n",
    "Base.notify\n",
    "\n",
    "Base.Semaphore\n",
    "Base.acquire\n",
    "Base.release\n",
    "\n",
    "Base.AbstractLock\n",
    "Base.lock\n",
    "Base.unlock\n",
    "Base.trylock\n",
    "Base.islocked\n",
    "Base.ReentrantLock"
   ]
  },
  {
   "cell_type": "markdown",
   "id": "e077f0fa",
   "metadata": {},
   "source": [
    "## Channels"
   ]
  },
  {
   "cell_type": "code",
   "execution_count": null,
   "id": "a3b9910f",
   "metadata": {
    "attributes": {
     "classes": [
      "@docs"
     ],
     "id": ""
    }
   },
   "outputs": [],
   "source": [
    "Base.Channel\n",
    "Base.Channel(::Function)\n",
    "Base.put!(::Channel, ::Any)\n",
    "Base.take!(::Channel)\n",
    "Base.isready(::Channel)\n",
    "Base.fetch(::Channel)\n",
    "Base.close(::Channel)\n",
    "Base.bind(c::Channel, task::Task)"
   ]
  }
 ],
 "metadata": {},
 "nbformat": 4,
 "nbformat_minor": 5
}
