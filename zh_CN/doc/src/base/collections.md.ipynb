{
 "cells": [
  {
   "cell_type": "markdown",
   "id": "3b898cbd",
   "metadata": {},
   "source": [
    "# 集合和数据结构\n",
    "\n",
    "## [迭代](@id lib-collections-iteration)\n",
    "\n",
    "序列迭代由 [`iterate`](@ref) 实现\n",
    "广义的 `for` 循环"
   ]
  },
  {
   "cell_type": "code",
   "execution_count": null,
   "id": "176c7768",
   "metadata": {
    "attributes": {
     "classes": [
      "julia"
     ],
     "id": ""
    }
   },
   "outputs": [],
   "source": [
    "for i in iter   # or  \"for i = iter\"\n",
    "    # body\n",
    "end"
   ]
  },
  {
   "cell_type": "markdown",
   "id": "2214d874",
   "metadata": {},
   "source": [
    "被转换成"
   ]
  },
  {
   "cell_type": "code",
   "execution_count": null,
   "id": "faa6f221",
   "metadata": {
    "attributes": {
     "classes": [
      "julia"
     ],
     "id": ""
    }
   },
   "outputs": [],
   "source": [
    "next = iterate(iter)\n",
    "while next !== nothing\n",
    "    (i, state) = next\n",
    "    # body\n",
    "    next = iterate(iter, state)\n",
    "end"
   ]
  },
  {
   "cell_type": "markdown",
   "id": "ed3e6b2c",
   "metadata": {},
   "source": [
    "`state` 对象可以是任何对象，并且对于每个可迭代类型应该选择合适的 `state` 对象。\n",
    "请参照 [帮助文档接口的迭代小节](@ref man-interface-iteration) 来获取关于定义一个常见迭代类型的更多细节。"
   ]
  },
  {
   "cell_type": "code",
   "execution_count": null,
   "id": "a1c8043c",
   "metadata": {
    "attributes": {
     "classes": [
      "@docs"
     ],
     "id": ""
    }
   },
   "outputs": [],
   "source": [
    "Base.iterate\n",
    "Base.IteratorSize\n",
    "Base.IteratorEltype"
   ]
  },
  {
   "cell_type": "markdown",
   "id": "ba04e47c",
   "metadata": {},
   "source": [
    "以下类型均完全实现了上述函数：\n",
    "\n",
    "  * [`AbstractRange`](@ref)\n",
    "  * [`UnitRange`](@ref)\n",
    "  * `Tuple`\n",
    "  * `Number`\n",
    "  * [`AbstractArray`](@ref)\n",
    "  * [`BitSet`](@ref)\n",
    "  * [`IdDict`](@ref)\n",
    "  * [`Dict`](@ref)\n",
    "  * [`WeakKeyDict`](@ref)\n",
    "  * `EachLine`\n",
    "  * `AbstractString`\n",
    "  * [`Set`](@ref)\n",
    "  * [`Pair`](@ref)\n",
    "  * [`NamedTuple`](@ref)\n",
    "\n",
    "## 构造函数和类型"
   ]
  },
  {
   "cell_type": "code",
   "execution_count": null,
   "id": "e3b9b7b0",
   "metadata": {
    "attributes": {
     "classes": [
      "@docs"
     ],
     "id": ""
    }
   },
   "outputs": [],
   "source": [
    "Base.AbstractRange\n",
    "Base.OrdinalRange\n",
    "Base.AbstractUnitRange\n",
    "Base.StepRange\n",
    "Base.UnitRange\n",
    "Base.LinRange"
   ]
  },
  {
   "cell_type": "markdown",
   "id": "247b7071",
   "metadata": {},
   "source": [
    "## 通用集合"
   ]
  },
  {
   "cell_type": "code",
   "execution_count": null,
   "id": "67bff284",
   "metadata": {
    "attributes": {
     "classes": [
      "@docs"
     ],
     "id": ""
    }
   },
   "outputs": [],
   "source": [
    "Base.isempty\n",
    "Base.empty!\n",
    "Base.length"
   ]
  },
  {
   "cell_type": "markdown",
   "id": "2921a479",
   "metadata": {},
   "source": [
    "以下类型均完全实现了上述函数：\n",
    "\n",
    "  * [`AbstractRange`](@ref)\n",
    "  * [`UnitRange`](@ref)\n",
    "  * `Tuple`\n",
    "  * `Number`\n",
    "  * [`AbstractArray`](@ref)\n",
    "  * [`BitSet`](@ref)\n",
    "  * [`IdDict`](@ref)\n",
    "  * [`Dict`](@ref)\n",
    "  * [`WeakKeyDict`](@ref)\n",
    "  * `AbstractString`\n",
    "  * [`Set`](@ref)\n",
    "  * [`NamedTuple`](@ref)\n",
    "\n",
    "## 可迭代集合"
   ]
  },
  {
   "cell_type": "code",
   "execution_count": null,
   "id": "12f5503d",
   "metadata": {
    "attributes": {
     "classes": [
      "@docs"
     ],
     "id": ""
    }
   },
   "outputs": [],
   "source": [
    "Base.in\n",
    "Base.:∉\n",
    "Base.eltype\n",
    "Base.indexin\n",
    "Base.unique\n",
    "Base.unique!\n",
    "Base.allunique\n",
    "Base.reduce(::Any, ::Any)\n",
    "Base.foldl(::Any, ::Any)\n",
    "Base.foldr(::Any, ::Any)\n",
    "Base.maximum\n",
    "Base.maximum!\n",
    "Base.minimum\n",
    "Base.minimum!\n",
    "Base.extrema\n",
    "Base.argmax\n",
    "Base.argmin\n",
    "Base.findmax\n",
    "Base.findmin\n",
    "Base.findmax!\n",
    "Base.findmin!\n",
    "Base.sum\n",
    "Base.sum!\n",
    "Base.prod\n",
    "Base.prod!\n",
    "Base.any(::Any)\n",
    "Base.any(::AbstractArray, ::Any)\n",
    "Base.any!\n",
    "Base.all(::Any)\n",
    "Base.all(::AbstractArray, ::Any)\n",
    "Base.all!\n",
    "Base.count\n",
    "Base.any(::Any, ::Any)\n",
    "Base.all(::Any, ::Any)\n",
    "Base.foreach\n",
    "Base.map\n",
    "Base.map!\n",
    "Base.mapreduce(::Any, ::Any, ::Any)\n",
    "Base.mapfoldl(::Any, ::Any, ::Any)\n",
    "Base.mapfoldr(::Any, ::Any, ::Any)\n",
    "Base.first\n",
    "Base.last\n",
    "Base.front\n",
    "Base.tail\n",
    "Base.step\n",
    "Base.collect(::Any)\n",
    "Base.collect(::Type, ::Any)\n",
    "Base.filter\n",
    "Base.filter!\n",
    "Base.replace(::Any, ::Pair...)\n",
    "Base.replace(::Base.Callable, ::Any)\n",
    "Base.replace!"
   ]
  },
  {
   "cell_type": "markdown",
   "id": "8ae5d513",
   "metadata": {},
   "source": [
    "## 可索引集合"
   ]
  },
  {
   "cell_type": "code",
   "execution_count": null,
   "id": "de8c65cd",
   "metadata": {
    "attributes": {
     "classes": [
      "@docs"
     ],
     "id": ""
    }
   },
   "outputs": [],
   "source": [
    "Base.getindex\n",
    "Base.setindex!\n",
    "Base.firstindex\n",
    "Base.lastindex"
   ]
  },
  {
   "cell_type": "markdown",
   "id": "36ff3385",
   "metadata": {},
   "source": [
    "以下类型均完全实现了上述函数：\n",
    "\n",
    "  * [`Array`](@ref)\n",
    "  * [`BitArray`](@ref)\n",
    "  * [`AbstractArray`](@ref)\n",
    "  * `SubArray`\n",
    "\n",
    "以下类型仅实现了部分上述函数：\n",
    "\n",
    "  * [`AbstractRange`](@ref)\n",
    "  * [`UnitRange`](@ref)\n",
    "  * `Tuple`\n",
    "  * `AbstractString`\n",
    "  * [`Dict`](@ref)\n",
    "  * [`IdDict`](@ref)\n",
    "  * [`WeakKeyDict`](@ref)\n",
    "  * [`NamedTuple`](@ref)\n",
    "\n",
    "## 字典\n",
    "\n",
    "[`Dict`](@ref) 是一个标准字典。其实现利用了 [`hash`](@ref) 作为键的哈希函数和 [`isequal`](@ref) 来决定是否相等。对于自定义类型，可以定义这两个函数来重载它们在哈希表内的存储方式。\n",
    "\n",
    "[`IdDict`](@ref) 是一种特殊的哈希表，在里面键始终是对象标识符。\n",
    "\n",
    "[`WeakKeyDict`](@ref) 是一个哈希表的实现，里面键是对象的弱引用，\n",
    "所以即使键在哈希表中被引用也有可能被垃圾回收。\n",
    "它像 `Dict` 一样使用 `hash` 来做哈希和 `isequal` 来做相等判断，\n",
    "但是它不会在插入时转换键，这点不像 `Dict`。\n",
    "\n",
    "[`Dict`](@ref)s 可以由传递含有 `=>` 的成对对象给 [`Dict`](@ref) 的构造函数来被创建：`Dict(\"A\"=>1, \"B\"=>2)`。\n",
    "这个调用会尝试从键值对中推到类型信息（比如这个例子创造了一个 `Dict{String, Int64}`）。\n",
    "为了显式指定类型，请使用语法 `Dict{KeyType,ValueType}(...)`。例如：`Dict{String,Int32}(\"A\"=>1, \"B\"=>2)`。\n",
    "\n",
    "字典也可以用生成器创建。例如：`Dict(i => f(i) for i = 1:10)`。\n",
    "\n",
    "对于字典 `D`，若键 `x` 的值存在，则语法 `D[x]` 返回 `x` 的值；否则抛出一个错误。\n",
    "`D[x] = y` 存储键值对 `x => y` 到 `D` 中，会覆盖键 `x` 的已有的值。\n",
    "多个参数传入`D[...]` 会被转化成元组；\n",
    "例如：语法 `D[x,y]` 等于 `D[(x,y)]`，也就是说，它指向键为元组 `(x,y)` 的值。"
   ]
  },
  {
   "cell_type": "code",
   "execution_count": null,
   "id": "d112d942",
   "metadata": {
    "attributes": {
     "classes": [
      "@docs"
     ],
     "id": ""
    }
   },
   "outputs": [],
   "source": [
    "Base.AbstractDict\n",
    "Base.Dict\n",
    "Base.IdDict\n",
    "Base.WeakKeyDict\n",
    "Base.ImmutableDict\n",
    "Base.haskey\n",
    "Base.get(::Any, ::Any, ::Any)\n",
    "Base.get\n",
    "Base.get!(::Any, ::Any, ::Any)\n",
    "Base.get!(::Function, ::Any, ::Any)\n",
    "Base.getkey\n",
    "Base.delete!\n",
    "Base.pop!(::Any, ::Any, ::Any)\n",
    "Base.keys\n",
    "Base.values\n",
    "Base.pairs\n",
    "Base.merge\n",
    "Base.mergewith\n",
    "Base.merge!\n",
    "Base.mergewith!\n",
    "Base.sizehint!\n",
    "Base.keytype\n",
    "Base.valtype"
   ]
  },
  {
   "cell_type": "markdown",
   "id": "beb8bd68",
   "metadata": {},
   "source": [
    "以下类型均完全实现了上述函数：\n",
    "\n",
    "  * [`IdDict`](@ref)\n",
    "  * [`Dict`](@ref)\n",
    "  * [`WeakKeyDict`](@ref)\n",
    "\n",
    "以下类型仅实现了部分上述函数：\n",
    "\n",
    "  * [`BitSet`](@ref)\n",
    "  * [`Set`](@ref)\n",
    "  * [`EnvDict`](@ref Base.EnvDict)\n",
    "  * [`Array`](@ref)\n",
    "  * [`BitArray`](@ref)\n",
    "  * [`ImmutableDict`](@ref Base.ImmutableDict)\n",
    "  * [`Iterators.Pairs`](@ref)\n",
    "\n",
    "## 类似 Set 的集合"
   ]
  },
  {
   "cell_type": "code",
   "execution_count": null,
   "id": "75d4813b",
   "metadata": {
    "attributes": {
     "classes": [
      "@docs"
     ],
     "id": ""
    }
   },
   "outputs": [],
   "source": [
    "Base.AbstractSet\n",
    "Base.Set\n",
    "Base.BitSet\n",
    "Base.union\n",
    "Base.union!\n",
    "Base.intersect\n",
    "Base.setdiff\n",
    "Base.setdiff!\n",
    "Base.symdiff\n",
    "Base.symdiff!\n",
    "Base.intersect!\n",
    "Base.issubset\n",
    "Base.:⊈\n",
    "Base.:⊊\n",
    "Base.issetequal\n",
    "Base.isdisjoint"
   ]
  },
  {
   "cell_type": "markdown",
   "id": "42d4c8a2",
   "metadata": {},
   "source": [
    "以下类型均完全实现了上述函数：\n",
    "\n",
    "  * [`BitSet`](@ref)\n",
    "  * [`Set`](@ref)\n",
    "\n",
    "以下类型仅实现了部分上述函数：\n",
    "\n",
    "  * [`Array`](@ref)\n",
    "\n",
    "## 双端队列"
   ]
  },
  {
   "cell_type": "code",
   "execution_count": null,
   "id": "390bcdd9",
   "metadata": {
    "attributes": {
     "classes": [
      "@docs"
     ],
     "id": ""
    }
   },
   "outputs": [],
   "source": [
    "Base.push!\n",
    "Base.pop!\n",
    "Base.popat!\n",
    "Base.pushfirst!\n",
    "Base.popfirst!\n",
    "Base.insert!\n",
    "Base.deleteat!\n",
    "Base.splice!\n",
    "Base.resize!\n",
    "Base.append!\n",
    "Base.prepend!"
   ]
  },
  {
   "cell_type": "markdown",
   "id": "82d672a5",
   "metadata": {},
   "source": [
    "以下类型均完全实现了上述函数：\n",
    "\n",
    "  * `Vector` (a.k.a. 1-dimensional [`Array`](@ref))\n",
    "  * `BitVector` (a.k.a. 1-dimensional [`BitArray`](@ref))\n",
    "\n",
    "## 集合相关的实用工具"
   ]
  },
  {
   "cell_type": "code",
   "execution_count": null,
   "id": "0e02b8e3",
   "metadata": {
    "attributes": {
     "classes": [
      "@docs"
     ],
     "id": ""
    }
   },
   "outputs": [],
   "source": [
    "Base.Pair\n",
    "Iterators.Pairs"
   ]
  }
 ],
 "metadata": {},
 "nbformat": 4,
 "nbformat_minor": 5
}
