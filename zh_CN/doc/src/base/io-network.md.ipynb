{
 "cells": [
  {
   "cell_type": "markdown",
   "id": "3ca1ad2b",
   "metadata": {},
   "source": [
    "# I/O 与网络\n",
    "\n",
    "## 通用 I/O"
   ]
  },
  {
   "cell_type": "code",
   "execution_count": null,
   "id": "4222ec43",
   "metadata": {
    "attributes": {
     "classes": [
      "@docs"
     ],
     "id": ""
    }
   },
   "outputs": [],
   "source": [
    "Base.stdout\n",
    "Base.stderr\n",
    "Base.stdin\n",
    "Base.open\n",
    "Base.IOStream\n",
    "Base.IOBuffer\n",
    "Base.take!(::Base.GenericIOBuffer)\n",
    "Base.fdio\n",
    "Base.flush\n",
    "Base.close\n",
    "Base.write\n",
    "Base.read\n",
    "Base.read!\n",
    "Base.readbytes!\n",
    "Base.unsafe_read\n",
    "Base.unsafe_write\n",
    "Base.peek\n",
    "Base.position\n",
    "Base.seek\n",
    "Base.seekstart\n",
    "Base.seekend\n",
    "Base.skip\n",
    "Base.mark\n",
    "Base.unmark\n",
    "Base.reset\n",
    "Base.ismarked\n",
    "Base.eof\n",
    "Base.isreadonly\n",
    "Base.iswritable\n",
    "Base.isreadable\n",
    "Base.isopen\n",
    "Base.fd\n",
    "Base.redirect_stdout\n",
    "Base.redirect_stdout(::Function, ::Any)\n",
    "Base.redirect_stderr\n",
    "Base.redirect_stderr(::Function, ::Any)\n",
    "Base.redirect_stdin\n",
    "Base.redirect_stdin(::Function, ::Any)\n",
    "Base.readchomp\n",
    "Base.truncate\n",
    "Base.skipchars\n",
    "Base.countlines\n",
    "Base.PipeBuffer\n",
    "Base.readavailable\n",
    "Base.IOContext\n",
    "Base.IOContext(::IO, ::Pair)\n",
    "Base.IOContext(::IO, ::IOContext)"
   ]
  },
  {
   "cell_type": "markdown",
   "id": "b7906c1c",
   "metadata": {},
   "source": [
    "## 文本 I/O"
   ]
  },
  {
   "cell_type": "code",
   "execution_count": null,
   "id": "a5b217b3",
   "metadata": {
    "attributes": {
     "classes": [
      "@docs"
     ],
     "id": ""
    }
   },
   "outputs": [],
   "source": [
    "Base.show(::IO, ::Any)\n",
    "Base.summary\n",
    "Base.print\n",
    "Base.println\n",
    "Base.printstyled\n",
    "Base.sprint\n",
    "Base.showerror\n",
    "Base.dump\n",
    "Meta.@dump\n",
    "Base.readline\n",
    "Base.readuntil\n",
    "Base.readlines\n",
    "Base.eachline\n",
    "Base.displaysize"
   ]
  },
  {
   "cell_type": "markdown",
   "id": "23bba05f",
   "metadata": {},
   "source": [
    "## 多媒体 I/O\n",
    "\n",
    "就像文本输出用 [`print`](@ref) 实现，用户自定义类型可以通过重载 [`show`](@ref) 来指定其文本化表示，\n",
    "Julia 提供了一个应用于富多媒体输出的标准化机制\n",
    "（例如图片、格式化文本、甚至音频和视频），由以下三部分组成：\n",
    "\n",
    "  * 函数 [`display(x)`](@ref) 来请求一个 Julia 对象 `x` 最丰富的多媒体展示，并以纯文本作为后备模式。\n",
    "     \n",
    "  * 重载 [`show`](@ref) 允许指定用户自定义类型的任意多媒体表现形式（以标准MIME类型为键值）。\n",
    "     \n",
    "  * Multimedia-capable display backends may be registered by subclassing a generic [`AbstractDisplay`](@ref) type\n",
    "    并通过 [`pushdisplay`](@ref) 将其压进显示后端的栈中。\n",
    "\n",
    "基础 Julia 运行环境只提供纯文本显示，\n",
    "但是更富的显示可以通过加载外部模块或者使用图形化 Julia 环境\n",
    "（比如基于 IPython 的 IJulia notebook）来实现。"
   ]
  },
  {
   "cell_type": "code",
   "execution_count": null,
   "id": "16cc8337",
   "metadata": {
    "attributes": {
     "classes": [
      "@docs"
     ],
     "id": ""
    }
   },
   "outputs": [],
   "source": [
    "Base.AbstractDisplay\n",
    "Base.Multimedia.display\n",
    "Base.Multimedia.redisplay\n",
    "Base.Multimedia.displayable\n",
    "Base.show(::IO, ::Any, ::Any)\n",
    "Base.Multimedia.showable\n",
    "Base.repr(::MIME, ::Any)\n",
    "Base.MIME\n",
    "Base.@MIME_str"
   ]
  },
  {
   "cell_type": "markdown",
   "id": "3805d5f3",
   "metadata": {},
   "source": [
    "如上面提到的，用户可以定义新的显示后端。\n",
    "例如，可以在窗口显示 PNG 图片的模块可以在 Julia 中注册这个能力，\n",
    "以便为有 PNG 表示的类型调用 [`display(x)`](@ref) 时可以在模块窗口中自动显示图片。\n",
    "\n",
    "In order to define a new display backend, one should first create a subtype `D` of the abstract\n",
    "class [`AbstractDisplay`](@ref).  Then, for each MIME type (`mime` string) that can be displayed on `D`, one should\n",
    "define a function `display(d::D, ::MIME\"mime\", x) = ...` that displays `x` as that MIME type,\n",
    "usually by calling [`show(io, mime, x)`](@ref) or [`repr(io, mime, x)`](@ref).\n",
    "A [`MethodError`](@ref) should be thrown if `x` cannot be displayed\n",
    "as that MIME type; this is automatic if one calls `show` or `repr`. Finally, one should define a function\n",
    "`display(d::D, x)` that queries [`showable(mime, x)`](@ref) for the `mime` types supported by `D`\n",
    "and displays the \"best\" one; a `MethodError` should be thrown if no supported MIME types are found\n",
    "for `x`.  Similarly, some subtypes may wish to override [`redisplay(d::D, ...)`](@ref Base.Multimedia.redisplay). (Again, one should\n",
    "`import Base.display` to add new methods to `display`.) The return values of these functions are\n",
    "up to the implementation (since in some cases it may be useful to return a display \"handle\" of\n",
    "some type).  The display functions for `D` can then be called directly, but they can also be invoked\n",
    "automatically from [`display(x)`](@ref) simply by pushing a new display onto the display-backend stack\n",
    "with:"
   ]
  },
  {
   "cell_type": "code",
   "execution_count": null,
   "id": "910928bf",
   "metadata": {
    "attributes": {
     "classes": [
      "@docs"
     ],
     "id": ""
    }
   },
   "outputs": [],
   "source": [
    "Base.Multimedia.pushdisplay\n",
    "Base.Multimedia.popdisplay\n",
    "Base.Multimedia.TextDisplay\n",
    "Base.Multimedia.istextmime"
   ]
  },
  {
   "cell_type": "markdown",
   "id": "78b75375",
   "metadata": {},
   "source": [
    "## 网络 I/O"
   ]
  },
  {
   "cell_type": "code",
   "execution_count": null,
   "id": "37d3073c",
   "metadata": {
    "attributes": {
     "classes": [
      "@docs"
     ],
     "id": ""
    }
   },
   "outputs": [],
   "source": [
    "Base.bytesavailable\n",
    "Base.ntoh\n",
    "Base.hton\n",
    "Base.ltoh\n",
    "Base.htol\n",
    "Base.ENDIAN_BOM"
   ]
  }
 ],
 "metadata": {},
 "nbformat": 4,
 "nbformat_minor": 5
}
