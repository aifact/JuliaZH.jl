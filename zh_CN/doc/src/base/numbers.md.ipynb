{
 "cells": [
  {
   "cell_type": "markdown",
   "id": "f0cff595",
   "metadata": {},
   "source": [
    "# [Numbers](@id lib-numbers)\n",
    "\n",
    "## 标准数值类型\n",
    "\n",
    "### 抽象数值类型"
   ]
  },
  {
   "cell_type": "code",
   "execution_count": null,
   "id": "143df65c",
   "metadata": {
    "attributes": {
     "classes": [
      "@docs"
     ],
     "id": ""
    }
   },
   "outputs": [],
   "source": [
    "Core.Number\n",
    "Core.Real\n",
    "Core.AbstractFloat\n",
    "Core.Integer\n",
    "Core.Signed\n",
    "Core.Unsigned\n",
    "Base.AbstractIrrational"
   ]
  },
  {
   "cell_type": "markdown",
   "id": "e15bb43c",
   "metadata": {},
   "source": [
    "### 具象数值类型"
   ]
  },
  {
   "cell_type": "code",
   "execution_count": null,
   "id": "c5534a6a",
   "metadata": {
    "attributes": {
     "classes": [
      "@docs"
     ],
     "id": ""
    }
   },
   "outputs": [],
   "source": [
    "Core.Float16\n",
    "Core.Float32\n",
    "Core.Float64\n",
    "Base.BigFloat\n",
    "Core.Bool\n",
    "Core.Int8\n",
    "Core.UInt8\n",
    "Core.Int16\n",
    "Core.UInt16\n",
    "Core.Int32\n",
    "Core.UInt32\n",
    "Core.Int64\n",
    "Core.UInt64\n",
    "Core.Int128\n",
    "Core.UInt128\n",
    "Base.BigInt\n",
    "Base.Complex\n",
    "Base.Rational\n",
    "Base.Irrational"
   ]
  },
  {
   "cell_type": "markdown",
   "id": "108a06f7",
   "metadata": {},
   "source": [
    "## 数据格式"
   ]
  },
  {
   "cell_type": "code",
   "execution_count": null,
   "id": "b360b6ad",
   "metadata": {
    "attributes": {
     "classes": [
      "@docs"
     ],
     "id": ""
    }
   },
   "outputs": [],
   "source": [
    "Base.digits\n",
    "Base.digits!\n",
    "Base.bitstring\n",
    "Base.parse\n",
    "Base.tryparse\n",
    "Base.big\n",
    "Base.signed\n",
    "Base.unsigned\n",
    "Base.float(::Any)\n",
    "Base.Math.significand\n",
    "Base.Math.exponent\n",
    "Base.complex(::Complex)\n",
    "Base.bswap\n",
    "Base.hex2bytes\n",
    "Base.hex2bytes!\n",
    "Base.bytes2hex"
   ]
  },
  {
   "cell_type": "markdown",
   "id": "003172f9",
   "metadata": {},
   "source": [
    "## 常用数值函数和常量"
   ]
  },
  {
   "cell_type": "code",
   "execution_count": null,
   "id": "2bcb2fc5",
   "metadata": {
    "attributes": {
     "classes": [
      "@docs"
     ],
     "id": ""
    }
   },
   "outputs": [],
   "source": [
    "Base.one\n",
    "Base.oneunit\n",
    "Base.zero\n",
    "Base.im\n",
    "Base.MathConstants.pi\n",
    "Base.MathConstants.ℯ\n",
    "Base.MathConstants.catalan\n",
    "Base.MathConstants.eulergamma\n",
    "Base.MathConstants.golden\n",
    "Base.Inf\n",
    "Base.Inf32\n",
    "Base.Inf16\n",
    "Base.NaN\n",
    "Base.NaN32\n",
    "Base.NaN16\n",
    "Base.issubnormal\n",
    "Base.isfinite\n",
    "Base.isinf\n",
    "Base.isnan\n",
    "Base.iszero\n",
    "Base.isone\n",
    "Base.nextfloat\n",
    "Base.prevfloat\n",
    "Base.isinteger\n",
    "Base.isreal\n",
    "Core.Float32(::Any)\n",
    "Core.Float64(::Any)\n",
    "Base.Rounding.rounding\n",
    "Base.Rounding.setrounding(::Type, ::Any)\n",
    "Base.Rounding.setrounding(::Function, ::Type, ::RoundingMode)\n",
    "Base.Rounding.get_zero_subnormals\n",
    "Base.Rounding.set_zero_subnormals"
   ]
  },
  {
   "cell_type": "markdown",
   "id": "06f18f02",
   "metadata": {},
   "source": [
    "### 整型"
   ]
  },
  {
   "cell_type": "code",
   "execution_count": null,
   "id": "b747efdf",
   "metadata": {
    "attributes": {
     "classes": [
      "@docs"
     ],
     "id": ""
    }
   },
   "outputs": [],
   "source": [
    "Base.count_ones\n",
    "Base.count_zeros\n",
    "Base.leading_zeros\n",
    "Base.leading_ones\n",
    "Base.trailing_zeros\n",
    "Base.trailing_ones\n",
    "Base.isodd\n",
    "Base.iseven\n",
    "Base.@int128_str\n",
    "Base.@uint128_str"
   ]
  },
  {
   "cell_type": "markdown",
   "id": "5f8c35f2",
   "metadata": {},
   "source": [
    "## BigFloats and BigInts\n",
    "\n",
    "The [`BigFloat`](@ref) and [`BigInt`](@ref) types implements\n",
    "arbitrary-precision floating point and integer arithmetic, respectively. For\n",
    "[`BigFloat`](@ref) the [GNU MPFR library](https://www.mpfr.org/) is used,\n",
    "and for [`BigInt`](@ref) the [GNU Multiple Precision Arithmetic Library (GMP)]\n",
    "(https://gmplib.org) is used."
   ]
  },
  {
   "cell_type": "code",
   "execution_count": null,
   "id": "66e28d75",
   "metadata": {
    "attributes": {
     "classes": [
      "@docs"
     ],
     "id": ""
    }
   },
   "outputs": [],
   "source": [
    "Base.MPFR.BigFloat(::Any, rounding::RoundingMode)\n",
    "Base.precision\n",
    "Base.MPFR.precision(::Type{BigFloat})\n",
    "Base.MPFR.setprecision\n",
    "Base.GMP.BigInt(::Any)\n",
    "Base.@big_str"
   ]
  }
 ],
 "metadata": {},
 "nbformat": 4,
 "nbformat_minor": 5
}
