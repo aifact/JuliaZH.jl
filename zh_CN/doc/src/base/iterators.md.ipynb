{
 "cells": [
  {
   "cell_type": "markdown",
   "id": "d426dd07",
   "metadata": {},
   "source": [
    "# 迭代相关"
   ]
  },
  {
   "cell_type": "code",
   "execution_count": null,
   "id": "4daaa031",
   "metadata": {
    "attributes": {
     "classes": [
      "@docs"
     ],
     "id": ""
    }
   },
   "outputs": [],
   "source": [
    "Base.Iterators.Stateful\n",
    "Base.Iterators.zip\n",
    "Base.Iterators.enumerate\n",
    "Base.Iterators.rest\n",
    "Base.Iterators.countfrom\n",
    "Base.Iterators.take\n",
    "Base.Iterators.takewhile\n",
    "Base.Iterators.drop\n",
    "Base.Iterators.dropwhile\n",
    "Base.Iterators.cycle\n",
    "Base.Iterators.repeated\n",
    "Base.Iterators.product\n",
    "Base.Iterators.flatten\n",
    "Base.Iterators.partition\n",
    "Base.Iterators.filter\n",
    "Base.Iterators.accumulate\n",
    "Base.Iterators.reverse\n",
    "Base.Iterators.only\n",
    "Base.Iterators.peel"
   ]
  }
 ],
 "metadata": {},
 "nbformat": 4,
 "nbformat_minor": 5
}
