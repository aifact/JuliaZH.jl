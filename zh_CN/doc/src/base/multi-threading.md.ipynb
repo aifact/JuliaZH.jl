{
 "cells": [
  {
   "cell_type": "markdown",
   "id": "b075b794",
   "metadata": {},
   "source": [
    "# [Multi-Threading](@id lib-multithreading)"
   ]
  },
  {
   "cell_type": "code",
   "execution_count": null,
   "id": "1707bb46",
   "metadata": {
    "attributes": {
     "classes": [
      "@docs"
     ],
     "id": ""
    }
   },
   "outputs": [],
   "source": [
    "Base.Threads.@threads\n",
    "Base.Threads.foreach\n",
    "Base.Threads.@spawn\n",
    "Base.Threads.threadid\n",
    "Base.Threads.nthreads"
   ]
  },
  {
   "cell_type": "markdown",
   "id": "240e4b74",
   "metadata": {},
   "source": [
    "## 同步"
   ]
  },
  {
   "cell_type": "code",
   "execution_count": null,
   "id": "4a19c0a5",
   "metadata": {
    "attributes": {
     "classes": [
      "@docs"
     ],
     "id": ""
    }
   },
   "outputs": [],
   "source": [
    "Base.Threads.Condition\n",
    "Base.Threads.Event"
   ]
  },
  {
   "cell_type": "markdown",
   "id": "cb341f55",
   "metadata": {},
   "source": [
    "另见 [同步](@ref lib-task-sync) 。\n",
    "\n",
    "## 原子操作"
   ]
  },
  {
   "cell_type": "code",
   "execution_count": null,
   "id": "9ba08af4",
   "metadata": {
    "attributes": {
     "classes": [
      "@docs"
     ],
     "id": ""
    }
   },
   "outputs": [],
   "source": [
    "Base.@atomic\n",
    "Base.@atomicswap\n",
    "Base.@atomicreplace"
   ]
  },
  {
   "cell_type": "markdown",
   "id": "255aa6e9",
   "metadata": {},
   "source": [
    "!!! note"
   ]
  },
  {
   "cell_type": "code",
   "execution_count": null,
   "id": "08906a88",
   "metadata": {},
   "outputs": [],
   "source": [
    "The following APIs are fairly primitive, and will likely be exposed through an `unsafe_*`-like wrapper."
   ]
  },
  {
   "cell_type": "code",
   "execution_count": null,
   "id": "27b525e7",
   "metadata": {},
   "outputs": [],
   "source": [
    "Core.Intrinsics.atomic_pointerref(pointer::Ptr{T}, order::Symbol) --> T\n",
    "Core.Intrinsics.atomic_pointerset(pointer::Ptr{T}, new::T, order::Symbol) --> pointer\n",
    "Core.Intrinsics.atomic_pointerswap(pointer::Ptr{T}, new::T, order::Symbol) --> old\n",
    "Core.Intrinsics.atomic_pointermodify(pointer::Ptr{T}, function::(old::T,arg::S)->T, arg::S, order::Symbol) --> old\n",
    "Core.Intrinsics.atomic_pointerreplace(pointer::Ptr{T}, expected::Any, new::T, success_order::Symbol, failure_order::Symbol) --> (old, cmp)"
   ]
  },
  {
   "cell_type": "markdown",
   "id": "c55e324d",
   "metadata": {},
   "source": [
    "!!! warning"
   ]
  },
  {
   "cell_type": "code",
   "execution_count": null,
   "id": "fa9f5a15",
   "metadata": {},
   "outputs": [],
   "source": [
    "The following APIs are deprecated, though support for them is likely to remain for several releases."
   ]
  },
  {
   "cell_type": "code",
   "execution_count": null,
   "id": "28f8dce4",
   "metadata": {
    "attributes": {
     "classes": [
      "@docs"
     ],
     "id": ""
    }
   },
   "outputs": [],
   "source": [
    "Base.Threads.Atomic\n",
    "Base.Threads.atomic_cas!\n",
    "Base.Threads.atomic_xchg!\n",
    "Base.Threads.atomic_add!\n",
    "Base.Threads.atomic_sub!\n",
    "Base.Threads.atomic_and!\n",
    "Base.Threads.atomic_nand!\n",
    "Base.Threads.atomic_or!\n",
    "Base.Threads.atomic_xor!\n",
    "Base.Threads.atomic_max!\n",
    "Base.Threads.atomic_min!\n",
    "Base.Threads.atomic_fence"
   ]
  },
  {
   "cell_type": "markdown",
   "id": "519e651d",
   "metadata": {},
   "source": [
    "## ccall using a threadpool (Experimental)"
   ]
  },
  {
   "cell_type": "code",
   "execution_count": null,
   "id": "3316d813",
   "metadata": {
    "attributes": {
     "classes": [
      "@docs"
     ],
     "id": ""
    }
   },
   "outputs": [],
   "source": [
    "Base.@threadcall"
   ]
  },
  {
   "cell_type": "markdown",
   "id": "357e01fd",
   "metadata": {},
   "source": [
    "## Low-level synchronization primitives\n",
    "\n",
    "These building blocks are used to create the regular synchronization objects."
   ]
  },
  {
   "cell_type": "code",
   "execution_count": null,
   "id": "e07af51b",
   "metadata": {
    "attributes": {
     "classes": [
      "@docs"
     ],
     "id": ""
    }
   },
   "outputs": [],
   "source": [
    "Base.Threads.SpinLock"
   ]
  }
 ],
 "metadata": {},
 "nbformat": 4,
 "nbformat_minor": 5
}
