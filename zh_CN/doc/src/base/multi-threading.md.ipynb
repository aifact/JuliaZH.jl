{
 "cells": [
  {
   "cell_type": "markdown",
   "id": "a62b5bb8",
   "metadata": {},
   "source": [
    "# [Multi-Threading](@id lib-multithreading)"
   ]
  },
  {
   "cell_type": "code",
   "execution_count": null,
   "id": "48cfacd3",
   "metadata": {
    "attributes": {
     "classes": [
      "@docs"
     ],
     "id": ""
    }
   },
   "outputs": [],
   "source": [
    "Base.Threads.@threads\n",
    "Base.Threads.@spawn\n",
    "Base.Threads.threadid\n",
    "Base.Threads.nthreads"
   ]
  },
  {
   "cell_type": "markdown",
   "id": "59e4e993",
   "metadata": {},
   "source": [
    "## Synchronization"
   ]
  },
  {
   "cell_type": "code",
   "execution_count": null,
   "id": "afaaf5d3",
   "metadata": {
    "attributes": {
     "classes": [
      "@docs"
     ],
     "id": ""
    }
   },
   "outputs": [],
   "source": [
    "Base.Threads.Condition\n",
    "Base.Threads.Event"
   ]
  },
  {
   "cell_type": "markdown",
   "id": "e8a459e8",
   "metadata": {},
   "source": [
    "See also [Synchronization](@ref lib-task-sync).\n",
    "\n",
    "## Atomic operations\n",
    "\n",
    "!!! warning"
   ]
  },
  {
   "cell_type": "code",
   "execution_count": null,
   "id": "e49034e8",
   "metadata": {},
   "outputs": [],
   "source": [
    "The API for atomic operations has not yet been finalized and is likely to change."
   ]
  },
  {
   "cell_type": "code",
   "execution_count": null,
   "id": "05c69990",
   "metadata": {
    "attributes": {
     "classes": [
      "@docs"
     ],
     "id": ""
    }
   },
   "outputs": [],
   "source": [
    "Base.Threads.Atomic\n",
    "Base.Threads.atomic_cas!\n",
    "Base.Threads.atomic_xchg!\n",
    "Base.Threads.atomic_add!\n",
    "Base.Threads.atomic_sub!\n",
    "Base.Threads.atomic_and!\n",
    "Base.Threads.atomic_nand!\n",
    "Base.Threads.atomic_or!\n",
    "Base.Threads.atomic_xor!\n",
    "Base.Threads.atomic_max!\n",
    "Base.Threads.atomic_min!\n",
    "Base.Threads.atomic_fence"
   ]
  },
  {
   "cell_type": "markdown",
   "id": "44072da2",
   "metadata": {},
   "source": [
    "## ccall using a threadpool (Experimental)"
   ]
  },
  {
   "cell_type": "code",
   "execution_count": null,
   "id": "cc2e512c",
   "metadata": {
    "attributes": {
     "classes": [
      "@docs"
     ],
     "id": ""
    }
   },
   "outputs": [],
   "source": [
    "Base.@threadcall"
   ]
  },
  {
   "cell_type": "markdown",
   "id": "5450352e",
   "metadata": {},
   "source": [
    "## Low-level synchronization primitives\n",
    "\n",
    "These building blocks are used to create the regular synchronization objects."
   ]
  },
  {
   "cell_type": "code",
   "execution_count": null,
   "id": "4621afdf",
   "metadata": {
    "attributes": {
     "classes": [
      "@docs"
     ],
     "id": ""
    }
   },
   "outputs": [],
   "source": [
    "Base.Threads.SpinLock"
   ]
  }
 ],
 "metadata": {},
 "nbformat": 4,
 "nbformat_minor": 5
}
