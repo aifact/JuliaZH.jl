{
 "cells": [
  {
   "cell_type": "markdown",
   "id": "f253279f",
   "metadata": {},
   "source": [
    "# 基本功能\n",
    "\n",
    "## 介绍\n",
    "\n",
    "Julia Base 中包含一系列适用于科学及数值计算的函数和宏，但也可以用于通用编程，其它功能则由 Julia 生态圈中的各种库来提供。函数按主题划分如下：\n",
    "\n",
    "一些通用的提示：\n",
    "\n",
    "  * 可以通过 `Import Module` 导入想要使用的模块，并利用 `Module.fn(x)` 语句来实现对模块内函数的调用。\n",
    "     \n",
    "  * 此外，`using Module` 语句会将名为 `Module` 的模块中的所有可调函数引入当前的命名空间。\n",
    "  * 按照约定，名字以感叹号（`!`）结尾的函数会改变其输入参数的内容。\n",
    "    一些函数同时拥有改变参数（例如 `sort!`）和不改变参数（`sort`）的版本\n",
    "\n",
    "The behaviors of `Base` and standard libraries are stable as defined in\n",
    "[SemVer](https://semver.org/) only if they are documented; i.e., included in the\n",
    "[Julia documentation](https://docs.julialang.org/) and not marked as unstable.\n",
    "See [API FAQ](@ref man-api) for more information.\n",
    "\n",
    "## Getting Around"
   ]
  },
  {
   "cell_type": "code",
   "execution_count": null,
   "id": "be609e7b",
   "metadata": {
    "attributes": {
     "classes": [
      "@docs"
     ],
     "id": ""
    }
   },
   "outputs": [],
   "source": [
    "Base.exit\n",
    "Base.atexit\n",
    "Base.isinteractive\n",
    "Base.summarysize\n",
    "Base.require\n",
    "Base.compilecache\n",
    "Base.__precompile__\n",
    "Base.include\n",
    "Base.MainInclude.include\n",
    "Base.include_string\n",
    "Base.include_dependency\n",
    "Base.which(::Any, ::Any)\n",
    "Base.methods\n",
    "Base.@show\n",
    "ans\n",
    "Base.active_project"
   ]
  },
  {
   "cell_type": "markdown",
   "id": "b5139c12",
   "metadata": {},
   "source": [
    "## Keywords\n",
    "\n",
    "This is the list of reserved keywords in Julia:\n",
    "`baremodule`, `begin`, `break`, `catch`, `const`, `continue`, `do`,\n",
    "`else`, `elseif`, `end`, `export`, `false`, `finally`, `for`, `function`,\n",
    "`global`, `if`, `import`, `let`, `local`, `macro`, `module`, `quote`,\n",
    "`return`, `struct`, `true`, `try`, `using`, `while`.\n",
    "Those keywords are not allowed to be used as variable names.\n",
    "\n",
    "The following two-word sequences are reserved:\n",
    "`abstract type`, `mutable struct`, `primitive type`.\n",
    "However, you can create variables with names:\n",
    "`abstract`, `mutable`, `primitive` and `type`.\n",
    "\n",
    "Finally:\n",
    "`where` is parsed as an infix operator for writing parametric method and type definitions;\n",
    "`in` and `isa` are parsed as infix operators;\n",
    "and `outer` is parsed as a keyword when used to modify the scope of a variable in an iteration specification of a `for` loop or `generator` expression.\n",
    "Creation of variables named `where`, `in`, `isa` or `outer` is allowed though."
   ]
  },
  {
   "cell_type": "code",
   "execution_count": null,
   "id": "9d2ab482",
   "metadata": {
    "attributes": {
     "classes": [
      "@docs"
     ],
     "id": ""
    }
   },
   "outputs": [],
   "source": [
    "module\n",
    "export\n",
    "import\n",
    "using\n",
    "baremodule\n",
    "function\n",
    "macro\n",
    "return\n",
    "do\n",
    "begin\n",
    "end\n",
    "let\n",
    "if\n",
    "for\n",
    "while\n",
    "break\n",
    "continue\n",
    "try\n",
    "finally\n",
    "quote\n",
    "local\n",
    "global\n",
    "const\n",
    "struct\n",
    "mutable struct\n",
    "abstract type\n",
    "primitive type\n",
    "where\n",
    "...\n",
    ";\n",
    "=\n",
    "?:"
   ]
  },
  {
   "cell_type": "markdown",
   "id": "d2ab05b8",
   "metadata": {},
   "source": [
    "## Standard Modules"
   ]
  },
  {
   "cell_type": "code",
   "execution_count": null,
   "id": "33374240",
   "metadata": {
    "attributes": {
     "classes": [
      "@docs"
     ],
     "id": ""
    }
   },
   "outputs": [],
   "source": [
    "Main\n",
    "Core\n",
    "Base"
   ]
  },
  {
   "cell_type": "markdown",
   "id": "23ea0815",
   "metadata": {},
   "source": [
    "## Base Submodules"
   ]
  },
  {
   "cell_type": "code",
   "execution_count": null,
   "id": "7bdb4fc2",
   "metadata": {
    "attributes": {
     "classes": [
      "@docs"
     ],
     "id": ""
    }
   },
   "outputs": [],
   "source": [
    "Base.Broadcast\n",
    "Base.Docs\n",
    "Base.Iterators\n",
    "Base.Libc\n",
    "Base.Meta\n",
    "Base.StackTraces\n",
    "Base.Sys\n",
    "Base.Threads\n",
    "Base.GC"
   ]
  },
  {
   "cell_type": "markdown",
   "id": "e6631cb6",
   "metadata": {},
   "source": [
    "## All Objects"
   ]
  },
  {
   "cell_type": "code",
   "execution_count": null,
   "id": "f1275fc6",
   "metadata": {
    "attributes": {
     "classes": [
      "@docs"
     ],
     "id": ""
    }
   },
   "outputs": [],
   "source": [
    "Core.:(===)\n",
    "Core.isa\n",
    "Base.isequal\n",
    "Base.isless\n",
    "Base.ifelse\n",
    "Core.typeassert\n",
    "Core.typeof\n",
    "Core.tuple\n",
    "Base.ntuple\n",
    "Base.objectid\n",
    "Base.hash\n",
    "Base.finalizer\n",
    "Base.finalize\n",
    "Base.copy\n",
    "Base.deepcopy\n",
    "Base.getproperty\n",
    "Base.setproperty!\n",
    "Base.propertynames\n",
    "Base.hasproperty\n",
    "Core.getfield\n",
    "Core.setfield!\n",
    "Core.isdefined\n",
    "Base.@isdefined\n",
    "Base.convert\n",
    "Base.promote\n",
    "Base.oftype\n",
    "Base.widen\n",
    "Base.identity"
   ]
  },
  {
   "cell_type": "markdown",
   "id": "bcf0bdaa",
   "metadata": {},
   "source": [
    "## Properties of Types\n",
    "\n",
    "### Type relations"
   ]
  },
  {
   "cell_type": "code",
   "execution_count": null,
   "id": "1ecd7009",
   "metadata": {
    "attributes": {
     "classes": [
      "@docs"
     ],
     "id": ""
    }
   },
   "outputs": [],
   "source": [
    "Base.supertype\n",
    "Core.Type\n",
    "Core.DataType\n",
    "Core.:(<:)\n",
    "Base.:(>:)\n",
    "Base.typejoin\n",
    "Base.typeintersect\n",
    "Base.promote_type\n",
    "Base.promote_rule\n",
    "Base.promote_typejoin\n",
    "Base.isdispatchtuple"
   ]
  },
  {
   "cell_type": "markdown",
   "id": "320d5de5",
   "metadata": {},
   "source": [
    "### Declared structure"
   ]
  },
  {
   "cell_type": "code",
   "execution_count": null,
   "id": "cd0a1471",
   "metadata": {
    "attributes": {
     "classes": [
      "@docs"
     ],
     "id": ""
    }
   },
   "outputs": [],
   "source": [
    "Base.ismutable\n",
    "Base.isimmutable\n",
    "Base.isabstracttype\n",
    "Base.isprimitivetype\n",
    "Base.issingletontype\n",
    "Base.isstructtype\n",
    "Base.nameof(::DataType)\n",
    "Base.fieldnames\n",
    "Base.fieldname\n",
    "Base.hasfield"
   ]
  },
  {
   "cell_type": "markdown",
   "id": "a750b8a7",
   "metadata": {},
   "source": [
    "### Memory layout"
   ]
  },
  {
   "cell_type": "code",
   "execution_count": null,
   "id": "e6d9bbb5",
   "metadata": {
    "attributes": {
     "classes": [
      "@docs"
     ],
     "id": ""
    }
   },
   "outputs": [],
   "source": [
    "Base.sizeof(::Type)\n",
    "Base.isconcretetype\n",
    "Base.isbits\n",
    "Base.isbitstype\n",
    "Core.fieldtype\n",
    "Base.fieldtypes\n",
    "Base.fieldcount\n",
    "Base.fieldoffset\n",
    "Base.datatype_alignment\n",
    "Base.datatype_haspadding\n",
    "Base.datatype_pointerfree"
   ]
  },
  {
   "cell_type": "markdown",
   "id": "19cb9733",
   "metadata": {},
   "source": [
    "### Special values"
   ]
  },
  {
   "cell_type": "code",
   "execution_count": null,
   "id": "1a432a9c",
   "metadata": {
    "attributes": {
     "classes": [
      "@docs"
     ],
     "id": ""
    }
   },
   "outputs": [],
   "source": [
    "Base.typemin\n",
    "Base.typemax\n",
    "Base.floatmin\n",
    "Base.floatmax\n",
    "Base.maxintfloat\n",
    "Base.eps(::Type{<:AbstractFloat})\n",
    "Base.eps(::AbstractFloat)\n",
    "Base.instances"
   ]
  },
  {
   "cell_type": "markdown",
   "id": "06607b2a",
   "metadata": {},
   "source": [
    "## Special Types"
   ]
  },
  {
   "cell_type": "code",
   "execution_count": null,
   "id": "0e57c960",
   "metadata": {
    "attributes": {
     "classes": [
      "@docs"
     ],
     "id": ""
    }
   },
   "outputs": [],
   "source": [
    "Core.Any\n",
    "Core.Union\n",
    "Union{}\n",
    "Core.UnionAll\n",
    "Core.Tuple\n",
    "Core.NTuple\n",
    "Core.NamedTuple\n",
    "Base.@NamedTuple\n",
    "Base.Val\n",
    "Core.Vararg\n",
    "Core.Nothing\n",
    "Base.isnothing\n",
    "Base.notnothing\n",
    "Base.Some\n",
    "Base.something\n",
    "Base.@something\n",
    "Base.Enums.Enum\n",
    "Base.Enums.@enum\n",
    "Core.Expr\n",
    "Core.Symbol\n",
    "Core.Symbol(x...)\n",
    "Core.Module"
   ]
  },
  {
   "cell_type": "markdown",
   "id": "2149c294",
   "metadata": {},
   "source": [
    "## Generic Functions"
   ]
  },
  {
   "cell_type": "code",
   "execution_count": null,
   "id": "5a949b1a",
   "metadata": {
    "attributes": {
     "classes": [
      "@docs"
     ],
     "id": ""
    }
   },
   "outputs": [],
   "source": [
    "Core.Function\n",
    "Base.hasmethod\n",
    "Core.applicable\n",
    "Base.isambiguous\n",
    "Core.invoke\n",
    "Base.@invoke\n",
    "Base.invokelatest\n",
    "Base.@invokelatest\n",
    "new\n",
    "Base.:(|>)\n",
    "Base.:(∘)\n",
    "Base.ComposedFunction\n",
    "Base.splat\n",
    "Base.Fix1\n",
    "Base.Fix2"
   ]
  },
  {
   "cell_type": "markdown",
   "id": "7f750764",
   "metadata": {},
   "source": [
    "## Syntax"
   ]
  },
  {
   "cell_type": "code",
   "execution_count": null,
   "id": "90775278",
   "metadata": {
    "attributes": {
     "classes": [
      "@docs"
     ],
     "id": ""
    }
   },
   "outputs": [],
   "source": [
    "Core.eval\n",
    "Base.MainInclude.eval\n",
    "Base.@eval\n",
    "Base.evalfile\n",
    "Base.esc\n",
    "Base.@inbounds\n",
    "Base.@boundscheck\n",
    "Base.@propagate_inbounds\n",
    "Base.@inline\n",
    "Base.@noinline\n",
    "Base.@nospecialize\n",
    "Base.@specialize\n",
    "Base.gensym\n",
    "Base.@gensym\n",
    "var\"name\"\n",
    "Base.@goto\n",
    "Base.@label\n",
    "Base.@simd\n",
    "Base.@polly\n",
    "Base.@generated\n",
    "Base.@pure\n",
    "Base.@deprecate"
   ]
  },
  {
   "cell_type": "markdown",
   "id": "c15af0ed",
   "metadata": {},
   "source": [
    "## Missing Values"
   ]
  },
  {
   "cell_type": "code",
   "execution_count": null,
   "id": "683d322b",
   "metadata": {
    "attributes": {
     "classes": [
      "@docs"
     ],
     "id": ""
    }
   },
   "outputs": [],
   "source": [
    "Base.Missing\n",
    "Base.missing\n",
    "Base.coalesce\n",
    "Base.@coalesce\n",
    "Base.ismissing\n",
    "Base.skipmissing\n",
    "Base.nonmissingtype"
   ]
  },
  {
   "cell_type": "markdown",
   "id": "4c919a42",
   "metadata": {},
   "source": [
    "## System"
   ]
  },
  {
   "cell_type": "code",
   "execution_count": null,
   "id": "37349dec",
   "metadata": {
    "attributes": {
     "classes": [
      "@docs"
     ],
     "id": ""
    }
   },
   "outputs": [],
   "source": [
    "Base.run\n",
    "Base.devnull\n",
    "Base.success\n",
    "Base.process_running\n",
    "Base.process_exited\n",
    "Base.kill(::Base.Process, ::Integer)\n",
    "Base.Sys.set_process_title\n",
    "Base.Sys.get_process_title\n",
    "Base.ignorestatus\n",
    "Base.detach\n",
    "Base.Cmd\n",
    "Base.setenv\n",
    "Base.addenv\n",
    "Base.withenv\n",
    "Base.pipeline(::Any, ::Any, ::Any, ::Any...)\n",
    "Base.pipeline(::Base.AbstractCmd)\n",
    "Base.Libc.gethostname\n",
    "Base.Libc.getpid\n",
    "Base.Libc.time()\n",
    "Base.time_ns\n",
    "Base.@time\n",
    "Base.@timev\n",
    "Base.@timed\n",
    "Base.@elapsed\n",
    "Base.@allocated\n",
    "Base.EnvDict\n",
    "Base.ENV\n",
    "Base.Sys.isunix\n",
    "Base.Sys.isapple\n",
    "Base.Sys.islinux\n",
    "Base.Sys.isbsd\n",
    "Base.Sys.isfreebsd\n",
    "Base.Sys.isopenbsd\n",
    "Base.Sys.isnetbsd\n",
    "Base.Sys.isdragonfly\n",
    "Base.Sys.iswindows\n",
    "Base.Sys.windows_version\n",
    "Base.Sys.free_memory\n",
    "Base.Sys.total_memory\n",
    "Base.@static"
   ]
  },
  {
   "cell_type": "markdown",
   "id": "f2971ee0",
   "metadata": {},
   "source": [
    "## Versioning"
   ]
  },
  {
   "cell_type": "code",
   "execution_count": null,
   "id": "56466a8e",
   "metadata": {
    "attributes": {
     "classes": [
      "@docs"
     ],
     "id": ""
    }
   },
   "outputs": [],
   "source": [
    "Base.VersionNumber\n",
    "Base.@v_str"
   ]
  },
  {
   "cell_type": "markdown",
   "id": "d08f029b",
   "metadata": {},
   "source": [
    "## Errors"
   ]
  },
  {
   "cell_type": "code",
   "execution_count": null,
   "id": "fde0dac4",
   "metadata": {
    "attributes": {
     "classes": [
      "@docs"
     ],
     "id": ""
    }
   },
   "outputs": [],
   "source": [
    "Base.error\n",
    "Core.throw\n",
    "Base.rethrow\n",
    "Base.backtrace\n",
    "Base.catch_backtrace\n",
    "Base.current_exceptions\n",
    "Base.@assert\n",
    "Base.Experimental.register_error_hint\n",
    "Base.Experimental.show_error_hints\n",
    "Base.ArgumentError\n",
    "Base.AssertionError\n",
    "Core.BoundsError\n",
    "Base.CompositeException\n",
    "Base.DimensionMismatch\n",
    "Core.DivideError\n",
    "Core.DomainError\n",
    "Base.EOFError\n",
    "Core.ErrorException\n",
    "Core.InexactError\n",
    "Core.InterruptException\n",
    "Base.KeyError\n",
    "Base.LoadError\n",
    "Base.MethodError\n",
    "Base.MissingException\n",
    "Core.OutOfMemoryError\n",
    "Core.ReadOnlyMemoryError\n",
    "Core.OverflowError\n",
    "Base.ProcessFailedException\n",
    "Core.StackOverflowError\n",
    "Base.SystemError\n",
    "Core.TypeError\n",
    "Core.UndefKeywordError\n",
    "Core.UndefRefError\n",
    "Core.UndefVarError\n",
    "Base.StringIndexError\n",
    "Base.InitError\n",
    "Base.retry\n",
    "Base.ExponentialBackOff"
   ]
  },
  {
   "cell_type": "markdown",
   "id": "d9e2dc8a",
   "metadata": {},
   "source": [
    "## Events"
   ]
  },
  {
   "cell_type": "code",
   "execution_count": null,
   "id": "67ebcf02",
   "metadata": {
    "attributes": {
     "classes": [
      "@docs"
     ],
     "id": ""
    }
   },
   "outputs": [],
   "source": [
    "Base.Timer(::Function, ::Real)\n",
    "Base.Timer\n",
    "Base.AsyncCondition\n",
    "Base.AsyncCondition(::Function)"
   ]
  },
  {
   "cell_type": "markdown",
   "id": "c202458b",
   "metadata": {},
   "source": [
    "## Reflection"
   ]
  },
  {
   "cell_type": "code",
   "execution_count": null,
   "id": "6d8baf9e",
   "metadata": {
    "attributes": {
     "classes": [
      "@docs"
     ],
     "id": ""
    }
   },
   "outputs": [],
   "source": [
    "Base.nameof(::Module)\n",
    "Base.parentmodule\n",
    "Base.pathof(::Module)\n",
    "Base.pkgdir(::Module)\n",
    "Base.moduleroot\n",
    "__module__\n",
    "__source__\n",
    "Base.@__MODULE__\n",
    "Base.@__FILE__\n",
    "Base.@__DIR__\n",
    "Base.@__LINE__\n",
    "Base.fullname\n",
    "Base.names\n",
    "Core.nfields\n",
    "Base.isconst\n",
    "Base.nameof(::Function)\n",
    "Base.functionloc(::Any, ::Any)\n",
    "Base.functionloc(::Method)\n",
    "Base.@locals"
   ]
  },
  {
   "cell_type": "markdown",
   "id": "bd400ec6",
   "metadata": {},
   "source": [
    "## Internals"
   ]
  },
  {
   "cell_type": "code",
   "execution_count": null,
   "id": "6a50d1ae",
   "metadata": {
    "attributes": {
     "classes": [
      "@docs"
     ],
     "id": ""
    }
   },
   "outputs": [],
   "source": [
    "Base.GC.gc\n",
    "Base.GC.enable\n",
    "Base.GC.@preserve\n",
    "Base.GC.safepoint\n",
    "Meta.lower\n",
    "Meta.@lower\n",
    "Meta.parse(::AbstractString, ::Int)\n",
    "Meta.parse(::AbstractString)\n",
    "Meta.ParseError\n",
    "Core.QuoteNode\n",
    "Base.macroexpand\n",
    "Base.@macroexpand\n",
    "Base.@macroexpand1\n",
    "Base.code_lowered\n",
    "Base.code_typed\n",
    "Base.precompile"
   ]
  },
  {
   "cell_type": "markdown",
   "id": "9555d566",
   "metadata": {},
   "source": [
    "## Meta"
   ]
  },
  {
   "cell_type": "code",
   "execution_count": null,
   "id": "651c4f2c",
   "metadata": {
    "attributes": {
     "classes": [
      "@docs"
     ],
     "id": ""
    }
   },
   "outputs": [],
   "source": [
    "Meta.quot\n",
    "Meta.isexpr\n",
    "Meta.isidentifier\n",
    "Meta.isoperator\n",
    "Meta.isunaryoperator\n",
    "Meta.isbinaryoperator\n",
    "Meta.show_sexpr"
   ]
  }
 ],
 "metadata": {},
 "nbformat": 4,
 "nbformat_minor": 5
}
