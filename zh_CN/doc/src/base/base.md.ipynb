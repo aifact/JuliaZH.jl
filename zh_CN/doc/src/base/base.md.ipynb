{
 "cells": [
  {
   "cell_type": "markdown",
   "id": "e60cb54b",
   "metadata": {},
   "source": [
    "# 基本功能\n",
    "\n",
    "## 介绍\n",
    "\n",
    "Julia Base 中包含一系列适用于科学及数值计算的函数和宏，但也可以用于通用编程，其它功能则由 Julia 生态圈中的各种库来提供。函数按主题划分如下：\n",
    "\n",
    "一些通用的提示：\n",
    "\n",
    "  * 可以通过 `Import Module` 导入想要使用的模块，并利用 `Module.fn(x)` 语句来实现对模块内函数的调用。\n",
    "     \n",
    "  * 此外，`using Module` 语句会将名为 `Module` 的模块中的所有可调函数引入当前的命名空间。\n",
    "  * 按照约定，名字以感叹号（`!`）结尾的函数会改变其输入参数的内容。\n",
    "    一些函数同时拥有改变参数（例如 `sort!`）和不改变参数（`sort`）的版本\n",
    "\n",
    "## 概览"
   ]
  },
  {
   "cell_type": "code",
   "execution_count": null,
   "id": "8886bad6",
   "metadata": {
    "attributes": {
     "classes": [
      "@docs"
     ],
     "id": ""
    }
   },
   "outputs": [],
   "source": [
    "Base.exit\n",
    "Base.atexit\n",
    "Base.isinteractive\n",
    "Base.summarysize\n",
    "Base.require\n",
    "Base.compilecache\n",
    "Base.__precompile__\n",
    "Base.include\n",
    "Base.MainInclude.include\n",
    "Base.include_string\n",
    "Base.include_dependency\n",
    "Base.which(::Any, ::Any)\n",
    "Base.methods\n",
    "Base.@show\n",
    "ans"
   ]
  },
  {
   "cell_type": "markdown",
   "id": "053a2b3b",
   "metadata": {},
   "source": [
    "## 关键字\n",
    "\n",
    "This is the list of reserved keywords in Julia:\n",
    "`baremodule`, `begin`, `break`, `catch`, `const`, `continue`, `do`,\n",
    "`else`, `elseif`, `end`, `export`, `false`, `finally`, `for`, `function`,\n",
    "`global`, `if`, `import`, `let`, `local`, `macro`, `module`, `quote`,\n",
    "`return`, `struct`, `true`, `try`, `using`, `while`.\n",
    "Those keywords are not allowed to be used as variable names.\n",
    "\n",
    "The following two-word sequences are reserved:\n",
    "`abstract type`, `mutable struct`, `primitive type`.\n",
    "However, you can create variables with names:\n",
    "`abstract`, `mutable`, `primitive` and `type`.\n",
    "\n",
    "Finally, `where` is parsed as an infix operator for writing parametric method\n",
    "and type definitions. Also `in` and `isa` are parsed as infix operators.\n",
    "Creation of a variable named `where`, `in` or `isa` is allowed though."
   ]
  },
  {
   "cell_type": "code",
   "execution_count": null,
   "id": "56968bda",
   "metadata": {
    "attributes": {
     "classes": [
      "@docs"
     ],
     "id": ""
    }
   },
   "outputs": [],
   "source": [
    "module\n",
    "export\n",
    "import\n",
    "using\n",
    "baremodule\n",
    "function\n",
    "macro\n",
    "return\n",
    "do\n",
    "begin\n",
    "end\n",
    "let\n",
    "if\n",
    "for\n",
    "while\n",
    "break\n",
    "continue\n",
    "try\n",
    "finally\n",
    "quote\n",
    "local\n",
    "global\n",
    "const\n",
    "struct\n",
    "mutable struct\n",
    "abstract type\n",
    "primitive type\n",
    "where\n",
    "...\n",
    ";\n",
    "=\n",
    "?:"
   ]
  },
  {
   "cell_type": "markdown",
   "id": "a1893b15",
   "metadata": {},
   "source": [
    "## Standard Modules"
   ]
  },
  {
   "cell_type": "code",
   "execution_count": null,
   "id": "d3b3eb33",
   "metadata": {
    "attributes": {
     "classes": [
      "@docs"
     ],
     "id": ""
    }
   },
   "outputs": [],
   "source": [
    "Main\n",
    "Core\n",
    "Base"
   ]
  },
  {
   "cell_type": "markdown",
   "id": "4543ae5e",
   "metadata": {},
   "source": [
    "## Base Submodules"
   ]
  },
  {
   "cell_type": "code",
   "execution_count": null,
   "id": "2e48e829",
   "metadata": {
    "attributes": {
     "classes": [
      "@docs"
     ],
     "id": ""
    }
   },
   "outputs": [],
   "source": [
    "Base.Broadcast\n",
    "Base.Docs\n",
    "Base.Iterators\n",
    "Base.Libc\n",
    "Base.Meta\n",
    "Base.StackTraces\n",
    "Base.Sys\n",
    "Base.Threads\n",
    "Base.GC"
   ]
  },
  {
   "cell_type": "markdown",
   "id": "ebd41f25",
   "metadata": {},
   "source": [
    "## All Objects"
   ]
  },
  {
   "cell_type": "code",
   "execution_count": null,
   "id": "b9871d46",
   "metadata": {
    "attributes": {
     "classes": [
      "@docs"
     ],
     "id": ""
    }
   },
   "outputs": [],
   "source": [
    "Core.:(===)\n",
    "Core.isa\n",
    "Base.isequal\n",
    "Base.isless\n",
    "Base.ifelse\n",
    "Core.typeassert\n",
    "Core.typeof\n",
    "Core.tuple\n",
    "Base.ntuple\n",
    "Base.objectid\n",
    "Base.hash\n",
    "Base.finalizer\n",
    "Base.finalize\n",
    "Base.copy\n",
    "Base.deepcopy\n",
    "Base.getproperty\n",
    "Base.setproperty!\n",
    "Base.propertynames\n",
    "Base.hasproperty\n",
    "Core.getfield\n",
    "Core.setfield!\n",
    "Core.isdefined\n",
    "Base.@isdefined\n",
    "Base.convert\n",
    "Base.promote\n",
    "Base.oftype\n",
    "Base.widen\n",
    "Base.identity"
   ]
  },
  {
   "cell_type": "markdown",
   "id": "53222cd3",
   "metadata": {},
   "source": [
    "## Properties of Types\n",
    "\n",
    "### Type relations"
   ]
  },
  {
   "cell_type": "code",
   "execution_count": null,
   "id": "06c07a33",
   "metadata": {
    "attributes": {
     "classes": [
      "@docs"
     ],
     "id": ""
    }
   },
   "outputs": [],
   "source": [
    "Base.supertype\n",
    "Core.Type\n",
    "Core.DataType\n",
    "Core.:(<:)\n",
    "Base.:(>:)\n",
    "Base.typejoin\n",
    "Base.typeintersect\n",
    "Base.promote_type\n",
    "Base.promote_rule\n",
    "Base.isdispatchtuple"
   ]
  },
  {
   "cell_type": "markdown",
   "id": "127ad405",
   "metadata": {},
   "source": [
    "### Declared structure"
   ]
  },
  {
   "cell_type": "code",
   "execution_count": null,
   "id": "c4122a01",
   "metadata": {
    "attributes": {
     "classes": [
      "@docs"
     ],
     "id": ""
    }
   },
   "outputs": [],
   "source": [
    "Base.ismutable\n",
    "Base.isimmutable\n",
    "Base.isabstracttype\n",
    "Base.isprimitivetype\n",
    "Base.issingletontype\n",
    "Base.isstructtype\n",
    "Base.nameof(::DataType)\n",
    "Base.fieldnames\n",
    "Base.fieldname\n",
    "Base.hasfield"
   ]
  },
  {
   "cell_type": "markdown",
   "id": "855297d0",
   "metadata": {},
   "source": [
    "### Memory layout"
   ]
  },
  {
   "cell_type": "code",
   "execution_count": null,
   "id": "b209c08d",
   "metadata": {
    "attributes": {
     "classes": [
      "@docs"
     ],
     "id": ""
    }
   },
   "outputs": [],
   "source": [
    "Base.sizeof(::Type)\n",
    "Base.isconcretetype\n",
    "Base.isbits\n",
    "Base.isbitstype\n",
    "Core.fieldtype\n",
    "Base.fieldtypes\n",
    "Base.fieldcount\n",
    "Base.fieldoffset\n",
    "Base.datatype_alignment\n",
    "Base.datatype_haspadding\n",
    "Base.datatype_pointerfree"
   ]
  },
  {
   "cell_type": "markdown",
   "id": "7a7cb091",
   "metadata": {},
   "source": [
    "### Special values"
   ]
  },
  {
   "cell_type": "code",
   "execution_count": null,
   "id": "511e8533",
   "metadata": {
    "attributes": {
     "classes": [
      "@docs"
     ],
     "id": ""
    }
   },
   "outputs": [],
   "source": [
    "Base.typemin\n",
    "Base.typemax\n",
    "Base.floatmin\n",
    "Base.floatmax\n",
    "Base.maxintfloat\n",
    "Base.eps(::Type{<:AbstractFloat})\n",
    "Base.eps(::AbstractFloat)\n",
    "Base.instances"
   ]
  },
  {
   "cell_type": "markdown",
   "id": "58699664",
   "metadata": {},
   "source": [
    "## Special Types"
   ]
  },
  {
   "cell_type": "code",
   "execution_count": null,
   "id": "a0f4063a",
   "metadata": {
    "attributes": {
     "classes": [
      "@docs"
     ],
     "id": ""
    }
   },
   "outputs": [],
   "source": [
    "Core.Any\n",
    "Core.Union\n",
    "Union{}\n",
    "Core.UnionAll\n",
    "Core.Tuple\n",
    "Core.NamedTuple\n",
    "Base.@NamedTuple\n",
    "Base.Val\n",
    "Core.Vararg\n",
    "Core.Nothing\n",
    "Base.isnothing\n",
    "Base.Some\n",
    "Base.something\n",
    "Base.Enums.Enum\n",
    "Base.Enums.@enum\n",
    "Core.Expr\n",
    "Core.Symbol\n",
    "Core.Symbol(x...)\n",
    "Core.Module"
   ]
  },
  {
   "cell_type": "markdown",
   "id": "19c60d6a",
   "metadata": {},
   "source": [
    "## Generic Functions"
   ]
  },
  {
   "cell_type": "code",
   "execution_count": null,
   "id": "8b63c362",
   "metadata": {
    "attributes": {
     "classes": [
      "@docs"
     ],
     "id": ""
    }
   },
   "outputs": [],
   "source": [
    "Core.Function\n",
    "Base.hasmethod\n",
    "Core.applicable\n",
    "Core.invoke\n",
    "Base.invokelatest\n",
    "new\n",
    "Base.:(|>)\n",
    "Base.:(∘)"
   ]
  },
  {
   "cell_type": "markdown",
   "id": "fab200f5",
   "metadata": {},
   "source": [
    "## Syntax"
   ]
  },
  {
   "cell_type": "code",
   "execution_count": null,
   "id": "86e71ff3",
   "metadata": {
    "attributes": {
     "classes": [
      "@docs"
     ],
     "id": ""
    }
   },
   "outputs": [],
   "source": [
    "Core.eval\n",
    "Base.MainInclude.eval\n",
    "Base.@eval\n",
    "Base.evalfile\n",
    "Base.esc\n",
    "Base.@inbounds\n",
    "Base.@boundscheck\n",
    "Base.@propagate_inbounds\n",
    "Base.@inline\n",
    "Base.@noinline\n",
    "Base.@nospecialize\n",
    "Base.@specialize\n",
    "Base.gensym\n",
    "Base.@gensym\n",
    "var\"name\"\n",
    "Base.@goto\n",
    "Base.@label\n",
    "Base.@simd\n",
    "Base.@polly\n",
    "Base.@generated\n",
    "Base.@pure\n",
    "Base.@deprecate"
   ]
  },
  {
   "cell_type": "markdown",
   "id": "7b522a24",
   "metadata": {},
   "source": [
    "## Missing Values"
   ]
  },
  {
   "cell_type": "code",
   "execution_count": null,
   "id": "61ce19f5",
   "metadata": {
    "attributes": {
     "classes": [
      "@docs"
     ],
     "id": ""
    }
   },
   "outputs": [],
   "source": [
    "Base.Missing\n",
    "Base.missing\n",
    "Base.coalesce\n",
    "Base.ismissing\n",
    "Base.skipmissing\n",
    "Base.nonmissingtype"
   ]
  },
  {
   "cell_type": "markdown",
   "id": "4e131ba6",
   "metadata": {},
   "source": [
    "## System"
   ]
  },
  {
   "cell_type": "code",
   "execution_count": null,
   "id": "ef1959f0",
   "metadata": {
    "attributes": {
     "classes": [
      "@docs"
     ],
     "id": ""
    }
   },
   "outputs": [],
   "source": [
    "Base.run\n",
    "Base.devnull\n",
    "Base.success\n",
    "Base.process_running\n",
    "Base.process_exited\n",
    "Base.kill(::Base.Process, ::Integer)\n",
    "Base.Sys.set_process_title\n",
    "Base.Sys.get_process_title\n",
    "Base.ignorestatus\n",
    "Base.detach\n",
    "Base.Cmd\n",
    "Base.setenv\n",
    "Base.withenv\n",
    "Base.pipeline(::Any, ::Any, ::Any, ::Any...)\n",
    "Base.pipeline(::Base.AbstractCmd)\n",
    "Base.Libc.gethostname\n",
    "Base.Libc.getpid\n",
    "Base.Libc.time()\n",
    "Base.time_ns\n",
    "Base.@time\n",
    "Base.@timev\n",
    "Base.@timed\n",
    "Base.@elapsed\n",
    "Base.@allocated\n",
    "Base.EnvDict\n",
    "Base.ENV\n",
    "Base.Sys.isunix\n",
    "Base.Sys.isapple\n",
    "Base.Sys.islinux\n",
    "Base.Sys.isbsd\n",
    "Base.Sys.isfreebsd\n",
    "Base.Sys.isopenbsd\n",
    "Base.Sys.isnetbsd\n",
    "Base.Sys.isdragonfly\n",
    "Base.Sys.iswindows\n",
    "Base.Sys.windows_version\n",
    "Base.Sys.free_memory\n",
    "Base.Sys.total_memory\n",
    "Base.@static"
   ]
  },
  {
   "cell_type": "markdown",
   "id": "917ce145",
   "metadata": {},
   "source": [
    "## Versioning"
   ]
  },
  {
   "cell_type": "code",
   "execution_count": null,
   "id": "f10ce129",
   "metadata": {
    "attributes": {
     "classes": [
      "@docs"
     ],
     "id": ""
    }
   },
   "outputs": [],
   "source": [
    "Base.VersionNumber\n",
    "Base.@v_str"
   ]
  },
  {
   "cell_type": "markdown",
   "id": "bfff5775",
   "metadata": {},
   "source": [
    "## Errors"
   ]
  },
  {
   "cell_type": "code",
   "execution_count": null,
   "id": "5df115e5",
   "metadata": {
    "attributes": {
     "classes": [
      "@docs"
     ],
     "id": ""
    }
   },
   "outputs": [],
   "source": [
    "Base.error\n",
    "Core.throw\n",
    "Base.rethrow\n",
    "Base.backtrace\n",
    "Base.catch_backtrace\n",
    "Base.catch_stack\n",
    "Base.@assert\n",
    "Base.Experimental.register_error_hint\n",
    "Base.Experimental.show_error_hints\n",
    "Base.ArgumentError\n",
    "Base.AssertionError\n",
    "Core.BoundsError\n",
    "Base.CompositeException\n",
    "Base.DimensionMismatch\n",
    "Core.DivideError\n",
    "Core.DomainError\n",
    "Base.EOFError\n",
    "Core.ErrorException\n",
    "Core.InexactError\n",
    "Core.InterruptException\n",
    "Base.KeyError\n",
    "Base.LoadError\n",
    "Base.MethodError\n",
    "Base.MissingException\n",
    "Core.OutOfMemoryError\n",
    "Core.ReadOnlyMemoryError\n",
    "Core.OverflowError\n",
    "Base.ProcessFailedException\n",
    "Core.StackOverflowError\n",
    "Base.SystemError\n",
    "Core.TypeError\n",
    "Core.UndefKeywordError\n",
    "Core.UndefRefError\n",
    "Core.UndefVarError\n",
    "Base.StringIndexError\n",
    "Base.InitError\n",
    "Base.retry\n",
    "Base.ExponentialBackOff"
   ]
  },
  {
   "cell_type": "markdown",
   "id": "0d78cd19",
   "metadata": {},
   "source": [
    "## Events"
   ]
  },
  {
   "cell_type": "code",
   "execution_count": null,
   "id": "71c5d055",
   "metadata": {
    "attributes": {
     "classes": [
      "@docs"
     ],
     "id": ""
    }
   },
   "outputs": [],
   "source": [
    "Base.Timer(::Function, ::Real)\n",
    "Base.Timer\n",
    "Base.AsyncCondition\n",
    "Base.AsyncCondition(::Function)"
   ]
  },
  {
   "cell_type": "markdown",
   "id": "d23e1564",
   "metadata": {},
   "source": [
    "## Reflection"
   ]
  },
  {
   "cell_type": "code",
   "execution_count": null,
   "id": "97c6faee",
   "metadata": {
    "attributes": {
     "classes": [
      "@docs"
     ],
     "id": ""
    }
   },
   "outputs": [],
   "source": [
    "Base.nameof(::Module)\n",
    "Base.parentmodule\n",
    "Base.pathof(::Module)\n",
    "Base.moduleroot\n",
    "Base.@__MODULE__\n",
    "Base.fullname\n",
    "Base.names\n",
    "Core.nfields\n",
    "Base.isconst\n",
    "Base.nameof(::Function)\n",
    "Base.functionloc(::Any, ::Any)\n",
    "Base.functionloc(::Method)"
   ]
  },
  {
   "cell_type": "markdown",
   "id": "63d2019d",
   "metadata": {},
   "source": [
    "## Internals"
   ]
  },
  {
   "cell_type": "code",
   "execution_count": null,
   "id": "b7f45fd9",
   "metadata": {
    "attributes": {
     "classes": [
      "@docs"
     ],
     "id": ""
    }
   },
   "outputs": [],
   "source": [
    "Base.GC.gc\n",
    "Base.GC.enable\n",
    "Base.GC.@preserve\n",
    "Base.GC.safepoint\n",
    "Meta.lower\n",
    "Meta.@lower\n",
    "Meta.parse(::AbstractString, ::Int)\n",
    "Meta.parse(::AbstractString)\n",
    "Meta.ParseError\n",
    "Core.QuoteNode\n",
    "Base.macroexpand\n",
    "Base.@macroexpand\n",
    "Base.@macroexpand1\n",
    "Base.code_lowered\n",
    "Base.code_typed\n",
    "Base.precompile"
   ]
  },
  {
   "cell_type": "markdown",
   "id": "2c008993",
   "metadata": {},
   "source": [
    "## Meta"
   ]
  },
  {
   "cell_type": "code",
   "execution_count": null,
   "id": "e5bc1b04",
   "metadata": {
    "attributes": {
     "classes": [
      "@docs"
     ],
     "id": ""
    }
   },
   "outputs": [],
   "source": [
    "Meta.quot\n",
    "Meta.isexpr\n",
    "Meta.show_sexpr"
   ]
  }
 ],
 "metadata": {},
 "nbformat": 4,
 "nbformat_minor": 5
}
