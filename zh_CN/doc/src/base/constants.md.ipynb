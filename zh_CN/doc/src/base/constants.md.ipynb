{
 "cells": [
  {
   "cell_type": "markdown",
   "id": "1023d314",
   "metadata": {},
   "source": [
    "# [常量](@id lib-constants)"
   ]
  },
  {
   "cell_type": "code",
   "execution_count": null,
   "id": "05c952a2",
   "metadata": {
    "attributes": {
     "classes": [
      "@docs"
     ],
     "id": ""
    }
   },
   "outputs": [],
   "source": [
    "Core.nothing\n",
    "Base.PROGRAM_FILE\n",
    "Base.ARGS\n",
    "Base.C_NULL\n",
    "Base.VERSION\n",
    "Base.DEPOT_PATH\n",
    "Base.LOAD_PATH\n",
    "Base.Sys.BINDIR\n",
    "Base.Sys.CPU_THREADS\n",
    "Base.Sys.WORD_SIZE\n",
    "Base.Sys.KERNEL\n",
    "Base.Sys.ARCH\n",
    "Base.Sys.MACHINE"
   ]
  },
  {
   "cell_type": "markdown",
   "id": "b43bab28",
   "metadata": {},
   "source": [
    "参见：\n",
    "\n",
    "  * [`stdin`](@ref)\n",
    "  * [`stdout`](@ref)\n",
    "  * [`stderr`](@ref)\n",
    "  * [`ENV`](@ref)\n",
    "  * [`ENDIAN_BOM`](@ref)\n",
    "  * `Libc.MS_ASYNC`\n",
    "  * `Libc.MS_INVALIDATE`\n",
    "  * `Libc.MS_SYNC`"
   ]
  }
 ],
 "metadata": {},
 "nbformat": 4,
 "nbformat_minor": 5
}
