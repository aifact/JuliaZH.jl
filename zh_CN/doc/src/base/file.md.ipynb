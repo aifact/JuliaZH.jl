{
 "cells": [
  {
   "cell_type": "markdown",
   "id": "baf87a67",
   "metadata": {},
   "source": [
    "# 文件系统"
   ]
  },
  {
   "cell_type": "code",
   "execution_count": null,
   "id": "ea8f18f2",
   "metadata": {
    "attributes": {
     "classes": [
      "@docs"
     ],
     "id": ""
    }
   },
   "outputs": [],
   "source": [
    "Base.Filesystem.pwd\n",
    "Base.Filesystem.cd(::AbstractString)\n",
    "Base.Filesystem.cd(::Function)\n",
    "Base.Filesystem.readdir\n",
    "Base.Filesystem.walkdir\n",
    "Base.Filesystem.mkdir\n",
    "Base.Filesystem.mkpath\n",
    "Base.Filesystem.symlink\n",
    "Base.Filesystem.readlink\n",
    "Base.Filesystem.chmod\n",
    "Base.Filesystem.chown\n",
    "Base.RawFD\n",
    "Base.stat\n",
    "Base.Filesystem.lstat\n",
    "Base.Filesystem.ctime\n",
    "Base.Filesystem.mtime\n",
    "Base.Filesystem.filemode\n",
    "Base.Filesystem.filesize\n",
    "Base.Filesystem.uperm\n",
    "Base.Filesystem.gperm\n",
    "Base.Filesystem.operm\n",
    "Base.Filesystem.cp\n",
    "Base.download\n",
    "Base.Filesystem.mv\n",
    "Base.Filesystem.rm\n",
    "Base.Filesystem.touch\n",
    "Base.Filesystem.tempname\n",
    "Base.Filesystem.tempdir\n",
    "Base.Filesystem.mktemp(::AbstractString)\n",
    "Base.Filesystem.mktemp(::Function, ::AbstractString)\n",
    "Base.Filesystem.mktempdir(::AbstractString)\n",
    "Base.Filesystem.mktempdir(::Function, ::AbstractString)\n",
    "Base.Filesystem.isblockdev\n",
    "Base.Filesystem.ischardev\n",
    "Base.Filesystem.isdir\n",
    "Base.Filesystem.isfifo\n",
    "Base.Filesystem.isfile\n",
    "Base.Filesystem.islink\n",
    "Base.Filesystem.ismount\n",
    "Base.Filesystem.ispath\n",
    "Base.Filesystem.issetgid\n",
    "Base.Filesystem.issetuid\n",
    "Base.Filesystem.issocket\n",
    "Base.Filesystem.issticky\n",
    "Base.Filesystem.homedir\n",
    "Base.Filesystem.dirname\n",
    "Base.Filesystem.basename\n",
    "Base.@__FILE__\n",
    "Base.@__DIR__\n",
    "Base.@__LINE__\n",
    "Base.Filesystem.isabspath\n",
    "Base.Filesystem.isdirpath\n",
    "Base.Filesystem.joinpath\n",
    "Base.Filesystem.abspath\n",
    "Base.Filesystem.normpath\n",
    "Base.Filesystem.realpath\n",
    "Base.Filesystem.relpath\n",
    "Base.Filesystem.expanduser\n",
    "Base.Filesystem.splitdir\n",
    "Base.Filesystem.splitdrive\n",
    "Base.Filesystem.splitext\n",
    "Base.Filesystem.splitpath"
   ]
  }
 ],
 "metadata": {},
 "nbformat": 4,
 "nbformat_minor": 5
}
