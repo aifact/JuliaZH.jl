{
 "cells": [
  {
   "cell_type": "markdown",
   "id": "9bdb65d0",
   "metadata": {},
   "source": [
    "# [数组](@id lib-arrays)\n",
    "\n",
    "## 构造函数与类型"
   ]
  },
  {
   "cell_type": "code",
   "execution_count": null,
   "id": "d7ad0ec9",
   "metadata": {
    "attributes": {
     "classes": [
      "@docs"
     ],
     "id": ""
    }
   },
   "outputs": [],
   "source": [
    "Core.AbstractArray\n",
    "Base.AbstractVector\n",
    "Base.AbstractMatrix\n",
    "Base.AbstractVecOrMat\n",
    "Core.Array\n",
    "Core.Array(::UndefInitializer, ::Any)\n",
    "Core.Array(::Nothing, ::Any)\n",
    "Core.Array(::Missing, ::Any)\n",
    "Core.UndefInitializer\n",
    "Core.undef\n",
    "Base.Vector\n",
    "Base.Vector(::UndefInitializer, ::Any)\n",
    "Base.Vector(::Nothing, ::Any)\n",
    "Base.Vector(::Missing, ::Any)\n",
    "Base.Matrix\n",
    "Base.Matrix(::UndefInitializer, ::Any, ::Any)\n",
    "Base.Matrix(::Nothing, ::Any, ::Any)\n",
    "Base.Matrix(::Missing, ::Any, ::Any)\n",
    "Base.VecOrMat\n",
    "Core.DenseArray\n",
    "Base.DenseVector\n",
    "Base.DenseMatrix\n",
    "Base.DenseVecOrMat\n",
    "Base.StridedArray\n",
    "Base.StridedVector\n",
    "Base.StridedMatrix\n",
    "Base.StridedVecOrMat\n",
    "Base.getindex(::Type, ::Any...)\n",
    "Base.zeros\n",
    "Base.ones\n",
    "Base.BitArray\n",
    "Base.BitArray(::UndefInitializer, ::Integer...)\n",
    "Base.BitArray(::Any)\n",
    "Base.trues\n",
    "Base.falses\n",
    "Base.fill\n",
    "Base.fill!\n",
    "Base.similar"
   ]
  },
  {
   "cell_type": "markdown",
   "id": "1c2fcd67",
   "metadata": {},
   "source": [
    "## 基础函数"
   ]
  },
  {
   "cell_type": "code",
   "execution_count": null,
   "id": "8bdad738",
   "metadata": {
    "attributes": {
     "classes": [
      "@docs"
     ],
     "id": ""
    }
   },
   "outputs": [],
   "source": [
    "Base.ndims\n",
    "Base.size\n",
    "Base.axes(::Any)\n",
    "Base.axes(::AbstractArray, ::Any)\n",
    "Base.length(::AbstractArray)\n",
    "Base.eachindex\n",
    "Base.IndexStyle\n",
    "Base.IndexLinear\n",
    "Base.IndexCartesian\n",
    "Base.conj!\n",
    "Base.stride\n",
    "Base.strides"
   ]
  },
  {
   "cell_type": "markdown",
   "id": "2a107ec9",
   "metadata": {},
   "source": [
    "## 广播与矢量化\n",
    "\n",
    "也可参照 [dot syntax for vectorizing functions](@ref man-vectorized)；\n",
    "例如，`f.(args...)` 隐式调用 `broadcast(f, args...)`。\n",
    "与其依赖如 `sin` 函数的“已矢量化”方法，你应该使用 `sin.(a)` 来使用`broadcast`来矢量化。"
   ]
  },
  {
   "cell_type": "code",
   "execution_count": null,
   "id": "555324fa",
   "metadata": {
    "attributes": {
     "classes": [
      "@docs"
     ],
     "id": ""
    }
   },
   "outputs": [],
   "source": [
    "Base.broadcast\n",
    "Base.Broadcast.broadcast!\n",
    "Base.@__dot__"
   ]
  },
  {
   "cell_type": "markdown",
   "id": "85c1e1f1",
   "metadata": {},
   "source": [
    "自定义类型的广播，请参照"
   ]
  },
  {
   "cell_type": "code",
   "execution_count": null,
   "id": "dc42c66d",
   "metadata": {
    "attributes": {
     "classes": [
      "@docs"
     ],
     "id": ""
    }
   },
   "outputs": [],
   "source": [
    "Base.BroadcastStyle\n",
    "Base.Broadcast.AbstractArrayStyle\n",
    "Base.Broadcast.ArrayStyle\n",
    "Base.Broadcast.DefaultArrayStyle\n",
    "Base.Broadcast.broadcastable\n",
    "Base.Broadcast.combine_axes\n",
    "Base.Broadcast.combine_styles\n",
    "Base.Broadcast.result_style"
   ]
  },
  {
   "cell_type": "markdown",
   "id": "104cf97a",
   "metadata": {},
   "source": [
    "## 索引与赋值"
   ]
  },
  {
   "cell_type": "code",
   "execution_count": null,
   "id": "e042eefa",
   "metadata": {
    "attributes": {
     "classes": [
      "@docs"
     ],
     "id": ""
    }
   },
   "outputs": [],
   "source": [
    "Base.getindex(::AbstractArray, ::Any...)\n",
    "Base.setindex!(::AbstractArray, ::Any, ::Any...)\n",
    "Base.copyto!(::AbstractArray, ::CartesianIndices, ::AbstractArray, ::CartesianIndices)\n",
    "Base.isassigned\n",
    "Base.Colon\n",
    "Base.CartesianIndex\n",
    "Base.CartesianIndices\n",
    "Base.Dims\n",
    "Base.LinearIndices\n",
    "Base.to_indices\n",
    "Base.checkbounds\n",
    "Base.checkindex"
   ]
  },
  {
   "cell_type": "markdown",
   "id": "9808dfdc",
   "metadata": {},
   "source": [
    "## Views (SubArrays 以及其它 view 类型)\n",
    "\n",
    "A “view” is a data structure that acts like an array (it is a subtype of `AbstractArray`), but the underlying data is actually\n",
    "part of another array.\n",
    "\n",
    "For example, if `x` is an array and `v = @view x[1:10]`, then `v` acts like a 10-element array, but its data is actually\n",
    "accessing the first 10 elements of `x`. Writing to a view, e.g. `v[3] = 2`, writes directly to the underlying array `x`\n",
    "(in this case modifying `x[3]`).\n",
    "\n",
    "Slicing operations like `x[1:10]` create a copy by default in Julia. `@view x[1:10]` changes it to make a view. The\n",
    "`@views` macro can be used on a whole block of code (e.g. `@views function foo() .... end` or `@views begin ... end`)\n",
    "to change all the slicing operations in that block to use views.  Sometimes making a copy of the data is faster and\n",
    "sometimes using a view is faster, as described in the [performance tips](@ref man-performance-views)."
   ]
  },
  {
   "cell_type": "code",
   "execution_count": null,
   "id": "70ecba70",
   "metadata": {
    "attributes": {
     "classes": [
      "@docs"
     ],
     "id": ""
    }
   },
   "outputs": [],
   "source": [
    "Base.view\n",
    "Base.@view\n",
    "Base.@views\n",
    "Base.parent\n",
    "Base.parentindices\n",
    "Base.selectdim\n",
    "Base.reinterpret\n",
    "Base.reshape\n",
    "Base.dropdims\n",
    "Base.vec"
   ]
  },
  {
   "cell_type": "markdown",
   "id": "ca0c81e6",
   "metadata": {},
   "source": [
    "## Concatenation and permutation"
   ]
  },
  {
   "cell_type": "code",
   "execution_count": null,
   "id": "4e4a6bb5",
   "metadata": {
    "attributes": {
     "classes": [
      "@docs"
     ],
     "id": ""
    }
   },
   "outputs": [],
   "source": [
    "Base.cat\n",
    "Base.vcat\n",
    "Base.hcat\n",
    "Base.hvcat\n",
    "Base.vect\n",
    "Base.circshift\n",
    "Base.circshift!\n",
    "Base.circcopy!\n",
    "Base.findall(::Any)\n",
    "Base.findall(::Function, ::Any)\n",
    "Base.findfirst(::Any)\n",
    "Base.findfirst(::Function, ::Any)\n",
    "Base.findlast(::Any)\n",
    "Base.findlast(::Function, ::Any)\n",
    "Base.findnext(::Any, ::Integer)\n",
    "Base.findnext(::Function, ::Any, ::Integer)\n",
    "Base.findprev(::Any, ::Integer)\n",
    "Base.findprev(::Function, ::Any, ::Integer)\n",
    "Base.permutedims\n",
    "Base.permutedims!\n",
    "Base.PermutedDimsArray\n",
    "Base.promote_shape"
   ]
  },
  {
   "cell_type": "markdown",
   "id": "440c703d",
   "metadata": {},
   "source": [
    "## Array functions"
   ]
  },
  {
   "cell_type": "code",
   "execution_count": null,
   "id": "d5b4af6c",
   "metadata": {
    "attributes": {
     "classes": [
      "@docs"
     ],
     "id": ""
    }
   },
   "outputs": [],
   "source": [
    "Base.accumulate\n",
    "Base.accumulate!\n",
    "Base.cumprod\n",
    "Base.cumprod!\n",
    "Base.cumsum\n",
    "Base.cumsum!\n",
    "Base.diff\n",
    "Base.repeat\n",
    "Base.rot180\n",
    "Base.rotl90\n",
    "Base.rotr90\n",
    "Base.mapslices\n",
    "Base.eachrow\n",
    "Base.eachcol\n",
    "Base.eachslice"
   ]
  },
  {
   "cell_type": "markdown",
   "id": "24d36d47",
   "metadata": {},
   "source": [
    "## Combinatorics"
   ]
  },
  {
   "cell_type": "code",
   "execution_count": null,
   "id": "bd4699b1",
   "metadata": {
    "attributes": {
     "classes": [
      "@docs"
     ],
     "id": ""
    }
   },
   "outputs": [],
   "source": [
    "Base.invperm\n",
    "Base.isperm\n",
    "Base.permute!(::Any, ::AbstractVector)\n",
    "Base.invpermute!\n",
    "Base.reverse(::AbstractVector; kwargs...)\n",
    "Base.reverseind\n",
    "Base.reverse!"
   ]
  }
 ],
 "metadata": {},
 "nbformat": 4,
 "nbformat_minor": 5
}
