{
 "cells": [
  {
   "cell_type": "markdown",
   "id": "f5fa630f",
   "metadata": {},
   "source": [
    "# printf() and stdio in the Julia runtime\n",
    "\n",
    "## Libuv wrappers for stdio\n",
    "\n",
    "`julia.h` defines [libuv](http://docs.libuv.org) wrappers for the `stdio.h` streams:"
   ]
  },
  {
   "cell_type": "code",
   "execution_count": null,
   "id": "52269da2",
   "metadata": {
    "attributes": {
     "classes": [
      "c"
     ],
     "id": ""
    }
   },
   "outputs": [],
   "source": [
    "uv_stream_t *JL_STDIN;\n",
    "uv_stream_t *JL_STDOUT;\n",
    "uv_stream_t *JL_STDERR;"
   ]
  },
  {
   "cell_type": "markdown",
   "id": "d0ede796",
   "metadata": {},
   "source": [
    "... and corresponding output functions:"
   ]
  },
  {
   "cell_type": "code",
   "execution_count": null,
   "id": "41c8d410",
   "metadata": {
    "attributes": {
     "classes": [
      "c"
     ],
     "id": ""
    }
   },
   "outputs": [],
   "source": [
    "int jl_printf(uv_stream_t *s, const char *format, ...);\n",
    "int jl_vprintf(uv_stream_t *s, const char *format, va_list args);"
   ]
  },
  {
   "cell_type": "markdown",
   "id": "9ccce2e5",
   "metadata": {},
   "source": [
    "These `printf` functions are used by the `.c` files in the `src/` and `ui/` directories wherever stdio is\n",
    "needed to ensure that output buffering is handled in a unified way.\n",
    "\n",
    "In special cases, like signal handlers, where the full libuv infrastructure is too heavy, `jl_safe_printf()`\n",
    "can be used to [`write(2)`](@ref) directly to `STDERR_FILENO`:"
   ]
  },
  {
   "cell_type": "code",
   "execution_count": null,
   "id": "b2a8d17c",
   "metadata": {
    "attributes": {
     "classes": [
      "c"
     ],
     "id": ""
    }
   },
   "outputs": [],
   "source": [
    "void jl_safe_printf(const char *str, ...);"
   ]
  },
  {
   "cell_type": "markdown",
   "id": "817a22ae",
   "metadata": {},
   "source": [
    "## Interface between JL_STD* and Julia code\n",
    "\n",
    "[`Base.stdin`](@ref), [`Base.stdout`](@ref) and [`Base.stderr`](@ref) are bound to the `JL_STD*` libuv\n",
    "streams defined in the runtime.\n",
    "\n",
    "Julia's `__init__()` function (in `base/sysimg.jl`) calls `reinit_stdio()` (in `base/stream.jl`)\n",
    "to create Julia objects for [`Base.stdin`](@ref), [`Base.stdout`](@ref) and [`Base.stderr`](@ref).\n",
    "\n",
    "`reinit_stdio()` uses [`ccall`](@ref) to retrieve pointers to `JL_STD*` and calls `jl_uv_handle_type()`\n",
    "to inspect the type of each stream.  It then creates a Julia `Base.IOStream`, `Base.TTY` or `Base.PipeEndpoint`\n",
    "object to represent each stream, e.g.:"
   ]
  },
  {
   "cell_type": "code",
   "execution_count": null,
   "id": "17fdcb6f",
   "metadata": {},
   "outputs": [],
   "source": [
    "$ julia -e 'println(typeof((stdin, stdout, stderr)))'\n",
    "Tuple{Base.TTY,Base.TTY,Base.TTY}\n",
    "\n",
    "$ julia -e 'println(typeof((stdin, stdout, stderr)))' < /dev/null 2>/dev/null\n",
    "Tuple{IOStream,Base.TTY,IOStream}\n",
    "\n",
    "$ echo hello | julia -e 'println(typeof((stdin, stdout, stderr)))' | cat\n",
    "Tuple{Base.PipeEndpoint,Base.PipeEndpoint,Base.TTY}"
   ]
  },
  {
   "cell_type": "markdown",
   "id": "925d2889",
   "metadata": {},
   "source": [
    "The [`Base.read`](@ref) and [`Base.write`](@ref) methods for these streams use [`ccall`](@ref)\n",
    "to call libuv wrappers in `src/jl_uv.c`, e.g.:"
   ]
  },
  {
   "cell_type": "code",
   "execution_count": null,
   "id": "fc280229",
   "metadata": {},
   "outputs": [],
   "source": [
    "stream.jl: function write(s::IO, p::Ptr, nb::Integer)\n",
    "               -> ccall(:jl_uv_write, ...)\n",
    "  jl_uv.c:          -> int jl_uv_write(uv_stream_t *stream, ...)\n",
    "                        -> uv_write(uvw, stream, buf, ...)"
   ]
  },
  {
   "cell_type": "markdown",
   "id": "c8f567fe",
   "metadata": {},
   "source": [
    "## printf() during initialization\n",
    "\n",
    "The libuv streams relied upon by `jl_printf()` etc., are not available until midway through\n",
    "initialization of the runtime (see `init.c`, `init_stdio()`).  Error messages or warnings that\n",
    "need to be printed before this are routed to the standard C library `fwrite()` function by the\n",
    "following mechanism:\n",
    "\n",
    "In `sys.c`, the `JL_STD*` stream pointers are statically initialized to integer constants: `STD*_FILENO (0, 1 and 2)`.\n",
    "In `jl_uv.c` the `jl_uv_puts()` function checks its `uv_stream_t* stream` argument and calls\n",
    "`fwrite()` if stream is set to `STDOUT_FILENO` or `STDERR_FILENO`.\n",
    "\n",
    "This allows for uniform use of `jl_printf()` throughout the runtime regardless of whether or not\n",
    "any particular piece of code is reachable before initialization is complete.\n",
    "\n",
    "## Legacy `ios.c` library\n",
    "\n",
    "The `src/support/ios.c` library is inherited from [femtolisp](https://github.com/JeffBezanson/femtolisp).\n",
    "It provides cross-platform buffered file IO and in-memory temporary buffers.\n",
    "\n",
    "`ios.c` is still used by:\n",
    "\n",
    "  * `src/flisp/*.c`\n",
    "  * `src/dump.c` – for serialization file IO and for memory buffers.\n",
    "  * `src/staticdata.c` – for serialization file IO and for memory buffers.\n",
    "  * `base/iostream.jl` – for file IO (see `base/fs.jl` for libuv equivalent).\n",
    "\n",
    "Use of `ios.c` in these modules is mostly self-contained and separated from the libuv I/O system.\n",
    "However, there is [one place](https://github.com/JuliaLang/julia/blob/master/src/flisp/print.c#L654)\n",
    "where femtolisp calls through to `jl_printf()` with a legacy `ios_t` stream.\n",
    "\n",
    "There is a hack in `ios.h` that makes the `ios_t.bm` field line up with the `uv_stream_t.type`\n",
    "and ensures that the values used for `ios_t.bm` to not overlap with valid `UV_HANDLE_TYPE` values.\n",
    " This allows `uv_stream_t` pointers to point to `ios_t` streams.\n",
    "\n",
    "This is needed because `jl_printf()` caller `jl_static_show()` is passed an `ios_t` stream by\n",
    "femtolisp's `fl_print()` function. Julia's `jl_uv_puts()` function has special handling for this:"
   ]
  },
  {
   "cell_type": "code",
   "execution_count": null,
   "id": "377ea07e",
   "metadata": {
    "attributes": {
     "classes": [
      "c"
     ],
     "id": ""
    }
   },
   "outputs": [],
   "source": [
    "if (stream->type > UV_HANDLE_TYPE_MAX) {\n",
    "    return ios_write((ios_t*)stream, str, n);\n",
    "}"
   ]
  }
 ],
 "metadata": {},
 "nbformat": 4,
 "nbformat_minor": 5
}
