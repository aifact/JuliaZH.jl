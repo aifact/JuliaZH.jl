{
 "cells": [
  {
   "cell_type": "markdown",
   "id": "e97ae0db",
   "metadata": {},
   "source": [
    "# 笛卡尔\n",
    "\n",
    "The (non-exported) Cartesian module provides macros that facilitate writing multidimensional algorithms.\n",
    "Most often you can write such algorithms with [straightforward techniques](https://julialang.org/blog/2016/02/iteration); however, there are a few cases where `Base.Cartesian` is still useful or necessary.\n",
    "\n",
    "## Principles of usage\n",
    "\n",
    "A simple example of usage is:"
   ]
  },
  {
   "cell_type": "code",
   "execution_count": null,
   "id": "be5a0ffb",
   "metadata": {
    "attributes": {
     "classes": [
      "julia"
     ],
     "id": ""
    }
   },
   "outputs": [],
   "source": [
    "@nloops 3 i A begin\n",
    "    s += @nref 3 A i\n",
    "end"
   ]
  },
  {
   "cell_type": "markdown",
   "id": "95a9cd32",
   "metadata": {},
   "source": [
    "which generates the following code:"
   ]
  },
  {
   "cell_type": "code",
   "execution_count": null,
   "id": "9faf9d8f",
   "metadata": {
    "attributes": {
     "classes": [
      "julia"
     ],
     "id": ""
    }
   },
   "outputs": [],
   "source": [
    "for i_3 = axes(A, 3)\n",
    "    for i_2 = axes(A, 2)\n",
    "        for i_1 = axes(A, 1)\n",
    "            s += A[i_1, i_2, i_3]\n",
    "        end\n",
    "    end\n",
    "end"
   ]
  },
  {
   "cell_type": "markdown",
   "id": "833a2288",
   "metadata": {},
   "source": [
    "In general, Cartesian allows you to write generic code that contains repetitive elements, like\n",
    "the nested loops in this example.  Other applications include repeated expressions (e.g., loop\n",
    "unwinding) or creating function calls with variable numbers of arguments without using the \"splat\"\n",
    "construct (`i...`).\n",
    "\n",
    "## 基本语法\n",
    "\n",
    "The (basic) syntax of `@nloops` is as follows:\n",
    "\n",
    "  * The first argument must be an integer (*not* a variable) specifying the number of loops.\n",
    "  * The second argument is the symbol-prefix used for the iterator variable. Here we used `i`, and\n",
    "    variables `i_1, i_2, i_3` were generated.\n",
    "  * The third argument specifies the range for each iterator variable. If you use a variable (symbol)\n",
    "    here, it's taken as `axes(A, dim)`. More flexibly, you can use the anonymous-function expression\n",
    "    syntax described below.\n",
    "  * The last argument is the body of the loop. Here, that's what appears between the `begin...end`.\n",
    "\n",
    "There are some additional features of `@nloops` described in the [reference section](@ref dev-cartesian-reference).\n",
    "\n",
    "`@nref` follows a similar pattern, generating `A[i_1,i_2,i_3]` from `@nref 3 A i`. The general\n",
    "practice is to read from left to right, which is why `@nloops` is `@nloops 3 i A expr` (as in\n",
    "`for i_2 = axes(A, 2)`, where `i_2` is to the left and the range is to the right) whereas `@nref`\n",
    "is `@nref 3 A i` (as in `A[i_1,i_2,i_3]`, where the array comes first).\n",
    "\n",
    "If you're developing code with Cartesian, you may find that debugging is easier when you examine\n",
    "the generated code, using `@macroexpand`:"
   ]
  },
  {
   "cell_type": "code",
   "execution_count": null,
   "id": "34121151",
   "metadata": {
    "attributes": {
     "classes": [
      "@meta"
     ],
     "id": ""
    }
   },
   "outputs": [],
   "source": [
    "DocTestSetup = quote\n",
    "    import Base.Cartesian: @nref\n",
    "end"
   ]
  },
  {
   "cell_type": "code",
   "execution_count": null,
   "id": "f0498669",
   "metadata": {
    "attributes": {
     "classes": [
      "jldoctest"
     ],
     "id": ""
    }
   },
   "outputs": [],
   "source": [
    "julia> @macroexpand @nref 2 A i\n",
    ":(A[i_1, i_2])"
   ]
  },
  {
   "cell_type": "code",
   "execution_count": null,
   "id": "4b874547",
   "metadata": {
    "attributes": {
     "classes": [
      "@meta"
     ],
     "id": ""
    }
   },
   "outputs": [],
   "source": [
    "DocTestSetup = nothing"
   ]
  },
  {
   "cell_type": "markdown",
   "id": "5af94453",
   "metadata": {},
   "source": [
    "### Supplying the number of expressions\n",
    "\n",
    "The first argument to both of these macros is the number of expressions, which must be an integer.\n",
    "When you're writing a function that you intend to work in multiple dimensions, this may not be\n",
    "something you want to hard-code. The recommended approach is to use a `@generated function`.  Here's\n",
    "an example:"
   ]
  },
  {
   "cell_type": "code",
   "execution_count": null,
   "id": "116c85a7",
   "metadata": {
    "attributes": {
     "classes": [
      "julia"
     ],
     "id": ""
    }
   },
   "outputs": [],
   "source": [
    "@generated function mysum(A::Array{T,N}) where {T,N}\n",
    "    quote\n",
    "        s = zero(T)\n",
    "        @nloops $N i A begin\n",
    "            s += @nref $N A i\n",
    "        end\n",
    "        s\n",
    "    end\n",
    "end"
   ]
  },
  {
   "cell_type": "markdown",
   "id": "b3758904",
   "metadata": {},
   "source": [
    "Naturally, you can also prepare expressions or perform calculations before the `quote` block.\n",
    "\n",
    "### Anonymous-function expressions as macro arguments\n",
    "\n",
    "Perhaps the single most powerful feature in `Cartesian` is the ability to supply anonymous-function\n",
    "expressions that get evaluated at parsing time.  Let's consider a simple example:"
   ]
  },
  {
   "cell_type": "code",
   "execution_count": null,
   "id": "01350dc2",
   "metadata": {
    "attributes": {
     "classes": [
      "julia"
     ],
     "id": ""
    }
   },
   "outputs": [],
   "source": [
    "@nexprs 2 j->(i_j = 1)"
   ]
  },
  {
   "cell_type": "markdown",
   "id": "201387dc",
   "metadata": {},
   "source": [
    "`@nexprs` generates `n` expressions that follow a pattern. This code would generate the following\n",
    "statements:"
   ]
  },
  {
   "cell_type": "code",
   "execution_count": null,
   "id": "4250e2f6",
   "metadata": {
    "attributes": {
     "classes": [
      "julia"
     ],
     "id": ""
    }
   },
   "outputs": [],
   "source": [
    "i_1 = 1\n",
    "i_2 = 1"
   ]
  },
  {
   "cell_type": "markdown",
   "id": "51806167",
   "metadata": {},
   "source": [
    "In each generated statement, an \"isolated\" `j` (the variable of the anonymous function) gets replaced\n",
    "by values in the range `1:2`. Generally speaking, Cartesian employs a LaTeX-like syntax.  This\n",
    "allows you to do math on the index `j`.  Here's an example computing the strides of an array:"
   ]
  },
  {
   "cell_type": "code",
   "execution_count": null,
   "id": "a494734e",
   "metadata": {
    "attributes": {
     "classes": [
      "julia"
     ],
     "id": ""
    }
   },
   "outputs": [],
   "source": [
    "s_1 = 1\n",
    "@nexprs 3 j->(s_{j+1} = s_j * size(A, j))"
   ]
  },
  {
   "cell_type": "markdown",
   "id": "91451ebc",
   "metadata": {},
   "source": [
    "would generate expressions"
   ]
  },
  {
   "cell_type": "code",
   "execution_count": null,
   "id": "b230bea7",
   "metadata": {
    "attributes": {
     "classes": [
      "julia"
     ],
     "id": ""
    }
   },
   "outputs": [],
   "source": [
    "s_1 = 1\n",
    "s_2 = s_1 * size(A, 1)\n",
    "s_3 = s_2 * size(A, 2)\n",
    "s_4 = s_3 * size(A, 3)"
   ]
  },
  {
   "cell_type": "markdown",
   "id": "d8577397",
   "metadata": {},
   "source": [
    "Anonymous-function expressions have many uses in practice.\n",
    "\n",
    "#### [Macro reference](@id dev-cartesian-reference)"
   ]
  },
  {
   "cell_type": "code",
   "execution_count": null,
   "id": "ed154bad",
   "metadata": {
    "attributes": {
     "classes": [
      "@docs"
     ],
     "id": ""
    }
   },
   "outputs": [],
   "source": [
    "Base.Cartesian.@nloops\n",
    "Base.Cartesian.@nref\n",
    "Base.Cartesian.@nextract\n",
    "Base.Cartesian.@nexprs\n",
    "Base.Cartesian.@ncall\n",
    "Base.Cartesian.@ntuple\n",
    "Base.Cartesian.@nall\n",
    "Base.Cartesian.@nany\n",
    "Base.Cartesian.@nif"
   ]
  }
 ],
 "metadata": {},
 "nbformat": 4,
 "nbformat_minor": 5
}
