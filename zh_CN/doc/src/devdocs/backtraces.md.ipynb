{
 "cells": [
  {
   "cell_type": "markdown",
   "id": "4d0c2074",
   "metadata": {},
   "source": [
    "# 报告和分析崩溃（段错误）\n",
    "\n",
    "So you managed to break Julia.  Congratulations!  Collected here are some general procedures you\n",
    "can undergo for common symptoms encountered when something goes awry.  Including the information\n",
    "from these debugging steps can greatly help the maintainers when tracking down a segfault or trying\n",
    "to figure out why your script is running slower than expected.\n",
    "\n",
    "If you've been directed to this page, find the symptom that best matches what you're experiencing\n",
    "and follow the instructions to generate the debugging information requested.  Table of symptoms:\n",
    "\n",
    "  * [自举启动阶段的段错误 (`sysimg.jl`)](@ref)\n",
    "  * [运行脚本时的段错误](@ref)\n",
    "  * [启动 Julia 时发生的段错误](@ref)\n",
    "\n",
    "## [版本/环境信息](@id dev-version-info)\n",
    "\n",
    "No matter the error, we will always need to know what version of Julia you are running. When Julia\n",
    "first starts up, a header is printed out with a version number and date. Please also include the output of `versioninfo()` (exported from the [`InteractiveUtils`](@ref InteractiveUtils.versioninfo) standard library) in any report you create:"
   ]
  },
  {
   "cell_type": "code",
   "execution_count": null,
   "id": "40ab50b7",
   "metadata": {
    "attributes": {
     "classes": [
      "@repl"
     ],
     "id": ""
    }
   },
   "outputs": [],
   "source": [
    "using InteractiveUtils\n",
    "versioninfo()"
   ]
  },
  {
   "cell_type": "markdown",
   "id": "78e013a7",
   "metadata": {},
   "source": [
    "## Segfaults during bootstrap (`sysimg.jl`)\n",
    "\n",
    "Segfaults toward the end of the `make` process of building Julia are a common symptom of something\n",
    "going wrong while Julia is preparsing the corpus of code in the `base/` folder.  Many factors\n",
    "can contribute toward this process dying unexpectedly, however it is as often as not due to an\n",
    "error in the C-code portion of Julia, and as such must typically be debugged with a debug build\n",
    "inside of `gdb`.  Explicitly:\n",
    "\n",
    "Create a debug build of Julia:"
   ]
  },
  {
   "cell_type": "code",
   "execution_count": null,
   "id": "512abdeb",
   "metadata": {},
   "outputs": [],
   "source": [
    "$ cd <julia_root>\n",
    "$ make debug"
   ]
  },
  {
   "cell_type": "markdown",
   "id": "9ee98778",
   "metadata": {},
   "source": [
    "Note that this process will likely fail with the same error as a normal `make` incantation, however\n",
    "this will create a debug executable that will offer `gdb` the debugging symbols needed to get\n",
    "accurate backtraces.  Next, manually run the bootstrap process inside of `gdb`:"
   ]
  },
  {
   "cell_type": "code",
   "execution_count": null,
   "id": "658608d3",
   "metadata": {},
   "outputs": [],
   "source": [
    "$ cd base/\n",
    "$ gdb -x ../contrib/debug_bootstrap.gdb"
   ]
  },
  {
   "cell_type": "markdown",
   "id": "2eeaab3b",
   "metadata": {},
   "source": [
    "This will start `gdb`, attempt to run the bootstrap process using the debug build of Julia, and\n",
    "print out a backtrace if (when) it segfaults.  You may need to hit `<enter>` a few times to get\n",
    "the full backtrace.  Create a [gist](https://gist.github.com) with the backtrace, the [version info](@ref dev-version-info),\n",
    "and any other pertinent information you can think of and open a new [issue](https://github.com/JuliaLang/julia/issues?q=is%3Aopen)\n",
    "on Github with a link to the gist.\n",
    "\n",
    "## Segfaults when running a script\n",
    "\n",
    "The procedure is very similar to [Segfaults during bootstrap (`sysimg.jl`)](@ref).  Create a debug\n",
    "build of Julia, and run your script inside of a debugged Julia process:"
   ]
  },
  {
   "cell_type": "code",
   "execution_count": null,
   "id": "ebeb3118",
   "metadata": {},
   "outputs": [],
   "source": [
    "$ cd <julia_root>\n",
    "$ make debug\n",
    "$ gdb --args usr/bin/julia-debug <path_to_your_script>"
   ]
  },
  {
   "cell_type": "markdown",
   "id": "88bde847",
   "metadata": {},
   "source": [
    "Note that `gdb` will sit there, waiting for instructions.  Type `r` to run the process, and `bt`\n",
    "to generate a backtrace once it segfaults:"
   ]
  },
  {
   "cell_type": "code",
   "execution_count": null,
   "id": "1693ddc6",
   "metadata": {},
   "outputs": [],
   "source": [
    "(gdb) r\n",
    "Starting program: /home/sabae/src/julia/usr/bin/julia-debug ./test.jl\n",
    "...\n",
    "(gdb) bt"
   ]
  },
  {
   "cell_type": "markdown",
   "id": "029b13df",
   "metadata": {},
   "source": [
    "Create a [gist](https://gist.github.com) with the backtrace, the [version info](@ref dev-version-info), and any\n",
    "other pertinent information you can think of and open a new [issue](https://github.com/JuliaLang/julia/issues?q=is%3Aopen)\n",
    "on Github with a link to the gist.\n",
    "\n",
    "## Errors during Julia startup\n",
    "\n",
    "Occasionally errors occur during Julia's startup process (especially when using binary distributions,\n",
    "as opposed to compiling from source) such as the following:"
   ]
  },
  {
   "cell_type": "code",
   "execution_count": null,
   "id": "f70dc47b",
   "metadata": {
    "attributes": {
     "classes": [
      "julia"
     ],
     "id": ""
    }
   },
   "outputs": [],
   "source": [
    "$ julia\n",
    "exec: error -5"
   ]
  },
  {
   "cell_type": "markdown",
   "id": "cc08fca3",
   "metadata": {},
   "source": [
    "These errors typically indicate something is not getting loaded properly very early on in the\n",
    "bootup phase, and our best bet in determining what's going wrong is to use external tools to audit\n",
    "the disk activity of the `julia` process:\n",
    "\n",
    "  * On Linux, use `strace`:"
   ]
  },
  {
   "cell_type": "code",
   "execution_count": null,
   "id": "afdaf145",
   "metadata": {},
   "outputs": [],
   "source": [
    "```\n",
    "$ strace julia\n",
    "```\n",
    "  * On OSX, use `dtruss`:\n",
    "\n",
    "```\n",
    "$ dtruss -f julia\n",
    "```"
   ]
  },
  {
   "cell_type": "markdown",
   "id": "ce45b3ef",
   "metadata": {},
   "source": [
    "Create a [gist](https://gist.github.com) with the `strace`/ `dtruss` output, the [version info](@ref dev-version-info),\n",
    "and any other pertinent information and open a new [issue](https://github.com/JuliaLang/julia/issues?q=is%3Aopen)\n",
    "on Github with a link to the gist.\n",
    "\n",
    "## 术语表\n",
    "\n",
    "A few terms have been used as shorthand in this guide:\n",
    "\n",
    "  * `<julia_root>` refers to the root directory of the Julia source tree; e.g. it should contain folders\n",
    "    such as `base`, `deps`, `src`, `test`, etc....."
   ]
  }
 ],
 "metadata": {},
 "nbformat": 4,
 "nbformat_minor": 5
}
