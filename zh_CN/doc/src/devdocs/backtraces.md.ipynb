{
 "cells": [
  {
   "cell_type": "markdown",
   "id": "c69ccaae",
   "metadata": {},
   "source": [
    "# 报告和分析崩溃（段错误）\n",
    "\n",
    "So you managed to break Julia.  Congratulations!  Collected here are some general procedures you\n",
    "can undergo for common symptoms encountered when something goes awry.  Including the information\n",
    "from these debugging steps can greatly help the maintainers when tracking down a segfault or trying\n",
    "to figure out why your script is running slower than expected.\n",
    "\n",
    "If you've been directed to this page, find the symptom that best matches what you're experiencing\n",
    "and follow the instructions to generate the debugging information requested.  Table of symptoms:\n",
    "\n",
    "  * [Segfaults during bootstrap (`sysimg.jl`)](@ref)\n",
    "  * [Segfaults when running a script](@ref)\n",
    "  * [Errors during Julia startup](@ref)\n",
    "  * [Other generic segfaults or unreachables reached](@ref)\n",
    "\n",
    "## [Version/Environment info](@id dev-version-info)\n",
    "\n",
    "No matter the error, we will always need to know what version of Julia you are running. When Julia\n",
    "first starts up, a header is printed out with a version number and date. Please also include the output of `versioninfo()` (exported from the [`InteractiveUtils`](@ref InteractiveUtils.versioninfo) standard library) in any report you create:"
   ]
  },
  {
   "cell_type": "code",
   "execution_count": null,
   "id": "fa0c2b13",
   "metadata": {
    "attributes": {
     "classes": [
      "@repl"
     ],
     "id": ""
    }
   },
   "outputs": [],
   "source": [
    "using InteractiveUtils\n",
    "versioninfo()"
   ]
  },
  {
   "cell_type": "markdown",
   "id": "fbc7e08c",
   "metadata": {},
   "source": [
    "## Segfaults during bootstrap (`sysimg.jl`)\n",
    "\n",
    "Segfaults toward the end of the `make` process of building Julia are a common symptom of something\n",
    "going wrong while Julia is preparsing the corpus of code in the `base/` folder.  Many factors\n",
    "can contribute toward this process dying unexpectedly, however it is as often as not due to an\n",
    "error in the C-code portion of Julia, and as such must typically be debugged with a debug build\n",
    "inside of `gdb`.  Explicitly:\n",
    "\n",
    "Create a debug build of Julia:"
   ]
  },
  {
   "cell_type": "code",
   "execution_count": null,
   "id": "87dab18e",
   "metadata": {},
   "outputs": [],
   "source": [
    "$ cd <julia_root>\n",
    "$ make debug"
   ]
  },
  {
   "cell_type": "markdown",
   "id": "5b9ef15d",
   "metadata": {},
   "source": [
    "Note that this process will likely fail with the same error as a normal `make` incantation, however\n",
    "this will create a debug executable that will offer `gdb` the debugging symbols needed to get\n",
    "accurate backtraces.  Next, manually run the bootstrap process inside of `gdb`:"
   ]
  },
  {
   "cell_type": "code",
   "execution_count": null,
   "id": "9ff220cb",
   "metadata": {},
   "outputs": [],
   "source": [
    "$ cd base/\n",
    "$ gdb -x ../contrib/debug_bootstrap.gdb"
   ]
  },
  {
   "cell_type": "markdown",
   "id": "910d857c",
   "metadata": {},
   "source": [
    "This will start `gdb`, attempt to run the bootstrap process using the debug build of Julia, and\n",
    "print out a backtrace if (when) it segfaults.  You may need to hit `<enter>` a few times to get\n",
    "the full backtrace.  Create a [gist](https://gist.github.com) with the backtrace, the [version info](@ref dev-version-info),\n",
    "and any other pertinent information you can think of and open a new [issue](https://github.com/JuliaLang/julia/issues?q=is%3Aopen)\n",
    "on Github with a link to the gist.\n",
    "\n",
    "## Segfaults when running a script\n",
    "\n",
    "The procedure is very similar to [Segfaults during bootstrap (`sysimg.jl`)](@ref).  Create a debug\n",
    "build of Julia, and run your script inside of a debugged Julia process:"
   ]
  },
  {
   "cell_type": "code",
   "execution_count": null,
   "id": "74c3a60e",
   "metadata": {},
   "outputs": [],
   "source": [
    "$ cd <julia_root>\n",
    "$ make debug\n",
    "$ gdb --args usr/bin/julia-debug <path_to_your_script>"
   ]
  },
  {
   "cell_type": "markdown",
   "id": "c3173e9e",
   "metadata": {},
   "source": [
    "Note that `gdb` will sit there, waiting for instructions.  Type `r` to run the process, and `bt`\n",
    "to generate a backtrace once it segfaults:"
   ]
  },
  {
   "cell_type": "code",
   "execution_count": null,
   "id": "fd879dfb",
   "metadata": {},
   "outputs": [],
   "source": [
    "(gdb) r\n",
    "Starting program: /home/sabae/src/julia/usr/bin/julia-debug ./test.jl\n",
    "...\n",
    "(gdb) bt"
   ]
  },
  {
   "cell_type": "markdown",
   "id": "7f40d9b1",
   "metadata": {},
   "source": [
    "Create a [gist](https://gist.github.com) with the backtrace, the [version info](@ref dev-version-info), and any\n",
    "other pertinent information you can think of and open a new [issue](https://github.com/JuliaLang/julia/issues?q=is%3Aopen)\n",
    "on Github with a link to the gist.\n",
    "\n",
    "## Errors during Julia startup\n",
    "\n",
    "Occasionally errors occur during Julia's startup process (especially when using binary distributions,\n",
    "as opposed to compiling from source) such as the following:"
   ]
  },
  {
   "cell_type": "code",
   "execution_count": null,
   "id": "b265763b",
   "metadata": {
    "attributes": {
     "classes": [
      "julia"
     ],
     "id": ""
    }
   },
   "outputs": [],
   "source": [
    "$ julia\n",
    "exec: error -5"
   ]
  },
  {
   "cell_type": "markdown",
   "id": "633cf242",
   "metadata": {},
   "source": [
    "These errors typically indicate something is not getting loaded properly very early on in the\n",
    "bootup phase, and our best bet in determining what's going wrong is to use external tools to audit\n",
    "the disk activity of the `julia` process:\n",
    "\n",
    "  * On Linux, use `strace`:"
   ]
  },
  {
   "cell_type": "code",
   "execution_count": null,
   "id": "be460a44",
   "metadata": {},
   "outputs": [],
   "source": [
    "```\n",
    "$ strace julia\n",
    "```\n",
    "  * On OSX, use `dtruss`:\n",
    "\n",
    "```\n",
    "$ dtruss -f julia\n",
    "```"
   ]
  },
  {
   "cell_type": "markdown",
   "id": "3007383d",
   "metadata": {},
   "source": [
    "Create a [gist](https://gist.github.com) with the `strace`/ `dtruss` output, the [version info](@ref dev-version-info),\n",
    "and any other pertinent information and open a new [issue](https://github.com/JuliaLang/julia/issues?q=is%3Aopen)\n",
    "on Github with a link to the gist.\n",
    "\n",
    "## Other generic segfaults or unreachables reached\n",
    "\n",
    "As mentioned elsewhere, `julia` has good integration with `rr` for generating traces; this includes, on Linux, the ability to automatically run `julia` under `rr` and share the trace after a crash. This can be immensely helpful when debugging such crashes and is strongly encouraged when reporting crash issues to the JuliaLang/julia repo. To run `julia` under `rr` automatically, do:"
   ]
  },
  {
   "cell_type": "code",
   "execution_count": null,
   "id": "e78b3f39",
   "metadata": {
    "attributes": {
     "classes": [
      "julia"
     ],
     "id": ""
    }
   },
   "outputs": [],
   "source": [
    "julia --bug-report=rr"
   ]
  },
  {
   "cell_type": "markdown",
   "id": "f60dff7b",
   "metadata": {},
   "source": [
    "To generate the `rr` trace locally, but not share, you can do:"
   ]
  },
  {
   "cell_type": "code",
   "execution_count": null,
   "id": "7b1a2b20",
   "metadata": {
    "attributes": {
     "classes": [
      "julia"
     ],
     "id": ""
    }
   },
   "outputs": [],
   "source": [
    "julia --bug-report=rr-local"
   ]
  },
  {
   "cell_type": "markdown",
   "id": "ac9a6a9e",
   "metadata": {},
   "source": [
    "Note that this is only works on Linux. The blog post on [Time Travelling Bug Reporting](https://julialang.org/blog/2020/05/rr/) has many more details.\n",
    "\n",
    "## Glossary\n",
    "\n",
    "A few terms have been used as shorthand in this guide:\n",
    "\n",
    "  * `<julia_root>` refers to the root directory of the Julia source tree; e.g. it should contain folders\n",
    "    such as `base`, `deps`, `src`, `test`, etc....."
   ]
  }
 ],
 "metadata": {},
 "nbformat": 4,
 "nbformat_minor": 5
}
