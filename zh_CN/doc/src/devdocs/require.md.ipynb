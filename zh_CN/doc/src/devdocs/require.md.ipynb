{
 "cells": [
  {
   "cell_type": "markdown",
   "id": "6e753f8b",
   "metadata": {},
   "source": [
    "# Module loading\n",
    "\n",
    "[`Base.require`](@ref) is responsible for loading modules and it also manages the\n",
    "precompilation cache. It is the implementation of the `import` statement.\n",
    "\n",
    "## Experimental features\n",
    "The features below are experimental and not part of the stable Julia API.\n",
    "Before building upon them inform yourself about the current thinking and whether they might change soon.\n",
    "\n",
    "### Module loading callbacks\n",
    "\n",
    "It is possible to listen to the modules loaded by `Base.require`, by registering a callback."
   ]
  },
  {
   "cell_type": "code",
   "execution_count": null,
   "id": "2a95cd1b",
   "metadata": {
    "attributes": {
     "classes": [
      "julia"
     ],
     "id": ""
    }
   },
   "outputs": [],
   "source": [
    "loaded_packages = Channel{Symbol}()\n",
    "callback = (mod::Symbol) -> put!(loaded_packages, mod)\n",
    "push!(Base.package_callbacks, callback)"
   ]
  },
  {
   "cell_type": "markdown",
   "id": "195cd271",
   "metadata": {},
   "source": [
    "Please note that the symbol given to the callback is a non-unique identifier and\n",
    "it is the responsibility of the callback provider to walk the module chain to\n",
    "determine the fully qualified name of the loaded binding.\n",
    "\n",
    "The callback below is an example of how to do that:"
   ]
  },
  {
   "cell_type": "code",
   "execution_count": null,
   "id": "8f54dd99",
   "metadata": {
    "attributes": {
     "classes": [
      "julia"
     ],
     "id": ""
    }
   },
   "outputs": [],
   "source": [
    "# Get the fully-qualified name of a module.\n",
    "function module_fqn(name::Symbol)\n",
    "    fqn = fullname(Base.root_module(name))\n",
    "    return join(fqn, '.')\n",
    "end"
   ]
  }
 ],
 "metadata": {},
 "nbformat": 4,
 "nbformat_minor": 5
}
