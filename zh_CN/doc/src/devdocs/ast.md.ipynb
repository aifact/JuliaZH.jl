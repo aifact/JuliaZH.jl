{
 "cells": [
  {
   "cell_type": "markdown",
   "id": "815d3d39",
   "metadata": {},
   "source": [
    "# Julia 的 AST\n",
    "\n",
    "Julia 有两种代码的表现形式。\n",
    "第一种是解析器返回的表面语法 AST （例如 [`Meta.parse`](@ref) 函数），由宏来操控。是代码编写时的结构化表示，由 `julia-parser.scm` 用字符流构造而成。\n",
    "另一种则是底层形式，或者 IR（中间表示），这种形式在进行类型推导和代码生成的时候被使用。在这种底层形式中结点的类型相对更少，所有的宏都会被展开，所有的控制流会被转化成显式的分支和语句的序列。底层的形式由 `julia-syntax.scm` 构建。\n",
    "\n",
    "First we will focus on the AST, since it is needed to write macros.\n",
    "\n",
    "## Surface syntax AST\n",
    "\n",
    "Front end ASTs consist almost entirely of [`Expr`](@ref)s and atoms (e.g. symbols, numbers).\n",
    "There is generally a different expression head for each visually distinct syntactic form.\n",
    "Examples will be given in s-expression syntax.\n",
    "Each parenthesized list corresponds to an Expr, where the first element is the head.\n",
    "For example `(call f x)` corresponds to `Expr(:call, :f, :x)` in Julia.\n",
    "\n",
    "### Calls\n",
    "\n",
    "| Input            | AST                                |\n",
    "|:---------------- |:---------------------------------- |\n",
    "| `f(x)`           | `(call f x)`                       |\n",
    "| `f(x, y=1, z=2)` | `(call f x (kw y 1) (kw z 2))`     |\n",
    "| `f(x; y=1)`      | `(call f (parameters (kw y 1)) x)` |\n",
    "| `f(x...)`        | `(call f (... x))`                 |\n",
    "\n",
    "`do` syntax:"
   ]
  },
  {
   "cell_type": "code",
   "execution_count": null,
   "id": "94519e26",
   "metadata": {
    "attributes": {
     "classes": [
      "julia"
     ],
     "id": ""
    }
   },
   "outputs": [],
   "source": [
    "f(x) do a,b\n",
    "    body\n",
    "end"
   ]
  },
  {
   "cell_type": "markdown",
   "id": "27f68586",
   "metadata": {},
   "source": [
    "parses as `(do (call f x) (-> (tuple a b) (block body)))`.\n",
    "\n",
    "### Operators\n",
    "\n",
    "Most uses of operators are just function calls, so they are parsed with the head `call`. However\n",
    "some operators are special forms (not necessarily function calls), and in those cases the operator\n",
    "itself is the expression head. In julia-parser.scm these are referred to as \"syntactic operators\".\n",
    "Some operators (`+` and `*`) use N-ary parsing; chained calls are parsed as a single N-argument\n",
    "call. Finally, chains of comparisons have their own special expression structure.\n",
    "\n",
    "| Input       | AST                       |\n",
    "|:----------- |:------------------------- |\n",
    "| `x+y`       | `(call + x y)`            |\n",
    "| `a+b+c+d`   | `(call + a b c d)`        |\n",
    "| `2x`        | `(call * 2 x)`            |\n",
    "| `a&&b`      | `(&& a b)`                |\n",
    "| `x += 1`    | `(+= x 1)`                |\n",
    "| `a ? 1 : 2` | `(if a 1 2)`              |\n",
    "| `a:b`       | `(: a b)`                 |\n",
    "| `a:b:c`     | `(: a b c)`               |\n",
    "| `a,b`       | `(tuple a b)`             |\n",
    "| `a==b`      | `(call == a b)`           |\n",
    "| `1<i<=n`    | `(comparison 1 < i <= n)` |\n",
    "| `a.b`       | `(. a (quote b))`         |\n",
    "| `a.(b)`     | `(. a (tuple b))`         |\n",
    "\n",
    "### Bracketed forms\n",
    "\n",
    "| Input                    | AST                                  |\n",
    "|:------------------------ |:------------------------------------ |\n",
    "| `a[i]`                   | `(ref a i)`                          |\n",
    "| `t[i;j]`                 | `(typed_vcat t i j)`                 |\n",
    "| `t[i j]`                 | `(typed_hcat t i j)`                 |\n",
    "| `t[a b; c d]`            | `(typed_vcat t (row a b) (row c d))` |\n",
    "| `a{b}`                   | `(curly a b)`                        |\n",
    "| `a{b;c}`                 | `(curly a (parameters c) b)`         |\n",
    "| `[x]`                    | `(vect x)`                           |\n",
    "| `[x,y]`                  | `(vect x y)`                         |\n",
    "| `[x;y]`                  | `(vcat x y)`                         |\n",
    "| `[x y]`                  | `(hcat x y)`                         |\n",
    "| `[x y; z t]`             | `(vcat (row x y) (row z t))`         |\n",
    "| `[x for y in z, a in b]` | `(comprehension x (= y z) (= a b))`  |\n",
    "| `T[x for y in z]`        | `(typed_comprehension T x (= y z))`  |\n",
    "| `(a, b, c)`              | `(tuple a b c)`                      |\n",
    "| `(a; b; c)`              | `(block a (block b c))`              |\n",
    "\n",
    "### Macros\n",
    "\n",
    "| Input         | AST                                          |\n",
    "|:------------- |:-------------------------------------------- |\n",
    "| `@m x y`      | `(macrocall @m (line) x y)`                  |\n",
    "| `Base.@m x y` | `(macrocall (. Base (quote @m)) (line) x y)` |\n",
    "| `@Base.m x y` | `(macrocall (. Base (quote @m)) (line) x y)` |\n",
    "\n",
    "### Strings\n",
    "\n",
    "| Input           | AST                                 |\n",
    "|:--------------- |:----------------------------------- |\n",
    "| `\"a\"`           | `\"a\"`                               |\n",
    "| `x\"y\"`          | `(macrocall @x_str (line) \"y\")`     |\n",
    "| `x\"y\"z`         | `(macrocall @x_str (line) \"y\" \"z\")` |\n",
    "| `\"x = $x\"`      | `(string \"x = \" x)`                 |\n",
    "| ``` `a b c` ``` | `(macrocall @cmd (line) \"a b c\")`   |\n",
    "\n",
    "Doc string syntax:"
   ]
  },
  {
   "cell_type": "code",
   "execution_count": null,
   "id": "74f540ff",
   "metadata": {
    "attributes": {
     "classes": [
      "julia"
     ],
     "id": ""
    }
   },
   "outputs": [],
   "source": [
    "\"some docs\"\n",
    "f(x) = x"
   ]
  },
  {
   "cell_type": "markdown",
   "id": "b1cdfa7f",
   "metadata": {},
   "source": [
    "parses as `(macrocall (|.| Core '@doc) (line) \"some docs\" (= (call f x) (block x)))`.\n",
    "\n",
    "### Imports and such\n",
    "\n",
    "| Input               | AST                                          |\n",
    "|:------------------- |:-------------------------------------------- |\n",
    "| `import a`          | `(import (. a))`                             |\n",
    "| `import a.b.c`      | `(import (. a b c))`                         |\n",
    "| `import ...a`       | `(import (. . . . a))`                       |\n",
    "| `import a.b, c.d`   | `(import (. a b) (. c d))`                   |\n",
    "| `import Base: x`    | `(import (: (. Base) (. x)))`                |\n",
    "| `import Base: x, y` | `(import (: (. Base) (. x) (. y)))`          |\n",
    "| `export a, b`       | `(export a b)`                               |\n",
    "\n",
    "`using` has the same representation as `import`, but with expression head `:using`\n",
    "instead of `:import`.\n",
    "\n",
    "### Numbers\n",
    "\n",
    "Julia supports more number types than many scheme implementations, so not all numbers are represented\n",
    "directly as scheme numbers in the AST.\n",
    "\n",
    "| Input                   | AST                                                     |\n",
    "|:----------------------- |:------------------------------------------------------- |\n",
    "| `11111111111111111111`  | `(macrocall @int128_str (null) \"11111111111111111111\")` |\n",
    "| `0xfffffffffffffffff`   | `(macrocall @uint128_str (null) \"0xfffffffffffffffff\")` |\n",
    "| `1111...many digits...` | `(macrocall @big_str (null) \"1111....\")`                |\n",
    "\n",
    "### Block forms\n",
    "\n",
    "A block of statements is parsed as `(block stmt1 stmt2 ...)`.\n",
    "\n",
    "If statement:"
   ]
  },
  {
   "cell_type": "code",
   "execution_count": null,
   "id": "9f67e3ad",
   "metadata": {
    "attributes": {
     "classes": [
      "julia"
     ],
     "id": ""
    }
   },
   "outputs": [],
   "source": [
    "if a\n",
    "    b\n",
    "elseif c\n",
    "    d\n",
    "else\n",
    "    e\n",
    "end"
   ]
  },
  {
   "cell_type": "markdown",
   "id": "12275988",
   "metadata": {},
   "source": [
    "parses as:"
   ]
  },
  {
   "cell_type": "code",
   "execution_count": null,
   "id": "823172b6",
   "metadata": {},
   "outputs": [],
   "source": [
    "(if a (block (line 2) b)\n",
    "    (elseif (block (line 3) c) (block (line 4) d)\n",
    "            (block (line 5 e))))"
   ]
  },
  {
   "cell_type": "markdown",
   "id": "daffd1e5",
   "metadata": {},
   "source": [
    "A `while` loop parses as `(while condition body)`.\n",
    "\n",
    "A `for` loop parses as `(for (= var iter) body)`. If there is more than one iteration specification,\n",
    "they are parsed as a block: `(for (block (= v1 iter1) (= v2 iter2)) body)`.\n",
    "\n",
    "`break` and `continue` are parsed as 0-argument expressions `(break)` and `(continue)`.\n",
    "\n",
    "`let` is parsed as `(let (= var val) body)` or `(let (block (= var1 val1) (= var2 val2) ...) body)`,\n",
    "like `for` loops.\n",
    "\n",
    "A basic function definition is parsed as `(function (call f x) body)`. A more complex example:"
   ]
  },
  {
   "cell_type": "code",
   "execution_count": null,
   "id": "14324b4f",
   "metadata": {
    "attributes": {
     "classes": [
      "julia"
     ],
     "id": ""
    }
   },
   "outputs": [],
   "source": [
    "function f(x::T; k = 1) where T\n",
    "    return x+1\n",
    "end"
   ]
  },
  {
   "cell_type": "markdown",
   "id": "997861f1",
   "metadata": {},
   "source": [
    "parses as:"
   ]
  },
  {
   "cell_type": "code",
   "execution_count": null,
   "id": "5dd0c439",
   "metadata": {},
   "outputs": [],
   "source": [
    "(function (where (call f (parameters (kw k 1))\n",
    "                       (:: x T))\n",
    "                 T)\n",
    "          (block (line 2) (return (call + x 1))))"
   ]
  },
  {
   "cell_type": "markdown",
   "id": "29aa8f89",
   "metadata": {},
   "source": [
    "Type definition:"
   ]
  },
  {
   "cell_type": "code",
   "execution_count": null,
   "id": "3d6e2d03",
   "metadata": {
    "attributes": {
     "classes": [
      "julia"
     ],
     "id": ""
    }
   },
   "outputs": [],
   "source": [
    "mutable struct Foo{T<:S}\n",
    "    x::T\n",
    "end"
   ]
  },
  {
   "cell_type": "markdown",
   "id": "8b768707",
   "metadata": {},
   "source": [
    "parses as:"
   ]
  },
  {
   "cell_type": "code",
   "execution_count": null,
   "id": "eb22609d",
   "metadata": {},
   "outputs": [],
   "source": [
    "(struct true (curly Foo (<: T S))\n",
    "        (block (line 2) (:: x T)))"
   ]
  },
  {
   "cell_type": "markdown",
   "id": "e048103b",
   "metadata": {},
   "source": [
    "The first argument is a boolean telling whether the type is mutable.\n",
    "\n",
    "`try` blocks parse as `(try try_block var catch_block finally_block)`. If no variable is present\n",
    "after `catch`, `var` is `#f`. If there is no `finally` clause, then the last argument is not present.\n",
    "\n",
    "### Quote expressions\n",
    "\n",
    "Julia source syntax forms for code quoting (`quote` and `:( )`) support interpolation with `$`.\n",
    "In Lisp terminology, this means they are actually \"backquote\" or \"quasiquote\" forms.\n",
    "Internally, there is also a need for code quoting without interpolation.\n",
    "In Julia's scheme code, non-interpolating quote is represented with the expression head `inert`.\n",
    "\n",
    "`inert` expressions are converted to Julia `QuoteNode` objects.\n",
    "These objects wrap a single value of any type, and when evaluated simply return that value.\n",
    "\n",
    "A `quote` expression whose argument is an atom also gets converted to a `QuoteNode`.\n",
    "\n",
    "### Line numbers\n",
    "\n",
    "Source location information is represented as `(line line_num file_name)` where the third\n",
    "component is optional (and omitted when the current line number, but not file name,\n",
    "changes).\n",
    "\n",
    "These expressions are represented as `LineNumberNode`s in Julia.\n",
    "\n",
    "### Macros\n",
    "\n",
    "Macro hygiene is represented through the expression head pair `escape` and `hygienic-scope`.\n",
    "The result of a macro expansion is automatically wrapped in `(hygienic-scope block module)`,\n",
    "to represent the result of the new scope. The user can insert `(escape block)` inside\n",
    "to interpolate code from the caller.\n",
    "\n",
    "\n",
    "## Lowered form\n",
    "\n",
    "Lowered form (IR) is more important to the compiler, since it is used for type inference,\n",
    "optimizations like inlining, and code generation. It is also less obvious to the human,\n",
    "since it results from a significant rearrangement of the input syntax.\n",
    "\n",
    "In addition to `Symbol`s and some number types, the following data\n",
    "types exist in lowered form:\n",
    "\n",
    "  * `Expr`"
   ]
  },
  {
   "cell_type": "code",
   "execution_count": null,
   "id": "66c4af79",
   "metadata": {},
   "outputs": [],
   "source": [
    "Has a node type indicated by the `head` field, and an `args` field which is a `Vector{Any}` of\n",
    "subexpressions.\n",
    "While almost every part of a surface AST is represented by an `Expr`, the IR uses only a\n",
    "limited number of `Expr`s, mostly for calls, conditional branches (`gotoifnot`), and returns."
   ]
  },
  {
   "cell_type": "markdown",
   "id": "7249a56f",
   "metadata": {},
   "source": [
    "* `Slot`"
   ]
  },
  {
   "cell_type": "code",
   "execution_count": null,
   "id": "6dbb55d5",
   "metadata": {},
   "outputs": [],
   "source": [
    "Identifies arguments and local variables by consecutive numbering. `Slot` is an abstract type\n",
    "with subtypes `SlotNumber` and `TypedSlot`. Both types have an integer-valued `id` field giving\n",
    "the slot index. Most slots have the same type at all uses, and so are represented with `SlotNumber`.\n",
    "The types of these slots are found in the `slottypes` field of their `MethodInstance` object.\n",
    "Slots that require per-use type annotations are represented with `TypedSlot`, which has a `typ`\n",
    "field."
   ]
  },
  {
   "cell_type": "markdown",
   "id": "df554c93",
   "metadata": {},
   "source": [
    "* `CodeInfo`"
   ]
  },
  {
   "cell_type": "code",
   "execution_count": null,
   "id": "a7ab5847",
   "metadata": {},
   "outputs": [],
   "source": [
    "Wraps the IR of a group of statements. Its `code` field is an array of expressions to execute."
   ]
  },
  {
   "cell_type": "markdown",
   "id": "36558d34",
   "metadata": {},
   "source": [
    "* `GotoNode`"
   ]
  },
  {
   "cell_type": "code",
   "execution_count": null,
   "id": "fd5802b5",
   "metadata": {},
   "outputs": [],
   "source": [
    "Unconditional branch. The argument is the branch target, represented as an index in\n",
    "the code array to jump to."
   ]
  },
  {
   "cell_type": "markdown",
   "id": "9b5b0381",
   "metadata": {},
   "source": [
    "* `QuoteNode`"
   ]
  },
  {
   "cell_type": "code",
   "execution_count": null,
   "id": "0213a880",
   "metadata": {},
   "outputs": [],
   "source": [
    "Wraps an arbitrary value to reference as data. For example, the function `f() = :a` contains a\n",
    "`QuoteNode` whose `value` field is the symbol `a`, in order to return the symbol itself instead\n",
    "of evaluating it."
   ]
  },
  {
   "cell_type": "markdown",
   "id": "37d14b0e",
   "metadata": {},
   "source": [
    "* `GlobalRef`"
   ]
  },
  {
   "cell_type": "code",
   "execution_count": null,
   "id": "a48faff2",
   "metadata": {},
   "outputs": [],
   "source": [
    "Refers to global variable `name` in module `mod`."
   ]
  },
  {
   "cell_type": "markdown",
   "id": "c61b4538",
   "metadata": {},
   "source": [
    "* `SSAValue`"
   ]
  },
  {
   "cell_type": "code",
   "execution_count": null,
   "id": "457cf627",
   "metadata": {},
   "outputs": [],
   "source": [
    "Refers to a consecutively-numbered (starting at 1) static single assignment (SSA) variable inserted\n",
    "by the compiler. The number (`id`) of an `SSAValue` is the code array index of the expression whose\n",
    "value it represents."
   ]
  },
  {
   "cell_type": "markdown",
   "id": "ecafdbc9",
   "metadata": {},
   "source": [
    "* `NewvarNode`"
   ]
  },
  {
   "cell_type": "code",
   "execution_count": null,
   "id": "ea70d3fa",
   "metadata": {},
   "outputs": [],
   "source": [
    "Marks a point where a variable (slot) is created. This has the effect of resetting a variable to undefined.\n"
   ]
  },
  {
   "cell_type": "markdown",
   "id": "0f96214c",
   "metadata": {},
   "source": [
    "### `Expr` types\n",
    "\n",
    "These symbols appear in the `head` field of [`Expr`](@ref)s in lowered form.\n",
    "\n",
    "  * `call`"
   ]
  },
  {
   "cell_type": "code",
   "execution_count": null,
   "id": "dcbf468d",
   "metadata": {},
   "outputs": [],
   "source": [
    "Function call (dynamic dispatch). `args[1]` is the function to call, `args[2:end]` are the arguments."
   ]
  },
  {
   "cell_type": "markdown",
   "id": "39ff1431",
   "metadata": {},
   "source": [
    "* `invoke`"
   ]
  },
  {
   "cell_type": "code",
   "execution_count": null,
   "id": "cf42c988",
   "metadata": {},
   "outputs": [],
   "source": [
    "Function call (static dispatch). `args[1]` is the MethodInstance to call, `args[2:end]` are the\n",
    "arguments (including the function that is being called, at `args[2]`)."
   ]
  },
  {
   "cell_type": "markdown",
   "id": "eea35ed9",
   "metadata": {},
   "source": [
    "* `static_parameter`"
   ]
  },
  {
   "cell_type": "code",
   "execution_count": null,
   "id": "1c68d832",
   "metadata": {},
   "outputs": [],
   "source": [
    "Reference a static parameter by index."
   ]
  },
  {
   "cell_type": "markdown",
   "id": "ded7d80b",
   "metadata": {},
   "source": [
    "* `gotoifnot`"
   ]
  },
  {
   "cell_type": "code",
   "execution_count": null,
   "id": "518ea715",
   "metadata": {},
   "outputs": [],
   "source": [
    "Conditional branch. If `args[1]` is false, goes to the index identified in `args[2]`."
   ]
  },
  {
   "cell_type": "markdown",
   "id": "74235e1f",
   "metadata": {},
   "source": [
    "* `=`"
   ]
  },
  {
   "cell_type": "code",
   "execution_count": null,
   "id": "93eea5be",
   "metadata": {},
   "outputs": [],
   "source": [
    "Assignment. In the IR, the first argument is always a Slot or a GlobalRef."
   ]
  },
  {
   "cell_type": "markdown",
   "id": "c067e5a1",
   "metadata": {},
   "source": [
    "* `method`"
   ]
  },
  {
   "cell_type": "code",
   "execution_count": null,
   "id": "1e029e29",
   "metadata": {},
   "outputs": [],
   "source": [
    "Adds a method to a generic function and assigns the result if necessary.\n",
    "\n",
    "Has a 1-argument form and a 3-argument form. The 1-argument form arises from the syntax `function foo end`.\n",
    "In the 1-argument form, the argument is a symbol. If this symbol already names a function in the\n",
    "current scope, nothing happens. If the symbol is undefined, a new function is created and assigned\n",
    "to the identifier specified by the symbol. If the symbol is defined but names a non-function,\n",
    "an error is raised. The definition of \"names a function\" is that the binding is constant, and\n",
    "refers to an object of singleton type. The rationale for this is that an instance of a singleton\n",
    "type uniquely identifies the type to add the method to. When the type has fields, it wouldn't\n",
    "be clear whether the method was being added to the instance or its type.\n",
    "\n",
    "The 3-argument form has the following arguments:\n",
    "\n",
    "  * `args[1]`\n",
    "\n",
    "    A function name, or `false` if unknown. If a symbol, then the expression first\n",
    "    behaves like the 1-argument form above. This argument is ignored from then on. When\n",
    "    this is `false`, it means a method is being added strictly by type, `(::T)(x) = x`.\n",
    "\n",
    "  * `args[2]`\n",
    "\n",
    "    A `SimpleVector` of argument type data. `args[2][1]` is a `SimpleVector` of the\n",
    "    argument types, and `args[2][2]` is a `SimpleVector` of type variables corresponding\n",
    "    to the method's static parameters.\n",
    "\n",
    "  * `args[3]`\n",
    "\n",
    "    A `CodeInfo` of the method itself. For \"out of scope\" method definitions (adding a\n",
    "    method to a function that also has methods defined in different scopes) this is an\n",
    "    expression that evaluates to a `:lambda` expression."
   ]
  },
  {
   "cell_type": "markdown",
   "id": "0654cbfe",
   "metadata": {},
   "source": [
    "* `struct_type`"
   ]
  },
  {
   "cell_type": "code",
   "execution_count": null,
   "id": "e2381de0",
   "metadata": {},
   "outputs": [],
   "source": [
    "A 7-argument expression that defines a new `struct`:\n",
    "\n",
    "  * `args[1]`\n",
    "\n",
    "    The name of the `struct`\n",
    "\n",
    "  * `args[2]`\n",
    "\n",
    "    A `call` expression that creates a `SimpleVector` specifying its parameters\n",
    "\n",
    "  * `args[3]`\n",
    "\n",
    "    A `call` expression that creates a `SimpleVector` specifying its fieldnames\n",
    "\n",
    "  * `args[4]`\n",
    "\n",
    "    A `Symbol`, `GlobalRef`, or `Expr` specifying the supertype (e.g., `:Integer`,\n",
    "    `GlobalRef(Core, :Any)`, or `:(Core.apply_type(AbstractArray, T, N))`)\n",
    "\n",
    "  * `args[5]`\n",
    "\n",
    "    A `call` expression that creates a `SimpleVector` specifying its fieldtypes\n",
    "\n",
    "  * `args[6]`\n",
    "\n",
    "    A Bool, true if `mutable`\n",
    "\n",
    "  * `args[7]`\n",
    "\n",
    "    The number of arguments to initialize. This will be the number\n",
    "    of fields, or the minimum number of fields called by an inner\n",
    "    constructor's `new` statement."
   ]
  },
  {
   "cell_type": "markdown",
   "id": "1e0816ce",
   "metadata": {},
   "source": [
    "* `abstract_type`"
   ]
  },
  {
   "cell_type": "code",
   "execution_count": null,
   "id": "f2093af5",
   "metadata": {},
   "outputs": [],
   "source": [
    "A 3-argument expression that defines a new abstract type. The\n",
    "arguments are the same as arguments 1, 2, and 4 of\n",
    "`struct_type` expressions."
   ]
  },
  {
   "cell_type": "markdown",
   "id": "1a93cb48",
   "metadata": {},
   "source": [
    "* `primitive_type`"
   ]
  },
  {
   "cell_type": "code",
   "execution_count": null,
   "id": "9a677f43",
   "metadata": {},
   "outputs": [],
   "source": [
    "A 4-argument expression that defines a new primitive type. Arguments 1, 2, and 4\n",
    "are the same as `struct_type`. Argument 3 is the number of bits.\n",
    "\n",
    "!!! compat \"Julia 1.5\"\n",
    "    `struct_type`, `abstract_type`, and `primitive_type` were removed in Julia 1.5\n",
    "    and replaced by calls to new builtins."
   ]
  },
  {
   "cell_type": "markdown",
   "id": "bac5344d",
   "metadata": {},
   "source": [
    "* `global`"
   ]
  },
  {
   "cell_type": "code",
   "execution_count": null,
   "id": "2e22d30f",
   "metadata": {},
   "outputs": [],
   "source": [
    "Declares a global binding."
   ]
  },
  {
   "cell_type": "markdown",
   "id": "aa11dbe7",
   "metadata": {},
   "source": [
    "* `const`"
   ]
  },
  {
   "cell_type": "code",
   "execution_count": null,
   "id": "0cfed0f0",
   "metadata": {},
   "outputs": [],
   "source": [
    "Declares a (global) variable as constant."
   ]
  },
  {
   "cell_type": "markdown",
   "id": "037357a0",
   "metadata": {},
   "source": [
    "* `new`"
   ]
  },
  {
   "cell_type": "code",
   "execution_count": null,
   "id": "8487dd04",
   "metadata": {},
   "outputs": [],
   "source": [
    "Allocates a new struct-like object. First argument is the type. The [`new`](@ref) pseudo-function is lowered\n",
    "to this, and the type is always inserted by the compiler.  This is very much an internal-only\n",
    "feature, and does no checking. Evaluating arbitrary `new` expressions can easily segfault."
   ]
  },
  {
   "cell_type": "markdown",
   "id": "7ce86f3a",
   "metadata": {},
   "source": [
    "* `splatnew`"
   ]
  },
  {
   "cell_type": "code",
   "execution_count": null,
   "id": "1b3a5bd5",
   "metadata": {},
   "outputs": [],
   "source": [
    "Similar to `new`, except field values are passed as a single tuple. Works similarly to\n",
    "`Base.splat(new)` if `new` were a first-class function, hence the name."
   ]
  },
  {
   "cell_type": "markdown",
   "id": "8f932af9",
   "metadata": {},
   "source": [
    "* `return`"
   ]
  },
  {
   "cell_type": "code",
   "execution_count": null,
   "id": "bfe3debc",
   "metadata": {},
   "outputs": [],
   "source": [
    "Returns its argument as the value of the enclosing function."
   ]
  },
  {
   "cell_type": "markdown",
   "id": "b197b22c",
   "metadata": {},
   "source": [
    "* `isdefined`"
   ]
  },
  {
   "cell_type": "code",
   "execution_count": null,
   "id": "ac9a48de",
   "metadata": {},
   "outputs": [],
   "source": [
    "`Expr(:isdefined, :x)` returns a Bool indicating whether `x` has\n",
    "already been defined in the current scope."
   ]
  },
  {
   "cell_type": "markdown",
   "id": "754cb6fc",
   "metadata": {},
   "source": [
    "* `the_exception`"
   ]
  },
  {
   "cell_type": "code",
   "execution_count": null,
   "id": "84442148",
   "metadata": {},
   "outputs": [],
   "source": [
    "Yields the caught exception inside a `catch` block, as returned by `jl_current_exception()`."
   ]
  },
  {
   "cell_type": "markdown",
   "id": "3ddbb042",
   "metadata": {},
   "source": [
    "* `enter`"
   ]
  },
  {
   "cell_type": "code",
   "execution_count": null,
   "id": "e7d914c6",
   "metadata": {},
   "outputs": [],
   "source": [
    "Enters an exception handler (`setjmp`). `args[1]` is the label of the catch block to jump to on\n",
    "error.  Yields a token which is consumed by `pop_exception`."
   ]
  },
  {
   "cell_type": "markdown",
   "id": "58fba661",
   "metadata": {},
   "source": [
    "* `leave`"
   ]
  },
  {
   "cell_type": "code",
   "execution_count": null,
   "id": "27e5e8aa",
   "metadata": {},
   "outputs": [],
   "source": [
    "Pop exception handlers. `args[1]` is the number of handlers to pop."
   ]
  },
  {
   "cell_type": "markdown",
   "id": "707bfdb1",
   "metadata": {},
   "source": [
    "* `pop_exception`"
   ]
  },
  {
   "cell_type": "code",
   "execution_count": null,
   "id": "c8c9987c",
   "metadata": {},
   "outputs": [],
   "source": [
    "Pop the stack of current exceptions back to the state at the associated `enter` when leaving a\n",
    "catch block. `args[1]` contains the token from the associated `enter`.\n",
    "\n",
    "!!! compat \"Julia 1.1\"\n",
    "    `pop_exception` is new in Julia 1.1."
   ]
  },
  {
   "cell_type": "markdown",
   "id": "d15cea69",
   "metadata": {},
   "source": [
    "* `inbounds`"
   ]
  },
  {
   "cell_type": "code",
   "execution_count": null,
   "id": "4afde033",
   "metadata": {},
   "outputs": [],
   "source": [
    "Controls turning bounds checks on or off. A stack is maintained; if the first argument of this\n",
    "expression is true or false (`true` means bounds checks are disabled), it is pushed onto the stack.\n",
    "If the first argument is `:pop`, the stack is popped."
   ]
  },
  {
   "cell_type": "markdown",
   "id": "61502548",
   "metadata": {},
   "source": [
    "* `boundscheck`"
   ]
  },
  {
   "cell_type": "code",
   "execution_count": null,
   "id": "35adee74",
   "metadata": {},
   "outputs": [],
   "source": [
    "Has the value `false` if inlined into a section of code marked with `@inbounds`,\n",
    "otherwise has the value `true`."
   ]
  },
  {
   "cell_type": "markdown",
   "id": "ade46657",
   "metadata": {},
   "source": [
    "* `loopinfo`"
   ]
  },
  {
   "cell_type": "code",
   "execution_count": null,
   "id": "dc6ea9a9",
   "metadata": {},
   "outputs": [],
   "source": [
    "Marks the end of the a loop. Contains metadata that is passed to `LowerSimdLoop` to either mark\n",
    "the inner loop of `@simd` expression, or to propagate information to LLVM loop passes."
   ]
  },
  {
   "cell_type": "markdown",
   "id": "f9078be7",
   "metadata": {},
   "source": [
    "* `copyast`"
   ]
  },
  {
   "cell_type": "code",
   "execution_count": null,
   "id": "64b5b43f",
   "metadata": {},
   "outputs": [],
   "source": [
    "Part of the implementation of quasi-quote. The argument is a surface syntax AST that is simply\n",
    "copied recursively and returned at run time."
   ]
  },
  {
   "cell_type": "markdown",
   "id": "f30983b1",
   "metadata": {},
   "source": [
    "* `meta`"
   ]
  },
  {
   "cell_type": "code",
   "execution_count": null,
   "id": "37459fcd",
   "metadata": {},
   "outputs": [],
   "source": [
    "Metadata. `args[1]` is typically a symbol specifying the kind of metadata, and the rest of the\n",
    "arguments are free-form. The following kinds of metadata are commonly used:\n",
    "\n",
    "  * `:inline` and `:noinline`: Inlining hints."
   ]
  },
  {
   "cell_type": "markdown",
   "id": "3482f6a4",
   "metadata": {},
   "source": [
    "* `foreigncall`"
   ]
  },
  {
   "cell_type": "code",
   "execution_count": null,
   "id": "f19cc710",
   "metadata": {},
   "outputs": [],
   "source": [
    "Statically-computed container for `ccall` information. The fields are:\n",
    "\n",
    "  * `args[1]` : name\n",
    "\n",
    "    The expression that'll be parsed for the foreign function.\n",
    "\n",
    "  * `args[2]::Type` : RT\n",
    "\n",
    "    The (literal) return type, computed statically when the containing method was defined.\n",
    "\n",
    "  * `args[3]::SimpleVector` (of Types) : AT\n",
    "\n",
    "    The (literal) vector of argument types, computed statically when the containing method was defined.\n",
    "\n",
    "  * `args[4]::Int` : nreq\n",
    "\n",
    "    The number of required arguments for a varargs function definition.\n",
    "\n",
    "  * `args[5]::QuoteNode{Symbol}` : calling convention\n",
    "\n",
    "    The calling convention for the call.\n",
    "\n",
    "  * `args[6:length(args[3])]` : arguments\n",
    "\n",
    "    The values for all the arguments (with types of each given in args[3]).\n",
    "\n",
    "  * `args[(length(args[3]) + 1):end]` : gc-roots\n",
    "\n",
    "    The additional objects that may need to be gc-rooted for the duration of the call.\n",
    "    See [Working with LLVM](@ref Working-with-LLVM) for where these are derived from and how they get handled.\n"
   ]
  },
  {
   "cell_type": "markdown",
   "id": "813fcbeb",
   "metadata": {},
   "source": [
    "### [Method](@id ast-lowered-method)\n",
    "\n",
    "A unique'd container describing the shared metadata for a single method.\n",
    "\n",
    "  * `name`, `module`, `file`, `line`, `sig`"
   ]
  },
  {
   "cell_type": "code",
   "execution_count": null,
   "id": "80187772",
   "metadata": {},
   "outputs": [],
   "source": [
    "Metadata to uniquely identify the method for the computer and the human."
   ]
  },
  {
   "cell_type": "markdown",
   "id": "cd8f2f39",
   "metadata": {},
   "source": [
    "* `ambig`"
   ]
  },
  {
   "cell_type": "code",
   "execution_count": null,
   "id": "43875a3c",
   "metadata": {},
   "outputs": [],
   "source": [
    "Cache of other methods that may be ambiguous with this one."
   ]
  },
  {
   "cell_type": "markdown",
   "id": "af5414bb",
   "metadata": {},
   "source": [
    "* `specializations`"
   ]
  },
  {
   "cell_type": "code",
   "execution_count": null,
   "id": "30b90d9a",
   "metadata": {},
   "outputs": [],
   "source": [
    "Cache of all MethodInstance ever created for this Method, used to ensure uniqueness.\n",
    "Uniqueness is required for efficiency, especially for incremental precompile and\n",
    "tracking of method invalidation."
   ]
  },
  {
   "cell_type": "markdown",
   "id": "85fd7f4e",
   "metadata": {},
   "source": [
    "* `source`"
   ]
  },
  {
   "cell_type": "code",
   "execution_count": null,
   "id": "a7c0a399",
   "metadata": {},
   "outputs": [],
   "source": [
    "The original source code (if available, usually compressed)."
   ]
  },
  {
   "cell_type": "markdown",
   "id": "1d15a080",
   "metadata": {},
   "source": [
    "* `generator`"
   ]
  },
  {
   "cell_type": "code",
   "execution_count": null,
   "id": "0a39a21a",
   "metadata": {},
   "outputs": [],
   "source": [
    "A callable object which can be executed to get specialized source for a specific method signature."
   ]
  },
  {
   "cell_type": "markdown",
   "id": "306137f1",
   "metadata": {},
   "source": [
    "* `roots`"
   ]
  },
  {
   "cell_type": "code",
   "execution_count": null,
   "id": "94621d19",
   "metadata": {},
   "outputs": [],
   "source": [
    "Pointers to non-AST things that have been interpolated into the AST, required by\n",
    "compression of the AST, type-inference, or the generation of native code."
   ]
  },
  {
   "cell_type": "markdown",
   "id": "dac5aa32",
   "metadata": {},
   "source": [
    "* `nargs`, `isva`, `called`, `isstaged`, `pure`"
   ]
  },
  {
   "cell_type": "code",
   "execution_count": null,
   "id": "6a27c576",
   "metadata": {},
   "outputs": [],
   "source": [
    "Descriptive bit-fields for the source code of this Method."
   ]
  },
  {
   "cell_type": "markdown",
   "id": "c5cd538b",
   "metadata": {},
   "source": [
    "* `primary_world`"
   ]
  },
  {
   "cell_type": "code",
   "execution_count": null,
   "id": "a36a1b2f",
   "metadata": {},
   "outputs": [],
   "source": [
    "The world age that \"owns\" this Method.\n"
   ]
  },
  {
   "cell_type": "markdown",
   "id": "46ba2cdf",
   "metadata": {},
   "source": [
    "### MethodInstance\n",
    "\n",
    "A unique'd container describing a single callable signature for a Method. See especially [Proper maintenance and care of multi-threading locks](@ref)\n",
    "for important details on how to modify these fields safely.\n",
    "\n",
    "  * `specTypes`"
   ]
  },
  {
   "cell_type": "code",
   "execution_count": null,
   "id": "13a33ef4",
   "metadata": {},
   "outputs": [],
   "source": [
    "The primary key for this MethodInstance. Uniqueness is guaranteed through a\n",
    "`def.specializations` lookup."
   ]
  },
  {
   "cell_type": "markdown",
   "id": "06ce4be9",
   "metadata": {},
   "source": [
    "* `def`"
   ]
  },
  {
   "cell_type": "code",
   "execution_count": null,
   "id": "448ac646",
   "metadata": {},
   "outputs": [],
   "source": [
    "The `Method` that this function describes a specialization of. Or a `Module`,\n",
    "if this is a top-level Lambda expanded in Module, and which is not part of a Method."
   ]
  },
  {
   "cell_type": "markdown",
   "id": "da11d6fa",
   "metadata": {},
   "source": [
    "* `sparam_vals`"
   ]
  },
  {
   "cell_type": "code",
   "execution_count": null,
   "id": "3181279d",
   "metadata": {},
   "outputs": [],
   "source": [
    "The values of the static parameters in `specTypes` indexed by `def.sparam_syms`. For the\n",
    "`MethodInstance` at `Method.unspecialized`, this is the empty `SimpleVector`. But for a\n",
    "runtime `MethodInstance` from the `MethodTable` cache, this will always be defined and\n",
    "indexable."
   ]
  },
  {
   "cell_type": "markdown",
   "id": "75789151",
   "metadata": {},
   "source": [
    "* `uninferred`"
   ]
  },
  {
   "cell_type": "code",
   "execution_count": null,
   "id": "c8d4d1a0",
   "metadata": {},
   "outputs": [],
   "source": [
    "The uncompressed source code for a toplevel thunk. Additionally, for a generated function,\n",
    "this is one of many places that the source code might be found."
   ]
  },
  {
   "cell_type": "markdown",
   "id": "9c83719f",
   "metadata": {},
   "source": [
    "* `backedges`"
   ]
  },
  {
   "cell_type": "code",
   "execution_count": null,
   "id": "a3975df2",
   "metadata": {},
   "outputs": [],
   "source": [
    "We store the reverse-list of cache dependencies for efficient tracking of incremental reanalysis/recompilation work that may be needed after a new method definitions.\n",
    "This works by keeping a list of the other `MethodInstance` that have been inferred or optimized to contain a possible call to this `MethodInstance`.\n",
    "Those optimization results might be stored somewhere in the `cache`, or it might have been the result of something we didn't want to cache, such as constant propagation.\n",
    "Thus we merge all of those backedges to various cache entries here (there's almost always only the one applicable cache entry with a sentinal value for max_world anyways)."
   ]
  },
  {
   "cell_type": "markdown",
   "id": "9e9094f9",
   "metadata": {},
   "source": [
    "* `cache`"
   ]
  },
  {
   "cell_type": "code",
   "execution_count": null,
   "id": "49beaba1",
   "metadata": {},
   "outputs": [],
   "source": [
    "Cache of `CodeInstance` objects that share this template instantiation."
   ]
  },
  {
   "cell_type": "markdown",
   "id": "ff877964",
   "metadata": {},
   "source": [
    "### CodeInstance\n",
    "\n",
    "  * `def`"
   ]
  },
  {
   "cell_type": "code",
   "execution_count": null,
   "id": "d7e88c5c",
   "metadata": {},
   "outputs": [],
   "source": [
    "The `MethodInstance` that this cache entry is derived from.\n"
   ]
  },
  {
   "cell_type": "markdown",
   "id": "87c78960",
   "metadata": {},
   "source": [
    "* `rettype`/`rettype_const`"
   ]
  },
  {
   "cell_type": "code",
   "execution_count": null,
   "id": "ebebff26",
   "metadata": {},
   "outputs": [],
   "source": [
    "The inferred return type for the `specFunctionObject` field, which (in most cases) is\n",
    "also the computed return type for the function in general."
   ]
  },
  {
   "cell_type": "markdown",
   "id": "7ac7f5bc",
   "metadata": {},
   "source": [
    "* `inferred`"
   ]
  },
  {
   "cell_type": "code",
   "execution_count": null,
   "id": "e2233ab0",
   "metadata": {},
   "outputs": [],
   "source": [
    "May contain a cache of the inferred source for this function,\n",
    "or it could be set to `nothing` to just indicate `rettype` is inferred."
   ]
  },
  {
   "cell_type": "markdown",
   "id": "d67e9e11",
   "metadata": {},
   "source": [
    "* `ftpr`"
   ]
  },
  {
   "cell_type": "code",
   "execution_count": null,
   "id": "2dd98d14",
   "metadata": {},
   "outputs": [],
   "source": [
    "The generic jlcall entry point."
   ]
  },
  {
   "cell_type": "markdown",
   "id": "29e985d0",
   "metadata": {},
   "source": [
    "* `jlcall_api`"
   ]
  },
  {
   "cell_type": "code",
   "execution_count": null,
   "id": "3eb9e8e4",
   "metadata": {},
   "outputs": [],
   "source": [
    "The ABI to use when calling `fptr`. Some significant ones include:\n",
    "\n",
    "  * 0 - Not compiled yet\n",
    "  * 1 - JL_CALLABLE `jl_value_t *(*)(jl_function_t *f, jl_value_t *args[nargs], uint32_t nargs)`\n",
    "  * 2 - Constant (value stored in `rettype_const`)\n",
    "  * 3 - With Static-parameters forwarded `jl_value_t *(*)(jl_svec_t *sparams, jl_function_t *f, jl_value_t *args[nargs], uint32_t nargs)`\n",
    "  * 4 - Run in interpreter `jl_value_t *(*)(jl_method_instance_t *meth, jl_function_t *f, jl_value_t *args[nargs], uint32_t nargs)`"
   ]
  },
  {
   "cell_type": "markdown",
   "id": "b09ac2a6",
   "metadata": {},
   "source": [
    "* `min_world` / `max_world`"
   ]
  },
  {
   "cell_type": "code",
   "execution_count": null,
   "id": "5d0f64a0",
   "metadata": {},
   "outputs": [],
   "source": [
    "The range of world ages for which this method instance is valid to be called.\n",
    "If max_world is the special token value `-1`, the value is not yet known.\n",
    "It may continue to be used until we encounter a backedge that requires us to reconsider.\n"
   ]
  },
  {
   "cell_type": "markdown",
   "id": "e06586c4",
   "metadata": {},
   "source": [
    "### CodeInfo\n",
    "\n",
    "A (usually temporary) container for holding lowered source code.\n",
    "\n",
    "  * `code`"
   ]
  },
  {
   "cell_type": "code",
   "execution_count": null,
   "id": "09c1bc08",
   "metadata": {},
   "outputs": [],
   "source": [
    "An `Any` array of statements"
   ]
  },
  {
   "cell_type": "markdown",
   "id": "bbd43428",
   "metadata": {},
   "source": [
    "* `slotnames`"
   ]
  },
  {
   "cell_type": "code",
   "execution_count": null,
   "id": "ee1b783b",
   "metadata": {},
   "outputs": [],
   "source": [
    "An array of symbols giving names for each slot (argument or local variable)."
   ]
  },
  {
   "cell_type": "markdown",
   "id": "7d37762a",
   "metadata": {},
   "source": [
    "* `slotflags`"
   ]
  },
  {
   "cell_type": "code",
   "execution_count": null,
   "id": "98cae7a2",
   "metadata": {},
   "outputs": [],
   "source": [
    "A `UInt8` array of slot properties, represented as bit flags:\n",
    "\n",
    "  * 2  - assigned (only false if there are *no* assignment statements with this var on the left)\n",
    "  * 8  - const (currently unused for local variables)\n",
    "  * 16 - statically assigned once\n",
    "  * 32 - might be used before assigned. This flag is only valid after type inference."
   ]
  },
  {
   "cell_type": "markdown",
   "id": "75795bdc",
   "metadata": {},
   "source": [
    "* `ssavaluetypes`"
   ]
  },
  {
   "cell_type": "code",
   "execution_count": null,
   "id": "9600c147",
   "metadata": {},
   "outputs": [],
   "source": [
    "Either an array or an `Int`.\n",
    "\n",
    "If an `Int`, it gives the number of compiler-inserted temporary locations in the\n",
    "function (the length of `code` array). If an array, specifies a type for each location."
   ]
  },
  {
   "cell_type": "markdown",
   "id": "a4ba23b9",
   "metadata": {},
   "source": [
    "* `ssaflags`"
   ]
  },
  {
   "cell_type": "code",
   "execution_count": null,
   "id": "47575739",
   "metadata": {},
   "outputs": [],
   "source": [
    "Statement-level flags for each expression in the function. Many of these are reserved, but not yet implemented:\n",
    "\n",
    "* 0 = inbounds\n",
    "* 1,2 = <reserved> inlinehint,always-inline,noinline\n",
    "* 3 = <reserved> strict-ieee (strictfp)\n",
    "* 4-6 = <unused>\n",
    "* 7 = <reserved> has out-of-band info"
   ]
  },
  {
   "cell_type": "markdown",
   "id": "5e5bf598",
   "metadata": {},
   "source": [
    "* `linetable`"
   ]
  },
  {
   "cell_type": "code",
   "execution_count": null,
   "id": "12b0fb15",
   "metadata": {},
   "outputs": [],
   "source": [
    "An array of source location objects"
   ]
  },
  {
   "cell_type": "markdown",
   "id": "d057edd9",
   "metadata": {},
   "source": [
    "* `codelocs`"
   ]
  },
  {
   "cell_type": "code",
   "execution_count": null,
   "id": "337e4f0d",
   "metadata": {},
   "outputs": [],
   "source": [
    "An array of integer indices into the `linetable`, giving the location associated\n",
    "with each statement."
   ]
  },
  {
   "cell_type": "markdown",
   "id": "457c128f",
   "metadata": {},
   "source": [
    "Optional Fields:\n",
    "\n",
    "  * `slottypes`"
   ]
  },
  {
   "cell_type": "code",
   "execution_count": null,
   "id": "2f2344e4",
   "metadata": {},
   "outputs": [],
   "source": [
    "An array of types for the slots."
   ]
  },
  {
   "cell_type": "markdown",
   "id": "9d2f67e3",
   "metadata": {},
   "source": [
    "* `rettype`"
   ]
  },
  {
   "cell_type": "code",
   "execution_count": null,
   "id": "f01d20e5",
   "metadata": {},
   "outputs": [],
   "source": [
    "The inferred return type of the lowered form (IR). Default value is `Any`."
   ]
  },
  {
   "cell_type": "markdown",
   "id": "4b0fb38b",
   "metadata": {},
   "source": [
    "* `method_for_inference_limit_heuristics`"
   ]
  },
  {
   "cell_type": "code",
   "execution_count": null,
   "id": "0900e060",
   "metadata": {},
   "outputs": [],
   "source": [
    "The `method_for_inference_heuristics` will expand the given method's generator if\n",
    "necessary during inference."
   ]
  },
  {
   "cell_type": "markdown",
   "id": "b25f2850",
   "metadata": {},
   "source": [
    "* `parent`"
   ]
  },
  {
   "cell_type": "code",
   "execution_count": null,
   "id": "a4d23b17",
   "metadata": {},
   "outputs": [],
   "source": [
    "The `MethodInstance` that \"owns\" this object (if applicable)."
   ]
  },
  {
   "cell_type": "markdown",
   "id": "c49eedd7",
   "metadata": {},
   "source": [
    "* `min_world`/`max_world`"
   ]
  },
  {
   "cell_type": "code",
   "execution_count": null,
   "id": "ad0f0dc2",
   "metadata": {},
   "outputs": [],
   "source": [
    "The range of world ages for which this code was valid at the time when it had been inferred.\n"
   ]
  },
  {
   "cell_type": "markdown",
   "id": "c0ec8d8b",
   "metadata": {},
   "source": [
    "Boolean properties:\n",
    "\n",
    "  * `inferred`"
   ]
  },
  {
   "cell_type": "code",
   "execution_count": null,
   "id": "b684be1a",
   "metadata": {},
   "outputs": [],
   "source": [
    "Whether this has been produced by type inference."
   ]
  },
  {
   "cell_type": "markdown",
   "id": "50814bcd",
   "metadata": {},
   "source": [
    "* `inlineable`"
   ]
  },
  {
   "cell_type": "code",
   "execution_count": null,
   "id": "d57d86ee",
   "metadata": {},
   "outputs": [],
   "source": [
    "Whether this should be eligible for inlining."
   ]
  },
  {
   "cell_type": "markdown",
   "id": "c740acf0",
   "metadata": {},
   "source": [
    "* `propagate_inbounds`"
   ]
  },
  {
   "cell_type": "code",
   "execution_count": null,
   "id": "920f3a64",
   "metadata": {},
   "outputs": [],
   "source": [
    "Whether this should propagate `@inbounds` when inlined for the purpose of eliding\n",
    "`@boundscheck` blocks."
   ]
  },
  {
   "cell_type": "markdown",
   "id": "39e0e188",
   "metadata": {},
   "source": [
    "* `pure`"
   ]
  },
  {
   "cell_type": "code",
   "execution_count": null,
   "id": "21de63be",
   "metadata": {},
   "outputs": [],
   "source": [
    "Whether this is known to be a pure function of its arguments, without respect to the\n",
    "state of the method caches or other mutable global state."
   ]
  }
 ],
 "metadata": {},
 "nbformat": 4,
 "nbformat_minor": 5
}
