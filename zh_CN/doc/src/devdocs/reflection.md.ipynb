{
 "cells": [
  {
   "cell_type": "markdown",
   "id": "856cee55",
   "metadata": {},
   "source": [
    "# 反射 与 自我检查\n",
    "\n",
    "Julia 提供了多种运行时的反射功能。\n",
    "\n",
    "## 模块绑定\n",
    "\n",
    "由 `Module` 导出的名称可用 [`names(m::Module)`](@ref) 获得，它会返回一个元素为 [`Symbol`](@ref) 的数组来表示模块导出的绑定。不管导出状态如何，`names(m::Module, all = true)` 返回 `m` 中所有绑定的符号。\n",
    "\n",
    "## DateType 字段\n",
    "\n",
    "`DataType` 的所有字段名称可以使用 [`fieldnames`](@ref) 来获取。例如，对于下面给定的类型，`fieldnames(Point)` 会返回一个表示字段名称的 [`Symbol`](@ref) 元组："
   ]
  },
  {
   "cell_type": "code",
   "execution_count": null,
   "id": "4e0e5f95",
   "metadata": {},
   "outputs": [],
   "source": [
    "julia> struct Point\n",
    "           x::Int\n",
    "           y\n",
    "       end\n",
    "\n",
    "julia> fieldnames(Point)\n",
    "(:x, :y)"
   ]
  },
  {
   "cell_type": "markdown",
   "id": "73ca7d80",
   "metadata": {},
   "source": [
    "`Point` 对象中每个字段的类型存储在 `Point` 本身的 `types` 变量中："
   ]
  },
  {
   "cell_type": "code",
   "execution_count": null,
   "id": "6c6325ca",
   "metadata": {},
   "outputs": [],
   "source": [
    "julia> Point.types\n",
    "svec(Int64, Any)"
   ]
  },
  {
   "cell_type": "markdown",
   "id": "35f395a0",
   "metadata": {},
   "source": [
    "虽然 `x` 被注释为 `Int`，但 `y` 在类型定义里没有注释，因此 `y` 默认为 `Any` 类型。\n",
    "\n",
    "类型本身表示为一个叫做 `DataType` 的结构："
   ]
  },
  {
   "cell_type": "code",
   "execution_count": null,
   "id": "17fedb1c",
   "metadata": {},
   "outputs": [],
   "source": [
    "julia> typeof(Point)\n",
    "DataType"
   ]
  },
  {
   "cell_type": "markdown",
   "id": "2a8a6020",
   "metadata": {},
   "source": [
    "注意 `fieldnames(DataType)` 给出了 `DataType` 本身的每个字段的名称，其中的一个字段是上面示例中提到的 `types` 字段。\n",
    "\n",
    "## 子类型\n",
    "\n",
    "任何 `DataType` 的*直接*子类型都可以通过使用 [`subtypes`](@ref) 来列出。\n",
    "例如抽象 `DataType` [`AbstractFloat`](@ref) 有四个（具体的）子类型："
   ]
  },
  {
   "cell_type": "code",
   "execution_count": null,
   "id": "5cb29386",
   "metadata": {
    "attributes": {
     "": "",
     "classes": [],
     "id": ""
    }
   },
   "outputs": [],
   "source": [
    "julia> subtypes(AbstractFloat)\n",
    "4-element Array{Any,1}:\n",
    " BigFloat\n",
    " Float16\n",
    " Float32\n",
    " Float64"
   ]
  },
  {
   "cell_type": "markdown",
   "id": "f00f9a35",
   "metadata": {},
   "source": [
    "任何抽象子类型也包括此列表中，但子类型的子类型不在其中。递归使用 [`subtypes`](@ref) 可以遍历出整个类型树。\n",
    "\n",
    "## DataType 布局\n",
    "\n",
    "用 C 代码接口时，`DataType` 的内部表现非常重要。有几个函数可以检查这些细节。\n",
    "\n",
    " [`isbits(T::DataType)`](@ref) 如果 `T` 类型是以 C 兼容的对齐方式存储，则为 true。  \n",
    " [`fieldoffset(T::DataType, i::Integer)`](@ref) 返回字段 *i* 相对于类型开始的 (字节) 偏移量。\n",
    "\n",
    "## 函数方法\n",
    "\n",
    "任何泛型函数的方法都可以使用 [`methods`](@ref) 来列出。用 [`methodswith`](@ref) 搜索 方法调度表 来查找 接收给定类型的方法。\n",
    "\n",
    "## 扩展和更底层\n",
    "\n",
    "As discussed in the [Metaprogramming](@ref) section, the [`macroexpand`](@ref) function gives\n",
    "the unquoted and interpolated expression ([`Expr`](@ref)) form for a given macro. To use `macroexpand`,\n",
    "`quote` the expression block itself (otherwise, the macro will be evaluated and the result will\n",
    "be passed instead!). For example:"
   ]
  },
  {
   "cell_type": "code",
   "execution_count": null,
   "id": "7c8271f1",
   "metadata": {
    "attributes": {
     "": "",
     "classes": [],
     "id": ""
    }
   },
   "outputs": [],
   "source": [
    "julia> macroexpand(@__MODULE__, :(@edit println(\"\")) )\n",
    ":(InteractiveUtils.edit(println, (Base.typesof)(\"\")))"
   ]
  },
  {
   "cell_type": "markdown",
   "id": "ab6da2bb",
   "metadata": {},
   "source": [
    "The functions `Base.Meta.show_sexpr` and [`dump`](@ref) are used to display S-expr style views\n",
    "and depth-nested detail views for any expression.\n",
    "\n",
    "Finally, the [`Meta.lower`](@ref) function gives the `lowered` form of any expression and is of\n",
    "particular interest for understanding how language constructs map to primitive operations such\n",
    "as assignments, branches, and calls:"
   ]
  },
  {
   "cell_type": "code",
   "execution_count": null,
   "id": "d555a0af",
   "metadata": {
    "attributes": {
     "classes": [
      "jldoctest"
     ],
     "id": ""
    }
   },
   "outputs": [],
   "source": [
    "julia> Meta.lower(@__MODULE__, :( [1+2, sin(0.5)] ))\n",
    ":($(Expr(:thunk, CodeInfo(\n",
    "    @ none within `top-level scope'\n",
    "1 ─ %1 = 1 + 2\n",
    "│   %2 = sin(0.5)\n",
    "│   %3 = Base.vect(%1, %2)\n",
    "└──      return %3\n",
    "))))"
   ]
  },
  {
   "cell_type": "markdown",
   "id": "256f3470",
   "metadata": {},
   "source": [
    "## 中间表示和编译后表示\n",
    "\n",
    "检查函数的底层形式 需要选择所要显示的特定方法，因为泛型函数可能会有许多具有不同类型签名的方法。为此，\n",
    "用 [`code_lowered`](@ref) 可以指定代码底层中的方法。\n",
    "并且可以用  [`code_typed`](@ref) 来进行类型推断。\n",
    "[`code_warntype`](@ref) 增加 [`code_typed`](@ref) 输出的高亮。\n",
    "\n",
    "更加接近于机器， 一个函数的 LLVM-IR 可以通过使用 [`code_llvm`](@ref) 打印出。\n",
    "最终编译的机器码使用 [`code_native`](@ref) 查看（这将触发 之前未调用过的任何函数的 JIT 编译/代码生成）。\n",
    "\n",
    "为方便起见，上述函数有 宏的版本，它们接受标准函数调用并自动展开参数类型："
   ]
  },
  {
   "cell_type": "code",
   "execution_count": null,
   "id": "182ea05b",
   "metadata": {
    "attributes": {
     "classes": [
      "julia-repl"
     ],
     "id": ""
    }
   },
   "outputs": [],
   "source": [
    "julia> @code_llvm +(1,1)\n",
    "\n",
    "define i64 @\"julia_+_130862\"(i64, i64) {\n",
    "top:\n",
    "    %2 = add i64 %1, %0\n",
    "    ret i64 %2\n",
    "}"
   ]
  },
  {
   "cell_type": "markdown",
   "id": "b0903649",
   "metadata": {},
   "source": [
    "For more informations see [`@code_lowered`](@ref), [`@code_typed`](@ref), [`@code_warntype`](@ref),\n",
    "[`@code_llvm`](@ref), and [`@code_native`](@ref).\n",
    "\n",
    "### Printing of debug information\n",
    "\n",
    "The aforementioned functions and macros take the keyword argument `debuginfo` that controls the level\n",
    "debug information printed."
   ]
  },
  {
   "cell_type": "code",
   "execution_count": null,
   "id": "e253ab12",
   "metadata": {},
   "outputs": [],
   "source": [
    "julia> @code_typed debuginfo=:source +(1,1)\n",
    "CodeInfo(\n",
    "    @ int.jl:53 within `+'\n",
    "1 ─ %1 = Base.add_int(x, y)::Int64\n",
    "└──      return %1\n",
    ") => Int64"
   ]
  },
  {
   "cell_type": "markdown",
   "id": "02c1b7b4",
   "metadata": {},
   "source": [
    "Possible values for `debuginfo` are: `:none`, `:source`, and`:default`.\n",
    "Per default debug information is not printed, but that can be changed\n",
    "by setting `Base.IRShow.default_debuginfo[] = :source`."
   ]
  }
 ],
 "metadata": {},
 "nbformat": 4,
 "nbformat_minor": 5
}
