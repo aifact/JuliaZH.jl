{
 "cells": [
  {
   "cell_type": "markdown",
   "id": "33fee1ba",
   "metadata": {},
   "source": [
    "# Julia SSA-form IR\n",
    "\n",
    "## Background\n",
    "\n",
    "Beginning in Julia 0.7, parts of the compiler use a new [SSA-form](https://en.wikipedia.org/wiki/Static_single_assignment_form)\n",
    "intermediate representation. Historically, the compiler used to directly generate LLVM IR, from a lowered form of the Julia\n",
    "AST. This form had most syntactic abstractions removed, but still looked a lot like an abstract syntax tree.\n",
    "Over time, in order to facilitate optimizations, SSA values were introduced to this IR and the IR was\n",
    "linearized (i.e. a form where function arguments may only be SSA values or constants). However, non-SSA values\n",
    "(slots) remained in the IR due to the lack of Phi nodes in the IR (necessary for back-edges and re-merging of\n",
    "conditional control flow), negating much of the usefulness of the SSA form representation to perform\n",
    "middle end optimizations. Some heroic effort was put into making these optimizations work without a complete SSA\n",
    "form representation, but the lack of such a representation ultimately proved prohibitive.\n",
    "\n",
    "## New IR nodes\n",
    "\n",
    "With the new IR representation, the compiler learned to handle four new IR nodes, Phi nodes, Pi\n",
    "nodes as well as PhiC nodes and Upsilon nodes (the latter two are only used for exception handling).\n",
    "\n",
    "### Phi nodes and Pi nodes\n",
    "\n",
    "Phi nodes are part of generic SSA abstraction (see the link above if you're not familiar with\n",
    "the concept). In the Julia IR, these nodes are represented as:"
   ]
  },
  {
   "cell_type": "code",
   "execution_count": null,
   "id": "04fe7a74",
   "metadata": {},
   "outputs": [],
   "source": [
    "struct PhiNode\n",
    "    edges::Vector{Int}\n",
    "    values::Vector{Any}\n",
    "end"
   ]
  },
  {
   "cell_type": "markdown",
   "id": "4efc0469",
   "metadata": {},
   "source": [
    "where we ensure that both vectors always have the same length. In the canonical representation (the one\n",
    "handled by codegen and the interpreter), the edge values indicate come-from statement numbers (i.e.\n",
    "if edge has an entry of `15`, there must be a `goto`, `gotoifnot` or implicit fall through from\n",
    "statement `15` that targets this phi node). Values are either SSA values or constants. It is also\n",
    "possible for a value to be unassigned if the variable was not defined on this path. However, undefinedness\n",
    "checks get explicitly inserted and represented as booleans after middle end optimizations, so code generators\n",
    "may assume that any use of a Phi node will have an assigned value in the corresponding slot. It is also legal\n",
    "for the mapping to be incomplete, i.e. for a Phi node to have missing incoming edges. In that case, it must\n",
    "be dynamically guaranteed that the corresponding value will not be used.\n",
    "\n",
    "PiNodes encode statically proven information that may be implicitly assumed in basic blocks dominated by a given\n",
    "pi node. They are conceptually equivalent to the technique introduced in the paper\n",
    "[ABCD: Eliminating Array Bounds Checks on Demand](https://dl.acm.org/citation.cfm?id=358438.349342) or the predicate info nodes in LLVM. To see how they work, consider,\n",
    "e.g."
   ]
  },
  {
   "cell_type": "code",
   "execution_count": null,
   "id": "68d0cba3",
   "metadata": {
    "attributes": {
     "classes": [
      "julia"
     ],
     "id": ""
    }
   },
   "outputs": [],
   "source": [
    "%x::Union{Int, Float64} # %x is some Union{Int, Float64} typed ssa value\n",
    "if isa(x, Int)\n",
    "    # use x\n",
    "else\n",
    "    # use x\n",
    "end"
   ]
  },
  {
   "cell_type": "markdown",
   "id": "e42e9000",
   "metadata": {},
   "source": [
    "We can perform predicate insertion and turn this into:"
   ]
  },
  {
   "cell_type": "code",
   "execution_count": null,
   "id": "0d367c10",
   "metadata": {
    "attributes": {
     "classes": [
      "julia"
     ],
     "id": ""
    }
   },
   "outputs": [],
   "source": [
    "%x::Union{Int, Float64} # %x is some Union{Int, Float64} typed ssa value\n",
    "if isa(x, Int)\n",
    "    %x_int = PiNode(x, Int)\n",
    "    # use %x_int\n",
    "else\n",
    "    %x_float = PiNode(x, Float64)\n",
    "    # use %x_float\n",
    "end"
   ]
  },
  {
   "cell_type": "markdown",
   "id": "c2d2d5c6",
   "metadata": {},
   "source": [
    "Pi nodes are generally ignored in the interpreter, since they don't have any effect on the values,\n",
    "but they may sometimes lead to code generation in the compiler (e.g. to change from an implicitly\n",
    "union split representation to a plain unboxed representation). The main usefulness of PiNodes stems\n",
    "from the fact that path conditions of the values can be accumulated simply by def-use chain walking\n",
    "that is generally done for most optimizations that care about these conditions anyway.\n",
    "\n",
    "### PhiC nodes and Upsilon nodes\n",
    "\n",
    "Exception handling complicates the SSA story moderately, because exception handling\n",
    "introduces additional control flow edges into the IR across which values must be tracked.\n",
    "One approach to do so, which is followed by LLVM is to make calls which may throw exceptions\n",
    "into basic block terminators and add an explicit control flow edge to the catch handler:"
   ]
  },
  {
   "cell_type": "code",
   "execution_count": null,
   "id": "8dae5992",
   "metadata": {},
   "outputs": [],
   "source": [
    "invoke @function_that_may_throw() to label %regular unwind to %catch\n",
    "\n",
    "regular:\n",
    "# Control flow continues here\n",
    "\n",
    "catch:\n",
    "# Exceptions go here"
   ]
  },
  {
   "cell_type": "markdown",
   "id": "e46d131b",
   "metadata": {},
   "source": [
    "However, this is problematic in a language like julia where at the start of the optimization\n",
    "pipeline, we do not know which calls throw. We would have to conservatively assume that every\n",
    "call (which in julia is every statement) throws. This would have several negative effects.\n",
    "On the one hand, it would essentially reduce the scope of every basic block to a single call,\n",
    "defeating the purpose of having operations be performed at the basic block level. On the other\n",
    "hand, every catch basic block would have `n*m` phi node arguments (`n`, the number of statements\n",
    "in the critical region, `m` the number of live values through the catch block). To work around\n",
    "this, we use a combination of `Upsilon` and `PhiC` (the C standing for `catch`,\n",
    "written `φᶜ` in the IR pretty printer, because\n",
    "unicode subscript c is not available) nodes. There are several ways to think of these nodes, but\n",
    "perhaps the easiest is to think of each `PhiC` as a load from a unique store-many, read-once slot,\n",
    "with `Upsilon` being the corresponding store operation. The `PhiC` has an operand list of all the\n",
    "upsilon nodes that store to its implicit slot. The `Upsilon` nodes however, do not record which `PhiC`\n",
    "node they store to. This is done for more natural integration with the rest of the SSA IR. E.g.\n",
    "if there are no more uses of a `PhiC` node, it is safe to delete it, and the same is true of an\n",
    "`Upsilon` node. In most IR passes, `PhiC` nodes can be treated like `Phi` nodes. One can follow\n",
    "use-def chains through them, and they can be lifted to new `PhiC` nodes and new `Upsilon` nodes (in the\n",
    "same places as the original `Upsilon` nodes). The result of this scheme is that the number of\n",
    "`Upsilon` nodes (and `PhiC` arguments) is proportional to the number of assigned values to a particular\n",
    "variable (before SSA conversion), rather than the number of statements in the critical region.\n",
    "\n",
    "To see this scheme in action, consider the function"
   ]
  },
  {
   "cell_type": "code",
   "execution_count": null,
   "id": "6137058c",
   "metadata": {
    "attributes": {
     "classes": [
      "julia"
     ],
     "id": ""
    }
   },
   "outputs": [],
   "source": [
    "@noinline opaque() = invokelatest(identity, nothing) # Something opaque\n",
    "function foo()\n",
    "    local y\n",
    "    x = 1\n",
    "    try\n",
    "        y = 2\n",
    "        opaque()\n",
    "        y = 3\n",
    "        error()\n",
    "    catch\n",
    "    end\n",
    "    (x, y)\n",
    "end"
   ]
  },
  {
   "cell_type": "markdown",
   "id": "e8e87999",
   "metadata": {},
   "source": [
    "The corresponding IR (with irrelevant types stripped) is:"
   ]
  },
  {
   "cell_type": "code",
   "execution_count": null,
   "id": "b4dff5cd",
   "metadata": {},
   "outputs": [],
   "source": [
    "1 ─       nothing::Nothing\n",
    "2 ─ %2  = $(Expr(:enter, #4))\n",
    "3 ─ %3  = ϒ (false)\n",
    "│   %4  = ϒ (#undef)\n",
    "│   %5  = ϒ (1)\n",
    "│   %6  = ϒ (true)\n",
    "│   %7  = ϒ (2)\n",
    "│         invoke Main.opaque()::Any\n",
    "│   %9  = ϒ (true)\n",
    "│   %10 = ϒ (3)\n",
    "│         invoke Main.error()::Union{}\n",
    "└──       $(Expr(:unreachable))::Union{}\n",
    "4 ┄ %13 = φᶜ (%3, %6, %9)::Bool\n",
    "│   %14 = φᶜ (%4, %7, %10)::Core.Compiler.MaybeUndef(Int64)\n",
    "│   %15 = φᶜ (%5)::Core.Const(1)\n",
    "└──       $(Expr(:leave, 1))\n",
    "5 ─       $(Expr(:pop_exception, :(%2)))::Any\n",
    "│         $(Expr(:throw_undef_if_not, :y, :(%13)))::Any\n",
    "│   %19 = Core.tuple(%15, %14)\n",
    "└──       return %19"
   ]
  },
  {
   "cell_type": "markdown",
   "id": "0adf29e0",
   "metadata": {},
   "source": [
    "Note in particular that every value live into the critical region gets\n",
    "an upsilon node at the top of the critical region. This is because\n",
    "catch blocks are considered to have an invisible control flow edge\n",
    "from outside the function. As a result, no SSA value dominates the\n",
    "catch blocks, and all incoming values have to come through a `φᶜ` node.\n",
    "\n",
    "## Main SSA data structure\n",
    "\n",
    "The main `SSAIR` data structure is worthy of discussion. It draws inspiration from LLVM and Webkit's B3 IR.\n",
    "The core of the data structure is a flat vector of statements. Each statement is implicitly assigned\n",
    "an SSA value based on its position in the vector (i.e. the result of the statement at idx 1 can be\n",
    "accessed using `SSAValue(1)` etc). For each SSA value, we additionally maintain its type. Since, SSA values\n",
    "are definitionally assigned only once, this type is also the result type of the expression at the corresponding\n",
    "index. However, while this representation is rather efficient (since the assignments don't need to be explicitly\n",
    "encoded), it of course carries the drawback that order is semantically significant, so reorderings and insertions\n",
    "change statement numbers. Additionally, we do not keep use lists (i.e. it is impossible to walk from a def to\n",
    "all its uses without explicitly computing this map--def lists however are trivial since you can look up the\n",
    "corresponding statement from the index), so the LLVM-style RAUW (replace-all-uses-with) operation is unavailable.\n",
    "\n",
    "Instead, we do the following:\n",
    "\n",
    "- We keep a separate buffer of nodes to insert (including the position to insert them at, the type of the\n",
    "  corresponding value and the node itself). These nodes are numbered by their occurrence in the insertion\n",
    "  buffer, allowing their values to be immediately used elsewhere in the IR (i.e. if there are 12 statements in\n",
    "  the original statement list, the first new statement will be accessible as `SSAValue(13)`).\n",
    "- RAUW style operations are performed by setting the corresponding statement index to the replacement\n",
    "  value.\n",
    "- Statements are erased by setting the corresponding statement to `nothing` (this is essentially just a special-case\n",
    "  convention of the above.\n",
    "- If there are any uses of the statement being erased, they will be set to `nothing`.\n",
    "\n",
    "There is a `compact!` function that compacts the above data structure by performing the insertion of nodes in the appropriate place, trivial copy propagation, and renaming of uses to any changed SSA values. However, the clever part\n",
    "of this scheme is that this compaction can be done lazily as part of the subsequent pass. Most optimization passes\n",
    "need to walk over the entire list of statements, performing analysis or modifications along the way. We provide an\n",
    "`IncrementalCompact` iterator that can be used to iterate over the statement list. It will perform any necessary compaction\n",
    "and return the new index of the node, as well as the node itself. It is legal at this point to walk def-use chains,\n",
    "as well as make any modifications or deletions to the IR (insertions are disallowed however).\n",
    "\n",
    "The idea behind this arrangement is that, since the optimization passes need to touch the corresponding memory anyway\n",
    "and incur the corresponding memory access penalty, performing the extra housekeeping should have comparatively little\n",
    "overhead (and save the overhead of maintaining these data structures during IR modification)."
   ]
  }
 ],
 "metadata": {},
 "nbformat": 4,
 "nbformat_minor": 5
}
