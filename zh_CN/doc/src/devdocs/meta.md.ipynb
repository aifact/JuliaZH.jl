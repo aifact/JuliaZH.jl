{
 "cells": [
  {
   "cell_type": "markdown",
   "id": "85ed1289",
   "metadata": {},
   "source": [
    "# Talking to the compiler (the `:meta` mechanism)\n",
    "\n",
    "In some circumstances, one might wish to provide hints or instructions that a given block of code\n",
    "has special properties: you might always want to inline it, or you might want to turn on special\n",
    "compiler optimization passes.  Starting with version 0.4, Julia has a convention that these instructions\n",
    "can be placed inside a `:meta` expression, which is typically (but not necessarily) the first\n",
    "expression in the body of a function.\n",
    "\n",
    "`:meta` expressions are created with macros. As an example, consider the implementation of the\n",
    "`@inline` macro:"
   ]
  },
  {
   "cell_type": "code",
   "execution_count": null,
   "id": "b4df6fc8",
   "metadata": {
    "attributes": {
     "classes": [
      "julia"
     ],
     "id": ""
    }
   },
   "outputs": [],
   "source": [
    "macro inline(ex)\n",
    "    esc(isa(ex, Expr) ? pushmeta!(ex, :inline) : ex)\n",
    "end"
   ]
  },
  {
   "cell_type": "markdown",
   "id": "d403c7e1",
   "metadata": {},
   "source": [
    "Here, `ex` is expected to be an expression defining a function. A statement like this:"
   ]
  },
  {
   "cell_type": "code",
   "execution_count": null,
   "id": "2485f551",
   "metadata": {
    "attributes": {
     "classes": [
      "julia"
     ],
     "id": ""
    }
   },
   "outputs": [],
   "source": [
    "@inline function myfunction(x)\n",
    "    x*(x+3)\n",
    "end"
   ]
  },
  {
   "cell_type": "markdown",
   "id": "d78f9eca",
   "metadata": {},
   "source": [
    "gets turned into an expression like this:"
   ]
  },
  {
   "cell_type": "code",
   "execution_count": null,
   "id": "e0d784c8",
   "metadata": {
    "attributes": {
     "classes": [
      "julia"
     ],
     "id": ""
    }
   },
   "outputs": [],
   "source": [
    "quote\n",
    "    function myfunction(x)\n",
    "        Expr(:meta, :inline)\n",
    "        x*(x+3)\n",
    "    end\n",
    "end"
   ]
  },
  {
   "cell_type": "markdown",
   "id": "05b47e9d",
   "metadata": {},
   "source": [
    "`Base.pushmeta!(ex, :symbol, args...)` appends `:symbol` to the end of the `:meta` expression,\n",
    "creating a new `:meta` expression if necessary. If `args` is specified, a nested expression containing\n",
    "`:symbol` and these arguments is appended instead, which can be used to specify additional information.\n",
    "\n",
    "To use the metadata, you have to parse these `:meta` expressions. If your implementation can be\n",
    "performed within Julia, `Base.popmeta!` is very handy: `Base.popmeta!(body, :symbol)` will scan\n",
    "a function *body* expression (one without the function signature) for the first `:meta` expression\n",
    "containing `:symbol`, extract any arguments, and return a tuple `(found::Bool, args::Array{Any})`.\n",
    "If the metadata did not have any arguments, or `:symbol` was not found, the `args` array will\n",
    "be empty.\n",
    "\n",
    "Not yet provided is a convenient infrastructure for parsing `:meta` expressions from C++."
   ]
  }
 ],
 "metadata": {},
 "nbformat": 4,
 "nbformat_minor": 5
}
