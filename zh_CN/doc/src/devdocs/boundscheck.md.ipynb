{
 "cells": [
  {
   "cell_type": "markdown",
   "id": "7183e089",
   "metadata": {},
   "source": [
    "# 边界检查\n",
    "\n",
    "和许多其他现代编程语言一样，Julia 在访问数组元素的时候也要通过边界检查来确保程序安全。当循环次数很多，或者在其他性能敏感的场景下，你可能希望不进行边界检查以提高运行时性能。比如要使用矢量 (SIMD) 指令，循环体就不能有分支语句，因此无法进行边界检查。Julia 提供了一个宏 `@inbounds(...)` 来告诉编译器在指定语句块不进行边界检查。用户自定义的数组类型可以通过宏 `@boundscheck(...)` 来达到上下文敏感的代码选择目的。\n",
    "\n",
    "## 移除边界检查\n",
    "\n",
    "宏 `@boundscheck(...)` 把代码块标记为要执行边界检查。但当这些代码块被被宏 `@inbounds(...)` 标记的代码包裹时，它们可能会被编译器移除。仅当`@boundscheck(...)` 代码块被调用函数包裹时，编译器会移除它们。比如你可能这样写的 `sum` 方法："
   ]
  },
  {
   "cell_type": "code",
   "execution_count": null,
   "id": "33bf873e",
   "metadata": {
    "attributes": {
     "classes": [
      "julia"
     ],
     "id": ""
    }
   },
   "outputs": [],
   "source": [
    "function sum(A::AbstractArray)\n",
    "    r = zero(eltype(A))\n",
    "    for i in eachindex(A)\n",
    "        @inbounds r += A[i]\n",
    "    end\n",
    "    return r\n",
    "end"
   ]
  },
  {
   "cell_type": "markdown",
   "id": "9d1e1ab2",
   "metadata": {},
   "source": [
    "使用自定义的类数组类型 `MyArray`，我们有："
   ]
  },
  {
   "cell_type": "code",
   "execution_count": null,
   "id": "c9ed542d",
   "metadata": {
    "attributes": {
     "classes": [
      "julia"
     ],
     "id": ""
    }
   },
   "outputs": [],
   "source": [
    "@inline getindex(A::MyArray, i::Real) = (@boundscheck checkbounds(A,i); A.data[to_index(i)])"
   ]
  },
  {
   "cell_type": "markdown",
   "id": "d35afc72",
   "metadata": {},
   "source": [
    "当 `getindex` 被 `sum` 包裹时，对 `checkbounds(A,i)` 的调用会被忽略。如果存在多层包裹，最多只有一个 `@boundscheck` 被忽略。这个规则用来防止将来代码被改变时潜在的多余忽略。\n",
    "\n",
    "## Propagating inbounds\n",
    "\n",
    "There may be certain scenarios where for code-organization reasons you want more than one layer\n",
    "between the `@inbounds` and `@boundscheck` declarations. For instance, the default `getindex`\n",
    "methods have the chain `getindex(A::AbstractArray, i::Real)` calls `getindex(IndexStyle(A), A, i)`\n",
    "calls `_getindex(::IndexLinear, A, i)`.\n",
    "\n",
    "To override the \"one layer of inlining\" rule, a function may be marked with\n",
    "[`Base.@propagate_inbounds`](@ref) to propagate an inbounds context (or out of bounds\n",
    "context) through one additional layer of inlining.\n",
    "\n",
    "## The bounds checking call hierarchy\n",
    "\n",
    "The overall hierarchy is:\n",
    "\n",
    "  * `checkbounds(A, I...)` which calls"
   ]
  },
  {
   "cell_type": "code",
   "execution_count": null,
   "id": "70daf4cc",
   "metadata": {},
   "outputs": [],
   "source": [
    "* `checkbounds(Bool, A, I...)` which calls\n",
    "\n",
    "    * `checkbounds_indices(Bool, axes(A), I)` which recursively calls\n",
    "\n",
    "        * `checkindex` for each dimension"
   ]
  },
  {
   "cell_type": "markdown",
   "id": "e387182e",
   "metadata": {},
   "source": [
    "Here `A` is the array, and `I` contains the \"requested\" indices. `axes(A)` returns a tuple\n",
    "of \"permitted\" indices of `A`.\n",
    "\n",
    "`checkbounds(A, I...)` throws an error if the indices are invalid, whereas `checkbounds(Bool, A, I...)`\n",
    "returns `false` in that circumstance.  `checkbounds_indices` discards any information about the\n",
    "array other than its `axes` tuple, and performs a pure indices-vs-indices comparison: this\n",
    "allows relatively few compiled methods to serve a huge variety of array types. Indices are specified\n",
    "as tuples, and are usually compared in a 1-1 fashion with individual dimensions handled by calling\n",
    "another important function, `checkindex`: typically,"
   ]
  },
  {
   "cell_type": "code",
   "execution_count": null,
   "id": "6f066101",
   "metadata": {
    "attributes": {
     "classes": [
      "julia"
     ],
     "id": ""
    }
   },
   "outputs": [],
   "source": [
    "checkbounds_indices(Bool, (IA1, IA...), (I1, I...)) = checkindex(Bool, IA1, I1) &\n",
    "                                                      checkbounds_indices(Bool, IA, I)"
   ]
  },
  {
   "cell_type": "markdown",
   "id": "b6d627a9",
   "metadata": {},
   "source": [
    "so `checkindex` checks a single dimension.  All of these functions, including the unexported\n",
    "`checkbounds_indices` have docstrings accessible with `?` .\n",
    "\n",
    "If you have to customize bounds checking for a specific array type, you should specialize `checkbounds(Bool, A, I...)`.\n",
    "However, in most cases you should be able to rely on `checkbounds_indices` as long as you supply\n",
    "useful `axes` for your array type.\n",
    "\n",
    "If you have novel index types, first consider specializing `checkindex`, which handles a single\n",
    "index for a particular dimension of an array.  If you have a custom multidimensional index type\n",
    "(similar to `CartesianIndex`), then you may have to consider specializing `checkbounds_indices`.\n",
    "\n",
    "Note this hierarchy has been designed to reduce the likelihood of method ambiguities.  We try\n",
    "to make `checkbounds` the place to specialize on array type, and try to avoid specializations\n",
    "on index types; conversely, `checkindex` is intended to be specialized only on index type (especially,\n",
    "the last argument).\n",
    "\n",
    "## Emit bounds checks\n",
    "\n",
    "Julia can be launched with `--check-bounds={yes|no|auto}` to emit bounds checks always, never, or respect @inbounds declarations."
   ]
  }
 ],
 "metadata": {},
 "nbformat": 4,
 "nbformat_minor": 5
}
