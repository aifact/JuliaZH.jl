{
 "cells": [
  {
   "cell_type": "markdown",
   "id": "3f321dd5",
   "metadata": {},
   "source": [
    "# [Arrays with custom indices](@id man-custom-indices)\n",
    "\n",
    "Conventionally, Julia's\n",
    "arrays are indexed starting at 1, whereas some other languages start numbering at 0, and yet others\n",
    "(e.g., Fortran) allow you to specify arbitrary starting indices.  While there is much merit in\n",
    "picking a standard (i.e., 1 for Julia), there are some algorithms which simplify considerably\n",
    "if you can index outside the range `1:size(A,d)` (and not just `0:size(A,d)-1`, either).\n",
    "To facilitate such computations, Julia supports arrays with arbitrary indices.\n",
    "\n",
    "The purpose of this page is to address the question, \"what do I have to do to support such arrays\n",
    "in my own code?\"  First, let's address the simplest case: if you know that your code will never\n",
    "need to handle arrays with unconventional indexing, hopefully the answer is \"nothing.\" Old code,\n",
    "on conventional arrays, should function essentially without alteration as long as it was using\n",
    "the exported interfaces of Julia.\n",
    "If you find it more convenient to just force your users to supply traditional arrays where indexing starts at one, you can add"
   ]
  },
  {
   "cell_type": "code",
   "execution_count": null,
   "id": "7e98bcf7",
   "metadata": {
    "attributes": {
     "classes": [
      "julia"
     ],
     "id": ""
    }
   },
   "outputs": [],
   "source": [
    "Base.require_one_based_indexing(arrays...)"
   ]
  },
  {
   "cell_type": "markdown",
   "id": "7e8b9086",
   "metadata": {},
   "source": [
    "where `arrays...` is a list of the array objects that you wish to check for anything that\n",
    "violates 1-based indexing.\n",
    "\n",
    "## Generalizing existing code\n",
    "\n",
    "As an overview, the steps are:\n",
    "\n",
    "  * replace many uses of `size` with `axes`\n",
    "  * replace `1:length(A)` with `eachindex(A)`, or in some cases `LinearIndices(A)`\n",
    "  * replace explicit allocations like `Array{Int}(undef, size(B))` with `similar(Array{Int}, axes(B))`\n",
    "\n",
    "These are described in more detail below.\n",
    "\n",
    "### Things to watch out for\n",
    "\n",
    "Because unconventional indexing breaks many people's assumptions that all arrays start indexing with 1, there is always the chance that using such arrays will trigger errors.\n",
    "The most\n",
    "frustrating bugs would be incorrect results or segfaults (total crashes of Julia).\n",
    "For example,\n",
    "consider the following function:"
   ]
  },
  {
   "cell_type": "code",
   "execution_count": null,
   "id": "d563cb17",
   "metadata": {
    "attributes": {
     "classes": [
      "julia"
     ],
     "id": ""
    }
   },
   "outputs": [],
   "source": [
    "function mycopy!(dest::AbstractVector, src::AbstractVector)\n",
    "    length(dest) == length(src) || throw(DimensionMismatch(\"vectors must match\"))\n",
    "    # OK, now we're safe to use @inbounds, right? (not anymore!)\n",
    "    for i = 1:length(src)\n",
    "        @inbounds dest[i] = src[i]\n",
    "    end\n",
    "    dest\n",
    "end"
   ]
  },
  {
   "cell_type": "markdown",
   "id": "408c33db",
   "metadata": {},
   "source": [
    "This code implicitly assumes that vectors are indexed from 1; if `dest` starts at a different index than `src`, there is a chance that this code would trigger a segfault.\n",
    "(If you do get segfaults, to help locate\n",
    "the cause try running julia with the option `--check-bounds=yes`.)\n",
    "\n",
    "### Using `axes` for bounds checks and loop iteration\n",
    "\n",
    "`axes(A)` (reminiscent of `size(A)`) returns a tuple of `AbstractUnitRange` objects, specifying\n",
    "the range of valid indices along each dimension of `A`.  When `A` has unconventional indexing,\n",
    "the ranges may not start at 1.  If you just want the range for a particular dimension `d`, there\n",
    "is `axes(A, d)`.\n",
    "\n",
    "Base implements a custom range type, `OneTo`, where `OneTo(n)` means the same thing as `1:n` but\n",
    "in a form that guarantees (via the type system) that the lower index is 1. For any new [`AbstractArray`](@ref)\n",
    "type, this is the default returned by `axes`, and it indicates that this array type uses \"conventional\"\n",
    "1-based indexing.\n",
    "\n",
    "For bounds checking, note that there are dedicated functions `checkbounds` and `checkindex` which\n",
    "can sometimes simplify such tests.\n",
    "\n",
    "### Linear indexing (`LinearIndices`)\n",
    "\n",
    "\n",
    "Some algorithms are most conveniently (or efficiently) written in terms of a single linear index, `A[i]` even if `A` is multi-dimensional. Regardless of the array's native indices, linear indices always range from `1:length(A)`. However, this raises an ambiguity for one-dimensional arrays (a.k.a., [`AbstractVector`](@ref)): does `v[i]` mean linear indexing , or Cartesian indexing with the array's native indices?\n",
    "\n",
    "For this reason, your best option may be to iterate over the array with `eachindex(A)`, or, if you require the indices to be sequential integers, to get the index range by calling `LinearIndices(A)`. This will return `axes(A, 1)` if A is an AbstractVector, and the equivalent of `1:length(A)` otherwise.\n",
    "\n",
    "By this definition, 1-dimensional arrays always use Cartesian indexing with the array's native indices. To help enforce this, it's worth noting that the index conversion functions will throw an error if shape indicates a 1-dimensional array with unconventional indexing (i.e., is a `Tuple{UnitRange}` rather than a tuple of `OneTo`). For arrays with conventional indexing, these functions continue to work the same as always.\n",
    "\n",
    "Using `axes` and `LinearIndices`, here is one way you could rewrite `mycopy!`:"
   ]
  },
  {
   "cell_type": "code",
   "execution_count": null,
   "id": "61b32461",
   "metadata": {
    "attributes": {
     "classes": [
      "julia"
     ],
     "id": ""
    }
   },
   "outputs": [],
   "source": [
    "function mycopy!(dest::AbstractVector, src::AbstractVector)\n",
    "    axes(dest) == axes(src) || throw(DimensionMismatch(\"vectors must match\"))\n",
    "    for i in LinearIndices(src)\n",
    "        @inbounds dest[i] = src[i]\n",
    "    end\n",
    "    dest\n",
    "end"
   ]
  },
  {
   "cell_type": "markdown",
   "id": "436eb35c",
   "metadata": {},
   "source": [
    "### Allocating storage using generalizations of `similar`\n",
    "\n",
    "Storage is often allocated with `Array{Int}(undef, dims)` or `similar(A, args...)`. When the result needs\n",
    "to match the indices of some other array, this may not always suffice. The generic replacement\n",
    "for such patterns is to use `similar(storagetype, shape)`.  `storagetype` indicates the kind of\n",
    "underlying \"conventional\" behavior you'd like, e.g., `Array{Int}` or `BitArray` or even `dims->zeros(Float32, dims)`\n",
    "(which would allocate an all-zeros array). `shape` is a tuple of [`Integer`](@ref) or\n",
    "`AbstractUnitRange` values, specifying the indices that you want the result to use. Note that\n",
    "a convenient way of producing an all-zeros array that matches the indices of A is simply `zeros(A)`.\n",
    "\n",
    "Let's walk through a couple of explicit examples. First, if `A` has conventional indices, then\n",
    "`similar(Array{Int}, axes(A))` would end up calling `Array{Int}(undef, size(A))`, and thus return\n",
    "an array.  If `A` is an `AbstractArray` type with unconventional indexing, then `similar(Array{Int}, axes(A))`\n",
    "should return something that \"behaves like\" an `Array{Int}` but with a shape (including indices)\n",
    "that matches `A`.  (The most obvious implementation is to allocate an `Array{Int}(undef, size(A))` and\n",
    "then \"wrap\" it in a type that shifts the indices.)\n",
    "\n",
    "Note also that `similar(Array{Int}, (axes(A, 2),))` would allocate an `AbstractVector{Int}`\n",
    "(i.e., 1-dimensional array) that matches the indices of the columns of `A`.\n",
    "\n",
    "## Writing custom array types with non-1 indexing\n",
    "\n",
    "Most of the methods you'll need to define are standard for any `AbstractArray` type, see [Abstract Arrays](@ref man-interface-array).\n",
    "This page focuses on the steps needed to define unconventional indexing.\n",
    "\n",
    "### Custom `AbstractUnitRange` types\n",
    "\n",
    "If you're writing a non-1 indexed array type, you will want to specialize `axes` so it returns\n",
    "a `UnitRange`, or (perhaps better) a custom `AbstractUnitRange`.  The advantage of a custom type\n",
    "is that it \"signals\" the allocation type for functions like `similar`. If we're writing an array\n",
    "type for which indexing will start at 0, we likely want to begin by creating a new `AbstractUnitRange`,\n",
    "`ZeroRange`, where `ZeroRange(n)` is equivalent to `0:n-1`.\n",
    "\n",
    "In general, you should probably *not* export `ZeroRange` from your package: there may be other\n",
    "packages that implement their own `ZeroRange`, and having multiple distinct `ZeroRange` types\n",
    "is (perhaps counterintuitively) an advantage: `ModuleA.ZeroRange` indicates that `similar` should\n",
    "create a `ModuleA.ZeroArray`, whereas `ModuleB.ZeroRange` indicates a `ModuleB.ZeroArray` type.\n",
    " This design allows peaceful coexistence among many different custom array types.\n",
    "\n",
    "Note that the Julia package [CustomUnitRanges.jl](https://github.com/JuliaArrays/CustomUnitRanges.jl)\n",
    "can sometimes be used to avoid the need to write your own `ZeroRange` type.\n",
    "\n",
    "### Specializing `axes`\n",
    "\n",
    "Once you have your `AbstractUnitRange` type, then specialize `axes`:"
   ]
  },
  {
   "cell_type": "code",
   "execution_count": null,
   "id": "3bd437de",
   "metadata": {
    "attributes": {
     "classes": [
      "julia"
     ],
     "id": ""
    }
   },
   "outputs": [],
   "source": [
    "Base.axes(A::ZeroArray) = map(n->ZeroRange(n), A.size)"
   ]
  },
  {
   "cell_type": "markdown",
   "id": "a98320a7",
   "metadata": {},
   "source": [
    "where here we imagine that `ZeroArray` has a field called `size` (there would be other ways to\n",
    "implement this).\n",
    "\n",
    "In some cases, the fallback definition for `axes(A, d)`:"
   ]
  },
  {
   "cell_type": "code",
   "execution_count": null,
   "id": "700219e5",
   "metadata": {
    "attributes": {
     "classes": [
      "julia"
     ],
     "id": ""
    }
   },
   "outputs": [],
   "source": [
    "axes(A::AbstractArray{T,N}, d) where {T,N} = d <= N ? axes(A)[d] : OneTo(1)"
   ]
  },
  {
   "cell_type": "markdown",
   "id": "4085f4ce",
   "metadata": {},
   "source": [
    "may not be what you want: you may need to specialize it to return something other than `OneTo(1)`\n",
    "when `d > ndims(A)`.  Likewise, in `Base` there is a dedicated function `axes1` which is equivalent\n",
    "to `axes(A, 1)` but which avoids checking (at runtime) whether `ndims(A) > 0`. (This is purely\n",
    "a performance optimization.)  It is defined as:"
   ]
  },
  {
   "cell_type": "code",
   "execution_count": null,
   "id": "90bdc2ec",
   "metadata": {
    "attributes": {
     "classes": [
      "julia"
     ],
     "id": ""
    }
   },
   "outputs": [],
   "source": [
    "axes1(A::AbstractArray{T,0}) where {T} = OneTo(1)\n",
    "axes1(A::AbstractArray) = axes(A)[1]"
   ]
  },
  {
   "cell_type": "markdown",
   "id": "e31228be",
   "metadata": {},
   "source": [
    "If the first of these (the zero-dimensional case) is problematic for your custom array type, be\n",
    "sure to specialize it appropriately.\n",
    "\n",
    "### Specializing `similar`\n",
    "\n",
    "Given your custom `ZeroRange` type, then you should also add the following two specializations\n",
    "for `similar`:"
   ]
  },
  {
   "cell_type": "code",
   "execution_count": null,
   "id": "6c17467e",
   "metadata": {
    "attributes": {
     "classes": [
      "julia"
     ],
     "id": ""
    }
   },
   "outputs": [],
   "source": [
    "function Base.similar(A::AbstractArray, T::Type, shape::Tuple{ZeroRange,Vararg{ZeroRange}})\n",
    "    # body\n",
    "end\n",
    "\n",
    "function Base.similar(f::Union{Function,DataType}, shape::Tuple{ZeroRange,Vararg{ZeroRange}})\n",
    "    # body\n",
    "end"
   ]
  },
  {
   "cell_type": "markdown",
   "id": "5dcc5f8b",
   "metadata": {},
   "source": [
    "Both of these should allocate your custom array type.\n",
    "\n",
    "### Specializing `reshape`\n",
    "\n",
    "Optionally, define a method"
   ]
  },
  {
   "cell_type": "code",
   "execution_count": null,
   "id": "25dd6e45",
   "metadata": {},
   "outputs": [],
   "source": [
    "Base.reshape(A::AbstractArray, shape::Tuple{ZeroRange,Vararg{ZeroRange}}) = ..."
   ]
  },
  {
   "cell_type": "markdown",
   "id": "582fbf27",
   "metadata": {},
   "source": [
    "and you can `reshape` an array so that the result has custom indices.\n",
    "\n",
    "### For objects that mimic AbstractArray but are not subtypes\n",
    "\n",
    "`has_offset_axes` depends on having `axes` defined for the objects you call it on. If there is\n",
    "some reason you don't have an `axes` method defined for your object, consider defining a method"
   ]
  },
  {
   "cell_type": "code",
   "execution_count": null,
   "id": "199ddd77",
   "metadata": {
    "attributes": {
     "classes": [
      "julia"
     ],
     "id": ""
    }
   },
   "outputs": [],
   "source": [
    "Base.has_offset_axes(obj::MyNon1IndexedArraylikeObject) = true"
   ]
  },
  {
   "cell_type": "markdown",
   "id": "6f6e834f",
   "metadata": {},
   "source": [
    "This will allow code that assumes 1-based indexing to detect a problem\n",
    "and throw a helpful error, rather than returning incorrect results or\n",
    "segfaulting julia.\n",
    "\n",
    "### Catching errors\n",
    "\n",
    "If your new array type triggers errors in other code, one helpful debugging step can be to comment out `@boundscheck` in your `getindex` and `setindex!` implementation.\n",
    "This will ensure that every element access checks bounds. Or, restart julia with `--check-bounds=yes`.\n",
    "\n",
    "In some cases it may also be helpful to temporarily disable `size` and `length` for your new array type,\n",
    "since code that makes incorrect assumptions frequently uses these functions."
   ]
  }
 ],
 "metadata": {},
 "nbformat": 4,
 "nbformat_minor": 5
}
