{
 "cells": [
  {
   "cell_type": "markdown",
   "id": "c38e8b8f",
   "metadata": {},
   "source": [
    "# gdb 调试提示\n",
    "\n",
    "## 显示 Julia 变量\n",
    "\n",
    "在 `gdb` 中, 任何 `jl_value_t*` 类型的变量 `obj` 的展示可以通过使用："
   ]
  },
  {
   "cell_type": "code",
   "execution_count": null,
   "id": "d487c9e7",
   "metadata": {},
   "outputs": [],
   "source": [
    "(gdb) call jl_(obj)"
   ]
  },
  {
   "cell_type": "markdown",
   "id": "d179d4be",
   "metadata": {},
   "source": [
    "这个对象会在 `julia` 会话中展示，而不是在 gdb 会话中。这是一种行之有效的方式来发现由 Julia 的 C 代码操控的对象的类型和值。\n",
    "\n",
    "同样，如果你在调试一些 Julia 内部的东西 （比如 `compiler.jl` ），你可以通过使用这些来打印 `obj` ："
   ]
  },
  {
   "cell_type": "code",
   "execution_count": null,
   "id": "5344c8ea",
   "metadata": {
    "attributes": {
     "classes": [
      "julia"
     ],
     "id": ""
    }
   },
   "outputs": [],
   "source": [
    "ccall(:jl_, Cvoid, (Any,), obj)"
   ]
  },
  {
   "cell_type": "markdown",
   "id": "b047d7d8",
   "metadata": {},
   "source": [
    "这是一种很好的方法，可以避免 Julia 的输出流初始化顺序引起的问题。\n",
    "\n",
    "Julia的 flisp 解释器使用 `value_t` 对象；能够通过  `call fl_print(fl_ctx, ios_stdout, obj)` 来展示。\n",
    "\n",
    "## 有用的用于检查的 Julia 变量\n",
    "\n",
    "While the addresses of many variables, like singletons, can be useful to print for many failures,\n",
    "there are a number of additional variables (see `julia.h` for a complete list) that are even more\n",
    "useful.\n",
    "\n",
    "  * (when in `jl_apply_generic`) `mfunc` and `jl_uncompress_ast(mfunc->def, mfunc->code)` :: for\n",
    "    figuring out a bit about the call-stack\n",
    "  * `jl_lineno` and `jl_filename` :: for figuring out what line in a test to go start debugging from\n",
    "    (or figure out how far into a file has been parsed)\n",
    "  * `$1` :: not really a variable, but still a useful shorthand for referring to the result of the\n",
    "    last gdb command (such as `print`)\n",
    "  * `jl_options` :: sometimes useful, since it lists all of the command line options that were successfully\n",
    "    parsed\n",
    "  * `jl_uv_stderr` :: because who doesn't like to be able to interact with stdio\n",
    "\n",
    "## Useful Julia functions for Inspecting those variables\n",
    "\n",
    "  * `jl_gdblookup($rip)` :: For looking up the current function and line. (use `$eip` on i686 platforms)\n",
    "  * `jlbacktrace()` :: For dumping the current Julia backtrace stack to stderr. Only usable after\n",
    "    `record_backtrace()` has been called.\n",
    "  * `jl_dump_llvm_value(Value*)` :: For invoking `Value->dump()` in gdb, where it doesn't work natively.\n",
    "    For example, `f->linfo->functionObject`, `f->linfo->specFunctionObject`, and `to_function(f->linfo)`.\n",
    "  * `Type->dump()` :: only works in lldb. Note: add something like `;1` to prevent lldb from printing\n",
    "    its prompt over the output\n",
    "  * `jl_eval_string(\"expr\")` :: for invoking side-effects to modify the current state or to lookup\n",
    "    symbols\n",
    "  * `jl_typeof(jl_value_t*)` :: for extracting the type tag of a Julia value (in gdb, call `macro define jl_typeof jl_typeof`\n",
    "    first, or pick something short like `ty` for the first arg to define a shorthand)\n",
    "\n",
    "## Inserting breakpoints for inspection from gdb\n",
    "\n",
    "In your `gdb` session, set a breakpoint in `jl_breakpoint` like so:"
   ]
  },
  {
   "cell_type": "code",
   "execution_count": null,
   "id": "a95a23bb",
   "metadata": {},
   "outputs": [],
   "source": [
    "(gdb) break jl_breakpoint"
   ]
  },
  {
   "cell_type": "markdown",
   "id": "5df2aea9",
   "metadata": {},
   "source": [
    "Then within your Julia code, insert a call to `jl_breakpoint` by adding"
   ]
  },
  {
   "cell_type": "code",
   "execution_count": null,
   "id": "8eb933de",
   "metadata": {
    "attributes": {
     "classes": [
      "julia"
     ],
     "id": ""
    }
   },
   "outputs": [],
   "source": [
    "ccall(:jl_breakpoint, Cvoid, (Any,), obj)"
   ]
  },
  {
   "cell_type": "markdown",
   "id": "4b42a053",
   "metadata": {},
   "source": [
    "where `obj` can be any variable or tuple you want to be accessible in the breakpoint.\n",
    "\n",
    "It's particularly helpful to back up to the `jl_apply` frame, from which you can display the arguments\n",
    "to a function using, e.g.,"
   ]
  },
  {
   "cell_type": "code",
   "execution_count": null,
   "id": "b41230ac",
   "metadata": {},
   "outputs": [],
   "source": [
    "(gdb) call jl_(args[0])"
   ]
  },
  {
   "cell_type": "markdown",
   "id": "06cee2c4",
   "metadata": {},
   "source": [
    "Another useful frame is `to_function(jl_method_instance_t *li, bool cstyle)`. The `jl_method_instance_t*`\n",
    "argument is a struct with a reference to the final AST sent into the compiler. However, the AST\n",
    "at this point will usually be compressed; to view the AST, call `jl_uncompress_ast` and then pass\n",
    "the result to `jl_`:"
   ]
  },
  {
   "cell_type": "code",
   "execution_count": null,
   "id": "ac305f25",
   "metadata": {},
   "outputs": [],
   "source": [
    "#2  0x00007ffff7928bf7 in to_function (li=0x2812060, cstyle=false) at codegen.cpp:584\n",
    "584          abort();\n",
    "(gdb) p jl_(jl_uncompress_ast(li, li->ast))"
   ]
  },
  {
   "cell_type": "markdown",
   "id": "45e51a6e",
   "metadata": {},
   "source": [
    "## Inserting breakpoints upon certain conditions\n",
    "\n",
    "### Loading a particular file\n",
    "\n",
    "Let's say the file is `sysimg.jl`:"
   ]
  },
  {
   "cell_type": "code",
   "execution_count": null,
   "id": "bda16677",
   "metadata": {},
   "outputs": [],
   "source": [
    "(gdb) break jl_load if strcmp(fname, \"sysimg.jl\")==0"
   ]
  },
  {
   "cell_type": "markdown",
   "id": "86a9e3a3",
   "metadata": {},
   "source": [
    "### Calling a particular method"
   ]
  },
  {
   "cell_type": "code",
   "execution_count": null,
   "id": "dd461495",
   "metadata": {},
   "outputs": [],
   "source": [
    "(gdb) break jl_apply_generic if strcmp((char*)(jl_symbol_name)(jl_gf_mtable(F)->name), \"method_to_break\")==0"
   ]
  },
  {
   "cell_type": "markdown",
   "id": "d7324b2d",
   "metadata": {},
   "source": [
    "Since this function is used for every call, you will make everything 1000x slower if you do this.\n",
    "\n",
    "## Dealing with signals\n",
    "\n",
    "Julia requires a few signal to function property. The profiler uses `SIGUSR2` for sampling and\n",
    "the garbage collector uses `SIGSEGV` for threads synchronization. If you are debugging some code\n",
    "that uses the profiler or multiple threads, you may want to let the debugger ignore these signals\n",
    "since they can be triggered very often during normal operations. The command to do this in GDB\n",
    "is (replace `SIGSEGV` with `SIGUSRS` or other signals you want to ignore):"
   ]
  },
  {
   "cell_type": "code",
   "execution_count": null,
   "id": "19978a09",
   "metadata": {},
   "outputs": [],
   "source": [
    "(gdb) handle SIGSEGV noprint nostop pass"
   ]
  },
  {
   "cell_type": "markdown",
   "id": "090154ca",
   "metadata": {},
   "source": [
    "The corresponding LLDB command is (after the process is started):"
   ]
  },
  {
   "cell_type": "code",
   "execution_count": null,
   "id": "1b188148",
   "metadata": {},
   "outputs": [],
   "source": [
    "(lldb) pro hand -p true -s false -n false SIGSEGV"
   ]
  },
  {
   "cell_type": "markdown",
   "id": "7031a730",
   "metadata": {},
   "source": [
    "If you are debugging a segfault with threaded code, you can set a breakpoint on `jl_critical_error`\n",
    "(`sigdie_handler` should also work on Linux and BSD) in order to only catch the actual segfault\n",
    "rather than the GC synchronization points.\n",
    "\n",
    "## Debugging during Julia's build process (bootstrap)\n",
    "\n",
    "Errors that occur during `make` need special handling. Julia is built in two stages, constructing\n",
    "`sys0` and `sys.ji`. To see what commands are running at the time of failure, use `make VERBOSE=1`.\n",
    "\n",
    "At the time of this writing, you can debug build errors during the `sys0` phase from the `base`\n",
    "directory using:"
   ]
  },
  {
   "cell_type": "code",
   "execution_count": null,
   "id": "88b2d9e7",
   "metadata": {},
   "outputs": [],
   "source": [
    "julia/base$ gdb --args ../usr/bin/julia-debug -C native --build ../usr/lib/julia/sys0 sysimg.jl"
   ]
  },
  {
   "cell_type": "markdown",
   "id": "029e3078",
   "metadata": {},
   "source": [
    "You might need to delete all the files in `usr/lib/julia/` to get this to work.\n",
    "\n",
    "You can debug the `sys.ji` phase using:"
   ]
  },
  {
   "cell_type": "code",
   "execution_count": null,
   "id": "c8d18e89",
   "metadata": {},
   "outputs": [],
   "source": [
    "julia/base$ gdb --args ../usr/bin/julia-debug -C native --build ../usr/lib/julia/sys -J ../usr/lib/julia/sys0.ji sysimg.jl"
   ]
  },
  {
   "cell_type": "markdown",
   "id": "605650fa",
   "metadata": {},
   "source": [
    "By default, any errors will cause Julia to exit, even under gdb. To catch an error \"in the act\",\n",
    "set a breakpoint in `jl_error` (there are several other useful spots, for specific kinds of failures,\n",
    "including: `jl_too_few_args`, `jl_too_many_args`, and `jl_throw`).\n",
    "\n",
    "Once an error is caught, a useful technique is to walk up the stack and examine the function by\n",
    "inspecting the related call to `jl_apply`. To take a real-world example:"
   ]
  },
  {
   "cell_type": "code",
   "execution_count": null,
   "id": "27fc9ded",
   "metadata": {},
   "outputs": [],
   "source": [
    "Breakpoint 1, jl_throw (e=0x7ffdf42de400) at task.c:802\n",
    "802 {\n",
    "(gdb) p jl_(e)\n",
    "ErrorException(\"auto_unbox: unable to determine argument type\")\n",
    "$2 = void\n",
    "(gdb) bt 10\n",
    "#0  jl_throw (e=0x7ffdf42de400) at task.c:802\n",
    "#1  0x00007ffff65412fe in jl_error (str=0x7ffde56be000 <_j_str267> \"auto_unbox:\n",
    "   unable to determine argument type\")\n",
    "   at builtins.c:39\n",
    "#2  0x00007ffde56bd01a in julia_convert_16886 ()\n",
    "#3  0x00007ffff6541154 in jl_apply (f=0x7ffdf367f630, args=0x7fffffffc2b0, nargs=2) at julia.h:1281\n",
    "..."
   ]
  },
  {
   "cell_type": "markdown",
   "id": "f0713613",
   "metadata": {},
   "source": [
    "The most recent `jl_apply` is at frame #3, so we can go back there and look at the AST for the\n",
    "function `julia_convert_16886`. This is the uniqued name for some method of `convert`. `f` in\n",
    "this frame is a `jl_function_t*`, so we can look at the type signature, if any, from the `specTypes`\n",
    "field:"
   ]
  },
  {
   "cell_type": "code",
   "execution_count": null,
   "id": "ff6f251e",
   "metadata": {},
   "outputs": [],
   "source": [
    "(gdb) f 3\n",
    "#3  0x00007ffff6541154 in jl_apply (f=0x7ffdf367f630, args=0x7fffffffc2b0, nargs=2) at julia.h:1281\n",
    "1281            return f->fptr((jl_value_t*)f, args, nargs);\n",
    "(gdb) p f->linfo->specTypes\n",
    "$4 = (jl_tupletype_t *) 0x7ffdf39b1030\n",
    "(gdb) p jl_( f->linfo->specTypes )\n",
    "Tuple{Type{Float32}, Float64}           # <-- type signature for julia_convert_16886"
   ]
  },
  {
   "cell_type": "markdown",
   "id": "22562573",
   "metadata": {},
   "source": [
    "Then, we can look at the AST for this function:"
   ]
  },
  {
   "cell_type": "code",
   "execution_count": null,
   "id": "1ec6ea60",
   "metadata": {},
   "outputs": [],
   "source": [
    "(gdb) p jl_( jl_uncompress_ast(f->linfo, f->linfo->ast) )\n",
    "Expr(:lambda, Array{Any, 1}[:#s29, :x], Array{Any, 1}[Array{Any, 1}[], Array{Any, 1}[Array{Any, 1}[:#s29, :Any, 0], Array{Any, 1}[:x, :Any, 0]], Array{Any, 1}[], 0], Expr(:body,\n",
    "Expr(:line, 90, :float.jl)::Any,\n",
    "Expr(:return, Expr(:call, :box, :Float32, Expr(:call, :fptrunc, :Float32, :x)::Any)::Any)::Any)::Any)::Any"
   ]
  },
  {
   "cell_type": "markdown",
   "id": "523a7606",
   "metadata": {},
   "source": [
    "Finally, and perhaps most usefully, we can force the function to be recompiled in order to step\n",
    "through the codegen process. To do this, clear the cached `functionObject` from the `jl_lamdbda_info_t*`:"
   ]
  },
  {
   "cell_type": "code",
   "execution_count": null,
   "id": "cb5ed42b",
   "metadata": {},
   "outputs": [],
   "source": [
    "(gdb) p f->linfo->functionObject\n",
    "$8 = (void *) 0x1289d070\n",
    "(gdb) set f->linfo->functionObject = NULL"
   ]
  },
  {
   "cell_type": "markdown",
   "id": "51ebe671",
   "metadata": {},
   "source": [
    "Then, set a breakpoint somewhere useful (e.g. `emit_function`, `emit_expr`, `emit_call`, etc.),\n",
    "and run codegen:"
   ]
  },
  {
   "cell_type": "code",
   "execution_count": null,
   "id": "0b65e5d0",
   "metadata": {},
   "outputs": [],
   "source": [
    "(gdb) p jl_compile(f)\n",
    "... # your breakpoint here"
   ]
  },
  {
   "cell_type": "markdown",
   "id": "8bcf9031",
   "metadata": {},
   "source": [
    "## Debugging precompilation errors\n",
    "\n",
    "Module precompilation spawns a separate Julia process to precompile each module. Setting a breakpoint\n",
    "or catching failures in a precompile worker requires attaching a debugger to the worker. The easiest\n",
    "approach is to set the debugger watch for new process launches matching a given name. For example:"
   ]
  },
  {
   "cell_type": "code",
   "execution_count": null,
   "id": "9a837132",
   "metadata": {},
   "outputs": [],
   "source": [
    "(gdb) attach -w -n julia-debug"
   ]
  },
  {
   "cell_type": "markdown",
   "id": "41c644df",
   "metadata": {},
   "source": [
    "or:"
   ]
  },
  {
   "cell_type": "code",
   "execution_count": null,
   "id": "ff9aa39b",
   "metadata": {},
   "outputs": [],
   "source": [
    "(lldb) process attach -w -n julia-debug"
   ]
  },
  {
   "cell_type": "markdown",
   "id": "88e3420b",
   "metadata": {},
   "source": [
    "Then run a script/command to start precompilation. As described earlier, use conditional breakpoints\n",
    "in the parent process to catch specific file-loading events and narrow the debugging window. (some\n",
    "operating systems may require alternative approaches, such as following each `fork` from the parent\n",
    "process)\n",
    "\n",
    "## Mozilla's Record and Replay Framework (rr)\n",
    "\n",
    "Julia now works out of the box with [rr](http://rr-project.org/), the lightweight recording and\n",
    "deterministic debugging framework from Mozilla. This allows you to replay the trace of an execution\n",
    "deterministically.  The replayed execution's address spaces, register contents, syscall data etc\n",
    "are exactly the same in every run.\n",
    "\n",
    "A recent version of rr (3.1.0 or higher) is required.\n",
    "\n",
    "### Reproducing concurrency bugs with rr\n",
    "\n",
    "rr simulates a single-threaded machine by default. In order to debug concurrent\n",
    "code you can use `rr record --chaos` which will cause rr to simulate between\n",
    "one to eight cores, chosen randomly. You might therefore want to set `JULIA_NUM_THREADS=8`\n",
    "and rerun your code under rr until you have caught your bug."
   ]
  }
 ],
 "metadata": {},
 "nbformat": 4,
 "nbformat_minor": 5
}
