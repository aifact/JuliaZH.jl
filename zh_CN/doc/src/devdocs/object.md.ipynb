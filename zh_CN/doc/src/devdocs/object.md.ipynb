{
 "cells": [
  {
   "cell_type": "markdown",
   "id": "d2b15e1b",
   "metadata": {},
   "source": [
    "# Memory layout of Julia Objects\n",
    "\n",
    "## Object layout (`jl_value_t`)\n",
    "\n",
    "The `jl_value_t` struct is the name for a block of memory owned by the Julia Garbage Collector,\n",
    "representing the data associated with a Julia object in memory. Absent any type information, it\n",
    "is simply an opaque pointer:"
   ]
  },
  {
   "cell_type": "code",
   "execution_count": null,
   "id": "4f44ec90",
   "metadata": {
    "attributes": {
     "classes": [
      "c"
     ],
     "id": ""
    }
   },
   "outputs": [],
   "source": [
    "typedef struct jl_value_t* jl_pvalue_t;"
   ]
  },
  {
   "cell_type": "markdown",
   "id": "41f55607",
   "metadata": {},
   "source": [
    "Each `jl_value_t` struct is contained in a `jl_typetag_t` struct that contains metadata information\n",
    "about the Julia object, such as its type and garbage collector (gc) reachability:"
   ]
  },
  {
   "cell_type": "code",
   "execution_count": null,
   "id": "52a8d85c",
   "metadata": {
    "attributes": {
     "classes": [
      "c"
     ],
     "id": ""
    }
   },
   "outputs": [],
   "source": [
    "typedef struct {\n",
    "    opaque metadata;\n",
    "    jl_value_t value;\n",
    "} jl_typetag_t;"
   ]
  },
  {
   "cell_type": "markdown",
   "id": "b019bbbc",
   "metadata": {},
   "source": [
    "The type of any Julia object is an instance of a leaf `jl_datatype_t` object. The `jl_typeof()`\n",
    "function can be used to query for it:"
   ]
  },
  {
   "cell_type": "code",
   "execution_count": null,
   "id": "e0f0bdb4",
   "metadata": {
    "attributes": {
     "classes": [
      "c"
     ],
     "id": ""
    }
   },
   "outputs": [],
   "source": [
    "jl_value_t *jl_typeof(jl_value_t *v);"
   ]
  },
  {
   "cell_type": "markdown",
   "id": "8e69cd2f",
   "metadata": {},
   "source": [
    "The layout of the object depends on its type. Reflection methods can be used to inspect that layout.\n",
    "A field can be accessed by calling one of the get-field methods:"
   ]
  },
  {
   "cell_type": "code",
   "execution_count": null,
   "id": "38817958",
   "metadata": {
    "attributes": {
     "classes": [
      "c"
     ],
     "id": ""
    }
   },
   "outputs": [],
   "source": [
    "jl_value_t *jl_get_nth_field_checked(jl_value_t *v, size_t i);\n",
    "jl_value_t *jl_get_field(jl_value_t *o, char *fld);"
   ]
  },
  {
   "cell_type": "markdown",
   "id": "42f76988",
   "metadata": {},
   "source": [
    "If the field types are known, a priori, to be all pointers, the values can also be extracted directly\n",
    "as an array access:"
   ]
  },
  {
   "cell_type": "code",
   "execution_count": null,
   "id": "d83aaceb",
   "metadata": {
    "attributes": {
     "classes": [
      "c"
     ],
     "id": ""
    }
   },
   "outputs": [],
   "source": [
    "jl_value_t *v = value->fieldptr[n];"
   ]
  },
  {
   "cell_type": "markdown",
   "id": "e0c31d5c",
   "metadata": {},
   "source": [
    "As an example, a \"boxed\" `uint16_t` is stored as follows:"
   ]
  },
  {
   "cell_type": "code",
   "execution_count": null,
   "id": "65ee233a",
   "metadata": {
    "attributes": {
     "classes": [
      "c"
     ],
     "id": ""
    }
   },
   "outputs": [],
   "source": [
    "struct {\n",
    "    opaque metadata;\n",
    "    struct {\n",
    "        uint16_t data;        // -- 2 bytes\n",
    "    } jl_value_t;\n",
    "};"
   ]
  },
  {
   "cell_type": "markdown",
   "id": "82d2708e",
   "metadata": {},
   "source": [
    "This object is created by `jl_box_uint16()`. Note that the `jl_value_t` pointer references the\n",
    "data portion, not the metadata at the top of the struct.\n",
    "\n",
    "A value may be stored \"unboxed\" in many circumstances (just the data, without the metadata, and\n",
    "possibly not even stored but just kept in registers), so it is unsafe to assume that the address\n",
    "of a box is a unique identifier. The \"egal\" test (corresponding to the `===` function in Julia),\n",
    "should instead be used to compare two unknown objects for equivalence:"
   ]
  },
  {
   "cell_type": "code",
   "execution_count": null,
   "id": "02119647",
   "metadata": {
    "attributes": {
     "classes": [
      "c"
     ],
     "id": ""
    }
   },
   "outputs": [],
   "source": [
    "int jl_egal(jl_value_t *a, jl_value_t *b);"
   ]
  },
  {
   "cell_type": "markdown",
   "id": "2715414d",
   "metadata": {},
   "source": [
    "This optimization should be relatively transparent to the API, since the object will be \"boxed\"\n",
    "on-demand, whenever a `jl_value_t` pointer is needed.\n",
    "\n",
    "Note that modification of a `jl_value_t` pointer in memory is permitted only if the object is\n",
    "mutable. Otherwise, modification of the value may corrupt the program and the result will be undefined.\n",
    "The mutability property of a value can be queried for with:"
   ]
  },
  {
   "cell_type": "code",
   "execution_count": null,
   "id": "f1b90488",
   "metadata": {
    "attributes": {
     "classes": [
      "c"
     ],
     "id": ""
    }
   },
   "outputs": [],
   "source": [
    "int jl_is_mutable(jl_value_t *v);"
   ]
  },
  {
   "cell_type": "markdown",
   "id": "9c08c8f6",
   "metadata": {},
   "source": [
    "If the object being stored is a `jl_value_t`, the Julia garbage collector must be notified also:"
   ]
  },
  {
   "cell_type": "code",
   "execution_count": null,
   "id": "95a115dc",
   "metadata": {
    "attributes": {
     "classes": [
      "c"
     ],
     "id": ""
    }
   },
   "outputs": [],
   "source": [
    "void jl_gc_wb(jl_value_t *parent, jl_value_t *ptr);"
   ]
  },
  {
   "cell_type": "markdown",
   "id": "733b601d",
   "metadata": {},
   "source": [
    "However, the [Embedding Julia](@ref) section of the manual is also required reading at this point,\n",
    "for covering other details of boxing and unboxing various types, and understanding the gc interactions.\n",
    "\n",
    "Mirror structs for some of the built-in types are [defined in `julia.h`](https://github.com/JuliaLang/julia/blob/master/src/julia.h).\n",
    "The corresponding global `jl_datatype_t` objects are created by [`jl_init_types` in `jltypes.c`](https://github.com/JuliaLang/julia/blob/master/src/jltypes.c).\n",
    "\n",
    "## Garbage collector mark bits\n",
    "\n",
    "The garbage collector uses several bits from the metadata portion of the `jl_typetag_t` to track\n",
    "each object in the system. Further details about this algorithm can be found in the comments of\n",
    "the [garbage collector implementation in `gc.c`](https://github.com/JuliaLang/julia/blob/master/src/gc.c).\n",
    "\n",
    "## Object allocation\n",
    "\n",
    "Most new objects are allocated by `jl_new_structv()`:"
   ]
  },
  {
   "cell_type": "code",
   "execution_count": null,
   "id": "949ff11f",
   "metadata": {
    "attributes": {
     "classes": [
      "c"
     ],
     "id": ""
    }
   },
   "outputs": [],
   "source": [
    "jl_value_t *jl_new_struct(jl_datatype_t *type, ...);\n",
    "jl_value_t *jl_new_structv(jl_datatype_t *type, jl_value_t **args, uint32_t na);"
   ]
  },
  {
   "cell_type": "markdown",
   "id": "8d623996",
   "metadata": {},
   "source": [
    "Although, [`isbits`](@ref) objects can be also constructed directly from memory:"
   ]
  },
  {
   "cell_type": "code",
   "execution_count": null,
   "id": "f2cfe8e9",
   "metadata": {
    "attributes": {
     "classes": [
      "c"
     ],
     "id": ""
    }
   },
   "outputs": [],
   "source": [
    "jl_value_t *jl_new_bits(jl_value_t *bt, void *data)"
   ]
  },
  {
   "cell_type": "markdown",
   "id": "4820ad84",
   "metadata": {},
   "source": [
    "And some objects have special constructors that must be used instead of the above functions:\n",
    "\n",
    "Types:"
   ]
  },
  {
   "cell_type": "code",
   "execution_count": null,
   "id": "568ae29e",
   "metadata": {
    "attributes": {
     "classes": [
      "c"
     ],
     "id": ""
    }
   },
   "outputs": [],
   "source": [
    "jl_datatype_t *jl_apply_type(jl_datatype_t *tc, jl_tuple_t *params);\n",
    "jl_datatype_t *jl_apply_array_type(jl_datatype_t *type, size_t dim);"
   ]
  },
  {
   "cell_type": "markdown",
   "id": "a83857cb",
   "metadata": {},
   "source": [
    "While these are the most commonly used options, there are more low-level constructors too, which\n",
    "you can find declared in [`julia.h`](https://github.com/JuliaLang/julia/blob/master/src/julia.h).\n",
    "These are used in `jl_init_types()` to create the initial types needed to bootstrap the creation\n",
    "of the Julia system image.\n",
    "\n",
    "Tuples:"
   ]
  },
  {
   "cell_type": "code",
   "execution_count": null,
   "id": "d42241dd",
   "metadata": {
    "attributes": {
     "classes": [
      "c"
     ],
     "id": ""
    }
   },
   "outputs": [],
   "source": [
    "jl_tuple_t *jl_tuple(size_t n, ...);\n",
    "jl_tuple_t *jl_tuplev(size_t n, jl_value_t **v);\n",
    "jl_tuple_t *jl_alloc_tuple(size_t n);"
   ]
  },
  {
   "cell_type": "markdown",
   "id": "0041bf30",
   "metadata": {},
   "source": [
    "The representation of tuples is highly unique in the Julia object representation ecosystem. In\n",
    "some cases, a [`Base.tuple()`](@ref) object may be an array of pointers to the objects contained\n",
    "by the tuple equivalent to:"
   ]
  },
  {
   "cell_type": "code",
   "execution_count": null,
   "id": "58367fbf",
   "metadata": {
    "attributes": {
     "classes": [
      "c"
     ],
     "id": ""
    }
   },
   "outputs": [],
   "source": [
    "typedef struct {\n",
    "    size_t length;\n",
    "    jl_value_t *data[length];\n",
    "} jl_tuple_t;"
   ]
  },
  {
   "cell_type": "markdown",
   "id": "b12b838a",
   "metadata": {},
   "source": [
    "However, in other cases, the tuple may be converted to an anonymous [`isbits`](@ref) type and\n",
    "stored unboxed, or it may not stored at all (if it is not being used in a generic context as a\n",
    "`jl_value_t*`).\n",
    "\n",
    "Symbols:"
   ]
  },
  {
   "cell_type": "code",
   "execution_count": null,
   "id": "93e4055d",
   "metadata": {
    "attributes": {
     "classes": [
      "c"
     ],
     "id": ""
    }
   },
   "outputs": [],
   "source": [
    "jl_sym_t *jl_symbol(const char *str);"
   ]
  },
  {
   "cell_type": "markdown",
   "id": "a2bb332d",
   "metadata": {},
   "source": [
    "Functions and MethodInstance:"
   ]
  },
  {
   "cell_type": "code",
   "execution_count": null,
   "id": "9e817c33",
   "metadata": {
    "attributes": {
     "classes": [
      "c"
     ],
     "id": ""
    }
   },
   "outputs": [],
   "source": [
    "jl_function_t *jl_new_generic_function(jl_sym_t *name);\n",
    "jl_method_instance_t *jl_new_method_instance(jl_value_t *ast, jl_tuple_t *sparams);"
   ]
  },
  {
   "cell_type": "markdown",
   "id": "b6ed83cd",
   "metadata": {},
   "source": [
    "Arrays:"
   ]
  },
  {
   "cell_type": "code",
   "execution_count": null,
   "id": "165209cd",
   "metadata": {
    "attributes": {
     "classes": [
      "c"
     ],
     "id": ""
    }
   },
   "outputs": [],
   "source": [
    "jl_array_t *jl_new_array(jl_value_t *atype, jl_tuple_t *dims);\n",
    "jl_array_t *jl_new_arrayv(jl_value_t *atype, ...);\n",
    "jl_array_t *jl_alloc_array_1d(jl_value_t *atype, size_t nr);\n",
    "jl_array_t *jl_alloc_array_2d(jl_value_t *atype, size_t nr, size_t nc);\n",
    "jl_array_t *jl_alloc_array_3d(jl_value_t *atype, size_t nr, size_t nc, size_t z);\n",
    "jl_array_t *jl_alloc_vec_any(size_t n);"
   ]
  },
  {
   "cell_type": "markdown",
   "id": "160a1b20",
   "metadata": {},
   "source": [
    "Note that many of these have alternative allocation functions for various special-purposes. The\n",
    "list here reflects the more common usages, but a more complete list can be found by reading the\n",
    "[`julia.h` header file](https://github.com/JuliaLang/julia/blob/master/src/julia.h).\n",
    "\n",
    "Internal to Julia, storage is typically allocated by `newstruct()` (or `newobj()` for the special\n",
    "types):"
   ]
  },
  {
   "cell_type": "code",
   "execution_count": null,
   "id": "3db038b3",
   "metadata": {
    "attributes": {
     "classes": [
      "c"
     ],
     "id": ""
    }
   },
   "outputs": [],
   "source": [
    "jl_value_t *newstruct(jl_value_t *type);\n",
    "jl_value_t *newobj(jl_value_t *type, size_t nfields);"
   ]
  },
  {
   "cell_type": "markdown",
   "id": "63586292",
   "metadata": {},
   "source": [
    "And at the lowest level, memory is getting allocated by a call to the garbage collector (in `gc.c`),\n",
    "then tagged with its type:"
   ]
  },
  {
   "cell_type": "code",
   "execution_count": null,
   "id": "d4c7aca4",
   "metadata": {
    "attributes": {
     "classes": [
      "c"
     ],
     "id": ""
    }
   },
   "outputs": [],
   "source": [
    "jl_value_t *jl_gc_allocobj(size_t nbytes);\n",
    "void jl_set_typeof(jl_value_t *v, jl_datatype_t *type);"
   ]
  },
  {
   "cell_type": "markdown",
   "id": "5a324000",
   "metadata": {},
   "source": [
    "Note that all objects are allocated in multiples of 4 bytes and aligned to the platform pointer\n",
    "size. Memory is allocated from a pool for smaller objects, or directly with `malloc()` for large\n",
    "objects.\n",
    "\n",
    "!!! sidebar \"Singleton Types\"\n",
    "    Singleton types have only one instance and no data fields. Singleton instances have a size of\n",
    "    0 bytes, and consist only of their metadata. e.g. `nothing::Nothing`."
   ]
  },
  {
   "cell_type": "code",
   "execution_count": null,
   "id": "7763b37d",
   "metadata": {},
   "outputs": [],
   "source": [
    "See [Singleton Types](@ref man-singleton-types) and [Nothingness and missing values](@ref)"
   ]
  }
 ],
 "metadata": {},
 "nbformat": 4,
 "nbformat_minor": 5
}
