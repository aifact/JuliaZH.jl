{
 "cells": [
  {
   "cell_type": "markdown",
   "id": "c95f94f1",
   "metadata": {},
   "source": [
    "# 类型推导\n",
    "\n",
    "## 类型推导是如何工作的\n",
    "\n",
    "[类型推导](https://en.wikipedia.org/wiki/Type_inference)指的是由输入值的类型推导其他值得类型得过程。\n",
    "\n",
    "这两篇博客 ([1](https://juliacomputing.com/blog/2016/04/04/inference-convergence.html),\n",
    "[2](https://juliacomputing.com/blog/2017/05/15/inference-converage2.html)) 描述了 Julia 的类型推导实现。\n",
    "\n",
    "## 调试 compiler.jl\n",
    "\n",
    "You can start a Julia session, edit `compiler/*.jl` (for example to\n",
    "insert `print` statements), and then replace `Core.Compiler` in your\n",
    "running session by navigating to `base` and executing\n",
    "`include(\"compiler/compiler.jl\")`. This trick typically leads to much faster\n",
    "development than if you rebuild Julia for each change.\n",
    "\n",
    "Alternatively, you can use the [Revise.jl](https://github.com/timholy/Revise.jl)\n",
    "package to track the compiler changes by using the command\n",
    "`Revise.track(Core.Compiler)` at the beginning of your Julia session. As\n",
    "explained in the [Revise documentation](https://timholy.github.io/Revise.jl/stable/),\n",
    "the modifications to the compiler will be reflected when the modified files\n",
    "are saved.\n",
    "\n",
    "A convenient entry point into inference is `typeinf_code`. Here's a\n",
    "demo running inference on `convert(Int, UInt(1))`:"
   ]
  },
  {
   "cell_type": "code",
   "execution_count": null,
   "id": "16b136d6",
   "metadata": {
    "attributes": {
     "classes": [
      "julia"
     ],
     "id": ""
    }
   },
   "outputs": [],
   "source": [
    "# Get the method\n",
    "atypes = Tuple{Type{Int}, UInt}  # argument types\n",
    "mths = methods(convert, atypes)  # worth checking that there is only one\n",
    "m = first(mths)\n",
    "\n",
    "# Create variables needed to call `typeinf_code`\n",
    "params = Core.Compiler.Params(typemax(UInt))  # parameter is the world age,\n",
    "                                              # typemax(UInt) -> most recent\n",
    "sparams = Core.svec()      # this particular method doesn't have type-parameters\n",
    "optimize = true            # run all inference optimizations\n",
    "types = Tuple{typeof(convert), atypes.parameters...} # Tuple{typeof(convert), Type{Int}, UInt}\n",
    "Core.Compiler.typeinf_code(m, types, sparams, optimize, params)"
   ]
  },
  {
   "cell_type": "markdown",
   "id": "eb68f463",
   "metadata": {},
   "source": [
    "If your debugging adventures require a `MethodInstance`, you can look it up by\n",
    "calling `Core.Compiler.specialize_method` using many of the variables above.\n",
    "A `CodeInfo` object may be obtained with"
   ]
  },
  {
   "cell_type": "code",
   "execution_count": null,
   "id": "7002aed3",
   "metadata": {
    "attributes": {
     "classes": [
      "julia"
     ],
     "id": ""
    }
   },
   "outputs": [],
   "source": [
    "# Returns the CodeInfo object for `convert(Int, ::UInt)`:\n",
    "ci = (@code_typed convert(Int, UInt(1)))[1]"
   ]
  },
  {
   "cell_type": "markdown",
   "id": "2cdfb6a8",
   "metadata": {},
   "source": [
    "## The inlining algorithm (inline_worthy)\n",
    "\n",
    "Much of the hardest work for inlining runs in\n",
    "`inlining_pass`. However, if your question is \"why didn't my function\n",
    "inline?\" then you will most likely be interested in `isinlineable` and\n",
    "its primary callee, `inline_worthy`. `isinlineable` handles a number\n",
    "of special cases (e.g., critical functions like `next` and `done`,\n",
    "incorporating a bonus for functions that return tuples, etc.). The\n",
    "main decision-making happens in `inline_worthy`, which returns `true`\n",
    "if the function should be inlined.\n",
    "\n",
    "`inline_worthy` implements a cost-model, where \"cheap\" functions get\n",
    "inlined; more specifically, we inline functions if their anticipated\n",
    "run-time is not large compared to the time it would take to\n",
    "[issue a call](https://en.wikipedia.org/wiki/Calling_convention) to\n",
    "them if they were not inlined. The cost-model is extremely simple and\n",
    "ignores many important details: for example, all `for` loops are\n",
    "analyzed as if they will be executed once, and the cost of an\n",
    "`if...else...end` includes the summed cost of all branches. It's also\n",
    "worth acknowledging that we currently lack a suite of functions\n",
    "suitable for testing how well the cost model predicts the actual\n",
    "run-time cost, although\n",
    "[BaseBenchmarks](https://github.com/JuliaCI/BaseBenchmarks.jl)\n",
    "provides a great deal of indirect information about the successes and\n",
    "failures of any modification to the inlining algorithm.\n",
    "\n",
    "The foundation of the cost-model is a lookup table, implemented in\n",
    "`add_tfunc` and its callers, that assigns an estimated cost (measured\n",
    "in CPU cycles) to each of Julia's intrinsic functions. These costs are\n",
    "based on\n",
    "[standard ranges for common architectures](http://ithare.com/wp-content/uploads/part101_infographics_v08.png)\n",
    "(see\n",
    "[Agner Fog's analysis](https://www.agner.org/optimize/instruction_tables.pdf)\n",
    "for more detail).\n",
    "\n",
    "We supplement this low-level lookup table with a number of special\n",
    "cases. For example, an `:invoke` expression (a call for which all\n",
    "input and output types were inferred in advance) is assigned a fixed\n",
    "cost (currently 20 cycles). In contrast, a `:call` expression, for\n",
    "functions other than intrinsics/builtins, indicates that the call will\n",
    "require dynamic dispatch, in which case we assign a cost set by\n",
    "`Params.inline_nonleaf_penalty` (currently set at 1000). Note\n",
    "that this is not a \"first-principles\" estimate of the raw cost of\n",
    "dynamic dispatch, but a mere heuristic indicating that dynamic\n",
    "dispatch is extremely expensive.\n",
    "\n",
    "Each statement gets analyzed for its total cost in a function called\n",
    "`statement_cost`. You can run this yourself by following the sketch below,\n",
    "where `f` is your function and `tt` is the Tuple-type of the arguments:"
   ]
  },
  {
   "cell_type": "code",
   "execution_count": null,
   "id": "c0035910",
   "metadata": {
    "attributes": {
     "classes": [
      "jldoctest"
     ],
     "id": ""
    }
   },
   "outputs": [],
   "source": [
    "# A demo on `fill(3.5, (2, 3))`\n",
    "f = fill\n",
    "tt = Tuple{Float64, Tuple{Int,Int}}\n",
    "# Create the objects we need to interact with the compiler\n",
    "params = Core.Compiler.Params(typemax(UInt))\n",
    "mi = Base.method_instances(f, tt)[1]\n",
    "ci = code_typed(f, tt)[1][1]\n",
    "opt = Core.Compiler.OptimizationState(mi, params)\n",
    "# Calculate cost of each statement\n",
    "cost(stmt::Expr) = Core.Compiler.statement_cost(stmt, -1, ci, opt.sptypes, opt.slottypes, opt.params)\n",
    "cost(stmt) = 0\n",
    "cst = map(cost, ci.code)\n",
    "\n",
    "# output\n",
    "\n",
    "31-element Array{Int64,1}:\n",
    "  0\n",
    "  0\n",
    " 20\n",
    "  4\n",
    "  1\n",
    "  1\n",
    "  1\n",
    "  0\n",
    "  0\n",
    "  0\n",
    "  ⋮\n",
    "  0\n",
    "  0\n",
    "  0\n",
    "  0\n",
    "  0\n",
    "  0\n",
    "  0\n",
    "  0\n",
    "  0"
   ]
  },
  {
   "cell_type": "markdown",
   "id": "6144617d",
   "metadata": {},
   "source": [
    "The output is a `Vector{Int}` holding the estimated cost of each\n",
    "statement in `ci.code`.  Note that `ci` includes the consequences of\n",
    "inlining callees, and consequently the costs do too."
   ]
  }
 ],
 "metadata": {},
 "nbformat": 4,
 "nbformat_minor": 5
}
