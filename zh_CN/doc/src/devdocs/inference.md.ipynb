{
 "cells": [
  {
   "cell_type": "markdown",
   "id": "606e08da",
   "metadata": {},
   "source": [
    "# 类型推导\n",
    "\n",
    "## 类型推导是如何工作的\n",
    "\n",
    "[Type inference](https://en.wikipedia.org/wiki/Type_inference) refers\n",
    "to the process of deducing the types of later values from the types of\n",
    "input values. Julia's approach to inference has been described in blog\n",
    "posts\n",
    "([1](https://juliacomputing.com/blog/2016/04/inference-convergence/),\n",
    "[2](https://juliacomputing.com/blog/2017/05/inference-converage2/)).\n",
    "\n",
    "## 调试 compiler.jl\n",
    "\n",
    "You can start a Julia session, edit `compiler/*.jl` (for example to\n",
    "insert `print` statements), and then replace `Core.Compiler` in your\n",
    "running session by navigating to `base` and executing\n",
    "`include(\"compiler/compiler.jl\")`. This trick typically leads to much faster\n",
    "development than if you rebuild Julia for each change.\n",
    "\n",
    "Alternatively, you can use the [Revise.jl](https://github.com/timholy/Revise.jl)\n",
    "package to track the compiler changes by using the command\n",
    "`Revise.track(Core.Compiler)` at the beginning of your Julia session. As\n",
    "explained in the [Revise documentation](https://timholy.github.io/Revise.jl/stable/),\n",
    "the modifications to the compiler will be reflected when the modified files\n",
    "are saved.\n",
    "\n",
    "A convenient entry point into inference is `typeinf_code`. Here's a\n",
    "demo running inference on `convert(Int, UInt(1))`:"
   ]
  },
  {
   "cell_type": "code",
   "execution_count": null,
   "id": "a8780142",
   "metadata": {
    "attributes": {
     "classes": [
      "julia"
     ],
     "id": ""
    }
   },
   "outputs": [],
   "source": [
    "# Get the method\n",
    "atypes = Tuple{Type{Int}, UInt}  # argument types\n",
    "mths = methods(convert, atypes)  # worth checking that there is only one\n",
    "m = first(mths)\n",
    "\n",
    "# Create variables needed to call `typeinf_code`\n",
    "interp = Core.Compiler.NativeInterpreter()\n",
    "sparams = Core.svec()      # this particular method doesn't have type-parameters\n",
    "optimize = true            # run all inference optimizations\n",
    "types = Tuple{typeof(convert), atypes.parameters...} # Tuple{typeof(convert), Type{Int}, UInt}\n",
    "Core.Compiler.typeinf_code(interp, m, types, sparams, optimize)"
   ]
  },
  {
   "cell_type": "markdown",
   "id": "939082e5",
   "metadata": {},
   "source": [
    "If your debugging adventures require a `MethodInstance`, you can look it up by\n",
    "calling `Core.Compiler.specialize_method` using many of the variables above.\n",
    "A `CodeInfo` object may be obtained with"
   ]
  },
  {
   "cell_type": "code",
   "execution_count": null,
   "id": "a7cc1400",
   "metadata": {
    "attributes": {
     "classes": [
      "julia"
     ],
     "id": ""
    }
   },
   "outputs": [],
   "source": [
    "# Returns the CodeInfo object for `convert(Int, ::UInt)`:\n",
    "ci = (@code_typed convert(Int, UInt(1)))[1]"
   ]
  },
  {
   "cell_type": "markdown",
   "id": "2e93966c",
   "metadata": {},
   "source": [
    "## The inlining algorithm (inline_worthy)\n",
    "\n",
    "Much of the hardest work for inlining runs in\n",
    "`inlining_pass`. However, if your question is \"why didn't my function\n",
    "inline?\" then you will most likely be interested in `isinlineable` and\n",
    "its primary callee, `inline_worthy`. `isinlineable` handles a number\n",
    "of special cases (e.g., critical functions like `next` and `done`,\n",
    "incorporating a bonus for functions that return tuples, etc.). The\n",
    "main decision-making happens in `inline_worthy`, which returns `true`\n",
    "if the function should be inlined.\n",
    "\n",
    "`inline_worthy` implements a cost-model, where \"cheap\" functions get\n",
    "inlined; more specifically, we inline functions if their anticipated\n",
    "run-time is not large compared to the time it would take to\n",
    "[issue a call](https://en.wikipedia.org/wiki/Calling_convention) to\n",
    "them if they were not inlined. The cost-model is extremely simple and\n",
    "ignores many important details: for example, all `for` loops are\n",
    "analyzed as if they will be executed once, and the cost of an\n",
    "`if...else...end` includes the summed cost of all branches. It's also\n",
    "worth acknowledging that we currently lack a suite of functions\n",
    "suitable for testing how well the cost model predicts the actual\n",
    "run-time cost, although\n",
    "[BaseBenchmarks](https://github.com/JuliaCI/BaseBenchmarks.jl)\n",
    "provides a great deal of indirect information about the successes and\n",
    "failures of any modification to the inlining algorithm.\n",
    "\n",
    "The foundation of the cost-model is a lookup table, implemented in\n",
    "`add_tfunc` and its callers, that assigns an estimated cost (measured\n",
    "in CPU cycles) to each of Julia's intrinsic functions. These costs are\n",
    "based on\n",
    "[standard ranges for common architectures](http://ithare.com/wp-content/uploads/part101_infographics_v08.png)\n",
    "(see\n",
    "[Agner Fog's analysis](https://www.agner.org/optimize/instruction_tables.pdf)\n",
    "for more detail).\n",
    "\n",
    "We supplement this low-level lookup table with a number of special\n",
    "cases. For example, an `:invoke` expression (a call for which all\n",
    "input and output types were inferred in advance) is assigned a fixed\n",
    "cost (currently 20 cycles). In contrast, a `:call` expression, for\n",
    "functions other than intrinsics/builtins, indicates that the call will\n",
    "require dynamic dispatch, in which case we assign a cost set by\n",
    "`Params.inline_nonleaf_penalty` (currently set at 1000). Note\n",
    "that this is not a \"first-principles\" estimate of the raw cost of\n",
    "dynamic dispatch, but a mere heuristic indicating that dynamic\n",
    "dispatch is extremely expensive.\n",
    "\n",
    "Each statement gets analyzed for its total cost in a function called\n",
    "`statement_cost`. You can display the cost associated with each statement\n",
    "as follows:"
   ]
  },
  {
   "cell_type": "code",
   "execution_count": null,
   "id": "e1875481",
   "metadata": {
    "attributes": {
     "classes": [],
     "filter": "r\"tuple.jl:\\d+\"",
     "id": ""
    }
   },
   "outputs": [],
   "source": [
    "julia> Base.print_statement_costs(stdout, map, (typeof(sqrt), Tuple{Int},)) # map(sqrt, (2,))\n",
    "map(f, t::Tuple{Any}) in Base at tuple.jl:179\n",
    "  0 1 ─ %1  = Base.getfield(_3, 1, true)::Int64\n",
    "  1 │   %2  = Base.sitofp(Float64, %1)::Float64\n",
    "  2 │   %3  = Base.lt_float(%2, 0.0)::Bool\n",
    "  0 └──       goto #3 if not %3\n",
    "  0 2 ─       invoke Base.Math.throw_complex_domainerror(:sqrt::Symbol, %2::Float64)::Union{}\n",
    "  0 └──       unreachable\n",
    " 20 3 ─ %7  = Base.Math.sqrt_llvm(%2)::Float64\n",
    "  0 └──       goto #4\n",
    "  0 4 ─       goto #5\n",
    "  0 5 ─ %10 = Core.tuple(%7)::Tuple{Float64}\n",
    "  0 └──       return %10"
   ]
  },
  {
   "cell_type": "markdown",
   "id": "bf2d1179",
   "metadata": {},
   "source": [
    "The line costs are in the left column. This includes the consequences of inlining and other forms of optimization."
   ]
  }
 ],
 "metadata": {},
 "nbformat": 4,
 "nbformat_minor": 5
}
