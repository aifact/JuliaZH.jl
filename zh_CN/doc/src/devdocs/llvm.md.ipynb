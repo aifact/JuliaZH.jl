{
 "cells": [
  {
   "cell_type": "markdown",
   "id": "93bc662d",
   "metadata": {},
   "source": [
    "# Working with LLVM\n",
    "\n",
    "This is not a replacement for the LLVM documentation, but a collection of tips for working on\n",
    "LLVM for Julia.\n",
    "\n",
    "## Overview of Julia to LLVM Interface\n",
    "\n",
    "Julia dynamically links against LLVM by default. Build with `USE_LLVM_SHLIB=0` to link statically.\n",
    "\n",
    "The code for lowering Julia AST to LLVM IR or interpreting it directly is in directory `src/`.\n",
    "\n",
    "| File                | Description                                                |\n",
    "|:------------------- |:---------------------------------------------------------- |\n",
    "| `builtins.c`        | Builtin functions                                          |\n",
    "| `ccall.cpp`         | Lowering [`ccall`](@ref)                                   |\n",
    "| `cgutils.cpp`       | Lowering utilities, notably for array and tuple accesses   |\n",
    "| `codegen.cpp`       | Top-level of code generation, pass list, lowering builtins |\n",
    "| `debuginfo.cpp`     | Tracks debug information for JIT code                      |\n",
    "| `disasm.cpp`        | Handles native object file and JIT code diassembly         |\n",
    "| `gf.c`              | Generic functions                                          |\n",
    "| `intrinsics.cpp`    | Lowering intrinsics                                        |\n",
    "| `llvm-simdloop.cpp` | Custom LLVM pass for [`@simd`](@ref)                       |\n",
    "| `sys.c`             | I/O and operating system utility functions                 |\n",
    "\n",
    "Some of the `.cpp` files form a group that compile to a single object.\n",
    "\n",
    "The difference between an intrinsic and a builtin is that a builtin is a first class function\n",
    "that can be used like any other Julia function.  An intrinsic can operate only on unboxed data,\n",
    "and therefore its arguments must be statically typed.\n",
    "\n",
    "### Alias Analysis\n",
    "\n",
    "Julia currently uses LLVM's [Type Based Alias Analysis](http://llvm.org/docs/LangRef.html#tbaa-metadata).\n",
    "To find the comments that document the inclusion relationships, look for `static MDNode*` in\n",
    "`src/codegen.cpp`.\n",
    "\n",
    "The `-O` option enables LLVM's [Basic Alias Analysis](http://llvm.org/docs/AliasAnalysis.html#the-basicaa-pass).\n",
    "\n",
    "## Building Julia with a different version of LLVM\n",
    "\n",
    "The default version of LLVM is specified in `deps/Versions.make`. You can override it by creating\n",
    "a file called `Make.user` in the top-level directory and adding a line to it such as:"
   ]
  },
  {
   "cell_type": "code",
   "execution_count": null,
   "id": "1139c2f8",
   "metadata": {},
   "outputs": [],
   "source": [
    "LLVM_VER = 6.0.1"
   ]
  },
  {
   "cell_type": "markdown",
   "id": "95a2ff32",
   "metadata": {},
   "source": [
    "Besides the LLVM release numerals, you can also use `LLVM_VER = svn` to build against the latest\n",
    "development version of LLVM.\n",
    "\n",
    "You can also specify to build a debug version of LLVM, by setting either `LLVM_DEBUG = 1` or\n",
    "`LLVM_DEBUG = Release` in your `Make.user` file. The former will be a fully unoptimized build\n",
    "of LLVM and the latter will produce an optimized build of LLVM. Depending on your needs the\n",
    "latter will suffice and it quite a bit faster. If you use `LLVM_DEBUG = Release` you will also\n",
    "want to set `LLVM_ASSERTIONS = 1` to enable diagonstics for different passes. Only `LLVM_DEBUG = 1`\n",
    "implies that option by default.\n",
    "\n",
    "## Passing options to LLVM\n",
    "\n",
    "You can pass options to LLVM via the environment variable `JULIA_LLVM_ARGS`.\n",
    "Here are example settings using `bash` syntax:\n",
    "\n",
    "  * `export JULIA_LLVM_ARGS = -print-after-all` dumps IR after each pass.\n",
    "  * `export JULIA_LLVM_ARGS = -debug-only=loop-vectorize` dumps LLVM `DEBUG(...)` diagnostics for\n",
    "    loop vectorizer. If you get warnings about \"Unknown command line argument\", rebuild LLVM with\n",
    "    `LLVM_ASSERTIONS = 1`.\n",
    "\n",
    "## Debugging LLVM transformations in isolation\n",
    "\n",
    "On occasion, it can be useful to debug LLVM's transformations in isolation from\n",
    "the rest of the Julia system, e.g. because reproducing the issue inside `julia`\n",
    "would take too long, or because one wants to take advantage of LLVM's tooling\n",
    "(e.g. bugpoint). To get unoptimized IR for the entire system image, pass the\n",
    "`--output-unopt-bc unopt.bc` option to the system image build process, which will\n",
    "output the unoptimized IR to an `unopt.bc` file. This file can then be passed to\n",
    "LLVM tools as usual. `libjulia` can function as an LLVM pass plugin and can be\n",
    "loaded into LLVM tools, to make julia-specific passes available in this\n",
    "environment. In addition, it exposes the `-julia` meta-pass, which runs the\n",
    "entire Julia pass-pipeline over the IR. As an example, to generate a system\n",
    "image, one could do:"
   ]
  },
  {
   "cell_type": "code",
   "execution_count": null,
   "id": "3af6b1bf",
   "metadata": {},
   "outputs": [],
   "source": [
    "opt -load libjulia.so -julia -o opt.bc unopt.bc\n",
    "llc -o sys.o opt.bc\n",
    "cc -shared -o sys.so sys.o"
   ]
  },
  {
   "cell_type": "markdown",
   "id": "f829c14d",
   "metadata": {},
   "source": [
    "This system image can then be loaded by `julia` as usual.\n",
    "\n",
    "Alternatively, you can\n",
    "use `--output-jit-bc jit.bc` to obtain a trace of all IR passed to the JIT.\n",
    "This is useful for code that cannot be run as part of the sysimg generation\n",
    "process (e.g. because it creates unserializable state). However, the resulting\n",
    "`jit.bc` does not include sysimage data, and can thus not be used as such.\n",
    "\n",
    "It is also possible to dump an LLVM IR module for just one Julia function,\n",
    "using:"
   ]
  },
  {
   "cell_type": "code",
   "execution_count": null,
   "id": "277387bd",
   "metadata": {
    "attributes": {
     "classes": [
      "julia"
     ],
     "id": ""
    }
   },
   "outputs": [],
   "source": [
    "fun, T = +, Tuple{Int,Int} # Substitute your function of interest here\n",
    "optimize = false\n",
    "open(\"plus.ll\", \"w\") do file\n",
    "    println(file, InteractiveUtils._dump_function(fun, T, false, false, false, true, :att, optimize, :default))\n",
    "end"
   ]
  },
  {
   "cell_type": "markdown",
   "id": "e0723ab1",
   "metadata": {},
   "source": [
    "These files can be processed the same way as the unoptimized sysimg IR shown\n",
    "above.\n",
    "\n",
    "## Improving LLVM optimizations for Julia\n",
    "\n",
    "Improving LLVM code generation usually involves either changing Julia lowering to be more friendly\n",
    "to LLVM's passes, or improving a pass.\n",
    "\n",
    "If you are planning to improve a pass, be sure to read the [LLVM developer policy](http://llvm.org/docs/DeveloperPolicy.html).\n",
    "The best strategy is to create a code example in a form where you can use LLVM's `opt` tool to\n",
    "study it and the pass of interest in isolation.\n",
    "\n",
    "1. Create an example Julia code of interest.\n",
    "2. Use `JULIA_LLVM_ARGS = -print-after-all` to dump the IR.\n",
    "3. Pick out the IR at the point just before the pass of interest runs.\n",
    "4. Strip the debug metadata and fix up the TBAA metadata by hand.\n",
    "\n",
    "The last step is labor intensive.  Suggestions on a better way would be appreciated.\n",
    "\n",
    "## The jlcall calling convention\n",
    "\n",
    "Julia has a generic calling convention for unoptimized code, which looks somewhat\n",
    "as follows:"
   ]
  },
  {
   "cell_type": "code",
   "execution_count": null,
   "id": "1a6c706d",
   "metadata": {
    "attributes": {
     "classes": [
      "c"
     ],
     "id": ""
    }
   },
   "outputs": [],
   "source": [
    "jl_value_t *any_unoptimized_call(jl_value_t *, jl_value_t **, int);"
   ]
  },
  {
   "cell_type": "markdown",
   "id": "65a48e7c",
   "metadata": {},
   "source": [
    "where the first argument is the boxed function object, the second argument is\n",
    "an on-stack array of arguments and the third is the number of arguments. Now,\n",
    "we could perform a straightforward lowering and emit an alloca for the argument\n",
    "array. However, this would betray the SSA nature of the uses at the call site,\n",
    "making optimizations (including GC root placement), significantly harder.\n",
    "Instead, we emit it as follows:"
   ]
  },
  {
   "cell_type": "code",
   "execution_count": null,
   "id": "4a64973c",
   "metadata": {
    "attributes": {
     "classes": [
      "llvm"
     ],
     "id": ""
    }
   },
   "outputs": [],
   "source": [
    "%bitcast = bitcast @any_unoptimized_call to %jl_value_t *(*)(%jl_value_t *, %jl_value_t *)\n",
    "call cc 37 %jl_value_t *%bitcast(%jl_value_t *%arg1, %jl_value_t *%arg2)"
   ]
  },
  {
   "cell_type": "markdown",
   "id": "f2573f0d",
   "metadata": {},
   "source": [
    "The special `cc 37` annotation marks the fact that this call site is really using\n",
    "the jlcall calling convention. This allows us to retain the SSA-ness of the\n",
    "uses throughout the optimizer. GC root placement will later lower this call to\n",
    "the original C ABI. In the code the calling convention number is represented by\n",
    "the `JLCALL_F_CC` constant. In addition, there is the `JLCALL_CC` calling\n",
    "convention which functions similarly, but omits the first argument.\n",
    "\n",
    "## GC root placement\n",
    "\n",
    "GC root placement is done by an LLVM pass late in the pass pipeline. Doing GC root\n",
    "placement this late enables LLVM to make more aggressive optimizations around\n",
    "code that requires GC roots, as well as allowing us to reduce the number of\n",
    "required GC roots and GC root store operations (since LLVM doesn't understand\n",
    "our GC, it wouldn't otherwise know what it is and is not allowed to do with\n",
    "values stored to the GC frame, so it'll conservatively do very little). As an\n",
    "example, consider an error path"
   ]
  },
  {
   "cell_type": "code",
   "execution_count": null,
   "id": "d9dbaab5",
   "metadata": {
    "attributes": {
     "classes": [
      "julia"
     ],
     "id": ""
    }
   },
   "outputs": [],
   "source": [
    "if some_condition()\n",
    "    #= Use some variables maybe =#\n",
    "    error(\"An error occurred\")\n",
    "end"
   ]
  },
  {
   "cell_type": "markdown",
   "id": "6080cb2a",
   "metadata": {},
   "source": [
    "During constant folding, LLVM may discover that the condition is always false,\n",
    "and can remove the basic block. However, if GC root lowering is done early,\n",
    "the GC root slots used in the deleted block, as well as any values kept alive\n",
    "in those slots only because they were used in the error path, would be kept\n",
    "alive by LLVM. By doing GC root lowering late, we give LLVM the license to do\n",
    "any of its usual optimizations (constant folding, dead code elimination, etc.),\n",
    "without having to worry (too much) about which values may or may not be GC\n",
    "tracked.\n",
    "\n",
    "However, in order to be able to do late GC root placement, we need to be able to\n",
    "identify a) which pointers are GC tracked and b) all uses of such pointers. The\n",
    "goal of the GC placement pass is thus simple:\n",
    "\n",
    "Minimize the number of needed GC roots/stores to them subject to the constraint\n",
    "that at every safepoint, any live GC-tracked pointer (i.e. for which there is\n",
    "a path after this point that contains a use of this pointer) is in some GC slot.\n",
    "\n",
    "### Representation\n",
    "\n",
    "The primary difficulty is thus choosing an IR representation that allows us to\n",
    "identify GC-tracked pointers and their uses, even after the program has been\n",
    "run through the optimizer. Our design makes use of three LLVM features to achieve\n",
    "this:\n",
    "- Custom address spaces\n",
    "- Operand Bundles\n",
    "- Non-integral pointers\n",
    "\n",
    "Custom address spaces allow us to tag every point with an integer that needs\n",
    "to be preserved through optimizations. The compiler may not insert casts between\n",
    "address spaces that did not exist in the original program and it must never\n",
    "change the address space of a pointer on a load/store/etc operation. This allows\n",
    "us to annotate which pointers are GC-tracked in an optimizer-resistant way. Note\n",
    "that metadata would not be able to achieve the same purpose. Metadata is supposed\n",
    "to always be discardable without altering the semantics of the program. However,\n",
    "failing to identify a GC-tracked pointer alters the resulting program behavior\n",
    "dramatically - it'll probably crash or return wrong results. We currently use\n",
    "three different address spaces (their numbers are defined in `src/codegen_shared.cpp`):\n",
    "\n",
    "- GC Tracked Pointers (currently 10): These are pointers to boxed values that may be put\n",
    "  into a GC frame. It is loosely equivalent to a `jl_value_t*` pointer on the C\n",
    "  side. N.B. It is illegal to ever have a pointer in this address space that may\n",
    "  not be stored to a GC slot.\n",
    "- Derived Pointers (currently 11): These are pointers that are derived from some GC\n",
    "  tracked pointer. Uses of these pointers generate uses of the original pointer.\n",
    "  However, they need not themselves be known to the GC. The GC root placement\n",
    "  pass MUST always find the GC tracked pointer from which this pointer is\n",
    "  derived and use that as the pointer to root.\n",
    "- Callee Rooted Pointers (currently 12): This is a utility address space to express the\n",
    "  notion of a callee rooted value. All values of this address space MUST be\n",
    "  storable to a GC root (though it is possible to relax this condition in the\n",
    "  future), but unlike the other pointers need not be rooted if passed to a\n",
    "  call (they do still need to be rooted if they are live across another safepoint\n",
    "  between the definition and the call).\n",
    "- Pointers loaded from tracked object (currently 13): This is used by arrays,\n",
    "  which themselves contain a pointer to the managed data. This data area is owned\n",
    "  by the array, but is not a GC-tracked object by itself. The compiler guarantees\n",
    "  that as long as this pointer is live, the object that this pointer was loaded\n",
    "  from will keep being live.\n",
    "\n",
    "### Invariants\n",
    "\n",
    "The GC root placement pass makes use of several invariants, which need\n",
    "to be observed by the frontend and are preserved by the optimizer.\n",
    "\n",
    "First, only the following address space casts are allowed:\n",
    "- 0->{Tracked,Derived,CalleeRooted}: It is allowable to decay an untracked pointer to any of the\n",
    "  others. However, do note that the optimizer has broad license to not root\n",
    "  such a value. It is never safe to have a value in address space 0 in any part\n",
    "  of the program if it is (or is derived from) a value that requires a GC root.\n",
    "- Tracked->Derived: This is the standard decay route for interior values. The placement\n",
    "  pass will look for these to identify the base pointer for any use.\n",
    "- Tracked->CalleeRooted: Addrspace CalleeRooted serves merely as a hint that a GC root is not\n",
    "  required. However, do note that the Derived->CalleeRooted decay is prohibited, since\n",
    "  pointers should generally be storable to a GC slot, even in this address space.\n",
    "\n",
    "Now let us consider what constitutes a use:\n",
    "- Loads whose loaded values is in one of the address spaces\n",
    "- Stores of a value in one of the address spaces to a location\n",
    "- Stores to a pointer in one of the address spaces\n",
    "- Calls for which a value in one of the address spaces is an operand\n",
    "- Calls in jlcall ABI, for which the argument array contains a value\n",
    "- Return instructions.\n",
    "\n",
    "We explicitly allow load/stores and simple calls in address spaces Tracked/Derived. Elements of jlcall\n",
    "argument arrays must always be in address space Tracked (it is required by the ABI that\n",
    "they are valid `jl_value_t*` pointers). The same is true for return instructions\n",
    "(though note that struct return arguments are allowed to have any of the address\n",
    "spaces). The only allowable use of an address space CalleeRooted pointer is to pass it to\n",
    "a call (which must have an appropriately typed operand).\n",
    "\n",
    "Further, we disallow `getelementptr` in addrspace Tracked. This is because unless\n",
    "the operation is a noop, the resulting pointer will not be validly storable\n",
    "to a GC slot and may thus not be in this address space. If such a pointer\n",
    "is required, it should be decayed to addrspace Derived first.\n",
    "\n",
    "Lastly, we disallow `inttoptr`/`ptrtoint` instructions in these address spaces.\n",
    "Having these instructions would mean that some `i64` values are really GC tracked.\n",
    "This is problematic, because it breaks that stated requirement that we're able\n",
    "to identify GC-relevant pointers. This invariant is accomplished using the LLVM\n",
    "\"non-integral pointers\" feature, which is new in LLVM 5.0. It prohibits the\n",
    "optimizer from making optimizations that would introduce these operations. Note\n",
    "we can still insert static constants at JIT time by using `inttoptr` in address\n",
    "space 0 and then decaying to the appropriate address space afterwards.\n",
    "\n",
    "### Supporting [`ccall`](@ref)\n",
    "\n",
    "One important aspect missing from the discussion so far is the handling of\n",
    "[`ccall`](@ref). [`ccall`](@ref) has the peculiar feature that the location and\n",
    "scope of a use do not coincide. As an example consider:"
   ]
  },
  {
   "cell_type": "code",
   "execution_count": null,
   "id": "2bf5aa2e",
   "metadata": {
    "attributes": {
     "classes": [
      "julia"
     ],
     "id": ""
    }
   },
   "outputs": [],
   "source": [
    "A = randn(1024)\n",
    "ccall(:foo, Cvoid, (Ptr{Float64},), A)"
   ]
  },
  {
   "cell_type": "markdown",
   "id": "689883a6",
   "metadata": {},
   "source": [
    "In lowering, the compiler will insert a conversion from the array to the\n",
    "pointer which drops the reference to the array value. However, we of course\n",
    "need to make sure that the array does stay alive while we're doing the\n",
    "[`ccall`](@ref). To understand how this is done, first recall the lowering of the\n",
    "above code:"
   ]
  },
  {
   "cell_type": "code",
   "execution_count": null,
   "id": "e346d3e8",
   "metadata": {
    "attributes": {
     "classes": [
      "julia"
     ],
     "id": ""
    }
   },
   "outputs": [],
   "source": [
    "return $(Expr(:foreigncall, :(:foo), Cvoid, svec(Ptr{Float64}), 0, :(:ccall), Expr(:foreigncall, :(:jl_array_ptr), Ptr{Float64}, svec(Any), 0, :(:ccall), :(A)), :(A)))"
   ]
  },
  {
   "cell_type": "markdown",
   "id": "9209bdc8",
   "metadata": {},
   "source": [
    "The last `:(A)`, is an extra argument list inserted during lowering that informs\n",
    "the code generator which Julia level values need to be kept alive for the\n",
    "duration of this [`ccall`](@ref). We then take this information and represent\n",
    "it in an \"operand bundle\" at the IR level. An operand bundle is essentially a fake\n",
    "use that is attached to the call site. At the IR level, this looks like so:"
   ]
  },
  {
   "cell_type": "code",
   "execution_count": null,
   "id": "6b30f48c",
   "metadata": {
    "attributes": {
     "classes": [
      "llvm"
     ],
     "id": ""
    }
   },
   "outputs": [],
   "source": [
    "call void inttoptr (i64 ... to void (double*)*)(double* %5) [ \"jl_roots\"(%jl_value_t addrspace(10)* %A) ]"
   ]
  },
  {
   "cell_type": "markdown",
   "id": "3ec6f5cf",
   "metadata": {},
   "source": [
    "The GC root placement pass will treat the `jl_roots` operand bundle as if it were\n",
    "a regular operand. However, as a final step, after the GC roots are inserted,\n",
    "it will drop the operand bundle to avoid confusing instruction selection.\n",
    "\n",
    "### Supporting [`pointer_from_objref`](@ref)\n",
    "\n",
    "[`pointer_from_objref`](@ref) is special because it requires the user to take\n",
    "explicit control of GC rooting. By our above invariants, this function is illegal,\n",
    "because it performs an address space cast from 10 to 0. However, it can be useful,\n",
    "in certain situations, so we provide a special intrinsic:"
   ]
  },
  {
   "cell_type": "code",
   "execution_count": null,
   "id": "79f990fc",
   "metadata": {
    "attributes": {
     "classes": [
      "llvm"
     ],
     "id": ""
    }
   },
   "outputs": [],
   "source": [
    "declared %jl_value_t *julia.pointer_from_objref(%jl_value_t addrspace(10)*)"
   ]
  },
  {
   "cell_type": "markdown",
   "id": "2fa9b880",
   "metadata": {},
   "source": [
    "which is lowered to the corresponding address space cast after GC root lowering.\n",
    "Do note however that by using this intrinsic, the caller assumes all responsibility\n",
    "for making sure that the value in question is rooted. Further this intrinsic is\n",
    "not considered a use, so the GC root placement pass will not provide a GC root\n",
    "for the function. As a result, the external rooting must be arranged while the\n",
    "value is still tracked by the system. I.e. it is not valid to attempt to use the\n",
    "result of this operation to establish a global root - the optimizer may have\n",
    "already dropped the value.\n",
    "\n",
    "### Keeping values alive in the absence of uses\n",
    "\n",
    "In certain cases it is necessary to keep an object alive, even though there is\n",
    "no compiler-visible use of said object. This may be case for low level code\n",
    "that operates on the memory-representation of an object directly or code that\n",
    "needs to interface with C code. In order to allow this, we provide the following\n",
    "intrinsics at the LLVM level:"
   ]
  },
  {
   "cell_type": "code",
   "execution_count": null,
   "id": "1465ff17",
   "metadata": {},
   "outputs": [],
   "source": [
    "token @llvm.julia.gc_preserve_begin(...)\n",
    "void @llvm.julia.gc_preserve_end(token)"
   ]
  },
  {
   "cell_type": "markdown",
   "id": "68452f04",
   "metadata": {},
   "source": [
    "(The `llvm.` in the name is required in order to be able to use the `token`\n",
    "type). The semantics of these intrinsics are as follows:\n",
    "At any safepoint that is dominated by a `gc_preserve_begin` call, but that is not\n",
    "not dominated by a corresponding `gc_preserve_end` call (i.e. a call whose argument\n",
    "is the token returned by a `gc_preserve_begin` call), the values passed as\n",
    "arguments to that `gc_preserve_begin` will be kept live. Note that the\n",
    "`gc_preserve_begin` still counts as a regular use of those values, so the\n",
    "standard lifetime semantics will ensure that the values will be kept alive\n",
    "before entering the preserve region."
   ]
  }
 ],
 "metadata": {},
 "nbformat": 4,
 "nbformat_minor": 5
}
