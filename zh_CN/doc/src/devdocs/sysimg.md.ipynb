{
 "cells": [
  {
   "cell_type": "markdown",
   "id": "5ad031c3",
   "metadata": {},
   "source": [
    "# System Image Building\n",
    "\n",
    "## Building the Julia system image\n",
    "\n",
    "Julia ships with a preparsed system image containing the contents of the `Base` module, named\n",
    "`sys.ji`.  This file is also precompiled into a shared library called `sys.{so,dll,dylib}` on\n",
    "as many platforms as possible, so as to give vastly improved startup times.  On systems that do\n",
    "not ship with a precompiled system image file, one can be generated from the source files shipped\n",
    "in Julia's `DATAROOTDIR/julia/base` folder.\n",
    "\n",
    "This operation is useful for multiple reasons.  A user may:\n",
    "\n",
    "  * Build a precompiled shared library system image on a platform that did not ship with one, thereby\n",
    "    improving startup times.\n",
    "  * Modify `Base`, rebuild the system image and use the new `Base` next time Julia is started.\n",
    "  * Include a `userimg.jl` file that includes packages into the system image, thereby creating a system\n",
    "    image that has packages embedded into the startup environment.\n",
    "\n",
    "The [`PackageCompiler.jl` package](https://github.com/JuliaLang/PackageCompiler.jl) contains convenient\n",
    "wrapper functions to automate this process.\n",
    "\n",
    "## System image optimized for multiple microarchitectures\n",
    "\n",
    "The system image can be compiled simultaneously for multiple CPU microarchitectures\n",
    "under the same instruction set architecture (ISA). Multiple versions of the same function\n",
    "may be created with minimum dispatch point inserted into shared functions\n",
    "in order to take advantage of different ISA extensions or other microarchitecture features.\n",
    "The version that offers the best performance will be selected automatically at runtime\n",
    "based on available CPU features.\n",
    "\n",
    "### Specifying multiple system image targets\n",
    "\n",
    "A multi-microarchitecture system image can be enabled by passing multiple targets\n",
    "during system image compilation. This can be done either with the `JULIA_CPU_TARGET` make option\n",
    "or with the `-C` command line option when running the compilation command manually.\n",
    "Multiple targets are separated by `;` in the option string.\n",
    "The syntax for each target is a CPU name followed by multiple features separated by `,`.\n",
    "All features supported by LLVM are supported and a feature can be disabled with a `-` prefix.\n",
    "(`+` prefix is also allowed and ignored to be consistent with LLVM syntax).\n",
    "Additionally, a few special features are supported to control the function cloning behavior.\n",
    "\n",
    "1. `clone_all`"
   ]
  },
  {
   "cell_type": "code",
   "execution_count": null,
   "id": "02ed5f10",
   "metadata": {},
   "outputs": [],
   "source": [
    "By default, only functions that are the most likely to benefit from\n",
    "the microarchitecture features will be cloned.\n",
    "When `clone_all` is specified for a target, however,\n",
    "**all** functions in the system image will be cloned for the target.\n",
    "The negative form `-clone_all` can be used to prevent the built-in\n",
    "heuristic from cloning all functions."
   ]
  },
  {
   "cell_type": "markdown",
   "id": "c65e3571",
   "metadata": {},
   "source": [
    "2. `base(<n>)`"
   ]
  },
  {
   "cell_type": "code",
   "execution_count": null,
   "id": "8000e33a",
   "metadata": {},
   "outputs": [],
   "source": [
    "Where `<n>` is a placeholder for a non-negative number (e.g. `base(0)`, `base(1)`).\n",
    "By default, a partially cloned (i.e. not `clone_all`) target will use functions\n",
    "from the default target (first one specified) if a function is not cloned.\n",
    "This behavior can be changed by specifying a different base with the `base(<n>)` option.\n",
    "The `n`th target (0-based) will be used as the base target instead of the default (`0`th) one.\n",
    "The base target has to be either `0` or another `clone_all` target.\n",
    "Specifying a non-`clone_all` target as the base target will cause an error."
   ]
  },
  {
   "cell_type": "markdown",
   "id": "9da3c532",
   "metadata": {},
   "source": [
    "3. `opt_size`"
   ]
  },
  {
   "cell_type": "code",
   "execution_count": null,
   "id": "4c8e9321",
   "metadata": {},
   "outputs": [],
   "source": [
    "This causes the function for the target to be optimized for size when there isn't a significant\n",
    "runtime performance impact. This corresponds to `-Os` GCC and Clang option."
   ]
  },
  {
   "cell_type": "markdown",
   "id": "5fbd4e4e",
   "metadata": {},
   "source": [
    "4. `min_size`"
   ]
  },
  {
   "cell_type": "code",
   "execution_count": null,
   "id": "2e907065",
   "metadata": {},
   "outputs": [],
   "source": [
    "This causes the function for the target to be optimized for size that might have\n",
    "a significant runtime performance impact. This corresponds to `-Oz` Clang option."
   ]
  },
  {
   "cell_type": "markdown",
   "id": "75da9720",
   "metadata": {},
   "source": [
    "As an example, at the time of this writing, the following string is used in the creation of\n",
    "the official `x86_64` Julia binaries downloadable from julialang.org:"
   ]
  },
  {
   "cell_type": "code",
   "execution_count": null,
   "id": "b5f9ad7e",
   "metadata": {},
   "outputs": [],
   "source": [
    "generic;sandybridge,-xsaveopt,clone_all;haswell,-rdrnd,base(1)"
   ]
  },
  {
   "cell_type": "markdown",
   "id": "221851bc",
   "metadata": {},
   "source": [
    "This creates a system image with three separate targets; one for a generic `x86_64`\n",
    "processor, one with a `sandybridge` ISA (explicitly excluding `xsaveopt`) that explicitly\n",
    "clones all functions, and one targeting the `haswell` ISA, based off of the `sandybridge`\n",
    "sysimg version, and also excluding `rdrnd`.  When a Julia implementation loads the\n",
    "generated sysimg, it will check the host processor for matching CPU capability flags,\n",
    "enabling the highest ISA level possible.  Note that the base level (`generic`) requires\n",
    "the `cx16` instruction, which is disabled in some virtualization software and must be\n",
    "enabled for the `generic` target to be loaded.  Alternatively, a sysimg could be generated\n",
    "with the target `generic,-cx16` for greater compatibility, however note that this may cause\n",
    "performance and stability problems in some code.\n",
    "\n",
    "### Implementation overview\n",
    "\n",
    "This is a brief overview of different part involved in the implementation.\n",
    "See code comments for each components for more implementation details.\n",
    "\n",
    "1. System image compilation"
   ]
  },
  {
   "cell_type": "code",
   "execution_count": null,
   "id": "83c0ed4b",
   "metadata": {},
   "outputs": [],
   "source": [
    "The parsing and cloning decision are done in `src/processor*`.\n",
    "We currently support cloning of function based on the present of loops, simd instructions,\n",
    "or other math operations (e.g. fastmath, fma, muladd).\n",
    "This information is passed on to `src/llvm-multiversioning.cpp` which does the actual cloning.\n",
    "In addition to doing the cloning and insert dispatch slots\n",
    "(see comments in `MultiVersioning::runOnModule` for how this is done),\n",
    "the pass also generates metadata so that the runtime can load and initialize the\n",
    "system image correctly.\n",
    "A detail description of the metadata is available in `src/processor.h`."
   ]
  },
  {
   "cell_type": "markdown",
   "id": "2c276703",
   "metadata": {},
   "source": [
    "2. System image loading"
   ]
  },
  {
   "cell_type": "code",
   "execution_count": null,
   "id": "9ad304c6",
   "metadata": {},
   "outputs": [],
   "source": [
    "The loading and initialization of the system image is done in `src/processor*` by\n",
    "parsing the metadata saved during system image generation.\n",
    "Host feature detection and selection decision are done in `src/processor_*.cpp`\n",
    "depending on the ISA. The target selection will prefer exact CPU name match,\n",
    "larger vector register size, and larger number of features.\n",
    "An overview of this process is in `src/processor.cpp`."
   ]
  }
 ],
 "metadata": {},
 "nbformat": 4,
 "nbformat_minor": 5
}
