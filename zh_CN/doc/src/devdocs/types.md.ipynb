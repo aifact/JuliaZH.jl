{
 "cells": [
  {
   "cell_type": "markdown",
   "id": "5c297fd4",
   "metadata": {},
   "source": [
    "# More about types\n",
    "\n",
    "If you've used Julia for a while, you understand the fundamental role that types play.  Here we\n",
    "try to get under the hood, focusing particularly on [Parametric Types](@ref).\n",
    "\n",
    "## Types and sets (and `Any` and `Union{}`/`Bottom`)\n",
    "\n",
    "It's perhaps easiest to conceive of Julia's type system in terms of sets. While programs manipulate\n",
    "individual values, a type refers to a set of values. This is not the same thing as a collection;\n",
    "for example a [`Set`](@ref) of values is itself a single `Set` value.\n",
    "Rather, a type describes a set of *possible* values, expressing uncertainty about which value we\n",
    "have.\n",
    "\n",
    "A *concrete* type `T` describes the set of values whose direct tag, as returned by the [`typeof`](@ref)\n",
    "function, is `T`. An *abstract* type describes some possibly-larger set of values.\n",
    "\n",
    "[`Any`](@ref) describes the entire universe of possible values. [`Integer`](@ref) is a subset of\n",
    "`Any` that includes `Int`, [`Int8`](@ref), and other concrete types.\n",
    "Internally, Julia also makes heavy use of another type known as `Bottom`, which can also be written\n",
    "as `Union{}`. This corresponds to the empty set.\n",
    "\n",
    "Julia's types support the standard operations of set theory: you can ask whether `T1` is a \"subset\"\n",
    "(subtype) of `T2` with `T1 <: T2`. Likewise, you intersect two types using [`typeintersect`](@ref), take\n",
    "their union with [`Union`](@ref), and compute a type that contains their union with [`typejoin`](@ref):"
   ]
  },
  {
   "cell_type": "code",
   "execution_count": null,
   "id": "76b0d2ad",
   "metadata": {
    "attributes": {
     "classes": [
      "jldoctest"
     ],
     "id": ""
    }
   },
   "outputs": [],
   "source": [
    "julia> typeintersect(Int, Float64)\n",
    "Union{}\n",
    "\n",
    "julia> Union{Int, Float64}\n",
    "Union{Float64, Int64}\n",
    "\n",
    "julia> typejoin(Int, Float64)\n",
    "Real\n",
    "\n",
    "julia> typeintersect(Signed, Union{UInt8, Int8})\n",
    "Int8\n",
    "\n",
    "julia> Union{Signed, Union{UInt8, Int8}}\n",
    "Union{UInt8, Signed}\n",
    "\n",
    "julia> typejoin(Signed, Union{UInt8, Int8})\n",
    "Integer\n",
    "\n",
    "julia> typeintersect(Tuple{Integer,Float64}, Tuple{Int,Real})\n",
    "Tuple{Int64,Float64}\n",
    "\n",
    "julia> Union{Tuple{Integer,Float64}, Tuple{Int,Real}}\n",
    "Union{Tuple{Int64,Real}, Tuple{Integer,Float64}}\n",
    "\n",
    "julia> typejoin(Tuple{Integer,Float64}, Tuple{Int,Real})\n",
    "Tuple{Integer,Real}"
   ]
  },
  {
   "cell_type": "markdown",
   "id": "ff8e8b04",
   "metadata": {},
   "source": [
    "While these operations may seem abstract, they lie at the heart of Julia.  For example, method\n",
    "dispatch is implemented by stepping through the items in a method list until reaching one for which\n",
    "the type of the argument tuple is a subtype of the method signature.\n",
    "For this algorithm to work, it's important that methods be sorted by their specificity, and that the\n",
    "search begins with the most specific methods. Consequently, Julia also implements a partial order on\n",
    "types; this is achieved by functionality that is similar to `<:`, but with differences that will\n",
    "be discussed below.\n",
    "\n",
    "## UnionAll types\n",
    "\n",
    "Julia's type system can also express an *iterated union* of types: a union of types over all values\n",
    "of some variable. This is needed to describe parametric types where the values of some parameters\n",
    "are not known.\n",
    "\n",
    "For example, [`Array`](@ref) has two parameters as in `Array{Int,2}`. If we did not know the element\n",
    "type, we could write `Array{T,2} where T`, which is the union of `Array{T,2}` for all values of\n",
    "`T`: `Union{Array{Int8,2}, Array{Int16,2}, ...}`.\n",
    "\n",
    "Such a type is represented by a `UnionAll` object, which contains a variable (`T` in this example,\n",
    "of type `TypeVar`), and a wrapped type (`Array{T,2}` in this example).\n",
    "\n",
    "Consider the following methods:"
   ]
  },
  {
   "cell_type": "code",
   "execution_count": null,
   "id": "939bc8d8",
   "metadata": {
    "attributes": {
     "classes": [
      "julia"
     ],
     "id": ""
    }
   },
   "outputs": [],
   "source": [
    "f1(A::Array) = 1\n",
    "f2(A::Array{Int}) = 2\n",
    "f3(A::Array{T}) where {T<:Any} = 3\n",
    "f4(A::Array{Any}) = 4"
   ]
  },
  {
   "cell_type": "markdown",
   "id": "ceba0cbb",
   "metadata": {},
   "source": [
    "The signature - as described in [Function calls](@ref) - of `f3` is a `UnionAll` type wrapping a tuple type: `Tuple{typeof(f3), Array{T}} where T`.\n",
    "All but `f4` can be called with `a = [1,2]`; all but `f2` can be called with `b = Any[1,2]`.\n",
    "\n",
    "Let's look at these types a little more closely:"
   ]
  },
  {
   "cell_type": "code",
   "execution_count": null,
   "id": "34584df4",
   "metadata": {
    "attributes": {
     "classes": [
      "jldoctest"
     ],
     "id": ""
    }
   },
   "outputs": [],
   "source": [
    "julia> dump(Array)\n",
    "UnionAll\n",
    "  var: TypeVar\n",
    "    name: Symbol T\n",
    "    lb: Union{}\n",
    "    ub: Any\n",
    "  body: UnionAll\n",
    "    var: TypeVar\n",
    "      name: Symbol N\n",
    "      lb: Union{}\n",
    "      ub: Any\n",
    "    body: Array{T,N} <: DenseArray{T,N}"
   ]
  },
  {
   "cell_type": "markdown",
   "id": "ca332cf8",
   "metadata": {},
   "source": [
    "This indicates that `Array` actually names a `UnionAll` type. There is one `UnionAll` type for\n",
    "each parameter, nested. The syntax `Array{Int,2}` is equivalent to `Array{Int}{2}`;\n",
    "internally each `UnionAll` is instantiated with a particular variable value, one at a time,\n",
    "outermost-first. This gives a natural meaning to the omission of trailing type parameters;\n",
    "`Array{Int}` gives a type equivalent to `Array{Int,N} where N`.\n",
    "\n",
    "A `TypeVar` is not itself a type, but rather should be considered part of the structure of a\n",
    "`UnionAll` type. Type variables have lower and upper bounds on their values (in the fields\n",
    "`lb` and `ub`). The symbol `name` is purely cosmetic. Internally, `TypeVar`s are compared by\n",
    "address, so they are defined as mutable types to ensure that \"different\" type variables can be\n",
    "distinguished. However, by convention they should not be mutated.\n",
    "\n",
    "One can construct `TypeVar`s manually:"
   ]
  },
  {
   "cell_type": "code",
   "execution_count": null,
   "id": "2af3647e",
   "metadata": {
    "attributes": {
     "classes": [
      "jldoctest"
     ],
     "id": ""
    }
   },
   "outputs": [],
   "source": [
    "julia> TypeVar(:V, Signed, Real)\n",
    "Signed<:V<:Real"
   ]
  },
  {
   "cell_type": "markdown",
   "id": "9333fc5f",
   "metadata": {},
   "source": [
    "There are convenience versions that allow you to omit any of these arguments except the `name`\n",
    "symbol.\n",
    "\n",
    "The syntax `Array{T} where T<:Integer` is lowered to"
   ]
  },
  {
   "cell_type": "code",
   "execution_count": null,
   "id": "8b6d8333",
   "metadata": {
    "attributes": {
     "classes": [
      "julia"
     ],
     "id": ""
    }
   },
   "outputs": [],
   "source": [
    "let T = TypeVar(:T,Integer)\n",
    "    UnionAll(T, Array{T})\n",
    "end"
   ]
  },
  {
   "cell_type": "markdown",
   "id": "1c6c295d",
   "metadata": {},
   "source": [
    "so it is seldom necessary to construct a `TypeVar` manually (indeed, this is to be avoided).\n",
    "\n",
    "## Free variables\n",
    "\n",
    "The concept of a *free* type variable is extremely important in the type system. We say that a\n",
    "variable `V` is free in type `T` if `T` does not contain the `UnionAll` that introduces variable\n",
    "`V`. For example, the type `Array{Array{V} where V<:Integer}` has no free variables, but the\n",
    "`Array{V}` part inside of it does have a free variable, `V`.\n",
    "\n",
    "A type with free variables is, in some sense, not really a type at all. Consider the type\n",
    "`Array{Array{T}} where T`, which refers to all homogeneous arrays of arrays.\n",
    "The inner type `Array{T}`, seen by itself, might seem to refer to any kind of array.\n",
    "However, every element of the outer array must have the *same* array type, so `Array{T}` cannot\n",
    "refer to just any old array. One could say that `Array{T}` effectively \"occurs\" multiple times,\n",
    "and `T` must have the same value each \"time\".\n",
    "\n",
    "For this reason, the function `jl_has_free_typevars` in the C API is very important. Types for\n",
    "which it returns true will not give meaningful answers in subtyping and other type functions.\n",
    "\n",
    "## TypeNames\n",
    "\n",
    "The following two [`Array`](@ref) types are functionally equivalent, yet print differently:"
   ]
  },
  {
   "cell_type": "code",
   "execution_count": null,
   "id": "fa05d8c2",
   "metadata": {
    "attributes": {
     "classes": [
      "jldoctest"
     ],
     "id": ""
    }
   },
   "outputs": [],
   "source": [
    "julia> TV, NV = TypeVar(:T), TypeVar(:N)\n",
    "(T, N)\n",
    "\n",
    "julia> Array\n",
    "Array\n",
    "\n",
    "julia> Array{TV,NV}\n",
    "Array{T,N}"
   ]
  },
  {
   "cell_type": "markdown",
   "id": "37a318bb",
   "metadata": {},
   "source": [
    "These can be distinguished by examining the `name` field of the type, which is an object of type\n",
    "`TypeName`:"
   ]
  },
  {
   "cell_type": "code",
   "execution_count": null,
   "id": "41147de2",
   "metadata": {
    "attributes": {
     "classes": [
      "julia-repl"
     ],
     "id": ""
    }
   },
   "outputs": [],
   "source": [
    "julia> dump(Array{Int,1}.name)\n",
    "TypeName\n",
    "  name: Symbol Array\n",
    "  module: Module Core\n",
    "  names: empty SimpleVector\n",
    "  wrapper: UnionAll\n",
    "    var: TypeVar\n",
    "      name: Symbol T\n",
    "      lb: Union{}\n",
    "      ub: Any\n",
    "    body: UnionAll\n",
    "      var: TypeVar\n",
    "        name: Symbol N\n",
    "        lb: Union{}\n",
    "        ub: Any\n",
    "      body: Array{T,N} <: DenseArray{T,N}\n",
    "  cache: SimpleVector\n",
    "    ...\n",
    "\n",
    "  linearcache: SimpleVector\n",
    "    ...\n",
    "\n",
    "  hash: Int64 -7900426068641098781\n",
    "  mt: MethodTable\n",
    "    name: Symbol Array\n",
    "    defs: Nothing nothing\n",
    "    cache: Nothing nothing\n",
    "    max_args: Int64 0\n",
    "    kwsorter: #undef\n",
    "    module: Module Core\n",
    "    : Int64 0\n",
    "    : Int64 0"
   ]
  },
  {
   "cell_type": "markdown",
   "id": "466fef36",
   "metadata": {},
   "source": [
    "In this case, the relevant field is `wrapper`, which holds a reference to the top-level type used\n",
    "to make new `Array` types."
   ]
  },
  {
   "cell_type": "code",
   "execution_count": null,
   "id": "dfb087e5",
   "metadata": {
    "attributes": {
     "classes": [
      "julia-repl"
     ],
     "id": ""
    }
   },
   "outputs": [],
   "source": [
    "julia> pointer_from_objref(Array)\n",
    "Ptr{Cvoid} @0x00007fcc7de64850\n",
    "\n",
    "julia> pointer_from_objref(Array.body.body.name.wrapper)\n",
    "Ptr{Cvoid} @0x00007fcc7de64850\n",
    "\n",
    "julia> pointer_from_objref(Array{TV,NV})\n",
    "Ptr{Cvoid} @0x00007fcc80c4d930\n",
    "\n",
    "julia> pointer_from_objref(Array{TV,NV}.name.wrapper)\n",
    "Ptr{Cvoid} @0x00007fcc7de64850"
   ]
  },
  {
   "cell_type": "markdown",
   "id": "a8bb448b",
   "metadata": {},
   "source": [
    "The `wrapper` field of [`Array`](@ref) points to itself, but for `Array{TV,NV}` it points back\n",
    "to the original definition of the type.\n",
    "\n",
    "What about the other fields? `hash` assigns an integer to each type.  To examine the `cache`\n",
    "field, it's helpful to pick a type that is less heavily used than Array. Let's first create our\n",
    "own type:"
   ]
  },
  {
   "cell_type": "code",
   "execution_count": null,
   "id": "f3f5d6b9",
   "metadata": {
    "attributes": {
     "classes": [
      "jldoctest"
     ],
     "id": ""
    }
   },
   "outputs": [],
   "source": [
    "julia> struct MyType{T,N} end\n",
    "\n",
    "julia> MyType{Int,2}\n",
    "MyType{Int64,2}\n",
    "\n",
    "julia> MyType{Float32, 5}\n",
    "MyType{Float32,5}"
   ]
  },
  {
   "cell_type": "markdown",
   "id": "eb3db014",
   "metadata": {},
   "source": [
    "When you instantiate a parametric type, each concrete type gets saved in a type\n",
    "cache (`MyType.body.body.name.cache`). However, instances containing free type\n",
    "variables are not cached.\n",
    "\n",
    "## Tuple types\n",
    "\n",
    "Tuple types constitute an interesting special case.  For dispatch to work on declarations like\n",
    "`x::Tuple`, the type has to be able to accommodate any tuple.  Let's check the parameters:"
   ]
  },
  {
   "cell_type": "code",
   "execution_count": null,
   "id": "a954c169",
   "metadata": {
    "attributes": {
     "classes": [
      "jldoctest"
     ],
     "id": ""
    }
   },
   "outputs": [],
   "source": [
    "julia> Tuple\n",
    "Tuple\n",
    "\n",
    "julia> Tuple.parameters\n",
    "svec(Vararg{Any,N} where N)"
   ]
  },
  {
   "cell_type": "markdown",
   "id": "d626df43",
   "metadata": {},
   "source": [
    "Unlike other types, tuple types are covariant in their parameters, so this definition permits\n",
    "`Tuple` to match any type of tuple:"
   ]
  },
  {
   "cell_type": "code",
   "execution_count": null,
   "id": "2cd235c2",
   "metadata": {
    "attributes": {
     "classes": [
      "jldoctest"
     ],
     "id": ""
    }
   },
   "outputs": [],
   "source": [
    "julia> typeintersect(Tuple, Tuple{Int,Float64})\n",
    "Tuple{Int64,Float64}\n",
    "\n",
    "julia> typeintersect(Tuple{Vararg{Any}}, Tuple{Int,Float64})\n",
    "Tuple{Int64,Float64}"
   ]
  },
  {
   "cell_type": "markdown",
   "id": "867bdefe",
   "metadata": {},
   "source": [
    "However, if a variadic (`Vararg`) tuple type has free variables it can describe different kinds\n",
    "of tuples:"
   ]
  },
  {
   "cell_type": "code",
   "execution_count": null,
   "id": "253dec79",
   "metadata": {
    "attributes": {
     "classes": [
      "jldoctest"
     ],
     "id": ""
    }
   },
   "outputs": [],
   "source": [
    "julia> typeintersect(Tuple{Vararg{T} where T}, Tuple{Int,Float64})\n",
    "Tuple{Int64,Float64}\n",
    "\n",
    "julia> typeintersect(Tuple{Vararg{T}} where T, Tuple{Int,Float64})\n",
    "Union{}"
   ]
  },
  {
   "cell_type": "markdown",
   "id": "c8557319",
   "metadata": {},
   "source": [
    "Notice that when `T` is free with respect to the `Tuple` type (i.e. its binding `UnionAll`\n",
    "type is outside the `Tuple` type), only one `T` value must work over the whole type.\n",
    "Therefore a heterogeneous tuple does not match.\n",
    "\n",
    "Finally, it's worth noting that `Tuple{}` is distinct:"
   ]
  },
  {
   "cell_type": "code",
   "execution_count": null,
   "id": "29a45b04",
   "metadata": {
    "attributes": {
     "classes": [
      "jldoctest"
     ],
     "id": ""
    }
   },
   "outputs": [],
   "source": [
    "julia> Tuple{}\n",
    "Tuple{}\n",
    "\n",
    "julia> Tuple{}.parameters\n",
    "svec()\n",
    "\n",
    "julia> typeintersect(Tuple{}, Tuple{Int})\n",
    "Union{}"
   ]
  },
  {
   "cell_type": "markdown",
   "id": "ccc1f429",
   "metadata": {},
   "source": [
    "What is the \"primary\" tuple-type?"
   ]
  },
  {
   "cell_type": "code",
   "execution_count": null,
   "id": "4c750d32",
   "metadata": {
    "attributes": {
     "classes": [
      "julia-repl"
     ],
     "id": ""
    }
   },
   "outputs": [],
   "source": [
    "julia> pointer_from_objref(Tuple)\n",
    "Ptr{Cvoid} @0x00007f5998a04370\n",
    "\n",
    "julia> pointer_from_objref(Tuple{})\n",
    "Ptr{Cvoid} @0x00007f5998a570d0\n",
    "\n",
    "julia> pointer_from_objref(Tuple.name.wrapper)\n",
    "Ptr{Cvoid} @0x00007f5998a04370\n",
    "\n",
    "julia> pointer_from_objref(Tuple{}.name.wrapper)\n",
    "Ptr{Cvoid} @0x00007f5998a04370"
   ]
  },
  {
   "cell_type": "markdown",
   "id": "cd799538",
   "metadata": {},
   "source": [
    "so `Tuple == Tuple{Vararg{Any}}` is indeed the primary type.\n",
    "\n",
    "## Diagonal types\n",
    "\n",
    "Consider the type `Tuple{T,T} where T`.\n",
    "A method with this signature would look like:"
   ]
  },
  {
   "cell_type": "code",
   "execution_count": null,
   "id": "3feeabab",
   "metadata": {
    "attributes": {
     "classes": [
      "julia"
     ],
     "id": ""
    }
   },
   "outputs": [],
   "source": [
    "f(x::T, y::T) where {T} = ..."
   ]
  },
  {
   "cell_type": "markdown",
   "id": "f58d7e38",
   "metadata": {},
   "source": [
    "According to the usual interpretation of a `UnionAll` type, this `T` ranges over all\n",
    "types, including `Any`, so this type should be equivalent to `Tuple{Any,Any}`.\n",
    "However, this interpretation causes some practical problems.\n",
    "\n",
    "First, a value of `T` needs to be available inside the method definition.\n",
    "For a call like `f(1, 1.0)`, it's not clear what `T` should be.\n",
    "It could be `Union{Int,Float64}`, or perhaps [`Real`](@ref).\n",
    "Intuitively, we expect the declaration `x::T` to mean `T === typeof(x)`.\n",
    "To make sure that invariant holds, we need `typeof(x) === typeof(y) === T` in this method.\n",
    "That implies the method should only be called for arguments of the exact same type.\n",
    "\n",
    "It turns out that being able to dispatch on whether two values have the same type\n",
    "is very useful (this is used by the promotion system for example), so we have\n",
    "multiple reasons to want a different interpretation of `Tuple{T,T} where T`.\n",
    "To make this work we add the following rule to subtyping: if a variable occurs\n",
    "more than once in covariant position, it is restricted to ranging over only concrete\n",
    "types.\n",
    "(\"Covariant position\" means that only `Tuple` and `Union` types occur between an\n",
    "occurrence of a variable and the `UnionAll` type that introduces it.)\n",
    "Such variables are called \"diagonal variables\" or \"concrete variables\".\n",
    "\n",
    "So for example, `Tuple{T,T} where T` can be seen as\n",
    "`Union{Tuple{Int8,Int8}, Tuple{Int16,Int16}, ...}`, where `T` ranges over all\n",
    "concrete types.\n",
    "This gives rise to some interesting subtyping results.\n",
    "For example `Tuple{Real,Real}` is not a subtype of `Tuple{T,T} where T`, because\n",
    "it includes some types like `Tuple{Int8,Int16}` where the two elements have\n",
    "different types.\n",
    "`Tuple{Real,Real}` and `Tuple{T,T} where T` have the non-trivial intersection\n",
    "`Tuple{T,T} where T<:Real`.\n",
    "However, `Tuple{Real}` *is* a subtype of `Tuple{T} where T`, because in that case\n",
    "`T` occurs only once and so is not diagonal.\n",
    "\n",
    "Next consider a signature like the following:"
   ]
  },
  {
   "cell_type": "code",
   "execution_count": null,
   "id": "eee50412",
   "metadata": {
    "attributes": {
     "classes": [
      "julia"
     ],
     "id": ""
    }
   },
   "outputs": [],
   "source": [
    "f(a::Array{T}, x::T, y::T) where {T} = ..."
   ]
  },
  {
   "cell_type": "markdown",
   "id": "f188e4f2",
   "metadata": {},
   "source": [
    "In this case, `T` occurs in invariant position inside `Array{T}`.\n",
    "That means whatever type of array is passed unambiguously determines\n",
    "the value of `T` -- we say `T` has an *equality constraint* on it.\n",
    "Therefore in this case the diagonal rule is not really necessary, since\n",
    "the array determines `T` and we can then allow `x` and `y` to be of\n",
    "any subtypes of `T`.\n",
    "So variables that occur in invariant position are never considered diagonal.\n",
    "This choice of behavior is slightly controversial --- some feel this definition\n",
    "should be written as"
   ]
  },
  {
   "cell_type": "code",
   "execution_count": null,
   "id": "6d79969a",
   "metadata": {
    "attributes": {
     "classes": [
      "julia"
     ],
     "id": ""
    }
   },
   "outputs": [],
   "source": [
    "f(a::Array{T}, x::S, y::S) where {T, S<:T} = ..."
   ]
  },
  {
   "cell_type": "markdown",
   "id": "dd9cfdc3",
   "metadata": {},
   "source": [
    "to clarify whether `x` and `y` need to have the same type.\n",
    "In this version of the signature they would, or we could introduce a third variable for\n",
    "the type of `y` if `x` and `y` can have different types.\n",
    "\n",
    "The next complication is the interaction of unions and diagonal variables, e.g."
   ]
  },
  {
   "cell_type": "code",
   "execution_count": null,
   "id": "9c93882f",
   "metadata": {
    "attributes": {
     "classes": [
      "julia"
     ],
     "id": ""
    }
   },
   "outputs": [],
   "source": [
    "f(x::Union{Nothing,T}, y::T) where {T} = ..."
   ]
  },
  {
   "cell_type": "markdown",
   "id": "95e98077",
   "metadata": {},
   "source": [
    "Consider what this declaration means.\n",
    "`y` has type `T`. `x` then can have either the same type `T`, or else be of type [`Nothing`](@ref).\n",
    "So all of the following calls should match:"
   ]
  },
  {
   "cell_type": "code",
   "execution_count": null,
   "id": "740802a6",
   "metadata": {
    "attributes": {
     "classes": [
      "julia"
     ],
     "id": ""
    }
   },
   "outputs": [],
   "source": [
    "f(1, 1)\n",
    "f(\"\", \"\")\n",
    "f(2.0, 2.0)\n",
    "f(nothing, 1)\n",
    "f(nothing, \"\")\n",
    "f(nothing, 2.0)"
   ]
  },
  {
   "cell_type": "markdown",
   "id": "2d55eb56",
   "metadata": {},
   "source": [
    "These examples are telling us something: when `x` is `nothing::Nothing`, there are no\n",
    "extra constraints on `y`.\n",
    "It is as if the method signature had `y::Any`.\n",
    "Indeed, we have the following type equivalence:"
   ]
  },
  {
   "cell_type": "code",
   "execution_count": null,
   "id": "7d015d68",
   "metadata": {
    "attributes": {
     "classes": [
      "julia"
     ],
     "id": ""
    }
   },
   "outputs": [],
   "source": [
    "(Tuple{Union{Nothing,T},T} where T) == Union{Tuple{Nothing,Any}, Tuple{T,T} where T}"
   ]
  },
  {
   "cell_type": "markdown",
   "id": "3f0af300",
   "metadata": {},
   "source": [
    "The general rule is: a concrete variable in covariant position acts like it's\n",
    "not concrete if the subtyping algorithm only *uses* it once.\n",
    "When `x` has type `Nothing`, we don't need to use the `T` in `Union{Nothing,T}`;\n",
    "we only use it in the second slot.\n",
    "This arises naturally from the observation that in `Tuple{T} where T` restricting\n",
    "`T` to concrete types makes no difference; the type is equal to `Tuple{Any}` either way.\n",
    "\n",
    "However, appearing in *invariant* position disqualifies a variable from being concrete\n",
    "whether that appearance of the variable is used or not.\n",
    "Otherwise types can behave differently depending on which other types\n",
    "they are compared to, making subtyping not transitive. For example, consider\n",
    "\n",
    "Tuple{Int,Int8,Vector{Integer}} <: Tuple{T,T,Vector{Union{Integer,T}}} where T\n",
    "\n",
    "If the `T` inside the Union is ignored, then `T` is concrete and the answer is \"false\"\n",
    "since the first two types aren't the same.\n",
    "But consider instead\n",
    "\n",
    "Tuple{Int,Int8,Vector{Any}} <: Tuple{T,T,Vector{Union{Integer,T}}} where T\n",
    "\n",
    "Now we cannot ignore the `T` in the Union (we must have T == Any), so `T` is not\n",
    "concrete and the answer is \"true\".\n",
    "That would make the concreteness of `T` depend on the other type, which is not\n",
    "acceptable since a type must have a clear meaning on its own.\n",
    "Therefore the appearance of `T` inside `Vector` is considered in both cases.\n",
    "\n",
    "## Subtyping diagonal variables\n",
    "\n",
    "The subtyping algorithm for diagonal variables has two components:\n",
    "(1) identifying variable occurrences, and (2) ensuring that diagonal\n",
    "variables range over concrete types only.\n",
    "\n",
    "The first task is accomplished by keeping counters `occurs_inv` and `occurs_cov`\n",
    "(in `src/subtype.c`) for each variable in the environment, tracking the number\n",
    "of invariant and covariant occurrences, respectively.\n",
    "A variable is diagonal when `occurs_inv == 0 && occurs_cov > 1`.\n",
    "\n",
    "The second task is accomplished by imposing a condition on a variable's lower bound.\n",
    "As the subtyping algorithm runs, it narrows the bounds of each variable\n",
    "(raising lower bounds and lowering upper bounds) to keep track of the\n",
    "range of variable values for which the subtype relation would hold.\n",
    "When we are done evaluating the body of a `UnionAll` type whose variable is diagonal,\n",
    "we look at the final values of the bounds.\n",
    "Since the variable must be concrete, a contradiction occurs if its lower bound\n",
    "could not be a subtype of a concrete type.\n",
    "For example, an abstract type like [`AbstractArray`](@ref) cannot be a subtype of a concrete\n",
    "type, but a concrete type like `Int` can be, and the empty type `Bottom` can be as well.\n",
    "If a lower bound fails this test the algorithm stops with the answer `false`.\n",
    "\n",
    "For example, in the problem `Tuple{Int,String} <: Tuple{T,T} where T`, we derive that\n",
    "this would be true if `T` were a supertype of `Union{Int,String}`.\n",
    "However, `Union{Int,String}` is an abstract type, so the relation does not hold.\n",
    "\n",
    "This concreteness test is done by the function `is_leaf_bound`.\n",
    "Note that this test is slightly different from `jl_is_leaf_type`, since it also returns\n",
    "`true` for `Bottom`.\n",
    "Currently this function is heuristic, and does not catch all possible concrete types.\n",
    "The difficulty is that whether a lower bound is concrete might depend on the values\n",
    "of other type variable bounds.\n",
    "For example, `Vector{T}` is equivalent to the concrete type `Vector{Int}` only if\n",
    "both the upper and lower bounds of `T` equal `Int`.\n",
    "We have not yet worked out a complete algorithm for this.\n",
    "\n",
    "## Introduction to the internal machinery\n",
    "\n",
    "Most operations for dealing with types are found in the files `jltypes.c` and `subtype.c`.\n",
    "A good way to start is to watch subtyping in action.\n",
    "Build Julia with `make debug` and fire up Julia within a debugger.\n",
    "[gdb debugging tips](@ref) has some tips which may be useful.\n",
    "\n",
    "Because the subtyping code is used heavily in the REPL itself--and hence breakpoints in this\n",
    "code get triggered often--it will be easiest if you make the following definition:"
   ]
  },
  {
   "cell_type": "code",
   "execution_count": null,
   "id": "76e8a9a9",
   "metadata": {
    "attributes": {
     "classes": [
      "julia-repl"
     ],
     "id": ""
    }
   },
   "outputs": [],
   "source": [
    "julia> function mysubtype(a,b)\n",
    "           ccall(:jl_breakpoint, Cvoid, (Any,), nothing)\n",
    "           a <: b\n",
    "       end"
   ]
  },
  {
   "cell_type": "markdown",
   "id": "b7e6a0d6",
   "metadata": {},
   "source": [
    "and then set a breakpoint in `jl_breakpoint`.  Once this breakpoint gets triggered, you can set\n",
    "breakpoints in other functions.\n",
    "\n",
    "As a warm-up, try the following:"
   ]
  },
  {
   "cell_type": "code",
   "execution_count": null,
   "id": "52d97202",
   "metadata": {
    "attributes": {
     "classes": [
      "julia"
     ],
     "id": ""
    }
   },
   "outputs": [],
   "source": [
    "mysubtype(Tuple{Int,Float64}, Tuple{Integer,Real})"
   ]
  },
  {
   "cell_type": "markdown",
   "id": "0ec52aa1",
   "metadata": {},
   "source": [
    "We can make it more interesting by trying a more complex case:"
   ]
  },
  {
   "cell_type": "code",
   "execution_count": null,
   "id": "4428edc9",
   "metadata": {
    "attributes": {
     "classes": [
      "julia"
     ],
     "id": ""
    }
   },
   "outputs": [],
   "source": [
    "mysubtype(Tuple{Array{Int,2}, Int8}, Tuple{Array{T}, T} where T)"
   ]
  },
  {
   "cell_type": "markdown",
   "id": "ae2be244",
   "metadata": {},
   "source": [
    "## Subtyping and method sorting\n",
    "\n",
    "The `type_morespecific` functions are used for imposing a partial order on functions in method\n",
    "tables (from most-to-least specific). Specificity is strict; if `a` is more specific than `b`,\n",
    "then `a` does not equal `b` and `b` is not more specific than `a`.\n",
    "\n",
    "If `a` is a strict subtype of `b`, then it is automatically considered more specific.\n",
    "From there, `type_morespecific` employs some less formal rules.\n",
    "For example, `subtype` is sensitive to the number of arguments, but `type_morespecific` may not be.\n",
    "In particular, `Tuple{Int,AbstractFloat}` is more specific than `Tuple{Integer}`, even though it is\n",
    "not a subtype.  (Of `Tuple{Int,AbstractFloat}` and `Tuple{Integer,Float64}`, neither is more specific\n",
    "than the other.)  Likewise, `Tuple{Int,Vararg{Int}}` is not a subtype of `Tuple{Integer}`, but it is\n",
    "considered more specific. However, `morespecific` does get a bonus for length: in particular,\n",
    "`Tuple{Int,Int}` is more specific than `Tuple{Int,Vararg{Int}}`.\n",
    "\n",
    "If you're debugging how methods get sorted, it can be convenient to define the function:"
   ]
  },
  {
   "cell_type": "code",
   "execution_count": null,
   "id": "076e5bf7",
   "metadata": {
    "attributes": {
     "classes": [
      "julia"
     ],
     "id": ""
    }
   },
   "outputs": [],
   "source": [
    "type_morespecific(a, b) = ccall(:jl_type_morespecific, Cint, (Any,Any), a, b)"
   ]
  },
  {
   "cell_type": "markdown",
   "id": "ad7c39f8",
   "metadata": {},
   "source": [
    "which allows you to test whether tuple type `a` is more specific than tuple type `b`."
   ]
  }
 ],
 "metadata": {},
 "nbformat": 4,
 "nbformat_minor": 5
}
