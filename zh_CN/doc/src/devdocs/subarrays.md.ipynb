{
 "cells": [
  {
   "cell_type": "markdown",
   "id": "04d98086",
   "metadata": {},
   "source": [
    "# 子数组\n",
    "\n",
    "Julia 的 `SubArray` 类型是编码父类型 [`AbstractArray`](@ref) 的“视图”的一个容器。本页介绍了 `SubArray` 的一些设计原则和实现。\n",
    "\n",
    "One of the major design goals is to ensure high performance for views of both [`IndexLinear`](@ref) and\n",
    "[`IndexCartesian`](@ref) arrays. Furthermore, views of `IndexLinear` arrays should themselves be\n",
    "`IndexLinear` to the extent that it is possible.\n",
    "\n",
    "## Index replacement\n",
    "\n",
    "Consider making 2d slices of a 3d array:"
   ]
  },
  {
   "cell_type": "code",
   "execution_count": null,
   "id": "f823944a",
   "metadata": {
    "attributes": {
     "classes": [
      "@meta"
     ],
     "id": ""
    }
   },
   "outputs": [],
   "source": [
    "DocTestSetup = :(import Random; Random.seed!(1234))"
   ]
  },
  {
   "cell_type": "code",
   "execution_count": null,
   "id": "267e13f9",
   "metadata": {},
   "outputs": [],
   "source": [
    "julia> A = rand(2,3,4);\n",
    "\n",
    "julia> S1 = view(A, :, 1, 2:3)\n",
    "2×2 view(::Array{Float64, 3}, :, 1, 2:3) with eltype Float64:\n",
    " 0.342284  0.831961\n",
    " 0.237287  0.435938\n",
    "\n",
    "julia> S2 = view(A, 1, :, 2:3)\n",
    "3×2 view(::Array{Float64, 3}, 1, :, 2:3) with eltype Float64:\n",
    " 0.342284  0.831961\n",
    " 0.988944  0.927795\n",
    " 0.178426  0.404876"
   ]
  },
  {
   "cell_type": "code",
   "execution_count": null,
   "id": "006c5b42",
   "metadata": {
    "attributes": {
     "classes": [
      "@meta"
     ],
     "id": ""
    }
   },
   "outputs": [],
   "source": [
    "DocTestSetup = nothing"
   ]
  },
  {
   "cell_type": "markdown",
   "id": "9864a10b",
   "metadata": {},
   "source": [
    "`view` drops \"singleton\" dimensions (ones that are specified by an `Int`), so both `S1` and `S2`\n",
    "are two-dimensional `SubArray`s. Consequently, the natural way to index these is with `S1[i,j]`.\n",
    "To extract the value from the parent array `A`, the natural approach is to replace `S1[i,j]`\n",
    "with `A[i,1,(2:3)[j]]` and `S2[i,j]` with `A[1,i,(2:3)[j]]`.\n",
    "\n",
    "The key feature of the design of SubArrays is that this index replacement can be performed without\n",
    "any runtime overhead.\n",
    "\n",
    "## SubArray design\n",
    "\n",
    "### Type parameters and fields\n",
    "\n",
    "The strategy adopted is first and foremost expressed in the definition of the type:"
   ]
  },
  {
   "cell_type": "code",
   "execution_count": null,
   "id": "c7513cf9",
   "metadata": {
    "attributes": {
     "classes": [
      "julia"
     ],
     "id": ""
    }
   },
   "outputs": [],
   "source": [
    "struct SubArray{T,N,P,I,L} <: AbstractArray{T,N}\n",
    "    parent::P\n",
    "    indices::I\n",
    "    offset1::Int       # for linear indexing and pointer, only valid when L==true\n",
    "    stride1::Int       # used only for linear indexing\n",
    "    ...\n",
    "end"
   ]
  },
  {
   "cell_type": "markdown",
   "id": "a3502d8d",
   "metadata": {},
   "source": [
    "`SubArray` has 5 type parameters.  The first two are the standard element type and dimensionality.\n",
    " The next is the type of the parent `AbstractArray`.  The most heavily-used is the fourth parameter,\n",
    "a `Tuple` of the types of the indices for each dimension. The final one, `L`, is only provided\n",
    "as a convenience for dispatch; it's a boolean that represents whether the index types support\n",
    "fast linear indexing. More on that later.\n",
    "\n",
    "If in our example above `A` is a `Array{Float64, 3}`, our `S1` case above would be a\n",
    "`SubArray{Float64,2,Array{Float64,3},Tuple{Base.Slice{Base.OneTo{Int64}},Int64,UnitRange{Int64}},false}`.\n",
    "Note in particular the tuple parameter, which stores the types of the indices used to create\n",
    "`S1`. Likewise,"
   ]
  },
  {
   "cell_type": "code",
   "execution_count": null,
   "id": "1fd2efeb",
   "metadata": {},
   "outputs": [],
   "source": [
    "julia> S1.indices\n",
    "(Base.Slice(Base.OneTo(2)), 1, 2:3)"
   ]
  },
  {
   "cell_type": "markdown",
   "id": "9ce9c906",
   "metadata": {},
   "source": [
    "Storing these values allows index replacement, and having the types encoded as parameters allows\n",
    "one to dispatch to efficient algorithms.\n",
    "\n",
    "### Index translation\n",
    "\n",
    "Performing index translation requires that you do different things for different concrete `SubArray`\n",
    "types.  For example, for `S1`, one needs to apply the `i,j` indices to the first and third dimensions\n",
    "of the parent array, whereas for `S2` one needs to apply them to the second and third.  The simplest\n",
    "approach to indexing would be to do the type-analysis at runtime:"
   ]
  },
  {
   "cell_type": "code",
   "execution_count": null,
   "id": "5bd7cdfa",
   "metadata": {
    "attributes": {
     "classes": [
      "julia"
     ],
     "id": ""
    }
   },
   "outputs": [],
   "source": [
    "parentindices = Vector{Any}()\n",
    "for thisindex in S.indices\n",
    "    ...\n",
    "    if isa(thisindex, Int)\n",
    "        # Don't consume one of the input indices\n",
    "        push!(parentindices, thisindex)\n",
    "    elseif isa(thisindex, AbstractVector)\n",
    "        # Consume an input index\n",
    "        push!(parentindices, thisindex[inputindex[j]])\n",
    "        j += 1\n",
    "    elseif isa(thisindex, AbstractMatrix)\n",
    "        # Consume two input indices\n",
    "        push!(parentindices, thisindex[inputindex[j], inputindex[j+1]])\n",
    "        j += 2\n",
    "    elseif ...\n",
    "end\n",
    "S.parent[parentindices...]"
   ]
  },
  {
   "cell_type": "markdown",
   "id": "610fae52",
   "metadata": {},
   "source": [
    "Unfortunately, this would be disastrous in terms of performance: each element access would allocate\n",
    "memory, and involves the running of a lot of poorly-typed code.\n",
    "\n",
    "The better approach is to dispatch to specific methods to handle each type of stored index. That's\n",
    "what `reindex` does: it dispatches on the type of the first stored index and consumes the appropriate\n",
    "number of input indices, and then it recurses on the remaining indices. In the case of `S1`, this\n",
    "expands to"
   ]
  },
  {
   "cell_type": "code",
   "execution_count": null,
   "id": "2a1d172c",
   "metadata": {
    "attributes": {
     "classes": [
      "julia"
     ],
     "id": ""
    }
   },
   "outputs": [],
   "source": [
    "Base.reindex(S1, S1.indices, (i, j)) == (i, S1.indices[2], S1.indices[3][j])"
   ]
  },
  {
   "cell_type": "markdown",
   "id": "380dff9e",
   "metadata": {},
   "source": [
    "for any pair of indices `(i,j)` (except [`CartesianIndex`](@ref)s and arrays thereof, see below).\n",
    "\n",
    "This is the core of a `SubArray`; indexing methods depend upon `reindex` to do this index translation.\n",
    "Sometimes, though, we can avoid the indirection and make it even faster.\n",
    "\n",
    "### Linear indexing\n",
    "\n",
    "Linear indexing can be implemented efficiently when the entire array has a single stride that\n",
    "separates successive elements, starting from some offset. This means that we can pre-compute these\n",
    "values and represent linear indexing simply as an addition and multiplication, avoiding the indirection\n",
    "of `reindex` and (more importantly) the slow computation of the cartesian coordinates entirely.\n",
    "\n",
    "For `SubArray` types, the availability of efficient linear indexing is based purely on the types\n",
    "of the indices, and does not depend on values like the size of the parent array. You can ask whether\n",
    "a given set of indices supports fast linear indexing with the internal `Base.viewindexing` function:"
   ]
  },
  {
   "cell_type": "code",
   "execution_count": null,
   "id": "ec034da1",
   "metadata": {},
   "outputs": [],
   "source": [
    "julia> Base.viewindexing(S1.indices)\n",
    "IndexCartesian()\n",
    "\n",
    "julia> Base.viewindexing(S2.indices)\n",
    "IndexLinear()"
   ]
  },
  {
   "cell_type": "markdown",
   "id": "dddafb72",
   "metadata": {},
   "source": [
    "This is computed during construction of the `SubArray` and stored in the `L` type parameter as\n",
    "a boolean that encodes fast linear indexing support. While not strictly necessary, it means that\n",
    "we can define dispatch directly on `SubArray{T,N,A,I,true}` without any intermediaries.\n",
    "\n",
    "Since this computation doesn't depend on runtime values, it can miss some cases in which the stride\n",
    "happens to be uniform:"
   ]
  },
  {
   "cell_type": "code",
   "execution_count": null,
   "id": "4ba74ff2",
   "metadata": {
    "attributes": {
     "classes": [
      "jldoctest"
     ],
     "id": ""
    }
   },
   "outputs": [],
   "source": [
    "julia> A = reshape(1:4*2, 4, 2)\n",
    "4×2 reshape(::UnitRange{Int64}, 4, 2) with eltype Int64:\n",
    " 1  5\n",
    " 2  6\n",
    " 3  7\n",
    " 4  8\n",
    "\n",
    "julia> diff(A[2:2:4,:][:])\n",
    "3-element Vector{Int64}:\n",
    " 2\n",
    " 2\n",
    " 2"
   ]
  },
  {
   "cell_type": "markdown",
   "id": "2ee263d6",
   "metadata": {},
   "source": [
    "A view constructed as `view(A, 2:2:4, :)` happens to have uniform stride, and therefore linear\n",
    "indexing indeed could be performed efficiently.  However, success in this case depends on the\n",
    "size of the array: if the first dimension instead were odd,"
   ]
  },
  {
   "cell_type": "code",
   "execution_count": null,
   "id": "5faf784c",
   "metadata": {
    "attributes": {
     "classes": [
      "jldoctest"
     ],
     "id": ""
    }
   },
   "outputs": [],
   "source": [
    "julia> A = reshape(1:5*2, 5, 2)\n",
    "5×2 reshape(::UnitRange{Int64}, 5, 2) with eltype Int64:\n",
    " 1   6\n",
    " 2   7\n",
    " 3   8\n",
    " 4   9\n",
    " 5  10\n",
    "\n",
    "julia> diff(A[2:2:4,:][:])\n",
    "3-element Vector{Int64}:\n",
    " 2\n",
    " 3\n",
    " 2"
   ]
  },
  {
   "cell_type": "markdown",
   "id": "42f18dcc",
   "metadata": {},
   "source": [
    "then `A[2:2:4,:]` does not have uniform stride, so we cannot guarantee efficient linear indexing.\n",
    " Since we have to base this decision based purely on types encoded in the parameters of the `SubArray`,\n",
    "`S = view(A, 2:2:4, :)` cannot implement efficient linear indexing.\n",
    "\n",
    "### A few details\n",
    "\n",
    "  * Note that the `Base.reindex` function is agnostic to the types of the input indices; it simply\n",
    "    determines how and where the stored indices should be reindexed. It not only supports integer\n",
    "    indices, but it supports non-scalar indexing, too. This means that views of views don't need two\n",
    "    levels of indirection; they can simply re-compute the indices into the original parent array!\n",
    "  * Hopefully by now it's fairly clear that supporting slices means that the dimensionality, given\n",
    "    by the parameter `N`, is not necessarily equal to the dimensionality of the parent array or the\n",
    "    length of the `indices` tuple.  Neither do user-supplied indices necessarily line up with entries\n",
    "    in the `indices` tuple (e.g., the second user-supplied index might correspond to the third dimension\n",
    "    of the parent array, and the third element in the `indices` tuple)."
   ]
  },
  {
   "cell_type": "code",
   "execution_count": null,
   "id": "40ce47bc",
   "metadata": {},
   "outputs": [],
   "source": [
    "What might be less obvious is that the dimensionality of the stored parent array must be equal\n",
    "to the number of effective indices in the `indices` tuple. Some examples:\n",
    "\n",
    "```julia\n",
    "A = reshape(1:35, 5, 7) # A 2d parent Array\n",
    "S = view(A, 2:7)         # A 1d view created by linear indexing\n",
    "S = view(A, :, :, 1:1)   # Appending extra indices is supported\n",
    "```\n",
    "\n",
    "Naively, you'd think you could just set `S.parent = A` and `S.indices = (:,:,1:1)`, but supporting\n",
    "this dramatically complicates the reindexing process, especially for views of views. Not only\n",
    "do you need to dispatch on the types of the stored indices, but you need to examine whether a\n",
    "given index is the final one and \"merge\" any remaining stored indices together. This is not an\n",
    "easy task, and even worse: it's slow since it implicitly depends upon linear indexing.\n",
    "\n",
    "Fortunately, this is precisely the computation that `ReshapedArray` performs, and it does so linearly\n",
    "if possible. Consequently, `view` ensures that the parent array is the appropriate dimensionality\n",
    "for the given indices by reshaping it if needed. The inner `SubArray` constructor ensures that\n",
    "this invariant is satisfied.\n",
    "  * [`CartesianIndex`](@ref) and arrays thereof throw a nasty wrench into the `reindex` scheme. Recall that\n",
    "`reindex` simply dispatches on the type of the stored indices in order to determine how many passed\n",
    "indices should be used and where they should go. But with `CartesianIndex`, there's no longer\n",
    "a one-to-one correspondence between the number of passed arguments and the number of dimensions\n",
    "that they index into. If we return to the above example of `Base.reindex(S1, S1.indices, (i, j))`,\n",
    "you can see that the expansion is incorrect for `i, j = CartesianIndex(), CartesianIndex(2,1)`.\n",
    "It should *skip* the `CartesianIndex()` entirely and return:\n",
    "\n",
    "```julia\n",
    "(CartesianIndex(2,1)[1], S1.indices[2], S1.indices[3][CartesianIndex(2,1)[2]])\n",
    "```\n",
    "\n",
    "Instead, though, we get:\n",
    "\n",
    "```julia\n",
    "(CartesianIndex(), S1.indices[2], S1.indices[3][CartesianIndex(2,1)])\n",
    "```\n",
    "\n",
    "Doing this correctly would require *combined* dispatch on both the stored and passed indices across\n",
    "all combinations of dimensionalities in an intractable manner. As such, `reindex` must never be\n",
    "called with `CartesianIndex` indices. Fortunately, the scalar case is easily handled by first\n",
    "flattening the `CartesianIndex` arguments to plain integers. Arrays of `CartesianIndex`, however,\n",
    "cannot be split apart into orthogonal pieces so easily. Before attempting to use `reindex`, `view`\n",
    "must ensure that there are no arrays of `CartesianIndex` in the argument list. If there are, it\n",
    "can simply \"punt\" by avoiding the `reindex` calculation entirely, constructing a nested `SubArray`\n",
    "with two levels of indirection instead."
   ]
  }
 ],
 "metadata": {},
 "nbformat": 4,
 "nbformat_minor": 5
}
