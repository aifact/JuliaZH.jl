{
 "cells": [
  {
   "cell_type": "markdown",
   "id": "8a0cce30",
   "metadata": {},
   "source": [
    "# 在Julia中使用Valgrind\n",
    "\n",
    "[Valgrind](http://valgrind.org/) is a tool for memory debugging, memory leak detection, and profiling.\n",
    " This section describes things to keep in mind when using Valgrind to debug memory issues with\n",
    "Julia.\n",
    "\n",
    "## General considerations\n",
    "\n",
    "By default, Valgrind assumes that there is no self modifying code in the programs it runs.  This\n",
    "assumption works fine in most instances but fails miserably for a just-in-time compiler like\n",
    "`julia`.  For this reason it is crucial to pass `--smc-check=all-non-file` to `valgrind`, else\n",
    "code may crash or behave unexpectedly (often in subtle ways).\n",
    "\n",
    "In some cases, to better detect memory errors using Valgrind it can help to compile `julia` with\n",
    "memory pools disabled.  The compile-time flag `MEMDEBUG` disables memory pools in Julia, and\n",
    "`MEMDEBUG2` disables memory pools in FemtoLisp.  To build `julia` with both flags, add the following\n",
    "line to `Make.user`:"
   ]
  },
  {
   "cell_type": "code",
   "execution_count": null,
   "id": "e83b4846",
   "metadata": {
    "attributes": {
     "classes": [
      "julia"
     ],
     "id": ""
    }
   },
   "outputs": [],
   "source": [
    "CFLAGS = -DMEMDEBUG -DMEMDEBUG2"
   ]
  },
  {
   "cell_type": "markdown",
   "id": "757b1597",
   "metadata": {},
   "source": [
    "Another thing to note: if your program uses multiple workers processes, it is likely that you\n",
    "want all such worker processes to run under Valgrind, not just the parent process.  To do this,\n",
    "pass `--trace-children=yes` to `valgrind`.\n",
    "\n",
    "## Suppressions\n",
    "\n",
    "Valgrind will typically display spurious warnings as it runs.  To reduce the number of such warnings,\n",
    "it helps to provide a [suppressions file](http://valgrind.org/docs/manual/manual-core.html#manual-core.suppress)\n",
    "to Valgrind.  A sample suppressions file is included in the Julia source distribution at `contrib/valgrind-julia.supp`.\n",
    "\n",
    "The suppressions file can be used from the `julia/` source directory as follows:"
   ]
  },
  {
   "cell_type": "code",
   "execution_count": null,
   "id": "d9ee24ff",
   "metadata": {},
   "outputs": [],
   "source": [
    "$ valgrind --smc-check=all-non-file --suppressions=contrib/valgrind-julia.supp ./julia progname.jl"
   ]
  },
  {
   "cell_type": "markdown",
   "id": "2bd48d23",
   "metadata": {},
   "source": [
    "Any memory errors that are displayed should either be reported as bugs or contributed as additional\n",
    "suppressions.  Note that some versions of Valgrind are [shipped with insufficient default suppressions](https://github.com/JuliaLang/julia/issues/8314#issuecomment-55766210),\n",
    "so that may be one thing to consider before submitting any bugs.\n",
    "\n",
    "## Running the Julia test suite under Valgrind\n",
    "\n",
    "It is possible to run the entire Julia test suite under Valgrind, but it does take quite some\n",
    "time (typically several hours).  To do so, run the following command from the `julia/test/` directory:"
   ]
  },
  {
   "cell_type": "code",
   "execution_count": null,
   "id": "807560cf",
   "metadata": {},
   "outputs": [],
   "source": [
    "valgrind --smc-check=all-non-file --trace-children=yes --suppressions=$PWD/../contrib/valgrind-julia.supp ../julia runtests.jl all"
   ]
  },
  {
   "cell_type": "markdown",
   "id": "a6b6f9e7",
   "metadata": {},
   "source": [
    "If you would like to see a report of \"definite\" memory leaks, pass the flags `--leak-check=full --show-leak-kinds=definite`\n",
    "to `valgrind` as well.\n",
    "\n",
    "## Caveats\n",
    "\n",
    "Valgrind currently [does not support multiple rounding modes](https://bugs.kde.org/show_bug.cgi?id=136779),\n",
    "so code that adjusts the rounding mode will behave differently when run under Valgrind.\n",
    "\n",
    "In general, if after setting `--smc-check=all-non-file` you find that your program behaves differently\n",
    "when run under Valgrind, it may help to pass `--tool=none` to `valgrind` as you investigate further.\n",
    " This will enable the minimal Valgrind machinery but will also run much faster than when the full\n",
    "memory checker is enabled."
   ]
  }
 ],
 "metadata": {},
 "nbformat": 4,
 "nbformat_minor": 5
}
