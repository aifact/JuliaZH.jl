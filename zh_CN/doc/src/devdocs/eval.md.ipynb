{
 "cells": [
  {
   "cell_type": "markdown",
   "id": "d72ff7fe",
   "metadata": {},
   "source": [
    "# Julia 代码的 eval\n",
    "\n",
    "学习 Julia 语言如何运行代码的最难的一部分是 学习如何让所有的小部分工作协同工作来执行一段代码。 \n",
    "\n",
    "每个代码块通常会通过许多步骤来执行，在转变为期望的结果之前（但愿如此）。并且你可能不熟悉它们的名称，例如（非特定顺序）：\n",
    "flisp，AST，C++，LLVM，`eval`，`typeinf`，`macroexpand`，sysimg（或 system image），启动，变异，解析，执行，即时编译器，解释器解释，装箱，拆箱，内部函数，原始函数\n",
    "\n",
    "!!! sidebar \"Definitions\"\n",
    "      * REPL"
   ]
  },
  {
   "cell_type": "code",
   "execution_count": null,
   "id": "1529ab7e",
   "metadata": {},
   "outputs": [],
   "source": [
    "REPL 表示 读取-求值-输出-循环（Read-Eval-Print Loop）。 我们管这个命令行环境的简称就叫REPL。"
   ]
  },
  {
   "cell_type": "markdown",
   "id": "fad12dd0",
   "metadata": {},
   "source": [
    "* AST"
   ]
  },
  {
   "cell_type": "code",
   "execution_count": null,
   "id": "3beba27f",
   "metadata": {},
   "outputs": [],
   "source": [
    "抽象语法树（Abstract Syntax Tree）是代码结构的数据表现。在这种表现形式下代码被符号化，因此更加方便操作和执行。"
   ]
  },
  {
   "cell_type": "markdown",
   "id": "74f04ddc",
   "metadata": {},
   "source": [
    "## Julia Execution\n",
    "\n",
    "整个进程的千里之行如下：\n",
    "\n",
    "1. 用户打开了 `julia`。\n",
    "2. The C function `main()` from `cli/loader_exe.c` gets called. This function processes the command line\n",
    "   arguments, filling in the `jl_options` struct and setting the variable `ARGS`. It then initializes\n",
    "   在 `ui/repl.c` 中的 C 语言的函数 `main()` 被调用。这个函数处理命令行参数，填充到 `jl_options` 结构图并且设置变了 `ARGS` 。接下来初始化 Julia (通过调用  [`julia_init` in `task.c`](https://github.com/JuliaLang/julia/blob/master/src/task.c)\n",
    "   which may load a previously compiled [sysimg](@ref dev-sysimg)). Finally, it passes off control to Julia\n",
    "   by calling [`Base._start()`](https://github.com/JuliaLang/julia/blob/master/base/client.jl).\n",
    "3. When `_start()` takes over control, the subsequent sequence of commands depends on the command\n",
    "   line arguments given. For example, if a filename was supplied, it will proceed to execute that\n",
    "   file. Otherwise, it will start an interactive REPL.\n",
    "4. Skipping the details about how the REPL interacts with the user, let's just say the program ends\n",
    "   up with a block of code that it wants to run.\n",
    "5. If the block of code to run is in a file, [`jl_load(char *filename)`](https://github.com/JuliaLang/julia/blob/master/src/toplevel.c)\n",
    "   gets invoked to load the file and [parse](@ref dev-parsing) it. Each fragment of code is then passed to `eval`\n",
    "   to execute.\n",
    "6. Each fragment of code (or AST), is handed off to [`eval()`](@ref) to turn into results.\n",
    "7. [`eval()`](@ref) takes each code fragment and tries to run it in [`jl_toplevel_eval_flex()`](https://github.com/JuliaLang/julia/blob/master/src/toplevel.c).\n",
    "8. `jl_toplevel_eval_flex()` decides whether the code is a \"toplevel\" action (such as `using` or\n",
    "   `module`), which would be invalid inside a function. If so, it passes off the code to the toplevel\n",
    "   interpreter.\n",
    "9. `jl_toplevel_eval_flex()` then [expands](@ref dev-macro-expansion) the code to eliminate any macros and to \"lower\"\n",
    "   the AST to make it simpler to execute.\n",
    "10. `jl_toplevel_eval_flex()` then uses some simple heuristics to decide whether to JIT compiler the\n",
    "    AST or to interpret it directly.\n",
    "11. The bulk of the work to interpret code is handled by [`eval` in `interpreter.c`](https://github.com/JuliaLang/julia/blob/master/src/interpreter.c).\n",
    "12. If instead, the code is compiled, the bulk of the work is handled by `codegen.cpp`. Whenever a\n",
    "    Julia function is called for the first time with a given set of argument types, [type inference](@ref dev-type-inference)\n",
    "    will be run on that function. This information is used by the [codegen](@ref dev-codegen) step to generate\n",
    "    faster code.\n",
    "13. Eventually, the user quits the REPL, or the end of the program is reached, and the `_start()`\n",
    "    method returns.\n",
    "14. Just before exiting, `main()` calls [`jl_atexit_hook(exit_code)`](https://github.com/JuliaLang/julia/blob/master/src/init.c).\n",
    "    This calls `Base._atexit()` (which calls any functions registered to [`atexit()`](@ref) inside\n",
    "    Julia). Then it calls [`jl_gc_run_all_finalizers()`](https://github.com/JuliaLang/julia/blob/master/src/gc.c).\n",
    "    Finally, it gracefully cleans up all `libuv` handles and waits for them to flush and close.\n",
    "\n",
    "## [Parsing](@id dev-parsing)\n",
    "\n",
    "The Julia parser is a small lisp program written in femtolisp, the source-code for which is distributed\n",
    "inside Julia in [src/flisp](https://github.com/JuliaLang/julia/tree/master/src/flisp).\n",
    "\n",
    "The interface functions for this are primarily defined in [`jlfrontend.scm`](https://github.com/JuliaLang/julia/blob/master/src/jlfrontend.scm).\n",
    "The code in [`ast.c`](https://github.com/JuliaLang/julia/blob/master/src/ast.c) handles this handoff\n",
    "on the Julia side.\n",
    "\n",
    "The other relevant files at this stage are [`julia-parser.scm`](https://github.com/JuliaLang/julia/blob/master/src/julia-parser.scm),\n",
    "which handles tokenizing Julia code and turning it into an AST, and [`julia-syntax.scm`](https://github.com/JuliaLang/julia/blob/master/src/julia-syntax.scm),\n",
    "which handles transforming complex AST representations into simpler, \"lowered\" AST representations\n",
    "which are more suitable for analysis and execution.\n",
    "\n",
    "If you want to test the parser without re-building Julia in its entirety, you can run the frontend\n",
    "on its own as follows:"
   ]
  },
  {
   "cell_type": "code",
   "execution_count": null,
   "id": "ac76268d",
   "metadata": {},
   "outputs": [],
   "source": [
    "$ cd src\n",
    "$ flisp/flisp\n",
    "> (load \"jlfrontend.scm\")\n",
    "> (jl-parse-file \"<filename>\")"
   ]
  },
  {
   "cell_type": "markdown",
   "id": "0f4c5f0f",
   "metadata": {},
   "source": [
    "## [Macro Expansion](@id dev-macro-expansion)\n",
    "\n",
    "When [`eval()`](@ref) encounters a macro, it expands that AST node before attempting to evaluate\n",
    "the expression. Macro expansion involves a handoff from [`eval()`](@ref) (in Julia), to the parser\n",
    "function `jl_macroexpand()` (written in `flisp`) to the Julia macro itself (written in - what\n",
    "else - Julia) via `fl_invoke_julia_macro()`, and back.\n",
    "\n",
    "Typically, macro expansion is invoked as a first step during a call to [`Meta.lower()`](@ref)/`jl_expand()`,\n",
    "although it can also be invoked directly by a call to [`macroexpand()`](@ref)/`jl_macroexpand()`.\n",
    "\n",
    "## [Type Inference](@id dev-type-inference)\n",
    "\n",
    "Type inference is implemented in Julia by [`typeinf()` in `compiler/typeinfer.jl`](https://github.com/JuliaLang/julia/blob/master/base/compiler/typeinfer.jl).\n",
    "Type inference is the process of examining a Julia function and determining bounds for the types\n",
    "of each of its variables, as well as bounds on the type of the return value from the function.\n",
    "This enables many future optimizations, such as unboxing of known immutable values, and compile-time\n",
    "hoisting of various run-time operations such as computing field offsets and function pointers.\n",
    "Type inference may also include other steps such as constant propagation and inlining.\n",
    "\n",
    "!!! sidebar \"More Definitions\"\n",
    "      * JIT"
   ]
  },
  {
   "cell_type": "code",
   "execution_count": null,
   "id": "2d2b9fed",
   "metadata": {},
   "outputs": [],
   "source": [
    "Just-In-Time Compilation The process of generating native-machine code into memory right when\n",
    "it is needed.\n",
    "      * LLVM\n",
    "\n",
    "Low-Level Virtual Machine (a compiler) The Julia JIT compiler is a program/library called libLLVM.\n",
    "Codegen in Julia refers both to the process of taking a Julia AST and turning it into LLVM instructions,\n",
    "and the process of LLVM optimizing that and turning it into native assembly instructions.\n",
    "      * C++\n",
    "\n",
    "The programming language that LLVM is implemented in, which means that codegen is also implemented\n",
    "in this language. The rest of Julia's library is implemented in C, in part because its smaller\n",
    "feature set makes it more usable as a cross-language interface layer.\n",
    "      * box\n",
    "\n",
    "This term is used to describe the process of taking a value and allocating a wrapper around the\n",
    "data that is tracked by the garbage collector (gc) and is tagged with the object's type.\n",
    "      * unbox\n",
    "\n",
    "The reverse of boxing a value. This operation enables more efficient manipulation of data when\n",
    "the type of that data is fully known at compile-time (through type inference).\n",
    "      * generic function\n",
    "\n",
    "A Julia function composed of multiple \"methods\" that are selected for dynamic dispatch based on\n",
    "the argument type-signature\n",
    "      * anonymous function or \"method\"\n",
    "\n",
    "A Julia function without a name and without type-dispatch capabilities\n",
    "      * primitive function\n",
    "\n",
    "A function implemented in C but exposed in Julia as a named function \"method\" (albeit without\n",
    "generic function dispatch capabilities, similar to a anonymous function)\n",
    "      * intrinsic function\n",
    "\n",
    "A low-level operation exposed as a function in Julia. These pseudo-functions implement operations\n",
    "on raw bits such as add and sign extend that cannot be expressed directly in any other way. Since\n",
    "they operate on bits directly, they must be compiled into a function and surrounded by a call\n",
    "to `Core.Intrinsics.box(T, ...)` to reassign type information to the value."
   ]
  },
  {
   "cell_type": "markdown",
   "id": "8a50aaf8",
   "metadata": {},
   "source": [
    "## [JIT Code Generation](@id dev-codegen)\n",
    "\n",
    "Codegen is the process of turning a Julia AST into native machine code.\n",
    "\n",
    "The JIT environment is initialized by an early call to [`jl_init_codegen` in `codegen.cpp`](https://github.com/JuliaLang/julia/blob/master/src/codegen.cpp).\n",
    "\n",
    "On demand, a Julia method is converted into a native function by the function `emit_function(jl_method_instance_t*)`.\n",
    "(note, when using the MCJIT (in LLVM v3.4+), each function must be JIT into a new module.) This\n",
    "function recursively calls `emit_expr()` until the entire function has been emitted.\n",
    "\n",
    "Much of the remaining bulk of this file is devoted to various manual optimizations of specific\n",
    "code patterns. For example, `emit_known_call()` knows how to inline many of the primitive functions\n",
    "(defined in [`builtins.c`](https://github.com/JuliaLang/julia/blob/master/src/builtins.c)) for various\n",
    "combinations of argument types.\n",
    "\n",
    "Other parts of codegen are handled by various helper files:\n",
    "\n",
    "  * [`debuginfo.cpp`](https://github.com/JuliaLang/julia/blob/master/src/debuginfo.cpp)"
   ]
  },
  {
   "cell_type": "code",
   "execution_count": null,
   "id": "f20cc2ba",
   "metadata": {},
   "outputs": [],
   "source": [
    "Handles backtraces for JIT functions\n",
    "  * [`ccall.cpp`](https://github.com/JuliaLang/julia/blob/master/src/ccall.cpp)\n",
    "\n",
    "Handles the ccall and llvmcall FFI, along with various `abi_*.cpp` files\n",
    "  * [`intrinsics.cpp`](https://github.com/JuliaLang/julia/blob/master/src/intrinsics.cpp)\n",
    "\n",
    "Handles the emission of various low-level intrinsic functions"
   ]
  },
  {
   "cell_type": "markdown",
   "id": "df790001",
   "metadata": {},
   "source": [
    "!!! sidebar \"Bootstrapping\"\n",
    "    The process of creating a new system image is called \"bootstrapping\"."
   ]
  },
  {
   "cell_type": "code",
   "execution_count": null,
   "id": "97e7112b",
   "metadata": {},
   "outputs": [],
   "source": [
    "The etymology of this word comes from the phrase \"pulling oneself up by the bootstraps\", and\n",
    "refers to the idea of starting from a very limited set of available functions and definitions\n",
    "and ending with the creation of a full-featured environment."
   ]
  },
  {
   "cell_type": "markdown",
   "id": "1108d788",
   "metadata": {},
   "source": [
    "## [System Image](@id dev-sysimg)\n",
    "\n",
    "The system image is a precompiled archive of a set of Julia files. The `sys.ji` file distributed\n",
    "with Julia is one such system image, generated by executing the file [`sysimg.jl`](https://github.com/JuliaLang/julia/blob/master/base/sysimg.jl),\n",
    "and serializing the resulting environment (including Types, Functions, Modules, and all other\n",
    "defined values) into a file. Therefore, it contains a frozen version of the `Main`, `Core`, and\n",
    "`Base` modules (and whatever else was in the environment at the end of bootstrapping). This serializer/deserializer\n",
    "is implemented by [`jl_save_system_image`/`jl_restore_system_image` in `staticdata.c`](https://github.com/JuliaLang/julia/blob/master/src/staticdata.c).\n",
    "\n",
    "If there is no sysimg file (`jl_options.image_file == NULL`), this also implies that `--build`\n",
    "was given on the command line, so the final result should be a new sysimg file. During Julia initialization,\n",
    "minimal `Core` and `Main` modules are created. Then a file named `boot.jl` is evaluated from the\n",
    "current directory. Julia then evaluates any file given as a command line argument until it reaches\n",
    "the end. Finally, it saves the resulting environment to a \"sysimg\" file for use as a starting\n",
    "point for a future Julia run."
   ]
  }
 ],
 "metadata": {},
 "nbformat": 4,
 "nbformat_minor": 5
}
