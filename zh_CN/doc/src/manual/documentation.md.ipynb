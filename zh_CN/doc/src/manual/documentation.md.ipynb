{
 "cells": [
  {
   "cell_type": "markdown",
   "id": "2ca78af4",
   "metadata": {},
   "source": [
    "# 文档\n",
    "\n",
    "自Julia 0.4 开始，Julia 允许开发者和用户，使用其内置的文档系统更加便捷地为函数、类型以及其他对象编写文档。\n",
    "\n",
    "基础语法很简单：紧接在对象（函数，宏，类型和实例）之前的字符串都会被认为是对应对象的文档（称作 *docstrings*）。\n",
    "注意不要在 docstring 和文档对象之间有空行或者注释。\n",
    "这里有个基础的例子："
   ]
  },
  {
   "cell_type": "code",
   "execution_count": null,
   "id": "782c254f",
   "metadata": {
    "attributes": {
     "classes": [
      "julia"
     ],
     "id": ""
    }
   },
   "outputs": [],
   "source": [
    "\"Tell whether there are too foo items in the array.\"\n",
    "foo(xs::Array) = ..."
   ]
  },
  {
   "cell_type": "markdown",
   "id": "048df24e",
   "metadata": {},
   "source": [
    "文档会被翻译成 [Markdown](https://en.wikipedia.org/wiki/Markdown)，所以你可以\n",
    "使用缩进和代码块来分隔代码示例和文本。从技术上来说，任何对象\n",
    "都可以作为 metadata 与任何其他对象关联；Markdown 是默认的，但是可以创建\n",
    "其它字符串宏并传递给 `@doc` 宏来使用其他格式。\n",
    "\n",
    "!!! note\n",
    "    Markdown 支持由 `Markdown` 标准库实现，有关支持语法的完整列表，请参阅其[文档](@ref markdown_stdlib)。\n",
    "\n",
    "这里是一个更加复杂的例子，但仍然使用 Markdown："
   ]
  },
  {
   "cell_type": "code",
   "execution_count": null,
   "id": "5e033457",
   "metadata": {
    "attributes": {
     "classes": [
      "julia"
     ],
     "id": ""
    }
   },
   "outputs": [],
   "source": [
    "\"\"\"\n",
    "    bar(x[, y])\n",
    "\n",
    "Compute the Bar index between `x` and `y`. If `y` is missing, compute\n",
    "the Bar index between all pairs of columns of `x`.\n",
    "\n",
    "# Examples\n",
    "```julia-repl\n",
    "julia> bar([1, 2], [1, 2])\n",
    "1\n",
    "```\n",
    "\"\"\"\n",
    "function bar(x, y) ..."
   ]
  },
  {
   "cell_type": "markdown",
   "id": "c9341d90",
   "metadata": {},
   "source": [
    "如上例所示，我们推荐在写文档时遵守一些简单约定：\n",
    "\n",
    "1. 始终在文档顶部显示函数的签名并带有四空格缩进，以便能够显示成 Julia 代码。\n",
    "    \n",
    "\n",
    "   这和在 Julia 代码中的签名是一样的（比如 `mean(x::AbstractArray)`），或是简化版。可选参数应该尽可能与默认值一同显示（例如 `f(x, y=1)`），这与实际的 Julia 语法一致。没有默认值的可选参数应该放在括号中（例如 `f(x[, y])` 和 `f(x[, y[, z]])`）。可选的解决方法是使用多行：一个没有可选参数，其他的拥有可选参数（或者多个可选参数）。这个解决方案也可以用作给某个函数的多个方法来写文档。当一个函数接收到多个关键字参数，只在签名中包含占位符 `<keyword arguments>`（例如 `f(x; <keyword arguments>)`），并在 `# Arguments` 章节给出完整列表（参照下列第 4 点）。"
   ]
  },
  {
   "cell_type": "code",
   "execution_count": null,
   "id": "bf7a9cca",
   "metadata": {},
   "outputs": [],
   "source": [
    "\n",
    "2. 在简化的签名块后请包含一个描述函数能做什么或者对象代表什么的单行句。如果需要的话，在一个空行之后，在第二段提供更详细的信息。"
   ]
  },
  {
   "cell_type": "markdown",
   "id": "75260b23",
   "metadata": {},
   "source": [
    "撰写函数的文档时，单行语句应使用祈使结构（比如「Do this」、「Return that」）而非第三人称（不要写「Returns the length...」）。并且应以句号结尾。如果函数的意义不能简单地总结，更好的方法是分成分开的组合句（虽然这不应被看做是对于每种情况下的绝对要求）。"
   ]
  },
  {
   "cell_type": "code",
   "execution_count": null,
   "id": "be9541e4",
   "metadata": {},
   "outputs": [],
   "source": [
    "\n",
    "3. 不要自我重复。"
   ]
  },
  {
   "cell_type": "markdown",
   "id": "84a3680f",
   "metadata": {},
   "source": [
    "因为签名给出了函数名，所以没有必要用「The function `bar`...」开始文档：直接说要点。类似地，如果签名指定了参数的类型，在描述中提到这些是多余的。"
   ]
  },
  {
   "cell_type": "code",
   "execution_count": null,
   "id": "446803f8",
   "metadata": {},
   "outputs": [],
   "source": [
    "\n",
    "4. 只在确实必要时提供参数列表。"
   ]
  },
  {
   "cell_type": "markdown",
   "id": "f7609e4c",
   "metadata": {},
   "source": [
    "对于简单函数，直接在函数目的的描述中提到参数的作用常常更加清楚。参数列表只会重复再其他地方提供过的信息。但是，对于拥有多个参数的（特别是含有关键字参数的）复杂函数来说，提供一个参数列表是个好主意。在这种情况下，请在函数的一般描述之后、标题 `# Arguments` 之下插入参数列表，并在每个参数前加个着重号 `-`。参数列表应该提到参数的类型和默认值（如果有）："
   ]
  },
  {
   "cell_type": "markdown",
   "id": "8f72cd48",
   "metadata": {},
   "source": [
    "```julia\n",
    "   \"\"\"\n",
    "   ...\n",
    "   # Arguments\n",
    "   - `n::Integer`: the number of elements to compute.\n",
    "   - `dim::Integer=1`: the dimensions along which to perform the computation.\n",
    "   ...\n",
    "   \"\"\"\n",
    "   ```\n",
    "5. 给相关函数提供提示。\n",
    "\n",
    "   有时会存在具有功能相联系的函数。为了更易于发现相关函数，请在段落 `See also:` 中为其提供一个小列表。\n",
    "    \n",
    "\n",
    "   ```\n",
    "   See also: [`bar!`](@ref), [`baz`](@ref), [`baaz`](@ref)\n",
    "   ```\n",
    "6. 请在 `# Examples` 中包含一些代码例子。\n",
    "\n",
    "   例子应尽可能按照 *doctest* 来写。*doctest* 是一个栅栏分隔开的代码块（请参阅[代码块](@ref)），其以 ````` ```jldoctest````` 开头并包含任意数量的提示符 `julia>` 以及用来模拟 Julia REPL 的输入和预期输出。"
   ]
  },
  {
   "cell_type": "markdown",
   "id": "abb80e31",
   "metadata": {},
   "source": [
    "!!! note\n",
    "       Doctest 由 [`Documenter.jl`](https://github.com/JuliaDocs/Documenter.jl) 支持。有关更详细的文档，请参阅 Documenter 的[手册](https://juliadocs.github.io/Documenter.jl/)。\n",
    "\n",
    "   例如在下面的 docstring 中定义了变量 `a`，预期的输出，跟在 Julia REPL 中打印的一样，出现在后面。\n",
    "    \n",
    "\n",
    "   ````julia\n",
    "   \"\"\"\n",
    "   Some nice documentation here.\n",
    "\n",
    "   # Examples\n",
    "   ```jldoctest\n",
    "   julia> a = [1 2; 3 4]\n",
    "   2×2 Array{Int64,2}:\n",
    "    1  2\n",
    "    3  4\n",
    "   ```\n",
    "   \"\"\"\n",
    "   ````\n",
    "\n",
    "   !!! warning\n",
    "       Calling `rand` and other RNG-related functions should be avoided in doctests since they will not\n",
    "       produce consistent outputs during different Julia sessions. If you would like to show some random\n",
    "       number generation related functionality, one option is to explicitly construct and seed your own\n",
    "       [`MersenneTwister`](@ref) (or other pseudorandom number generator) and pass it to the functions you are\n",
    "       doctesting."
   ]
  },
  {
   "cell_type": "code",
   "execution_count": null,
   "id": "dabe643b",
   "metadata": {},
   "outputs": [],
   "source": [
    "Operating system word size ([`Int32`](@ref) or [`Int64`](@ref)) as well as path separator differences\n",
    "(`/` or `\\`) will also affect the reproducibility of some doctests.\n",
    "\n",
    "Note that whitespace in your doctest is significant! The doctest will fail if you misalign the\n",
    "output of pretty-printing an array, for example."
   ]
  },
  {
   "cell_type": "markdown",
   "id": "4169c4f3",
   "metadata": {},
   "source": [
    "你可以运行 `make -C doc doctest=true` 来运行在 Julia 手册和 API 文档中的 doctests，这样可以确保你的例子都能正常运行。\n",
    "    \n",
    "\n",
    "   为了表示输出结果被截断了，你应该在校验应该停止的一行写上 `[...]`。这个在当 doctest 显示有个异常被抛出时隐藏堆栈跟踪时很有用（堆栈跟踪包含对 julia 代码的行的非永久引用），例如："
   ]
  },
  {
   "cell_type": "markdown",
   "id": "57e6eae2",
   "metadata": {},
   "source": [
    "````julia\n",
    "   ```jldoctest\n",
    "   julia> div(1, 0)\n",
    "   ERROR: DivideError: integer division error\n",
    "   [...]\n",
    "   ```\n",
    "   ````\n",
    "\n",
    "   那些不能进行测试的例子应该写在以 ````` ```julia````` 开头的栅栏分隔的代码块中，以便在生成的文档中正确地高亮显示。\n",
    "    \n",
    "\n",
    "   !!! tip\n",
    "       例子应尽可能**独立**和**可运行**以便读者可以在不需要引入任何依赖的情况下对它们进行实验。\n",
    "7. 使用倒引号来标识代码和方程。\n",
    "\n",
    "   Julia 标识符和代码摘录应该出现在倒引号 ``` ` ``` 之间来使其能高亮显示。LaTeX 语法下的方程应该插入到双倒引号 ``` `` ``` 之间。请使用 Unicode 字符而非 LaTeX 转义序列，比如 ``` ``α = 1`` ``` 而非 ``` ``\\\\alpha = 1`` ```。"
   ]
  },
  {
   "cell_type": "code",
   "execution_count": null,
   "id": "2dd0209e",
   "metadata": {},
   "outputs": [],
   "source": [
    "\n",
    "8. 请将起始和结束的`\"\"\"`符号单独成行。"
   ]
  },
  {
   "cell_type": "markdown",
   "id": "1d7e700f",
   "metadata": {},
   "source": [
    "也就是说，请写：\n",
    "\n",
    "   ```julia\n",
    "   \"\"\"\n",
    "   ...\n",
    "\n",
    "   ...\n",
    "   \"\"\"\n",
    "   f(x, y) = ...\n",
    "   ```\n",
    "\n",
    "   而非：\n",
    "\n",
    "   ```julia\n",
    "   \"\"\"...\n",
    "\n",
    "   ...\"\"\"\n",
    "   f(x, y) = ...\n",
    "   ```\n",
    "\n",
    "   这将让 docstring 的起始和结束位置更加清楚。\n",
    "9. 请在代码中遵守单行长度限制。\n",
    "\n",
    "   Docstring 是使用与代码相同的工具编辑的。所以应运用同样的约定。 建议一行 92 个字符后换行。\n",
    "    \n",
    "6. 请在 `# Implementation` 章节中提供自定义类型如何实现该函数的信息。这些实现细节是针对开发者而非用户的，解释了例如哪些函数应该被重写、哪些函数自动使用恰当的回退函数等信息，最好与描述函数的主体描述分开。"
   ]
  },
  {
   "cell_type": "code",
   "execution_count": null,
   "id": "27f37710",
   "metadata": {},
   "outputs": [],
   "source": [
    "\n",
    "5. 对于长文档字符串，可以考虑使用 `# Extended help` 头拆分文档。典型的帮助模式将只显示标题上方的内容；你可以通过添加一个 `?` 在表达的开头来查看完整的文档（即 `??foo` 而不是 `?foo`）。"
   ]
  },
  {
   "cell_type": "markdown",
   "id": "5209429a",
   "metadata": {},
   "source": [
    "## 访问文档\n",
    "\n",
    "文档可以在REPL中访问，也可以在 [IJulia](https://github.com/JuliaLang/IJulia.jl)\n",
    "中通过键入`?`紧接函数或者宏的名字并按下`Enter`访问。例如，"
   ]
  },
  {
   "cell_type": "code",
   "execution_count": null,
   "id": "f8247f0c",
   "metadata": {
    "attributes": {
     "classes": [
      "julia"
     ],
     "id": ""
    }
   },
   "outputs": [],
   "source": [
    "?cos\n",
    "?@time\n",
    "?r\"\""
   ]
  },
  {
   "cell_type": "markdown",
   "id": "9103c1d7",
   "metadata": {},
   "source": [
    "会分别为相应的函数，宏或者字符显示文档。在 [Juno](http://junolab.org) 中，使用 `Ctrl-J, Ctrl-D` 会为光标处的对象显示文档。\n",
    "\n",
    "## 函数与方法\n",
    "\n",
    "在Julia中函数可能有多种实现，被称为方法。虽然通用函数\n",
    "一般只有一个目的，Julia允许在必要时可以对方法独立写文档。\n",
    "通常，应该只有最通用的方法才有文档，或者甚至只是函数本身\n",
    "（也就是在`function bar end`之前没有任何方法的对象）。特定方法应该\n",
    "只因为其行为与其他通用方法有所区别才写文档。在任何情况下都不应\n",
    "重复其他地方有的信息。例如"
   ]
  },
  {
   "cell_type": "code",
   "execution_count": null,
   "id": "d5f1fc8d",
   "metadata": {
    "attributes": {
     "classes": [
      "julia"
     ],
     "id": ""
    }
   },
   "outputs": [],
   "source": [
    "\"\"\"\n",
    "    *(x, y, z...)\n",
    "\n",
    "Multiplication operator. `x * y * z *...` calls this function with multiple\n",
    "arguments, i.e. `*(x, y, z...)`.\n",
    "\"\"\"\n",
    "function *(x, y, z...)\n",
    "    # ... [implementation sold separately] ...\n",
    "end\n",
    "\n",
    "\"\"\"\n",
    "    *(x::AbstractString, y::AbstractString, z::AbstractString...)\n",
    "\n",
    "When applied to strings, concatenates them.\n",
    "\"\"\"\n",
    "function *(x::AbstractString, y::AbstractString, z::AbstractString...)\n",
    "    # ... [insert secret sauce here] ...\n",
    "end\n",
    "\n",
    "help?> *\n",
    "search: * .*\n",
    "\n",
    "  *(x, y, z...)\n",
    "\n",
    "  Multiplication operator. x * y * z *... calls this function with multiple\n",
    "  arguments, i.e. *(x,y,z...).\n",
    "\n",
    "  *(x::AbstractString, y::AbstractString, z::AbstractString...)\n",
    "\n",
    "  When applied to strings, concatenates them."
   ]
  },
  {
   "cell_type": "markdown",
   "id": "16fa100a",
   "metadata": {},
   "source": [
    "当从通用函数里抽取文档时，每个方法的元数据会用函数`catdoc`拼接，其当然可以被自定义类型重写。\n",
    "\n",
    "## 进阶用法\n",
    "\n",
    "`@doc` 宏将它的第一个参数与它的第二个参数关联在各个模块的名为 `META` 的字典中。\n",
    "\n",
    "为了让写文档更加简单，语法分析器对宏名`@doc`特殊对待：如果`@doc`的调用只有一个参数，但是在下一行出现了另外一个表达式，那么这个表达式就会追加为宏的参数。所以接下来的语法会被分析成`@doc`的2个参数的调用："
   ]
  },
  {
   "cell_type": "code",
   "execution_count": null,
   "id": "56f6b49d",
   "metadata": {
    "attributes": {
     "classes": [
      "julia"
     ],
     "id": ""
    }
   },
   "outputs": [],
   "source": [
    "@doc raw\"\"\"\n",
    "...\n",
    "\"\"\"\n",
    "f(x) = x"
   ]
  },
  {
   "cell_type": "markdown",
   "id": "6cda0c29",
   "metadata": {},
   "source": [
    "这就让使用任意对象（这里指的是原始字符串 `raw\"\"`）作为 docstring 变得简单。\n",
    "\n",
    "当`@doc`宏（或者`doc`函数）用作抽取文档时，他会在所有的`META`字典寻找与对象相关的元数据并且返回。返回的对象（例如一些Markdown内容）会默认智能地显示。这个设计也让以编程方法使用文档系统变得容易；例如，在一个函数的不同版本中重用文档："
   ]
  },
  {
   "cell_type": "code",
   "execution_count": null,
   "id": "3fcff5f4",
   "metadata": {
    "attributes": {
     "classes": [
      "julia"
     ],
     "id": ""
    }
   },
   "outputs": [],
   "source": [
    "@doc \"...\" foo!\n",
    "@doc (@doc foo!) foo"
   ]
  },
  {
   "cell_type": "markdown",
   "id": "b7db4722",
   "metadata": {},
   "source": [
    "或者与Julia的元编程功能一起使用："
   ]
  },
  {
   "cell_type": "code",
   "execution_count": null,
   "id": "cc0b0916",
   "metadata": {
    "attributes": {
     "classes": [
      "julia"
     ],
     "id": ""
    }
   },
   "outputs": [],
   "source": [
    "for (f, op) in ((:add, :+), (:subtract, :-), (:multiply, :*), (:divide, :/))\n",
    "    @eval begin\n",
    "        $f(a,b) = $op(a,b)\n",
    "    end\n",
    "end\n",
    "@doc \"`add(a,b)` adds `a` and `b` together\" add\n",
    "@doc \"`subtract(a,b)` subtracts `b` from `a`\" subtract"
   ]
  },
  {
   "cell_type": "markdown",
   "id": "e86c5dcd",
   "metadata": {},
   "source": [
    "写在非顶级块，比如`begin`, `if`, `for`, 和 `let`，中的文档会根据块的评估情况加入文档系统中，例如："
   ]
  },
  {
   "cell_type": "code",
   "execution_count": null,
   "id": "d69a94f2",
   "metadata": {
    "attributes": {
     "classes": [
      "julia"
     ],
     "id": ""
    }
   },
   "outputs": [],
   "source": [
    "if condition()\n",
    "    \"...\"\n",
    "    f(x) = x\n",
    "end"
   ]
  },
  {
   "cell_type": "markdown",
   "id": "a305ea76",
   "metadata": {},
   "source": [
    "会被加到`f(x)`的文档中，当`condition()`是`true`的时候。注意即使`f(x)`在块的末尾离开了作用域，他的文档还会保留。\n",
    "\n",
    "可以利用元编程来帮助创建文档。当在文档字符串中使用字符串插值时，需要使用额外的 `$` 例如：`$($name)`"
   ]
  },
  {
   "cell_type": "code",
   "execution_count": null,
   "id": "c390f4e3",
   "metadata": {
    "attributes": {
     "classes": [
      "julia"
     ],
     "id": ""
    }
   },
   "outputs": [],
   "source": [
    "for func in (:day, :dayofmonth)\n",
    "    name = string(func)\n",
    "    @eval begin\n",
    "        @doc \"\"\"\n",
    "            $($name)(dt::TimeType) -> Int64\n",
    "\n",
    "        The day of month of a `Date` or `DateTime` as an `Int64`.\n",
    "        \"\"\" $func(dt::Dates.TimeType)\n",
    "    end\n",
    "end"
   ]
  },
  {
   "cell_type": "markdown",
   "id": "8a04188a",
   "metadata": {},
   "source": [
    "### 动态写文档\n",
    "\n",
    "有些时候类型的实例的合适的文档并非只取决于类型本身，也取决于实例的值。在这些情况下，你可以添加一个方法给自定义类型的`Docs.getdoc`函数，返回基于每个实例的文档。例如，"
   ]
  },
  {
   "cell_type": "code",
   "execution_count": null,
   "id": "97b18501",
   "metadata": {
    "attributes": {
     "classes": [
      "julia"
     ],
     "id": ""
    }
   },
   "outputs": [],
   "source": [
    "struct MyType\n",
    "    value::String\n",
    "end\n",
    "\n",
    "Docs.getdoc(t::MyType) = \"Documentation for MyType with value $(t.value)\"\n",
    "\n",
    "x = MyType(\"x\")\n",
    "y = MyType(\"y\")"
   ]
  },
  {
   "cell_type": "markdown",
   "id": "67f33832",
   "metadata": {},
   "source": [
    "输入`?x`会显示\"Documentation for MyType with value x\"，输入`?y`则会显示\"Documentation for MyType with value y\"。\n",
    "\n",
    "## 语法指南\n",
    "\n",
    "本指南提供了如何将文档附加到所有可能的 Julia 语法构造的全面概述。\n",
    "\n",
    "在下述例子中`\"...\"`用来表示任意的docstring。\n",
    "\n",
    "### `$` 与 `\\` 字符\n",
    "\n",
    "`$` 和 `\\` 字符仍然被解析为字符串插值或转义序列的开始字符。\n",
    "`raw\"\"` 字符串宏和 `@doc` 宏可以用来避免对它们进行转义。\n",
    "当文档字符串包含 LaTeX 或 Julia 源代码，且示例中包含插值时，这是很方便的:"
   ]
  },
  {
   "cell_type": "code",
   "execution_count": null,
   "id": "062ad67a",
   "metadata": {
    "attributes": {
     "classes": [
      "julia"
     ],
     "id": ""
    }
   },
   "outputs": [],
   "source": [
    "@doc raw\"\"\"\n",
    "```math\n",
    "\\LaTeX\n",
    "```\n",
    "\"\"\"\n",
    "function f end"
   ]
  },
  {
   "cell_type": "markdown",
   "id": "b019b113",
   "metadata": {},
   "source": [
    "### 函数与方法"
   ]
  },
  {
   "cell_type": "code",
   "execution_count": null,
   "id": "dca18e29",
   "metadata": {
    "attributes": {
     "classes": [
      "julia"
     ],
     "id": ""
    }
   },
   "outputs": [],
   "source": [
    "\"...\"\n",
    "function f end\n",
    "\n",
    "\"...\"\n",
    "f"
   ]
  },
  {
   "cell_type": "markdown",
   "id": "61ac15d2",
   "metadata": {},
   "source": [
    "把 docstring `\"...\"` 添加给了函数 `f`。首选的语法是第一种，虽然两者是等价的。"
   ]
  },
  {
   "cell_type": "code",
   "execution_count": null,
   "id": "533ac36c",
   "metadata": {
    "attributes": {
     "classes": [
      "julia"
     ],
     "id": ""
    }
   },
   "outputs": [],
   "source": [
    "\"...\"\n",
    "f(x) = x\n",
    "\n",
    "\"...\"\n",
    "function f(x)\n",
    "    x\n",
    "end\n",
    "\n",
    "\"...\"\n",
    "f(x)"
   ]
  },
  {
   "cell_type": "markdown",
   "id": "42cd8a73",
   "metadata": {},
   "source": [
    "把 docstring `\"...\"` 添加给了方法 `f(::Any)`。"
   ]
  },
  {
   "cell_type": "code",
   "execution_count": null,
   "id": "135f4eb8",
   "metadata": {
    "attributes": {
     "classes": [
      "julia"
     ],
     "id": ""
    }
   },
   "outputs": [],
   "source": [
    "\"...\"\n",
    "f(x, y = 1) = x + y"
   ]
  },
  {
   "cell_type": "markdown",
   "id": "e6f30671",
   "metadata": {},
   "source": [
    "把 docstring `\"...\"` 添加给了两个方法，分别为 `f(::Any)` 和 `f(::Any, ::Any)`。\n",
    "\n",
    "### 宏"
   ]
  },
  {
   "cell_type": "code",
   "execution_count": null,
   "id": "a4c01db7",
   "metadata": {
    "attributes": {
     "classes": [
      "julia"
     ],
     "id": ""
    }
   },
   "outputs": [],
   "source": [
    "\"...\"\n",
    "macro m(x) end"
   ]
  },
  {
   "cell_type": "markdown",
   "id": "85ef2b7c",
   "metadata": {},
   "source": [
    "把 docstring `\"...\"` 添加给了宏 `@m(::Any)` 的定义。"
   ]
  },
  {
   "cell_type": "code",
   "execution_count": null,
   "id": "c70f55fe",
   "metadata": {
    "attributes": {
     "classes": [
      "julia"
     ],
     "id": ""
    }
   },
   "outputs": [],
   "source": [
    "\"...\"\n",
    ":(@m)"
   ]
  },
  {
   "cell_type": "markdown",
   "id": "ad8a4c95",
   "metadata": {},
   "source": [
    "把 docstring `\"...\"` 添加给了名为 `@m` 的宏。\n",
    "\n",
    "### 类型"
   ]
  },
  {
   "cell_type": "code",
   "execution_count": null,
   "id": "3fef1c05",
   "metadata": {},
   "outputs": [],
   "source": [
    "\"...\"\n",
    "abstract type T1 end\n",
    "\n",
    "\"...\"\n",
    "mutable struct T2\n",
    "    ...\n",
    "end\n",
    "\n",
    "\"...\"\n",
    "struct T3\n",
    "    ...\n",
    "end"
   ]
  },
  {
   "cell_type": "markdown",
   "id": "c29f8a42",
   "metadata": {},
   "source": [
    "把 docstring `\"...\"` 添加给了类型 `T1`、`T2` 和 `T3`。"
   ]
  },
  {
   "cell_type": "code",
   "execution_count": null,
   "id": "8cc9ed7e",
   "metadata": {
    "attributes": {
     "classes": [
      "julia"
     ],
     "id": ""
    }
   },
   "outputs": [],
   "source": [
    "\"...\"\n",
    "struct T\n",
    "    \"x\"\n",
    "    x\n",
    "    \"y\"\n",
    "    y\n",
    "end"
   ]
  },
  {
   "cell_type": "markdown",
   "id": "86b5f64d",
   "metadata": {},
   "source": [
    "把 docstring `\"...\"` 添加给了类型 `T`，`\"x\"` 添加给字段 `T.x`，`\"y\"` 添加给字段 `T.y`。也可以运用于`mutable struct` 类型。\n",
    "\n",
    "### 模块"
   ]
  },
  {
   "cell_type": "code",
   "execution_count": null,
   "id": "7e0b12bc",
   "metadata": {
    "attributes": {
     "classes": [
      "julia"
     ],
     "id": ""
    }
   },
   "outputs": [],
   "source": [
    "\"...\"\n",
    "module M end\n",
    "\n",
    "module M\n",
    "\n",
    "\"...\"\n",
    "M\n",
    "\n",
    "end"
   ]
  },
  {
   "cell_type": "markdown",
   "id": "ea4d8899",
   "metadata": {},
   "source": [
    "把 docstring `\"...\"` 添加给了模块 `M`。首选的语法是在模块之前添加 docstring，虽然两者是等价的。"
   ]
  },
  {
   "cell_type": "code",
   "execution_count": null,
   "id": "9b0f867f",
   "metadata": {
    "attributes": {
     "classes": [
      "julia"
     ],
     "id": ""
    }
   },
   "outputs": [],
   "source": [
    "\"...\"\n",
    "baremodule M\n",
    "# ...\n",
    "end\n",
    "\n",
    "baremodule M\n",
    "\n",
    "import Base: @doc\n",
    "\n",
    "\"...\"\n",
    "f(x) = x\n",
    "\n",
    "end"
   ]
  },
  {
   "cell_type": "markdown",
   "id": "b88a0245",
   "metadata": {},
   "source": [
    "通过把 docstring 放在表达式之上来给一个 `baremodule` 写文档会在模块中自动引入 `@doc`。它在模块表达式并没有文档时必须手动引入。空的 `baremodule` 不能有文档。\n",
    "\n",
    "### 全局变量"
   ]
  },
  {
   "cell_type": "code",
   "execution_count": null,
   "id": "3636cbb1",
   "metadata": {
    "attributes": {
     "classes": [
      "julia"
     ],
     "id": ""
    }
   },
   "outputs": [],
   "source": [
    "\"...\"\n",
    "const a = 1\n",
    "\n",
    "\"...\"\n",
    "b = 2\n",
    "\n",
    "\"...\"\n",
    "global c = 3"
   ]
  },
  {
   "cell_type": "markdown",
   "id": "6ed834b0",
   "metadata": {},
   "source": [
    "把docstring`\"...\"`添加给了`绑定` `a`，`b`和`c`。\n",
    "\n",
    "`绑定`是用来在`模块`中存储对于特定`符号`的引用而非存储被引用的值本身。\n",
    "\n",
    "!!! note\n",
    "    当一个 `const` 定义只是用作定义另外一个定义的别名时，比如函数 `div` 和其在 `Base` 中的别名 `÷`，并不要为别名写文档，转而去为实际的函数写文档。"
   ]
  },
  {
   "cell_type": "code",
   "execution_count": null,
   "id": "64824bf8",
   "metadata": {},
   "outputs": [],
   "source": [
    "如果别名写了文档而实际定义没有，那么文档系统（`?` 模式）在寻找实际定义的文档时将不会返回别名的对应文档。\n",
    "\n",
    "比如你应该写\n",
    "\n",
    "```julia\n",
    "\"...\"\n",
    "f(x) = x + 1\n",
    "const alias = f\n",
    "```\n",
    "\n",
    "而非\n",
    "\n",
    "```julia\n",
    "f(x) = x + 1\n",
    "\"...\"\n",
    "const alias = f\n",
    "```"
   ]
  },
  {
   "cell_type": "code",
   "execution_count": null,
   "id": "0a34400f",
   "metadata": {
    "attributes": {
     "classes": [
      "julia"
     ],
     "id": ""
    }
   },
   "outputs": [],
   "source": [
    "\"...\"\n",
    "sym"
   ]
  },
  {
   "cell_type": "markdown",
   "id": "5a58e483",
   "metadata": {},
   "source": [
    "把 docstring `\"...\"` 添加给值 `sym`。但是应首选在 `sym` 的定义处写文档。\n",
    "\n",
    "### 多重对象"
   ]
  },
  {
   "cell_type": "code",
   "execution_count": null,
   "id": "3469efb0",
   "metadata": {
    "attributes": {
     "classes": [
      "julia"
     ],
     "id": ""
    }
   },
   "outputs": [],
   "source": [
    "\"...\"\n",
    "a, b"
   ]
  },
  {
   "cell_type": "markdown",
   "id": "a239d2d8",
   "metadata": {},
   "source": [
    "把docstring `\"...\"` 添加给`a`和`b`，两个都应该是可以写文档的表达式。这个语法等价于"
   ]
  },
  {
   "cell_type": "code",
   "execution_count": null,
   "id": "21f98d31",
   "metadata": {
    "attributes": {
     "classes": [
      "julia"
     ],
     "id": ""
    }
   },
   "outputs": [],
   "source": [
    "\"...\"\n",
    "a\n",
    "\n",
    "\"...\"\n",
    "b"
   ]
  },
  {
   "cell_type": "markdown",
   "id": "e2dba519",
   "metadata": {},
   "source": [
    "这种方法可以给任意数量的表达式写文档。当两个函数相关，比如非变版本`f`和可变版本`f!`，这个语法是有用的。\n",
    "\n",
    "### 宏生成代码"
   ]
  },
  {
   "cell_type": "code",
   "execution_count": null,
   "id": "689c333f",
   "metadata": {
    "attributes": {
     "classes": [
      "julia"
     ],
     "id": ""
    }
   },
   "outputs": [],
   "source": [
    "\"...\"\n",
    "@m expression"
   ]
  },
  {
   "cell_type": "markdown",
   "id": "232fa977",
   "metadata": {},
   "source": [
    "把docstring `\"...\"` 添加给通过展开 `@m expression` 生成的表达式。\n",
    "这就允许由 `@inline`、`@noinline`、`@generated` 或者任意其他宏装饰的表达式，能和没有装饰的表达式以同样的方式写文档。\n",
    "\n",
    "宏作者应该注意到只有只生成单个表达式的宏才会自动支持docstring。如果宏返回的是含有多个子表达式的块，需要写文档的子表达式应该使用宏 [`@__doc__`](@ref Core.@__doc__) 标记。\n",
    "\n",
    "[`@enum`](@ref) 宏使用了 `@__doc__` 来允许给 `Enum` 写文档。它的做法可以作为如何正确使用 `@__doc__` 的范例。"
   ]
  },
  {
   "cell_type": "code",
   "execution_count": null,
   "id": "5b6a9caa",
   "metadata": {
    "attributes": {
     "classes": [
      "@docs"
     ],
     "id": ""
    }
   },
   "outputs": [],
   "source": [
    "Core.@__doc__"
   ]
  }
 ],
 "metadata": {},
 "nbformat": 4,
 "nbformat_minor": 5
}
