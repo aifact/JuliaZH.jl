{
 "cells": [
  {
   "cell_type": "markdown",
   "id": "dce66afd",
   "metadata": {},
   "source": [
    "# 调用 C 和 Fortran 代码\n",
    "\n",
    "在数值计算领域，尽管有很多用 C 语言或 Fortran 写的高质量且成熟的库都可以用 Julia 重写，但为了便捷利用现有的 C 或 Fortran 代码，Julia 提供简洁且高效的调用方式。Julia 的哲学是 `no boilerplate`：\n",
    "Julia 可以直接调用 C/Fortran 的函数，不需要任何\"胶水\"代码，代码生成或其它编译过程 -- 即使在交互式会话 (REPL/Jupyter notebook) 中使用也一样. 在 Julia 中，上述特性可以仅仅通过调用 [`ccall`](@ref) 实现，它的语法看起来就像是普通的函数调用。\n",
    "\n",
    "The code to be called must be available as a shared library. Most C and Fortran libraries ship\n",
    "compiled as shared libraries already, but if you are compiling the code yourself using GCC (or\n",
    "Clang), you will need to use the `-shared` and `-fPIC` options. The machine instructions generated\n",
    "by Julia's JIT are the same as a native C call would be, so the resulting overhead is the same\n",
    "as calling a library function from C code. [^1]\n",
    "\n",
    "Shared libraries and functions are referenced by a tuple of the form `(:function, \"library\")`\n",
    "or `(\"function\", \"library\")` where `function` is the C-exported function name, and `library` refers\n",
    "to the shared library name.  Shared libraries available in the (platform-specific) load path will\n",
    "be resolved by name.  The full path to the library may also be specified.\n",
    "\n",
    "可以单独使用函数名来代替元组（只用 `:function` 或 `\"function\"`）。在这种情况下，函数名在当前进程中进行解析。这一调用形式可用于调用 C 库函数、Julia 运行时中的函数或链接到 Julia 的应用程序中的函数。\n",
    "\n",
    "默认情况下，Fortran 编译器会[进行名称修饰](https://en.wikipedia.org/wiki/Name_mangling#Fortran)（例如，将函数名转换为小写或大写，通常会添加下划线），要通过 [`ccall`](@ref) 调用 Fortran 函数，传递的标识符必须与 Fortran 编译器名称修饰之后的一致。此外，在调用 Fortran 函数时，**所有**输入必须以指针形式传递，并已在堆或栈上分配内存。这不仅适用于通常是堆分配的数组及可变对象，而且适用于整数和浮点数等标量值，尽管这些值通常是栈分配的，且在使用 C 或 Julia 调用约定时通常是通过寄存器传递的。\n",
    "\n",
    "Finally, you can use [`ccall`](@ref) to actually generate a call to the library function. The arguments\n",
    "to [`ccall`](@ref) are:\n",
    "\n",
    "1. A `(:function, \"library\")` pair (most common),\n",
    "\n",
    "   或\n",
    "\n",
    "   a `:function` name symbol or `\"function\"` name string (for symbols in the current process or libc),\n",
    "\n",
    "   或\n",
    "\n",
    "   一个函数指针（例如，从 `dlsym` 获得的指针）。\n",
    "\n",
    "2. The function's return type\n",
    "\n",
    "3. A tuple of input types, corresponding to the function signature\n",
    "\n",
    "4. The actual argument values to be passed to the function, if any; each is a separate parameter.\n",
    "\n",
    "!!! note\n",
    "    The `(:function, \"library\")` pair, return type, and input types must be literal constants\n",
    "    (i.e., they can't be variables, but see [Non-constant Function Specifications](@ref) below)."
   ]
  },
  {
   "cell_type": "code",
   "execution_count": null,
   "id": "12aba6dd",
   "metadata": {},
   "outputs": [],
   "source": [
    "The remaining parameters are evaluated at compile time, when the containing method is defined."
   ]
  },
  {
   "cell_type": "markdown",
   "id": "9c841144",
   "metadata": {},
   "source": [
    "!!! note\n",
    "    See below for how to [map C types to Julia types](@ref mapping-c-types-to-julia).\n",
    "\n",
    "As a complete but simple example, the following calls the `clock` function from the standard C\n",
    "library on most Unix-derived systems:"
   ]
  },
  {
   "cell_type": "code",
   "execution_count": null,
   "id": "9a7353d7",
   "metadata": {
    "attributes": {
     "classes": [
      "julia-repl"
     ],
     "id": ""
    }
   },
   "outputs": [],
   "source": [
    "julia> t = ccall(:clock, Int32, ())\n",
    "2292761\n",
    "\n",
    "julia> t\n",
    "2292761\n",
    "\n",
    "julia> typeof(ans)\n",
    "Int32"
   ]
  },
  {
   "cell_type": "markdown",
   "id": "728c48c0",
   "metadata": {},
   "source": [
    "`clock` takes no arguments and returns an [`Int32`](@ref). One common mistake is forgetting that a 1-tuple of\n",
    "argument types must be written with a trailing comma. For example, to call the `getenv` function\n",
    "to get a pointer to the value of an environment variable, one makes a call like this:"
   ]
  },
  {
   "cell_type": "code",
   "execution_count": null,
   "id": "47c3f00c",
   "metadata": {
    "attributes": {
     "classes": [
      "julia-repl"
     ],
     "id": ""
    }
   },
   "outputs": [],
   "source": [
    "julia> path = ccall(:getenv, Cstring, (Cstring,), \"SHELL\")\n",
    "Cstring(@0x00007fff5fbffc45)\n",
    "\n",
    "julia> unsafe_string(path)\n",
    "\"/bin/bash\""
   ]
  },
  {
   "cell_type": "markdown",
   "id": "77f3c6ae",
   "metadata": {},
   "source": [
    "Note that the argument type tuple must be written as `(Cstring,)`, not `(Cstring)`. This\n",
    "is because `(Cstring)` is just the expression `Cstring` surrounded by parentheses, rather than\n",
    "a 1-tuple containing `Cstring`:"
   ]
  },
  {
   "cell_type": "code",
   "execution_count": null,
   "id": "885282c3",
   "metadata": {
    "attributes": {
     "classes": [
      "jldoctest"
     ],
     "id": ""
    }
   },
   "outputs": [],
   "source": [
    "julia> (Cstring)\n",
    "Cstring\n",
    "\n",
    "julia> (Cstring,)\n",
    "(Cstring,)"
   ]
  },
  {
   "cell_type": "markdown",
   "id": "be3dfc94",
   "metadata": {},
   "source": [
    "In practice, especially when providing reusable functionality, one generally wraps [`ccall`](@ref)\n",
    "uses in Julia functions that set up arguments and then check for errors in whatever manner the\n",
    "C or Fortran function specifies. And if an error occurs it is thrown as a normal Julia exception. This is especially\n",
    "important since C and Fortran APIs are notoriously inconsistent about how they indicate error\n",
    "conditions. For example, the `getenv` C library function is wrapped in the following Julia function,\n",
    "which is a simplified version of the actual definition from [`env.jl`](https://github.com/JuliaLang/julia/blob/master/base/env.jl):"
   ]
  },
  {
   "cell_type": "code",
   "execution_count": null,
   "id": "13b437fa",
   "metadata": {
    "attributes": {
     "classes": [
      "julia"
     ],
     "id": ""
    }
   },
   "outputs": [],
   "source": [
    "function getenv(var::AbstractString)\n",
    "    val = ccall(:getenv, Cstring, (Cstring,), var)\n",
    "    if val == C_NULL\n",
    "        error(\"getenv: undefined variable: \", var)\n",
    "    end\n",
    "    return unsafe_string(val)\n",
    "end"
   ]
  },
  {
   "cell_type": "markdown",
   "id": "15eb0dd0",
   "metadata": {},
   "source": [
    "C 函数 `getenv` 通过返回 `NULL` 的方式进行报错，但是其他 C 标准库函数也会通过多种不同的方式来报错，这包括返回 -1，0，1 以及其它特殊值。此封装能够明确地抛出异常信息，即是否调用者在尝试获取一个不存在的环境变量："
   ]
  },
  {
   "cell_type": "code",
   "execution_count": null,
   "id": "d25f1964",
   "metadata": {
    "attributes": {
     "classes": [
      "julia-repl"
     ],
     "id": ""
    }
   },
   "outputs": [],
   "source": [
    "julia> getenv(\"SHELL\")\n",
    "\"/bin/bash\"\n",
    "\n",
    "julia> getenv(\"FOOBAR\")\n",
    "getenv: undefined variable: FOOBAR"
   ]
  },
  {
   "cell_type": "markdown",
   "id": "a2ab5fd2",
   "metadata": {},
   "source": [
    "Here is a slightly more complex example that discovers the local machine's hostname.\n",
    "In this example, the networking library code is assumed to be in a shared library named \"libc\".\n",
    "In practice, this function is usually part of the C standard library, and so the \"libc\"\n",
    "portion should be omitted, but we wish to show here the usage of this syntax."
   ]
  },
  {
   "cell_type": "code",
   "execution_count": null,
   "id": "f45d39a1",
   "metadata": {
    "attributes": {
     "classes": [
      "julia"
     ],
     "id": ""
    }
   },
   "outputs": [],
   "source": [
    "function gethostname()\n",
    "    hostname = Vector{UInt8}(undef, 256) # MAXHOSTNAMELEN\n",
    "    err = ccall((:gethostname, \"libc\"), Int32,\n",
    "                (Ptr{UInt8}, Csize_t),\n",
    "                hostname, sizeof(hostname))\n",
    "    Base.systemerror(\"gethostname\", err != 0)\n",
    "    hostname[end] = 0 # ensure null-termination\n",
    "    return unsafe_string(pointer(hostname))\n",
    "end"
   ]
  },
  {
   "cell_type": "markdown",
   "id": "d0171e96",
   "metadata": {},
   "source": [
    "This example first allocates an array of bytes. It then calls the C library function `gethostname`\n",
    "to populate the array with the hostname. Finally, it takes a pointer to the hostname buffer, and converts the\n",
    "pointer to a Julia string, assuming that it is a NUL-terminated C string. It is common for C libraries\n",
    "to use this pattern of requiring the caller to allocate memory to be passed to the callee and\n",
    "populated. Allocation of memory from Julia like this is generally accomplished by creating an\n",
    "uninitialized array and passing a pointer to its data to the C function. This is why we don't\n",
    "use the `Cstring` type here: as the array is uninitialized, it could contain NUL bytes. Converting\n",
    "to a `Cstring` as part of the [`ccall`](@ref) checks for contained NUL bytes and could therefore\n",
    "throw a conversion error.\n",
    "\n",
    "## 创建和C兼容的Julia函数指针\n",
    "\n",
    "可以将Julia函数传递给接受函数指针参数的原生C函数。例如，要匹配满足下面的C原型："
   ]
  },
  {
   "cell_type": "code",
   "execution_count": null,
   "id": "a67750bb",
   "metadata": {
    "attributes": {
     "classes": [
      "c"
     ],
     "id": ""
    }
   },
   "outputs": [],
   "source": [
    "typedef returntype (*functiontype)(argumenttype, ...)"
   ]
  },
  {
   "cell_type": "markdown",
   "id": "8136469f",
   "metadata": {},
   "source": [
    "The macro [`@cfunction`](@ref) generates the C-compatible function pointer for a call to a\n",
    "Julia function. The arguments to [`@cfunction`](@ref) are:\n",
    "\n",
    "1. A Julia function\n",
    "2. The function's return type\n",
    "3. A tuple of input types, corresponding to the function signature\n",
    "\n",
    "!!! note\n",
    "    As with `ccall`, the return type and tuple of input types must be literal constants.\n",
    "\n",
    "!!! note\n",
    "    Currently, only the platform-default C calling convention is supported. This means that\n",
    "    `@cfunction`-generated pointers cannot be used in calls where WINAPI expects a `stdcall`\n",
    "    function on 32-bit Windows, but can be used on WIN64 (where `stdcall` is unified with the\n",
    "    C calling convention).\n",
    "\n",
    "一个典型的例子就是标准C库函数`qsort`，定义为："
   ]
  },
  {
   "cell_type": "code",
   "execution_count": null,
   "id": "e2be8dd2",
   "metadata": {
    "attributes": {
     "classes": [
      "c"
     ],
     "id": ""
    }
   },
   "outputs": [],
   "source": [
    "void qsort(void *base, size_t nmemb, size_t size,\n",
    "           int (*compare)(const void*, const void*));"
   ]
  },
  {
   "cell_type": "markdown",
   "id": "5847b726",
   "metadata": {},
   "source": [
    "The `base` argument is a pointer to an array of length `nmemb`, with elements of `size` bytes\n",
    "each. `compare` is a callback function which takes pointers to two elements `a` and `b` and returns\n",
    "an integer less/greater than zero if `a` should appear before/after `b` (or zero if any order\n",
    "is permitted).\n",
    "\n",
    "Now, suppose that we have a 1-d array `A` of values in Julia that we want to sort\n",
    "using the `qsort` function (rather than Julia's built-in `sort` function). Before we consider\n",
    "calling `qsort` and passing arguments, we need to write a comparison function:"
   ]
  },
  {
   "cell_type": "code",
   "execution_count": null,
   "id": "359c27b8",
   "metadata": {},
   "outputs": [],
   "source": [
    "julia> function mycompare(a, b)::Cint\n",
    "           return (a < b) ? -1 : ((a > b) ? +1 : 0)\n",
    "       end\n",
    "mycompare (generic function with 1 method)"
   ]
  },
  {
   "cell_type": "markdown",
   "id": "ed5eddc6",
   "metadata": {},
   "source": [
    "`qsort` expects a comparison function that return a C `int`, so we annotate the return type\n",
    "to be `Cint`.\n",
    "\n",
    "In order to pass this function to C, we obtain its address using the macro `@cfunction`:"
   ]
  },
  {
   "cell_type": "code",
   "execution_count": null,
   "id": "e4b6ee9a",
   "metadata": {},
   "outputs": [],
   "source": [
    "julia> mycompare_c = @cfunction(mycompare, Cint, (Ref{Cdouble}, Ref{Cdouble}));"
   ]
  },
  {
   "cell_type": "markdown",
   "id": "9de876e4",
   "metadata": {},
   "source": [
    "[`@cfunction`](@ref) 需要三个参数: Julia函数 (`mycompare`), 返回值类型(`Cint`), 和一个输入参数类型的值元组, 此处是要排序的`Cdouble`([`Float64`](@ref)) 元素的数组.\n",
    "\n",
    "`qsort`的最终调用看起来是这样的："
   ]
  },
  {
   "cell_type": "code",
   "execution_count": null,
   "id": "d088e9af",
   "metadata": {},
   "outputs": [],
   "source": [
    "julia> A = [1.3, -2.7, 4.4, 3.1]\n",
    "4-element Array{Float64,1}:\n",
    "  1.3\n",
    " -2.7\n",
    "  4.4\n",
    "  3.1\n",
    "\n",
    "julia> ccall(:qsort, Cvoid, (Ptr{Cdouble}, Csize_t, Csize_t, Ptr{Cvoid}),\n",
    "             A, length(A), sizeof(eltype(A)), mycompare_c)\n",
    "\n",
    "julia> A\n",
    "4-element Array{Float64,1}:\n",
    " -2.7\n",
    "  1.3\n",
    "  3.1\n",
    "  4.4"
   ]
  },
  {
   "cell_type": "markdown",
   "id": "20625819",
   "metadata": {},
   "source": [
    "As the example shows, the original Julia array `A` has now been sorted: `[-2.7, 1.3, 3.1, 4.4]`. Note that Julia\n",
    "[takes care of converting the array to a `Ptr{Cdouble}`](@ref automatic-type-conversion)), computing\n",
    "the size of the element type in bytes, and so on.\n",
    "\n",
    "For fun, try inserting a `println(\"mycompare($a, $b)\")` line into `mycompare`, which will allow\n",
    "you to see the comparisons that `qsort` is performing (and to verify that it is really calling\n",
    "the Julia function that you passed to it).\n",
    "\n",
    "## [Mapping C Types to Julia](@id mapping-c-types-to-julia)\n",
    "\n",
    "It is critical to exactly match the declared C type with its declaration in Julia. Inconsistencies\n",
    "can cause code that works correctly on one system to fail or produce indeterminate results on\n",
    "a different system.\n",
    "\n",
    "Note that no C header files are used anywhere in the process of calling C functions: you are responsible\n",
    "for making sure that your Julia types and call signatures accurately reflect those in the C header\n",
    "file.[^2]\n",
    "\n",
    "### [Automatic Type Conversion](@id automatic-type-conversion)\n",
    "\n",
    "Julia automatically inserts calls to the [`Base.cconvert`](@ref) function to convert each argument\n",
    "to the specified type. For example, the following call:"
   ]
  },
  {
   "cell_type": "code",
   "execution_count": null,
   "id": "9e8bb211",
   "metadata": {
    "attributes": {
     "classes": [
      "julia"
     ],
     "id": ""
    }
   },
   "outputs": [],
   "source": [
    "ccall((:foo, \"libfoo\"), Cvoid, (Int32, Float64), x, y)"
   ]
  },
  {
   "cell_type": "markdown",
   "id": "c2e57d0a",
   "metadata": {},
   "source": [
    "will behave as if it were written like this:"
   ]
  },
  {
   "cell_type": "code",
   "execution_count": null,
   "id": "b8022bc8",
   "metadata": {
    "attributes": {
     "classes": [
      "julia"
     ],
     "id": ""
    }
   },
   "outputs": [],
   "source": [
    "ccall((:foo, \"libfoo\"), Cvoid, (Int32, Float64),\n",
    "      Base.unsafe_convert(Int32, Base.cconvert(Int32, x)),\n",
    "      Base.unsafe_convert(Float64, Base.cconvert(Float64, y)))"
   ]
  },
  {
   "cell_type": "markdown",
   "id": "09ebdea6",
   "metadata": {},
   "source": [
    "[`Base.cconvert`](@ref) normally just calls [`convert`](@ref), but can be defined to return an\n",
    "arbitrary new object more appropriate for passing to C.\n",
    "This should be used to perform all allocations of memory that will be accessed by the C code.\n",
    "For example, this is used to convert an `Array` of objects (e.g. strings) to an array of pointers.\n",
    "\n",
    "[`Base.unsafe_convert`](@ref) handles conversion to [`Ptr`](@ref) types. It is considered unsafe because\n",
    "converting an object to a native pointer can hide the object from the garbage collector, causing\n",
    "it to be freed prematurely.\n",
    "\n",
    "### Type Correspondences\n",
    "\n",
    "First, let's review some relevant Julia type terminology:\n",
    "\n",
    "| 语法 / 关键字              | 例子                                     | 描述                                                                                                                                                                                                                                                                    |\n",
    "|:----------------------------- |:------------------------------------------- |:------------------------------------------------------------------------------------------------------------------------------------------------------------------------------------------------------------------------------------------------------------------------------ |\n",
    "| `mutable struct`              | `BitSet`                                    | `Leaf Type`：包含 `type-tag` 的一组相关数据，由 Julia GC 管理，通过 `object-identity` 来定义。为了保证实例可以被构造，`Leaf Type` 必须是完整定义的，即不允许使用 `TypeVars`。              |\n",
    "| `abstract type`               | `Any`, `AbstractArray{T, N}`, `Complex{T}`  | `Super Type`：用于描述一组类型，它不是 `Leaf-Type`，也无法被实例化。                                                                                                                                                      |\n",
    "| `T{A}`                        | `Vector{Int}`                               | `Type Parameter`：某种类型的一种具体化，通常用于分派或存储优化。                                                                                                                                                                          |\n",
    "|                               |                                             | `TypeVar`：`Type parameter` 声明中的 `T` 是一个 `TypeVar`，它是类型变量的简称。                                                                                                                                                                  |\n",
    "| `primitive type`              | `Int`, `Float64`                            | `Primitive Type`：一种没有成员变量的类型，但是它有大小。It is stored and defined by-value.                                                                                                                                                                                           |\n",
    "| `struct`                      | `Pair{Int, Int}`                            | \"Struct\" :: A type with all fields defined to be constant. It is defined by-value, and may be stored with a type-tag.                                                                                                                                                       |\n",
    "|                               | `ComplexF64` (`isbits`)                     | \"Is-Bits\"   :: A `primitive type`, or a `struct` type where all fields are other `isbits` types. It is defined by-value, and is stored without a type-tag.                                                                                                                       |\n",
    "| `struct ...; end`             | `nothing`                                   | `Singleton`：没有成员变量的 `Leaf Type` 或 `Struct`。                                                                                                                                                                                                                        |\n",
    "| `(...)` or `tuple(...)`       | `(1, 2, 3)`                                 | \"Tuple\" :: an immutable data-structure similar to an anonymous struct type, or a constant array. Represented as either an array or a struct.                                                                                                                                |\n",
    "\n",
    "### [Bits Types](@id man-bits-types)\n",
    "\n",
    "There are several special types to be aware of, as no other type can be defined to behave the\n",
    "same:\n",
    "\n",
    "  * `Float32`"
   ]
  },
  {
   "cell_type": "code",
   "execution_count": null,
   "id": "a5f2a70a",
   "metadata": {},
   "outputs": [],
   "source": [
    "和C语言中的 `float` 类型完全对应（以及Fortran中的 `REAL*4` ）"
   ]
  },
  {
   "cell_type": "markdown",
   "id": "ab3ee562",
   "metadata": {},
   "source": [
    "* `Float64`"
   ]
  },
  {
   "cell_type": "code",
   "execution_count": null,
   "id": "1b3e3794",
   "metadata": {},
   "outputs": [],
   "source": [
    "和C语言中的 `double` 类型完全对应（以及Fortran中的 `REAL*8` ）"
   ]
  },
  {
   "cell_type": "markdown",
   "id": "3c1e0125",
   "metadata": {},
   "source": [
    "* `ComplexF32`"
   ]
  },
  {
   "cell_type": "code",
   "execution_count": null,
   "id": "239d8ee8",
   "metadata": {},
   "outputs": [],
   "source": [
    "和C语言中的 `complex float` 类型完全对应（以及Fortran中的 `COMPLEX*8` ）"
   ]
  },
  {
   "cell_type": "markdown",
   "id": "a0c2c569",
   "metadata": {},
   "source": [
    "* `ComplexF64`"
   ]
  },
  {
   "cell_type": "code",
   "execution_count": null,
   "id": "2a7f733b",
   "metadata": {},
   "outputs": [],
   "source": [
    "和C语言中的 `complex double` 类型完全对应（以及Fortran中的 `COMPLEX*16` ）"
   ]
  },
  {
   "cell_type": "markdown",
   "id": "8cda7a43",
   "metadata": {},
   "source": [
    "* `Signed`"
   ]
  },
  {
   "cell_type": "code",
   "execution_count": null,
   "id": "29ad73c4",
   "metadata": {},
   "outputs": [],
   "source": [
    "和C语言中的 `signed` 类型标识完全对应（以及Fortran中的任意 `INTEGER` 类型）\n",
    "Julia中任何不是[`Signed`](@ref) 的子类型的类型，都会被认为是unsigned类型。\n"
   ]
  },
  {
   "cell_type": "markdown",
   "id": "7e577b44",
   "metadata": {},
   "source": [
    "* `Ref{T}`"
   ]
  },
  {
   "cell_type": "code",
   "execution_count": null,
   "id": "1be68b9e",
   "metadata": {},
   "outputs": [],
   "source": [
    "和 `Ptr{T}` 行为相同，能通过Julia的GC管理其内存。\n"
   ]
  },
  {
   "cell_type": "markdown",
   "id": "7d46c3ba",
   "metadata": {},
   "source": [
    "* `Array{T,N}`"
   ]
  },
  {
   "cell_type": "code",
   "execution_count": null,
   "id": "ef5161cc",
   "metadata": {},
   "outputs": [],
   "source": [
    "When an array is passed to C as a `Ptr{T}` argument, it is not reinterpret-cast: Julia requires\n",
    "that the element type of the array matches `T`, and the address of the first element is passed.\n",
    "\n",
    "因此，如果一个 `Array` 中的数据格式不正确，它必须被显式地转换\n",
    "，通过类似 `trunc(Int32, a)` 的函数。\n",
    "\n",
    "若要将一个数组 `A` 以不同类型的指针传递，而*不提前转换数据*，\n",
    "（比如，将一个 `Float64` 数组传给一个处理原生字节的函数时），你\n",
    "可以将这一参数声明为 `Ptr{Cvoid}` 。\n",
    "\n",
    "如果一个元素类型为 `Ptr{T}` 的数组作为 `Ptr{Ptr{T}}` 类型的参数传递， [`Base.cconvert`](@ref) \n",
    "将会首先尝试进行 null-terminated copy（即直到下一个元素为null才停止复制），并将每一个元素使用其通过 [`Base.cconvert`](@ref) 转换后的版本替换。\n",
    "这允许，比如，将一个 `argv` 的指针数组，其类型为\n",
    "`Vector{String}` ，传递给一个类型为 `Ptr{Ptr{Cchar}}` 的参数。"
   ]
  },
  {
   "cell_type": "markdown",
   "id": "2795ce2a",
   "metadata": {},
   "source": [
    "On all systems we currently support, basic C/C++ value types may be translated to Julia types\n",
    "as follows. Every C type also has a corresponding Julia type with the same name, prefixed by C.\n",
    "This can help when writing portable code (and remembering that an `int` in C is not the same as\n",
    "an `Int` in Julia).\n",
    "\n",
    "\n",
    "**System Independent Types**\n",
    "\n",
    "| C 类型                                                  | Fortran 类型             | 标准 Julia 别名 | Julia 基本类型                                                                                                |\n",
    "|:------------------------------------------------------- |:------------------------ |:-------------------- |:-------------------------------------------------------------------------------------------------------------- |\n",
    "| `unsigned char`                                         | `CHARACTER`              | `Cuchar`             | `UInt8`                                                                                                        |\n",
    "| `bool` (_Bool in C99+)                                  |                          | `Cuchar`             | `UInt8`                                                                                                        |\n",
    "| `short`                                                 | `INTEGER*2`, `LOGICAL*2` | `Cshort`             | `Int16`                                                                                                        |\n",
    "| `unsigned short`                                        |                          | `Cushort`            | `UInt16`                                                                                                       |\n",
    "| `int`, `BOOL` (C, typical)                              | `INTEGER*4`, `LOGICAL*4` | `Cint`               | `Int32`                                                                                                        |\n",
    "| `unsigned int`                                          |                          | `Cuint`              | `UInt32`                                                                                                       |\n",
    "| `long long`                                             | `INTEGER*8`, `LOGICAL*8` | `Clonglong`          | `Int64`                                                                                                        |\n",
    "| `unsigned long long`                                    |                          | `Culonglong`         | `UInt64`                                                                                                       |\n",
    "| `intmax_t`                                              |                          | `Cintmax_t`          | `Int64`                                                                                                        |\n",
    "| `uintmax_t`                                             |                          | `Cuintmax_t`         | `UInt64`                                                                                                       |\n",
    "| `float`                                                 | `REAL*4i`                | `Cfloat`             | `Float32`                                                                                                      |\n",
    "| `double`                                                | `REAL*8`                 | `Cdouble`            | `Float64`                                                                                                      |\n",
    "| `complex float`                                         | `COMPLEX*8`              | `ComplexF32`          | `Complex{Float32}`                                                                                             |\n",
    "| `complex double`                                        | `COMPLEX*16`             | `ComplexF64`         | `Complex{Float64}`                                                                                             |\n",
    "| `ptrdiff_t`                                             |                          | `Cptrdiff_t`         | `Int`                                                                                                          |\n",
    "| `ssize_t`                                               |                          | `Cssize_t`           | `Int`                                                                                                          |\n",
    "| `size_t`                                                |                          | `Csize_t`            | `UInt`                                                                                                         |\n",
    "| `void`                                                  |                          |                      | `Cvoid`                                                                                                         |\n",
    "| `void` and `[[noreturn]]` or `_Noreturn`                |                          |                      | `Union{}`                                                                                                      |\n",
    "| `void*`                                                 |                          |                      | `Ptr{Cvoid}`                                                                                                    |\n",
    "| `T*` (where T represents an appropriately defined type) |                          |                      | `Ref{T}`                                                                                                       |\n",
    "| `char*` (or `char[]`, e.g. a string)                    | `CHARACTER*N`            |                      | `Cstring` if NUL-terminated, or `Ptr{UInt8}` if not                                                            |\n",
    "| `char**` (or `*char[]`)                                 |                          |                      | `Ptr{Ptr{UInt8}}`                                                                                              |\n",
    "| `jl_value_t*` (any Julia Type)                          |                          |                      | `Any`                                                                                                          |\n",
    "| `jl_value_t**` (a reference to a Julia Type)            |                          |                      | `Ref{Any}`                                                                                                     |\n",
    "| `va_arg`                                                |                          |                      | Not supported                                                                                                  |\n",
    "| `...` (variadic function specification)                 |                          |                      | `T...` (where `T` is one of the above types, variadic functions of different argument types are not supported) |\n",
    "\n",
    "The [`Cstring`](@ref) type is essentially a synonym for `Ptr{UInt8}`, except the conversion to `Cstring`\n",
    "throws an error if the Julia string contains any embedded NUL characters (which would cause the\n",
    "string to be silently truncated if the C routine treats NUL as the terminator).  If you are passing\n",
    "a `char*` to a C routine that does not assume NUL termination (e.g. because you pass an explicit\n",
    "string length), or if you know for certain that your Julia string does not contain NUL and want\n",
    "to skip the check, you can use `Ptr{UInt8}` as the argument type. `Cstring` can also be used as\n",
    "the [`ccall`](@ref) return type, but in that case it obviously does not introduce any extra\n",
    "checks and is only meant to improve readability of the call.\n",
    "\n",
    "**System Dependent Types**\n",
    "\n",
    "| C 类型          | 标准 Julia 别名 | Julia 基本类型                              |\n",
    "|:--------------- |:-------------------- |:-------------------------------------------- |\n",
    "| `char`          | `Cchar`              | `Int8` (x86, x86_64), `UInt8` (powerpc, arm) |\n",
    "| `long`          | `Clong`              | `Int` (UNIX), `Int32` (Windows)              |\n",
    "| `unsigned long` | `Culong`             | `UInt` (UNIX), `UInt32` (Windows)            |\n",
    "| `wchar_t`       | `Cwchar_t`           | `Int32` (UNIX), `UInt16` (Windows)           |\n",
    "\n",
    "!!! note\n",
    "    When calling Fortran, all inputs must be passed by pointers to heap- or stack-allocated\n",
    "    values, so all type correspondences above should contain an additional `Ptr{..}` or\n",
    "    `Ref{..}` wrapper around their type specification.\n",
    "\n",
    "!!! warning\n",
    "    For string arguments (`char*`) the Julia type should be `Cstring` (if NUL- terminated data is\n",
    "    expected), or either `Ptr{Cchar}` or `Ptr{UInt8}` otherwise (these two pointer types have the same\n",
    "    effect), as described above, not `String`. Similarly, for array arguments (`T[]` or `T*`), the\n",
    "    Julia type should again be `Ptr{T}`, not `Vector{T}`.\n",
    "\n",
    "!!! warning\n",
    "    Julia's `Char` type is 32 bits, which is not the same as the wide character type (`wchar_t` or\n",
    "    `wint_t`) on all platforms.\n",
    "\n",
    "!!! warning\n",
    "    A return type of `Union{}` means the function will not return, i.e., C++11 `[[noreturn]]` or C11\n",
    "    `_Noreturn` (e.g. `jl_throw` or `longjmp`). Do not use this for functions that return no value\n",
    "    (`void`) but do return, use `Cvoid` instead.\n",
    "\n",
    "!!! note\n",
    "    For `wchar_t*` arguments, the Julia type should be [`Cwstring`](@ref) (if the C routine expects a\n",
    "    NUL-terminated string), or `Ptr{Cwchar_t}` otherwise. Note also that UTF-8 string data in Julia is\n",
    "    internally NUL-terminated, so it can be passed to C functions expecting NUL-terminated data without\n",
    "    making a copy (but using the `Cwstring` type will cause an error to be thrown if the string itself\n",
    "    contains NUL characters).\n",
    "\n",
    "!!! note\n",
    "    C functions that take an argument of type `char**` can be called by using a `Ptr{Ptr{UInt8}}`\n",
    "    type within Julia. For example, C functions of the form:"
   ]
  },
  {
   "cell_type": "code",
   "execution_count": null,
   "id": "659dd268",
   "metadata": {},
   "outputs": [],
   "source": [
    "```c\n",
    "int main(int argc, char **argv);\n",
    "```\n",
    "\n",
    "can be called via the following Julia code:\n",
    "\n",
    "```julia\n",
    "argv = [ \"a.out\", \"arg1\", \"arg2\" ]\n",
    "ccall(:main, Int32, (Int32, Ptr{Ptr{UInt8}}), length(argv), argv)\n",
    "```"
   ]
  },
  {
   "cell_type": "markdown",
   "id": "cbe81467",
   "metadata": {},
   "source": [
    "!!! note\n",
    "    For Fortran functions taking variable length strings of type `character(len=*)` the string lengths\n",
    "    are provided as *hidden arguments*. Type and position of these arguments in the list are compiler\n",
    "    specific, where compiler vendors usually default to using `Csize_t` as type and append the hidden\n",
    "    arguments at the end of the argument list. While this behaviour is fixed for some compilers (GNU),\n",
    "    others *optionally* permit placing hidden arguments directly after the character argument (Intel, PGI).\n",
    "    For example, Fortran subroutines of the form"
   ]
  },
  {
   "cell_type": "code",
   "execution_count": null,
   "id": "e545fcd8",
   "metadata": {},
   "outputs": [],
   "source": [
    "```fortran\n",
    "subroutine test(str1, str2)\n",
    "character(len=*) :: str1,str2\n",
    "```\n",
    "\n",
    "can be called via the following Julia code, where the lengths are appended\n",
    "\n",
    "```julia\n",
    "str1 = \"foo\"\n",
    "str2 = \"bar\"\n",
    "ccall(:test, Cvoid, (Ptr{UInt8}, Ptr{UInt8}, Csize_t, Csize_t),\n",
    "                    str1, str2, sizeof(str1), sizeof(str2))\n",
    "```"
   ]
  },
  {
   "cell_type": "markdown",
   "id": "f3aa0b8c",
   "metadata": {},
   "source": [
    "!!! warning\n",
    "    Fortran compilers *may* also add other hidden arguments for pointers, assumed-shape (`:`)\n",
    "    and assumed-size (`*`) arrays. Such behaviour can be avoided by using `ISO_C_BINDING` and\n",
    "    including `bind(c)` in the definition of the subroutine, which is strongly recommended for\n",
    "    interoperable code. In this case there will be no hidden arguments, at the cost of some\n",
    "    language features (e.g. only `character(len=1)` will be permitted to pass strings).\n",
    "\n",
    "!!! note\n",
    "    A C function declared to return `Cvoid` will return the value `nothing` in Julia.\n",
    "\n",
    "### Struct Type Correspondences\n",
    "\n",
    "Composite types such as `struct` in C or `TYPE` in Fortran90 (or `STRUCTURE` / `RECORD` in some variants\n",
    "of F77), can be mirrored in Julia by creating a `struct` definition with the same\n",
    "field layout.\n",
    "\n",
    "When used recursively, `isbits` types are stored inline. All other types are stored as a pointer\n",
    "to the data. When mirroring a struct used by-value inside another struct in C, it is imperative\n",
    "that you do not attempt to manually copy the fields over, as this will not preserve the correct\n",
    "field alignment. Instead, declare an `isbits` struct type and use that instead. Unnamed structs\n",
    "are not possible in the translation to Julia.\n",
    "\n",
    "Packed structs and union declarations are not supported by Julia.\n",
    "\n",
    "You can get an approximation of a `union` if you know, a priori, the field that will have\n",
    "the greatest size (potentially including padding). When translating your fields to Julia, declare\n",
    "the Julia field to be only of that type.\n",
    "\n",
    "Arrays of parameters can be expressed with `NTuple`.  For example, the struct in C notation written as"
   ]
  },
  {
   "cell_type": "code",
   "execution_count": null,
   "id": "6e02f06f",
   "metadata": {
    "attributes": {
     "classes": [
      "c"
     ],
     "id": ""
    }
   },
   "outputs": [],
   "source": [
    "struct B {\n",
    "    int A[3];\n",
    "};\n",
    "\n",
    "b_a_2 = B.A[2];"
   ]
  },
  {
   "cell_type": "markdown",
   "id": "b32338cf",
   "metadata": {},
   "source": [
    "can be written in Julia as"
   ]
  },
  {
   "cell_type": "code",
   "execution_count": null,
   "id": "caaa6c10",
   "metadata": {
    "attributes": {
     "classes": [
      "julia"
     ],
     "id": ""
    }
   },
   "outputs": [],
   "source": [
    "struct B\n",
    "    A::NTuple{3, Cint}\n",
    "end\n",
    "\n",
    "b_a_2 = B.A[3]  # note the difference in indexing (1-based in Julia, 0-based in C)"
   ]
  },
  {
   "cell_type": "markdown",
   "id": "acd78407",
   "metadata": {},
   "source": [
    "Arrays of unknown size (C99-compliant variable length structs specified by `[]` or `[0]`) are not directly\n",
    "supported. Often the best way to deal with these is to deal with the byte offsets directly.\n",
    "For example, if a C library declared a proper string type and returned a pointer to it:"
   ]
  },
  {
   "cell_type": "code",
   "execution_count": null,
   "id": "b93a498e",
   "metadata": {
    "attributes": {
     "classes": [
      "c"
     ],
     "id": ""
    }
   },
   "outputs": [],
   "source": [
    "struct String {\n",
    "    int strlen;\n",
    "    char data[];\n",
    "};"
   ]
  },
  {
   "cell_type": "markdown",
   "id": "a05daf71",
   "metadata": {},
   "source": [
    "In Julia, we can access the parts independently to make a copy of that string:"
   ]
  },
  {
   "cell_type": "code",
   "execution_count": null,
   "id": "cddf2d66",
   "metadata": {
    "attributes": {
     "classes": [
      "julia"
     ],
     "id": ""
    }
   },
   "outputs": [],
   "source": [
    "str = from_c::Ptr{Cvoid}\n",
    "len = unsafe_load(Ptr{Cint}(str))\n",
    "unsafe_string(str + Core.sizeof(Cint), len)"
   ]
  },
  {
   "cell_type": "markdown",
   "id": "85cf8774",
   "metadata": {},
   "source": [
    "### Type Parameters\n",
    "\n",
    "The type arguments to `ccall` and `@cfunction` are evaluated statically,\n",
    "when the method containing the usage is defined.\n",
    "They therefore must take the form of a literal tuple, not a variable,\n",
    "and cannot reference local variables.\n",
    "\n",
    "This may sound like a strange restriction,\n",
    "but remember that since C is not a dynamic language like Julia,\n",
    "its functions can only accept argument types with a statically-known, fixed signature.\n",
    "\n",
    "However, while the type layout must be known statically to compute the intended C ABI,\n",
    "the static parameters of the function are considered to be part of this static environment.\n",
    "The static parameters of the function may be used as type parameters in the call signature,\n",
    "as long as they don't affect the layout of the type.\n",
    "For example, `f(x::T) where {T} = ccall(:valid, Ptr{T}, (Ptr{T},), x)`\n",
    "is valid, since `Ptr` is always a word-size primitive type.\n",
    "But, `g(x::T) where {T} = ccall(:notvalid, T, (T,), x)`\n",
    "is not valid, since the type layout of `T` is not known statically.\n",
    "\n",
    "### SIMD 值\n",
    "\n",
    "Note: This feature is currently implemented on 64-bit x86 and AArch64 platforms only.\n",
    "\n",
    "If a C/C++ routine has an argument or return value that is a native SIMD type, the corresponding\n",
    "Julia type is a homogeneous tuple of `VecElement` that naturally maps to the SIMD type.  Specifically:\n",
    "\n",
    ">   * The tuple must be the same size as the SIMD type. For example, a tuple representing an `__m128`\n",
    ">     on x86 must have a size of 16 bytes.\n",
    ">   * The element type of the tuple must be an instance of `VecElement{T}` where `T` is a primitive type that\n",
    ">     is 1, 2, 4 or 8 bytes.\n",
    "\n",
    "For instance, consider this C routine that uses AVX intrinsics:"
   ]
  },
  {
   "cell_type": "code",
   "execution_count": null,
   "id": "dd13fe86",
   "metadata": {
    "attributes": {
     "classes": [
      "c"
     ],
     "id": ""
    }
   },
   "outputs": [],
   "source": [
    "#include <immintrin.h>\n",
    "\n",
    "__m256 dist( __m256 a, __m256 b ) {\n",
    "    return _mm256_sqrt_ps(_mm256_add_ps(_mm256_mul_ps(a, a),\n",
    "                                        _mm256_mul_ps(b, b)));\n",
    "}"
   ]
  },
  {
   "cell_type": "markdown",
   "id": "ac984e83",
   "metadata": {},
   "source": [
    "The following Julia code calls `dist` using `ccall`:"
   ]
  },
  {
   "cell_type": "code",
   "execution_count": null,
   "id": "6bdbe07f",
   "metadata": {
    "attributes": {
     "classes": [
      "julia"
     ],
     "id": ""
    }
   },
   "outputs": [],
   "source": [
    "const m256 = NTuple{8, VecElement{Float32}}\n",
    "\n",
    "a = m256(ntuple(i -> VecElement(sin(Float32(i))), 8))\n",
    "b = m256(ntuple(i -> VecElement(cos(Float32(i))), 8))\n",
    "\n",
    "function call_dist(a::m256, b::m256)\n",
    "    ccall((:dist, \"libdist\"), m256, (m256, m256), a, b)\n",
    "end\n",
    "\n",
    "println(call_dist(a,b))"
   ]
  },
  {
   "cell_type": "markdown",
   "id": "d6e0622d",
   "metadata": {},
   "source": [
    "The host machine must have the requisite SIMD registers.  For example, the code above will not\n",
    "work on hosts without AVX support.\n",
    "\n",
    "### 内存所有权\n",
    "\n",
    "**malloc/free**\n",
    "\n",
    "Memory allocation and deallocation of such objects must be handled by calls to the appropriate\n",
    "cleanup routines in the libraries being used, just like in any C program. Do not try to free an\n",
    "object received from a C library with [`Libc.free`](@ref) in Julia, as this may result in the `free` function\n",
    "being called via the wrong library and cause the process to abort. The reverse (passing an object\n",
    "allocated in Julia to be freed by an external library) is equally invalid.\n",
    "\n",
    "### 何时使用 T、Ptr{T} 以及 Ref{T}\n",
    "\n",
    "In Julia code wrapping calls to external C routines, ordinary (non-pointer) data should be declared\n",
    "to be of type `T` inside the [`ccall`](@ref), as they are passed by value.  For C code accepting\n",
    "pointers, [`Ref{T}`](@ref) should generally be used for the types of input arguments, allowing the use\n",
    "of pointers to memory managed by either Julia or C through the implicit call to [`Base.cconvert`](@ref).\n",
    "In contrast, pointers returned by the C function called should be declared to be of output type\n",
    "[`Ptr{T}`](@ref), reflecting that the memory pointed to is managed by C only. Pointers contained in C\n",
    "structs should be represented as fields of type `Ptr{T}` within the corresponding Julia struct\n",
    "types designed to mimic the internal structure of corresponding C structs.\n",
    "\n",
    "In Julia code wrapping calls to external Fortran routines, all input arguments\n",
    "should be declared as of type `Ref{T}`, as Fortran passes all variables by\n",
    "pointers to memory locations. The return type should either be `Cvoid` for\n",
    "Fortran subroutines, or a `T` for Fortran functions returning the type `T`.\n",
    "\n",
    "## Mapping C Functions to Julia\n",
    "\n",
    "### `ccall` / `@cfunction` argument translation guide\n",
    "\n",
    "For translating a C argument list to Julia:\n",
    "\n",
    "  * `T`, where `T` is one of the primitive types: `char`, `int`, `long`, `short`, `float`, `double`,\n",
    "    `complex`, `enum` or any of their `typedef` equivalents"
   ]
  },
  {
   "cell_type": "code",
   "execution_count": null,
   "id": "fa58a8ba",
   "metadata": {},
   "outputs": [],
   "source": [
    "* `T`, where `T` is an equivalent Julia Bits Type (per the table above)\n",
    "* if `T` is an `enum`, the argument type should be equivalent to `Cint` or `Cuint`\n",
    "* argument value will be copied (passed by value)\n",
    "  * `struct T` (including typedef to a struct)\n",
    "\n",
    "* `T`, where `T` is a Julia leaf type\n",
    "* argument value will be copied (passed by value)\n",
    "  * `void*`\n",
    "\n",
    "* depends on how this parameter is used, first translate this to the intended pointer type, then\n",
    "  determine the Julia equivalent using the remaining rules in this list\n",
    "* this argument may be declared as `Ptr{Cvoid}`, if it really is just an unknown pointer\n",
    "  * `jl_value_t*`\n",
    "\n",
    "* `Any`\n",
    "* argument value must be a valid Julia object\n",
    "  * `jl_value_t**`\n",
    "\n",
    "* `Ref{Any}`\n",
    "* argument value must be a valid Julia object (or `C_NULL`)\n",
    "  * `T*`\n",
    "\n",
    "* `Ref{T}`, where `T` is the Julia type corresponding to `T`\n",
    "* argument value will be copied if it is an `isbits` type otherwise, the value must be a valid Julia\n",
    "  object\n",
    "  * `T (*)(...)` (e.g. a pointer to a function)\n",
    "\n",
    "* `Ptr{Cvoid}` (you may need to use [`@cfunction`](@ref) explicitly to create this pointer)\n",
    "  * `...` (e.g. a vararg)\n",
    "\n",
    "* `T...`, where `T` is the Julia type\n",
    "* currently unsupported by `@cfunction`\n",
    "  * `va_arg`\n",
    "\n",
    "* not supported by `ccall` or `@cfunction`"
   ]
  },
  {
   "cell_type": "markdown",
   "id": "ffe05a8f",
   "metadata": {},
   "source": [
    "### `ccall` / `@cfunction` return type translation guide\n",
    "\n",
    "For translating a C return type to Julia:\n",
    "\n",
    "  * `void`"
   ]
  },
  {
   "cell_type": "code",
   "execution_count": null,
   "id": "7c6877cb",
   "metadata": {},
   "outputs": [],
   "source": [
    "* `Cvoid` (this will return the singleton instance `nothing::Cvoid`)\n",
    "  * `T`, where `T` is one of the primitive types: `char`, `int`, `long`, `short`, `float`, `double`,\n",
    "    `complex`, `enum` or any of their `typedef` equivalents\n",
    "\n",
    "* `T`, where `T` is an equivalent Julia Bits Type (per the table above)\n",
    "* if `T` is an `enum`, the argument type should be equivalent to `Cint` or `Cuint`\n",
    "* argument value will be copied (returned by-value)\n",
    "  * `struct T` (including typedef to a struct)\n",
    "\n",
    "* `T`, where `T` is a Julia Leaf Type\n",
    "* argument value will be copied (returned by-value)\n",
    "  * `void*`\n",
    "\n",
    "* depends on how this parameter is used, first translate this to the intended pointer type, then\n",
    "  determine the Julia equivalent using the remaining rules in this list\n",
    "* this argument may be declared as `Ptr{Cvoid}`, if it really is just an unknown pointer\n",
    "  * `jl_value_t*`\n",
    "\n",
    "* `Any`\n",
    "* argument value must be a valid Julia object\n",
    "  * `jl_value_t**`\n",
    "\n",
    "* `Ptr{Any}` (`Ref{Any}` is invalid as a return type)\n",
    "* argument value must be a valid Julia object (or `C_NULL`)\n",
    "  * `T*`\n",
    "\n",
    "* If the memory is already owned by Julia, or is an `isbits` type, and is known to be non-null:\n",
    "\n",
    "    * `Ref{T}`, where `T` is the Julia type corresponding to `T`\n",
    "    * a return type of `Ref{Any}` is invalid, it should either be `Any` (corresponding to\n",
    "      `jl_value_t*`) or `Ptr{Any}` (corresponding to `jl_value_t**`)\n",
    "    * C **MUST NOT** modify the memory returned via `Ref{T}` if `T` is an `isbits` type\n",
    "* If the memory is owned by C:\n",
    "\n",
    "    * `Ptr{T}`, where `T` is the Julia type corresponding to `T`\n",
    "  * `T (*)(...)` (e.g. a pointer to a function)\n",
    "\n",
    "* `Ptr{Cvoid}` (you may need to use [`@cfunction`](@ref) explicitly to create this pointer)"
   ]
  },
  {
   "cell_type": "markdown",
   "id": "00c1fc1d",
   "metadata": {},
   "source": [
    "### Passing Pointers for Modifying Inputs\n",
    "\n",
    "Because C doesn't support multiple return values, often C functions will take pointers to data\n",
    "that the function will modify. To accomplish this within a [`ccall`](@ref), you need to first\n",
    "encapsulate the value inside a [`Ref{T}`](@ref) of the appropriate type. When you pass this `Ref` object\n",
    "as an argument, Julia will automatically pass a C pointer to the encapsulated data:"
   ]
  },
  {
   "cell_type": "code",
   "execution_count": null,
   "id": "1e57e86a",
   "metadata": {
    "attributes": {
     "classes": [
      "julia"
     ],
     "id": ""
    }
   },
   "outputs": [],
   "source": [
    "width = Ref{Cint}(0)\n",
    "range = Ref{Cfloat}(0)\n",
    "ccall(:foo, Cvoid, (Ref{Cint}, Ref{Cfloat}), width, range)"
   ]
  },
  {
   "cell_type": "markdown",
   "id": "3ed27993",
   "metadata": {},
   "source": [
    "Upon return, the contents of `width` and `range` can be retrieved (if they were changed by `foo`)\n",
    "by `width[]` and `range[]`; that is, they act like zero-dimensional arrays.\n",
    "\n",
    "## C Wrapper Examples\n",
    "\n",
    "Let's start with a simple example of a C wrapper that returns a `Ptr` type:"
   ]
  },
  {
   "cell_type": "code",
   "execution_count": null,
   "id": "2d373641",
   "metadata": {
    "attributes": {
     "classes": [
      "julia"
     ],
     "id": ""
    }
   },
   "outputs": [],
   "source": [
    "mutable struct gsl_permutation\n",
    "end\n",
    "\n",
    "# The corresponding C signature is\n",
    "#     gsl_permutation * gsl_permutation_alloc (size_t n);\n",
    "function permutation_alloc(n::Integer)\n",
    "    output_ptr = ccall(\n",
    "        (:gsl_permutation_alloc, :libgsl), # name of C function and library\n",
    "        Ptr{gsl_permutation},              # output type\n",
    "        (Csize_t,),                        # tuple of input types\n",
    "        n                                  # name of Julia variable to pass in\n",
    "    )\n",
    "    if output_ptr == C_NULL # Could not allocate memory\n",
    "        throw(OutOfMemoryError())\n",
    "    end\n",
    "    return output_ptr\n",
    "end"
   ]
  },
  {
   "cell_type": "markdown",
   "id": "ca0b9e7e",
   "metadata": {},
   "source": [
    "The [GNU Scientific Library](https://www.gnu.org/software/gsl/) (here assumed to be accessible\n",
    "through `:libgsl`) defines an opaque pointer, `gsl_permutation *`, as the return type of the C\n",
    "function `gsl_permutation_alloc`. As user code never has to look inside the `gsl_permutation`\n",
    "struct, the corresponding Julia wrapper simply needs a new type declaration, `gsl_permutation`,\n",
    "that has no internal fields and whose sole purpose is to be placed in the type parameter of a\n",
    "`Ptr` type.  The return type of the [`ccall`](@ref) is declared as `Ptr{gsl_permutation}`, since\n",
    "the memory allocated and pointed to by `output_ptr` is controlled by C.\n",
    "\n",
    "The input `n` is passed by value, and so the function's input signature is\n",
    "simply declared as `(Csize_t,)` without any `Ref` or `Ptr` necessary. (If the\n",
    "wrapper was calling a Fortran function instead, the corresponding function input\n",
    "signature would instead be `(Ref{Csize_t},)`, since Fortran variables are\n",
    "passed by pointers.) Furthermore, `n` can be any type that is convertible to a\n",
    "`Csize_t` integer; the [`ccall`](@ref) implicitly calls [`Base.cconvert(Csize_t,\n",
    "n)`](@ref).\n",
    "\n",
    "Here is a second example wrapping the corresponding destructor:"
   ]
  },
  {
   "cell_type": "code",
   "execution_count": null,
   "id": "fee6fee7",
   "metadata": {
    "attributes": {
     "classes": [
      "julia"
     ],
     "id": ""
    }
   },
   "outputs": [],
   "source": [
    "# The corresponding C signature is\n",
    "#     void gsl_permutation_free (gsl_permutation * p);\n",
    "function permutation_free(p::Ref{gsl_permutation})\n",
    "    ccall(\n",
    "        (:gsl_permutation_free, :libgsl), # name of C function and library\n",
    "        Cvoid,                             # output type\n",
    "        (Ref{gsl_permutation},),          # tuple of input types\n",
    "        p                                 # name of Julia variable to pass in\n",
    "    )\n",
    "end"
   ]
  },
  {
   "cell_type": "markdown",
   "id": "f884b7a0",
   "metadata": {},
   "source": [
    "Here, the input `p` is declared to be of type `Ref{gsl_permutation}`, meaning that the memory\n",
    "that `p` points to may be managed by Julia or by C. A pointer to memory allocated by C should\n",
    "be of type `Ptr{gsl_permutation}`, but it is convertible using [`Base.cconvert`](@ref) and therefore\n",
    "\n",
    "Now if you look closely enough at this example, you may notice that it is incorrect, given our explanation\n",
    "above of preferred declaration types. Do you see it? The function we are calling is going to free the\n",
    "memory. This type of operation cannot be given a Julia object (it will crash or cause memory corruption).\n",
    "Therefore, it may be preferable to declare the `p` type as `Ptr{gsl_permutation }`, to make it harder for the\n",
    "user to mistakenly pass another sort of object there than one obtained via `gsl_permutation_alloc`.\n",
    "\n",
    "If the C wrapper never expects the user to pass pointers to memory managed by Julia, then using\n",
    "`p::Ptr{gsl_permutation}` for the method signature of the wrapper and similarly in the [`ccall`](@ref)\n",
    "is also acceptable.\n",
    "\n",
    "Here is a third example passing Julia arrays:"
   ]
  },
  {
   "cell_type": "code",
   "execution_count": null,
   "id": "a3718e26",
   "metadata": {
    "attributes": {
     "classes": [
      "julia"
     ],
     "id": ""
    }
   },
   "outputs": [],
   "source": [
    "# The corresponding C signature is\n",
    "#    int gsl_sf_bessel_Jn_array (int nmin, int nmax, double x,\n",
    "#                                double result_array[])\n",
    "function sf_bessel_Jn_array(nmin::Integer, nmax::Integer, x::Real)\n",
    "    if nmax < nmin\n",
    "        throw(DomainError())\n",
    "    end\n",
    "    result_array = Vector{Cdouble}(undef, nmax - nmin + 1)\n",
    "    errorcode = ccall(\n",
    "        (:gsl_sf_bessel_Jn_array, :libgsl), # name of C function and library\n",
    "        Cint,                               # output type\n",
    "        (Cint, Cint, Cdouble, Ref{Cdouble}),# tuple of input types\n",
    "        nmin, nmax, x, result_array         # names of Julia variables to pass in\n",
    "    )\n",
    "    if errorcode != 0\n",
    "        error(\"GSL error code $errorcode\")\n",
    "    end\n",
    "    return result_array\n",
    "end"
   ]
  },
  {
   "cell_type": "markdown",
   "id": "6a4827c7",
   "metadata": {},
   "source": [
    "The C function wrapped returns an integer error code; the results of the actual evaluation of\n",
    "the Bessel J function populate the Julia array `result_array`. This variable is declared as a\n",
    "`Ref{Cdouble}`, since its memory is allocated and managed by Julia. The implicit call to\n",
    "[`Base.cconvert(Ref{Cdouble}, result_array)`](@ref) unpacks\n",
    "the Julia pointer to a Julia array data structure into a form understandable by C.\n",
    "\n",
    "## Fortran Wrapper Example\n",
    "\n",
    "The following example utilizes ccall to call a function in a common Fortran library (libBLAS) to\n",
    "computes a dot product. Notice that the argument mapping is a bit different here than above, as\n",
    "we need to map from Julia to Fortran.  On every argument type, we specify `Ref` or `Ptr`. This\n",
    "mangling convention may be specific to your fortran compiler and operating system, and is likely\n",
    "undocumented. However, wrapping each in a `Ref` (or `Ptr`, where equivalent) is a frequent\n",
    "requirement of Fortran compiler implementations:"
   ]
  },
  {
   "cell_type": "code",
   "execution_count": null,
   "id": "751e9040",
   "metadata": {
    "attributes": {
     "classes": [
      "julia"
     ],
     "id": ""
    }
   },
   "outputs": [],
   "source": [
    "function compute_dot(DX::Vector{Float64}, DY::Vector{Float64})\n",
    "    @assert length(DX) == length(DY)\n",
    "    n = length(DX)\n",
    "    incx = incy = 1\n",
    "    product = ccall((:ddot_, \"libLAPACK\"),\n",
    "                    Float64,\n",
    "                    (Ref{Int32}, Ptr{Float64}, Ref{Int32}, Ptr{Float64}, Ref{Int32}),\n",
    "                    n, DX, incx, DY, incy)\n",
    "    return product\n",
    "end"
   ]
  },
  {
   "cell_type": "markdown",
   "id": "9c3d5621",
   "metadata": {},
   "source": [
    "## 垃圾回收安全\n",
    "\n",
    "When passing data to a [`ccall`](@ref), it is best to avoid using the [`pointer`](@ref) function.\n",
    "Instead define a convert method and pass the variables directly to the [`ccall`](@ref). [`ccall`](@ref)\n",
    "automatically arranges that all of its arguments will be preserved from garbage collection until\n",
    "the call returns. If a C API will store a reference to memory allocated by Julia, after the [`ccall`](@ref)\n",
    "returns, you must ensure that the object remains visible to the garbage collector. The suggested\n",
    "way to do this is to make a global variable of type `Array{Ref,1}` to hold these values, until\n",
    "the C library notifies you that it is finished with them.\n",
    "\n",
    "Whenever you have created a pointer to Julia data, you must ensure the original data exists until\n",
    "you have finished using the pointer. Many methods in Julia such as [`unsafe_load`](@ref) and\n",
    "[`String`](@ref) make copies of data instead of taking ownership of the buffer, so that it is\n",
    "safe to free (or alter) the original data without affecting Julia. A notable exception is\n",
    "[`unsafe_wrap`](@ref) which, for performance reasons, shares (or can be told to take ownership of) the\n",
    "underlying buffer.\n",
    "\n",
    "The garbage collector does not guarantee any order of finalization. That is, if `a` contained\n",
    "a reference to `b` and both `a` and `b` are due for garbage collection, there is no guarantee\n",
    "that `b` would be finalized after `a`. If proper finalization of `a` depends on `b` being valid,\n",
    "it must be handled in other ways.\n",
    "\n",
    "## Non-constant Function Specifications\n",
    "\n",
    "A `(name, library)` function specification must be a constant expression. However, it is possible\n",
    "to use computed values as function names by staging through [`eval`](@ref) as follows:"
   ]
  },
  {
   "cell_type": "code",
   "execution_count": null,
   "id": "31104879",
   "metadata": {},
   "outputs": [],
   "source": [
    "@eval ccall(($(string(\"a\", \"b\")), \"lib\"), ..."
   ]
  },
  {
   "cell_type": "markdown",
   "id": "c894e183",
   "metadata": {},
   "source": [
    "This expression constructs a name using `string`, then substitutes this name into a new [`ccall`](@ref)\n",
    "expression, which is then evaluated. Keep in mind that `eval` only operates at the top level,\n",
    "so within this expression local variables will not be available (unless their values are substituted\n",
    "with `$`). For this reason, `eval` is typically only used to form top-level definitions, for example\n",
    "when wrapping libraries that contain many similar functions.\n",
    "A similar example can be constructed for [`@cfunction`](@ref).\n",
    "\n",
    "However, doing this will also be very slow and leak memory, so you should usually avoid this and instead keep\n",
    "reading.\n",
    "The next section discusses how to use indirect calls to efficiently achieve a similar effect.\n",
    "\n",
    "## 非直接调用\n",
    "\n",
    "The first argument to [`ccall`](@ref) can also be an expression evaluated at run time. In this\n",
    "case, the expression must evaluate to a `Ptr`, which will be used as the address of the native\n",
    "function to call. This behavior occurs when the first [`ccall`](@ref) argument contains references\n",
    "to non-constants, such as local variables, function arguments, or non-constant globals.\n",
    "\n",
    "For example, you might look up the function via `dlsym`,\n",
    "then cache it in a shared reference for that session. For example:"
   ]
  },
  {
   "cell_type": "code",
   "execution_count": null,
   "id": "09cb99e3",
   "metadata": {
    "attributes": {
     "classes": [
      "julia"
     ],
     "id": ""
    }
   },
   "outputs": [],
   "source": [
    "macro dlsym(func, lib)\n",
    "    z = Ref{Ptr{Cvoid}}(C_NULL)\n",
    "    quote\n",
    "        let zlocal = $z[]\n",
    "            if zlocal == C_NULL\n",
    "                zlocal = dlsym($(esc(lib))::Ptr{Cvoid}, $(esc(func)))::Ptr{Cvoid}\n",
    "                $z[] = $zlocal\n",
    "            end\n",
    "            zlocal\n",
    "        end\n",
    "    end\n",
    "end\n",
    "\n",
    "mylibvar = Libdl.dlopen(\"mylib\")\n",
    "ccall(@dlsym(\"myfunc\", mylibvar), Cvoid, ())"
   ]
  },
  {
   "cell_type": "markdown",
   "id": "d96ec080",
   "metadata": {},
   "source": [
    "## Closure cfunctions\n",
    "\n",
    "The first argument to [`@cfunction`](@ref) can be marked with a `$`, in which case\n",
    "the return value will instead be a `struct CFunction` which closes over the argument.\n",
    "You must ensure that this return object is kept alive until all uses of it are done.\n",
    "The contents and code at the cfunction pointer will be erased via a [`finalizer`](@ref)\n",
    "when this reference is dropped and atexit. This is not usually needed, since this\n",
    "functionality is not present in C, but can be useful for dealing with ill-designed APIs\n",
    "which don't provide a separate closure environment parameter."
   ]
  },
  {
   "cell_type": "code",
   "execution_count": null,
   "id": "9d78c156",
   "metadata": {
    "attributes": {
     "classes": [
      "julia"
     ],
     "id": ""
    }
   },
   "outputs": [],
   "source": [
    "function qsort(a::Vector{T}, cmp) where T\n",
    "    isbits(T) || throw(ArgumentError(\"this method can only qsort isbits arrays\"))\n",
    "    callback = @cfunction $cmp Cint (Ref{T}, Ref{T})\n",
    "    # Here, `callback` isa Base.CFunction, which will be converted to Ptr{Cvoid}\n",
    "    # (and protected against finalization) by the ccall\n",
    "    ccall(:qsort, Cvoid, (Ptr{T}, Csize_t, Csize_t, Ptr{Cvoid}),\n",
    "        a, length(a), Base.elsize(a), callback)\n",
    "    # We could instead use:\n",
    "    #    GC.@preserve callback begin\n",
    "    #        use(Base.unsafe_convert(Ptr{Cvoid}, callback))\n",
    "    #    end\n",
    "    # if we needed to use it outside of a `ccall`\n",
    "    return a\n",
    "end"
   ]
  },
  {
   "cell_type": "markdown",
   "id": "79260113",
   "metadata": {},
   "source": [
    "!!! note\n",
    "    Closure [`@cfunction`](@ref) rely on LLVM trampolines, which are not available on all\n",
    "    platforms (for example ARM and PowerPC).\n",
    "\n",
    "\n",
    "## 关闭库\n",
    "\n",
    "It is sometimes useful to close (unload) a library so that it can be reloaded.\n",
    "For instance, when developing C code for use with Julia, one may need to compile,\n",
    "call the C code from Julia, then close the library, make an edit, recompile,\n",
    "and load in the new changes. One can either restart Julia or use the\n",
    "`Libdl` functions to manage the library explicitly, such as:"
   ]
  },
  {
   "cell_type": "code",
   "execution_count": null,
   "id": "0ac17271",
   "metadata": {
    "attributes": {
     "classes": [
      "julia"
     ],
     "id": ""
    }
   },
   "outputs": [],
   "source": [
    "lib = Libdl.dlopen(\"./my_lib.so\") # Open the library explicitly.\n",
    "sym = Libdl.dlsym(lib, :my_fcn)   # Get a symbol for the function to call.\n",
    "ccall(sym, ...) # Use the pointer `sym` instead of the (symbol, library) tuple (remaining arguments are the\n",
    "same).  Libdl.dlclose(lib) # Close the library explicitly."
   ]
  },
  {
   "cell_type": "markdown",
   "id": "5eff7f56",
   "metadata": {},
   "source": [
    "Note that when using `ccall` with the tuple input\n",
    "(e.g., `ccall((:my_fcn, \"./my_lib.so\"), ...)`), the library is opened implicitly\n",
    "and it may not be explicitly closed.\n",
    "\n",
    "## 调用规约\n",
    "\n",
    "The second argument to [`ccall`](@ref) can optionally be a calling convention specifier (immediately\n",
    "preceding return type). Without any specifier, the platform-default C calling convention is used.\n",
    "Other supported conventions are: `stdcall`, `cdecl`, `fastcall`, and `thiscall` (no-op on 64-bit Windows).\n",
    "For example (from `base/libc.jl`) we see the same `gethostname`[`ccall`](@ref) as above, but with the correct\n",
    "signature for Windows:"
   ]
  },
  {
   "cell_type": "code",
   "execution_count": null,
   "id": "1524137c",
   "metadata": {
    "attributes": {
     "classes": [
      "julia"
     ],
     "id": ""
    }
   },
   "outputs": [],
   "source": [
    "hn = Vector{UInt8}(undef, 256)\n",
    "err = ccall(:gethostname, stdcall, Int32, (Ptr{UInt8}, UInt32), hn, length(hn))"
   ]
  },
  {
   "cell_type": "markdown",
   "id": "8882195e",
   "metadata": {},
   "source": [
    "请参阅 [LLVM Language Reference](http://llvm.org/docs/LangRef.html#calling-conventions) 来获得更多信息。\n",
    "\n",
    "There is one additional special calling convention [`llvmcall`](@ref Base.llvmcall),\n",
    "which allows inserting calls to LLVM intrinsics directly.\n",
    "This can be especially useful when targeting unusual platforms such as GPGPUs.\n",
    "For example, for [CUDA](http://llvm.org/docs/NVPTXUsage.html), we need to be able to read the thread index:"
   ]
  },
  {
   "cell_type": "code",
   "execution_count": null,
   "id": "2913985f",
   "metadata": {
    "attributes": {
     "classes": [
      "julia"
     ],
     "id": ""
    }
   },
   "outputs": [],
   "source": [
    "ccall(\"llvm.nvvm.read.ptx.sreg.tid.x\", llvmcall, Int32, ())"
   ]
  },
  {
   "cell_type": "markdown",
   "id": "09aa077e",
   "metadata": {},
   "source": [
    "As with any `ccall`, it is essential to get the argument signature exactly correct.\n",
    "Also, note that there is no compatibility layer that ensures the intrinsic makes\n",
    "sense and works on the current target,\n",
    "unlike the equivalent Julia functions exposed by `Core.Intrinsics`.\n",
    "\n",
    "## 访问全局变量\n",
    "\n",
    "Global variables exported by native libraries can be accessed by name using the [`cglobal`](@ref)\n",
    "function. The arguments to [`cglobal`](@ref) are a symbol specification identical to that used\n",
    "by [`ccall`](@ref), and a type describing the value stored in the variable:"
   ]
  },
  {
   "cell_type": "code",
   "execution_count": null,
   "id": "e802628d",
   "metadata": {
    "attributes": {
     "classes": [
      "julia-repl"
     ],
     "id": ""
    }
   },
   "outputs": [],
   "source": [
    "julia> cglobal((:errno, :libc), Int32)\n",
    "Ptr{Int32} @0x00007f418d0816b8"
   ]
  },
  {
   "cell_type": "markdown",
   "id": "6632bbaf",
   "metadata": {},
   "source": [
    "The result is a pointer giving the address of the value. The value can be manipulated through\n",
    "this pointer using [`unsafe_load`](@ref) and [`unsafe_store!`](@ref).\n",
    "\n",
    "!!! note\n",
    "    This `errno` symbol may not be found in a library named \"libc\", as this is an implementation detail of\n",
    "    your system compiler. Typically standard library symbols should be accessed just by name,\n",
    "    allowing the compiler to fill in the correct one.\n",
    "    Also, however, the `errno` symbol shown in this example is special in most compilers, and so the value\n",
    "    seen here is probably not what you expect or want. Compiling the equivalent code in C on any\n",
    "    multi-threaded-capable system would typically actually call a different function (via macro preprocessor\n",
    "    overloading), and may give a different result than the legacy value printed here.\n",
    "\n",
    "## Accessing Data through a Pointer\n",
    "\n",
    "The following methods are described as \"unsafe\" because a bad pointer or type declaration can\n",
    "cause Julia to terminate abruptly.\n",
    "\n",
    "Given a `Ptr{T}`, the contents of type `T` can generally be copied from the referenced memory\n",
    "into a Julia object using `unsafe_load(ptr, [index])`. The index argument is optional (default\n",
    "is 1), and follows the Julia-convention of 1-based indexing. This function is intentionally similar\n",
    "to the behavior of [`getindex`](@ref) and [`setindex!`](@ref) (e.g. `[]` access syntax).\n",
    "\n",
    "The return value will be a new object initialized to contain a copy of the contents of the referenced\n",
    "memory. The referenced memory can safely be freed or released.\n",
    "\n",
    "If `T` is `Any`, then the memory is assumed to contain a reference to a Julia object (a `jl_value_t*`),\n",
    "the result will be a reference to this object, and the object will not be copied. You must be\n",
    "careful in this case to ensure that the object was always visible to the garbage collector (pointers\n",
    "do not count, but the new reference does) to ensure the memory is not prematurely freed. Note\n",
    "that if the object was not originally allocated by Julia, the new object will never be finalized\n",
    "by Julia's garbage collector.  If the `Ptr` itself is actually a `jl_value_t*`, it can be converted\n",
    "back to a Julia object reference by [`unsafe_pointer_to_objref(ptr)`](@ref). (Julia values `v`\n",
    "can be converted to `jl_value_t*` pointers, as `Ptr{Cvoid}`, by calling [`pointer_from_objref(v)`](@ref).)\n",
    "\n",
    "The reverse operation (writing data to a `Ptr{T}`), can be performed using [`unsafe_store!(ptr, value, [index])`](@ref).\n",
    "Currently, this is only supported for primitive types or other pointer-free (`isbits`) immutable struct\n",
    "types.\n",
    "\n",
    "Any operation that throws an error is probably currently unimplemented and should be posted as\n",
    "a bug so that it can be resolved.\n",
    "\n",
    "If the pointer of interest is a plain-data array (primitive type or immutable struct), the function\n",
    "[`unsafe_wrap(Array, ptr,dims, own = false)`](@ref)\n",
    "may be more useful. The final parameter should be true if Julia should \"take ownership\" of the\n",
    "underlying buffer and call `free(ptr)` when the returned `Array` object is finalized.  If the\n",
    "`own` parameter is omitted or false, the caller must ensure the buffer remains in existence until\n",
    "all access is complete.\n",
    "\n",
    "Arithmetic on the `Ptr` type in Julia (e.g. using `+`) does not behave the same as C's pointer\n",
    "arithmetic. Adding an integer to a `Ptr` in Julia always moves the pointer by some number of\n",
    "*bytes*, not elements. This way, the address values obtained from pointer arithmetic do not depend\n",
    "on the element types of pointers.\n",
    "\n",
    "## 线程安全\n",
    "\n",
    "Some C libraries execute their callbacks from a different thread, and since Julia isn't thread-safe\n",
    "you'll need to take some extra precautions. In particular, you'll need to set up a two-layered\n",
    "system: the C callback should only *schedule* (via Julia's event loop) the execution of your \"real\"\n",
    "callback. To do this, create an [`AsyncCondition`](@ref Base.AsyncCondition) object and [`wait`](@ref) on it:"
   ]
  },
  {
   "cell_type": "code",
   "execution_count": null,
   "id": "9c8f6ebd",
   "metadata": {
    "attributes": {
     "classes": [
      "julia"
     ],
     "id": ""
    }
   },
   "outputs": [],
   "source": [
    "cond = Base.AsyncCondition()\n",
    "wait(cond)"
   ]
  },
  {
   "cell_type": "markdown",
   "id": "873231ee",
   "metadata": {},
   "source": [
    "传递给 C 的回调应该只通过 [`ccall`](@ref) 将 `cond.handle` 作为参数传递给 `:uv_async_send` 并调用，注意避免任何内存分配操作或与 Julia 运行时的其他交互。\n",
    "\n",
    "注意，事件可能会合并，因此对 `uv_async_send` 的多个调用可能会导致对该条件的单个唤醒通知。\n",
    "\n",
    "## 关于 Callbacks 的更多内容\n",
    "\n",
    "关于如何传递 callback 到 C 库的更多细节，请参考此[博客](https://julialang.org/blog/2013/05/callback)。\n",
    "\n",
    "## C++\n",
    "\n",
    "如需要直接易用的C++接口，即直接用Julia写封装代码，请参考 [Cxx](https://github.com/Keno/Cxx.jl)。如需封装C++库的工具，即用C++写封装/胶水代码，请参考[CxxWrap](https://github.com/JuliaInterop/CxxWrap.jl)。\n",
    "\n",
    "\n",
    "\n",
    "[^1]: Non-library function calls in both C and Julia can be inlined and thus may have\n",
    "    even less overhead than calls to shared library functions.\n",
    "    The point above is that the cost of actually doing foreign function call is about the same as doing a call in either native language.\n",
    "\n",
    "[^2]: The [Clang package](https://github.com/ihnorton/Clang.jl) can be used to auto-generate Julia code\n",
    "    from a C header file."
   ]
  }
 ],
 "metadata": {},
 "nbformat": 4,
 "nbformat_minor": 5
}
