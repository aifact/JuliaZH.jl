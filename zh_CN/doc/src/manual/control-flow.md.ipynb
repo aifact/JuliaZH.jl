{
 "cells": [
  {
   "cell_type": "markdown",
   "id": "756cdfe1",
   "metadata": {},
   "source": [
    "# 流程控制\n",
    "\n",
    "Julia 提供了大量的流程控制构件：\n",
    "\n",
    "  * [复合表达式](@ref man-compound-expressions)：`begin` 和 `;`。\n",
    "  * [条件表达式](@ref man-conditional-evaluation)：`if`-`elseif`-`else` 和 `?:` (三元运算符)。\n",
    "  * [短路求值](@ref)：`&&`、`||` 和链式比较。\n",
    "  * [重复执行：循环](@ref man-loops)：`while` 和 `for`。\n",
    "  * [异常处理](@ref)：`try`-`catch`、[`error`](@ref) 和 [`throw`](@ref)。\n",
    "  * [`Task`（协程）](@ref man-tasks)：[`yieldto`](@ref)。\n",
    "\n",
    "前五个流程控制机制是高级编程语言的标准。[`Task`](@ref) 不是那么的标准：它提供了非局部的流程控制，这使得在暂时挂起的计算任务之间进行切换成为可能。这是一个功能强大的构件：Julia 中的异常处理和协同多任务都是通过 `Task` 实现的。虽然日常编程并不需要直接使用 `Task`，但某些问题用 `Task` 处理会更加简单。\n",
    "\n",
    "## [复合表达式](@id man-compound-expressions)\n",
    "\n",
    "有时一个表达式能够有序地计算若干子表达式，并返回最后一个子表达式的值作为它的值是很方便的。Julia 有两个组件来完成这个： `begin` 代码块 和 `;` 链。这两个复合表达式组件的值都是最后一个子表达式的值。下面是一个 `begin` 代码块的例子："
   ]
  },
  {
   "cell_type": "code",
   "execution_count": null,
   "id": "5dd00740",
   "metadata": {
    "attributes": {
     "classes": [
      "jldoctest"
     ],
     "id": ""
    }
   },
   "outputs": [],
   "source": [
    "julia> z = begin\n",
    "           x = 1\n",
    "           y = 2\n",
    "           x + y\n",
    "       end\n",
    "3"
   ]
  },
  {
   "cell_type": "markdown",
   "id": "f2913081",
   "metadata": {},
   "source": [
    "因为这些是非常简短的表达式，它们可以简单地被放到一行里，这也是 `;` 链的由来："
   ]
  },
  {
   "cell_type": "code",
   "execution_count": null,
   "id": "8aa674ff",
   "metadata": {
    "attributes": {
     "classes": [
      "jldoctest"
     ],
     "id": ""
    }
   },
   "outputs": [],
   "source": [
    "julia> z = (x = 1; y = 2; x + y)\n",
    "3"
   ]
  },
  {
   "cell_type": "markdown",
   "id": "db021bf4",
   "metadata": {},
   "source": [
    "这个语法在定义简洁的单行函数的时候特别有用，参见[函数](@id man-functions)。尽管很典型，但是并不要求 `begin` 代码块是多行的，或者 `;` 链是单行的："
   ]
  },
  {
   "cell_type": "code",
   "execution_count": null,
   "id": "5707e740",
   "metadata": {
    "attributes": {
     "classes": [
      "jldoctest"
     ],
     "id": ""
    }
   },
   "outputs": [],
   "source": [
    "julia> begin x = 1; y = 2; x + y end\n",
    "3\n",
    "\n",
    "julia> (x = 1;\n",
    "        y = 2;\n",
    "        x + y)\n",
    "3"
   ]
  },
  {
   "cell_type": "markdown",
   "id": "f4dc9d4c",
   "metadata": {},
   "source": [
    "## [条件表达式](@id man-conditional-evaluation)\n",
    "\n",
    "条件表达式（Conditional evaluation）可以根据布尔表达式的值，让部分代码被执行或者不被执行。下面是对 `if`-`elseif`-`else` 条件语法的分析："
   ]
  },
  {
   "cell_type": "code",
   "execution_count": null,
   "id": "a70c3ffc",
   "metadata": {
    "attributes": {
     "classes": [
      "julia"
     ],
     "id": ""
    }
   },
   "outputs": [],
   "source": [
    "if x < y\n",
    "    println(\"x is less than y\")\n",
    "elseif x > y\n",
    "    println(\"x is greater than y\")\n",
    "else\n",
    "    println(\"x is equal to y\")\n",
    "end"
   ]
  },
  {
   "cell_type": "markdown",
   "id": "fd92232a",
   "metadata": {},
   "source": [
    "如果表达式 `x < y` 是 `true`，那么对应的代码块会被执行；否则判断条件表达式 `x > y`，如果它是 `true`，则执行对应的代码块；如果没有表达式是 true，则执行 `else` 代码块。下面是一个例子："
   ]
  },
  {
   "cell_type": "code",
   "execution_count": null,
   "id": "ad79e5c7",
   "metadata": {
    "attributes": {
     "classes": [
      "jldoctest"
     ],
     "id": ""
    }
   },
   "outputs": [],
   "source": [
    "julia> function test(x, y)\n",
    "           if x < y\n",
    "               println(\"x is less than y\")\n",
    "           elseif x > y\n",
    "               println(\"x is greater than y\")\n",
    "           else\n",
    "               println(\"x is equal to y\")\n",
    "           end\n",
    "       end\n",
    "test (generic function with 1 method)\n",
    "\n",
    "julia> test(1, 2)\n",
    "x is less than y\n",
    "\n",
    "julia> test(2, 1)\n",
    "x is greater than y\n",
    "\n",
    "julia> test(1, 1)\n",
    "x is equal to y"
   ]
  },
  {
   "cell_type": "markdown",
   "id": "e61576c7",
   "metadata": {},
   "source": [
    "`elseif` 和 `else` 代码块是可选的，并且可以使用任意多个 `elseif` 代码块。\n",
    "`if`-`elseif`-`else` 组件中的第一个条件表达式为 `true` 时，其他条件表达式才会被执行，当对应的代码块被执行后，其余的表达式或者代码块将不会被执行。\n",
    "\n",
    "`if` 代码块是\"有渗漏的\"，也就是说它们不会引入局部作用域。这意味着在 `if` 语句中新定义的变量依然可以在 `if` 代码块之后使用，尽管这些变量没有在 `if` 语句之前定义过。所以，我们可以将上面的 `test` 函数定义为"
   ]
  },
  {
   "cell_type": "code",
   "execution_count": null,
   "id": "cc500ec1",
   "metadata": {
    "attributes": {
     "classes": [
      "jldoctest"
     ],
     "id": ""
    }
   },
   "outputs": [],
   "source": [
    "julia> function test(x,y)\n",
    "           if x < y\n",
    "               relation = \"less than\"\n",
    "           elseif x == y\n",
    "               relation = \"equal to\"\n",
    "           else\n",
    "               relation = \"greater than\"\n",
    "           end\n",
    "           println(\"x is \", relation, \" y.\")\n",
    "       end\n",
    "test (generic function with 1 method)\n",
    "\n",
    "julia> test(2, 1)\n",
    "x is greater than y."
   ]
  },
  {
   "cell_type": "markdown",
   "id": "8815b54e",
   "metadata": {},
   "source": [
    "变量 `relation` 是在 `if` 代码块内部声明的，但可以在外部使用。然而，在利用这种行为的时候，要保证变量在所有的分支下都进行了定义。对上述函数做如下修改会导致运行时错误"
   ]
  },
  {
   "cell_type": "code",
   "execution_count": null,
   "id": "f41c3705",
   "metadata": {
    "attributes": {
     "": "",
     "classes": [],
     "id": ""
    }
   },
   "outputs": [],
   "source": [
    "julia> function test(x,y)\n",
    "           if x < y\n",
    "               relation = \"less than\"\n",
    "           elseif x == y\n",
    "               relation = \"equal to\"\n",
    "           end\n",
    "           println(\"x is \", relation, \" y.\")\n",
    "       end\n",
    "test (generic function with 1 method)\n",
    "\n",
    "julia> test(1,2)\n",
    "x is less than y.\n",
    "\n",
    "julia> test(2,1)\n",
    "ERROR: UndefVarError: relation not defined\n",
    "Stacktrace:\n",
    " [1] test(::Int64, ::Int64) at ./none:7"
   ]
  },
  {
   "cell_type": "markdown",
   "id": "800ffe9b",
   "metadata": {},
   "source": [
    "`if` 代码块也会返回一个值，这可能对于一些从其他语言转过来的用户来说不是很直观。\n",
    "这个返回值就是被执行的分支中最后一个被执行的语句的返回值。\n",
    "所以"
   ]
  },
  {
   "cell_type": "code",
   "execution_count": null,
   "id": "efc1e367",
   "metadata": {
    "attributes": {
     "classes": [
      "jldoctest"
     ],
     "id": ""
    }
   },
   "outputs": [],
   "source": [
    "julia> x = 3\n",
    "3\n",
    "\n",
    "julia> if x > 0\n",
    "           \"positive!\"\n",
    "       else\n",
    "           \"negative...\"\n",
    "       end\n",
    "\"positive!\""
   ]
  },
  {
   "cell_type": "markdown",
   "id": "ddf338c8",
   "metadata": {},
   "source": [
    "需要注意的是，在 Julia 中，经常会用短路求值来表示非常短的条件表达式（单行），这会在下一节中介绍。\n",
    "\n",
    "与 C, MATLAB, Perl, Python，以及 Ruby 不同，但跟 Java，还有一些别的严谨的类型语言类似：一个条件表达式的值如果不是 `true` 或者 `false` 的话，会返回错误："
   ]
  },
  {
   "cell_type": "code",
   "execution_count": null,
   "id": "d3f27204",
   "metadata": {
    "attributes": {
     "classes": [
      "jldoctest"
     ],
     "id": ""
    }
   },
   "outputs": [],
   "source": [
    "julia> if 1\n",
    "           println(\"true\")\n",
    "       end\n",
    "ERROR: TypeError: non-boolean (Int64) used in boolean context"
   ]
  },
  {
   "cell_type": "markdown",
   "id": "da82371d",
   "metadata": {},
   "source": [
    "这个错误是说，条件判断结果的类型：[`Int64`](@ref) 是错的，而不是期望的 [`Bool`](@ref)。\n",
    "\n",
    "所谓的 \"三元运算符\", `?:`，很类似 `if`-`elseif`-`else` 语法，它用于选择性获取单个表达式的值，而不是选择性执行大段的代码块。它因在很多语言中是唯一一个有三个操作数的运算符而得名："
   ]
  },
  {
   "cell_type": "code",
   "execution_count": null,
   "id": "49f41e5f",
   "metadata": {
    "attributes": {
     "classes": [
      "julia"
     ],
     "id": ""
    }
   },
   "outputs": [],
   "source": [
    "a ? b : c"
   ]
  },
  {
   "cell_type": "markdown",
   "id": "4b52849f",
   "metadata": {},
   "source": [
    "在 `?` 之前的表达式 `a`, 是一个条件表达式，如果条件 `a` 是 `true`，三元运算符计算在 `:` 之前的表达式 `b`；如果条件 `a` 是 `false`，则执行 `:` 后面的表达式 `c`。注意，`?` 和 `:` 旁边的空格是强制的，像 `a?b:c` 这种表达式不是一个有效的三元表达式（但在`?` 和 `:` 之后的换行是允许的）。\n",
    "\n",
    "理解这种行为的最简单方式是看一个实际的例子。在前一个例子中，虽然在三个分支中都有调用 `println`，但实质上是选择打印哪一个字符串。在这种情况下，我们可以用三元运算符更紧凑地改写。为了简明，我们先尝试只有两个分支的版本："
   ]
  },
  {
   "cell_type": "code",
   "execution_count": null,
   "id": "f93522df",
   "metadata": {
    "attributes": {
     "classes": [
      "jldoctest"
     ],
     "id": ""
    }
   },
   "outputs": [],
   "source": [
    "julia> x = 1; y = 2;\n",
    "\n",
    "julia> println(x < y ? \"less than\" : \"not less than\")\n",
    "less than\n",
    "\n",
    "julia> x = 1; y = 0;\n",
    "\n",
    "julia> println(x < y ? \"less than\" : \"not less than\")\n",
    "not less than"
   ]
  },
  {
   "cell_type": "markdown",
   "id": "fa903bb9",
   "metadata": {},
   "source": [
    "如果表达式 `x < y` 为真，整个三元运算符会执行字符串 `\"less than\"`，否则执行字符串 `\"not less than\"`。原本的三个分支的例子需要链式嵌套使用三元运算符："
   ]
  },
  {
   "cell_type": "code",
   "execution_count": null,
   "id": "300f12f4",
   "metadata": {
    "attributes": {
     "classes": [
      "jldoctest"
     ],
     "id": ""
    }
   },
   "outputs": [],
   "source": [
    "julia> test(x, y) = println(x < y ? \"x is less than y\"    :\n",
    "                            x > y ? \"x is greater than y\" : \"x is equal to y\")\n",
    "test (generic function with 1 method)\n",
    "\n",
    "julia> test(1, 2)\n",
    "x is less than y\n",
    "\n",
    "julia> test(2, 1)\n",
    "x is greater than y\n",
    "\n",
    "julia> test(1, 1)\n",
    "x is equal to y"
   ]
  },
  {
   "cell_type": "markdown",
   "id": "ccd6e66a",
   "metadata": {},
   "source": [
    "为了方便链式传值，运算符从右到左连接到一起。\n",
    "\n",
    "重要地是，与 `if`-`elseif`-`else` 类似，`:` 之前和之后的表达式只有在条件表达式为 `true` 或者 `false` 时才会被相应地执行："
   ]
  },
  {
   "cell_type": "code",
   "execution_count": null,
   "id": "f9dd1c3e",
   "metadata": {
    "attributes": {
     "classes": [
      "jldoctest"
     ],
     "id": ""
    }
   },
   "outputs": [],
   "source": [
    "julia> v(x) = (println(x); x)\n",
    "v (generic function with 1 method)\n",
    "\n",
    "julia> 1 < 2 ? v(\"yes\") : v(\"no\")\n",
    "yes\n",
    "\"yes\"\n",
    "\n",
    "julia> 1 > 2 ? v(\"yes\") : v(\"no\")\n",
    "no\n",
    "\"no\""
   ]
  },
  {
   "cell_type": "markdown",
   "id": "2d1b9e15",
   "metadata": {},
   "source": [
    "## 短路求值\n",
    "\n",
    "短路求值非常类似条件求值。这种行为在多数有 `&&` 和 `||` 布尔运算符地命令式编程语言里都可以找到：在一系列由这些运算符连接的布尔表达式中，为了得到整个链的最终布尔值，仅仅只有最小数量的表达式被计算。更明确的说，这意味着：\n",
    "\n",
    "  * 在表达式 `a && b` 中，子表达式 `b` 仅当 `a` 为 `true` 的时候才会被执行。\n",
    "  * 在表达式 `a || b` 中，子表达式 `b` 仅在 `a` 为 `false` 的时候才会被执行。\n",
    "\n",
    "这里的原因是：如果 `a` 是 `false`，那么无论 `b` 的值是多少，`a && b` 一定是 `false`。同理，如果 `a` 是 `true`，那么无论 `b` 的值是多少，`a || b` 的值一定是 true。`&&` 和 `||` 都依赖于右边，但是 `&&` 比 `||` 有更高的优先级。我们可以简单地测试一下这个行为："
   ]
  },
  {
   "cell_type": "code",
   "execution_count": null,
   "id": "8bfef583",
   "metadata": {},
   "outputs": [],
   "source": [
    "julia> t(x) = (println(x); true)\n",
    "t (generic function with 1 method)\n",
    "\n",
    "julia> f(x) = (println(x); false)\n",
    "f (generic function with 1 method)\n",
    "\n",
    "julia> t(1) && t(2)\n",
    "1\n",
    "2\n",
    "true\n",
    "\n",
    "julia> t(1) && f(2)\n",
    "1\n",
    "2\n",
    "false\n",
    "\n",
    "julia> f(1) && t(2)\n",
    "1\n",
    "false\n",
    "\n",
    "julia> f(1) && f(2)\n",
    "1\n",
    "false\n",
    "\n",
    "julia> t(1) || t(2)\n",
    "1\n",
    "true\n",
    "\n",
    "julia> t(1) || f(2)\n",
    "1\n",
    "true\n",
    "\n",
    "julia> f(1) || t(2)\n",
    "1\n",
    "2\n",
    "true\n",
    "\n",
    "julia> f(1) || f(2)\n",
    "1\n",
    "2\n",
    "false"
   ]
  },
  {
   "cell_type": "markdown",
   "id": "74b3dd82",
   "metadata": {},
   "source": [
    "你可以用同样的方式测试不同 `&&` 和 `||` 运算符的组合条件下的关联和优先级。\n",
    "\n",
    "这种行为在 Julia 中经常被用来作为简短 `if` 语句的替代。\n",
    "可以用 `<cond> && <statement>` (可读为: <cond> *and then* <statement>)来替换 `if <cond> <statement> end`。 类似的，\n",
    "可以用 `<cond> || <statement>` (可读为: <cond> *or else* <statement>)来替换 `if ! <cond> <statement> end`.\n",
    "\n",
    "例如，可以像这样定义递归阶乘："
   ]
  },
  {
   "cell_type": "code",
   "execution_count": null,
   "id": "76c6068b",
   "metadata": {
    "attributes": {
     "": "",
     "classes": [],
     "id": ""
    }
   },
   "outputs": [],
   "source": [
    "julia> function fact(n::Int)\n",
    "           n >= 0 || error(\"n must be non-negative\")\n",
    "           n == 0 && return 1\n",
    "           n * fact(n-1)\n",
    "       end\n",
    "fact (generic function with 1 method)\n",
    "\n",
    "julia> fact(5)\n",
    "120\n",
    "\n",
    "julia> fact(0)\n",
    "1\n",
    "\n",
    "julia> fact(-1)\n",
    "ERROR: n must be non-negative\n",
    "Stacktrace:\n",
    " [1] error at ./error.jl:33 [inlined]\n",
    " [2] fact(::Int64) at ./none:2\n",
    " [3] top-level scope"
   ]
  },
  {
   "cell_type": "markdown",
   "id": "96bf66d3",
   "metadata": {},
   "source": [
    "**无**短路求值的布尔运算可以用位布尔运算符来完成，见[数学运算和初等函数](@ref)：`&` 和 `|`。这些是普通的函数，同时也刚好支持中缀运算符语法，但总是会计算它们的所有参数："
   ]
  },
  {
   "cell_type": "code",
   "execution_count": null,
   "id": "39ce81e5",
   "metadata": {},
   "outputs": [],
   "source": [
    "julia> f(1) & t(2)\n",
    "1\n",
    "2\n",
    "false\n",
    "\n",
    "julia> t(1) | t(2)\n",
    "1\n",
    "2\n",
    "true"
   ]
  },
  {
   "cell_type": "markdown",
   "id": "b0fda477",
   "metadata": {},
   "source": [
    "与 `if`, `elseif` 或者三元运算符中的条件表达式相同，`&&` 或者 `||` 的操作数必须是布尔值（`true` 或者 `false`）。在链式嵌套的条件表达式中，\n",
    "除最后一项外，使用非布尔值会导致错误："
   ]
  },
  {
   "cell_type": "code",
   "execution_count": null,
   "id": "40d04109",
   "metadata": {
    "attributes": {
     "classes": [
      "jldoctest"
     ],
     "id": ""
    }
   },
   "outputs": [],
   "source": [
    "julia> 1 && true\n",
    "ERROR: TypeError: non-boolean (Int64) used in boolean context"
   ]
  },
  {
   "cell_type": "markdown",
   "id": "7850b5c8",
   "metadata": {},
   "source": [
    "但在链的末尾允许使用任意类型的表达式，此表达式会根据前面的条件被执行并返回："
   ]
  },
  {
   "cell_type": "code",
   "execution_count": null,
   "id": "a8a68929",
   "metadata": {
    "attributes": {
     "classes": [
      "jldoctest"
     ],
     "id": ""
    }
   },
   "outputs": [],
   "source": [
    "julia> true && (x = (1, 2, 3))\n",
    "(1, 2, 3)\n",
    "\n",
    "julia> false && (x = (1, 2, 3))\n",
    "false"
   ]
  },
  {
   "cell_type": "markdown",
   "id": "dfb0a9c7",
   "metadata": {},
   "source": [
    "## [重复执行：循环](@id man-loops)\n",
    "\n",
    "有两个用于重复执行表达式的组件：`while` 循环和 `for` 循环。下面是一个 `while` 循环的例子："
   ]
  },
  {
   "cell_type": "code",
   "execution_count": null,
   "id": "0ef509b0",
   "metadata": {
    "attributes": {
     "classes": [
      "jldoctest"
     ],
     "id": ""
    }
   },
   "outputs": [],
   "source": [
    "julia> i = 1;\n",
    "\n",
    "julia> while i <= 5\n",
    "           println(i)\n",
    "           global i += 1\n",
    "       end\n",
    "1\n",
    "2\n",
    "3\n",
    "4\n",
    "5"
   ]
  },
  {
   "cell_type": "markdown",
   "id": "176abf83",
   "metadata": {},
   "source": [
    "`while` 循环会执行条件表达式（例子中为 `i <= 5`），只要它为 `true`，就一直执行`while` 循环的主体部分。当 `while` 循环第一次执行时，如果条件表达式为 `false`，那么主体代码就一次也不会被执行。\n",
    "\n",
    "`for` 循环使得常见的重复执行代码写起来更容易。\n",
    "像之前 `while` 循环中用到的向上和向下计数是可以用 `for` 循环更简明地表达："
   ]
  },
  {
   "cell_type": "code",
   "execution_count": null,
   "id": "010d8ca8",
   "metadata": {
    "attributes": {
     "classes": [
      "jldoctest"
     ],
     "id": ""
    }
   },
   "outputs": [],
   "source": [
    "julia> for i = 1:5\n",
    "           println(i)\n",
    "       end\n",
    "1\n",
    "2\n",
    "3\n",
    "4\n",
    "5"
   ]
  },
  {
   "cell_type": "markdown",
   "id": "06d26e34",
   "metadata": {},
   "source": [
    "这里的 `1:5` 是一个范围对象，代表数字 1, 2, 3, 4, 5 的序列。`for` 循环在这些值之中迭代，对每一个变量 `i` 进行赋值。`for` 循环与之前 `while` 循环的一个非常重要区别是作用域，即变量的可见性。如果变量 `i` 没有在另一个作用域里引入，在 `for` 循环内，它就只在 `for` 循环内部可见，在外部和后面均不可见。你需要一个新的交互式会话实例或者一个新的变量名来测试这个特性："
   ]
  },
  {
   "cell_type": "code",
   "execution_count": null,
   "id": "357c9470",
   "metadata": {
    "attributes": {
     "classes": [
      "jldoctest"
     ],
     "id": ""
    }
   },
   "outputs": [],
   "source": [
    "julia> for j = 1:5\n",
    "           println(j)\n",
    "       end\n",
    "1\n",
    "2\n",
    "3\n",
    "4\n",
    "5\n",
    "\n",
    "julia> j\n",
    "ERROR: UndefVarError: j not defined"
   ]
  },
  {
   "cell_type": "markdown",
   "id": "228e4b18",
   "metadata": {},
   "source": [
    "参见[变量作用域](@ref scope-of-variables)中对变量作用域的详细解释以及它在 Julia 中是如何工作的。\n",
    "\n",
    "一般来说，`for` 循环组件可以用于迭代任一个容器。在这种情况下，相比 `=`，另外的（但完全相同）关键字 `in` 或者 `∈` 则更常用，因为它使得代码更清晰："
   ]
  },
  {
   "cell_type": "code",
   "execution_count": null,
   "id": "35a2cf42",
   "metadata": {
    "attributes": {
     "classes": [
      "jldoctest"
     ],
     "id": ""
    }
   },
   "outputs": [],
   "source": [
    "julia> for i in [1,4,0]\n",
    "           println(i)\n",
    "       end\n",
    "1\n",
    "4\n",
    "0\n",
    "\n",
    "julia> for s ∈ [\"foo\",\"bar\",\"baz\"]\n",
    "           println(s)\n",
    "       end\n",
    "foo\n",
    "bar\n",
    "baz"
   ]
  },
  {
   "cell_type": "markdown",
   "id": "83c99d31",
   "metadata": {},
   "source": [
    "在手册后面的章节中会介绍和讨论各种不同的迭代容器（比如，[多维数组](@ref man-multi-dim-arrays)）。\n",
    "\n",
    "为了方便，我们可能会在测试条件不成立之前终止一个 `while` 循环，或者在访问到迭代对象的结尾之前停止一个 `for` 循环，这可以用关键字 `break` 来完成："
   ]
  },
  {
   "cell_type": "code",
   "execution_count": null,
   "id": "19b1dc12",
   "metadata": {
    "attributes": {
     "classes": [
      "jldoctest"
     ],
     "id": ""
    }
   },
   "outputs": [],
   "source": [
    "julia> i = 1;\n",
    "\n",
    "julia> while true\n",
    "           println(i)\n",
    "           if i >= 5\n",
    "               break\n",
    "           end\n",
    "           global i += 1\n",
    "       end\n",
    "1\n",
    "2\n",
    "3\n",
    "4\n",
    "5\n",
    "\n",
    "julia> for j = 1:1000\n",
    "           println(j)\n",
    "           if j >= 5\n",
    "               break\n",
    "           end\n",
    "       end\n",
    "1\n",
    "2\n",
    "3\n",
    "4\n",
    "5"
   ]
  },
  {
   "cell_type": "markdown",
   "id": "3efc46fc",
   "metadata": {},
   "source": [
    "没有关键字 `break` 的话，上面的 `while` 循环永远不会自己结束，而 `for` 循环会迭代到 1000，这些循环都可以使用 `break` 来提前结束。\n",
    "\n",
    "在某些场景下，需要直接结束此次迭代，并立刻进入下次迭代，`continue` 关键字可以用来完成此功能："
   ]
  },
  {
   "cell_type": "code",
   "execution_count": null,
   "id": "e1978f09",
   "metadata": {
    "attributes": {
     "classes": [
      "jldoctest"
     ],
     "id": ""
    }
   },
   "outputs": [],
   "source": [
    "julia> for i = 1:10\n",
    "           if i % 3 != 0\n",
    "               continue\n",
    "           end\n",
    "           println(i)\n",
    "       end\n",
    "3\n",
    "6\n",
    "9"
   ]
  },
  {
   "cell_type": "markdown",
   "id": "64998ed7",
   "metadata": {},
   "source": [
    "这是一个有点做作的例子，因为我们可以通过否定这个条件，把 `println` 调用放到 `if` 代码块里来更简洁的实现同样的功能。在实际应用中，在 `continue` 后面还会有更多的代码要运行，并且调用 `continue` 的地方可能会有多个。\n",
    "\n",
    "多个嵌套的 `for` 循环可以合并到一个外部循环，可以用来创建其迭代对象的笛卡尔积："
   ]
  },
  {
   "cell_type": "code",
   "execution_count": null,
   "id": "6adcf1f6",
   "metadata": {
    "attributes": {
     "classes": [
      "jldoctest"
     ],
     "id": ""
    }
   },
   "outputs": [],
   "source": [
    "julia> for i = 1:2, j = 3:4\n",
    "           println((i, j))\n",
    "       end\n",
    "(1, 3)\n",
    "(1, 4)\n",
    "(2, 3)\n",
    "(2, 4)"
   ]
  },
  {
   "cell_type": "markdown",
   "id": "a50acb27",
   "metadata": {},
   "source": [
    "有了这个语法，迭代变量依然可以正常使用循环变量来进行索引，例如 `for i = 1:n, j = 1:i` 是合法的，但是在一个循环里面使用 `break` 语句则会跳出整个嵌套循环，不仅仅是内层循环。每次内层循环运行的时候，变量（`i` 和 `j`）会被赋值为他们当前的迭代变量值。所以对 `i` 的赋值对于接下来的迭代是不可见的："
   ]
  },
  {
   "cell_type": "code",
   "execution_count": null,
   "id": "af9aca72",
   "metadata": {
    "attributes": {
     "classes": [
      "jldoctest"
     ],
     "id": ""
    }
   },
   "outputs": [],
   "source": [
    "julia> for i = 1:2, j = 3:4\n",
    "           println((i, j))\n",
    "           i = 0\n",
    "       end\n",
    "(1, 3)\n",
    "(1, 4)\n",
    "(2, 3)\n",
    "(2, 4)"
   ]
  },
  {
   "cell_type": "markdown",
   "id": "fb99e5da",
   "metadata": {},
   "source": [
    "如果这个例子给每个变量一个关键字 `for` 来重写，那么输出会不一样：第二个和第四个变量包含 `0`。\n",
    "\n",
    "## 异常处理\n",
    "\n",
    "当一个意外条件发生时，一个函数可能无法向调用者返回一个合理的值。在这种情况下，最好让意外条件终止程序并打印出调试的错误信息，或者根据程序员预先提供的异常处理代码来采取恰当的措施。\n",
    "\n",
    "### 内置的 `Exception`\n",
    "\n",
    "当一个意外的情况发生时，会抛出 `Exception`。下面列出的内置 `Exception` 都会中断正常的控制流程。\n",
    "\n",
    "| `Exception`                   |\n",
    "|:----------------------------- |\n",
    "| [`ArgumentError`](@ref)       |\n",
    "| [`BoundsError`](@ref)         |\n",
    "| [`CompositeException`](@ref)  |\n",
    "| [`DimensionMismatch`](@ref)   |\n",
    "| [`DivideError`](@ref)         |\n",
    "| [`DomainError`](@ref)         |\n",
    "| [`EOFError`](@ref)            |\n",
    "| [`ErrorException`](@ref)      |\n",
    "| [`InexactError`](@ref)        |\n",
    "| [`InitError`](@ref)           |\n",
    "| [`InterruptException`](@ref)  |\n",
    "| `InvalidStateException`       |\n",
    "| [`KeyError`](@ref)            |\n",
    "| [`LoadError`](@ref)           |\n",
    "| [`OutOfMemoryError`](@ref)    |\n",
    "| [`ReadOnlyMemoryError`](@ref) |\n",
    "| [`RemoteException`](@ref)     |\n",
    "| [`MethodError`](@ref)         |\n",
    "| [`OverflowError`](@ref)       |\n",
    "| [`Meta.ParseError`](@ref)     |\n",
    "| [`SystemError`](@ref)         |\n",
    "| [`TypeError`](@ref)           |\n",
    "| [`UndefRefError`](@ref)       |\n",
    "| [`UndefVarError`](@ref)       |\n",
    "| [`StringIndexError`](@ref)    |\n",
    "\n",
    "例如，当输入参数为负实数时，[`sqrt`](@ref) 函数会抛出一个 [`DomainError`](@ref) ："
   ]
  },
  {
   "cell_type": "code",
   "execution_count": null,
   "id": "8ab8e4ef",
   "metadata": {
    "attributes": {
     "classes": [
      "jldoctest"
     ],
     "id": ""
    }
   },
   "outputs": [],
   "source": [
    "julia> sqrt(-1)\n",
    "ERROR: DomainError with -1.0:\n",
    "sqrt will only return a complex result if called with a complex argument. Try sqrt(Complex(x)).\n",
    "Stacktrace:\n",
    "[...]"
   ]
  },
  {
   "cell_type": "markdown",
   "id": "cb02ad99",
   "metadata": {},
   "source": [
    "你可能需要根据下面的方式来定义你自己的异常："
   ]
  },
  {
   "cell_type": "code",
   "execution_count": null,
   "id": "158d0b0a",
   "metadata": {
    "attributes": {
     "classes": [
      "jldoctest"
     ],
     "id": ""
    }
   },
   "outputs": [],
   "source": [
    "julia> struct MyCustomException <: Exception end"
   ]
  },
  {
   "cell_type": "markdown",
   "id": "1e2a61ce",
   "metadata": {},
   "source": [
    "### [`throw`](@ref) 函数\n",
    "\n",
    "我们可以用 [`throw`](@ref) 显式地创建异常。例如，若一个函数只对非负数有定义，当输入参数是负数的时候，可以用 [`throw`](@ref) 抛出一个 [`DomainError`](@ref)。"
   ]
  },
  {
   "cell_type": "code",
   "execution_count": null,
   "id": "a5767719",
   "metadata": {
    "attributes": {
     "": "",
     "classes": [],
     "id": ""
    }
   },
   "outputs": [],
   "source": [
    "julia> f(x) = x>=0 ? exp(-x) : throw(DomainError(x, \"argument must be nonnegative\"))\n",
    "f (generic function with 1 method)\n",
    "\n",
    "julia> f(1)\n",
    "0.36787944117144233\n",
    "\n",
    "julia> f(-1)\n",
    "ERROR: DomainError with -1:\n",
    "argument must be nonnegative\n",
    "Stacktrace:\n",
    " [1] f(::Int64) at ./none:1"
   ]
  },
  {
   "cell_type": "markdown",
   "id": "fc64c26b",
   "metadata": {},
   "source": [
    "注意 [`DomainError`](@ref) 后面不接括号的话不是一个异常，而是一个异常类型。我们需要调用它来获得一个 `Exception` 对象："
   ]
  },
  {
   "cell_type": "code",
   "execution_count": null,
   "id": "02caeb74",
   "metadata": {
    "attributes": {
     "classes": [
      "jldoctest"
     ],
     "id": ""
    }
   },
   "outputs": [],
   "source": [
    "julia> typeof(DomainError(nothing)) <: Exception\n",
    "true\n",
    "\n",
    "julia> typeof(DomainError) <: Exception\n",
    "false"
   ]
  },
  {
   "cell_type": "markdown",
   "id": "3ef05125",
   "metadata": {},
   "source": [
    "另外，一些异常类型会接受一个或多个参数来进行错误报告："
   ]
  },
  {
   "cell_type": "code",
   "execution_count": null,
   "id": "6687b823",
   "metadata": {
    "attributes": {
     "classes": [
      "jldoctest"
     ],
     "id": ""
    }
   },
   "outputs": [],
   "source": [
    "julia> throw(UndefVarError(:x))\n",
    "ERROR: UndefVarError: x not defined"
   ]
  },
  {
   "cell_type": "markdown",
   "id": "4a48a652",
   "metadata": {},
   "source": [
    "我们可以仿照 [`UndefVarError`](@ref) 的写法，用自定义异常类型来轻松实现这个机制："
   ]
  },
  {
   "cell_type": "code",
   "execution_count": null,
   "id": "9dda9633",
   "metadata": {
    "attributes": {
     "classes": [
      "jldoctest"
     ],
     "id": ""
    }
   },
   "outputs": [],
   "source": [
    "julia> struct MyUndefVarError <: Exception\n",
    "           var::Symbol\n",
    "       end\n",
    "\n",
    "julia> Base.showerror(io::IO, e::MyUndefVarError) = print(io, e.var, \" not defined\")"
   ]
  },
  {
   "cell_type": "markdown",
   "id": "05250e77",
   "metadata": {},
   "source": [
    "!!! note\n",
    "    错误信息的第一个单词最好用小写。例如："
   ]
  },
  {
   "cell_type": "code",
   "execution_count": null,
   "id": "c683ee38",
   "metadata": {},
   "outputs": [],
   "source": [
    "`size(A) == size(B) || throw(DimensionMismatch(\"size of A not equal to size of B\"))`\n",
    "\n",
    "就比\n",
    "\n",
    "`size(A) == size(B) || throw(DimensionMismatch(\"Size of A not equal to size of B\"))`.\n",
    "\n",
    "更好。\n",
    "\n",
    "但是，有时保留大写首字母是有意义的，例如函数的参数就是大写字母时：\n",
    "\n",
    "`size(A,1) == size(B,2) || throw(DimensionMismatch(\"A has first dimension...\"))`."
   ]
  },
  {
   "cell_type": "markdown",
   "id": "fbd2a6f4",
   "metadata": {},
   "source": [
    "### 错误\n",
    "\n",
    "我们可以用 [`error`](@ref) 函数生成一个 [`ErrorException`](@ref) 来中断正常的控制流程。\n",
    "\n",
    "假设我们希望在计算负数的平方根时让程序立即停止执行。为了实现它，我们可以定义一个挑剔的 [`sqrt`](@ref) 函数，当它的参数是负数时，产生一个错误："
   ]
  },
  {
   "cell_type": "code",
   "execution_count": null,
   "id": "5084ebf0",
   "metadata": {
    "attributes": {
     "": "",
     "classes": [],
     "id": ""
    }
   },
   "outputs": [],
   "source": [
    "julia> fussy_sqrt(x) = x >= 0 ? sqrt(x) : error(\"negative x not allowed\")\n",
    "fussy_sqrt (generic function with 1 method)\n",
    "\n",
    "julia> fussy_sqrt(2)\n",
    "1.4142135623730951\n",
    "\n",
    "julia> fussy_sqrt(-1)\n",
    "ERROR: negative x not allowed\n",
    "Stacktrace:\n",
    " [1] error at ./error.jl:33 [inlined]\n",
    " [2] fussy_sqrt(::Int64) at ./none:1\n",
    " [3] top-level scope"
   ]
  },
  {
   "cell_type": "markdown",
   "id": "7c8ad6cb",
   "metadata": {},
   "source": [
    "如果另一个函数调用 `fussy_sqrt` 和一个负数, 它会立马返回，\n",
    "在交互会话中显示错误信息，而不会继续执行调用的函数："
   ]
  },
  {
   "cell_type": "code",
   "execution_count": null,
   "id": "7916799e",
   "metadata": {
    "attributes": {
     "": "",
     "classes": [],
     "id": ""
    }
   },
   "outputs": [],
   "source": [
    "julia> function verbose_fussy_sqrt(x)\n",
    "           println(\"before fussy_sqrt\")\n",
    "           r = fussy_sqrt(x)\n",
    "           println(\"after fussy_sqrt\")\n",
    "           return r\n",
    "       end\n",
    "verbose_fussy_sqrt (generic function with 1 method)\n",
    "\n",
    "julia> verbose_fussy_sqrt(2)\n",
    "before fussy_sqrt\n",
    "after fussy_sqrt\n",
    "1.4142135623730951\n",
    "\n",
    "julia> verbose_fussy_sqrt(-1)\n",
    "before fussy_sqrt\n",
    "ERROR: negative x not allowed\n",
    "Stacktrace:\n",
    " [1] error at ./error.jl:33 [inlined]\n",
    " [2] fussy_sqrt at ./none:1 [inlined]\n",
    " [3] verbose_fussy_sqrt(::Int64) at ./none:3\n",
    " [4] top-level scope"
   ]
  },
  {
   "cell_type": "markdown",
   "id": "e4766e03",
   "metadata": {},
   "source": [
    "### `try/catch` 语句\n",
    "\n",
    "通过 `try / catch` 语句，可以测试 Exception 并\n",
    "优雅处理可能会破坏应用程序的事情。 例如，\n",
    "在下面的代码中，平方根函数会引发异常。 通过\n",
    "在其周围放置 `try / catch` 块可以缓解。 您可以选择如何\n",
    "处理此异常，无论是记录它，返回占位符值还是\n",
    "就像下面仅打印一句话。 要注意的是\n",
    "在决定如何处理异常时，使用`try / catch` 块\n",
    "比使用条件分支处理要慢得多。\n",
    "以下是使用` try / catch` 块处理异常的更多示例："
   ]
  },
  {
   "cell_type": "code",
   "execution_count": null,
   "id": "5edb584b",
   "metadata": {
    "attributes": {
     "classes": [
      "jldoctest"
     ],
     "id": ""
    }
   },
   "outputs": [],
   "source": [
    "julia> try\n",
    "sqrt(\"ten\")\n",
    "catch e\n",
    "println(\"You should have entered a numeric value\")\n",
    "end\n",
    "You should have entered a numeric value"
   ]
  },
  {
   "cell_type": "markdown",
   "id": "4093beca",
   "metadata": {},
   "source": [
    "`try/catch` 语句允许保存 `Exception` 到一个变量中。在下面这个做作的例子中，如果 `x` 是可索引的，则计算 `x` 的第二项的平方根，否则就假设 `x` 是一个实数，并返回它的平方根："
   ]
  },
  {
   "cell_type": "code",
   "execution_count": null,
   "id": "cf44354c",
   "metadata": {
    "attributes": {
     "classes": [
      "jldoctest"
     ],
     "id": ""
    }
   },
   "outputs": [],
   "source": [
    "julia> sqrt_second(x) = try\n",
    "           sqrt(x[2])\n",
    "       catch y\n",
    "           if isa(y, DomainError)\n",
    "               sqrt(complex(x[2], 0))\n",
    "           elseif isa(y, BoundsError)\n",
    "               sqrt(x)\n",
    "           end\n",
    "       end\n",
    "sqrt_second (generic function with 1 method)\n",
    "\n",
    "julia> sqrt_second([1 4])\n",
    "2.0\n",
    "\n",
    "julia> sqrt_second([1 -4])\n",
    "0.0 + 2.0im\n",
    "\n",
    "julia> sqrt_second(9)\n",
    "3.0\n",
    "\n",
    "julia> sqrt_second(-9)\n",
    "ERROR: DomainError with -9.0:\n",
    "sqrt will only return a complex result if called with a complex argument. Try sqrt(Complex(x)).\n",
    "Stacktrace:\n",
    "[...]"
   ]
  },
  {
   "cell_type": "markdown",
   "id": "78adf1b2",
   "metadata": {},
   "source": [
    "注意 `catch` 后面的字符会被一直认为是异常的名字，所以在写 `try/catch` 单行表达式时，需要特别小心。下面的代码**不会**在错误的情况下返回 `x` 的值："
   ]
  },
  {
   "cell_type": "code",
   "execution_count": null,
   "id": "0cd40b27",
   "metadata": {
    "attributes": {
     "classes": [
      "julia"
     ],
     "id": ""
    }
   },
   "outputs": [],
   "source": [
    "try bad() catch x end"
   ]
  },
  {
   "cell_type": "markdown",
   "id": "2e00e644",
   "metadata": {},
   "source": [
    "正确的做法是在 `catch` 后添加一个分号或者直接换行："
   ]
  },
  {
   "cell_type": "code",
   "execution_count": null,
   "id": "c48779ab",
   "metadata": {
    "attributes": {
     "classes": [
      "julia"
     ],
     "id": ""
    }
   },
   "outputs": [],
   "source": [
    "try bad() catch; x end\n",
    "\n",
    "try bad()\n",
    "catch\n",
    "    x\n",
    "end"
   ]
  },
  {
   "cell_type": "markdown",
   "id": "46af746d",
   "metadata": {},
   "source": [
    "`try/catch` 组件的强大之处在于能够将高度嵌套的计算立刻解耦成更高层次地调用函数。有时没有错误产生，但需要能够解耦堆栈，并传值到上层。Julia 提供了 [`rethrow`](@ref)、[`backtrace`](@ref)、[`catch_backtrace`](@ref) 和 [`Base.catch_stack`](@ref) 函数进行更高级的错误处理。\n",
    "\n",
    "### `finally` 子句\n",
    "\n",
    "在进行状态改变或者使用类似文件的资源的编程时，经常需要在代码结束的时候进行必要的清理工作（比如关闭文件）。由于异常会使得部分代码块在正常结束之前退出，所以可能会让上述工作变得复杂。`finally` 关键字提供了一种方式，无论代码块是如何退出的，都能够让代码块在退出时运行某段代码。\n",
    "\n",
    "这里是一个确保一个打开的文件被关闭的例子："
   ]
  },
  {
   "cell_type": "code",
   "execution_count": null,
   "id": "39af049f",
   "metadata": {
    "attributes": {
     "classes": [
      "julia"
     ],
     "id": ""
    }
   },
   "outputs": [],
   "source": [
    "f = open(\"file\")\n",
    "try\n",
    "    # operate on file f\n",
    "finally\n",
    "    close(f)\n",
    "end"
   ]
  },
  {
   "cell_type": "markdown",
   "id": "bdde2276",
   "metadata": {},
   "source": [
    "当控制流离开 `try` 代码块（例如，遇到 `return`，或者正常结束），`close(f)` 就会被执行。如果 `try` 代码块由于异常退出，这个异常会继续传递。`catch` 代码块可以和 `try` 还有 `finally` 配合使用。这时 `finally` 代码块会在 `catch` 处理错误之后才运行。\n",
    "\n",
    "## [`Task`（协程）](@id man-tasks)\n",
    "\n",
    "`Task` 是一种允许计算以更灵活的方式被中断或者恢复的流程控制特性。\n",
    "我们提及它只是为了说明的完整性；详细的介绍参见：[异步编程](@ref man-asynchronous)。"
   ]
  }
 ],
 "metadata": {},
 "nbformat": 4,
 "nbformat_minor": 5
}
