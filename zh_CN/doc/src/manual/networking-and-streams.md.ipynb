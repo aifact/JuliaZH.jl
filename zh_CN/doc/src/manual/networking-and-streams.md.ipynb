{
 "cells": [
  {
   "cell_type": "markdown",
   "id": "55c5694b",
   "metadata": {},
   "source": [
    "# 网络和流\n",
    "\n",
    "Julia 提供了一个功能丰富的接口来处理流式 I/O 对象，如终端、管道和 TCP 套接字。此接口虽然在系统级是异步的，但是其以同步的方式展现给程序员，通常也不需要考虑底层的异步操作。这是通过大量使用 Julia 协作线程（[协程](@ref man-tasks)）功能实现的。\n",
    "\n",
    "## 基础流 I/O\n",
    "\n",
    "所有 Julia stream 都暴露了 [`read`](@ref) 和 [`write`](@ref) 方法，将 stream 作为它们的第一个参数，如："
   ]
  },
  {
   "cell_type": "code",
   "execution_count": null,
   "id": "a7e3565e",
   "metadata": {
    "attributes": {
     "classes": [
      "julia-repl"
     ],
     "id": ""
    }
   },
   "outputs": [],
   "source": [
    "julia> write(stdout, \"Hello World\");  # suppress return value 11 with ;\n",
    "Hello World\n",
    "julia> read(stdin, Char)\n",
    "\n",
    "'\\n': ASCII/Unicode U+000a (category Cc: Other, control)"
   ]
  },
  {
   "cell_type": "markdown",
   "id": "f0181899",
   "metadata": {},
   "source": [
    "注意，[`write`](@ref) 返回 11，字节数（`\"Hello World\"`）写入 [`stdout`](@ref)，但是返回值使用 `;` 抑制。\n",
    "\n",
    "这里按了两次回车，以便 Julia 能够读取到换行符。正如你在这个例子中所看到的，[`write`](@ref) 以待写入的数据作为其第二个参数，而 [`read`](@ref) 以待读取的数据的类型作为其第二个参数。\n",
    "\n",
    "例如，为了读取一个简单的字节数组，我们可以这样做："
   ]
  },
  {
   "cell_type": "code",
   "execution_count": null,
   "id": "45d8f07e",
   "metadata": {
    "attributes": {
     "classes": [
      "julia-repl"
     ],
     "id": ""
    }
   },
   "outputs": [],
   "source": [
    "julia> x = zeros(UInt8, 4)\n",
    "4-element Array{UInt8,1}:\n",
    " 0x00\n",
    " 0x00\n",
    " 0x00\n",
    " 0x00\n",
    "\n",
    "julia> read!(stdin, x)\n",
    "abcd\n",
    "4-element Array{UInt8,1}:\n",
    " 0x61\n",
    " 0x62\n",
    " 0x63\n",
    " 0x64"
   ]
  },
  {
   "cell_type": "markdown",
   "id": "4aaed2a4",
   "metadata": {},
   "source": [
    "但是，因为这有些繁琐，所以提供了几个方便的方法。例如，我们可以把上面的代码编写为："
   ]
  },
  {
   "cell_type": "code",
   "execution_count": null,
   "id": "a012b654",
   "metadata": {
    "attributes": {
     "classes": [
      "julia-repl"
     ],
     "id": ""
    }
   },
   "outputs": [],
   "source": [
    "julia> read(stdin, 4)\n",
    "abcd\n",
    "4-element Array{UInt8,1}:\n",
    " 0x61\n",
    " 0x62\n",
    " 0x63\n",
    " 0x64"
   ]
  },
  {
   "cell_type": "markdown",
   "id": "8134f434",
   "metadata": {},
   "source": [
    "或者如果我们想要读取一整行："
   ]
  },
  {
   "cell_type": "code",
   "execution_count": null,
   "id": "25470741",
   "metadata": {
    "attributes": {
     "classes": [
      "julia-repl"
     ],
     "id": ""
    }
   },
   "outputs": [],
   "source": [
    "julia> readline(stdin)\n",
    "abcd\n",
    "\"abcd\""
   ]
  },
  {
   "cell_type": "markdown",
   "id": "b4a3cd45",
   "metadata": {},
   "source": [
    "请注意，根据你的终端设置，你的 TTY 可能是行缓冲的，因此在数据发送给 Julia 前可能需要额外的回车。\n",
    "\n",
    "若要读取 [`stdin`](@ref) 的每一行，可以使用 [`eachline`](@ref)："
   ]
  },
  {
   "cell_type": "code",
   "execution_count": null,
   "id": "4796ddfb",
   "metadata": {
    "attributes": {
     "classes": [
      "julia"
     ],
     "id": ""
    }
   },
   "outputs": [],
   "source": [
    "for line in eachline(stdin)\n",
    "    print(\"Found $line\")\n",
    "end"
   ]
  },
  {
   "cell_type": "markdown",
   "id": "2a297aab",
   "metadata": {},
   "source": [
    "或者如果你想要按字符读取的话，使用 [`read`](@ref) ："
   ]
  },
  {
   "cell_type": "code",
   "execution_count": null,
   "id": "c4f69547",
   "metadata": {
    "attributes": {
     "classes": [
      "julia"
     ],
     "id": ""
    }
   },
   "outputs": [],
   "source": [
    "while !eof(stdin)\n",
    "    x = read(stdin, Char)\n",
    "    println(\"Found: $x\")\n",
    "end"
   ]
  },
  {
   "cell_type": "markdown",
   "id": "eac599ee",
   "metadata": {},
   "source": [
    "## 文本 I/O\n",
    "\n",
    "请注意，上面提到的 [`write`](@ref) 方法对二进制流进行操作。具体来说，值不会转换为任何规范的文本表示形式，而是按原样输出："
   ]
  },
  {
   "cell_type": "code",
   "execution_count": null,
   "id": "6d801af1",
   "metadata": {
    "attributes": {
     "classes": [
      "jldoctest"
     ],
     "id": ""
    }
   },
   "outputs": [],
   "source": [
    "julia> write(stdout, 0x61);  # suppress return value 1 with ;\n",
    "a"
   ]
  },
  {
   "cell_type": "markdown",
   "id": "36670b24",
   "metadata": {},
   "source": [
    "请注意，`a` 被 [`write`](@ref) 函数写入到 [`stdout`](@ref) 并且返回值为 `1`（因为 `0x61` 为一个字节）。\n",
    "\n",
    "对于文本 I/O，请根据需要使用 [`print`](@ref) 或 [`show`](@ref) 方法（有关这两个方法之间的差异的详细讨论，请参阅它们的文档）："
   ]
  },
  {
   "cell_type": "code",
   "execution_count": null,
   "id": "58614600",
   "metadata": {
    "attributes": {
     "classes": [
      "jldoctest"
     ],
     "id": ""
    }
   },
   "outputs": [],
   "source": [
    "julia> print(stdout, 0x61)\n",
    "97"
   ]
  },
  {
   "cell_type": "markdown",
   "id": "bda15ac9",
   "metadata": {},
   "source": [
    "有关如何实现自定义类型的显示方法的更多信息，请参阅 [自定义 pretty-printing](@ref man-custom-pretty-printing)。\n",
    "\n",
    "## IO 输出的上下文信息\n",
    "\n",
    "有时，IO 输出可受益于将上下文信息传递到 show 方法的能力。[`IOContext`](@ref) 对象提供了将任意元数据与 IO 对象相关联的框架。例如，`:compact => true` 向 IO 对象添加一个参数来提示调用的 show 方法应该打印一个较短的输出（如果适用）。有关常用属性的列表，请参阅 [`IOContext`](@ref) 文档。\n",
    "\n",
    "## 使用文件\n",
    "\n",
    "和其他环境一样，Julia 有 [`open`](@ref) 函数，它接收文件名并返回一个 [`IOStream`](@ref) 对象，你可以用该对象来对文件进行读取和写入。例如，如果我们有文件 `hello.txt`，其内容为 `Hello, World!`："
   ]
  },
  {
   "cell_type": "code",
   "execution_count": null,
   "id": "40dfb78d",
   "metadata": {
    "attributes": {
     "classes": [
      "julia-repl"
     ],
     "id": ""
    }
   },
   "outputs": [],
   "source": [
    "julia> f = open(\"hello.txt\")\n",
    "IOStream(<file hello.txt>)\n",
    "\n",
    "julia> readlines(f)\n",
    "1-element Array{String,1}:\n",
    " \"Hello, World!\""
   ]
  },
  {
   "cell_type": "markdown",
   "id": "f33c79cc",
   "metadata": {},
   "source": [
    "若要写入文件，则可以带着 write（`\"w\"`）标志来打开它："
   ]
  },
  {
   "cell_type": "code",
   "execution_count": null,
   "id": "29b8394c",
   "metadata": {
    "attributes": {
     "classes": [
      "julia-repl"
     ],
     "id": ""
    }
   },
   "outputs": [],
   "source": [
    "julia> f = open(\"hello.txt\",\"w\")\n",
    "IOStream(<file hello.txt>)\n",
    "\n",
    "julia> write(f,\"Hello again.\")\n",
    "12"
   ]
  },
  {
   "cell_type": "markdown",
   "id": "70e567ba",
   "metadata": {},
   "source": [
    "你如果在此刻检查 `hello.txt` 的内容，会注意到它是空的；改动实际上还没有写入到磁盘中。这是因为 `IOStream` 必须在写入实际刷新到磁盘前关闭："
   ]
  },
  {
   "cell_type": "code",
   "execution_count": null,
   "id": "21a5c3e6",
   "metadata": {
    "attributes": {
     "classes": [
      "julia-repl"
     ],
     "id": ""
    }
   },
   "outputs": [],
   "source": [
    "julia> close(f)"
   ]
  },
  {
   "cell_type": "markdown",
   "id": "e56e554d",
   "metadata": {},
   "source": [
    "再次检查 `hello.txt` 将显示其内容已被更改。\n",
    "\n",
    "打开文件，对其内容执行一些操作，并再次关闭它是一种非常常见的模式。为了使这更容易，[`open`](@ref) 还有另一种调用方式，它以一个函数作为其第一个参数，以文件名作为其第二个参数，以该文件为参数调用该函数，然后再次关闭它。例如，给定函数："
   ]
  },
  {
   "cell_type": "code",
   "execution_count": null,
   "id": "71c3afb3",
   "metadata": {
    "attributes": {
     "classes": [
      "julia"
     ],
     "id": ""
    }
   },
   "outputs": [],
   "source": [
    "function read_and_capitalize(f::IOStream)\n",
    "    return uppercase(read(f, String))\n",
    "end"
   ]
  },
  {
   "cell_type": "markdown",
   "id": "e7c9a724",
   "metadata": {},
   "source": [
    "可以调用："
   ]
  },
  {
   "cell_type": "code",
   "execution_count": null,
   "id": "c2132f86",
   "metadata": {
    "attributes": {
     "classes": [
      "julia-repl"
     ],
     "id": ""
    }
   },
   "outputs": [],
   "source": [
    "julia> open(read_and_capitalize, \"hello.txt\")\n",
    "\"HELLO AGAIN.\""
   ]
  },
  {
   "cell_type": "markdown",
   "id": "ad6244aa",
   "metadata": {},
   "source": [
    "来打开 `hello.txt`，对它调用 `read_and_capitalize`，关闭 `hello.txt` 并返回大写的内容。\n",
    "\n",
    "为了避免被迫定义一个命名函数，你可以使用 `do` 语法，它可以动态地创建匿名函数："
   ]
  },
  {
   "cell_type": "code",
   "execution_count": null,
   "id": "35a4ce83",
   "metadata": {
    "attributes": {
     "classes": [
      "julia-repl"
     ],
     "id": ""
    }
   },
   "outputs": [],
   "source": [
    "julia> open(\"hello.txt\") do f\n",
    "           uppercase(read(f, String))\n",
    "       end\n",
    "\"HELLO AGAIN.\""
   ]
  },
  {
   "cell_type": "markdown",
   "id": "06a08dd6",
   "metadata": {},
   "source": [
    "## 一个简单的 TCP 示例\n",
    "\n",
    "让我们直接进入一个 TCP 套接字相关的简单示例。此功能位于名为 `Sockets` 的标准库中。让我们先创建一个简单的服务器："
   ]
  },
  {
   "cell_type": "code",
   "execution_count": null,
   "id": "d2b05c67",
   "metadata": {
    "attributes": {
     "classes": [
      "julia-repl"
     ],
     "id": ""
    }
   },
   "outputs": [],
   "source": [
    "julia> using Sockets\n",
    "\n",
    "julia> errormonitor(@async begin\n",
    "           server = listen(2000)\n",
    "           while true\n",
    "               sock = accept(server)\n",
    "               println(\"Hello World\\n\")\n",
    "           end\n",
    "       end)\n",
    "Task (runnable) @0x00007fd31dc11ae0"
   ]
  },
  {
   "cell_type": "markdown",
   "id": "d98399a3",
   "metadata": {},
   "source": [
    "对于那些熟悉 Unix 套接字 API 的人，这些方法名称会让人感觉很熟悉，可是它们的用法比原始的 Unix 套接字 API 要简单些。在本例中，首次调用 [`listen`](@ref) 会创建一个服务器，等待传入指定端口（2000）的连接。"
   ]
  },
  {
   "cell_type": "code",
   "execution_count": null,
   "id": "e2a01376",
   "metadata": {
    "attributes": {
     "classes": [
      "julia-repl"
     ],
     "id": ""
    }
   },
   "outputs": [],
   "source": [
    "julia> listen(2000) # 监听（IPv4 下的）localhost:2000\n",
    "Sockets.TCPServer(active)\n",
    "\n",
    "julia> listen(ip\"127.0.0.1\",2000) # 等价于第一个\n",
    "Sockets.TCPServer(active)\n",
    "\n",
    "julia> listen(ip\"::1\",2000) # 监听（IPv6 下的）localhost:2000\n",
    "Sockets.TCPServer(active)\n",
    "\n",
    "julia> listen(IPv4(0),2001) # 监听所有 IPv4 接口的端口 2001\n",
    "Sockets.TCPServer(active)\n",
    "\n",
    "julia> listen(IPv6(0),2001) # 监听所有 IPv6 接口的端口 2001\n",
    "Sockets.TCPServer(active)\n",
    "\n",
    "julia> listen(\"testsocket\") # 监听 UNIX 域套接字\n",
    "Sockets.PipeServer(active)\n",
    "\n",
    "julia> listen(\"\\\\\\\\.\\\\pipe\\\\testsocket\") # 监听 Windows 命名管道\n",
    "Sockets.PipeServer(active)"
   ]
  },
  {
   "cell_type": "markdown",
   "id": "89e74a35",
   "metadata": {},
   "source": [
    "请注意，最后一次调用返回的类型是不同的。这是因为此服务器不监听 TCP，而是监听命名管道（Windows）或 UNIX 域套接字。还请注意 Windows 命名管道格式必须具有特定的模式，即名称前缀（`\\\\.\\pipe\\`），以便唯一标识[文件类型](https://docs.microsoft.com/windows/desktop/ipc/pipe-names)。TCP 和命名管道或 UNIX 域套接字之间的区别是微妙的，这与 [`accept`](@ref) 和 [`connect`](@ref) 方法有关。[`accept`](@ref) 方法检索到连接到我们刚创建的服务器的客户端的连接，而 [`connect`](@ref) 函数使用指定的方法连接到服务器。[`connect`](@ref) 函数接收与 [`listen`](@ref) 相同的参数，因此，假设环境（即 host、cwd 等）相同，你应该能够将相同的参数传递给 [`connect`](@ref)，就像你在监听建立连接时所做的那样。那么让我们尝试一下（在创建上面的服务器之后）："
   ]
  },
  {
   "cell_type": "code",
   "execution_count": null,
   "id": "7a517eb3",
   "metadata": {
    "attributes": {
     "classes": [
      "julia-repl"
     ],
     "id": ""
    }
   },
   "outputs": [],
   "source": [
    "julia> connect(2000)\n",
    "TCPSocket(open, 0 bytes waiting)\n",
    "\n",
    "julia> Hello World"
   ]
  },
  {
   "cell_type": "markdown",
   "id": "99de8a8f",
   "metadata": {},
   "source": [
    "不出所料，我们看到「Hello World」被打印出来。那么，让我们分析一下幕后发生的事情。在我们调用 [`connect`](@ref) 时，我们连接到刚刚创建的服务器。与此同时，accept 函数返回到新创建的套接字的服务器端连接，并打印「Hello World」来表明连接成功。\n",
    "\n",
    "Julia 的强大优势在于，即使 I/O 实际上是异步发生的，API 也以同步方式暴露，我们不必担心回调，甚至不必确保服务器能够运行。在我们调用 [`connect`](@ref) 时，当前任务等待建立连接，并在这之后才继续执行。在此暂停中，服务器任务恢复执行（因为现在有一个连接请求是可用的），接受该连接，打印信息并等待下一个客户端。读取和写入以同样的方式运行。为了理解这一点，请考虑以下简单的 echo 服务器："
   ]
  },
  {
   "cell_type": "code",
   "execution_count": null,
   "id": "f36ec2f0",
   "metadata": {
    "attributes": {
     "classes": [
      "julia-repl"
     ],
     "id": ""
    }
   },
   "outputs": [],
   "source": [
    "julia> errormonitor(@async begin\n",
    "           server = listen(2001)\n",
    "           while true\n",
    "               sock = accept(server)\n",
    "               @async while isopen(sock)\n",
    "                   write(sock, readline(sock, keep=true))\n",
    "               end\n",
    "           end\n",
    "       end)\n",
    "Task (runnable) @0x00007fd31dc12e60\n",
    "\n",
    "julia> clientside = connect(2001)\n",
    "TCPSocket(RawFD(28) open, 0 bytes waiting)\n",
    "\n",
    "julia> errormonitor(@async while isopen(clientside)\n",
    "           write(stdout, readline(clientside, keep=true))\n",
    "       end)\n",
    "Task (runnable) @0x00007fd31dc11870\n",
    "\n",
    "julia> println(clientside,\"Hello World from the Echo Server\")\n",
    "Hello World from the Echo Server"
   ]
  },
  {
   "cell_type": "markdown",
   "id": "8796ad18",
   "metadata": {},
   "source": [
    "与其他流一样，使用 [`close`](@ref) 即可断开该套接字："
   ]
  },
  {
   "cell_type": "code",
   "execution_count": null,
   "id": "0a79975e",
   "metadata": {
    "attributes": {
     "classes": [
      "julia-repl"
     ],
     "id": ""
    }
   },
   "outputs": [],
   "source": [
    "julia> close(clientside)"
   ]
  },
  {
   "cell_type": "markdown",
   "id": "036c6726",
   "metadata": {},
   "source": [
    "## 解析 IP 地址\n",
    "\n",
    "与 [`listen`](@ref) 方法不一致的 [`connect`](@ref) 方法之一是 `connect(host::String,port)`，它将尝试连接到由 `host` 参数给定的主机上的由 `port` 参数给定的端口。它允许你执行以下操作："
   ]
  },
  {
   "cell_type": "code",
   "execution_count": null,
   "id": "7d1398cf",
   "metadata": {
    "attributes": {
     "classes": [
      "julia-repl"
     ],
     "id": ""
    }
   },
   "outputs": [],
   "source": [
    "julia> connect(\"google.com\", 80)\n",
    "TCPSocket(RawFD(30) open, 0 bytes waiting)"
   ]
  },
  {
   "cell_type": "markdown",
   "id": "9b3a635a",
   "metadata": {},
   "source": [
    "此功能的基础是 [`getaddrinfo`](@ref)，它将执行适当的地址解析："
   ]
  },
  {
   "cell_type": "code",
   "execution_count": null,
   "id": "59e5c9be",
   "metadata": {
    "attributes": {
     "classes": [
      "julia-repl"
     ],
     "id": ""
    }
   },
   "outputs": [],
   "source": [
    "julia> getaddrinfo(\"google.com\")\n",
    "ip\"74.125.226.225\""
   ]
  },
  {
   "cell_type": "markdown",
   "id": "84ed42a2",
   "metadata": {},
   "source": [
    "## 异步 I/O\n",
    "\n",
    "\n",
    "[`Base.read`](@ref) 和 [`Base.write`](@ref) 的所有 I/O 操作都可以通过使用 [coroutines](@ref man-tasks) 异步执行。 你可以使用 [`@async`](@ref) 宏创建一个新的协程来读取或写入流："
   ]
  },
  {
   "cell_type": "code",
   "execution_count": null,
   "id": "51729329",
   "metadata": {
    "attributes": {
     "classes": [
      "julia-repl"
     ],
     "id": ""
    }
   },
   "outputs": [],
   "source": [
    "julia> task = @async open(\"foo.txt\", \"w\") do io\n",
    "           write(io, \"Hello, World!\")\n",
    "       end;\n",
    "\n",
    "julia> wait(task)\n",
    "\n",
    "julia> readlines(\"foo.txt\")\n",
    "1-element Array{String,1}:\n",
    " \"Hello, World!\""
   ]
  },
  {
   "cell_type": "markdown",
   "id": "676966ae",
   "metadata": {},
   "source": [
    "通常会遇到您想要同时执行多个异步操作并等待它们全部完成的情况。你可以使用[`@ sync`](@ ref)宏，这会阻塞你的程序直到它所包裹的所有协程运行完毕。"
   ]
  },
  {
   "cell_type": "code",
   "execution_count": null,
   "id": "385da335",
   "metadata": {
    "attributes": {
     "classes": [
      "julia-repl"
     ],
     "id": ""
    }
   },
   "outputs": [],
   "source": [
    "julia> using Sockets\n",
    "\n",
    "julia> @sync for hostname in (\"google.com\", \"github.com\", \"julialang.org\")\n",
    "           @async begin\n",
    "               conn = connect(hostname, 80)\n",
    "               write(conn, \"GET / HTTP/1.1\\r\\nHost:$(hostname)\\r\\n\\r\\n\")\n",
    "               readline(conn, keep=true)\n",
    "               println(\"Finished connection to $(hostname)\")\n",
    "           end\n",
    "       end\n",
    "Finished connection to google.com\n",
    "Finished connection to julialang.org\n",
    "Finished connection to github.com"
   ]
  }
 ],
 "metadata": {},
 "nbformat": 4,
 "nbformat_minor": 5
}
