{
 "cells": [
  {
   "cell_type": "markdown",
   "id": "732a38fc",
   "metadata": {},
   "source": [
    "# 网络和流\n",
    "\n",
    "Julia 提供了一个功能丰富的接口来处理流式 I/O 对象，如终端、管道和 TCP 套接字。此接口虽然在系统级是异步的，但是其以同步的方式展现给程序员，通常也不需要考虑底层的异步操作。这是通过大量使用 Julia 协作线程（[协程](@ref man-tasks)）功能实现的。\n",
    "\n",
    "## 基础流 I/O\n",
    "\n",
    "所有 Julia stream 都暴露了 [`read`](@ref) 和 [`write`](@ref) 方法，将 stream 作为它们的第一个参数，如："
   ]
  },
  {
   "cell_type": "code",
   "execution_count": null,
   "id": "5532fcbd",
   "metadata": {
    "attributes": {
     "classes": [
      "julia-repl"
     ],
     "id": ""
    }
   },
   "outputs": [],
   "source": [
    "julia> write(stdout, \"Hello World\");  # suppress return value 11 with ;\n",
    "Hello World\n",
    "julia> read(stdin, Char)\n",
    "\n",
    "'\\n': ASCII/Unicode U+000a (category Cc: Other, control)"
   ]
  },
  {
   "cell_type": "markdown",
   "id": "9e56d5a2",
   "metadata": {},
   "source": [
    "注意，[`write`](@ref) 返回 11，字节数（`\"Hello World\"`）写入 [`stdout`](@ref)，但是返回值使用 `;` 抑制。\n",
    "\n",
    "这里按了两次回车，以便 Julia 能够读取到换行符。正如你在这个例子中所看到的，[`write`](@ref) 以待写入的数据作为其第二个参数，而 [`read`](@ref) 以待读取的数据的类型作为其第二个参数。\n",
    "\n",
    "例如，为了读取一个简单的字节数组，我们可以这样做："
   ]
  },
  {
   "cell_type": "code",
   "execution_count": null,
   "id": "73d840a6",
   "metadata": {
    "attributes": {
     "classes": [
      "julia-repl"
     ],
     "id": ""
    }
   },
   "outputs": [],
   "source": [
    "julia> x = zeros(UInt8, 4)\n",
    "4-element Array{UInt8,1}:\n",
    " 0x00\n",
    " 0x00\n",
    " 0x00\n",
    " 0x00\n",
    "\n",
    "julia> read!(stdin, x)\n",
    "abcd\n",
    "4-element Array{UInt8,1}:\n",
    " 0x61\n",
    " 0x62\n",
    " 0x63\n",
    " 0x64"
   ]
  },
  {
   "cell_type": "markdown",
   "id": "1437e70f",
   "metadata": {},
   "source": [
    "但是，因为这有些繁琐，所以提供了几个方便的方法。例如，我们可以把上面的代码编写为："
   ]
  },
  {
   "cell_type": "code",
   "execution_count": null,
   "id": "02315cd9",
   "metadata": {
    "attributes": {
     "classes": [
      "julia-repl"
     ],
     "id": ""
    }
   },
   "outputs": [],
   "source": [
    "julia> read(stdin, 4)\n",
    "abcd\n",
    "4-element Array{UInt8,1}:\n",
    " 0x61\n",
    " 0x62\n",
    " 0x63\n",
    " 0x64"
   ]
  },
  {
   "cell_type": "markdown",
   "id": "ddad2615",
   "metadata": {},
   "source": [
    "或者如果我们想要读取一整行："
   ]
  },
  {
   "cell_type": "code",
   "execution_count": null,
   "id": "d4710740",
   "metadata": {
    "attributes": {
     "classes": [
      "julia-repl"
     ],
     "id": ""
    }
   },
   "outputs": [],
   "source": [
    "julia> readline(stdin)\n",
    "abcd\n",
    "\"abcd\""
   ]
  },
  {
   "cell_type": "markdown",
   "id": "b67f0879",
   "metadata": {},
   "source": [
    "请注意，根据你的终端设置，你的 TTY 可能是行缓冲的，因此在数据发送给 Julia 前可能需要额外的回车。\n",
    "\n",
    "若要读取 [`stdin`](@ref) 的每一行，可以使用 [`eachline`](@ref)："
   ]
  },
  {
   "cell_type": "code",
   "execution_count": null,
   "id": "a63fd32f",
   "metadata": {
    "attributes": {
     "classes": [
      "julia"
     ],
     "id": ""
    }
   },
   "outputs": [],
   "source": [
    "for line in eachline(stdin)\n",
    "    print(\"Found $line\")\n",
    "end"
   ]
  },
  {
   "cell_type": "markdown",
   "id": "712bc2b6",
   "metadata": {},
   "source": [
    "或者如果你想要按字符读取的话，使用 [`read`](@ref) ："
   ]
  },
  {
   "cell_type": "code",
   "execution_count": null,
   "id": "6a772f9a",
   "metadata": {
    "attributes": {
     "classes": [
      "julia"
     ],
     "id": ""
    }
   },
   "outputs": [],
   "source": [
    "while !eof(stdin)\n",
    "    x = read(stdin, Char)\n",
    "    println(\"Found: $x\")\n",
    "end"
   ]
  },
  {
   "cell_type": "markdown",
   "id": "1a5b59b4",
   "metadata": {},
   "source": [
    "## 文本 I/O\n",
    "\n",
    "请注意，上面提到的 [`write`](@ref) 方法对二进制流进行操作。具体来说，值不会转换为任何规范的文本表示形式，而是按原样输出："
   ]
  },
  {
   "cell_type": "code",
   "execution_count": null,
   "id": "44b58049",
   "metadata": {
    "attributes": {
     "classes": [
      "jldoctest"
     ],
     "id": ""
    }
   },
   "outputs": [],
   "source": [
    "julia> write(stdout, 0x61);  # suppress return value 1 with ;\n",
    "a"
   ]
  },
  {
   "cell_type": "markdown",
   "id": "598176bf",
   "metadata": {},
   "source": [
    "请注意，`a` 被 [`write`](@ref) 函数写入到 [`stdout`](@ref) 并且返回值为 `1`（因为 `0x61` 为一个字节）。\n",
    "\n",
    "对于文本 I/O，请根据需要使用 [`print`](@ref) 或 [`show`](@ref) 方法（有关这两个方法之间的差异的详细讨论，请参阅它们的文档）："
   ]
  },
  {
   "cell_type": "code",
   "execution_count": null,
   "id": "9cd67aad",
   "metadata": {
    "attributes": {
     "classes": [
      "jldoctest"
     ],
     "id": ""
    }
   },
   "outputs": [],
   "source": [
    "julia> print(stdout, 0x61)\n",
    "97"
   ]
  },
  {
   "cell_type": "markdown",
   "id": "6060d34c",
   "metadata": {},
   "source": [
    "有关如何实现自定义类型的显示方法的更多信息，请参阅 [自定义 pretty-printing](@ref man-custom-pretty-printing)。\n",
    "\n",
    "## IO 输出的上下文信息\n",
    "\n",
    "有时，IO 输出可受益于将上下文信息传递到 show 方法的能力。[`IOContext`](@ref) 对象提供了将任意元数据与 IO 对象相关联的框架。例如，`:compact => true` 向 IO 对象添加一个参数来提示调用的 show 方法应该打印一个较短的输出（如果适用）。有关常用属性的列表，请参阅 [`IOContext`](@ref) 文档。\n",
    "\n",
    "## 使用文件\n",
    "\n",
    "Like many other environments, Julia has an [`open`](@ref) function, which takes a filename and\n",
    "returns an [`IOStream`](@ref) object that you can use to read and write things from the file. For example,\n",
    "if we have a file, `hello.txt`, whose contents are `Hello, World!`:"
   ]
  },
  {
   "cell_type": "code",
   "execution_count": null,
   "id": "3fdbe196",
   "metadata": {
    "attributes": {
     "classes": [
      "julia-repl"
     ],
     "id": ""
    }
   },
   "outputs": [],
   "source": [
    "julia> f = open(\"hello.txt\")\n",
    "IOStream(<file hello.txt>)\n",
    "\n",
    "julia> readlines(f)\n",
    "1-element Array{String,1}:\n",
    " \"Hello, World!\""
   ]
  },
  {
   "cell_type": "markdown",
   "id": "9c79ebaf",
   "metadata": {},
   "source": [
    "若要写入文件，则可以带着 write（`\"w\"`）标志来打开它："
   ]
  },
  {
   "cell_type": "code",
   "execution_count": null,
   "id": "573addee",
   "metadata": {
    "attributes": {
     "classes": [
      "julia-repl"
     ],
     "id": ""
    }
   },
   "outputs": [],
   "source": [
    "julia> f = open(\"hello.txt\",\"w\")\n",
    "IOStream(<file hello.txt>)\n",
    "\n",
    "julia> write(f,\"Hello again.\")\n",
    "12"
   ]
  },
  {
   "cell_type": "markdown",
   "id": "1eebdc8e",
   "metadata": {},
   "source": [
    "你如果在此刻检查 `hello.txt` 的内容，会注意到它是空的；改动实际上还没有写入到磁盘中。这是因为 `IOStream` 必须在写入实际刷新到磁盘前关闭："
   ]
  },
  {
   "cell_type": "code",
   "execution_count": null,
   "id": "a0ba34a8",
   "metadata": {
    "attributes": {
     "classes": [
      "julia-repl"
     ],
     "id": ""
    }
   },
   "outputs": [],
   "source": [
    "julia> close(f)"
   ]
  },
  {
   "cell_type": "markdown",
   "id": "e1fd8ee3",
   "metadata": {},
   "source": [
    "再次检查 `hello.txt` 将显示其内容已被更改。\n",
    "\n",
    "打开文件，对其内容执行一些操作，并再次关闭它是一种非常常见的模式。为了使这更容易，[`open`](@ref) 还有另一种调用方式，它以一个函数作为其第一个参数，以文件名作为其第二个参数，以该文件为参数调用该函数，然后再次关闭它。例如，给定函数："
   ]
  },
  {
   "cell_type": "code",
   "execution_count": null,
   "id": "fe70ad05",
   "metadata": {
    "attributes": {
     "classes": [
      "julia"
     ],
     "id": ""
    }
   },
   "outputs": [],
   "source": [
    "function read_and_capitalize(f::IOStream)\n",
    "    return uppercase(read(f, String))\n",
    "end"
   ]
  },
  {
   "cell_type": "markdown",
   "id": "9db026ed",
   "metadata": {},
   "source": [
    "可以调用："
   ]
  },
  {
   "cell_type": "code",
   "execution_count": null,
   "id": "58225dac",
   "metadata": {
    "attributes": {
     "classes": [
      "julia-repl"
     ],
     "id": ""
    }
   },
   "outputs": [],
   "source": [
    "julia> open(read_and_capitalize, \"hello.txt\")\n",
    "\"HELLO AGAIN.\""
   ]
  },
  {
   "cell_type": "markdown",
   "id": "c93fdb16",
   "metadata": {},
   "source": [
    "来打开 `hello.txt`，对它调用 `read_and_capitalize`，关闭 `hello.txt` 并返回大写的内容。\n",
    "\n",
    "为了避免被迫定义一个命名函数，你可以使用 `do` 语法，它可以动态地创建匿名函数："
   ]
  },
  {
   "cell_type": "code",
   "execution_count": null,
   "id": "d39968e6",
   "metadata": {
    "attributes": {
     "classes": [
      "julia-repl"
     ],
     "id": ""
    }
   },
   "outputs": [],
   "source": [
    "julia> open(\"hello.txt\") do f\n",
    "           uppercase(read(f, String))\n",
    "       end\n",
    "\"HELLO AGAIN.\""
   ]
  },
  {
   "cell_type": "markdown",
   "id": "dda73255",
   "metadata": {},
   "source": [
    "## 一个简单的 TCP 示例\n",
    "\n",
    "让我们直接进入一个 TCP 套接字相关的简单示例。此功能位于名为 `Sockets` 的标准库中。让我们先创建一个简单的服务器："
   ]
  },
  {
   "cell_type": "code",
   "execution_count": null,
   "id": "fa2f3923",
   "metadata": {
    "attributes": {
     "classes": [
      "julia-repl"
     ],
     "id": ""
    }
   },
   "outputs": [],
   "source": [
    "julia> using Sockets\n",
    "\n",
    "julia> @async begin\n",
    "           server = listen(2000)\n",
    "           while true\n",
    "               sock = accept(server)\n",
    "               println(\"Hello World\\n\")\n",
    "           end\n",
    "       end\n",
    "Task (runnable) @0x00007fd31dc11ae0"
   ]
  },
  {
   "cell_type": "markdown",
   "id": "90554be4",
   "metadata": {},
   "source": [
    "对于那些熟悉 Unix 套接字 API 的人，这些方法名称会让人感觉很熟悉，可是它们的用法比原始的 Unix 套接字 API 要简单些。在本例中，首次调用 [`listen`](@ref) 会创建一个服务器，等待传入指定端口（2000）的连接。"
   ]
  },
  {
   "cell_type": "code",
   "execution_count": null,
   "id": "8ce78991",
   "metadata": {
    "attributes": {
     "classes": [
      "julia-repl"
     ],
     "id": ""
    }
   },
   "outputs": [],
   "source": [
    "julia> listen(2000) # 监听（IPv4 下的）localhost:2000\n",
    "Sockets.TCPServer(active)\n",
    "\n",
    "julia> listen(ip\"127.0.0.1\",2000) # 等价于第一个\n",
    "Sockets.TCPServer(active)\n",
    "\n",
    "julia> listen(ip\"::1\",2000) # 监听（IPv6 下的）localhost:2000\n",
    "Sockets.TCPServer(active)\n",
    "\n",
    "julia> listen(IPv4(0),2001) # 监听所有 IPv4 接口的端口 2001\n",
    "Sockets.TCPServer(active)\n",
    "\n",
    "julia> listen(IPv6(0),2001) # 监听所有 IPv6 接口的端口 2001\n",
    "Sockets.TCPServer(active)\n",
    "\n",
    "julia> listen(\"testsocket\") # 监听 UNIX 域套接字\n",
    "Sockets.PipeServer(active)\n",
    "\n",
    "julia> listen(\"\\\\\\\\.\\\\pipe\\\\testsocket\") # 监听 Windows 命名管道\n",
    "Sockets.PipeServer(active)"
   ]
  },
  {
   "cell_type": "markdown",
   "id": "9a43fa2f",
   "metadata": {},
   "source": [
    "Note that the return type of the last invocation is different. This is because this server does not\n",
    "listen on TCP, but rather on a named pipe (Windows) or UNIX domain socket. Also note that Windows\n",
    "named pipe format has to be a specific pattern such that the name prefix (`\\\\.\\pipe\\`) uniquely\n",
    "identifies the [file type](https://docs.microsoft.com/windows/desktop/ipc/pipe-names).\n",
    "The difference between TCP and named pipes or\n",
    "UNIX domain sockets is subtle and has to do with the [`accept`](@ref) and [`connect`](@ref)\n",
    "methods. The [`accept`](@ref) method retrieves a connection to the client that is connecting on\n",
    "the server we just created, while the [`connect`](@ref) function connects to a server using the\n",
    "specified method. The [`connect`](@ref) function takes the same arguments as [`listen`](@ref),\n",
    "so, assuming the environment (i.e. host, cwd, etc.) is the same you should be able to pass the same\n",
    "arguments to [`connect`](@ref) as you did to listen to establish the connection. So let's try that\n",
    "out (after having created the server above):"
   ]
  },
  {
   "cell_type": "code",
   "execution_count": null,
   "id": "c6d3529e",
   "metadata": {
    "attributes": {
     "classes": [
      "julia-repl"
     ],
     "id": ""
    }
   },
   "outputs": [],
   "source": [
    "julia> connect(2000)\n",
    "TCPSocket(open, 0 bytes waiting)\n",
    "\n",
    "julia> Hello World"
   ]
  },
  {
   "cell_type": "markdown",
   "id": "d5be831b",
   "metadata": {},
   "source": [
    "不出所料，我们看到「Hello World」被打印出来。那么，让我们分析一下幕后发生的事情。在我们调用 [`connect`](@ref) 时，我们连接到刚刚创建的服务器。与此同时，accept 函数返回到新创建的套接字的服务器端连接，并打印「Hello World」来表明连接成功。\n",
    "\n",
    "Julia 的强大优势在于，即使 I/O 实际上是异步发生的，API 也以同步方式暴露，我们不必担心回调，甚至不必确保服务器能够运行。在我们调用 [`connect`](@ref) 时，当前任务等待建立连接，并在这之后才继续执行。在此暂停中，服务器任务恢复执行（因为现在有一个连接请求是可用的），接受该连接，打印信息并等待下一个客户端。读取和写入以同样的方式运行。为了理解这一点，请考虑以下简单的 echo 服务器："
   ]
  },
  {
   "cell_type": "code",
   "execution_count": null,
   "id": "052501d6",
   "metadata": {
    "attributes": {
     "classes": [
      "julia-repl"
     ],
     "id": ""
    }
   },
   "outputs": [],
   "source": [
    "julia> @async begin\n",
    "           server = listen(2001)\n",
    "           while true\n",
    "               sock = accept(server)\n",
    "               @async while isopen(sock)\n",
    "                   write(sock, readline(sock, keep=true))\n",
    "               end\n",
    "           end\n",
    "       end\n",
    "Task (runnable) @0x00007fd31dc12e60\n",
    "\n",
    "julia> clientside = connect(2001)\n",
    "TCPSocket(RawFD(28) open, 0 bytes waiting)\n",
    "\n",
    "julia> @async while isopen(clientside)\n",
    "           write(stdout, readline(clientside, keep=true))\n",
    "       end\n",
    "Task (runnable) @0x00007fd31dc11870\n",
    "\n",
    "julia> println(clientside,\"Hello World from the Echo Server\")\n",
    "Hello World from the Echo Server"
   ]
  },
  {
   "cell_type": "markdown",
   "id": "882e9d41",
   "metadata": {},
   "source": [
    "与其他流一样，使用 [`close`](@ref) 即可断开该套接字："
   ]
  },
  {
   "cell_type": "code",
   "execution_count": null,
   "id": "0f996eca",
   "metadata": {
    "attributes": {
     "classes": [
      "julia-repl"
     ],
     "id": ""
    }
   },
   "outputs": [],
   "source": [
    "julia> close(clientside)"
   ]
  },
  {
   "cell_type": "markdown",
   "id": "faaf7d29",
   "metadata": {},
   "source": [
    "## 解析 IP 地址\n",
    "\n",
    "与 [`listen`](@ref) 方法不一致的 [`connect`](@ref) 方法之一是 `connect(host::String,port)`，它将尝试连接到由 `host` 参数给定的主机上的由 `port` 参数给定的端口。它允许你执行以下操作："
   ]
  },
  {
   "cell_type": "code",
   "execution_count": null,
   "id": "8f1ef7ef",
   "metadata": {
    "attributes": {
     "classes": [
      "julia-repl"
     ],
     "id": ""
    }
   },
   "outputs": [],
   "source": [
    "julia> connect(\"google.com\", 80)\n",
    "TCPSocket(RawFD(30) open, 0 bytes waiting)"
   ]
  },
  {
   "cell_type": "markdown",
   "id": "e72ce5b2",
   "metadata": {},
   "source": [
    "此功能的基础是 [`getaddrinfo`](@ref)，它将执行适当的地址解析："
   ]
  },
  {
   "cell_type": "code",
   "execution_count": null,
   "id": "fab86308",
   "metadata": {
    "attributes": {
     "classes": [
      "julia-repl"
     ],
     "id": ""
    }
   },
   "outputs": [],
   "source": [
    "julia> getaddrinfo(\"google.com\")\n",
    "ip\"74.125.226.225\""
   ]
  }
 ],
 "metadata": {},
 "nbformat": 4,
 "nbformat_minor": 5
}
