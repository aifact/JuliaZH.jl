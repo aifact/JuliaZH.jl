{
 "cells": [
  {
   "cell_type": "code",
   "execution_count": null,
   "id": "8107bac3",
   "metadata": {
    "attributes": {
     "classes": [
      "@eval"
     ],
     "id": ""
    }
   },
   "outputs": [],
   "source": [
    "io = IOBuffer()\n",
    "release = isempty(VERSION.prerelease)\n",
    "v = \"$(VERSION.major).$(VERSION.minor)\"\n",
    "!release && (v = v*\"-$(first(VERSION.prerelease))\")\n",
    "print(io, \"\"\"\n",
    "    # Julia $(v) Documentation\n",
    "\n",
    "    Welcome to the documentation for Julia $(v).\n",
    "\n",
    "    \"\"\")\n",
    "if !release\n",
    "    print(io,\"\"\"\n",
    "        !!! warning \"Work in progress!\"\n",
    "            This documentation is for an unreleased, in-development, version of Julia.\n",
    "        \"\"\")\n",
    "end\n",
    "import Markdown\n",
    "Markdown.parse(String(take!(io)))"
   ]
  },
  {
   "cell_type": "markdown",
   "id": "911069e7",
   "metadata": {},
   "source": [
    "Please read the [release notes](NEWS.md) to see what has changed since the last release."
   ]
  },
  {
   "cell_type": "code",
   "execution_count": null,
   "id": "990bf60b",
   "metadata": {
    "attributes": {
     "classes": [
      "@eval"
     ],
     "id": ""
    }
   },
   "outputs": [],
   "source": [
    "release = isempty(VERSION.prerelease)\n",
    "file = release ? \"julia-$(VERSION).pdf\" :\n",
    "       \"julia-$(VERSION.major).$(VERSION.minor).$(VERSION.patch)-$(first(VERSION.prerelease)).pdf\"\n",
    "url = \"https://raw.githubusercontent.com/JuliaLang/docs.julialang.org/assets/$(file)\"\n",
    "import Markdown\n",
    "Markdown.parse(\"\"\"\n",
    "!!! note\n",
    "    The documentation is also available in PDF format: [$file]($url).\n",
    "\"\"\")"
   ]
  },
  {
   "cell_type": "markdown",
   "id": "2a8c53fe",
   "metadata": {},
   "source": [
    "### [Introduction](@id man-introduction)\n",
    "\n",
    "Scientific computing has traditionally required the highest performance, yet domain experts have\n",
    "largely moved to slower dynamic languages for daily work. We believe there are many good reasons\n",
    "to prefer dynamic languages for these applications, and we do not expect their use to diminish.\n",
    "Fortunately, modern language design and compiler techniques make it possible to mostly eliminate\n",
    "the performance trade-off and provide a single environment productive enough for prototyping and\n",
    "efficient enough for deploying performance-intensive applications. The Julia programming language\n",
    "fills this role: it is a flexible dynamic language, appropriate for scientific and numerical computing,\n",
    "with performance comparable to traditional statically-typed languages.\n",
    "\n",
    "Because Julia's compiler is different from the interpreters used for languages like Python or\n",
    "R, you may find that Julia's performance is unintuitive at first. If you find that something is\n",
    "slow, we highly recommend reading through the [Performance Tips](@ref man-performance-tips) section before trying anything\n",
    "else. Once you understand how Julia works, it's easy to write code that's nearly as fast as C.\n",
    "\n",
    "Julia features optional typing, multiple dispatch, and good performance, achieved using type inference\n",
    "and [just-in-time (JIT) compilation](https://en.wikipedia.org/wiki/Just-in-time_compilation),\n",
    "implemented using [LLVM](https://en.wikipedia.org/wiki/Low_Level_Virtual_Machine). It is multi-paradigm,\n",
    "combining features of imperative, functional, and object-oriented programming. Julia provides\n",
    "ease and expressiveness for high-level numerical computing, in the same way as languages such\n",
    "as R, MATLAB, and Python, but also supports general programming. To achieve this, Julia builds\n",
    "upon the lineage of mathematical programming languages, but also borrows much from popular dynamic\n",
    "languages, including [Lisp](https://en.wikipedia.org/wiki/Lisp_(programming_language)), [Perl](https://en.wikipedia.org/wiki/Perl_(programming_language)),\n",
    "[Python](https://en.wikipedia.org/wiki/Python_(programming_language)), [Lua](https://en.wikipedia.org/wiki/Lua_(programming_language)),\n",
    "and [Ruby](https://en.wikipedia.org/wiki/Ruby_(programming_language)).\n",
    "\n",
    "The most significant departures of Julia from typical dynamic languages are:\n",
    "\n",
    "  * The core language imposes very little; Julia Base and the standard library are written in Julia itself, including\n",
    "    primitive operations like integer arithmetic\n",
    "  * A rich language of types for constructing and describing objects, that can also optionally be\n",
    "    used to make type declarations\n",
    "  * The ability to define function behavior across many combinations of argument types via [multiple dispatch](https://en.wikipedia.org/wiki/Multiple_dispatch)\n",
    "  * Automatic generation of efficient, specialized code for different argument types\n",
    "  * Good performance, approaching that of statically-compiled languages like C\n",
    "\n",
    "Although one sometimes speaks of dynamic languages as being \"typeless\", they are definitely not:\n",
    "every object, whether primitive or user-defined, has a type. The lack of type declarations in\n",
    "most dynamic languages, however, means that one cannot instruct the compiler about the types of\n",
    "values, and often cannot explicitly talk about types at all. In static languages, on the other\n",
    "hand, while one can -- and usually must -- annotate types for the compiler, types exist only at\n",
    "compile time and cannot be manipulated or expressed at run time. In Julia, types are themselves\n",
    "run-time objects, and can also be used to convey information to the compiler.\n",
    "\n",
    "While the casual programmer need not explicitly use types or multiple dispatch, they are the core\n",
    "unifying features of Julia: functions are defined on different combinations of argument types,\n",
    "and applied by dispatching to the most specific matching definition. This model is a good fit\n",
    "for mathematical programming, where it is unnatural for the first argument to \"own\" an operation\n",
    "as in traditional object-oriented dispatch. Operators are just functions with special notation\n",
    "-- to extend addition to new user-defined data types, you define new methods for the `+` function.\n",
    "Existing code then seamlessly applies to the new data types.\n",
    "\n",
    "Partly because of run-time type inference (augmented by optional type annotations), and partly\n",
    "because of a strong focus on performance from the inception of the project, Julia's computational\n",
    "efficiency exceeds that of other dynamic languages, and even rivals that of statically-compiled\n",
    "languages. For large scale numerical problems, speed always has been, continues to be, and probably\n",
    "always will be crucial: the amount of data being processed has easily kept pace with Moore's Law\n",
    "over the past decades.\n",
    "\n",
    "Julia aims to create an unprecedented combination of ease-of-use, power, and efficiency in a single\n",
    "language. In addition to the above, some advantages of Julia over comparable systems include:\n",
    "\n",
    "  * Free and open source ([MIT licensed](https://github.com/JuliaLang/julia/blob/master/LICENSE.md))\n",
    "  * User-defined types are as fast and compact as built-ins\n",
    "  * No need to vectorize code for performance; devectorized code is fast\n",
    "  * Designed for parallelism and distributed computation\n",
    "  * Lightweight \"green\" threading ([coroutines](https://en.wikipedia.org/wiki/Coroutine))\n",
    "  * Unobtrusive yet powerful type system\n",
    "  * Elegant and extensible conversions and promotions for numeric and other types\n",
    "  * Efficient support for [Unicode](https://en.wikipedia.org/wiki/Unicode), including but not limited\n",
    "    to [UTF-8](https://en.wikipedia.org/wiki/UTF-8)\n",
    "  * Call C functions directly (no wrappers or special APIs needed)\n",
    "  * Powerful shell-like capabilities for managing other processes\n",
    "  * Lisp-like macros and other metaprogramming facilities"
   ]
  }
 ],
 "metadata": {},
 "nbformat": 4,
 "nbformat_minor": 5
}
