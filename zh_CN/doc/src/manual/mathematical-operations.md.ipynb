{
 "cells": [
  {
   "cell_type": "markdown",
   "id": "468841b0",
   "metadata": {},
   "source": [
    "# 数学运算和初等函数\n",
    "\n",
    "Julia 为它所有的基础数值类型，提供了整套的基础算术和位运算，也提供了一套高效、可移植的标准数学函数。\n",
    "\n",
    "## 算术运算符\n",
    "\n",
    "以下[算术运算符](https://en.wikipedia.org/wiki/Arithmetic#Arithmetic_operations)支持所有的原始数值类型：\n",
    "\n",
    "| 表达式 | 名称           | 描述                            |\n",
    "|:---------- |:-------------- |:-------------------------------------- |\n",
    "| `+x`       | 一元加法运算符     | 全等操作                 |\n",
    "| `-x`       | 一元减法运算符    | 将值变为其相反数 |\n",
    "| `x + y`    | 二元加法运算符    | 执行加法                      |\n",
    "| `x - y`    | 二元减法运算符   | 执行减法                   |\n",
    "| `x * y`    | 乘法运算符          | 执行乘法                |\n",
    "| `x / y`    | 除法运算符         | 执行除法                      |\n",
    "| `x ÷ y`    | 整除 | 取 x / y 的整数部分         |\n",
    "| `x \\ y`    | 反向除法 | 等价于 `y / x`                  |\n",
    "| `x ^ y`    | 幂操作符          | `x` 的 `y` 次幂          |\n",
    "| `x % y`    | 取余      | 等价于 `rem(x,y)`               |\n",
    "\n",
    "以及对 [`Bool`](@ref) 类型的否定：\n",
    "\n",
    "| 表达式 | 名称     | 描述                              |\n",
    "|:---------- |:-------- |:---------------------------------------- |\n",
    "| `!x`       | 否定 | 将 `true` 和 `false` 互换 |\n",
    "\n",
    "除了优先级比二元操作符高以外，直接放在标识符或括号前的数字，如 `2x` 或 `2(x+y)` 还会被视为乘法。详见[数值字面量系数](@ref man-numeric-literal-coefficients)。\n",
    "\n",
    "Julia 的类型提升系统使得混合参数类型上的代数运算也能顺其自然的工作，请参考[类型提升系统](@ref conversion-and-promotion)来了解更多内容。\n",
    "\n",
    "这里是使用算术运算符的一些简单例子："
   ]
  },
  {
   "cell_type": "code",
   "execution_count": null,
   "id": "b5d4d582",
   "metadata": {
    "attributes": {
     "classes": [
      "jldoctest"
     ],
     "id": ""
    }
   },
   "outputs": [],
   "source": [
    "julia> 1 + 2 + 3\n",
    "6\n",
    "\n",
    "julia> 1 - 2\n",
    "-1\n",
    "\n",
    "julia> 3*2/12\n",
    "0.5"
   ]
  },
  {
   "cell_type": "markdown",
   "id": "eac8ec59",
   "metadata": {},
   "source": [
    "习惯上我们会把优先运算的操作符紧邻操作数，比如 `-x + 2` 表示先要给 `x`  取反，然后再加 `2` 。\n",
    "\n",
    "在乘法操作中，`false` 被视作 **零**。"
   ]
  },
  {
   "cell_type": "code",
   "execution_count": null,
   "id": "e2cb2e6b",
   "metadata": {
    "attributes": {
     "classes": [
      "jldoctest"
     ],
     "id": ""
    }
   },
   "outputs": [],
   "source": [
    "julia> NaN * false\n",
    "0.0\n",
    "\n",
    "julia> false * Inf\n",
    "0.0"
   ]
  },
  {
   "cell_type": "markdown",
   "id": "b77ef16f",
   "metadata": {},
   "source": [
    "这在已知某些量为零时，可以避免 `NaN` 的传播。详细的动机参见：[Knuth (1992)](https://arxiv.org/abs/math/9205211)。\n",
    "\n",
    "## 位运算符\n",
    "\n",
    "所有原始整数类型都支持以下[位运算符](https://en.wikipedia.org/wiki/Bitwise_operation#Bitwise_operators)：\n",
    "\n",
    "| 表达式 | 名称                                                                     |\n",
    "|:---------- |:------------------------------------------------------------------------ |\n",
    "| `~x`       | 按位取反                                                              |\n",
    "| `x & y`    | 按位与                                                              |\n",
    "| `x \\| y`   | 按位或                                                               |\n",
    "| `x ⊻ y`    | 按位异或（逻辑异或）                                               |\n",
    "| `x >>> y`  | [逻辑右移](https://en.wikipedia.org/wiki/Logical_shift)        |\n",
    "| `x >> y`   | [算术右移](https://en.wikipedia.org/wiki/Arithmetic_shift) |\n",
    "| `x << y`   | 逻辑/算术左移                                            |\n",
    "\n",
    "以下是位运算符的一些示例："
   ]
  },
  {
   "cell_type": "code",
   "execution_count": null,
   "id": "5befa5d1",
   "metadata": {
    "attributes": {
     "classes": [
      "jldoctest"
     ],
     "id": ""
    }
   },
   "outputs": [],
   "source": [
    "julia> ~123\n",
    "-124\n",
    "\n",
    "julia> 123 & 234\n",
    "106\n",
    "\n",
    "julia> 123 | 234\n",
    "251\n",
    "\n",
    "julia> 123 ⊻ 234\n",
    "145\n",
    "\n",
    "julia> xor(123, 234)\n",
    "145\n",
    "\n",
    "julia> ~UInt32(123)\n",
    "0xffffff84\n",
    "\n",
    "julia> ~UInt8(123)\n",
    "0x84"
   ]
  },
  {
   "cell_type": "markdown",
   "id": "9b496c48",
   "metadata": {},
   "source": [
    "## 复合赋值操作符\n",
    "\n",
    "每一个二元运算符和位运算符都可以给左操作数复合赋值：方法是把 `=` 直接放在二元运算符后面。比如，`x += 3` 等价于 `x = x + 3` 。"
   ]
  },
  {
   "cell_type": "code",
   "execution_count": null,
   "id": "26208cab",
   "metadata": {
    "attributes": {
     "classes": [
      "jldoctest"
     ],
     "id": ""
    }
   },
   "outputs": [],
   "source": [
    "julia> x = 1\n",
    "1\n",
    "\n",
    "julia> x += 3\n",
    "4\n",
    "\n",
    "julia> x\n",
    "4"
   ]
  },
  {
   "cell_type": "markdown",
   "id": "e71e5116",
   "metadata": {},
   "source": [
    "二元运算和位运算的复合赋值操作符有下面几种："
   ]
  },
  {
   "cell_type": "code",
   "execution_count": null,
   "id": "5a73801e",
   "metadata": {},
   "outputs": [],
   "source": [
    "+=  -=  *=  /=  \\=  ÷=  %=  ^=  &=  |=  ⊻=  >>>=  >>=  <<="
   ]
  },
  {
   "cell_type": "markdown",
   "id": "fe6a8c8b",
   "metadata": {},
   "source": [
    "!!! note\n",
    "    复合赋值后会把变量重新绑定到左操作数上，所以变量的类型可能会改变。"
   ]
  },
  {
   "cell_type": "code",
   "execution_count": null,
   "id": "ea3be9a4",
   "metadata": {},
   "outputs": [],
   "source": [
    "```jldoctest\n",
    "julia> x = 0x01; typeof(x)\n",
    "UInt8\n",
    "\n",
    "julia> x *= 2 # 与 x = x * 2 相同\n",
    "2\n",
    "\n",
    "julia> typeof(x)\n",
    "Int64\n",
    "```"
   ]
  },
  {
   "cell_type": "markdown",
   "id": "0c385c72",
   "metadata": {},
   "source": [
    "## [向量化 `dot` 运算符](@id man-dot-operators)\n",
    "\n",
    "Julia 中，**每个**二元运算符都有一个 `dot` 运算符与之对应，例如 `^` 就有对应的 `.^` 存在。这个对应的 `.^` 被 Julia **自动地**定义为逐元素地执行 `^` 运算。比如 `[1,2,3] ^ 3` 是非法的，因为数学上没有给（长宽不一样的）数组的立方下过定义。但是 `[1,2,3] .^ 3` 在 Julia 里是合法的，它会逐元素地执行 `^` 运算（或称向量化运算），得到 `[1^3, 2^3, 3^3]`。类似地，`!` 或 `√` 这样的一元运算符，也都有一个对应的 `.√` 用于执行逐元素运算。"
   ]
  },
  {
   "cell_type": "code",
   "execution_count": null,
   "id": "0b0c7d1d",
   "metadata": {
    "attributes": {
     "classes": [
      "jldoctest"
     ],
     "id": ""
    }
   },
   "outputs": [],
   "source": [
    "julia> [1,2,3] .^ 3\n",
    "3-element Array{Int64,1}:\n",
    "  1\n",
    "  8\n",
    " 27"
   ]
  },
  {
   "cell_type": "markdown",
   "id": "bf135d9c",
   "metadata": {},
   "source": [
    "具体来说，`a .^ b` 被解析为 [`dot` 调用](@ref man-vectorized) `(^).(a,b)`，这会执行 [broadcast](@ref Broadcasting) 操作：该操作能结合数组和标量、相同大小的数组（元素之间的运算）、甚至不同形状的数组（例如行、列向量结合生成矩阵）。更进一步，就像所有向量化的 `dot` 调用一样，这些 `dot` 运算符是**融合**的（fused）。例如，在计算表达式 `2 .* A.^2 .+ sin.(A)` 时，Julia 只对 `A` 进行做**一次**循环，遍历 `A` 中的每个元素 a 并计算 `2a^2 + sin(a)`。上述表达式也可以用[`@.`](@ref @__dot__) 宏简写为 `@. 2A^2 + sin(A)`。特别的，类似 `f.(g.(x))` 的嵌套 `dot` 调用也是**融合**的，并且“相邻的”二元运算符表达式 `x .+ 3 .* x.^2` 可以等价转换为嵌套 `dot` 调用：`(+).(x, (*).(3, (^).(x, 2)))`。\n",
    "\n",
    "除了 `dot` 运算符，我们还有 `dot` 复合赋值运算符，类似 `a .+= b`（或者 `@. a += b`）会被解析成 `a .= a .+ b`，这里的 `.=` 是一个**融合**的 in-place 运算，更多信息请查看 [`dot` 文档](@ref man-vectorized)）。\n",
    "\n",
    "这个点语法，也能用在用户自定义的运算符上。例如，通过定义 `⊗(A,B) = kron(A,B)` 可以为 Kronecker 积（[`kron`](@ref)）提供一个方便的中缀语法 `A ⊗ B`，那么配合点语法 `[A,B] .⊗ [C,D]` 就等价于 `[A⊗C, B⊗D]`。\n",
    "\n",
    "将点运算符用于数值字面量可能会导致歧义。例如，`1.+x` 到底是表示 `1. + x` 还是 `1 .+ x`？这会令人疑惑。因此不允许使用这种语法，遇到这种情况时，必须明确地用空格消除歧义。\n",
    "\n",
    "## 数值比较\n",
    "\n",
    "标准的比较操作对所有原始数值类型有定义：\n",
    "\n",
    "| 操作符                     | 名称                     |\n",
    "|:---------------------------- |:------------------------ |\n",
    "| [`==`](@ref)                 | 相等                 |\n",
    "| [`!=`](@ref), [`≠`](@ref !=) | 不等               |\n",
    "| [`<`](@ref)                  | 小于                |\n",
    "| [`<=`](@ref), [`≤`](@ref <=) | 小于等于    |\n",
    "| [`>`](@ref)                  | 大于             |\n",
    "| [`>=`](@ref), [`≥`](@ref >=) | 大于等于 |\n",
    "\n",
    "下面是一些简单的例子："
   ]
  },
  {
   "cell_type": "code",
   "execution_count": null,
   "id": "a9539dd4",
   "metadata": {
    "attributes": {
     "classes": [
      "jldoctest"
     ],
     "id": ""
    }
   },
   "outputs": [],
   "source": [
    "julia> 1 == 1\n",
    "true\n",
    "\n",
    "julia> 1 == 2\n",
    "false\n",
    "\n",
    "julia> 1 != 2\n",
    "true\n",
    "\n",
    "julia> 1 == 1.0\n",
    "true\n",
    "\n",
    "julia> 1 < 2\n",
    "true\n",
    "\n",
    "julia> 1.0 > 3\n",
    "false\n",
    "\n",
    "julia> 1 >= 1.0\n",
    "true\n",
    "\n",
    "julia> -1 <= 1\n",
    "true\n",
    "\n",
    "julia> -1 <= -1\n",
    "true\n",
    "\n",
    "julia> -1 <= -2\n",
    "false\n",
    "\n",
    "julia> 3 < -0.5\n",
    "false"
   ]
  },
  {
   "cell_type": "markdown",
   "id": "25583e07",
   "metadata": {},
   "source": [
    "整数的比较方式是标准的按位比较，而浮点数的比较方式则遵循 [IEEE 754 标准](https://en.wikipedia.org/wiki/IEEE_754-2008)。\n",
    "\n",
    "  * 有限数的大小顺序，和我们所熟知的相同。\n",
    "  * `+0` 等于但不大于 `-0`.\n",
    "  * `Inf` 等于自身，并且大于除了 `NaN` 外的所有数。\n",
    "  * `-Inf` 等于自身，并且小于除了 `NaN` 外的所有数。\n",
    "  * `NaN` 不等于、不小于且不大于任何数值，包括它自己。\n",
    "\n",
    "`NaN` 不等于它自己这一点可能会令人感到惊奇，所以需要注意："
   ]
  },
  {
   "cell_type": "code",
   "execution_count": null,
   "id": "e48530d8",
   "metadata": {
    "attributes": {
     "classes": [
      "jldoctest"
     ],
     "id": ""
    }
   },
   "outputs": [],
   "source": [
    "julia> NaN == NaN\n",
    "false\n",
    "\n",
    "julia> NaN != NaN\n",
    "true\n",
    "\n",
    "julia> NaN < NaN\n",
    "false\n",
    "\n",
    "julia> NaN > NaN\n",
    "false"
   ]
  },
  {
   "cell_type": "markdown",
   "id": "22f80e06",
   "metadata": {},
   "source": [
    "当你将 `NaN` 和 [数组](@ref man-multi-dim-arrays) 一起连用时，你就会感到头疼："
   ]
  },
  {
   "cell_type": "code",
   "execution_count": null,
   "id": "0979379f",
   "metadata": {
    "attributes": {
     "classes": [
      "jldoctest"
     ],
     "id": ""
    }
   },
   "outputs": [],
   "source": [
    "julia> [1 NaN] == [1 NaN]\n",
    "false"
   ]
  },
  {
   "cell_type": "markdown",
   "id": "2aec8438",
   "metadata": {},
   "source": [
    "为此，Julia 给这些特别的数提供了下面几个额外的测试函数。这些函数在某些情况下很有用处，比如在做 hash 比较时。\n",
    "\n",
    "| 函数                | 测试是否满足如下性质                  |\n",
    "|:----------------------- |:------------------------- |\n",
    "| [`isequal(x, y)`](@ref) | `x` 与 `y` 是完全相同的 |\n",
    "| [`isfinite(x)`](@ref)   | `x` 是有限大的数字    |\n",
    "| [`isinf(x)`](@ref)      | `x` 是（正/负）无穷大           |\n",
    "| [`isnan(x)`](@ref)      | `x` 是 `NaN`       |\n",
    "\n",
    "[`isequal`](@ref) 认为 `NaN` 之间是相等的："
   ]
  },
  {
   "cell_type": "code",
   "execution_count": null,
   "id": "ce39d740",
   "metadata": {
    "attributes": {
     "classes": [
      "jldoctest"
     ],
     "id": ""
    }
   },
   "outputs": [],
   "source": [
    "julia> isequal(NaN, NaN)\n",
    "true\n",
    "\n",
    "julia> isequal([1 NaN], [1 NaN])\n",
    "true\n",
    "\n",
    "julia> isequal(NaN, NaN32)\n",
    "true"
   ]
  },
  {
   "cell_type": "markdown",
   "id": "cd3d70b0",
   "metadata": {},
   "source": [
    "`isequal` 也能用来区分带符号的零："
   ]
  },
  {
   "cell_type": "code",
   "execution_count": null,
   "id": "9735c092",
   "metadata": {
    "attributes": {
     "classes": [
      "jldoctest"
     ],
     "id": ""
    }
   },
   "outputs": [],
   "source": [
    "julia> -0.0 == 0.0\n",
    "true\n",
    "\n",
    "julia> isequal(-0.0, 0.0)\n",
    "false"
   ]
  },
  {
   "cell_type": "markdown",
   "id": "1bf9cf6b",
   "metadata": {},
   "source": [
    "有符号整数、无符号整数以及浮点数之间的混合类型比较是很棘手的。开发者费了很大精力来确保 Julia 在这个问题上做的是正确的。\n",
    "\n",
    "对于其它类型，`isequal` 会默认调用 [`==`](@ref)，所以如果你想给自己的类型定义相等，那么就只需要为 [`==`](@ref) 增加一个方法。如果你想定义一个你自己的相等函数，你可能需要定义一个对应的 [`hash`](@ref) 方法，用于确保 `isequal(x,y)` 隐含着 `hash(x) == hash(y)`。\n",
    "\n",
    "### 链式比较\n",
    "\n",
    "与其他多数语言不同，就像 [notable exception of Python](https://en.wikipedia.org/wiki/Python_syntax_and_semantics#Comparison_operators) 一样，Julia 允许链式比较："
   ]
  },
  {
   "cell_type": "code",
   "execution_count": null,
   "id": "1cb229aa",
   "metadata": {
    "attributes": {
     "classes": [
      "jldoctest"
     ],
     "id": ""
    }
   },
   "outputs": [],
   "source": [
    "julia> 1 < 2 <= 2 < 3 == 3 > 2 >= 1 == 1 < 3 != 5\n",
    "true"
   ]
  },
  {
   "cell_type": "markdown",
   "id": "346c340f",
   "metadata": {},
   "source": [
    "链式比较在写数值代码时特别方便，它使用 `&&` 运算符比较标量，数组则用 [`&`](@ref) 进行按元素比较。比如，`0 .< A .< 1` 会得到一个 boolean 数组，如果 `A` 的元素都在 0 和 1 之间则数组元素就都是 true。\n",
    "\n",
    "注意链式比较的执行顺序："
   ]
  },
  {
   "cell_type": "code",
   "execution_count": null,
   "id": "a7bf69ea",
   "metadata": {
    "attributes": {
     "classes": [
      "jldoctest"
     ],
     "id": ""
    }
   },
   "outputs": [],
   "source": [
    "julia> v(x) = (println(x); x)\n",
    "v (generic function with 1 method)\n",
    "\n",
    "julia> v(1) < v(2) <= v(3)\n",
    "2\n",
    "1\n",
    "3\n",
    "true\n",
    "\n",
    "julia> v(1) > v(2) <= v(3)\n",
    "2\n",
    "1\n",
    "false"
   ]
  },
  {
   "cell_type": "markdown",
   "id": "888307e2",
   "metadata": {},
   "source": [
    "中间的表达式只会计算一次，而如果写成 `v(1) < v(2) && v(2) <= v(3)` 是计算了两次的。然而，链式比较中的顺序是不确定的。强烈建议不要在表达式中使用有副作用（比如 printing）的函数。如果的确需要，请使用短路运算符 `&&`（请参考[短路求值](@ref)）。\n",
    "\n",
    "### 初等函数\n",
    "\n",
    "Julia 提供了强大的数学函数和运算符集合。这些数学运算定义在各种合理的数值上，包括整型、浮点数、分数和复数，只要这些定义有数学意义就行。\n",
    "\n",
    "而且，和其它 Julia 函数一样，这些函数也能通过 [点语法](@ref man-vectorized) `f.(A)` 以“向量化”的方式作用于数组和其它集合上。\n",
    "比如，`sin.(A)` 会计算 `A` 中每个元素的 sin 值。\n",
    "\n",
    "## 运算符的优先级与结合性\n",
    "\n",
    "从高到低，Julia 运算符的优先级与结合性为：\n",
    "\n",
    "| 分类       | 运算符                                                                                         | 结合性              |\n",
    "|:-------------- |:------------------------------------------------------------------------------------------------- |:-------------------------- |\n",
    "| 语法         | `.` followed by `::`                                                                              | 左结合                       |\n",
    "| 幂运算 | `^`                                                                                               | 右结合                      |\n",
    "| 一元运算符          | `+ - √`                                                                                           | 右结合[^1]                  |\n",
    "| 移位运算      | `<< >> >>>`                                                                                       | 左结合                       |\n",
    "| 除法      | `//`                                                                                              | 左结合                       |\n",
    "| 乘法 | `* / % & \\ ÷`                                                                                     | 左结合[^2]                   |\n",
    "| 加法       | `+ - \\| ⊻`                                                                                        | 左结合[^2]                   |\n",
    "| 语法         | `: ..`                                                                                            | 左结合                       |\n",
    "| 语法         | `\\|>`                                                                                             | 左结合                       |\n",
    "| 语法         | `<\\|`                                                                                             | 右结合                      |\n",
    "| 比较    | `> < >= <= == === != !== <:`                                                                      | 无结合性            |\n",
    "| 流程控制   | `&&` followed by `\\|\\|` followed by `?`                                                           | 右结合                      |\n",
    "| Pair 操作           | `=>`                                                                                              | 右结合                      |\n",
    "| 赋值    | `= += -= *= /= //= \\= ^= ÷= %= \\|= &= ⊻= <<= >>= >>>=`                                            | 右结合                      |\n",
    "\n",
    "[^1]:\n",
    "    一元运算符 `+` 和 `-` 需要显式调用，即给它们的参数加上括号，以免和 `++` 等运算符混淆。其它一元运算符的混合使用都被解析为右结合的，比如 `√√-a` 解析为 `√(√(-a))`。\n",
    "[^2]:\n",
    "    The operators `+`, `++` and `*` are non-associative. `a + b + c` is parsed as `+(a, b, c)` not `+(+(a, b),\n",
    "    c)`. However, the fallback methods for `+(a, b, c, d...)` and `*(a, b, c, d...)` both default to left-associative evaluation.\n",
    "\n",
    "要看**全部** Julia 运算符的优先级关系，可以看这个文件的最上面部分：[`src/julia-parser.scm`](https://github.com/JuliaLang/julia/blob/master/src/julia-parser.scm)\n",
    "\n",
    "[数字字面量系数](@ref man-numeric-literal-coefficients)，例如 `2x` 中的 2，它的优先级比二元运算符高，因此会当作乘法，并且它的优先级也比 `^` 高。\n",
    "\n",
    "你也可以通过内置函数 `Base.operator_precedence` 查看任何给定运算符的优先级数值，数值越大优先级越高："
   ]
  },
  {
   "cell_type": "code",
   "execution_count": null,
   "id": "da93f723",
   "metadata": {
    "attributes": {
     "classes": [
      "jldoctest"
     ],
     "id": ""
    }
   },
   "outputs": [],
   "source": [
    "julia> Base.operator_precedence(:+), Base.operator_precedence(:*), Base.operator_precedence(:.)\n",
    "(11, 12, 17)\n",
    "\n",
    "julia> Base.operator_precedence(:sin), Base.operator_precedence(:+=), Base.operator_precedence(:(=))  # (注意：等号前后必须有括号 `:(=)`)\n",
    "(0, 1, 1)"
   ]
  },
  {
   "cell_type": "markdown",
   "id": "b8b95ac9",
   "metadata": {},
   "source": [
    "另外，内置函数 `Base.operator_associativity` 可以返回运算符结合性的符号表示："
   ]
  },
  {
   "cell_type": "code",
   "execution_count": null,
   "id": "7e00dcc2",
   "metadata": {
    "attributes": {
     "classes": [
      "jldoctest"
     ],
     "id": ""
    }
   },
   "outputs": [],
   "source": [
    "julia> Base.operator_associativity(:-), Base.operator_associativity(:+), Base.operator_associativity(:^)\n",
    "(:left, :none, :right)\n",
    "\n",
    "julia> Base.operator_associativity(:⊗), Base.operator_associativity(:sin), Base.operator_associativity(:→)\n",
    "(:left, :none, :right)"
   ]
  },
  {
   "cell_type": "markdown",
   "id": "1b1d20e4",
   "metadata": {},
   "source": [
    "注意诸如 `:sin` 这样的符号返回优先级 `0`，此值代表无效的运算符或非最低优先级运算符。类似地，它们的结合性被认为是 `:none`。\n",
    "\n",
    "## 数值转换\n",
    "\n",
    "Julia 支持三种数值转换，它们在处理不精确转换上有所不同。\n",
    "\n",
    "  *  `T(x)` 和 `convert(T,x)` 都会把 `x` 转换为 `T`类型。"
   ]
  },
  {
   "cell_type": "code",
   "execution_count": null,
   "id": "741ab8d6",
   "metadata": {},
   "outputs": [],
   "source": [
    "* 如果 `T` 是浮点类型，转换的结果就是最近的可表示值，\n",
    "  可能会是正负无穷大。\n",
    "* 如果 `T` 为整数类型，当 `x` 不能由 `T` 类型表示时，会抛出 `InexactError`。\n",
    "  * `x % T` 将整数 `x` 转换为整型 `T`，与 `x` 模 `2^n` 的结果一致，其中 `n` 是 `T` 的位数。换句话说，在二进制表示下被截掉了一部分。"
   ]
  },
  {
   "cell_type": "markdown",
   "id": "feba15a5",
   "metadata": {},
   "source": [
    "* [舍入函数](@ref) 接收一个 `T` 类型的可选参数。比如，`round(Int,x)`\n",
    "    是 `Int(round(x))` 的简写版。\n",
    "\n",
    "下面的例子展示了不同的形式"
   ]
  },
  {
   "cell_type": "code",
   "execution_count": null,
   "id": "d3044c37",
   "metadata": {
    "attributes": {
     "classes": [
      "jldoctest"
     ],
     "id": ""
    }
   },
   "outputs": [],
   "source": [
    "julia> Int8(127)\n",
    "127\n",
    "\n",
    "julia> Int8(128)\n",
    "ERROR: InexactError: trunc(Int8, 128)\n",
    "Stacktrace:\n",
    "[...]\n",
    "\n",
    "julia> Int8(127.0)\n",
    "127\n",
    "\n",
    "julia> Int8(3.14)\n",
    "ERROR: InexactError: Int8(3.14)\n",
    "Stacktrace:\n",
    "[...]\n",
    "\n",
    "julia> Int8(128.0)\n",
    "ERROR: InexactError: Int8(128.0)\n",
    "Stacktrace:\n",
    "[...]\n",
    "\n",
    "julia> 127 % Int8\n",
    "127\n",
    "\n",
    "julia> 128 % Int8\n",
    "-128\n",
    "\n",
    "julia> round(Int8,127.4)\n",
    "127\n",
    "\n",
    "julia> round(Int8,127.6)\n",
    "ERROR: InexactError: trunc(Int8, 128.0)\n",
    "Stacktrace:\n",
    "[...]"
   ]
  },
  {
   "cell_type": "markdown",
   "id": "aa168f8b",
   "metadata": {},
   "source": [
    "请参考[类型转换与类型提升](@ref conversion-and-promotion)一节来定义你自己的类型转换和提升规则。\n",
    "\n",
    "### 舍入函数\n",
    "\n",
    "| 函数              | 描述                      | 返回类型 |\n",
    "|:--------------------- |:-------------------------------- |:----------- |\n",
    "| [`round(x)`](@ref)    | `x` 舍到最接近的整数 | `typeof(x)` |\n",
    "| [`round(T, x)`](@ref) | `x` 舍到最接近的整数 | `T`         |\n",
    "| [`floor(x)`](@ref)    | `x` 向 `-Inf` 舍入         | `typeof(x)` |\n",
    "| [`floor(T, x)`](@ref) | `x` 向 `-Inf` 舍入         | `T`         |\n",
    "| [`ceil(x)`](@ref)     | `x` 向 `+Inf` 方向取整         | `typeof(x)` |\n",
    "| [`ceil(T, x)`](@ref)  | `x` 向 `+Inf` 方向取整         | `T`         |\n",
    "| [`trunc(x)`](@ref)    | `x` 向 0 取整           | `typeof(x)` |\n",
    "| [`trunc(T, x)`](@ref) | `x` 向 0 取整           | `T`         |\n",
    "\n",
    "### 除法函数\n",
    "\n",
    "| 函数                  | 描述                                                                                               |\n",
    "|:------------------------- |:--------------------------------------------------------------------------------------------------------- |\n",
    "| [`div(x,y)`](@ref), `x÷y` | 截断除法；商向零近似                                                         |\n",
    "| [`fld(x,y)`](@ref)        | 向下取整除法；商向 `-Inf` 近似                                                         |\n",
    "| [`cld(x,y)`](@ref)        | 向上取整除法；商向 `+Inf` 近似                                                         |\n",
    "| [`rem(x,y)`](@ref)        | 取余；满足 `x == div(x,y)*y + rem(x,y)`；符号与 `x` 一致                                       |\n",
    "| [`mod(x,y)`](@ref)        | 取模；满足 `x == fld(x,y)*y + mod(x,y)`；符号与 `y` 一致                                         |\n",
    "| [`mod1(x,y)`](@ref)       | 偏移 1 的 `mod`；若 `y>0`，则返回 `r∈(0,y]`，若 `y<0`，则 `r∈[y,0)` 且满足 `mod(r, y) == mod(x, y)`   |\n",
    "| [`mod2pi(x)`](@ref)       | 以 2pi 为基取模；`0 <= mod2pi(x) < 2pi`                                                   |\n",
    "| [`divrem(x,y)`](@ref)     | 返回 `(div(x,y),rem(x,y))`                                                                             |\n",
    "| [`fldmod(x,y)`](@ref)     | 返回 `(fld(x,y),mod(x,y))`                                                                             |\n",
    "| [`gcd(x,y...)`](@ref)     | `x`, `y`,... 的最大公约数                                                          |\n",
    "| [`lcm(x,y...)`](@ref)     | `x`, `y`,... 的最小公倍数                                                            |\n",
    "\n",
    "### 符号和绝对值函数\n",
    "\n",
    "| 函数                | 描述                                                |\n",
    "|:----------------------- |:---------------------------------------------------------- |\n",
    "| [`abs(x)`](@ref)        | `x` 的模                 |\n",
    "| [`abs2(x)`](@ref)       | `x` 的模的平方                               |\n",
    "| [`sign(x)`](@ref)       | 表示 `x` 的符号，返回 -1，0，或 +1          |\n",
    "| [`signbit(x)`](@ref)    | 表示符号位是 true 或 false |\n",
    "| [`copysign(x,y)`](@ref) | 返回一个数，其值等于 `x` 的模，符号与 `y` 一致      |\n",
    "| [`flipsign(x,y)`](@ref) | 返回一个数，其值等于 `x` 的模，符号与 `x*y` 一致    |\n",
    "\n",
    "### 幂、对数与平方根\n",
    "\n",
    "| 函数                 | 描述                                                                |\n",
    "|:------------------------ |:-------------------------------------------------------------------------- |\n",
    "| [`sqrt(x)`](@ref), `√x`  | `x` 的平方根                                                         |\n",
    "| [`cbrt(x)`](@ref), `∛x`  | `x` 的立方根                                                           |\n",
    "| [`hypot(x,y)`](@ref)     | 当直角边的长度为 `x` 和 `y`时，直角三角形斜边的长度 |\n",
    "| [`exp(x)`](@ref)         | 自然指数函数在 `x` 处的值                                        |\n",
    "| [`expm1(x)`](@ref)       | 当 `x` 接近 0 时的 `exp(x)-1` 的精确值                                      |\n",
    "| [`ldexp(x,n)`](@ref)     | `x*2^n` 的高效算法，`n` 为整数                     |\n",
    "| [`log(x)`](@ref)         | `x` 的自然对数                                                   |\n",
    "| [`log(b,x)`](@ref)       | 以 `b` 为底 `x` 的对数                                                  |\n",
    "| [`log2(x)`](@ref)        | 以 2 为底 `x` 的对数                                                    |\n",
    "| [`log10(x)`](@ref)       | 以 10 为底 `x` 的对数                                                   |\n",
    "| [`log1p(x)`](@ref)       | 当 `x`接近 0 时的 `log(1+x)` 的精确值                                      |\n",
    "| [`exponent(x)`](@ref)    | `x` 的二进制指数                                                     |\n",
    "| [`significand(x)`](@ref) | 浮点数 `x` 的二进制有效数（也就是尾数）        |\n",
    "\n",
    "想大概了解一下为什么诸如 [`hypot`](@ref)、[`expm1`](@ref)和 [`log1p`](@ref)\n",
    "函数是必要和有用的，可以看一下 John D. Cook 关于这些主题的两篇优秀博文：[expm1, log1p, erfc](https://www.johndcook.com/blog/2010/06/07/math-library-functions-that-seem-unnecessary/)，\n",
    "和 [hypot](https://www.johndcook.com/blog/2010/06/02/whats-so-hard-about-finding-a-hypotenuse/)。\n",
    "\n",
    "### 三角和双曲函数\n",
    "\n",
    "所有标准的三角函数和双曲函数也都已经定义了："
   ]
  },
  {
   "cell_type": "code",
   "execution_count": null,
   "id": "c89d4640",
   "metadata": {},
   "outputs": [],
   "source": [
    "sin    cos    tan    cot    sec    csc\n",
    "sinh   cosh   tanh   coth   sech   csch\n",
    "asin   acos   atan   acot   asec   acsc\n",
    "asinh  acosh  atanh  acoth  asech  acsch\n",
    "sinc   cosc"
   ]
  },
  {
   "cell_type": "markdown",
   "id": "b1d2f954",
   "metadata": {},
   "source": [
    "所有这些函数都是单参数函数，不过 [`atan`](@ref) 也可以接收两个参数\n",
    "来表示传统的 [`atan2`](https://en.wikipedia.org/wiki/Atan2) 函数。\n",
    "\n",
    "另外，[`sinpi(x)`](@ref) 和 [`cospi(x)`](@ref) 分别用来对 [`sin(pi*x)`](@ref) 和 [`cos(pi*x)`](@ref) 进行更精确的计算。\n",
    "\n",
    "要计算角度而非弧度的三角函数，以 `d` 做后缀。\n",
    "比如，[`sind(x)`](@ref) 计算 `x` 的 sine 值，其中 `x` 是一个角度值。\n",
    "下面是角度变量的三角函数完整列表："
   ]
  },
  {
   "cell_type": "code",
   "execution_count": null,
   "id": "afa92ca7",
   "metadata": {},
   "outputs": [],
   "source": [
    "sind   cosd   tand   cotd   secd   cscd\n",
    "asind  acosd  atand  acotd  asecd  acscd"
   ]
  },
  {
   "cell_type": "markdown",
   "id": "9fa63ac2",
   "metadata": {},
   "source": [
    "### 特殊函数\n",
    "\n",
    "[SpecialFunctions.jl](https://github.com/JuliaMath/SpecialFunctions.jl) 提供了许多其他的特殊数学函数。"
   ]
  }
 ],
 "metadata": {},
 "nbformat": 4,
 "nbformat_minor": 5
}
