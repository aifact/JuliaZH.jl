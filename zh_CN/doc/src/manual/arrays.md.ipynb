{
 "cells": [
  {
   "cell_type": "markdown",
   "id": "bfec6611",
   "metadata": {},
   "source": [
    "# [多维数组](@id man-multi-dim-arrays)\n",
    "\n",
    "与大多数技术计算语言一样，Julia 提供原生的数组实现。 大多数技术计算语言非常重视其数组实现，但需要付出使用其它容器的代价。Julia 用同样的方式来处理数组。就像和其它用 Julia 写的代码一样，Julia 的数组库几乎完全是用 Julia 自身实现的，它的性能源自编译器。这样一来，用户就可以通过继承 [`AbstractArray`](@ref) 的方式来创建自定义数组类型。 实现自定义数组类型的更多详细信息，请参阅[manual section on the AbstractArray interface](@ref man-interface-array)。\n",
    "\n",
    "数组是存储在多维网格中对象的集合。在最一般的情况下， 数组中的对象可能是 [`Any`](@ref) 类型。\n",
    "对于大多数计算上的需求，数组中对象的类型应该更加具体，例如 [`Float64`](@ref) 或 [`Int32`](@ref)。\n",
    "\n",
    "一般来说，与许多其他科学计算语言不同，Julia 不希望为了性能而以向量化的方式编写程序。Julia 的编译器使用类型推断，并为标量数组索引生成优化的代码，从而能够令用户方便地编写可读性良好的程序，而不牺牲性能，并且时常会减少内存使用。\n",
    "\n",
    "在 Julia 中，所有函数的参数都是 [passed by sharing](https://en.wikipedia.org/wiki/Evaluation_strategy#Call_by_sharing)。一些科学计算语言用传值的方式传递数组，尽管这样做可以防止数组在被调函数中被意外地篡改，但这也会导致不必要的数组拷贝。通常，以一个 `!` 结尾的函数名表示它会对自己的一个或者多个参数的值进行修改或者销毁（例如，请比较 [`sort`](@ref) 和 [`sort!`](@ref)）。被调函数必须进行显式拷贝，以确保它们不会无意中修改输入参数。很多 “non-mutating” 函数在实现的时候，都会先进行显式拷贝，然后调用一个以 `!` 结尾的同名函数，最后返回之前拷贝的副本。\n",
    "\n",
    "## 基本函数\n",
    "\n",
    "| 函数               | 描述                                                                      |\n",
    "|:---------------------- |:-------------------------------------------------------------------------------- |\n",
    "| [`eltype(A)`](@ref)    | `A` 中元素的类型                                        |\n",
    "| [`length(A)`](@ref)    | `A` 中元素的数量                                                    |\n",
    "| [`ndims(A)`](@ref)     | `A` 的维数                                                  |\n",
    "| [`size(A)`](@ref)      | 一个包含 `A` 各个维度上元素数量的元组                                         |\n",
    "| [`size(A,n)`](@ref)    | `A` 第 `n` 维中的元素数量                                              |\n",
    "| [`axes(A)`](@ref)      | 一个包含 `A` 有效索引的元组                                      |\n",
    "| [`axes(A,n)`](@ref)    | 第 `n` 维有效索引的范围                         |\n",
    "| [`eachindex(A)`](@ref) | 一个访问 `A` 中每一个位置的高效迭代器                          |\n",
    "| [`stride(A,k)`](@ref)  | 在第 `k` 维上的间隔（stride）（相邻元素间的线性索引距离） |\n",
    "| [`strides(A)`](@ref)   | 包含每一维上的间隔（stride）的元组                                         |\n",
    "\n",
    "## 构造和初始化\n",
    "\n",
    "Julia 提供了许多用于构造和初始化数组的函数。在下列函数中，参数 `dims ...` 可以是一个包含维数大小的元组，也可以表示用任意个参数传递的一系列维数大小值。大部分函数的第一个参数都表示数组的元素类型 `T` 。如果类型 `T` 被省略，那么将默认为 [`Float64`](@ref)。\n",
    "\n",
    "| 函数                           | 描述                                                                                                                                                                                                                                  |\n",
    "|:---------------------------------- |:-------------------------------------------------------------------------------------------------------------------------------------------------------------------------------------------------------------------------------------------- |\n",
    "| [`Array{T}(undef, dims...)`](@ref)             | 一个没有初始化的密集 [`Array`](@ref)                                                                                                                                                                                                              |\n",
    "| [`zeros(T, dims...)`](@ref)                    | 一个全零 `Array`                                                                                                                                                                                                                      |\n",
    "| [`ones(T, dims...)`](@ref)                     | 一个元素均为 1 的 `Array`                                                                                                                                                                                                                       |\n",
    "| [`trues(dims...)`](@ref)                       | 一个每个元素都为 `true` 的 [`BitArray`](@ref)                                                                                                                                                                                                  |\n",
    "| [`falses(dims...)`](@ref)                      | 一个每个元素都为 `false` 的 `BitArray`                                                                                                                                                                                                         |\n",
    "| [`reshape(A, dims...)`](@ref)                  | 一个包含跟 `A` 相同数据但维数不同的数组                                                                                                                                                                      |\n",
    "| [`copy(A)`](@ref)                              | 拷贝 `A`                                                                                                                                                                                                                                     |\n",
    "| [`deepcopy(A)`](@ref)                          | 深拷贝，即拷贝 `A`，并递归地拷贝其元素                                                                                                                                                                                                   |\n",
    "| [`similar(A, T, dims...)`](@ref)               | 一个与`A`具有相同类型（这里指的是密集，稀疏等）的未初始化数组，但具有指定的元素类型和维数。第二个和第三个参数都是可选的，如果省略则默认为元素类型和 `A` 的维数。 |\n",
    "| [`reinterpret(T, A)`](@ref)                    | 与 `A` 具有相同二进制数据的数组，但元素类型为 `T`                                                                                                                                                                         |\n",
    "| [`rand(T, dims...)`](@ref)                     | 一个随机 `Array`，元素值是 ``[0, 1)`` 半开区间中的均匀分布且服从一阶独立同分布 [^1]                                                                                                                                       |\n",
    "| [`randn(T, dims...)`](@ref)                    | 一个随机 `Array`，元素为标准正态分布，服从独立同分布                                                                                                                                                                         |\n",
    "| [`Matrix{T}(I, m, n)`](@ref)                   | `m`-by-`n` 单位阵。 需要 `using LinearAlgebra` for [`I`](@ref).                                                                                                                                                                                                                   |\n",
    "| [`range(start, stop=stop, length=n)`](@ref)    | 从 `start` 到 `stop` 的带有 `n` 个线性间隔元素的范围                                                                                                                                                                                 |\n",
    "| [`fill!(A, x)`](@ref)                          | 用值 `x` 填充数组 `A`                                                                                                                                                                                                        |\n",
    "| [`fill(x, dims...)`](@ref)                     | 一个被值 `x` 填充的 `Array`                                                                                                                                                                                                         |\n",
    "\n",
    "[^1]: *iid*，独立同分布\n",
    "\n",
    "要查看各种方法，我们可以将不同维数传递给这些构造函数，请考虑以下示例："
   ]
  },
  {
   "cell_type": "code",
   "execution_count": null,
   "id": "9f3691db",
   "metadata": {
    "attributes": {
     "classes": [
      "jldoctest"
     ],
     "id": ""
    }
   },
   "outputs": [],
   "source": [
    "julia> zeros(Int8, 2, 3)\n",
    "2×3 Array{Int8,2}:\n",
    " 0  0  0\n",
    " 0  0  0\n",
    "\n",
    "julia> zeros(Int8, (2, 3))\n",
    "2×3 Array{Int8,2}:\n",
    " 0  0  0\n",
    " 0  0  0\n",
    "\n",
    "julia> zeros((2, 3))\n",
    "2×3 Array{Float64,2}:\n",
    " 0.0  0.0  0.0\n",
    " 0.0  0.0  0.0"
   ]
  },
  {
   "cell_type": "markdown",
   "id": "0eac8899",
   "metadata": {},
   "source": [
    "此处, `(2, 3)` 是一个元组 [`Tuple`](@ref) 并且第一个参数——元素类型是可选的, 默认值为 `Float64`.\n",
    "\n",
    "## [Array literals](@id man-array-literals)\n",
    "\n",
    "数组也可以直接用方括号来构造; 语法为 `[A, B, C, ...]`\n",
    "创建一个一维数组(即一个矢量)，该一维数组的元素用逗号分隔。所创建的数组中元素的类型([`eltype`](@ref)) 自动由括号内参数的类型确定。如果所有参数类型都相同，则该类型称为数组的 `eltype`。 如果所有元素都有相同的[promotion type](@ref conversion-and-promotion)，那么个元素都由[`convert`](@ref)转换成该类型并且该类型为数组的 `eltype`. 否则, 生成一个可以包含任意类型的异构数组—— `Vector{Any}` ;该构造方法包含字符 `[]`，此时构造过程无参数给出。"
   ]
  },
  {
   "cell_type": "code",
   "execution_count": null,
   "id": "c23908a5",
   "metadata": {
    "attributes": {
     "classes": [
      "jldoctest"
     ],
     "id": ""
    }
   },
   "outputs": [],
   "source": [
    "julia> [1,2,3] # An array of `Int`s\n",
    "3-element Array{Int64,1}:\n",
    " 1\n",
    " 2\n",
    " 3\n",
    "\n",
    "julia> promote(1, 2.3, 4//5) # This combination of Int, Float64 and Rational promotes to Float64\n",
    "(1.0, 2.3, 0.8)\n",
    "\n",
    "julia> [1, 2.3, 4//5] # Thus that's the element type of this Array\n",
    "3-element Array{Float64,1}:\n",
    " 1.0\n",
    " 2.3\n",
    " 0.8\n",
    "\n",
    "julia> []\n",
    "Any[]"
   ]
  },
  {
   "cell_type": "markdown",
   "id": "36a70ba5",
   "metadata": {},
   "source": [
    "### [Concatenation](@id man-array-concatenation)\n",
    "\n",
    "If the arguments inside the square brackets are separated by semicolons (`;`) or newlines\n",
    "instead of commas, then their contents are _vertically concatenated_ together instead of\n",
    "the arguments being used as elements themselves."
   ]
  },
  {
   "cell_type": "code",
   "execution_count": null,
   "id": "34cc3207",
   "metadata": {
    "attributes": {
     "classes": [
      "jldoctest"
     ],
     "id": ""
    }
   },
   "outputs": [],
   "source": [
    "julia> [1:2, 4:5] # Has a comma, so no concatenation occurs. The ranges are themselves the elements\n",
    "2-element Array{UnitRange{Int64},1}:\n",
    " 1:2\n",
    " 4:5\n",
    "\n",
    "julia> [1:2; 4:5]\n",
    "4-element Array{Int64,1}:\n",
    " 1\n",
    " 2\n",
    " 4\n",
    " 5\n",
    "\n",
    "julia> [1:2\n",
    "        4:5\n",
    "        6]\n",
    "5-element Array{Int64,1}:\n",
    " 1\n",
    " 2\n",
    " 4\n",
    " 5\n",
    " 6"
   ]
  },
  {
   "cell_type": "markdown",
   "id": "19ff6b29",
   "metadata": {},
   "source": [
    "Similarly, if the arguments are separated by tabs or spaces, then their contents are\n",
    "_horizontally concatenated_ together."
   ]
  },
  {
   "cell_type": "code",
   "execution_count": null,
   "id": "58babfd2",
   "metadata": {
    "attributes": {
     "classes": [
      "jldoctest"
     ],
     "id": ""
    }
   },
   "outputs": [],
   "source": [
    "julia> [1:2  4:5  7:8]\n",
    "2×3 Array{Int64,2}:\n",
    " 1  4  7\n",
    " 2  5  8\n",
    "\n",
    "julia> [[1,2]  [4,5]  [7,8]]\n",
    "2×3 Array{Int64,2}:\n",
    " 1  4  7\n",
    " 2  5  8\n",
    "\n",
    "julia> [1 2 3] # Numbers can also be horizontally concatenated\n",
    "1×3 Array{Int64,2}:\n",
    " 1  2  3"
   ]
  },
  {
   "cell_type": "markdown",
   "id": "38b876ae",
   "metadata": {},
   "source": [
    "Using semicolons (or newlines) and spaces (or tabs) can be combined to concatenate\n",
    "both horizontally and vertically at the same time."
   ]
  },
  {
   "cell_type": "code",
   "execution_count": null,
   "id": "6dcc337e",
   "metadata": {
    "attributes": {
     "classes": [
      "jldoctest"
     ],
     "id": ""
    }
   },
   "outputs": [],
   "source": [
    "julia> [1 2\n",
    "        3 4]\n",
    "2×2 Array{Int64,2}:\n",
    " 1  2\n",
    " 3  4\n",
    "\n",
    "julia> [zeros(Int, 2, 2) [1; 2]\n",
    "        [3 4]            5]\n",
    "3×3 Array{Int64,2}:\n",
    " 0  0  1\n",
    " 0  0  2\n",
    " 3  4  5"
   ]
  },
  {
   "cell_type": "markdown",
   "id": "cadc61d2",
   "metadata": {},
   "source": [
    "More generally, concatenation can be accomplished through the [`cat`](@ref) function.\n",
    "These syntaxes are shorthands for function calls that themselves are convenience functions:\n",
    "\n",
    "| 语法            | 函数        | 描述                                        |\n",
    "|:----------------- |:--------------- |:-------------------------------------------------- |\n",
    "|                   | [`cat`](@ref)   | 沿着 s 的第 `k` 维拼接数组    |\n",
    "| `[A; B; C; ...]`  | [`vcat`](@ref)  | shorthand for `cat(A...; dims=1)                   |\n",
    "| `[A B C ...]`     | [`hcat`](@ref)  | shorthand for `cat(A...; dims=2)                   |\n",
    "| `[A B; C D; ...]` | [`hvcat`](@ref) | simultaneous vertical and horizontal concatenation |\n",
    "\n",
    "### Typed array literals\n",
    "\n",
    "可以用 `T[A, B, C, ...]` 的方式声明一个元素为某种特定类型的数组。该方法定义一个元素类型为 `T` 的一维数组并且初始化元素为 `A`, `B`, `C`, ....。比如，`Any[x, y, z]` 会构建一个异构数组，该数组可以包含任意类型的元素。\n",
    "\n",
    "类似的，拼接也可以用类型为前缀来指定结果的元素类型。"
   ]
  },
  {
   "cell_type": "code",
   "execution_count": null,
   "id": "05bc485a",
   "metadata": {
    "attributes": {
     "classes": [
      "jldoctest"
     ],
     "id": ""
    }
   },
   "outputs": [],
   "source": [
    "julia> [[1 2] [3 4]]\n",
    "1×4 Array{Int64,2}:\n",
    " 1  2  3  4\n",
    "\n",
    "julia> Int8[[1 2] [3 4]]\n",
    "1×4 Array{Int8,2}:\n",
    " 1  2  3  4"
   ]
  },
  {
   "cell_type": "markdown",
   "id": "275c41ad",
   "metadata": {},
   "source": [
    "## [Comprehensions](@id man-comprehensions)\n",
    "\n",
    "（数组）推导提供了构造数组的通用且强大的方法。其语法类似于数学中的集合构造的写法："
   ]
  },
  {
   "cell_type": "code",
   "execution_count": null,
   "id": "79806f01",
   "metadata": {},
   "outputs": [],
   "source": [
    "A = [ F(x,y,...) for x=rx, y=ry, ... ]"
   ]
  },
  {
   "cell_type": "markdown",
   "id": "39ef2715",
   "metadata": {},
   "source": [
    "这种形式的含义是 `F(x,y,...)` 取其给定列表中变量 `x`，`y` 等的每个值进行计算。值可以指定为任何可迭代对象，但通常是 `1:n` 或 `2:(n-1)` 之类的范围，或者像 `[1.2, 3.4, 5.7]` 这样的显式数组值。结果是一个 N 维密集数组，其维数是变量范围 `rx`，`ry` 等的维数串联。每次 `F(x,y,...)` 计算返回一个标量。\n",
    "\n",
    "下面的示例计算当前元素和沿一维网格其左，右相邻元素的加权平均值："
   ]
  },
  {
   "cell_type": "code",
   "execution_count": null,
   "id": "7f6d2f64",
   "metadata": {
    "attributes": {
     "classes": [
      "julia-repl"
     ],
     "id": ""
    }
   },
   "outputs": [],
   "source": [
    "julia> x = rand(8)\n",
    "8-element Array{Float64,1}:\n",
    " 0.843025\n",
    " 0.869052\n",
    " 0.365105\n",
    " 0.699456\n",
    " 0.977653\n",
    " 0.994953\n",
    " 0.41084\n",
    " 0.809411\n",
    "\n",
    "julia> [ 0.25*x[i-1] + 0.5*x[i] + 0.25*x[i+1] for i=2:length(x)-1 ]\n",
    "6-element Array{Float64,1}:\n",
    " 0.736559\n",
    " 0.57468\n",
    " 0.685417\n",
    " 0.912429\n",
    " 0.8446\n",
    " 0.656511"
   ]
  },
  {
   "cell_type": "markdown",
   "id": "9299db25",
   "metadata": {},
   "source": [
    "The resulting array type depends on the types of the computed elements just like [array literals](@ref man-array-literals) do. In order to control the\n",
    "type explicitly, a type can be prepended to the comprehension. For example, we could have requested\n",
    "the result in single precision by writing:"
   ]
  },
  {
   "cell_type": "code",
   "execution_count": null,
   "id": "b3f27456",
   "metadata": {
    "attributes": {
     "classes": [
      "julia"
     ],
     "id": ""
    }
   },
   "outputs": [],
   "source": [
    "Float32[ 0.25*x[i-1] + 0.5*x[i] + 0.25*x[i+1] for i=2:length(x)-1 ]"
   ]
  },
  {
   "cell_type": "markdown",
   "id": "d61c6705",
   "metadata": {},
   "source": [
    "## 生成器表达式\n",
    "\n",
    "也可以在没有方括号的情况下编写（数组）推导，从而产生称为生成器的对象。可以迭代此对象以按需生成值，而不是预先分配数组并存储它们（请参阅 [迭代](@ref)）。例如，以下表达式在不分配内存的情况下对一个序列进行求和："
   ]
  },
  {
   "cell_type": "code",
   "execution_count": null,
   "id": "7aaaaa9a",
   "metadata": {
    "attributes": {
     "classes": [
      "jldoctest"
     ],
     "id": ""
    }
   },
   "outputs": [],
   "source": [
    "julia> sum(1/n^2 for n=1:1000)\n",
    "1.6439345666815615"
   ]
  },
  {
   "cell_type": "markdown",
   "id": "03408b23",
   "metadata": {},
   "source": [
    "在参数列表中使用具有多个维度的生成器表达式时，需要使用括号将生成器与后续参数分开："
   ]
  },
  {
   "cell_type": "code",
   "execution_count": null,
   "id": "dee58ece",
   "metadata": {
    "attributes": {
     "classes": [
      "julia-repl"
     ],
     "id": ""
    }
   },
   "outputs": [],
   "source": [
    "julia> map(tuple, 1/(i+j) for i=1:2, j=1:2, [1:4;])\n",
    "ERROR: syntax: invalid iteration specification"
   ]
  },
  {
   "cell_type": "markdown",
   "id": "60cb5d4e",
   "metadata": {},
   "source": [
    "`for` 后面所有逗号分隔的表达式都被解释为范围。 添加括号让我们可以向 [`map`](@ref) 中添加第三个参数："
   ]
  },
  {
   "cell_type": "code",
   "execution_count": null,
   "id": "712a5c1e",
   "metadata": {
    "attributes": {
     "classes": [
      "jldoctest"
     ],
     "id": ""
    }
   },
   "outputs": [],
   "source": [
    "julia> map(tuple, (1/(i+j) for i=1:2, j=1:2), [1 3; 2 4])\n",
    "2×2 Array{Tuple{Float64,Int64},2}:\n",
    " (0.5, 1)       (0.333333, 3)\n",
    " (0.333333, 2)  (0.25, 4)"
   ]
  },
  {
   "cell_type": "markdown",
   "id": "a8e6dc59",
   "metadata": {},
   "source": [
    "Generators are implemented via inner functions. Just like\n",
    "inner functions used elsewhere in the language, variables from the enclosing scope can be\n",
    "\"captured\" in the inner function.  For example, `sum(p[i] - q[i] for i=1:n)`\n",
    "captures the three variables `p`, `q` and `n` from the enclosing scope.\n",
    "Captured variables can present performance challenges; see\n",
    "[performance tips](@ref man-performance-captured).\n",
    "\n",
    "\n",
    "通过编写多个 `for` 关键字，生成器和推导中的范围可以取决于之前的范围："
   ]
  },
  {
   "cell_type": "code",
   "execution_count": null,
   "id": "9873a2b1",
   "metadata": {
    "attributes": {
     "classes": [
      "jldoctest"
     ],
     "id": ""
    }
   },
   "outputs": [],
   "source": [
    "julia> [(i,j) for i=1:3 for j=1:i]\n",
    "6-element Array{Tuple{Int64,Int64},1}:\n",
    " (1, 1)\n",
    " (2, 1)\n",
    " (2, 2)\n",
    " (3, 1)\n",
    " (3, 2)\n",
    " (3, 3)"
   ]
  },
  {
   "cell_type": "markdown",
   "id": "b3c3e009",
   "metadata": {},
   "source": [
    "在这些情况下，结果都是一维的。\n",
    "\n",
    "可以使用 `if` 关键字过滤生成的值："
   ]
  },
  {
   "cell_type": "code",
   "execution_count": null,
   "id": "640a3427",
   "metadata": {
    "attributes": {
     "classes": [
      "jldoctest"
     ],
     "id": ""
    }
   },
   "outputs": [],
   "source": [
    "julia> [(i,j) for i=1:3 for j=1:i if i+j == 4]\n",
    "2-element Array{Tuple{Int64,Int64},1}:\n",
    " (2, 2)\n",
    " (3, 1)"
   ]
  },
  {
   "cell_type": "markdown",
   "id": "df4814a0",
   "metadata": {},
   "source": [
    "## [索引](@id man-array-indexing)\n",
    "\n",
    "索引 n 维数组 `A` 的一般语法是："
   ]
  },
  {
   "cell_type": "code",
   "execution_count": null,
   "id": "3d6c3ac0",
   "metadata": {},
   "outputs": [],
   "source": [
    "X = A[I_1, I_2, ..., I_n]"
   ]
  },
  {
   "cell_type": "markdown",
   "id": "606ec6c4",
   "metadata": {},
   "source": [
    "其中每个 `I_k` 可以是标量整数，整数数组或任何其他[支持的索引类型](@ref man-supported-index-types)。这包括 [`Colon`](@ref) (`:`) 来选择整个维度中的所有索引，形式为 `a:c` 或 `a:b:c` 的范围来选择连续或跨步的子区间，以及布尔数组以选择索引为 `true` 的元素。\n",
    "\n",
    "如果所有索引都是标量，则结果 `X` 是数组 `A` 中的单个元素。否则，`X` 是一个数组，其维数与所有索引的维数之和相同。\n",
    "\n",
    "如果所有索引 `I_k` 都是向量，则 `X` 的形状将是 `(length(I_1), length(I_2), ..., length(I_n))`，其中，`X` 中位于 `i_1, i_2, ..., i_n` 处的元素为 `A[I_1[i_1], I_2[i_2], ..., I_n[i_n]]`。\n",
    "\n",
    "例如："
   ]
  },
  {
   "cell_type": "code",
   "execution_count": null,
   "id": "de26fbdf",
   "metadata": {
    "attributes": {
     "classes": [
      "jldoctest"
     ],
     "id": ""
    }
   },
   "outputs": [],
   "source": [
    "julia> A = reshape(collect(1:16), (2, 2, 2, 2))\n",
    "2×2×2×2 Array{Int64,4}:\n",
    "[:, :, 1, 1] =\n",
    " 1  3\n",
    " 2  4\n",
    "\n",
    "[:, :, 2, 1] =\n",
    " 5  7\n",
    " 6  8\n",
    "\n",
    "[:, :, 1, 2] =\n",
    "  9  11\n",
    " 10  12\n",
    "\n",
    "[:, :, 2, 2] =\n",
    " 13  15\n",
    " 14  16\n",
    "\n",
    "julia> A[1, 2, 1, 1] # all scalar indices\n",
    "3\n",
    "\n",
    "julia> A[[1, 2], [1], [1, 2], [1]] # all vector indices\n",
    "2×1×2×1 Array{Int64,4}:\n",
    "[:, :, 1, 1] =\n",
    " 1\n",
    " 2\n",
    "\n",
    "[:, :, 2, 1] =\n",
    " 5\n",
    " 6\n",
    "\n",
    "julia> A[[1, 2], [1], [1, 2], 1] # a mix of index types\n",
    "2×1×2 Array{Int64,3}:\n",
    "[:, :, 1] =\n",
    " 1\n",
    " 2\n",
    "\n",
    "[:, :, 2] =\n",
    " 5\n",
    " 6"
   ]
  },
  {
   "cell_type": "markdown",
   "id": "7846bd89",
   "metadata": {},
   "source": [
    "请注意最后两种情况下得到的数组大小为何是不同的。\n",
    "\n",
    "如果 `I_1` 是二维矩阵，则 `X` 是 `n+1` 维数组，其形状为 `(size(I_1, 1), size(I_1, 2), length(I_2), ..., length(I_n))`。矩阵会添加一个维度。\n",
    "\n",
    "例如："
   ]
  },
  {
   "cell_type": "code",
   "execution_count": null,
   "id": "468807ae",
   "metadata": {
    "attributes": {
     "classes": [
      "jldoctest"
     ],
     "id": ""
    }
   },
   "outputs": [],
   "source": [
    "julia> A = reshape(collect(1:16), (2, 2, 2, 2));\n",
    "\n",
    "julia> A[[1 2; 1 2]]\n",
    "2×2 Array{Int64,2}:\n",
    " 1  2\n",
    " 1  2\n",
    "\n",
    "julia> A[[1 2; 1 2], 1, 2, 1]\n",
    "2×2 Array{Int64,2}:\n",
    " 5  6\n",
    " 5  6"
   ]
  },
  {
   "cell_type": "markdown",
   "id": "3a031ce7",
   "metadata": {},
   "source": [
    "位于 `i_1, i_2, i_3, ..., i_{n+1}` 处的元素值是 `A[I_1[i_1, i_2], I_2[i_3], ..., I_n[i_{n+1}]]`。所有使用标量索引的维度都将被丢弃，例如，假设 `J` 是索引数组，那么 `A[2，J，3]` 的结果是一个大小为 `size(J)` 的数组、其第 j 个元素由 `A[2, J[j], 3]` 填充。\n",
    "\n",
    "作为此语法的特殊部分，`end` 关键字可用于表示索引括号内每个维度的最后一个索引，由索引的最内层数组的大小决定。没有 `end` 关键字的索引语法相当于调用[`getindex`](@ref)："
   ]
  },
  {
   "cell_type": "code",
   "execution_count": null,
   "id": "6d6ef12b",
   "metadata": {},
   "outputs": [],
   "source": [
    "X = getindex(A, I_1, I_2, ..., I_n)"
   ]
  },
  {
   "cell_type": "markdown",
   "id": "9807a735",
   "metadata": {},
   "source": [
    "例如："
   ]
  },
  {
   "cell_type": "code",
   "execution_count": null,
   "id": "4db61ba3",
   "metadata": {
    "attributes": {
     "classes": [
      "jldoctest"
     ],
     "id": ""
    }
   },
   "outputs": [],
   "source": [
    "julia> x = reshape(1:16, 4, 4)\n",
    "4×4 reshape(::UnitRange{Int64}, 4, 4) with eltype Int64:\n",
    " 1  5   9  13\n",
    " 2  6  10  14\n",
    " 3  7  11  15\n",
    " 4  8  12  16\n",
    "\n",
    "julia> x[2:3, 2:end-1]\n",
    "2×2 Array{Int64,2}:\n",
    " 6  10\n",
    " 7  11\n",
    "\n",
    "julia> x[1, [2 3; 4 1]]\n",
    "2×2 Array{Int64,2}:\n",
    "  5  9\n",
    " 13  1"
   ]
  },
  {
   "cell_type": "markdown",
   "id": "11bb6451",
   "metadata": {},
   "source": [
    "## [Indexed Assignment](@id man-indexed-assignment)\n",
    "\n",
    "在 n 维数组 `A` 中赋值的一般语法是："
   ]
  },
  {
   "cell_type": "code",
   "execution_count": null,
   "id": "aa6574bc",
   "metadata": {},
   "outputs": [],
   "source": [
    "A[I_1, I_2, ..., I_n] = X"
   ]
  },
  {
   "cell_type": "markdown",
   "id": "39eb5bfb",
   "metadata": {},
   "source": [
    "其中每个 `I_k` 可以是标量整数，整数数组或任何其他[支持的索引类型](@ref man-supported-index-types)。这包括 [`Colon`](@ref) (`:`) 来选择整个维度中的所有索引，形式为 `a:c` 或 `a:b:c` 的范围来选择连续或跨步的子区间，以及布尔数组以选择索引为 `true` 的元素。\n",
    "\n",
    "如果所有 `I_k` 都为整数，则数组 `A` 中 `I_1, I_2, ..., I_n` 位置的值将被 `X` 的值覆盖，必要时将 [`convert`](@ref) 为数组 `A` 的 [`eltype`](@ref)。\n",
    "\n",
    "\n",
    "如果任一 `I_k` 选择了一个以上的位置，则等号右侧的 `X` 必须为一个与 `A[I_1, I_2, ..., I_n]` 形状一致的数组或一个具有相同元素数的向量。数组 `A` 中 `I_1[i_1], I_2[i_2], ..., I_n[i_n]` 位置的值将被 `X[I_1, I_2, ..., I_n]` 的值覆盖，必要时会转换类型。逐元素的赋值运算符 `.=` 可以用于将 `X` 沿选择的位置 [broadcast](@ref 广播)："
   ]
  },
  {
   "cell_type": "code",
   "execution_count": null,
   "id": "4dd9838f",
   "metadata": {},
   "outputs": [],
   "source": [
    "A[I_1, I_2, ..., I_n] .= X"
   ]
  },
  {
   "cell_type": "markdown",
   "id": "64789b86",
   "metadata": {},
   "source": [
    "就像在[索引](@ref man-array-indexing)中一样，`end`关键字可用于表示索引括号中每个维度的最后一个索引，由被赋值的数组大小决定。 没有`end`关键字的索引赋值语法相当于调用[`setindex!`](@ref)："
   ]
  },
  {
   "cell_type": "code",
   "execution_count": null,
   "id": "7a187fda",
   "metadata": {},
   "outputs": [],
   "source": [
    "setindex!(A, X, I_1, I_2, ..., I_n)"
   ]
  },
  {
   "cell_type": "markdown",
   "id": "d65abfac",
   "metadata": {},
   "source": [
    "例如："
   ]
  },
  {
   "cell_type": "code",
   "execution_count": null,
   "id": "c5428278",
   "metadata": {
    "attributes": {
     "classes": [
      "jldoctest"
     ],
     "id": ""
    }
   },
   "outputs": [],
   "source": [
    "julia> x = collect(reshape(1:9, 3, 3))\n",
    "3×3 Array{Int64,2}:\n",
    " 1  4  7\n",
    " 2  5  8\n",
    " 3  6  9\n",
    "\n",
    "julia> x[3, 3] = -9;\n",
    "\n",
    "julia> x[1:2, 1:2] = [-1 -4; -2 -5];\n",
    "\n",
    "julia> x\n",
    "3×3 Array{Int64,2}:\n",
    " -1  -4   7\n",
    " -2  -5   8\n",
    "  3   6  -9"
   ]
  },
  {
   "cell_type": "markdown",
   "id": "c6914aa5",
   "metadata": {},
   "source": [
    "## [支持的索引类型](@id man-supported-index-types)\n",
    "\n",
    "在表达式 `A[I_1, I_2, ..., I_n]` 中，每个 `I_k` 可以是标量索引，标量索引数组，或者用 [`to_indices`](@ref) 转换成的表示标量索引数组的对象：\n",
    "\n",
    "1. 标量索引。默认情况下，这包括：\n",
    "    * 非布尔的整数\n",
    "    * [[`CartesianIndex {N}`](@ref)s，其行为类似于跨越多个维度的 `N` 维整数元组（详见下文）](@ref)s, which behave like an `N`-tuple of integers spanning multiple dimensions (see below for more details)\n",
    "2. 标量索引数组。这包括：\n",
    "    * 整数向量和多维整数数组\n",
    "    * 像 `[]` 这样的空数组，它不选择任何元素\n",
    "    * 如 `a:c` 或 `a:b:c` 的范围，从 `a` 到 `c`（包括）选择连续或间隔的部分元素\n",
    "    * 任何自定义标量索引数组，它是 `AbstractArray` 的子类型\n",
    "    * `CartesianIndex{N}` 数组（详见下文）\n",
    "3. 一个表示标量索引数组的对象，可以通过[`to_indices`](@ref)转换为这样的对象。 默认情况下，这包括：\n",
    "    * [`Colon()`](@ref) (`:`)，表示整个维度内或整个数组中的所有索引\n",
    "    * 布尔数组，选择其中值为 `true` 的索引对应的元素（更多细节见下文）\n",
    "\n",
    "一些例子："
   ]
  },
  {
   "cell_type": "code",
   "execution_count": null,
   "id": "38c1d5e4",
   "metadata": {
    "attributes": {
     "classes": [
      "jldoctest"
     ],
     "id": ""
    }
   },
   "outputs": [],
   "source": [
    "julia> A = reshape(collect(1:2:18), (3, 3))\n",
    "3×3 Array{Int64,2}:\n",
    " 1   7  13\n",
    " 3   9  15\n",
    " 5  11  17\n",
    "\n",
    "julia> A[4]\n",
    "7\n",
    "\n",
    "julia> A[[2, 5, 8]]\n",
    "3-element Array{Int64,1}:\n",
    "  3\n",
    "  9\n",
    " 15\n",
    "\n",
    "julia> A[[1 4; 3 8]]\n",
    "2×2 Array{Int64,2}:\n",
    " 1   7\n",
    " 5  15\n",
    "\n",
    "julia> A[[]]\n",
    "Int64[]\n",
    "\n",
    "julia> A[1:2:5]\n",
    "3-element Array{Int64,1}:\n",
    " 1\n",
    " 5\n",
    " 9\n",
    "\n",
    "julia> A[2, :]\n",
    "3-element Array{Int64,1}:\n",
    "  3\n",
    "  9\n",
    " 15\n",
    "\n",
    "julia> A[:, 3]\n",
    "3-element Array{Int64,1}:\n",
    " 13\n",
    " 15\n",
    " 17"
   ]
  },
  {
   "cell_type": "markdown",
   "id": "d19ff314",
   "metadata": {},
   "source": [
    "### 笛卡尔索引\n",
    "\n",
    "特殊的 `CartesianIndex{N}` 对象表示一个标量索引，其行为类似于张成多个维度的 `N` 维整数元组。例如："
   ]
  },
  {
   "cell_type": "code",
   "execution_count": null,
   "id": "e6697ea8",
   "metadata": {},
   "outputs": [],
   "source": [
    "julia> A = reshape(1:32, 4, 4, 2);\n",
    "\n",
    "julia> A[3, 2, 1]\n",
    "7\n",
    "\n",
    "julia> A[CartesianIndex(3, 2, 1)] == A[3, 2, 1] == 7\n",
    "true"
   ]
  },
  {
   "cell_type": "markdown",
   "id": "d9b96627",
   "metadata": {},
   "source": [
    "如果单独考虑，这可能看起来相对微不足道；`CartesianIndex` 只是将多个整数聚合成一个表示单个多维索引的对象。 但是，当与其他索引形式和迭代器组合产生多个 `CartesianIndex` 时，这可以生成非常优雅和高效的代码。请参阅下面的[迭代](@ref)，有关更高级的示例，请参阅[关于多维算法和迭代博客文章](https://julialang.org/blog/2016/02/iteration)。\n",
    "\n",
    "也支持 `CartesianIndex {N}` 的数组。它们代表一组标量索引，每个索引都跨越 `N` 个维度，从而实现一种有时也称为逐点索引的索引形式。例如，它可以从上面的 `A` 的第一「页」访问对角元素："
   ]
  },
  {
   "cell_type": "code",
   "execution_count": null,
   "id": "c526a544",
   "metadata": {},
   "outputs": [],
   "source": [
    "julia> page = A[:,:,1]\n",
    "4×4 Array{Int64,2}:\n",
    " 1  5   9  13\n",
    " 2  6  10  14\n",
    " 3  7  11  15\n",
    " 4  8  12  16\n",
    "\n",
    "julia> page[[CartesianIndex(1,1),\n",
    "             CartesianIndex(2,2),\n",
    "             CartesianIndex(3,3),\n",
    "             CartesianIndex(4,4)]]\n",
    "4-element Array{Int64,1}:\n",
    "  1\n",
    "  6\n",
    " 11\n",
    " 16"
   ]
  },
  {
   "cell_type": "markdown",
   "id": "11112e99",
   "metadata": {},
   "source": [
    "这可以通过 [dot broadcasting](@ref man-vectorized) 以及普通整数索引（而不是把从 `A` 中提取第一“页”作为单独的步骤）更加简单地表达。它甚至可以与 `:` 结合使用，同时从两个页面中提取两个对角线："
   ]
  },
  {
   "cell_type": "code",
   "execution_count": null,
   "id": "ca1644ec",
   "metadata": {},
   "outputs": [],
   "source": [
    "julia> A[CartesianIndex.(axes(A, 1), axes(A, 2)), 1]\n",
    "4-element Array{Int64,1}:\n",
    "  1\n",
    "  6\n",
    " 11\n",
    " 16\n",
    "\n",
    "julia> A[CartesianIndex.(axes(A, 1), axes(A, 2)), :]\n",
    "4×2 Array{Int64,2}:\n",
    "  1  17\n",
    "  6  22\n",
    " 11  27\n",
    " 16  32"
   ]
  },
  {
   "cell_type": "markdown",
   "id": "56dca6a4",
   "metadata": {},
   "source": [
    "!!! warning"
   ]
  },
  {
   "cell_type": "code",
   "execution_count": null,
   "id": "48e0938f",
   "metadata": {},
   "outputs": [],
   "source": [
    "`CartesianIndex` and arrays of `CartesianIndex` are not compatible with the\n",
    "`end` keyword to represent the last index of a dimension. Do not use `end`\n",
    "in indexing expressions that may contain either `CartesianIndex` or arrays thereof."
   ]
  },
  {
   "cell_type": "markdown",
   "id": "456a10a9",
   "metadata": {},
   "source": [
    "### Logical indexing\n",
    "\n",
    "Often referred to as logical indexing or indexing with a logical mask, indexing\n",
    "by a boolean array selects elements at the indices where its values are `true`.\n",
    "Indexing by a boolean vector `B` is effectively the same as indexing by the\n",
    "vector of integers that is returned by [`findall(B)`](@ref). Similarly, indexing\n",
    "by a `N`-dimensional boolean array is effectively the same as indexing by the\n",
    "vector of `CartesianIndex{N}`s where its values are `true`. A logical index\n",
    "must be a vector of the same length as the dimension it indexes into, or it\n",
    "must be the only index provided and match the size and dimensionality of the\n",
    "array it indexes into. It is generally more efficient to use boolean arrays as\n",
    "indices directly instead of first calling [`findall`](@ref)."
   ]
  },
  {
   "cell_type": "code",
   "execution_count": null,
   "id": "73f0b356",
   "metadata": {
    "attributes": {
     "classes": [
      "jldoctest"
     ],
     "id": ""
    }
   },
   "outputs": [],
   "source": [
    "julia> x = reshape(1:16, 4, 4)\n",
    "4×4 reshape(::UnitRange{Int64}, 4, 4) with eltype Int64:\n",
    " 1  5   9  13\n",
    " 2  6  10  14\n",
    " 3  7  11  15\n",
    " 4  8  12  16\n",
    "\n",
    "julia> x[[false, true, true, false], :]\n",
    "2×4 Array{Int64,2}:\n",
    " 2  6  10  14\n",
    " 3  7  11  15\n",
    "\n",
    "julia> mask = map(ispow2, x)\n",
    "4×4 Array{Bool,2}:\n",
    " 1  0  0  0\n",
    " 1  0  0  0\n",
    " 0  0  0  0\n",
    " 1  1  0  1\n",
    "\n",
    "julia> x[mask]\n",
    "5-element Array{Int64,1}:\n",
    "  1\n",
    "  2\n",
    "  4\n",
    "  8\n",
    " 16"
   ]
  },
  {
   "cell_type": "markdown",
   "id": "f86814e4",
   "metadata": {},
   "source": [
    "### Number of indices\n",
    "\n",
    "#### Cartesian indexing\n",
    "\n",
    "The ordinary way to index into an `N`-dimensional array is to use exactly `N` indices; each\n",
    "index selects the position(s) in its particular dimension. For example, in the three-dimensional\n",
    "array `A = rand(4, 3, 2)`, `A[2, 3, 1]` will select the number in the second row of the third\n",
    "column in the first \"page\" of the array. This is often referred to as _cartesian indexing_.\n",
    "\n",
    "#### Linear indexing\n",
    "\n",
    "When exactly one index `i` is provided, that index no longer represents a location in a\n",
    "particular dimension of the array. Instead, it selects the `i`th element using the\n",
    "column-major iteration order that linearly spans the entire array. This is known as _linear\n",
    "indexing_. It essentially treats the array as though it had been reshaped into a\n",
    "one-dimensional vector with [`vec`](@ref)."
   ]
  },
  {
   "cell_type": "code",
   "execution_count": null,
   "id": "93e6f8d2",
   "metadata": {},
   "outputs": [],
   "source": [
    "julia> A = [2 6; 4 7; 3 1]\n",
    "3×2 Array{Int64,2}:\n",
    " 2  6\n",
    " 4  7\n",
    " 3  1\n",
    "\n",
    "julia> A[5]\n",
    "7\n",
    "\n",
    "julia> vec(A)[5]\n",
    "7"
   ]
  },
  {
   "cell_type": "markdown",
   "id": "8db06614",
   "metadata": {},
   "source": [
    "A linear index into the array `A` can be converted to a `CartesianIndex` for cartesian\n",
    "indexing with `CartesianIndices(A)[i]` (see [`CartesianIndices`](@ref)), and a set of\n",
    "`N` cartesian indices can be converted to a linear index with\n",
    "`LinearIndices(A)[i_1, i_2, ..., i_N]` (see [`LinearIndices`](@ref))."
   ]
  },
  {
   "cell_type": "code",
   "execution_count": null,
   "id": "5b07c1f9",
   "metadata": {},
   "outputs": [],
   "source": [
    "julia> CartesianIndices(A)[5]\n",
    "CartesianIndex(2, 2)\n",
    "\n",
    "julia> LinearIndices(A)[2, 2]\n",
    "5"
   ]
  },
  {
   "cell_type": "markdown",
   "id": "813086c2",
   "metadata": {},
   "source": [
    "It's important to note that there's a very large assymmetry in the performance\n",
    "of these conversions. Converting a linear index to a set of cartesian indices\n",
    "requires dividing and taking the remainder, whereas going the other way is just\n",
    "multiplies and adds. In modern processors, integer division can be 10-50 times\n",
    "slower than multiplication. While some arrays — like [`Array`](@ref) itself —\n",
    "are implemented using a linear chunk of memory and directly use a linear index\n",
    "in their implementations, other arrays — like [`Diagonal`](@ref) — need the\n",
    "full set of cartesian indices to do their lookup (see [`IndexStyle`](@ref) to\n",
    "introspect which is which). As such, when iterating over an entire array, it's\n",
    "much better to iterate over [`eachindex(A)`](@ref) instead of `1:length(A)`.\n",
    "Not only will the former be much faster in cases where `A` is `IndexCartesian`,\n",
    "but it will also support OffsetArrays, too.\n",
    "\n",
    "#### Omitted and extra indices\n",
    "\n",
    "In addition to linear indexing, an `N`-dimensional array may be indexed with\n",
    "fewer or more than `N` indices in certain situations.\n",
    "\n",
    "Indices may be omitted if the trailing dimensions that are not indexed into are\n",
    "all length one. In other words, trailing indices can be omitted only if there\n",
    "is only one possible value that those omitted indices could be for an in-bounds\n",
    "indexing expression. For example, a four-dimensional array with size `(3, 4, 2,\n",
    "1)` may be indexed with only three indices as the dimension that gets skipped\n",
    "(the fourth dimension) has length one. Note that linear indexing takes\n",
    "precedence over this rule."
   ]
  },
  {
   "cell_type": "code",
   "execution_count": null,
   "id": "73229b76",
   "metadata": {
    "attributes": {
     "classes": [
      "jldoctest"
     ],
     "id": ""
    }
   },
   "outputs": [],
   "source": [
    "julia> A = reshape(1:24, 3, 4, 2, 1)\n",
    "3×4×2×1 reshape(::UnitRange{Int64}, 3, 4, 2, 1) with eltype Int64:\n",
    "[:, :, 1, 1] =\n",
    " 1  4  7  10\n",
    " 2  5  8  11\n",
    " 3  6  9  12\n",
    "\n",
    "[:, :, 2, 1] =\n",
    " 13  16  19  22\n",
    " 14  17  20  23\n",
    " 15  18  21  24\n",
    "\n",
    "julia> A[1, 3, 2] # Omits the fourth dimension (length 1)\n",
    "19\n",
    "\n",
    "julia> A[1, 3] # Attempts to omit dimensions 3 & 4 (lengths 2 and 1)\n",
    "ERROR: BoundsError: attempt to access 3×4×2×1 reshape(::UnitRange{Int64}, 3, 4, 2, 1) with eltype Int64 at index [1, 3]\n",
    "\n",
    "julia> A[19] # Linear indexing\n",
    "19"
   ]
  },
  {
   "cell_type": "markdown",
   "id": "c5f6d181",
   "metadata": {},
   "source": [
    "When omitting _all_ indices with `A[]`, this semantic provides a simple idiom\n",
    "to retrieve the only element in an array and simultaneously ensure that there\n",
    "was only one element.\n",
    "\n",
    "Similarly, more than `N` indices may be provided if all the indices beyond the\n",
    "dimensionality of the array are `1` (or more generally are the first and only\n",
    "element of `axes(A, d)` where `d` is that particular dimension number). This\n",
    "allows vectors to be indexed like one-column matrices, for example:"
   ]
  },
  {
   "cell_type": "code",
   "execution_count": null,
   "id": "45e909f1",
   "metadata": {
    "attributes": {
     "classes": [
      "jldoctest"
     ],
     "id": ""
    }
   },
   "outputs": [],
   "source": [
    "julia> A = [8,6,7]\n",
    "3-element Array{Int64,1}:\n",
    " 8\n",
    " 6\n",
    " 7\n",
    "\n",
    "julia> A[2,1]\n",
    "6"
   ]
  },
  {
   "cell_type": "markdown",
   "id": "910ee42d",
   "metadata": {},
   "source": [
    "## 迭代\n",
    "\n",
    "迭代整个数组的推荐方法是"
   ]
  },
  {
   "cell_type": "code",
   "execution_count": null,
   "id": "f6dfe02c",
   "metadata": {
    "attributes": {
     "classes": [
      "julia"
     ],
     "id": ""
    }
   },
   "outputs": [],
   "source": [
    "for a in A\n",
    "    # Do something with the element a\n",
    "end\n",
    "\n",
    "for i in eachindex(A)\n",
    "    # Do something with i and/or A[i]\n",
    "end"
   ]
  },
  {
   "cell_type": "markdown",
   "id": "6e98e48b",
   "metadata": {},
   "source": [
    "当你需要每个元素的值而不是索引时，使用第一个构造。 在第二个构造中，如果 `A` 是具有快速线性索引的数组类型，`i` 将是 `Int`; 否则，它将是一个 `CartesianIndex`："
   ]
  },
  {
   "cell_type": "code",
   "execution_count": null,
   "id": "8893d2c9",
   "metadata": {
    "attributes": {
     "classes": [
      "jldoctest"
     ],
     "id": ""
    }
   },
   "outputs": [],
   "source": [
    "julia> A = rand(4,3);\n",
    "\n",
    "julia> B = view(A, 1:3, 2:3);\n",
    "\n",
    "julia> for i in eachindex(B)\n",
    "           @show i\n",
    "       end\n",
    "i = CartesianIndex(1, 1)\n",
    "i = CartesianIndex(2, 1)\n",
    "i = CartesianIndex(3, 1)\n",
    "i = CartesianIndex(1, 2)\n",
    "i = CartesianIndex(2, 2)\n",
    "i = CartesianIndex(3, 2)"
   ]
  },
  {
   "cell_type": "markdown",
   "id": "fd057b5d",
   "metadata": {},
   "source": [
    "与 `for i = 1:length(A)` 相比，[`eachindex`](@ref) 提供了一种迭代任何数组类型的有效方法。\n",
    "\n",
    "## Array traits\n",
    "\n",
    "如果你编写一个自定义的 [`AbstractArray`](@ref) 类型，你可以用以下代码指定它使用快速线性索引"
   ]
  },
  {
   "cell_type": "code",
   "execution_count": null,
   "id": "581916c3",
   "metadata": {
    "attributes": {
     "classes": [
      "julia"
     ],
     "id": ""
    }
   },
   "outputs": [],
   "source": [
    "Base.IndexStyle(::Type{<:MyArray}) = IndexLinear()"
   ]
  },
  {
   "cell_type": "markdown",
   "id": "523599bd",
   "metadata": {},
   "source": [
    "此设置将导致 `myArray` 上的 `eachindex` 迭代使用整数。如果未指定此特征，则使用默认值 `IndexCartesian()`。\n",
    "\n",
    "## [Array and Vectorized Operators and Functions](@id man-array-and-vectorized-operators-and-functions)\n",
    "\n",
    "以下运算符支持对数组操作\n",
    "\n",
    "1. 一元运算符 -- `-`, `+`\n",
    "2. 二元运算符 -- `-`, `+`, `*`, `/`, `\\`, `^`\n",
    "3. 比较操作符 -- `==`, `!=`, `≈` ([`isapprox`](@ref)), `≉`\n",
    "\n",
    "另外，为了便于数学上和其他运算的向量化，Julia [提供了点语法（dot syntax）](@ref man-vectorized) `f.(args...)`，例如，`sin.(x)` 或 `min.(x,y)`，用于数组或数组和标量的混合上的按元素运算（[广播](@ref)运算）；当与其他点调用（dot call）结合使用时，它们的额外优点是能「融合」到单个循环中，例如，`sin.(cos.(x))`。\n",
    "\n",
    "此外，*每个*二元运算符支持相应的[点操作版本](@ref man-dot-operators)，可以应用于此类[融合 broadcasting 操作](@ref man-vectorized)的数组（以及数组和标量的组合），例如 `z .== sin.(x .* y)`。\n",
    "\n",
    "请注意，类似 `==` 的比较运算在作用于整个数组时，得到一个布尔结果。使用像 `.==` 这样的点运算符进行按元素的比较。（对于像 `<` 这样的比较操作，*只有*按元素运算的版本 `.<` 适用于数组。）\n",
    "\n",
    "还要注意 `max.(a,b)` 和 [`maximum(a)`](@ref) 之间的区别，`max.(a,b)` 对 `a` 和 `b` 的每个元素 [`broadcast`](@ref)s [`max`](@ref)，[`maximum(a)`](@ref) 寻找在 `a` 中的最大值。`min.(a,b)` 和 `minimum(a)` 也有同样的关系。\n",
    "\n",
    "## 广播\n",
    "\n",
    "有时需要在不同尺寸的数组上执行元素对元素的操作，例如将矩阵的每一列加一个向量。一种低效的方法是将向量复制成矩阵的大小："
   ]
  },
  {
   "cell_type": "code",
   "execution_count": null,
   "id": "ed3e98ae",
   "metadata": {
    "attributes": {
     "classes": [
      "julia-repl"
     ],
     "id": ""
    }
   },
   "outputs": [],
   "source": [
    "julia> a = rand(2,1); A = rand(2,3);\n",
    "\n",
    "julia> repeat(a,1,3)+A\n",
    "2×3 Array{Float64,2}:\n",
    " 1.20813  1.82068  1.25387\n",
    " 1.56851  1.86401  1.67846"
   ]
  },
  {
   "cell_type": "markdown",
   "id": "2c85f5e3",
   "metadata": {},
   "source": [
    "当维度较大的时候，这种方法将会十分浪费，所以 Julia 提供了广播 [`broadcast`](@ref)，它将会将参数中低维度的参数扩展，使得其与其他维度匹配，且不会使用额外的内存，并将所给的函数逐元素地应用。"
   ]
  },
  {
   "cell_type": "code",
   "execution_count": null,
   "id": "4e6845f7",
   "metadata": {
    "attributes": {
     "classes": [
      "julia-repl"
     ],
     "id": ""
    }
   },
   "outputs": [],
   "source": [
    "julia> broadcast(+, a, A)\n",
    "2×3 Array{Float64,2}:\n",
    " 1.20813  1.82068  1.25387\n",
    " 1.56851  1.86401  1.67846\n",
    "\n",
    "julia> b = rand(1,2)\n",
    "1×2 Array{Float64,2}:\n",
    " 0.867535  0.00457906\n",
    "\n",
    "julia> broadcast(+, a, b)\n",
    "2×2 Array{Float64,2}:\n",
    " 1.71056  0.847604\n",
    " 1.73659  0.873631"
   ]
  },
  {
   "cell_type": "markdown",
   "id": "b533896d",
   "metadata": {},
   "source": [
    "[Dotted operators](@ref man-dot-operators) such as `.+` and `.*` are equivalent\n",
    "to `broadcast` calls (except that they fuse, as [described above](@ref man-array-and-vectorized-operators-and-functions)). There is also a\n",
    "[`broadcast!`](@ref) function to specify an explicit destination (which can also\n",
    "be accessed in a fusing fashion by `.=` assignment). In fact, `f.(args...)`\n",
    "is equivalent to `broadcast(f, args...)`, providing a convenient syntax to broadcast any function\n",
    "([dot syntax](@ref man-vectorized)). Nested \"dot calls\" `f.(...)` (including calls to `.+` etcetera)\n",
    "[automatically fuse](@ref man-dot-operators) into a single `broadcast` call.\n",
    "\n",
    "Additionally, [`broadcast`](@ref) is not limited to arrays (see the function documentation);\n",
    "it also handles scalars, tuples and other collections.  By default, only some argument types are\n",
    "considered scalars, including (but not limited to) `Number`s, `String`s, `Symbol`s, `Type`s, `Function`s\n",
    "and some common singletons like `missing` and `nothing`. All other arguments are\n",
    "iterated over or indexed into elementwise."
   ]
  },
  {
   "cell_type": "code",
   "execution_count": null,
   "id": "f7f4acb5",
   "metadata": {
    "attributes": {
     "classes": [
      "jldoctest"
     ],
     "id": ""
    }
   },
   "outputs": [],
   "source": [
    "julia> convert.(Float32, [1, 2])\n",
    "2-element Array{Float32,1}:\n",
    " 1.0\n",
    " 2.0\n",
    "\n",
    "julia> ceil.(UInt8, [1.2 3.4; 5.6 6.7])\n",
    "2×2 Array{UInt8,2}:\n",
    " 0x02  0x04\n",
    " 0x06  0x07\n",
    "\n",
    "julia> string.(1:3, \". \", [\"First\", \"Second\", \"Third\"])\n",
    "3-element Array{String,1}:\n",
    " \"1. First\"\n",
    " \"2. Second\"\n",
    " \"3. Third\""
   ]
  },
  {
   "cell_type": "markdown",
   "id": "2f986924",
   "metadata": {},
   "source": [
    "Sometimes, you want a container (like an array) that would normally participate in broadcast to be \"protected\"\n",
    "from broadcast's behavior of iterating over all of its elements. By placing it inside another container\n",
    "(like a single element [`Tuple`](@ref)) broadcast will treat it as a single value."
   ]
  },
  {
   "cell_type": "code",
   "execution_count": null,
   "id": "1358ffbf",
   "metadata": {
    "attributes": {
     "classes": [
      "jldoctest"
     ],
     "id": ""
    }
   },
   "outputs": [],
   "source": [
    "julia> ([1, 2, 3], [4, 5, 6]) .+ ([1, 2, 3],)\n",
    "([2, 4, 6], [5, 7, 9])\n",
    "\n",
    "julia> ([1, 2, 3], [4, 5, 6]) .+ tuple([1, 2, 3])\n",
    "([2, 4, 6], [5, 7, 9])"
   ]
  },
  {
   "cell_type": "markdown",
   "id": "82ce74e6",
   "metadata": {},
   "source": [
    "## 实现\n",
    "\n",
    "Julia 中的基本数组类型是抽象类型 [`AbstractArray{T,N}`](@ref)。它通过维数 `N` 和元素类型 `T` 进行参数化。[`AbstractVector`](@ref) 和 [`AbstractMatrix`](@ref) 是一维和二维情况下的别名。`AbstractArray` 对象的操作是使用更高级别的运算符和函数定义的，其方式独立于底层存储。这些操作可以正确地被用于任何特定数组实现的回退操作。\n",
    "\n",
    "`AbstractArray` 类型包含任何模糊类似的东西，它的实现可能与传统数组完全不同。例如，可以根据请求而不是存储来计算元素。但是，任何具体的 `AbstractArray{T,N}` 类型通常应该至少实现 [`size(A)`](@ref)（返回 `Int` 元组），[`getindex(A,i)`](@ref) 和 [`getindex(A,i1,...,iN)`](@ref getindex)；可变数组也应该实现 [`setindex!`](@ref)。建议这些操作具有几乎为常数的时间复杂性，或严格说来 Õ(1) 复杂性，否则某些数组函数可能出乎意料的慢。具体类型通常还应提供 [`similar(A,T=eltype(A),dims=size(A))`](@ref) 方法，用于为 [`copy`](@ref) 分配类似的数组和其他位于当前数组空间外的操作。无论在内部如何表示 `AbstractArray{T,N}`，`T` 是由 *整数* 索引返回的对象类型（`A[1, ..., 1]`，当 `A` 不为空），`N` 应该是 [`size`](@ref) 返回的元组的长度。有关定义自定义 `AbstractArray` 实现的更多详细信息，请参阅[接口章节中的数组接口导则](@ref man-interface-array)。\n",
    "\n",
    "`DenseArray` is an abstract subtype of `AbstractArray` intended to include all arrays where\n",
    "elements are stored contiguously in column-major order (see [additional notes in\n",
    "Performance Tips](@ref man-performance-column-major)). The [`Array`](@ref) type is a specific instance\n",
    "of `DenseArray`;  [`Vector`](@ref) and [`Matrix`](@ref) are aliases for the 1-d and 2-d cases.\n",
    "Very few operations are implemented specifically for `Array` beyond those that are required\n",
    "for all `AbstractArray`s; much of the array library is implemented in a generic\n",
    "manner that allows all custom arrays to behave similarly.\n",
    "\n",
    "`SubArray` 是 `AbstractArray` 的特例，它通过与原始数组共享内存而不是复制它来执行索引。 使用[`view`](@ref) 函数创建 `SubArray`，它的调用方式与[`getindex`](@ref) 相同（作用于数组和一系列索引参数）。 [`view`](@ref) 的结果看起来与 [`getindex`](@ref) 的结果相同，只是数据保持不变。 [`view`](@ref) 将输入索引向量存储在 `SubArray` 对象中，该对象稍后可用于间接索引原始数组。 通过将  [`@views`](@ref) 宏放在表达式或代码块之前，该表达式中的任何 `array [...]` 切片将被转换为创建一个 `SubArray` 视图。\n",
    "\n",
    "[`BitArray`](@ref) 是节省空间“压缩”的布尔数组，每个比特（bit）存储一个布尔值。 它们可以类似于 `Array{Bool}` 数组（每个字节（byte）存储一个布尔值），并且可以分别通过 `Array(bitarray)` 和 `BitArray(array)` 相互转换。\n",
    "\n",
    "An array is \"strided\" if it is stored in memory with well-defined spacings (strides) between\n",
    "its elements. A strided array with a supported element type may be passed to an external\n",
    "(non-Julia) library like BLAS or LAPACK by simply passing its [`pointer`](@ref) and the\n",
    "stride for each dimension. The [`stride(A, d)`](@ref) is the distance between elements along\n",
    "dimension `d`. For example, the builtin `Array` returned by `rand(5,7,2)` has its elements\n",
    "arranged contiguously in column major order. This means that the stride of the first\n",
    "dimension — the spacing between elements in the same column — is `1`:"
   ]
  },
  {
   "cell_type": "code",
   "execution_count": null,
   "id": "64dba945",
   "metadata": {
    "attributes": {
     "classes": [
      "julia-repl"
     ],
     "id": ""
    }
   },
   "outputs": [],
   "source": [
    "julia> A = rand(5,7,2);\n",
    "\n",
    "julia> stride(A,1)\n",
    "1"
   ]
  },
  {
   "cell_type": "markdown",
   "id": "aca6f67e",
   "metadata": {},
   "source": [
    "The stride of the second dimension is the spacing between elements in the same row, skipping\n",
    "as many elements as there are in a single column (`5`). Similarly, jumping between the two\n",
    "\"pages\" (in the third dimension) requires skipping `5*7 == 35` elements.  The [`strides`](@ref)\n",
    "of this array is the tuple of these three numbers together:"
   ]
  },
  {
   "cell_type": "code",
   "execution_count": null,
   "id": "39e3c709",
   "metadata": {
    "attributes": {
     "classes": [
      "julia-repl"
     ],
     "id": ""
    }
   },
   "outputs": [],
   "source": [
    "julia> strides(A)\n",
    "(1, 5, 35)"
   ]
  },
  {
   "cell_type": "markdown",
   "id": "4495cbb1",
   "metadata": {},
   "source": [
    "In this particular case, the number of elements skipped _in memory_ matches the number of\n",
    "_linear indices_ skipped. This is only the case for contiguous arrays like `Array` (and\n",
    "other `DenseArray` subtypes) and is not true in general. Views with range indices are a good\n",
    "example of _non-contiguous_ strided arrays; consider `V = @view A[1:3:4, 2:2:6, 2:-1:1]`.\n",
    "This view `V` refers to the same memory as `A` but is skipping and re-arranging some of its\n",
    "elements. The stride of the first dimension of `V` is `3` because we're only selecting every\n",
    "third row from our original array:"
   ]
  },
  {
   "cell_type": "code",
   "execution_count": null,
   "id": "64256dc6",
   "metadata": {
    "attributes": {
     "classes": [
      "julia-repl"
     ],
     "id": ""
    }
   },
   "outputs": [],
   "source": [
    "julia> V = @view A[1:3:4, 2:2:6, 2:-1:1];\n",
    "\n",
    "julia> stride(V, 1)\n",
    "3"
   ]
  },
  {
   "cell_type": "markdown",
   "id": "a446cc06",
   "metadata": {},
   "source": [
    "This view is similarly selecting every other column from our original `A` — and thus it\n",
    "needs to skip the equivalent of two five-element columns when moving between indices in the\n",
    "second dimension:"
   ]
  },
  {
   "cell_type": "code",
   "execution_count": null,
   "id": "38e00dc8",
   "metadata": {
    "attributes": {
     "classes": [
      "julia-repl"
     ],
     "id": ""
    }
   },
   "outputs": [],
   "source": [
    "julia> stride(V, 2)\n",
    "10"
   ]
  },
  {
   "cell_type": "markdown",
   "id": "d525d2da",
   "metadata": {},
   "source": [
    "The third dimension is interesting because its order is reversed! Thus to get from the first\n",
    "\"page\" to the second one it must go _backwards_ in memory, and so its stride in this\n",
    "dimension is negative!"
   ]
  },
  {
   "cell_type": "code",
   "execution_count": null,
   "id": "4bf5aea0",
   "metadata": {
    "attributes": {
     "classes": [
      "julia-repl"
     ],
     "id": ""
    }
   },
   "outputs": [],
   "source": [
    "julia> stride(V, 3)\n",
    "-35"
   ]
  },
  {
   "cell_type": "markdown",
   "id": "04653661",
   "metadata": {},
   "source": [
    "This means that the `pointer` for `V` is actually pointing into the middle of `A`'s memory\n",
    "block, and it refers to elements both backwards and forwards in memory. See the\n",
    "[interface guide for strided arrays](@ref man-interface-strided-arrays) for more details on\n",
    "defining your own strided arrays. [`StridedVector`](@ref) and [`StridedMatrix`](@ref) are\n",
    "convenient aliases for many of the builtin array types that are considered strided arrays,\n",
    "allowing them to dispatch to select specialized implementations that call highly tuned and\n",
    "optimized BLAS and LAPACK functions using just the pointer and strides.\n",
    "\n",
    "It is worth emphasizing that strides are about offsets in memory rather than indexing. If\n",
    "you are looking to convert between linear (single-index) indexing and cartesian\n",
    "(multi-index) indexing, see [`LinearIndices`](@ref) and [`CartesianIndices`](@ref)."
   ]
  }
 ],
 "metadata": {},
 "nbformat": 4,
 "nbformat_minor": 5
}
