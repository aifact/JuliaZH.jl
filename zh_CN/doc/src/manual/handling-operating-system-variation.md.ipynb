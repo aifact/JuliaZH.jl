{
 "cells": [
  {
   "cell_type": "markdown",
   "id": "c732094c",
   "metadata": {},
   "source": [
    "# 处理操作系统差异\n",
    "\n",
    "当编写跨平台的应用或库时，通常需要考虑到操作系统之间的差异。变量 `Sys.KERNEL` 可以用于这些场合。在 `Sys` 模块中有一些函数将会使这些事情更加简单：`isunix`、 `islinux`、`isapple`、`isbsd`、`isfreebsd` 以及 `iswindows`。这些函数可以按如下方式使用："
   ]
  },
  {
   "cell_type": "code",
   "execution_count": null,
   "id": "23325132",
   "metadata": {
    "attributes": {
     "classes": [
      "julia"
     ],
     "id": ""
    }
   },
   "outputs": [],
   "source": [
    "if Sys.iswindows()\n",
    "    windows_specific_thing(a)\n",
    "end"
   ]
  },
  {
   "cell_type": "markdown",
   "id": "1b4e9aff",
   "metadata": {},
   "source": [
    "注意，`islinux`、`isapple` 和 `isfreebsd` 是 `isunix` 完全互斥的子集。另外，有一个宏 `@static` 可以使用这些函数有条件地隐藏无效代码，如以下示例所示。\n",
    "\n",
    "简单例子："
   ]
  },
  {
   "cell_type": "code",
   "execution_count": null,
   "id": "fcd6bcf2",
   "metadata": {},
   "outputs": [],
   "source": [
    "ccall((@static Sys.iswindows() ? :_fopen : :fopen), ...)"
   ]
  },
  {
   "cell_type": "markdown",
   "id": "97d53cf6",
   "metadata": {},
   "source": [
    "复杂例子："
   ]
  },
  {
   "cell_type": "code",
   "execution_count": null,
   "id": "066c260a",
   "metadata": {
    "attributes": {
     "classes": [
      "julia"
     ],
     "id": ""
    }
   },
   "outputs": [],
   "source": [
    "@static if Sys.islinux()\n",
    "    linux_specific_thing(a)\n",
    "else\n",
    "    generic_thing(a)\n",
    "end"
   ]
  },
  {
   "cell_type": "markdown",
   "id": "24766c04",
   "metadata": {},
   "source": [
    "在链式嵌套的条件表达式中（包括 `if`/`elseif`/`end`），`@static` 必须在每一层都调用（括号是可选的，但是为了可读性，建议添加）。"
   ]
  },
  {
   "cell_type": "code",
   "execution_count": null,
   "id": "4d0d48db",
   "metadata": {
    "attributes": {
     "classes": [
      "julia"
     ],
     "id": ""
    }
   },
   "outputs": [],
   "source": [
    "@static Sys.iswindows() ? :a : (@static Sys.isapple() ? :b : :c)"
   ]
  }
 ],
 "metadata": {},
 "nbformat": 4,
 "nbformat_minor": 5
}
