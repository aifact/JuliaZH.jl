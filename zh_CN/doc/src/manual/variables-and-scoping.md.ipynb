{
 "cells": [
  {
   "cell_type": "markdown",
   "id": "c06a60ff",
   "metadata": {},
   "source": [
    "# [变量作用域](@id scope-of-variables)\n",
    "\n",
    "变量的 **作用域** 是代码的一个区域，在这个区域中这个变量是可见的。给变量划分作用域有助于解决变量命名冲突。这个概念是符合直觉的：两个函数可能同时都有叫做 `x` 的参量，而这两个 `x` 并不指向同一个东西。\n",
    "相似地，也有很多其他的情况，代码的不同块会使用同样名字，但并不指向同一个东西。相同的变量名是否指向同一个东西的规则被称为作用域规则；这一节会详细地把这个规则讲清楚。\n",
    "\n",
    "语言中的某些结构会引入**作用域块**，这是有资格成为一些变量集合的作用域的代码区域。一个变量的作用域不可能是源代码行的任意集合；相反，它始终与这些块之一关系密切。在 Julia 中主要有两种作用域，**全局作用域** 与 **局部作用域**，后者可以嵌套。\n",
    "在 Julia 中还存在引入“硬作用域”的构造和只引入“软作用域”的构造之间的区别，这影响到是否允许以相同的名称遮蔽全局变量。\n",
    "\n",
    "### [作用域结构](@id man-scope-table)\n",
    "\n",
    "引入作用域块的结构有：\n",
    "\n",
    "结构 | 作用域类型 | Allowed within\n",
    "----------|------------|---------------\n",
    "[`module`](@ref), [`baremodule`](@ref) | 全局 | 全局\n",
    "[`struct`](@ref) | local (soft) | 全局\n",
    "[`for`](@ref), [`while`](@ref), [`try`](@ref try) | local (soft) | 全局或局部\n",
    "[`macro`](@ref) | local (hard) | 全局\n",
    "[`let`](@ref), functions, comprehensions, generators | local (hard) | 全局或局部\n",
    "\n",
    "值得注意的是，这个表内没有的是[ begin 块](@ref man-compound-experessions)和[ if 块](@ref man-conditional-evaluation)，这两个块**不会**引进新的作用域块。这两种作用域遵循的规则有点不一样，会在下面解释。\n",
    "\n",
    "Julia使用[词法作用域](https://en.wikipedia.org/wiki/Scope_%28computer_science%29#Lexical_scoping_vs._dynamic_scoping)，也就是说一个函数的作用域不会从其调用者的作用域继承，而从函数定义处的作用域继承。举个例子，在下列的代码中`foo`中的`x`指向的是模块`Bar`的全局作用域中的`x`。"
   ]
  },
  {
   "cell_type": "code",
   "execution_count": null,
   "id": "e799dae0",
   "metadata": {},
   "outputs": [],
   "source": [
    "julia> module Bar\n",
    "           x = 1\n",
    "           foo() = x\n",
    "       end;"
   ]
  },
  {
   "cell_type": "markdown",
   "id": "a2f8f40d",
   "metadata": {},
   "source": [
    "并且在`foo`被使用的地方`x`并不在作用域中："
   ]
  },
  {
   "cell_type": "code",
   "execution_count": null,
   "id": "caa2f524",
   "metadata": {},
   "outputs": [],
   "source": [
    "julia> import .Bar\n",
    "\n",
    "julia> x = -1;\n",
    "\n",
    "julia> Bar.foo()\n",
    "1"
   ]
  },
  {
   "cell_type": "markdown",
   "id": "3e4ab718",
   "metadata": {},
   "source": [
    "Thus *lexical scope* means that what a variable in a particular piece of code refers to can be\n",
    "deduced from the code in which it appears alone and does not depend on how the program executes. A\n",
    "scope nested inside another scope can \"see\" variables in all the outer scopes in which it is\n",
    "contained. Outer scopes, on the other hand, cannot see variables in inner scopes.\n",
    "\n",
    "## 全局作用域\n",
    "\n",
    "每个模块会引进一个新的全局作用域，与其他所有模块的全局作用域分开；无所不包的全局作用域不存在。模块可以把其他模块的变量引入到它的作用域中，通过[using 或者 import](@ref modules)语句或者通过点符号这种有资格的通路，也就是说每个模块都是所谓的*命名空间*。值得注意的是变量绑定只能在它们的全局作用域中改变，在外部模块中不行。\n",
    "作为一个逃生窗口，你总是可以执行该模块内的代码来修改一个变量；这特别保证了不调用“eval”的外部代码绝不会修改模块绑定。"
   ]
  },
  {
   "cell_type": "code",
   "execution_count": null,
   "id": "804d1d87",
   "metadata": {
    "attributes": {
     "classes": [
      "jldoctest"
     ],
     "id": ""
    }
   },
   "outputs": [],
   "source": [
    "julia> module A\n",
    "           a = 1 # a global in A's scope\n",
    "       end;\n",
    "\n",
    "julia> module B\n",
    "           module C\n",
    "               c = 2\n",
    "           end\n",
    "           b = C.c    # can access the namespace of a nested global scope\n",
    "                      # through a qualified access\n",
    "           import ..A # makes module A available\n",
    "           d = A.a\n",
    "       end;\n",
    "\n",
    "julia> module D\n",
    "           b = a # errors as D's global scope is separate from A's\n",
    "       end;\n",
    "ERROR: UndefVarError: a not defined\n",
    "\n",
    "julia> module E\n",
    "           import ..A # make module A available\n",
    "           A.a = 2    # throws below error\n",
    "       end;\n",
    "ERROR: cannot assign variables in other modules"
   ]
  },
  {
   "cell_type": "markdown",
   "id": "3382956e",
   "metadata": {},
   "source": [
    "注意交互式提示行（即REPL）是在模块`Main`的全局作用域中。\n",
    "\n",
    "## 局部作用域\n",
    "\n",
    "A new local scope is introduced by most code blocks (see above [table](@ref man-scope-table) for a\n",
    "complete list). Some programming languages require explicitly declaring new variables before using\n",
    "them. Explicit declaration works in Julia too: in any local scope, writing `local x` declares a new\n",
    "local variable in that scope, regardless of whether there is already a variable named `x` in an\n",
    "outer scope or not. Declaring each new local like this is somewhat verbose and tedious, however, so\n",
    "Julia, like many other languages, considers assignment to a new variable in a local scope to\n",
    "implicitly declare that variable as a new local. Mostly this is pretty intuitive, but as with many\n",
    "things that behave intuitively, the details are more subtle than one might naïvely imagine.\n",
    "\n",
    "When `x = <value>` occurs in a local scope, Julia applies the following rules to decide what the\n",
    "expression means based on where the assignment expression occurs and what `x` already refers to at\n",
    "that location:\n",
    "\n",
    "1. **Existing local:** If `x` is *already a local variable*, then the existing local `x` is\n",
    "   assigned;\n",
    "2. **Hard scope:** If `x` is *not already a local variable* and assignment occurs inside of any\n",
    "   hard scope construct (i.e. within a let block, function or macro body, comprehension, or\n",
    "   generator), a new local named `x` is created in the scope of the assignment;\n",
    "3. **Soft scope:** If `x` is *not already a local variable* and all of the scope constructs\n",
    "   containing the assignment are soft scopes (loops, `try`/`catch` blocks, or `struct` blocks), the\n",
    "   behavior depends on whether the global variable `x` is defined:\n",
    "   * if global `x` is *undefined*, a new local named `x` is created in the scope of the\n",
    "     assignment;\n",
    "   * if global `x` is *defined*, the assignment is considered ambiguous:\n",
    "     * in *non-interactive* contexts (files, eval), an ambiguity warning is printed and a new\n",
    "       local is created;\n",
    "     * in *interactive* contexts (REPL, notebooks), the global variable `x` is assigned.\n",
    "\n",
    "You may note that in non-interactive contexts the hard and soft scope behaviors are identical except\n",
    "that a warning is printed when an implicitly local variable (i.e. not declared with `local x`)\n",
    "shadows a global. In interactive contexts, the rules follow a more complex heuristic for the sake of\n",
    "convenience. This is covered in depth in examples that follow.\n",
    "\n",
    "Now that you know the rules, let's look at some examples. Each example is assumed to be evaluated in\n",
    "a fresh REPL session so that the only globals in each snippet are the ones that are assigned in that\n",
    "block of code.\n",
    "\n",
    "We'll begin with a nice and clear-cut situation—assignment inside of a hard scope, in this case a\n",
    "function body, when no local variable by that name already exists:"
   ]
  },
  {
   "cell_type": "code",
   "execution_count": null,
   "id": "2d4da7c4",
   "metadata": {
    "attributes": {
     "classes": [
      "jldoctest"
     ],
     "id": ""
    }
   },
   "outputs": [],
   "source": [
    "julia> function greet()\n",
    "           x = \"hello\" # new local\n",
    "           println(x)\n",
    "       end\n",
    "greet (generic function with 1 method)\n",
    "\n",
    "julia> greet()\n",
    "hello\n",
    "\n",
    "julia> x # global\n",
    "ERROR: UndefVarError: x not defined"
   ]
  },
  {
   "cell_type": "markdown",
   "id": "e17eb923",
   "metadata": {},
   "source": [
    "Inside of the `greet` function, the assignment `x = \"hello\"` causes `x` to be a new local variable\n",
    "in the function's scope. There are two relevant facts: the assignment occurs in local scope and\n",
    "there is no existing local `x` variable. Since `x` is local, it doesn't matter if there is a global\n",
    "named `x` or not. Here for example we define `x = 123` before defining and calling `greet`:"
   ]
  },
  {
   "cell_type": "code",
   "execution_count": null,
   "id": "5794a9d6",
   "metadata": {
    "attributes": {
     "classes": [
      "jldoctest"
     ],
     "id": ""
    }
   },
   "outputs": [],
   "source": [
    "julia> x = 123 # global\n",
    "123\n",
    "\n",
    "julia> function greet()\n",
    "           x = \"hello\" # new local\n",
    "           println(x)\n",
    "       end\n",
    "greet (generic function with 1 method)\n",
    "\n",
    "julia> greet()\n",
    "hello\n",
    "\n",
    "julia> x # global\n",
    "123"
   ]
  },
  {
   "cell_type": "markdown",
   "id": "b808ad97",
   "metadata": {},
   "source": [
    "Since the `x` in `greet` is local, the value (or lack thereof) of the global `x` is unaffected by\n",
    "calling `greet`. The hard scope rule doesn't care whether a global named `x` exists or not:\n",
    "assignment to `x` in a hard scope is local (unless `x` is declared global).\n",
    "\n",
    "The next clear cut situation we'll consider is when there is already a local variable named `x`, in\n",
    "which case `x = <value>` always assigns to this existing local `x`.  The function `sum_to` computes\n",
    "the sum of the numbers from one up to `n`:"
   ]
  },
  {
   "cell_type": "code",
   "execution_count": null,
   "id": "de84a04c",
   "metadata": {
    "attributes": {
     "classes": [
      "julia"
     ],
     "id": ""
    }
   },
   "outputs": [],
   "source": [
    "function sum_to(n)\n",
    "    s = 0 # new local\n",
    "    for i = 1:n\n",
    "        s = s + i # assign existing local\n",
    "    end\n",
    "    return s # same local\n",
    "end"
   ]
  },
  {
   "cell_type": "markdown",
   "id": "d1aa432b",
   "metadata": {},
   "source": [
    "As in the previous example, the first assignment to `s` at the top of `sum_to` causes `s` to be a\n",
    "new local variable in the body of the function. The `for` loop has its own inner local scope within\n",
    "the function scope. At the point where `s = s + i` occurs, `s` is already a local variable, so the\n",
    "assignment updates the existing `s` instead of creating a new local. We can test this out by calling\n",
    "`sum_to` in the REPL:"
   ]
  },
  {
   "cell_type": "code",
   "execution_count": null,
   "id": "880c15ee",
   "metadata": {
    "attributes": {
     "classes": [
      "jldoctest"
     ],
     "id": ""
    }
   },
   "outputs": [],
   "source": [
    "julia> function sum_to(n)\n",
    "           s = 0 # new local\n",
    "           for i = 1:n\n",
    "               s = s + i # assign existing local\n",
    "           end\n",
    "           return s # same local\n",
    "       end\n",
    "sum_to (generic function with 1 method)\n",
    "\n",
    "julia> sum_to(10)\n",
    "55\n",
    "\n",
    "julia> s # global\n",
    "ERROR: UndefVarError: s not defined"
   ]
  },
  {
   "cell_type": "markdown",
   "id": "322dd926",
   "metadata": {},
   "source": [
    "Since `s` is local to the function `sum_to`, calling the function has no effect on the global\n",
    "variable `s`. We can also see that the update `s = s + i` in the `for` loop must have updated the same\n",
    "`s` created by the initialization `s = 0` since we get the correct sum of 55 for the integers 1\n",
    "through 10.\n",
    "\n",
    "Let's dig into the fact that the `for` loop body has its own scope for a second by writing a slightly\n",
    "more verbose variation which we'll call `sum_to′`, in which we save the sum `s + i` in a variable `t`\n",
    "before updating `s`:"
   ]
  },
  {
   "cell_type": "code",
   "execution_count": null,
   "id": "1e02601b",
   "metadata": {
    "attributes": {
     "classes": [
      "jldoctest"
     ],
     "id": ""
    }
   },
   "outputs": [],
   "source": [
    "julia> function sum_to′(n)\n",
    "           s = 0 # new local\n",
    "           for i = 1:n\n",
    "               t = s + i # new local `t`\n",
    "               s = t # assign existing local `s`\n",
    "           end\n",
    "           return s, @isdefined(t)\n",
    "       end\n",
    "sum_to′ (generic function with 1 method)\n",
    "\n",
    "julia> sum_to′(10)\n",
    "(55, false)"
   ]
  },
  {
   "cell_type": "markdown",
   "id": "6fa470b9",
   "metadata": {},
   "source": [
    "This version returns `s` as before but it also uses the `@isdefined` macro to return a boolean\n",
    "indicating whether there is a local variable named `t` defined in the function's outermost local\n",
    "scope. As you can see, there is no `t` defined outside of the `for` loop body. This is because of the\n",
    "hard scope rule again: since the assignment to `t` occurs inside of a function, which\n",
    "introduces a hard scope, the assignment causes `t` to become a new local variable in the local scope\n",
    "where it appears, i.e. inside of the loop body. Even if there were a global named `t`, it would make\n",
    "no difference—the hard scope rule isn't affected by anything in global scope.\n",
    "\n",
    "Let's move onto some more ambiguous cases covered by the soft scope rule. We'll explore this by\n",
    "extracting the bodies of the `greet` and `sum_to′` functions into soft scope contexts. First, let's put the\n",
    "body of `greet` in a `for` loop—which is soft, rather than hard—and evaluate it in the REPL:"
   ]
  },
  {
   "cell_type": "code",
   "execution_count": null,
   "id": "24e16a73",
   "metadata": {
    "attributes": {
     "classes": [
      "jldoctest"
     ],
     "id": ""
    }
   },
   "outputs": [],
   "source": [
    "julia> for i = 1:3\n",
    "           x = \"hello\" # new local\n",
    "           println(x)\n",
    "       end\n",
    "hello\n",
    "hello\n",
    "hello\n",
    "\n",
    "julia> x\n",
    "ERROR: UndefVarError: x not defined"
   ]
  },
  {
   "cell_type": "markdown",
   "id": "49162d44",
   "metadata": {},
   "source": [
    "Since the global `x` is not defined when the `for` loop is evaluated, the first clause of the soft\n",
    "scope rule applies and `x` is created as local to the `for` loop and therefore global `x` remains\n",
    "undefined after the loop executes. Next, let's consider the body of `sum_to′` extracted into global\n",
    "scope, fixing its argument to `n = 10`"
   ]
  },
  {
   "cell_type": "code",
   "execution_count": null,
   "id": "cd6f6b04",
   "metadata": {
    "attributes": {
     "classes": [
      "julia"
     ],
     "id": ""
    }
   },
   "outputs": [],
   "source": [
    "s = 0\n",
    "for i = 1:10\n",
    "    t = s + i\n",
    "    s = t\n",
    "end\n",
    "s\n",
    "@isdefined(t)"
   ]
  },
  {
   "cell_type": "markdown",
   "id": "b48f32ec",
   "metadata": {},
   "source": [
    "What does this code do? Hint: it's a trick question. The answer is \"it depends.\" If this code is\n",
    "entered interactively, it behaves the same way it does in a function body. But if the code appears\n",
    "in a file, it  prints an ambiguity warning and throws an undefined variable error. Let's see it\n",
    "working in the REPL first:"
   ]
  },
  {
   "cell_type": "code",
   "execution_count": null,
   "id": "6bcb0ecc",
   "metadata": {
    "attributes": {
     "classes": [
      "jldoctest"
     ],
     "id": ""
    }
   },
   "outputs": [],
   "source": [
    "julia> s = 0 # global\n",
    "0\n",
    "\n",
    "julia> for i = 1:10\n",
    "           t = s + i # new local `t`\n",
    "           s = t # assign global `s`\n",
    "       end\n",
    "\n",
    "julia> s # global\n",
    "55\n",
    "\n",
    "julia> @isdefined(t) # global\n",
    "false"
   ]
  },
  {
   "cell_type": "markdown",
   "id": "8eaa3c90",
   "metadata": {},
   "source": [
    "The REPL approximates being in the body of a function by deciding whether assignment inside the loop\n",
    "assigns to a global or creates new local based on whether a global variable by that name is defined\n",
    "or not. If a global by the name exists, then the assignment updates it. If no global exists, then\n",
    "the assignment creates a new local variable. In this example we see both cases in action:\n",
    "\n",
    "* There is no global named `t`, so `t = s + i` creates a new `t` that is local to the `for` loop;\n",
    "* There is a global named `s`, so `s = t` assigns to it.\n",
    "\n",
    "The second fact is why execution of the loop changes the global value of `s` and the first fact is\n",
    "why `t` is still undefined after the loop executes. Now, let's try evaluating this same code as\n",
    "though it were in a file instead:"
   ]
  },
  {
   "cell_type": "code",
   "execution_count": null,
   "id": "c2f2eaa8",
   "metadata": {
    "attributes": {
     "classes": [
      "jldoctest"
     ],
     "id": ""
    }
   },
   "outputs": [],
   "source": [
    "julia> code = \"\"\"\n",
    "       s = 0 # global\n",
    "       for i = 1:10\n",
    "           t = s + i # new local `t`\n",
    "           s = t # new local `s` with warning\n",
    "       end\n",
    "       s, # global\n",
    "       @isdefined(t) # global\n",
    "       \"\"\";\n",
    "\n",
    "julia> include_string(Main, code)\n",
    "┌ Warning: Assignment to `s` in soft scope is ambiguous because a global variable by the same name exists: `s` will be treated as a new local. Disambiguate by using `local s` to suppress this warning or `global s` to assign to the existing global variable.\n",
    "└ @ string:4\n",
    "ERROR: LoadError: UndefVarError: s not defined"
   ]
  },
  {
   "cell_type": "markdown",
   "id": "4e484870",
   "metadata": {},
   "source": [
    "Here we use [`include_string`](@ref), to evaluate `code` as though it were the contents of a file.\n",
    "We could also save `code` to a file and then call `include` on that file—the result would be the\n",
    "same. As you can see, this behaves quite different from evaluating the same code in the REPL. Let's\n",
    "break down what's happening here:\n",
    "\n",
    "* global `s` is defined with the value `0` before the loop is evaluated\n",
    "* the assignment `s = t` occurs in a soft scope—a `for` loop outside of any function body or other hard\n",
    "  scope construct\n",
    "* therefore the second clause of the soft scope rule applies, and the assignment is ambiguous so a\n",
    "  warning is emitted\n",
    "* execution continues, making `s` local to the `for` loop body\n",
    "* since `s` is local to the `for` loop, it is undefined when `t = s + i` is evaluated, causing an error\n",
    "* evaluation stops there, but if it got to `s` and `@isdefined(t)`, it would return `0` and `false`.\n",
    "\n",
    "This demonstrates some important aspects of scope: in a scope, each variable can only have one\n",
    "meaning, and that meaning is determined regardless of the order of expressions. The presence of the\n",
    "expression `s = t` in the loop causes `s` to be local to the loop, which means that it is also local\n",
    "when it appears on the right hand side of `t = s + i`, even though that expression appears first and is\n",
    "evaluated first. One might imagine that the `s` on the first line of the loop could be global while\n",
    "the `s` on the second line of the loop is local, but that's not possible since the two lines are in\n",
    "the same scope block and each variable can only mean one thing in a given scope.\n",
    "\n",
    "#### On Soft Scope\n",
    "\n",
    "We have now covered all the local scope rules, but before wrapping up this section, perhaps a few\n",
    "words should be said about why the ambiguous soft scope case is handled differently in interactive\n",
    "and non-interactive contexts. There are two obvious questions one could ask:\n",
    "\n",
    "1. Why doesn't it just work like the REPL everywhere?\n",
    "2. Why doesn't it just work like in files everywhere? And maybe skip the warning?\n",
    "\n",
    "In Julia ≤ 0.6, all global scopes did work like the current REPL: when `x = <value>` occurred in a\n",
    "loop (or `try`/`catch`, or `struct` body) but outside of a function body (or `let` block or comprehension),\n",
    "it was decided based on whether a global named `x` was defined or not whether `x` should be local to\n",
    "the loop. This behavior has the advantage of being intuitive and convenient since it approximates\n",
    "the behavior inside of a function body as closely as possible. In particular, it makes it easy to\n",
    "move code back and forth between a function body and the REPL when trying to debug the behavior of a\n",
    "function. However, it has some downsides. First, it's quite a complex behavior: many people over the\n",
    "years were confused about this behavior and complained that it was complicated and hard both to\n",
    "explain and understand. Fair point. Second, and arguably worse, is that it's bad for programming \"at\n",
    "scale.\" When you see a small piece of code in one place like this, it's quite clear what's going on:"
   ]
  },
  {
   "cell_type": "code",
   "execution_count": null,
   "id": "ed7967be",
   "metadata": {
    "attributes": {
     "classes": [
      "julia"
     ],
     "id": ""
    }
   },
   "outputs": [],
   "source": [
    "s = 0\n",
    "for i = 1:10\n",
    "    s += i\n",
    "end"
   ]
  },
  {
   "cell_type": "markdown",
   "id": "9520772d",
   "metadata": {},
   "source": [
    "Obviously the intention is to modify the existing global variable `s`. What else could it mean?\n",
    "However, not all real world code is so short or so clear. We found that code like the following\n",
    "often occurs in the wild:"
   ]
  },
  {
   "cell_type": "code",
   "execution_count": null,
   "id": "bfdf170b",
   "metadata": {
    "attributes": {
     "classes": [
      "julia"
     ],
     "id": ""
    }
   },
   "outputs": [],
   "source": [
    "x = 123\n",
    "\n",
    "# much later\n",
    "# maybe in a different file\n",
    "\n",
    "for i = 1:10\n",
    "    x = \"hello\"\n",
    "    println(x)\n",
    "end\n",
    "\n",
    "# much later\n",
    "# maybe in yet another file\n",
    "# or maybe back in the first one where `x = 123`\n",
    "\n",
    "y = x + 234"
   ]
  },
  {
   "cell_type": "markdown",
   "id": "7484391e",
   "metadata": {},
   "source": [
    "It's far less clear what should happen here. Since `x + \"hello\"` is a method error, it seems\n",
    "probable that the intention is for `x` to be local to the `for` loop. But runtime values and what\n",
    "methods happen to exist cannot be used to determine the scopes of variables. With the Julia ≤ 0.6\n",
    "behavior, it's especially concerning that someone might have written the `for` loop first, had it\n",
    "working just fine, but later when someone else adds a new global far away—possibly in a different\n",
    "file—the code suddenly changes meaning and either breaks noisily or, worse still, silently does the\n",
    "wrong thing. This kind of [\"spooky action at a distance\"](https://en.wikipedia.org/wiki/Action_at_a_distance_(computer_programming)) is something that good programming language\n",
    "designs should prevent.\n",
    "\n",
    "So in Julia 1.0, we simplified the rules for scope: in any local scope, assignment to a name that\n",
    "wasn't already a local variable created a new local variable. This eliminated the notion of soft\n",
    "scope entirely as well as removing the potential for spooky action. We uncovered and fixed a significant number of bugs due to the removal of soft scope, vindicating the choice to get rid of it.\n",
    "And there was much rejoicing! Well, no, not really. Because some people were\n",
    "angry that they now had to write:"
   ]
  },
  {
   "cell_type": "code",
   "execution_count": null,
   "id": "0435c4e2",
   "metadata": {
    "attributes": {
     "classes": [
      "julia"
     ],
     "id": ""
    }
   },
   "outputs": [],
   "source": [
    "s = 0\n",
    "for i = 1:10\n",
    "    global s += i\n",
    "end"
   ]
  },
  {
   "cell_type": "markdown",
   "id": "25d67db5",
   "metadata": {},
   "source": [
    "Do you see that `global` annotation in there? Hideous. Obviously this situation could not be\n",
    "tolerated. But seriously, there are two main issues with requiring `global` for this kind of\n",
    "top-level code:\n",
    "\n",
    "1. It's no longer convenient to copy and paste the code from inside a function body into the REPL\n",
    "   to debug it—you have to add `global` annotations and then remove them again to go back;\n",
    "\n",
    "2. Beginners will write this kind of code without the `global` and have no idea why their code\n",
    "   doesn't work—the error that they get is that `s` is undefined, which does not seem to enlighten\n",
    "   anyone who happens to make this mistake.\n",
    "\n",
    "As of Julia 1.5, this code works without the `global` annotation in interactive contexts like the\n",
    "REPL or Jupyter notebooks (just like Julia 0.6) and in files and other non-interactive contexts, it\n",
    "prints this very direct warning:\n",
    "\n",
    "> Assignment to `s` in soft scope is ambiguous because a global variable by the same name exists:\n",
    "> `s` will be treated as a new local. Disambiguate by using `local s` to suppress this warning or\n",
    "> `global s` to assign to the existing global variable.\n",
    "\n",
    "This addresses both issues while preserving the \"programming at scale\" benefits of the 1.0 behavior:\n",
    "global variables have no spooky effect on the meaning of code that may be far away; in the REPL\n",
    "copy-and-paste debugging works and beginners don't have any issues; any time someone either forgets\n",
    "a `global` annotation or accidentally shadows an existing global with a local in a soft scope,\n",
    "which would be confusing anyway, they get a nice clear warning.\n",
    "\n",
    "An important property of this design is that any code that executes in a file without a warning will\n",
    "behave the same way in a fresh REPL. And on the flip side, if you take a REPL session and save it to\n",
    "file, if it behaves differently than it did in the REPL, then you will get a warning.\n",
    "\n",
    "### let块\n",
    "\n",
    "不像局部变量的赋值行为，`let`语句每次运行都新建一个新的变量绑定。赋值改变的是已存在值的位置，`let`会新建新的位置。这个区别通常都不重要，只会在通过闭包跳出作用域的变量的情况下能探测到。`let`语法接受由逗号隔开的一系列的赋值和变量名："
   ]
  },
  {
   "cell_type": "code",
   "execution_count": null,
   "id": "f263c5ed",
   "metadata": {
    "attributes": {
     "classes": [
      "jldoctest"
     ],
     "id": ""
    }
   },
   "outputs": [],
   "source": [
    "julia> x, y, z = -1, -1, -1;\n",
    "\n",
    "julia> let x = 1, z\n",
    "           println(\"x: $x, y: $y\") # x is local variable, y the global\n",
    "           println(\"z: $z\") # errors as z has not been assigned yet but is local\n",
    "       end\n",
    "x: 1, y: -1\n",
    "ERROR: UndefVarError: z not defined"
   ]
  },
  {
   "cell_type": "markdown",
   "id": "7c9b37ca",
   "metadata": {},
   "source": [
    "这个赋值会按顺序评估，在左边的新变量被引入之前右边的每隔两都会在作用域中被评估。所以编写像`let x = x`这样的东西是有意义的，因为两个`x`变量是不一样的，拥有不同的存储位置。这里有个例子，在例子中`let`的行为是必须的："
   ]
  },
  {
   "cell_type": "code",
   "execution_count": null,
   "id": "88b0e4a2",
   "metadata": {
    "attributes": {
     "classes": [
      "jldoctest"
     ],
     "id": ""
    }
   },
   "outputs": [],
   "source": [
    "julia> Fs = Vector{Any}(undef, 2); i = 1;\n",
    "\n",
    "julia> while i <= 2\n",
    "           Fs[i] = ()->i\n",
    "           global i += 1\n",
    "       end\n",
    "\n",
    "julia> Fs[1]()\n",
    "3\n",
    "\n",
    "julia> Fs[2]()\n",
    "3"
   ]
  },
  {
   "cell_type": "markdown",
   "id": "faa3127f",
   "metadata": {},
   "source": [
    "这里我创建并存储了两个返回变量`i`的闭包。但是这两个始终是同一个变量`i`。所以这两个闭包行为是相同的。我们可以使用`let`来为`i`创建新的绑定："
   ]
  },
  {
   "cell_type": "code",
   "execution_count": null,
   "id": "b1fe2cf4",
   "metadata": {
    "attributes": {
     "classes": [
      "jldoctest"
     ],
     "id": ""
    }
   },
   "outputs": [],
   "source": [
    "julia> Fs = Vector{Any}(undef, 2); i = 1;\n",
    "\n",
    "julia> while i <= 2\n",
    "           let i = i\n",
    "               Fs[i] = ()->i\n",
    "           end\n",
    "           global i += 1\n",
    "       end\n",
    "\n",
    "julia> Fs[1]()\n",
    "1\n",
    "\n",
    "julia> Fs[2]()\n",
    "2"
   ]
  },
  {
   "cell_type": "markdown",
   "id": "b83f33ff",
   "metadata": {},
   "source": [
    "因为 `begin` 结构不会引入新的作用域，使用没有参数的 `let` 来只引进一个新的作用域块而不创建新的绑定可能是有用的："
   ]
  },
  {
   "cell_type": "code",
   "execution_count": null,
   "id": "c33f6cd6",
   "metadata": {
    "attributes": {
     "classes": [
      "jldoctest"
     ],
     "id": ""
    }
   },
   "outputs": [],
   "source": [
    "julia> let\n",
    "           local x = 1\n",
    "           let\n",
    "               local x = 2\n",
    "           end\n",
    "           x\n",
    "       end\n",
    "1"
   ]
  },
  {
   "cell_type": "markdown",
   "id": "3e47292f",
   "metadata": {},
   "source": [
    "因为`let`引进了一个新的作用域块，内部的局部`x`与外部的局部`x`是不同的变量。\n",
    "\n",
    "### Loops and Comprehensions\n",
    "\n",
    "In loops and [comprehensions](@ref man-comprehensions), new variables\n",
    "introduced in their body scopes are freshly allocated for each loop iteration, as if the loop body\n",
    "were surrounded by a `let` block, as demonstrated by this example:"
   ]
  },
  {
   "cell_type": "code",
   "execution_count": null,
   "id": "da0dcf19",
   "metadata": {
    "attributes": {
     "classes": [
      "jldoctest"
     ],
     "id": ""
    }
   },
   "outputs": [],
   "source": [
    "julia> Fs = Vector{Any}(undef, 2);\n",
    "\n",
    "julia> for j = 1:2\n",
    "           Fs[j] = ()->j\n",
    "       end\n",
    "\n",
    "julia> Fs[1]()\n",
    "1\n",
    "\n",
    "julia> Fs[2]()\n",
    "2"
   ]
  },
  {
   "cell_type": "markdown",
   "id": "f3c6badf",
   "metadata": {},
   "source": [
    "`for`循环或者推导式的迭代变量始终是个新的变量："
   ]
  },
  {
   "cell_type": "code",
   "execution_count": null,
   "id": "87c12a8f",
   "metadata": {},
   "outputs": [],
   "source": [
    "julia> function f()\n",
    "           i = 0\n",
    "           for i = 1:3\n",
    "               # empty\n",
    "           end\n",
    "           return i\n",
    "       end;\n",
    "\n",
    "julia> f()\n",
    "0"
   ]
  },
  {
   "cell_type": "markdown",
   "id": "89760d44",
   "metadata": {},
   "source": [
    "但是，有时重复使用一个存在的局部变量作为迭代变量是有用的。\n",
    "这能够通过添加关键字 `outer` 来方便地做到："
   ]
  },
  {
   "cell_type": "code",
   "execution_count": null,
   "id": "7a600188",
   "metadata": {
    "attributes": {
     "classes": [
      "jldoctest"
     ],
     "id": ""
    }
   },
   "outputs": [],
   "source": [
    "julia> function f()\n",
    "           i = 0\n",
    "           for outer i = 1:3\n",
    "               # empty\n",
    "           end\n",
    "           return i\n",
    "       end;\n",
    "\n",
    "julia> f()\n",
    "3"
   ]
  },
  {
   "cell_type": "markdown",
   "id": "2ec137b4",
   "metadata": {},
   "source": [
    "## 常量\n",
    "\n",
    "变量的经常的一个使用方式是给一个特定的不变的值一个名字。这样的变量只会被赋值一次。这个想法可以通过使用 [`const`](@ref) 关键字传递给编译器："
   ]
  },
  {
   "cell_type": "code",
   "execution_count": null,
   "id": "e3de15d1",
   "metadata": {
    "attributes": {
     "classes": [
      "jldoctest"
     ],
     "id": ""
    }
   },
   "outputs": [],
   "source": [
    "julia> const e  = 2.71828182845904523536;\n",
    "\n",
    "julia> const pi = 3.14159265358979323846;"
   ]
  },
  {
   "cell_type": "markdown",
   "id": "442defb0",
   "metadata": {},
   "source": [
    "多个变量可以使用单个`const`语句进行声明："
   ]
  },
  {
   "cell_type": "code",
   "execution_count": null,
   "id": "400a5eb1",
   "metadata": {
    "attributes": {
     "classes": [
      "jldoctest"
     ],
     "id": ""
    }
   },
   "outputs": [],
   "source": [
    "julia> const a, b = 1, 2\n",
    "(1, 2)"
   ]
  },
  {
   "cell_type": "markdown",
   "id": "6bbd22a5",
   "metadata": {},
   "source": [
    "`const`声明只应该在全局作用域中对全局变量使用。编译器很难为包含全局变量的代码优化，因为它们的值（甚至它们的类型）可以任何时候改变。如果一个全局变量不会改变，添加`const`声明会解决这个问题。\n",
    "\n",
    "局部常量却大有不同。编译器能够自动确定一个局部变量什么时候是不变的，所以局部常量声明是不必要的，其实现在也并不支持。\n",
    "\n",
    "特别的顶层赋值，比如使用`function`和`structure`关键字进行的，默认是不变的。\n",
    "\n",
    "注意 `const` 只会影响变量绑定；变量可能会绑定到一个可变的对象上（比如一个数组）使得其仍然能被改变。另外当尝试给一个声明为常量的变量赋值时下列情景是可能的：\n",
    "\n",
    "* 如果一个新值的类型与常量类型不一样时会扔出一个错误："
   ]
  },
  {
   "cell_type": "code",
   "execution_count": null,
   "id": "98343f38",
   "metadata": {
    "attributes": {
     "classes": [
      "jldoctest"
     ],
     "id": ""
    }
   },
   "outputs": [],
   "source": [
    "julia> const x = 1.0\n",
    "1.0\n",
    "\n",
    "julia> x = 1\n",
    "ERROR: invalid redefinition of constant x"
   ]
  },
  {
   "cell_type": "markdown",
   "id": "6dee80ff",
   "metadata": {},
   "source": [
    "* 如果一个新值的类型与常量一样会打印一个警告："
   ]
  },
  {
   "cell_type": "code",
   "execution_count": null,
   "id": "2c16fdfb",
   "metadata": {
    "attributes": {
     "classes": [
      "jldoctest"
     ],
     "id": ""
    }
   },
   "outputs": [],
   "source": [
    "julia> const y = 1.0\n",
    "1.0\n",
    "\n",
    "julia> y = 2.0\n",
    "WARNING: redefinition of constant y. This may fail, cause incorrect answers, or produce other errors.\n",
    "2.0"
   ]
  },
  {
   "cell_type": "markdown",
   "id": "4b747b09",
   "metadata": {},
   "source": [
    "* 如果赋值不会导致变量值的变化，不会给出任何信息："
   ]
  },
  {
   "cell_type": "code",
   "execution_count": null,
   "id": "730dbd3c",
   "metadata": {
    "attributes": {
     "classes": [
      "jldoctest"
     ],
     "id": ""
    }
   },
   "outputs": [],
   "source": [
    "julia> const z = 100\n",
    "100\n",
    "\n",
    "julia> z = 100\n",
    "100"
   ]
  },
  {
   "cell_type": "markdown",
   "id": "7718ef87",
   "metadata": {},
   "source": [
    "最后一条规则适用于不可变对象，即使变量绑定会改变，例如："
   ]
  },
  {
   "cell_type": "code",
   "execution_count": null,
   "id": "3ad3ff01",
   "metadata": {
    "attributes": {
     "classes": [
      "julia-repl"
     ],
     "id": ""
    }
   },
   "outputs": [],
   "source": [
    "julia> const s1 = \"1\"\n",
    "\"1\"\n",
    "\n",
    "julia> s2 = \"1\"\n",
    "\"1\"\n",
    "\n",
    "julia> pointer.([s1, s2], 1)\n",
    "2-element Array{Ptr{UInt8},1}:\n",
    " Ptr{UInt8} @0x00000000132c9638\n",
    " Ptr{UInt8} @0x0000000013dd3d18\n",
    "\n",
    "julia> s1 = s2\n",
    "\"1\"\n",
    "\n",
    "julia> pointer.([s1, s2], 1)\n",
    "2-element Array{Ptr{UInt8},1}:\n",
    " Ptr{UInt8} @0x0000000013dd3d18\n",
    " Ptr{UInt8} @0x0000000013dd3d18"
   ]
  },
  {
   "cell_type": "markdown",
   "id": "7901ec65",
   "metadata": {},
   "source": [
    "但是对于可变对象，警告会如预期出现："
   ]
  },
  {
   "cell_type": "code",
   "execution_count": null,
   "id": "981b9ab5",
   "metadata": {
    "attributes": {
     "classes": [
      "jldoctest"
     ],
     "id": ""
    }
   },
   "outputs": [],
   "source": [
    "julia> const a = [1]\n",
    "1-element Array{Int64,1}:\n",
    " 1\n",
    "\n",
    "julia> a = [1]\n",
    "WARNING: redefinition of constant a. This may fail, cause incorrect answers, or produce other errors.\n",
    "1-element Array{Int64,1}:\n",
    " 1"
   ]
  },
  {
   "cell_type": "markdown",
   "id": "e83fae1d",
   "metadata": {},
   "source": [
    "Note that although sometimes possible, changing the value of a `const` variable is strongly\n",
    "discouraged, and is intended only for convenience during interactive use. Changing constants can\n",
    "cause various problems or unexpected behaviors. For instance, if a method references a constant and\n",
    "is already compiled before the constant is changed, then it might keep using the old value:"
   ]
  },
  {
   "cell_type": "code",
   "execution_count": null,
   "id": "1a1d12ac",
   "metadata": {
    "attributes": {
     "classes": [
      "jldoctest"
     ],
     "id": ""
    }
   },
   "outputs": [],
   "source": [
    "julia> const x = 1\n",
    "1\n",
    "\n",
    "julia> f() = x\n",
    "f (generic function with 1 method)\n",
    "\n",
    "julia> f()\n",
    "1\n",
    "\n",
    "julia> x = 2\n",
    "WARNING: redefinition of constant x. This may fail, cause incorrect answers, or produce other errors.\n",
    "2\n",
    "\n",
    "julia> f()\n",
    "1"
   ]
  }
 ],
 "metadata": {},
 "nbformat": 4,
 "nbformat_minor": 5
}
