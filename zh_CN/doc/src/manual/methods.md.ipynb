{
 "cells": [
  {
   "cell_type": "markdown",
   "id": "f49a429c",
   "metadata": {},
   "source": [
    "# 方法\n",
    "\n",
    "我们回想一下，在[函数](@ref man-functions)中我们知道函数是这么一个对象，它把一组参数映射成一个返回值，或者当没有办法返回恰当的值时扔出一个异常。具有相同概念的函数或者运算，经常会根据参数类型的不同而进行有很大差异的实现：两个整数的加法与两个浮点数的加法是相当不一样的，整数与浮点数之间的加法也不一样。除了它们实现上的不同，这些运算都归在\"加法\"这么一个广义的概念之下，因此在 Julia 中这些行为都属于同一个对象：`+` 函数。\n",
    "\n",
    "为了让对同样的概念使用许多不同的实现这件事更顺畅，函数没有必要马上全部都被定义，反而应该是一块一块地定义，为特定的参数类型和数量的组合提供指定的行为。对于一个函数的一个可能行为的定义叫做*方法*。直到这里，我们只展示了那些只定了一个方法的，对参数的所有类型都适用的函数。但是方法定义的特征是不仅能表明参数的数量，也能表明参数的类型，并且能提供多个方法定义。当一个函数被应用于特殊的一组参数时，能用于这一组参数的最特定的方法会被使用。所以，函数的全体行为是他的不同的方法定义的行为的组合。如果这个组合被设计得好，即使方法们的实现之间会很不一样，函数的外部行为也会显得无缝而自洽。\n",
    "\n",
    "当一个函数被应用时执行方法的选择被称为 **分派**。Julia 允许分派过程基于给定的参数个数和所有参数的类型来选择调用函数的哪个方法。这与传统的面对对象的语言不一样，面对对象语言的分派只基于第一参数，经常有特殊的参数语法，并且有时是暗含而非显式写成一个参数。\n",
    "[^1] 使用函数的所有参数，而非只用第一个，来决定调用哪个方法被称为[多重分派](https://en.wikipedia.org/wiki/Multiple_dispatch)。多重分派对于数学代码来说特别有用，人工地将运算视为对于其中一个参数的属于程度比其他所有的参数都强的这个概念对于数学代码是几乎没有意义的：`x + y` 中的加法运算对 `x` 的属于程度比对 `y` 更强？一个数学运算符的实现普遍基于它所有的参数的类型。即使跳出数学运算，多重分派是对于结构和组织程序来说也是一个强大而方便的范式。\n",
    "\n",
    "[^1]:\n",
    "    In C++ or Java, for example, in a method call like `obj.meth(arg1,arg2)`, the object obj \"receives\"\n",
    "    the method call and is implicitly passed to the method via the `this` keyword, rather than as\n",
    "    an explicit method argument. When the current `this` object is the receiver of a method call,\n",
    "    it can be omitted altogether, writing just `meth(arg1,arg2)`, with `this` implied as the receiving\n",
    "    object.\n",
    "!!! note\n",
    "    本章中的所有示例都假定是为*相同*模块中的函数定义模块。 如果你想给*另一个*模块中的函数添加方法，你必须`import`它或使用模块名称限定的名称。 请参阅有关 [命名空间管理](@ref namespace-management) 的部分。\n",
    "\n",
    "## 定义方法\n",
    "\n",
    "直到这里，在我们的例子中，我们定义的函数只有一个不限制参数类型的方法。这种函数的行为就与传统动态类型语言中的函数一样。不过，我们已经在没有意识到的情况下已经使用了多重分派和方法：所有 Julia 标准函数和运算符，就像之前提到的 `+` 函数，都根据参数的类型和数量的不同组合而定义了大量方法。\n",
    "\n",
    "当定义一个函数时，可以根据需要使用在[复合类型](@ref)中介绍的 `::` 类型断言运算符来限制参数类型，"
   ]
  },
  {
   "cell_type": "code",
   "execution_count": null,
   "id": "14f53c6b",
   "metadata": {},
   "outputs": [],
   "source": [
    "julia> f(x::Float64, y::Float64) = 2x + y\n",
    "f (generic function with 1 method)"
   ]
  },
  {
   "cell_type": "markdown",
   "id": "a71ba637",
   "metadata": {},
   "source": [
    "这个函数只在 `x` 和 `y` 的类型都是\n",
    "[`Float64`](@ref) 的情况下才会被调用："
   ]
  },
  {
   "cell_type": "code",
   "execution_count": null,
   "id": "ef8a3dc7",
   "metadata": {},
   "outputs": [],
   "source": [
    "julia> f(2.0, 3.0)\n",
    "7.0"
   ]
  },
  {
   "cell_type": "markdown",
   "id": "f4e64fdd",
   "metadata": {},
   "source": [
    "用其它任意的参数类型则会导致 [`MethodError`](@ref):"
   ]
  },
  {
   "cell_type": "code",
   "execution_count": null,
   "id": "ec5b5686",
   "metadata": {},
   "outputs": [],
   "source": [
    "julia> f(2.0, 3)\n",
    "ERROR: MethodError: no method matching f(::Float64, ::Int64)\n",
    "Closest candidates are:\n",
    "  f(::Float64, !Matched::Float64) at none:1\n",
    "\n",
    "julia> f(Float32(2.0), 3.0)\n",
    "ERROR: MethodError: no method matching f(::Float32, ::Float64)\n",
    "Closest candidates are:\n",
    "  f(!Matched::Float64, ::Float64) at none:1\n",
    "\n",
    "julia> f(2.0, \"3.0\")\n",
    "ERROR: MethodError: no method matching f(::Float64, ::String)\n",
    "Closest candidates are:\n",
    "  f(::Float64, !Matched::Float64) at none:1\n",
    "\n",
    "julia> f(\"2.0\", \"3.0\")\n",
    "ERROR: MethodError: no method matching f(::String, ::String)"
   ]
  },
  {
   "cell_type": "markdown",
   "id": "1a2adec8",
   "metadata": {},
   "source": [
    "如同你所看到的，参数必须精确地是 [`Float64`](@ref) 类型。其它数字类型，比如整数或者 32 位浮点数值，都不会自动转化成 64 位浮点数，字符串也不会解析成数字。由于 `Float64` 是一个具体类型，且在 Julia 中具体类型无法拥有子类，所以这种定义方式只能适用于函数的输入类型精确地是 `Float64` 的情况，但一个常见的做法是用抽象类型来定义通用的方法："
   ]
  },
  {
   "cell_type": "code",
   "execution_count": null,
   "id": "79fba6b8",
   "metadata": {},
   "outputs": [],
   "source": [
    "julia> f(x::Number, y::Number) = 2x - y\n",
    "f (generic function with 2 methods)\n",
    "\n",
    "julia> f(2.0, 3)\n",
    "1.0"
   ]
  },
  {
   "cell_type": "markdown",
   "id": "9aaa3acb",
   "metadata": {},
   "source": [
    "用上面这种方式定义的方法可以接收任意一对 [`Number`](@ref) 的实例参数，且它们不需要是同一类型的，只要求都是数值。如何根据不同的类型来做相应的处理就可以委托给表达式 `2x - y` 中的代数运算。\n",
    "\n",
    "为了定义一个有多个方法的函数，只需简单定义这个函数多次，使用不同的参数数量和类型。函数的第一个方法定义会建立这个函数对象，后续的方法定义会添加新的方法到存在的函数对象中去。当函数被应用时，最符合参数的数量和类型的特定方法会被执行。所以，上面的两个方法定义在一起定义了函数`f`对于所有的一对虚拟类型`Number`实例的行为 -- 但是针对一对[`Float64`](@ref)值有不同的行为。如果一个参数是64位浮点数而另一个不是，`f(Float64,Float64)`方法不会被调用，而一定使用更加通用的`f(Number,Number)`方法："
   ]
  },
  {
   "cell_type": "code",
   "execution_count": null,
   "id": "27a3198b",
   "metadata": {},
   "outputs": [],
   "source": [
    "julia> f(2.0, 3.0)\n",
    "7.0\n",
    "\n",
    "julia> f(2, 3.0)\n",
    "1.0\n",
    "\n",
    "julia> f(2.0, 3)\n",
    "1.0\n",
    "\n",
    "julia> f(2, 3)\n",
    "1"
   ]
  },
  {
   "cell_type": "markdown",
   "id": "5b1c4214",
   "metadata": {},
   "source": [
    "`2x + y` 定义只用于第一个情况，`2x - y` 定义用于其他的情况。没有使用任何自动的函数参数的指派或者类型转换：Julia中的所有转换都不是 magic 的，都是完全显式的。然而[类型转换和类型提升](@ref conversion-and-promotion)显示了足够先进的技术的智能应用能够与 magic 不可分辨到什么程度。[^Clarke61] 对于非数字值，和比两个参数更多或者更少的情况，函数 `f` 并没有定义，应用会导致 [`MethodError`](@ref)："
   ]
  },
  {
   "cell_type": "code",
   "execution_count": null,
   "id": "600e22fe",
   "metadata": {},
   "outputs": [],
   "source": [
    "julia> f(\"foo\", 3)\n",
    "ERROR: MethodError: no method matching f(::String, ::Int64)\n",
    "Closest candidates are:\n",
    "  f(!Matched::Number, ::Number) at none:1\n",
    "\n",
    "julia> f()\n",
    "ERROR: MethodError: no method matching f()\n",
    "Closest candidates are:\n",
    "  f(!Matched::Float64, !Matched::Float64) at none:1\n",
    "  f(!Matched::Number, !Matched::Number) at none:1"
   ]
  },
  {
   "cell_type": "markdown",
   "id": "f099e81c",
   "metadata": {},
   "source": [
    "可以简单地看到对于函数存在哪些方法，通过在交互式会话中键入函数对象本身："
   ]
  },
  {
   "cell_type": "code",
   "execution_count": null,
   "id": "7918c1e6",
   "metadata": {},
   "outputs": [],
   "source": [
    "julia> f\n",
    "f (generic function with 2 methods)"
   ]
  },
  {
   "cell_type": "markdown",
   "id": "ef9938b8",
   "metadata": {},
   "source": [
    "这个输出展示了`f`有两个方法。为了找到这些方法的前面，使用[`methods`](@ref)函数："
   ]
  },
  {
   "cell_type": "code",
   "execution_count": null,
   "id": "f69f3a9f",
   "metadata": {},
   "outputs": [],
   "source": [
    "julia> methods(f)\n",
    "# 2 methods for generic function \"f\":\n",
    "[1] f(x::Float64, y::Float64) in Main at none:1\n",
    "[2] f(x::Number, y::Number) in Main at none:1"
   ]
  },
  {
   "cell_type": "markdown",
   "id": "4989f91e",
   "metadata": {},
   "source": [
    "这表示`f`有两个方法，一个接受两个`Float64`参数一个接受两个`Number`类型的参数。它也显示了这些方法定义所在的文件和行数：因为这些方法是在REPL中定义的，我们得到了表面上的行数`none:1`.\n",
    "\n",
    "没有`::`的类型声明，方法参数的类型默认为`Any`，这就意味着没有约束，因为Julia中的所有的值都是抽象类型`Any`的实例。所以，我们可以为`f`定义一个接受所有的方法，像这样："
   ]
  },
  {
   "cell_type": "code",
   "execution_count": null,
   "id": "bd4ffbc1",
   "metadata": {},
   "outputs": [],
   "source": [
    "julia> f(x,y) = println(\"Whoa there, Nelly.\")\n",
    "f (generic function with 3 methods)\n",
    "\n",
    "julia> methods(f)\n",
    "# 3 methods for generic function \"f\":\n",
    "[1] f(x::Float64, y::Float64) in Main at none:1\n",
    "[2] f(x::Number, y::Number) in Main at none:1\n",
    "[3] f(x, y) in Main at none:1\n",
    "\n",
    "julia> f(\"foo\", 1)\n",
    "Whoa there, Nelly."
   ]
  },
  {
   "cell_type": "markdown",
   "id": "202a64c0",
   "metadata": {},
   "source": [
    "这个接受所有参数类型的方法比其他的对一对参数值的其他任意可能的方法定义更不专用。所以他只会被没有其他方法定义应用的一对参数调用。\n",
    "\n",
    "注意到第三个方法的签名中并没有指定参数`x`和`y`的类型。它是`f(x::Any, y::Any)`的简写。\n",
    "\n",
    "尽管这看起来很简单，但对值类型的多重派发可能是 Julia 语言最强大和最核心的特性。 核心运算通常有几十种方法："
   ]
  },
  {
   "cell_type": "code",
   "execution_count": null,
   "id": "f33b58c7",
   "metadata": {
    "attributes": {
     "classes": [
      "julia-repl"
     ],
     "id": ""
    }
   },
   "outputs": [],
   "source": [
    "julia> methods(+)\n",
    "# 180 methods for generic function \"+\":\n",
    "[1] +(x::Bool, z::Complex{Bool}) in Base at complex.jl:227\n",
    "[2] +(x::Bool, y::Bool) in Base at bool.jl:89\n",
    "[3] +(x::Bool) in Base at bool.jl:86\n",
    "[4] +(x::Bool, y::T) where T<:AbstractFloat in Base at bool.jl:96\n",
    "[5] +(x::Bool, z::Complex) in Base at complex.jl:234\n",
    "[6] +(a::Float16, b::Float16) in Base at float.jl:373\n",
    "[7] +(x::Float32, y::Float32) in Base at float.jl:375\n",
    "[8] +(x::Float64, y::Float64) in Base at float.jl:376\n",
    "[9] +(z::Complex{Bool}, x::Bool) in Base at complex.jl:228\n",
    "[10] +(z::Complex{Bool}, x::Real) in Base at complex.jl:242\n",
    "[11] +(x::Char, y::Integer) in Base at char.jl:40\n",
    "[12] +(c::BigInt, x::BigFloat) in Base.MPFR at mpfr.jl:307\n",
    "[13] +(a::BigInt, b::BigInt, c::BigInt, d::BigInt, e::BigInt) in Base.GMP at gmp.jl:392\n",
    "[14] +(a::BigInt, b::BigInt, c::BigInt, d::BigInt) in Base.GMP at gmp.jl:391\n",
    "[15] +(a::BigInt, b::BigInt, c::BigInt) in Base.GMP at gmp.jl:390\n",
    "[16] +(x::BigInt, y::BigInt) in Base.GMP at gmp.jl:361\n",
    "[17] +(x::BigInt, c::Union{UInt16, UInt32, UInt64, UInt8}) in Base.GMP at gmp.jl:398\n",
    "...\n",
    "[180] +(a, b, c, xs...) in Base at operators.jl:424"
   ]
  },
  {
   "cell_type": "markdown",
   "id": "d32b1bd7",
   "metadata": {},
   "source": [
    "多重分派和灵活的参数类型系统让Julia有能力抽象地表达高层级算法，而与实现细节解耦，也能生成高效而专用的代码来在运行中处理每个情况。\n",
    "\n",
    "## [方法歧义](@id man-ambiguities)\n",
    "\n",
    "在一系列的函数方法定义时有可能没有单独的最专用的方法能适用于参数的某些组合："
   ]
  },
  {
   "cell_type": "code",
   "execution_count": null,
   "id": "247506f3",
   "metadata": {},
   "outputs": [],
   "source": [
    "julia> g(x::Float64, y) = 2x + y\n",
    "g (generic function with 1 method)\n",
    "\n",
    "julia> g(x, y::Float64) = x + 2y\n",
    "g (generic function with 2 methods)\n",
    "\n",
    "julia> g(2.0, 3)\n",
    "7.0\n",
    "\n",
    "julia> g(2, 3.0)\n",
    "8.0\n",
    "\n",
    "julia> g(2.0, 3.0)\n",
    "ERROR: MethodError: g(::Float64, ::Float64) is ambiguous. Candidates:\n",
    "  g(x::Float64, y) in Main at none:1\n",
    "  g(x, y::Float64) in Main at none:1\n",
    "Possible fix, define\n",
    "  g(::Float64, ::Float64)"
   ]
  },
  {
   "cell_type": "markdown",
   "id": "a39603f7",
   "metadata": {},
   "source": [
    "这里`g(2.0,3.0)`的调用使用`g(Float64, Any)`和`g(Any, Float64)`都能处理，并且两个都不更加专用。在这样的情况下，Julia会扔出[`MethodError`](@ref)而非任意选择一个方法。你可以通过对交叉情况指定一个合适的方法来避免方法歧义："
   ]
  },
  {
   "cell_type": "code",
   "execution_count": null,
   "id": "663f7167",
   "metadata": {},
   "outputs": [],
   "source": [
    "julia> g(x::Float64, y::Float64) = 2x + 2y\n",
    "g (generic function with 3 methods)\n",
    "\n",
    "julia> g(2.0, 3)\n",
    "7.0\n",
    "\n",
    "julia> g(2, 3.0)\n",
    "8.0\n",
    "\n",
    "julia> g(2.0, 3.0)\n",
    "10.0"
   ]
  },
  {
   "cell_type": "markdown",
   "id": "f166b644",
   "metadata": {},
   "source": [
    "建议先定义没有歧义的方法，因为不这样的话，歧义就会存在，即使是暂时性的，直到更加专用的方法被定义。\n",
    "\n",
    "在更加复杂的情况下，解决方法歧义会会涉及到设计的某一个元素；这个主题将会在[下面](@ref man-method-design-ambiguities)进行进一步的探索。\n",
    "\n",
    "## 参数方法\n",
    "\n",
    "方法定义可以视需要存在限定特征的类型参数："
   ]
  },
  {
   "cell_type": "code",
   "execution_count": null,
   "id": "ff90ad44",
   "metadata": {},
   "outputs": [],
   "source": [
    "julia> same_type(x::T, y::T) where {T} = true\n",
    "same_type (generic function with 1 method)\n",
    "\n",
    "julia> same_type(x,y) = false\n",
    "same_type (generic function with 2 methods)"
   ]
  },
  {
   "cell_type": "markdown",
   "id": "49097dc8",
   "metadata": {},
   "source": [
    "第一个方法应用于两个参数都是同一个具体类型时，不管类型是什么，而第二个方法接受一切，涉及其他所有情况。所以，总得来说，这个定义了一个布尔函数来检查两个参数是否是同样的类型："
   ]
  },
  {
   "cell_type": "code",
   "execution_count": null,
   "id": "35783ceb",
   "metadata": {},
   "outputs": [],
   "source": [
    "julia> same_type(1, 2)\n",
    "true\n",
    "\n",
    "julia> same_type(1, 2.0)\n",
    "false\n",
    "\n",
    "julia> same_type(1.0, 2.0)\n",
    "true\n",
    "\n",
    "julia> same_type(\"foo\", 2.0)\n",
    "false\n",
    "\n",
    "julia> same_type(\"foo\", \"bar\")\n",
    "true\n",
    "\n",
    "julia> same_type(Int32(1), Int64(2))\n",
    "false"
   ]
  },
  {
   "cell_type": "markdown",
   "id": "985d0b84",
   "metadata": {},
   "source": [
    "这样的定义对应着那些类型签名是 `UnionAll` 类型的方法（参见 [UnionAll 类型](@ref)）。\n",
    "\n",
    "在Julia中这种通过分派进行函数行为的定义是十分常见的，甚至是惯用的。方法类型参数并不局限于用作参数的类型：他们可以用在任意地方，只要值会在函数或者函数体的特征中。这里有个例子，例子中方法类型参数`T`用作方法特征中的参数类型`Vector{T}`的类型参数："
   ]
  },
  {
   "cell_type": "code",
   "execution_count": null,
   "id": "8d4a4a9d",
   "metadata": {
    "attributes": {
     "classes": [
      "jldoctest"
     ],
     "id": ""
    }
   },
   "outputs": [],
   "source": [
    "julia> myappend(v::Vector{T}, x::T) where {T} = [v..., x]\n",
    "myappend (generic function with 1 method)\n",
    "\n",
    "julia> myappend([1,2,3],4)\n",
    "4-element Vector{Int64}:\n",
    " 1\n",
    " 2\n",
    " 3\n",
    " 4\n",
    "\n",
    "julia> myappend([1,2,3],2.5)\n",
    "ERROR: MethodError: no method matching myappend(::Vector{Int64}, ::Float64)\n",
    "Closest candidates are:\n",
    "  myappend(::Vector{T}, !Matched::T) where T at none:1\n",
    "Stacktrace:\n",
    "[...]\n",
    "\n",
    "julia> myappend([1.0,2.0,3.0],4.0)\n",
    "4-element Vector{Float64}:\n",
    " 1.0\n",
    " 2.0\n",
    " 3.0\n",
    " 4.0\n",
    "\n",
    "julia> myappend([1.0,2.0,3.0],4)\n",
    "ERROR: MethodError: no method matching myappend(::Vector{Float64}, ::Int64)\n",
    "Closest candidates are:\n",
    "  myappend(::Vector{T}, !Matched::T) where T at none:1\n",
    "Stacktrace:\n",
    "[...]"
   ]
  },
  {
   "cell_type": "markdown",
   "id": "1c392065",
   "metadata": {},
   "source": [
    "如你所看到的，追加的元素的类型必须匹配它追加到的向量的元素类型，否则会引起[`MethodError`](@ref)。在下面的例子中，方法类型参量`T`用作返回值："
   ]
  },
  {
   "cell_type": "code",
   "execution_count": null,
   "id": "c2043476",
   "metadata": {
    "attributes": {
     "classes": [
      "jldoctest"
     ],
     "id": ""
    }
   },
   "outputs": [],
   "source": [
    "julia> mytypeof(x::T) where {T} = T\n",
    "mytypeof (generic function with 1 method)\n",
    "\n",
    "julia> mytypeof(1)\n",
    "Int64\n",
    "\n",
    "julia> mytypeof(1.0)\n",
    "Float64"
   ]
  },
  {
   "cell_type": "markdown",
   "id": "e81273e5",
   "metadata": {},
   "source": [
    "就像你能在类型声明时通过类型参数对子类型进行约束一样（参见[参数类型](@ref)），你也可以约束方法的类型参数："
   ]
  },
  {
   "cell_type": "code",
   "execution_count": null,
   "id": "0718996a",
   "metadata": {
    "attributes": {
     "classes": [
      "jldoctest"
     ],
     "id": ""
    }
   },
   "outputs": [],
   "source": [
    "julia> same_type_numeric(x::T, y::T) where {T<:Number} = true\n",
    "same_type_numeric (generic function with 1 method)\n",
    "\n",
    "julia> same_type_numeric(x::Number, y::Number) = false\n",
    "same_type_numeric (generic function with 2 methods)\n",
    "\n",
    "julia> same_type_numeric(1, 2)\n",
    "true\n",
    "\n",
    "julia> same_type_numeric(1, 2.0)\n",
    "false\n",
    "\n",
    "julia> same_type_numeric(1.0, 2.0)\n",
    "true\n",
    "\n",
    "julia> same_type_numeric(\"foo\", 2.0)\n",
    "ERROR: MethodError: no method matching same_type_numeric(::String, ::Float64)\n",
    "Closest candidates are:\n",
    "  same_type_numeric(!Matched::T, ::T) where T<:Number at none:1\n",
    "  same_type_numeric(!Matched::Number, ::Number) at none:1\n",
    "\n",
    "julia> same_type_numeric(\"foo\", \"bar\")\n",
    "ERROR: MethodError: no method matching same_type_numeric(::String, ::String)\n",
    "\n",
    "julia> same_type_numeric(Int32(1), Int64(2))\n",
    "false"
   ]
  },
  {
   "cell_type": "markdown",
   "id": "4943c403",
   "metadata": {},
   "source": [
    "`same_type_numeric`函数的行为与上面定义的`same_type`函数基本相似，但是它只对一对数定义。\n",
    "\n",
    "参数方法允许与 `where` 表达式同样的语法用来写类型（参见 [UnionAll 类型](@ref)）。如果只有一个参数，封闭的大括号（在 `where {T}` 中）可以省略，但是为了清楚起见推荐写上。多个参数可以使用逗号隔开，例如 `where {T, S <: Real}`，或者使用嵌套的 `where` 来写，例如 `where S<:Real where T`。\n",
    "\n",
    "重定义方法\n",
    "------------------\n",
    "\n",
    "当重定义一个方法或者增加一个方法时，知道这个变化不会立即生效很重要。这是Julia能够静态推断和编译代码使其运行很快而没有惯常的JIT技巧和额外开销的关键。实际上，任意新的方法定义不会对当前运行环境可见，包括Tasks和线程（和所有的之前定义的`@generated`函数）。让我们通过一个例子说明这意味着什么："
   ]
  },
  {
   "cell_type": "code",
   "execution_count": null,
   "id": "55dffc4a",
   "metadata": {
    "attributes": {
     "classes": [
      "julia-repl"
     ],
     "id": ""
    }
   },
   "outputs": [],
   "source": [
    "julia> function tryeval()\n",
    "           @eval newfun() = 1\n",
    "           newfun()\n",
    "       end\n",
    "tryeval (generic function with 1 method)\n",
    "\n",
    "julia> tryeval()\n",
    "ERROR: MethodError: no method matching newfun()\n",
    "The applicable method may be too new: running in world age xxxx1, while current world is xxxx2.\n",
    "Closest candidates are:\n",
    "  newfun() at none:1 (method too new to be called from this world context.)\n",
    " in tryeval() at none:1\n",
    " ...\n",
    "\n",
    "julia> newfun()\n",
    "1"
   ]
  },
  {
   "cell_type": "markdown",
   "id": "84122063",
   "metadata": {},
   "source": [
    "在这个例子中看到`newfun`的新定义已经被创建，但是并不能立即调用。新的全局变量立即对`tryeval`函数可见，所以你可以写`return newfun`（没有小括号）。但是你，你的调用器，和他们调用的函数等等都不能调用这个新的方法定义！\n",
    "\n",
    "但是这里有个例外：之后的*在 REPL 中*的 `newfun` 的调用会按照预期工作，能够见到并调用`newfun` 的新定义。\n",
    "\n",
    "但是，之后的 `tryeval` 的调用将会继续看到 `newfun` 的定义，因为该定义*位于 REPL 的前一个语句中*并因此在之后的 `tryeval` 的调用之前。\n",
    "\n",
    "你可以试试这个来让自己了解这是如何工作的。\n",
    "\n",
    "这个行为的实现通过一个「world age 计数器」。这个单调递增的值会跟踪每个方法定义操作。此计数器允许用单个数字描述「对于给定运行时环境可见的方法定义集」，或者说「world age」。它还允许仅仅通过其序数值来比较在两个 world 中可用的方法。在上例中，我们看到（方法 `newfun` 所存在的）「current world」比局部于任务的「runtime world」大一，后者在 `tryeval` 开始执行时是固定的。\n",
    "\n",
    "有时规避这个是必要的（例如，如果你在实现上面的REPL）。幸运的是这里有个简单地解决方法：使用[`Base.invokelatest`](@ref)调用函数："
   ]
  },
  {
   "cell_type": "code",
   "execution_count": null,
   "id": "3993ad19",
   "metadata": {
    "attributes": {
     "classes": [
      "jldoctest"
     ],
     "id": ""
    }
   },
   "outputs": [],
   "source": [
    "julia> function tryeval2()\n",
    "           @eval newfun2() = 2\n",
    "           Base.invokelatest(newfun2)\n",
    "       end\n",
    "tryeval2 (generic function with 1 method)\n",
    "\n",
    "julia> tryeval2()\n",
    "2"
   ]
  },
  {
   "cell_type": "markdown",
   "id": "51181169",
   "metadata": {},
   "source": [
    "最后，让我们看一些这个规则生效的更复杂的例子。\n",
    "定义一个函数`f(x)`，最开始有一个方法："
   ]
  },
  {
   "cell_type": "code",
   "execution_count": null,
   "id": "33d474a3",
   "metadata": {},
   "outputs": [],
   "source": [
    "julia> f(x) = \"original definition\"\n",
    "f (generic function with 1 method)"
   ]
  },
  {
   "cell_type": "markdown",
   "id": "6856bf05",
   "metadata": {},
   "source": [
    "开始一些使用`f(x)`的运算："
   ]
  },
  {
   "cell_type": "code",
   "execution_count": null,
   "id": "75ddd917",
   "metadata": {},
   "outputs": [],
   "source": [
    "julia> g(x) = f(x)\n",
    "g (generic function with 1 method)\n",
    "\n",
    "julia> t = @async f(wait()); yield();"
   ]
  },
  {
   "cell_type": "markdown",
   "id": "f19e15ce",
   "metadata": {},
   "source": [
    "现在我们给`f(x)`加上一些新的方法："
   ]
  },
  {
   "cell_type": "code",
   "execution_count": null,
   "id": "e64fd820",
   "metadata": {},
   "outputs": [],
   "source": [
    "julia> f(x::Int) = \"definition for Int\"\n",
    "f (generic function with 2 methods)\n",
    "\n",
    "julia> f(x::Type{Int}) = \"definition for Type{Int}\"\n",
    "f (generic function with 3 methods)"
   ]
  },
  {
   "cell_type": "markdown",
   "id": "82f39c3f",
   "metadata": {},
   "source": [
    "比较一下这些结果如何不同："
   ]
  },
  {
   "cell_type": "code",
   "execution_count": null,
   "id": "0ce8323f",
   "metadata": {},
   "outputs": [],
   "source": [
    "julia> f(1)\n",
    "\"definition for Int\"\n",
    "\n",
    "julia> g(1)\n",
    "\"definition for Int\"\n",
    "\n",
    "julia> fetch(schedule(t, 1))\n",
    "\"original definition\"\n",
    "\n",
    "julia> t = @async f(wait()); yield();\n",
    "\n",
    "julia> fetch(schedule(t, 1))\n",
    "\"definition for Int\""
   ]
  },
  {
   "cell_type": "markdown",
   "id": "8b5ce7ae",
   "metadata": {},
   "source": [
    "## 使用参数方法设计样式\n",
    "\n",
    "\n",
    "虽然复杂的分派逻辑对于性能或者可用性并不是必须的，但是有时这是表达某些算法的最好的方法。\n",
    "这里有一些常见的设计样式，在以这个方法使用分派时有时会出现。\n",
    "\n",
    "### 从超类型中提取出类型参数\n",
    "\n",
    "\n",
    "以下是一个正确的代码模板，用于返回具有明确定义的元素类型的 `AbstractArray` 的任意子类型的元素类型 `T`："
   ]
  },
  {
   "cell_type": "code",
   "execution_count": null,
   "id": "1ee3a93c",
   "metadata": {
    "attributes": {
     "classes": [
      "julia"
     ],
     "id": ""
    }
   },
   "outputs": [],
   "source": [
    "abstract type AbstractArray{T, N} end\n",
    "eltype(::Type{<:AbstractArray{T}}) where {T} = T"
   ]
  },
  {
   "cell_type": "markdown",
   "id": "2902414c",
   "metadata": {},
   "source": [
    "使用所谓的三角派发。 请注意，`UnionAll` 类型，对于示例`eltype(AbstractArray{T} where T <: Integer)`，与上述方法不符。 在这种情况下，`Base` 中 `eltype` 的实现为 `Any` 增加了一个回退方法。\n",
    "\n",
    "\n",
    "一个常见的错误是试着使用内省来得到元素类型："
   ]
  },
  {
   "cell_type": "code",
   "execution_count": null,
   "id": "ec85ce55",
   "metadata": {
    "attributes": {
     "classes": [
      "julia"
     ],
     "id": ""
    }
   },
   "outputs": [],
   "source": [
    "eltype_wrong(::Type{A}) where {A<:AbstractArray} = A.parameters[1]"
   ]
  },
  {
   "cell_type": "markdown",
   "id": "68a10efb",
   "metadata": {},
   "source": [
    "但是创建一个这个方法会失败的情况不难："
   ]
  },
  {
   "cell_type": "code",
   "execution_count": null,
   "id": "ca25bfcf",
   "metadata": {
    "attributes": {
     "classes": [
      "julia"
     ],
     "id": ""
    }
   },
   "outputs": [],
   "source": [
    "struct BitVector <: AbstractArray{Bool, 1}; end"
   ]
  },
  {
   "cell_type": "markdown",
   "id": "d540f0a7",
   "metadata": {},
   "source": [
    "这里我们已经创建了一个没有参数的类型`BitVector`，但是元素类型已经完全指定了，`T`等于`Bool`！\n",
    "\n",
    "\n",
    "另一个错误是尝试使用 `supertype` 沿着类型层次结构向上走："
   ]
  },
  {
   "cell_type": "code",
   "execution_count": null,
   "id": "256884f9",
   "metadata": {
    "attributes": {
     "classes": [
      "julia"
     ],
     "id": ""
    }
   },
   "outputs": [],
   "source": [
    "eltype_wrong(::Type{AbstractArray{T}}) where {T} = T\n",
    "eltype_wrong(::Type{AbstractArray{T, N}}) where {T, N} = T\n",
    "eltype_wrong(::Type{A}) where {A<:AbstractArray} = eltype_wrong(supertype(A))"
   ]
  },
  {
   "cell_type": "markdown",
   "id": "85fdc46f",
   "metadata": {},
   "source": [
    "虽然这适用于声明的类型，但对于不适用于没有超类型的类型："
   ]
  },
  {
   "cell_type": "code",
   "execution_count": null,
   "id": "ff9cc2cb",
   "metadata": {
    "attributes": {
     "classes": [
      "julia-repl"
     ],
     "id": ""
    }
   },
   "outputs": [],
   "source": [
    "julia> eltype_wrong(Union{AbstractArray{Int}, AbstractArray{Float64}})\n",
    "ERROR: MethodError: no method matching supertype(::Type{Union{AbstractArray{Float64,N} where N, AbstractArray{Int64,N} where N}})\n",
    "Closest candidates are:\n",
    "  supertype(::DataType) at operators.jl:43\n",
    "  supertype(::UnionAll) at operators.jl:48"
   ]
  },
  {
   "cell_type": "markdown",
   "id": "eceae61f",
   "metadata": {},
   "source": [
    "### 用不同的类型参数构建相似的类型\n",
    "\n",
    "当构建通用代码时，通常需要创建一些类似对象，在类型的布局上有一些变化，这就也让类型参数的变化变得必要。\n",
    "例如，你会有一些任意元素类型的抽象数组，想使用特定的元素类型来编写你基于它的计算。你必须实现为每个`AbstractArray{T}`的子类型实现方法，这些方法描述了如何计算类型转换。从一个子类型转化成拥有一个不同参数的另一个子类型的通用方法在这里不存在。（快速复习：你明白为什么吗？）\n",
    "\n",
    "`AbstractArray`的子类型典型情况下会实现两个方法来完成这个：\n",
    "一个方法把输入输入转换成特定的`AbstractArray{T,N}`抽象类型的子类型；一个方法用特定的元素类型构建一个新的未初始化的数组。这些的样例实现可以在Julia Base里面找到。这里是一个基础的样例使用，保证`输入`与`输出`是同一种类型："
   ]
  },
  {
   "cell_type": "code",
   "execution_count": null,
   "id": "319a9d79",
   "metadata": {
    "attributes": {
     "classes": [
      "julia"
     ],
     "id": ""
    }
   },
   "outputs": [],
   "source": [
    "input = convert(AbstractArray{Eltype}, input)\n",
    "output = similar(input, Eltype)"
   ]
  },
  {
   "cell_type": "markdown",
   "id": "b941c89e",
   "metadata": {},
   "source": [
    "作为这个的扩展，在算法需要输入数组的拷贝的情况下，[`convert`](@ref)使无法胜任的，因为返回值可能只是原始输入的别名。把[`similar`](@ref)（构建输出数组）和[`copyto!`](@ref)（用输入数据填满）结合起来是需要给出输入参数的可变拷贝的一个范用方法："
   ]
  },
  {
   "cell_type": "code",
   "execution_count": null,
   "id": "8b6cc18a",
   "metadata": {
    "attributes": {
     "classes": [
      "julia"
     ],
     "id": ""
    }
   },
   "outputs": [],
   "source": [
    "copy_with_eltype(input, Eltype) = copyto!(similar(input, Eltype), input)"
   ]
  },
  {
   "cell_type": "markdown",
   "id": "44946a20",
   "metadata": {},
   "source": [
    "### 迭代分派\n",
    "\n",
    "为了分派一个多层的参数参量列表，将每一层分派分开到不同的函数中常常是最好的。这可能听起来跟单分派的方法相似，但是你会在下面见到，这个更加灵活。\n",
    "\n",
    "例如，尝试按照数组的元素类型进行分派常常会引起歧义。相反地，常见的代码会首先按照容易类型分派，然后基于eltype递归到更加更加专用的方法。在大部分情况下，算法会很方便地就屈从与这个分层方法，在其他情况下，这种严苛的工作必须手动解决。这个分派分支能被观察到，例如在两个矩阵的加法的逻辑中："
   ]
  },
  {
   "cell_type": "code",
   "execution_count": null,
   "id": "171e1500",
   "metadata": {
    "attributes": {
     "classes": [
      "julia"
     ],
     "id": ""
    }
   },
   "outputs": [],
   "source": [
    "# 首先分派选择了逐元素相加的map算法。\n",
    "+(a::Matrix, b::Matrix) = map(+, a, b)\n",
    "# 然后分派处理了每个元素然后选择了计算的\n",
    "# 恰当的常见元素类型。\n",
    "+(a, b) = +(promote(a, b)...)\n",
    "# 一旦元素有了相同类型，它们就可以相加。\n",
    "# 例如，通过处理器暴露出的原始运算。\n",
    "+(a::Float64, b::Float64) = Core.add(a, b)"
   ]
  },
  {
   "cell_type": "markdown",
   "id": "801de0c4",
   "metadata": {},
   "source": [
    "### 基于 Trait 的分派\n",
    "\n",
    "对于上面的可迭代分派的一个自然扩展是给方法选择加一个内涵层，这个层允许按照那些与类型层级定义的集合相独立的类型的集合来分派。我们可以通过写出问题中的类型的一个`Union`来创建这个一个集合，但是这不能够扩展，因为`Union`类型在创建之后无法改变。但是这么一个可扩展的集合可以通过一个叫做[\"Holy-trait\"](https://github.com/JuliaLang/julia/issues/2345#issuecomment-54537633)的一个设计样式来实现。\n",
    "\n",
    "这个样式是通过定义一个范用函数来实现，这个函数为函数参数可能属于的每个trait集合都计算出不同的单例值（或者类型）。如果这个函数是单纯的，这与通常的分派对于性能没有任何影响。\n",
    "\n",
    "上一部分中的示例掩盖了 [`map`](@ref) 和 [`promote`](@ref) 的实现细节，这两个都是依据trait来进行运算的。 在迭代矩阵时，例如在 `map` 的实现中，一个重要的问题是使用什么顺序遍历数据。 当 `AbstractArray` 子类型实现 [`Base.IndexStyle`](@ref) trait 时，`map` 等其他函数可以根据此信息进行派发以选择最佳算法（请参阅 [抽象数组接口](@ref man-interface-array））。这意味着每个子类型不需要实现`map`的自定义版本，因为通用定义+trait类将使系统能够选择最快的版本。 下面是 `map` 的一个简单实现，说明了基于 trait 的调度："
   ]
  },
  {
   "cell_type": "code",
   "execution_count": null,
   "id": "72877af5",
   "metadata": {
    "attributes": {
     "classes": [
      "julia"
     ],
     "id": ""
    }
   },
   "outputs": [],
   "source": [
    "map(f, a::AbstractArray, b::AbstractArray) = map(Base.IndexStyle(a, b), f, a, b)\n",
    "# generic implementation:\n",
    "map(::Base.IndexCartesian, f, a::AbstractArray, b::AbstractArray) = ...\n",
    "# linear-indexing implementation (faster)\n",
    "map(::Base.IndexLinear, f, a::AbstractArray, b::AbstractArray) = ..."
   ]
  },
  {
   "cell_type": "markdown",
   "id": "a394ac08",
   "metadata": {},
   "source": [
    "这个基于trait的方法也出现在[`promote`](@ref)机制中，被标量`+`使用。\n",
    "它使用了[`promote_type`](@ref)，这在知道两个计算对象的类型的情况下返回计算这个运算的最佳的常用类型。这就使得我们不用为每一对可能的类型参数实现每一个函数，而把问题简化为对于每个类型实现一个类型转换运算这样一个小很多的问题，还有一个优选的逐对的类型提升规则的表格。\n",
    "\n",
    "\n",
    "### 输出类型计算\n",
    "\n",
    "基于trait的类型提升的讨论可以过渡到我们的下一个设计样式：为矩阵运算计算输出元素类型。\n",
    "\n",
    "为了实现像加法这样的原始运算，我们使用[`promote_type`](@ref)函数来计算想要的输出类型。（像之前一样，我们在`+`调用中的`promote`调用中见到了这个工作）。\n",
    "\n",
    "对于矩阵的更加复杂的函数，对于更加复杂的运算符序列来计算预期的返回类型是必要的。这经常按下列步骤进行：\n",
    "\n",
    "1. 编写一个小函数`op`来表示算法核心中使用的运算的集合。\n",
    "2. 使用`promote_op(op, argument_types...)`计算结果矩阵的元素类型`R`，\n",
    "   这里`argument_types`是通过应用到每个输入数组的`eltype`计算的。\n",
    "3. 创建类似于`similar(R, dims)`的输出矩阵，这里`dims`是输出矩阵的预期维度数。\n",
    "\n",
    "作为一个更加具体的例子，一个范用的方阵乘法的伪代码是："
   ]
  },
  {
   "cell_type": "code",
   "execution_count": null,
   "id": "8f777243",
   "metadata": {
    "attributes": {
     "classes": [
      "julia"
     ],
     "id": ""
    }
   },
   "outputs": [],
   "source": [
    "function matmul(a::AbstractMatrix, b::AbstractMatrix)\n",
    "    op = (ai, bi) -> ai * bi + ai * bi\n",
    "\n",
    "    ## this is insufficient because it assumes `one(eltype(a))` is constructable:\n",
    "    # R = typeof(op(one(eltype(a)), one(eltype(b))))\n",
    "\n",
    "    ## this fails because it assumes `a[1]` exists and is representative of all elements of the array\n",
    "    # R = typeof(op(a[1], b[1]))\n",
    "\n",
    "    ## this is incorrect because it assumes that `+` calls `promote_type`\n",
    "    ## but this is not true for some types, such as Bool:\n",
    "    # R = promote_type(ai, bi)\n",
    "\n",
    "    # this is wrong, since depending on the return value\n",
    "    # of type-inference is very brittle (as well as not being optimizable):\n",
    "    # R = Base.return_types(op, (eltype(a), eltype(b)))\n",
    "\n",
    "    ## but, finally, this works:\n",
    "    R = promote_op(op, eltype(a), eltype(b))\n",
    "    ## although sometimes it may give a larger type than desired\n",
    "    ## it will always give a correct type\n",
    "\n",
    "    output = similar(b, R, (size(a, 1), size(b, 2)))\n",
    "    if size(a, 2) > 0\n",
    "        for j in 1:size(b, 2)\n",
    "            for i in 1:size(a, 1)\n",
    "                ## here we don't use `ab = zero(R)`,\n",
    "                ## since `R` might be `Any` and `zero(Any)` is not defined\n",
    "                ## we also must declare `ab::R` to make the type of `ab` constant in the loop,\n",
    "                ## since it is possible that typeof(a * b) != typeof(a * b + a * b) == R\n",
    "                ab::R = a[i, 1] * b[1, j]\n",
    "                for k in 2:size(a, 2)\n",
    "                    ab += a[i, k] * b[k, j]\n",
    "                end\n",
    "                output[i, j] = ab\n",
    "            end\n",
    "        end\n",
    "    end\n",
    "    return output\n",
    "end"
   ]
  },
  {
   "cell_type": "markdown",
   "id": "0b5d8a75",
   "metadata": {},
   "source": [
    "### 分离转换和内核逻辑\n",
    "\n",
    "能有效减少编译时间和测试复杂度的一个方法是将预期的类型和计算转换的逻辑隔离。这会让编译器将与大型内核的其他部分相独立的类型转换逻辑特别化并内联。\n",
    "\n",
    "将更大的类型类转换成被算法实际支持的特定参数类是一个常见的设计样式："
   ]
  },
  {
   "cell_type": "code",
   "execution_count": null,
   "id": "af099500",
   "metadata": {
    "attributes": {
     "classes": [
      "julia"
     ],
     "id": ""
    }
   },
   "outputs": [],
   "source": [
    "complexfunction(arg::Int) = ...\n",
    "complexfunction(arg::Any) = complexfunction(convert(Int, arg))\n",
    "\n",
    "matmul(a::T, b::T) = ...\n",
    "matmul(a, b) = matmul(promote(a, b)...)"
   ]
  },
  {
   "cell_type": "markdown",
   "id": "d05c7d51",
   "metadata": {},
   "source": [
    "## 参数化约束的可变参数方法\n",
    "\n",
    "函数参数也可以用于约束应用于\"可变参数\"函数（[变参函数](@ref)）的参数的数量。`Vararg{T,N}` 可用于表明这么一个约束。举个例子："
   ]
  },
  {
   "cell_type": "code",
   "execution_count": null,
   "id": "c658cf15",
   "metadata": {
    "attributes": {
     "classes": [
      "jldoctest"
     ],
     "id": ""
    }
   },
   "outputs": [],
   "source": [
    "julia> bar(a,b,x::Vararg{Any,2}) = (a,b,x)\n",
    "bar (generic function with 1 method)\n",
    "\n",
    "julia> bar(1,2,3)\n",
    "ERROR: MethodError: no method matching bar(::Int64, ::Int64, ::Int64)\n",
    "Closest candidates are:\n",
    "  bar(::Any, ::Any, ::Any, !Matched::Any) at none:1\n",
    "\n",
    "julia> bar(1,2,3,4)\n",
    "(1, 2, (3, 4))\n",
    "\n",
    "julia> bar(1,2,3,4,5)\n",
    "ERROR: MethodError: no method matching bar(::Int64, ::Int64, ::Int64, ::Int64, ::Int64)\n",
    "Closest candidates are:\n",
    "  bar(::Any, ::Any, ::Any, ::Any) at none:1"
   ]
  },
  {
   "cell_type": "markdown",
   "id": "6a181925",
   "metadata": {},
   "source": [
    "更加有用的是，用一个参数就约束可变参数的方法是可能的。例如："
   ]
  },
  {
   "cell_type": "code",
   "execution_count": null,
   "id": "488a7fad",
   "metadata": {
    "attributes": {
     "classes": [
      "julia"
     ],
     "id": ""
    }
   },
   "outputs": [],
   "source": [
    "function getindex(A::AbstractArray{T,N}, indices::Vararg{Number,N}) where {T,N}"
   ]
  },
  {
   "cell_type": "markdown",
   "id": "5b6bb020",
   "metadata": {},
   "source": [
    "只会在`indices`的个数与数组的维数相同时才会调用。\n",
    "\n",
    "当只有提供的参数的类型需要被约束时，`Vararg{T}`可以写成`T...`。例如`f(x::Int...) = x`是`f(x::Vararg{Int}) = x`的简便写法。\n",
    "\n",
    "## 可选参数和关键字的参数的注意事项\n",
    "\n",
    "与在[函数](@ref man-functions)中简要提到的一样，可选参数是使用多方法定义语法来实现的。例如，这个定义："
   ]
  },
  {
   "cell_type": "code",
   "execution_count": null,
   "id": "e8811577",
   "metadata": {
    "attributes": {
     "classes": [
      "julia"
     ],
     "id": ""
    }
   },
   "outputs": [],
   "source": [
    "f(a=1,b=2) = a+2b"
   ]
  },
  {
   "cell_type": "markdown",
   "id": "ea35e894",
   "metadata": {},
   "source": [
    "翻译成下列三个方法："
   ]
  },
  {
   "cell_type": "code",
   "execution_count": null,
   "id": "a2a6f5e6",
   "metadata": {
    "attributes": {
     "classes": [
      "julia"
     ],
     "id": ""
    }
   },
   "outputs": [],
   "source": [
    "f(a,b) = a+2b\n",
    "f(a) = f(a,2)\n",
    "f() = f(1,2)"
   ]
  },
  {
   "cell_type": "markdown",
   "id": "af9e9615",
   "metadata": {},
   "source": [
    "这就意味着调用`f()`等于调用`f(1,2)`。在这个情况下结果是`5`，因为`f(1,2)`使用的是上面`f`的第一个方法。但是，不总是需要是这种情况。如果你定义了第四个对于整数更加专用的方法："
   ]
  },
  {
   "cell_type": "code",
   "execution_count": null,
   "id": "05516f87",
   "metadata": {
    "attributes": {
     "classes": [
      "julia"
     ],
     "id": ""
    }
   },
   "outputs": [],
   "source": [
    "f(a::Int,b::Int) = a-2b"
   ]
  },
  {
   "cell_type": "markdown",
   "id": "155e4cf5",
   "metadata": {},
   "source": [
    "此时`f()`和`f(1,2)`的结果都是`-3`。换句话说，可选参数只与函数捆绑，而不是函数的任意一个特定的方法。这个决定于使用的方法的可选参数的类型。当可选参数是用全局变量的形式定义时，可选参数的类型甚至会在运行时改变。\n",
    "\n",
    "关键字参数与普通的位置参数的行为很不一样。特别地，他们不参与到方法分派中。方法只基于位置参数分派，在匹配得方法确定之后关键字参数才会被处理。\n",
    "\n",
    "## 类函数对象\n",
    "\n",
    "方法与类型相关，所以可以通过给类型加方法使得任意一个Julia类型变得\"可被调用\"。（这个\"可调用\"的对象有时称为\"函子\"。）\n",
    "\n",
    "例如，你可以定义一个类型，存储着多项式的系数，但是行为像是一个函数，可以为多项式求值："
   ]
  },
  {
   "cell_type": "code",
   "execution_count": null,
   "id": "15dce9ec",
   "metadata": {},
   "outputs": [],
   "source": [
    "julia> struct Polynomial{R}\n",
    "           coeffs::Vector{R}\n",
    "       end\n",
    "\n",
    "julia> function (p::Polynomial)(x)\n",
    "           v = p.coeffs[end]\n",
    "           for i = (length(p.coeffs)-1):-1:1\n",
    "               v = v*x + p.coeffs[i]\n",
    "           end\n",
    "           return v\n",
    "       end\n",
    "\n",
    "julia> (p::Polynomial)() = p(5)"
   ]
  },
  {
   "cell_type": "markdown",
   "id": "cb20d399",
   "metadata": {},
   "source": [
    "注意函数是通过类型而非名字来指定的。如同普通函数一样这里有一个简洁的语法形式。在函数体内，`p`会指向被调用的对象。`Polynomial`会按如下方式使用："
   ]
  },
  {
   "cell_type": "code",
   "execution_count": null,
   "id": "b6b2db8b",
   "metadata": {},
   "outputs": [],
   "source": [
    "julia> p = Polynomial([1,10,100])\n",
    "Polynomial{Int64}([1, 10, 100])\n",
    "\n",
    "julia> p(3)\n",
    "931\n",
    "\n",
    "julia> p()\n",
    "2551"
   ]
  },
  {
   "cell_type": "markdown",
   "id": "1f9bc2fe",
   "metadata": {},
   "source": [
    "这个机制也是Julia中类型构造函数和闭包（指向其环境的内部函数）的工作原理。\n",
    "\n",
    "## 空泛型函数\n",
    "\n",
    "有时引入一个没有添加方法的范用函数是有用的。这会用于分离实现与接口定义。这也可为了文档或者代码可读性。为了这个的语法是没有参数组的一个空`函数`块："
   ]
  },
  {
   "cell_type": "code",
   "execution_count": null,
   "id": "826bf882",
   "metadata": {
    "attributes": {
     "classes": [
      "julia"
     ],
     "id": ""
    }
   },
   "outputs": [],
   "source": [
    "function emptyfunc end"
   ]
  },
  {
   "cell_type": "markdown",
   "id": "f04e2caf",
   "metadata": {},
   "source": [
    "## [方法设计与避免歧义](@id man-method-design-ambiguities)\n",
    "\n",
    "Julia的方法多态性是其最有力的特性之一，利用这个功能会带来设计上的挑战。特别地，在更加复杂的方法层级中出现[歧义](@ref man-ambiguities)不能说不常见。\n",
    "\n",
    "在上面我们曾经指出我们可以像这样解决歧义"
   ]
  },
  {
   "cell_type": "code",
   "execution_count": null,
   "id": "15ce39c2",
   "metadata": {
    "attributes": {
     "classes": [
      "julia"
     ],
     "id": ""
    }
   },
   "outputs": [],
   "source": [
    "f(x, y::Int) = 1\n",
    "f(x::Int, y) = 2"
   ]
  },
  {
   "cell_type": "markdown",
   "id": "7532e949",
   "metadata": {},
   "source": [
    "靠定义一个方法"
   ]
  },
  {
   "cell_type": "code",
   "execution_count": null,
   "id": "40565e31",
   "metadata": {
    "attributes": {
     "classes": [
      "julia"
     ],
     "id": ""
    }
   },
   "outputs": [],
   "source": [
    "f(x::Int, y::Int) = 3"
   ]
  },
  {
   "cell_type": "markdown",
   "id": "ba88dc5a",
   "metadata": {},
   "source": [
    "这通常是正确的方案； 然而，在某些情况下，盲目地遵循这一建议可能会适得其反。 特别是，泛型函数的方法越多，产生歧义的可能性就越大。 当方法层次结构变得比这个简单的示例更复杂时，仔细考虑替代策略可能是值得的。\n",
    "\n",
    "下面我们会讨论特别的一些挑战和解决这些挑战的一些可选方法。\n",
    "\n",
    "### 元组和N元组参数\n",
    "\n",
    "`Tuple`（和`NTuple`）参数会带来特别的挑战。例如，"
   ]
  },
  {
   "cell_type": "code",
   "execution_count": null,
   "id": "c338fc99",
   "metadata": {
    "attributes": {
     "classes": [
      "julia"
     ],
     "id": ""
    }
   },
   "outputs": [],
   "source": [
    "f(x::NTuple{N,Int}) where {N} = 1\n",
    "f(x::NTuple{N,Float64}) where {N} = 2"
   ]
  },
  {
   "cell_type": "markdown",
   "id": "e9c0260b",
   "metadata": {},
   "source": [
    "是有歧义的，因为存在`N == 0`的可能性：没有元素去确定`Int`还是`Float64`变体应该被调用。为了解决歧义，一个方法是为空元组定义方法："
   ]
  },
  {
   "cell_type": "code",
   "execution_count": null,
   "id": "3ceb51e8",
   "metadata": {
    "attributes": {
     "classes": [
      "julia"
     ],
     "id": ""
    }
   },
   "outputs": [],
   "source": [
    "f(x::Tuple{}) = 3"
   ]
  },
  {
   "cell_type": "markdown",
   "id": "16db9a12",
   "metadata": {},
   "source": [
    "作为一种选择，对于其中一个方法之外的所有的方法可以坚持元组中至少有一个元素："
   ]
  },
  {
   "cell_type": "code",
   "execution_count": null,
   "id": "d3ad2fce",
   "metadata": {
    "attributes": {
     "classes": [
      "julia"
     ],
     "id": ""
    }
   },
   "outputs": [],
   "source": [
    "f(x::NTuple{N,Int}) where {N} = 1           # this is the fallback\n",
    "f(x::Tuple{Float64, Vararg{Float64}}) = 2   # this requires at least one Float64"
   ]
  },
  {
   "cell_type": "markdown",
   "id": "d8fa4ee8",
   "metadata": {},
   "source": [
    "### [正交化你的设计](@id man-methods-orthogonalize)\n",
    "\n",
    "当你打算根据两个或更多的参数进行分派时，考虑一下，一个「包裹」函数是否会让设计简单一些。举个例子，与其编写多变量："
   ]
  },
  {
   "cell_type": "code",
   "execution_count": null,
   "id": "454c3218",
   "metadata": {
    "attributes": {
     "classes": [
      "julia"
     ],
     "id": ""
    }
   },
   "outputs": [],
   "source": [
    "f(x::A, y::A) = ...\n",
    "f(x::A, y::B) = ...\n",
    "f(x::B, y::A) = ...\n",
    "f(x::B, y::B) = ..."
   ]
  },
  {
   "cell_type": "markdown",
   "id": "744f0656",
   "metadata": {},
   "source": [
    "不如考虑定义"
   ]
  },
  {
   "cell_type": "code",
   "execution_count": null,
   "id": "3152a8c0",
   "metadata": {
    "attributes": {
     "classes": [
      "julia"
     ],
     "id": ""
    }
   },
   "outputs": [],
   "source": [
    "f(x::A, y::A) = ...\n",
    "f(x, y) = f(g(x), g(y))"
   ]
  },
  {
   "cell_type": "markdown",
   "id": "8c4e5a63",
   "metadata": {},
   "source": [
    "这里`g`把参数转变为类型`A`。这是更加普遍的[正交设计](https://en.wikipedia.org/wiki/Orthogonality_(programming))原理的一个特别特殊的例子，在正交设计中不同的概念被分配到不同的方法中去。这里`g`最可能需要一个fallback定义"
   ]
  },
  {
   "cell_type": "code",
   "execution_count": null,
   "id": "903adecb",
   "metadata": {
    "attributes": {
     "classes": [
      "julia"
     ],
     "id": ""
    }
   },
   "outputs": [],
   "source": [
    "g(x::A) = x"
   ]
  },
  {
   "cell_type": "markdown",
   "id": "71434bd3",
   "metadata": {},
   "source": [
    "一个相关的方案使用`promote`来把`x`和`y`变成常见的类型："
   ]
  },
  {
   "cell_type": "code",
   "execution_count": null,
   "id": "312d9681",
   "metadata": {
    "attributes": {
     "classes": [
      "julia"
     ],
     "id": ""
    }
   },
   "outputs": [],
   "source": [
    "f(x::T, y::T) where {T} = ...\n",
    "f(x, y) = f(promote(x, y)...)"
   ]
  },
  {
   "cell_type": "markdown",
   "id": "9a2d1a4e",
   "metadata": {},
   "source": [
    "这个设计的一个隐患是：如果没有合适的把 `x` 和 `y` 转换到同样类型的类型提升方法，第二个方法就可能无限自递归然后引发堆溢出。\n",
    "\n",
    "### 一次只根据一个参数分派\n",
    "\n",
    "如果你你需要根据多个参数进行分派，并且有太多的为了能定义所有可能的变量而存在的组合，而存在很多回退函数，你可以考虑引入\"名字级联\"，这里（例如）你根据第一个参数分配然后调用一个内部的方法："
   ]
  },
  {
   "cell_type": "code",
   "execution_count": null,
   "id": "94024314",
   "metadata": {
    "attributes": {
     "classes": [
      "julia"
     ],
     "id": ""
    }
   },
   "outputs": [],
   "source": [
    "f(x::A, y) = _fA(x, y)\n",
    "f(x::B, y) = _fB(x, y)"
   ]
  },
  {
   "cell_type": "markdown",
   "id": "adf058a8",
   "metadata": {},
   "source": [
    "接着内部方法`_fA`和`_fB`可以根据`y`进行分派，而不考虑有关`x`的歧义存在。\n",
    "\n",
    "需要意识到这个方案至少有一个主要的缺点：在很多情况下，用户没有办法通过进一步定义你的输出函数`f`的具体行为来进一步定制`f`的行为。相反，他们需要去定义你的内部方法`_fA`和`_fB`的具体行为，这会模糊输出方法和内部方法之间的界线。\n",
    "\n",
    "### 抽象容器与元素类型\n",
    "\n",
    "在可能的情况下要试图避免定义根据抽象容器的具体元素类型来分派的方法。举个例子，"
   ]
  },
  {
   "cell_type": "code",
   "execution_count": null,
   "id": "a7c643bf",
   "metadata": {
    "attributes": {
     "classes": [
      "julia"
     ],
     "id": ""
    }
   },
   "outputs": [],
   "source": [
    "-(A::AbstractArray{T}, b::Date) where {T<:Date}"
   ]
  },
  {
   "cell_type": "markdown",
   "id": "d12271ad",
   "metadata": {},
   "source": [
    "会引起歧义，当定义了这个方法："
   ]
  },
  {
   "cell_type": "code",
   "execution_count": null,
   "id": "0b5d6ca0",
   "metadata": {
    "attributes": {
     "classes": [
      "julia"
     ],
     "id": ""
    }
   },
   "outputs": [],
   "source": [
    "-(A::MyArrayType{T}, b::T) where {T}"
   ]
  },
  {
   "cell_type": "markdown",
   "id": "98729735",
   "metadata": {},
   "source": [
    "最好的方法是不要定义这些方法中的*任何一个*。相反，使用范用方法`-(A::AbstractArray, b)`并确认这个方法是使用*分别*对于每个容器类型和元素类型都是适用的通用调用(像`similar`和`-`)实现的。这只是建议[正交化](@ref man-methods-orthogonalize)你的方法的一个更加复杂的变种而已。\n",
    "\n",
    "当这个方法不可行时，这就值得与其他开发者开始讨论如果解决歧义；只是因为一个函数先定义并不总是意味着他不能改变或者被移除。作为最后一个手段，开发者可以定义\"创可贴\"方法"
   ]
  },
  {
   "cell_type": "code",
   "execution_count": null,
   "id": "ad443f20",
   "metadata": {
    "attributes": {
     "classes": [
      "julia"
     ],
     "id": ""
    }
   },
   "outputs": [],
   "source": [
    "-(A::MyArrayType{T}, b::Date) where {T<:Date} = ..."
   ]
  },
  {
   "cell_type": "markdown",
   "id": "7a7e6414",
   "metadata": {},
   "source": [
    "可以暴力解决歧义。\n",
    "\n",
    "### 与默认参数的复杂方法\"级联\"\n",
    "\n",
    "如果你定义了提供默认的方法\"级联\"，要小心去掉对应着潜在默认的任何参数。例如，假设你在写一个数字过滤算法，你有一个通过应用padding来出来信号的边的方法："
   ]
  },
  {
   "cell_type": "code",
   "execution_count": null,
   "id": "20a33236",
   "metadata": {
    "attributes": {
     "classes": [
      "julia"
     ],
     "id": ""
    }
   },
   "outputs": [],
   "source": [
    "function myfilter(A, kernel, ::Replicate)\n",
    "    Apadded = replicate_edges(A, size(kernel))\n",
    "    myfilter(Apadded, kernel)  # now perform the \"real\" computation\n",
    "end"
   ]
  },
  {
   "cell_type": "markdown",
   "id": "a1964b6a",
   "metadata": {},
   "source": [
    "这会与提供默认padding的方法产生冲突："
   ]
  },
  {
   "cell_type": "code",
   "execution_count": null,
   "id": "58019bdb",
   "metadata": {
    "attributes": {
     "classes": [
      "julia"
     ],
     "id": ""
    }
   },
   "outputs": [],
   "source": [
    "myfilter(A, kernel) = myfilter(A, kernel, Replicate()) # replicate the edge by default"
   ]
  },
  {
   "cell_type": "markdown",
   "id": "11758598",
   "metadata": {},
   "source": [
    "这两个方法一起会生成无限的递归，`A`会不断变大。\n",
    "\n",
    "更好的设计是像这样定义你的调用层级："
   ]
  },
  {
   "cell_type": "code",
   "execution_count": null,
   "id": "3b5290f8",
   "metadata": {
    "attributes": {
     "classes": [
      "julia"
     ],
     "id": ""
    }
   },
   "outputs": [],
   "source": [
    "struct NoPad end  # indicate that no padding is desired, or that it's already applied\n",
    "\n",
    "myfilter(A, kernel) = myfilter(A, kernel, Replicate())  # default boundary conditions\n",
    "\n",
    "function myfilter(A, kernel, ::Replicate)\n",
    "    Apadded = replicate_edges(A, size(kernel))\n",
    "    myfilter(Apadded, kernel, NoPad())  # indicate the new boundary conditions\n",
    "end\n",
    "\n",
    "# other padding methods go here\n",
    "\n",
    "function myfilter(A, kernel, ::NoPad)\n",
    "    # Here's the \"real\" implementation of the core computation\n",
    "end"
   ]
  },
  {
   "cell_type": "markdown",
   "id": "17679831",
   "metadata": {},
   "source": [
    "`NoPad` 被置于与其他 padding 类型一致的参数位置上，这保持了分派层级的良好组织，同时降低了歧义的可能性。而且，它扩展了「公开」的 `myfilter` 接口：想要显式控制 padding 的用户可以直接调用 `NoPad` 变量。\n",
    "\n",
    "[^Clarke61]: Arthur C. Clarke, *Profiles of the Future* (1961): Clarke's Third Law."
   ]
  }
 ],
 "metadata": {},
 "nbformat": 4,
 "nbformat_minor": 5
}
