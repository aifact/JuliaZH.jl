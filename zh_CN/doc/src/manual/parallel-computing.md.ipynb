{
 "cells": [
  {
   "cell_type": "markdown",
   "id": "a28867a6",
   "metadata": {},
   "source": [
    "# 并行计算\n",
    "\n",
    "Julia supports three main categories of features for concurrent and parallel programming:\n",
    "\n",
    "1. Asynchronous \"tasks\", or coroutines\n",
    "2. Multi-threading\n",
    "3. Distributed computing\n",
    "\n",
    "Julia Tasks allow suspending and resuming computations\n",
    "for I/O, event handling, producer-consumer processes, and similar patterns.\n",
    "Tasks can synchronize through operations like [`wait`](@ref) and [`fetch`](@ref), and\n",
    "communicate via [`Channel`](@ref)s.\n",
    "\n",
    "Multi-threading functionality builds on tasks by allowing them to run simultaneously\n",
    "on more than one thread or CPU core, sharing memory.\n",
    "\n",
    "Finally, distributed computing runs multiple processes with separate memory spaces,\n",
    "potentially on different machines.\n",
    "This functionality is provided by the `Distributed` standard library as well as\n",
    "external packages like `MPI.jl` and `DistributedArrays.jl`."
   ]
  }
 ],
 "metadata": {},
 "nbformat": 4,
 "nbformat_minor": 5
}
